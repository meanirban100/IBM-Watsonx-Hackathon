{
 "cells": [
  {
   "cell_type": "markdown",
   "metadata": {},
   "source": [
    "#### Import the required libraries"
   ]
  },
  {
   "cell_type": "code",
   "execution_count": 19,
   "metadata": {},
   "outputs": [],
   "source": [
    "import pandas as pd\n",
    "from datasets import load_dataset\n",
    "from datetime import datetime, timedelta\n",
    "import random\n",
    "import os\n",
    "\n",
    "import requests\n",
    "from ibm_watson import IAMTokenManager\n",
    "\n",
    "from tqdm import tqdm\n",
    "\n",
    "pd.set_option(\"display.max_rows\", None)  # Display all rows\n",
    "pd.set_option(\"display.max_columns\", None)  # Display all columns\n",
    "pd.set_option(\"display.max_colwidth\", None)  # Display full content of each cell\n",
    "tqdm.pandas()"
   ]
  },
  {
   "cell_type": "markdown",
   "metadata": {},
   "source": [
    "#### Load the Ecommerce Datasets \n",
    "##### Dataset Type - E-Commerce Customer Support Conversations\n",
    "\n",
    "##### Data Source - https://huggingface.co/datasets/NebulaByte/E-Commerce_Customer_Support_Conversations"
   ]
  },
  {
   "cell_type": "code",
   "execution_count": 2,
   "metadata": {},
   "outputs": [],
   "source": [
    "dataset = load_dataset(\"NebulaByte/E-Commerce_Customer_Support_Conversations\")\n",
    "train_data = dataset[\"train\"]\n",
    "customer_conversation = train_data.to_pandas()[\n",
    "    [\"conversation\"]\n",
    "]  ### Consider the conversation column only"
   ]
  },
  {
   "cell_type": "markdown",
   "metadata": {},
   "source": [
    "#### Extrapolate the data (Add call_recording_date and customer_location)"
   ]
  },
  {
   "cell_type": "code",
   "execution_count": 3,
   "metadata": {},
   "outputs": [],
   "source": [
    "def random_date_generation(delta: int = 10):\n",
    "    end_date = datetime.now()\n",
    "    start_date = end_date - timedelta(days=delta)\n",
    "    random_timestamp = start_date + timedelta(\n",
    "        days=random.randint(0, 10),\n",
    "        hours=random.randint(0, 23),\n",
    "        minutes=random.randint(0, 59),\n",
    "        seconds=random.randint(0, 59),\n",
    "    )\n",
    "    return random_timestamp\n",
    "\n",
    "\n",
    "customer_conversation[\"recording_date\"] = [\n",
    "    random_date_generation() for _ in range(len(customer_conversation))\n",
    "]\n",
    "\n",
    "locations = [\"New York, NY\", \"Boston, MA\", \"Philadelphia, PA\", \"Washington, D.C.\"]\n",
    "\n",
    "customer_conversation[\"location\"] = [\n",
    "    random.choice(locations) for _ in range(len(customer_conversation))\n",
    "]"
   ]
  },
  {
   "cell_type": "markdown",
   "metadata": {},
   "source": [
    "#### Preview the data\n"
   ]
  },
  {
   "cell_type": "code",
   "execution_count": 4,
   "metadata": {},
   "outputs": [
    {
     "data": {
      "text/html": [
       "<div>\n",
       "<style scoped>\n",
       "    .dataframe tbody tr th:only-of-type {\n",
       "        vertical-align: middle;\n",
       "    }\n",
       "\n",
       "    .dataframe tbody tr th {\n",
       "        vertical-align: top;\n",
       "    }\n",
       "\n",
       "    .dataframe thead th {\n",
       "        text-align: right;\n",
       "    }\n",
       "</style>\n",
       "<table border=\"1\" class=\"dataframe\">\n",
       "  <thead>\n",
       "    <tr style=\"text-align: right;\">\n",
       "      <th></th>\n",
       "      <th>conversation</th>\n",
       "      <th>recording_date</th>\n",
       "      <th>location</th>\n",
       "    </tr>\n",
       "  </thead>\n",
       "  <tbody>\n",
       "    <tr>\n",
       "      <th>0</th>\n",
       "      <td>Agent: Thank you for calling BrownBox Customer Support. My name is Tom. How may I assist you today?\\n\\nCustomer: Hi Tom, I'm trying to log in to my account to purchase an Oven Toaster Grill (OTG), but I'm unable to proceed as it's asking for mobile number or email verification. Can you help me with that?\\n\\nAgent: Sure, I can assist you with that. May I know your registered mobile number or email address, please?\\n\\nCustomer: My registered mobile number is +1 123-456-7890.\\n\\nAgent: Thank you. Let me check that for you. I'm sorry to inform you that we don't have this number on our records. Can you please confirm if this is the correct number?\\n\\nCustomer: Oh, I'm sorry. I might have registered with a different number. Can you please check with my email address instead? It's johndoe@email.com.\\n\\nAgent: Sure, let me check that for you. (After a few moments) I see that we have your email address on our records. We'll be sending you a verification code shortly. Please check your email and let me know once you receive it.\\n\\nCustomer: Okay, I received the code. What do I do with it?\\n\\nAgent: Please enter the verification code in the field provided and click on 'Verify'. Once your email address is verified, you'll be able to proceed with your purchase.\\n\\nCustomer: Okay, I entered the code, and it's verified now. Thank you for your help.\\n\\nAgent: You're welcome. Is there anything else I can assist you with?\\n\\nCustomer: No, that's all. Thank you.\\n\\nAgent: You're welcome. Have a great day!</td>\n",
       "      <td>2024-09-14 03:32:34.498380</td>\n",
       "      <td>Philadelphia, PA</td>\n",
       "    </tr>\n",
       "    <tr>\n",
       "      <th>1</th>\n",
       "      <td>Agent: Thank you for calling BrownBox customer support. My name is Alex. How may I assist you today?\\n\\nCustomer: Hi Alex. I recently received an email from BrownBox requesting me to ship back the computer monitor I purchased last week. Can you please tell me why I am being asked to ship it back?\\n\\nAgent: Sure, I'll be happy to help you with that. May I have your order number, please?\\n\\nCustomer: Yes, it's 789101.\\n\\nAgent: Thank you. Let me check the details of your order. (After a few seconds) I see that the monitor you purchased has been recalled by the manufacturer due to a technical issue. For safety reasons, we are requesting our customers to return the product, and we will be providing a full refund.\\n\\nCustomer: Oh, I see. That makes sense. Can you guide me through the process of returning the monitor?\\n\\nAgent: Of course. We will be sending you a prepaid shipping label via email within the next 24 hours. Please print the label, pack the monitor securely in its original packaging, and drop it off at any UPS store. Once we receive the product, we will initiate the refund process, and you will receive your money within 5-7 business days.\\n\\nCustomer: Okay, that sounds straightforward. Thank you for explaining the process to me.\\n\\nAgent: You're welcome. Is there anything else I can assist you with?\\n\\nCustomer: No, that's all for now. Thank you for your help.\\n\\nAgent: You're welcome. If you have any other questions or concerns, please don't hesitate to reach out to us. Have a great day!\\n\\nCustomer: You too. Goodbye.\\n\\nAgent: Goodbye.</td>\n",
       "      <td>2024-09-12 08:17:07.498380</td>\n",
       "      <td>Washington, D.C.</td>\n",
       "    </tr>\n",
       "  </tbody>\n",
       "</table>\n",
       "</div>"
      ],
      "text/plain": [
       "                                                                                                                                                                                                                                                                                                                                                                                                                                                                                                                                                                                                                                                                                                                                                                                                                                                                                                                                                                                                                                                                                                                                                                                                                                                                                                                                                                                                                                                                                                                                                                                                                         conversation  \\\n",
       "0                                                             Agent: Thank you for calling BrownBox Customer Support. My name is Tom. How may I assist you today?\\n\\nCustomer: Hi Tom, I'm trying to log in to my account to purchase an Oven Toaster Grill (OTG), but I'm unable to proceed as it's asking for mobile number or email verification. Can you help me with that?\\n\\nAgent: Sure, I can assist you with that. May I know your registered mobile number or email address, please?\\n\\nCustomer: My registered mobile number is +1 123-456-7890.\\n\\nAgent: Thank you. Let me check that for you. I'm sorry to inform you that we don't have this number on our records. Can you please confirm if this is the correct number?\\n\\nCustomer: Oh, I'm sorry. I might have registered with a different number. Can you please check with my email address instead? It's johndoe@email.com.\\n\\nAgent: Sure, let me check that for you. (After a few moments) I see that we have your email address on our records. We'll be sending you a verification code shortly. Please check your email and let me know once you receive it.\\n\\nCustomer: Okay, I received the code. What do I do with it?\\n\\nAgent: Please enter the verification code in the field provided and click on 'Verify'. Once your email address is verified, you'll be able to proceed with your purchase.\\n\\nCustomer: Okay, I entered the code, and it's verified now. Thank you for your help.\\n\\nAgent: You're welcome. Is there anything else I can assist you with?\\n\\nCustomer: No, that's all. Thank you.\\n\\nAgent: You're welcome. Have a great day!   \n",
       "1  Agent: Thank you for calling BrownBox customer support. My name is Alex. How may I assist you today?\\n\\nCustomer: Hi Alex. I recently received an email from BrownBox requesting me to ship back the computer monitor I purchased last week. Can you please tell me why I am being asked to ship it back?\\n\\nAgent: Sure, I'll be happy to help you with that. May I have your order number, please?\\n\\nCustomer: Yes, it's 789101.\\n\\nAgent: Thank you. Let me check the details of your order. (After a few seconds) I see that the monitor you purchased has been recalled by the manufacturer due to a technical issue. For safety reasons, we are requesting our customers to return the product, and we will be providing a full refund.\\n\\nCustomer: Oh, I see. That makes sense. Can you guide me through the process of returning the monitor?\\n\\nAgent: Of course. We will be sending you a prepaid shipping label via email within the next 24 hours. Please print the label, pack the monitor securely in its original packaging, and drop it off at any UPS store. Once we receive the product, we will initiate the refund process, and you will receive your money within 5-7 business days.\\n\\nCustomer: Okay, that sounds straightforward. Thank you for explaining the process to me.\\n\\nAgent: You're welcome. Is there anything else I can assist you with?\\n\\nCustomer: No, that's all for now. Thank you for your help.\\n\\nAgent: You're welcome. If you have any other questions or concerns, please don't hesitate to reach out to us. Have a great day!\\n\\nCustomer: You too. Goodbye.\\n\\nAgent: Goodbye.   \n",
       "\n",
       "              recording_date          location  \n",
       "0 2024-09-14 03:32:34.498380  Philadelphia, PA  \n",
       "1 2024-09-12 08:17:07.498380  Washington, D.C.  "
      ]
     },
     "execution_count": 4,
     "metadata": {},
     "output_type": "execute_result"
    }
   ],
   "source": [
    "customer_conversation.head(2)"
   ]
  },
  {
   "cell_type": "markdown",
   "metadata": {},
   "source": [
    "#### Set the Variables"
   ]
  },
  {
   "cell_type": "code",
   "execution_count": 5,
   "metadata": {},
   "outputs": [],
   "source": [
    "API_KEY = \"utVIQO-z2u-qBcLrxHad15-9cAqxnC9Cl4b0hQigdHtZ\"\n",
    "SERVICE_URL = (\n",
    "    \"https://us-south.ml.cloud.ibm.com/ml/v1/text/generation?version=2023-05-29\"\n",
    ")\n",
    "INSTRUCT_MODEL_ID = \"ibm/granite-13b-instruct-v2\"\n",
    "CHAT_MODEL_ID = \"ibm/granite-13b-chat-v2\"\n",
    "PROJECT_ID = \"d80ea387-8eaa-42db-8d24-43edef6c6f69\""
   ]
  },
  {
   "cell_type": "markdown",
   "metadata": {},
   "source": [
    "#### Function to generate the bearer Token"
   ]
  },
  {
   "cell_type": "code",
   "execution_count": 6,
   "metadata": {},
   "outputs": [],
   "source": [
    "def get_token(api_key: str) -> str:\n",
    "    \"\"\"Generates and returns the IAM token.\"\"\"\n",
    "    try:\n",
    "        iam_token_manager = IAMTokenManager(apikey=api_key)\n",
    "        return iam_token_manager.get_token()\n",
    "    except Exception as e:\n",
    "        raise Exception(f\"Error obtaining IAM token: {str(e)}\")"
   ]
  },
  {
   "cell_type": "markdown",
   "metadata": {},
   "source": [
    "#### Request body function"
   ]
  },
  {
   "cell_type": "code",
   "execution_count": 7,
   "metadata": {},
   "outputs": [],
   "source": [
    "def create_request_body(model_id: str, input_text: str, max_tokens: int = 900) -> dict:\n",
    "    \"\"\"Creates the request body for the API call.\"\"\"\n",
    "    return {\n",
    "        \"input\": input_text,\n",
    "        \"parameters\": {\n",
    "            \"decoding_method\": \"greedy\",\n",
    "            \"max_new_tokens\": max_tokens,\n",
    "            \"repetition_penalty\": 1.05,\n",
    "        },\n",
    "        \"model_id\": model_id,\n",
    "        \"project_id\": PROJECT_ID,\n",
    "        \"moderations\": {\n",
    "            \"hap\": {\n",
    "                \"input\": {\n",
    "                    \"enabled\": True,\n",
    "                    \"threshold\": 0.5,\n",
    "                    \"mask\": {\"remove_entity_value\": True},\n",
    "                },\n",
    "                \"output\": {\n",
    "                    \"enabled\": True,\n",
    "                    \"threshold\": 0.5,\n",
    "                    \"mask\": {\"remove_entity_value\": True},\n",
    "                },\n",
    "            }\n",
    "        },\n",
    "    }"
   ]
  },
  {
   "cell_type": "markdown",
   "metadata": {},
   "source": [
    "#### API request function"
   ]
  },
  {
   "cell_type": "code",
   "execution_count": 8,
   "metadata": {},
   "outputs": [],
   "source": [
    "def make_api_request(body: dict, token: str, url: str) -> dict:\n",
    "    \"\"\"Makes the API request to the IBM Watson service.\"\"\"\n",
    "    headers = {\n",
    "        \"Accept\": \"application/json\",\n",
    "        \"Content-Type\": \"application/json\",\n",
    "        \"Authorization\": f\"Bearer {token}\",\n",
    "    }\n",
    "\n",
    "    try:\n",
    "        response = requests.post(url, headers=headers, json=body)\n",
    "        response.raise_for_status()\n",
    "    except requests.exceptions.RequestException as e:\n",
    "        raise Exception(f\"API request failed: {str(e)}\")\n",
    "\n",
    "    return response.json()"
   ]
  },
  {
   "cell_type": "markdown",
   "metadata": {},
   "source": [
    "#### Chat message function wrapper"
   ]
  },
  {
   "cell_type": "code",
   "execution_count": 9,
   "metadata": {},
   "outputs": [],
   "source": [
    "def get_chat_message(prompt, input, model_id):\n",
    "    input_text = f\"{prompt} \\n {input}\"\n",
    "\n",
    "    # print(input_text)\n",
    "\n",
    "    token = get_token(API_KEY)\n",
    "    body = create_request_body(model_id, input_text)\n",
    "    data = make_api_request(body, token, SERVICE_URL)\n",
    "\n",
    "    # print(data)\n",
    "\n",
    "    return data[\"results\"][0][\"generated_text\"]"
   ]
  },
  {
   "cell_type": "markdown",
   "metadata": {},
   "source": [
    "#### Temporary -- Limit records (token control)"
   ]
  },
  {
   "cell_type": "code",
   "execution_count": 10,
   "metadata": {},
   "outputs": [],
   "source": [
    "customer_conversation = customer_conversation.loc[:49]"
   ]
  },
  {
   "cell_type": "markdown",
   "metadata": {},
   "source": [
    "#### Sentiment Analysis"
   ]
  },
  {
   "cell_type": "code",
   "execution_count": 11,
   "metadata": {},
   "outputs": [
    {
     "name": "stderr",
     "output_type": "stream",
     "text": [
      "100%|██████████| 51/51 [01:17<00:00,  1.52s/it]\n"
     ]
    }
   ],
   "source": [
    "sentiment_analysis_prompt = \"Analyze the sentiment of the following text and only return one word: 'positive', 'negative', or 'neutral' without any explanation or additional information. Text: \"\n",
    "\n",
    "customer_conversation[\"customer_sentiment\"] = customer_conversation.progress_apply(\n",
    "    lambda row: get_chat_message(\n",
    "        sentiment_analysis_prompt, row[\"conversation\"], INSTRUCT_MODEL_ID\n",
    "    ),\n",
    "    axis=1,\n",
    ")"
   ]
  },
  {
   "cell_type": "code",
   "execution_count": 12,
   "metadata": {},
   "outputs": [
    {
     "data": {
      "text/html": [
       "<div>\n",
       "<style scoped>\n",
       "    .dataframe tbody tr th:only-of-type {\n",
       "        vertical-align: middle;\n",
       "    }\n",
       "\n",
       "    .dataframe tbody tr th {\n",
       "        vertical-align: top;\n",
       "    }\n",
       "\n",
       "    .dataframe thead th {\n",
       "        text-align: right;\n",
       "    }\n",
       "</style>\n",
       "<table border=\"1\" class=\"dataframe\">\n",
       "  <thead>\n",
       "    <tr style=\"text-align: right;\">\n",
       "      <th></th>\n",
       "      <th>conversation</th>\n",
       "      <th>recording_date</th>\n",
       "      <th>location</th>\n",
       "      <th>customer_sentiment</th>\n",
       "    </tr>\n",
       "  </thead>\n",
       "  <tbody>\n",
       "    <tr>\n",
       "      <th>0</th>\n",
       "      <td>Agent: Thank you for calling BrownBox Customer Support. My name is Tom. How may I assist you today?\\n\\nCustomer: Hi Tom, I'm trying to log in to my account to purchase an Oven Toaster Grill (OTG), but I'm unable to proceed as it's asking for mobile number or email verification. Can you help me with that?\\n\\nAgent: Sure, I can assist you with that. May I know your registered mobile number or email address, please?\\n\\nCustomer: My registered mobile number is +1 123-456-7890.\\n\\nAgent: Thank you. Let me check that for you. I'm sorry to inform you that we don't have this number on our records. Can you please confirm if this is the correct number?\\n\\nCustomer: Oh, I'm sorry. I might have registered with a different number. Can you please check with my email address instead? It's johndoe@email.com.\\n\\nAgent: Sure, let me check that for you. (After a few moments) I see that we have your email address on our records. We'll be sending you a verification code shortly. Please check your email and let me know once you receive it.\\n\\nCustomer: Okay, I received the code. What do I do with it?\\n\\nAgent: Please enter the verification code in the field provided and click on 'Verify'. Once your email address is verified, you'll be able to proceed with your purchase.\\n\\nCustomer: Okay, I entered the code, and it's verified now. Thank you for your help.\\n\\nAgent: You're welcome. Is there anything else I can assist you with?\\n\\nCustomer: No, that's all. Thank you.\\n\\nAgent: You're welcome. Have a great day!</td>\n",
       "      <td>2024-09-14 03:32:34.498380</td>\n",
       "      <td>Philadelphia, PA</td>\n",
       "      <td>positive</td>\n",
       "    </tr>\n",
       "    <tr>\n",
       "      <th>1</th>\n",
       "      <td>Agent: Thank you for calling BrownBox customer support. My name is Alex. How may I assist you today?\\n\\nCustomer: Hi Alex. I recently received an email from BrownBox requesting me to ship back the computer monitor I purchased last week. Can you please tell me why I am being asked to ship it back?\\n\\nAgent: Sure, I'll be happy to help you with that. May I have your order number, please?\\n\\nCustomer: Yes, it's 789101.\\n\\nAgent: Thank you. Let me check the details of your order. (After a few seconds) I see that the monitor you purchased has been recalled by the manufacturer due to a technical issue. For safety reasons, we are requesting our customers to return the product, and we will be providing a full refund.\\n\\nCustomer: Oh, I see. That makes sense. Can you guide me through the process of returning the monitor?\\n\\nAgent: Of course. We will be sending you a prepaid shipping label via email within the next 24 hours. Please print the label, pack the monitor securely in its original packaging, and drop it off at any UPS store. Once we receive the product, we will initiate the refund process, and you will receive your money within 5-7 business days.\\n\\nCustomer: Okay, that sounds straightforward. Thank you for explaining the process to me.\\n\\nAgent: You're welcome. Is there anything else I can assist you with?\\n\\nCustomer: No, that's all for now. Thank you for your help.\\n\\nAgent: You're welcome. If you have any other questions or concerns, please don't hesitate to reach out to us. Have a great day!\\n\\nCustomer: You too. Goodbye.\\n\\nAgent: Goodbye.</td>\n",
       "      <td>2024-09-12 08:17:07.498380</td>\n",
       "      <td>Washington, D.C.</td>\n",
       "      <td>negative</td>\n",
       "    </tr>\n",
       "  </tbody>\n",
       "</table>\n",
       "</div>"
      ],
      "text/plain": [
       "                                                                                                                                                                                                                                                                                                                                                                                                                                                                                                                                                                                                                                                                                                                                                                                                                                                                                                                                                                                                                                                                                                                                                                                                                                                                                                                                                                                                                                                                                                                                                                                                                         conversation  \\\n",
       "0                                                             Agent: Thank you for calling BrownBox Customer Support. My name is Tom. How may I assist you today?\\n\\nCustomer: Hi Tom, I'm trying to log in to my account to purchase an Oven Toaster Grill (OTG), but I'm unable to proceed as it's asking for mobile number or email verification. Can you help me with that?\\n\\nAgent: Sure, I can assist you with that. May I know your registered mobile number or email address, please?\\n\\nCustomer: My registered mobile number is +1 123-456-7890.\\n\\nAgent: Thank you. Let me check that for you. I'm sorry to inform you that we don't have this number on our records. Can you please confirm if this is the correct number?\\n\\nCustomer: Oh, I'm sorry. I might have registered with a different number. Can you please check with my email address instead? It's johndoe@email.com.\\n\\nAgent: Sure, let me check that for you. (After a few moments) I see that we have your email address on our records. We'll be sending you a verification code shortly. Please check your email and let me know once you receive it.\\n\\nCustomer: Okay, I received the code. What do I do with it?\\n\\nAgent: Please enter the verification code in the field provided and click on 'Verify'. Once your email address is verified, you'll be able to proceed with your purchase.\\n\\nCustomer: Okay, I entered the code, and it's verified now. Thank you for your help.\\n\\nAgent: You're welcome. Is there anything else I can assist you with?\\n\\nCustomer: No, that's all. Thank you.\\n\\nAgent: You're welcome. Have a great day!   \n",
       "1  Agent: Thank you for calling BrownBox customer support. My name is Alex. How may I assist you today?\\n\\nCustomer: Hi Alex. I recently received an email from BrownBox requesting me to ship back the computer monitor I purchased last week. Can you please tell me why I am being asked to ship it back?\\n\\nAgent: Sure, I'll be happy to help you with that. May I have your order number, please?\\n\\nCustomer: Yes, it's 789101.\\n\\nAgent: Thank you. Let me check the details of your order. (After a few seconds) I see that the monitor you purchased has been recalled by the manufacturer due to a technical issue. For safety reasons, we are requesting our customers to return the product, and we will be providing a full refund.\\n\\nCustomer: Oh, I see. That makes sense. Can you guide me through the process of returning the monitor?\\n\\nAgent: Of course. We will be sending you a prepaid shipping label via email within the next 24 hours. Please print the label, pack the monitor securely in its original packaging, and drop it off at any UPS store. Once we receive the product, we will initiate the refund process, and you will receive your money within 5-7 business days.\\n\\nCustomer: Okay, that sounds straightforward. Thank you for explaining the process to me.\\n\\nAgent: You're welcome. Is there anything else I can assist you with?\\n\\nCustomer: No, that's all for now. Thank you for your help.\\n\\nAgent: You're welcome. If you have any other questions or concerns, please don't hesitate to reach out to us. Have a great day!\\n\\nCustomer: You too. Goodbye.\\n\\nAgent: Goodbye.   \n",
       "\n",
       "              recording_date          location customer_sentiment  \n",
       "0 2024-09-14 03:32:34.498380  Philadelphia, PA           positive  \n",
       "1 2024-09-12 08:17:07.498380  Washington, D.C.           negative  "
      ]
     },
     "execution_count": 12,
     "metadata": {},
     "output_type": "execute_result"
    }
   ],
   "source": [
    "customer_conversation.head(2)"
   ]
  },
  {
   "cell_type": "markdown",
   "metadata": {},
   "source": [
    "#### Text Summarization"
   ]
  },
  {
   "cell_type": "code",
   "execution_count": 14,
   "metadata": {},
   "outputs": [
    {
     "name": "stderr",
     "output_type": "stream",
     "text": [
      "100%|██████████| 51/51 [02:21<00:00,  2.77s/it]\n"
     ]
    }
   ],
   "source": [
    "call_summary_prompt = (\n",
    "    \"Summarize the below call recording. Maxumum 100 Words. Recording: \"\n",
    ")\n",
    "\n",
    "\n",
    "customer_conversation[\"call_summary\"] = customer_conversation.progress_apply(\n",
    "    lambda row: get_chat_message(\n",
    "        call_summary_prompt, row[\"conversation\"], CHAT_MODEL_ID\n",
    "    ),\n",
    "    axis=1,\n",
    ")"
   ]
  },
  {
   "cell_type": "code",
   "execution_count": 28,
   "metadata": {},
   "outputs": [
    {
     "data": {
      "text/html": [
       "<div>\n",
       "<style scoped>\n",
       "    .dataframe tbody tr th:only-of-type {\n",
       "        vertical-align: middle;\n",
       "    }\n",
       "\n",
       "    .dataframe tbody tr th {\n",
       "        vertical-align: top;\n",
       "    }\n",
       "\n",
       "    .dataframe thead th {\n",
       "        text-align: right;\n",
       "    }\n",
       "</style>\n",
       "<table border=\"1\" class=\"dataframe\">\n",
       "  <thead>\n",
       "    <tr style=\"text-align: right;\">\n",
       "      <th></th>\n",
       "      <th>conversation</th>\n",
       "      <th>sentiment</th>\n",
       "      <th>call_summary</th>\n",
       "      <th>feature_extraction</th>\n",
       "    </tr>\n",
       "  </thead>\n",
       "  <tbody>\n",
       "    <tr>\n",
       "      <th>0</th>\n",
       "      <td>Agent: Thank you for calling BrownBox Customer Support. My name is Tom. How may I assist you today?\\n\\nCustomer: Hi Tom, I'm trying to log in to my account to purchase an Oven Toaster Grill (OTG), but I'm unable to proceed as it's asking for mobile number or email verification. Can you help me with that?\\n\\nAgent: Sure, I can assist you with that. May I know your registered mobile number or email address, please?\\n\\nCustomer: My registered mobile number is +1 123-456-7890.\\n\\nAgent: Thank you. Let me check that for you. I'm sorry to inform you that we don't have this number on our records. Can you please confirm if this is the correct number?\\n\\nCustomer: Oh, I'm sorry. I might have registered with a different number. Can you please check with my email address instead? It's johndoe@email.com.\\n\\nAgent: Sure, let me check that for you. (After a few moments) I see that we have your email address on our records. We'll be sending you a verification code shortly. Please check your email and let me know once you receive it.\\n\\nCustomer: Okay, I received the code. What do I do with it?\\n\\nAgent: Please enter the verification code in the field provided and click on 'Verify'. Once your email address is verified, you'll be able to proceed with your purchase.\\n\\nCustomer: Okay, I entered the code, and it's verified now. Thank you for your help.\\n\\nAgent: You're welcome. Is there anything else I can assist you with?\\n\\nCustomer: No, that's all. Thank you.\\n\\nAgent: You're welcome. Have a great day!</td>\n",
       "      <td>positive</td>\n",
       "      <td>\\n\\nThe customer was able to successfully verify their email address and complete the purchase process. The agent was patient and helpful throughout the interaction, ensuring that the customer's issue was resolved.\\n</td>\n",
       "      <td>{\"issue\": \"customer is unable to proceed with purchasing an OTG due to mobile number or email verification issue\", \"action_taken\": \"provided assistance in verifying the email address\", \"product_interest\": \"OTG\", \"customer_details\": {\"name\": \"John Doe\", \"email\": \"johndoe@email.com\"}, \"resolution\": \"email address verified and issue resolved\", \"additional_support_needed\": \"NA\"}</td>\n",
       "    </tr>\n",
       "    <tr>\n",
       "      <th>1</th>\n",
       "      <td>Agent: Thank you for calling BrownBox customer support. My name is Alex. How may I assist you today?\\n\\nCustomer: Hi Alex. I recently received an email from BrownBox requesting me to ship back the computer monitor I purchased last week. Can you please tell me why I am being asked to ship it back?\\n\\nAgent: Sure, I'll be happy to help you with that. May I have your order number, please?\\n\\nCustomer: Yes, it's 789101.\\n\\nAgent: Thank you. Let me check the details of your order. (After a few seconds) I see that the monitor you purchased has been recalled by the manufacturer due to a technical issue. For safety reasons, we are requesting our customers to return the product, and we will be providing a full refund.\\n\\nCustomer: Oh, I see. That makes sense. Can you guide me through the process of returning the monitor?\\n\\nAgent: Of course. We will be sending you a prepaid shipping label via email within the next 24 hours. Please print the label, pack the monitor securely in its original packaging, and drop it off at any UPS store. Once we receive the product, we will initiate the refund process, and you will receive your money within 5-7 business days.\\n\\nCustomer: Okay, that sounds straightforward. Thank you for explaining the process to me.\\n\\nAgent: You're welcome. Is there anything else I can assist you with?\\n\\nCustomer: No, that's all for now. Thank you for your help.\\n\\nAgent: You're welcome. If you have any other questions or concerns, please don't hesitate to reach out to us. Have a great day!\\n\\nCustomer: You too. Goodbye.\\n\\nAgent: Goodbye.</td>\n",
       "      <td>negative</td>\n",
       "      <td>\\n\\nIn this call recording, the customer expresses concern about a recall notice for a computer monitor they recently purchased from BrownBox. The agent provides clear instructions on how to return the product and ensures the customer that a full refund will be issued. The interaction demonstrates effective customer service and transparency in addressing the customer's issue.</td>\n",
       "      <td>{\"issue\": \"Product recall\", \"action_taken\": \"Returning the product\", \"product_interest\": \"Computer monitor\", \"customer_details\": {\"name\": \"John Doe\", \"email\": \"john.doe@example.com\"}, \"resolution\": \"Refund initiated\", \"additional_support_needed\": \"N/A\"}</td>\n",
       "    </tr>\n",
       "  </tbody>\n",
       "</table>\n",
       "</div>"
      ],
      "text/plain": [
       "                                                                                                                                                                                                                                                                                                                                                                                                                                                                                                                                                                                                                                                                                                                                                                                                                                                                                                                                                                                                                                                                                                                                                                                                                                                                                                                                                                                                                                                                                                                                                                                                                         conversation  \\\n",
       "0                                                             Agent: Thank you for calling BrownBox Customer Support. My name is Tom. How may I assist you today?\\n\\nCustomer: Hi Tom, I'm trying to log in to my account to purchase an Oven Toaster Grill (OTG), but I'm unable to proceed as it's asking for mobile number or email verification. Can you help me with that?\\n\\nAgent: Sure, I can assist you with that. May I know your registered mobile number or email address, please?\\n\\nCustomer: My registered mobile number is +1 123-456-7890.\\n\\nAgent: Thank you. Let me check that for you. I'm sorry to inform you that we don't have this number on our records. Can you please confirm if this is the correct number?\\n\\nCustomer: Oh, I'm sorry. I might have registered with a different number. Can you please check with my email address instead? It's johndoe@email.com.\\n\\nAgent: Sure, let me check that for you. (After a few moments) I see that we have your email address on our records. We'll be sending you a verification code shortly. Please check your email and let me know once you receive it.\\n\\nCustomer: Okay, I received the code. What do I do with it?\\n\\nAgent: Please enter the verification code in the field provided and click on 'Verify'. Once your email address is verified, you'll be able to proceed with your purchase.\\n\\nCustomer: Okay, I entered the code, and it's verified now. Thank you for your help.\\n\\nAgent: You're welcome. Is there anything else I can assist you with?\\n\\nCustomer: No, that's all. Thank you.\\n\\nAgent: You're welcome. Have a great day!   \n",
       "1  Agent: Thank you for calling BrownBox customer support. My name is Alex. How may I assist you today?\\n\\nCustomer: Hi Alex. I recently received an email from BrownBox requesting me to ship back the computer monitor I purchased last week. Can you please tell me why I am being asked to ship it back?\\n\\nAgent: Sure, I'll be happy to help you with that. May I have your order number, please?\\n\\nCustomer: Yes, it's 789101.\\n\\nAgent: Thank you. Let me check the details of your order. (After a few seconds) I see that the monitor you purchased has been recalled by the manufacturer due to a technical issue. For safety reasons, we are requesting our customers to return the product, and we will be providing a full refund.\\n\\nCustomer: Oh, I see. That makes sense. Can you guide me through the process of returning the monitor?\\n\\nAgent: Of course. We will be sending you a prepaid shipping label via email within the next 24 hours. Please print the label, pack the monitor securely in its original packaging, and drop it off at any UPS store. Once we receive the product, we will initiate the refund process, and you will receive your money within 5-7 business days.\\n\\nCustomer: Okay, that sounds straightforward. Thank you for explaining the process to me.\\n\\nAgent: You're welcome. Is there anything else I can assist you with?\\n\\nCustomer: No, that's all for now. Thank you for your help.\\n\\nAgent: You're welcome. If you have any other questions or concerns, please don't hesitate to reach out to us. Have a great day!\\n\\nCustomer: You too. Goodbye.\\n\\nAgent: Goodbye.   \n",
       "\n",
       "  sentiment  \\\n",
       "0  positive   \n",
       "1  negative   \n",
       "\n",
       "                                                                                                                                                                                                                                                                                                                                                                                 call_summary  \\\n",
       "0                                                                                                                                                                    \\n\\nThe customer was able to successfully verify their email address and complete the purchase process. The agent was patient and helpful throughout the interaction, ensuring that the customer's issue was resolved.\\n   \n",
       "1  \\n\\nIn this call recording, the customer expresses concern about a recall notice for a computer monitor they recently purchased from BrownBox. The agent provides clear instructions on how to return the product and ensures the customer that a full refund will be issued. The interaction demonstrates effective customer service and transparency in addressing the customer's issue.   \n",
       "\n",
       "                                                                                                                                                                                                                                                                                                                                                                          feature_extraction  \n",
       "0  {\"issue\": \"customer is unable to proceed with purchasing an OTG due to mobile number or email verification issue\", \"action_taken\": \"provided assistance in verifying the email address\", \"product_interest\": \"OTG\", \"customer_details\": {\"name\": \"John Doe\", \"email\": \"johndoe@email.com\"}, \"resolution\": \"email address verified and issue resolved\", \"additional_support_needed\": \"NA\"}  \n",
       "1                                                                                                                              {\"issue\": \"Product recall\", \"action_taken\": \"Returning the product\", \"product_interest\": \"Computer monitor\", \"customer_details\": {\"name\": \"John Doe\", \"email\": \"john.doe@example.com\"}, \"resolution\": \"Refund initiated\", \"additional_support_needed\": \"N/A\"}  "
      ]
     },
     "execution_count": 28,
     "metadata": {},
     "output_type": "execute_result"
    }
   ],
   "source": [
    "customer_conversation.head(2)"
   ]
  },
  {
   "cell_type": "markdown",
   "metadata": {},
   "source": [
    "#### Feature Extraction"
   ]
  },
  {
   "cell_type": "code",
   "execution_count": 15,
   "metadata": {},
   "outputs": [
    {
     "name": "stderr",
     "output_type": "stream",
     "text": [
      "100%|██████████| 51/51 [05:03<00:00,  5.95s/it]\n"
     ]
    }
   ],
   "source": [
    "feature_extraction_prompt = \"\"\"\n",
    "For the below conversation i want to do feature extraction.The output should be in json format. \n",
    "The output must contains following details issue, action_taken, product_interest, customer_details, resolution,additional_support_needed. \n",
    "No explanation needed. Just the json output. \n",
    "In case if customer_details are not present populate it as NULL. \n",
    "In case any other details are not present populate as NA. But tags must be present. \n",
    "Do not make up information if it is not available in the below conversation. Conversation - \n",
    "\"\"\"\n",
    "customer_conversation[\"feature_extraction\"] = customer_conversation.progress_apply(\n",
    "    lambda row: get_chat_message(\n",
    "        feature_extraction_prompt, row[\"conversation\"], CHAT_MODEL_ID\n",
    "    ),\n",
    "    axis=1,\n",
    ")"
   ]
  },
  {
   "cell_type": "code",
   "execution_count": 16,
   "metadata": {},
   "outputs": [
    {
     "data": {
      "text/html": [
       "<div>\n",
       "<style scoped>\n",
       "    .dataframe tbody tr th:only-of-type {\n",
       "        vertical-align: middle;\n",
       "    }\n",
       "\n",
       "    .dataframe tbody tr th {\n",
       "        vertical-align: top;\n",
       "    }\n",
       "\n",
       "    .dataframe thead th {\n",
       "        text-align: right;\n",
       "    }\n",
       "</style>\n",
       "<table border=\"1\" class=\"dataframe\">\n",
       "  <thead>\n",
       "    <tr style=\"text-align: right;\">\n",
       "      <th></th>\n",
       "      <th>conversation</th>\n",
       "      <th>recording_date</th>\n",
       "      <th>location</th>\n",
       "      <th>customer_sentiment</th>\n",
       "      <th>call_summary</th>\n",
       "      <th>feature_extraction</th>\n",
       "    </tr>\n",
       "  </thead>\n",
       "  <tbody>\n",
       "    <tr>\n",
       "      <th>0</th>\n",
       "      <td>Agent: Thank you for calling BrownBox Customer Support. My name is Tom. How may I assist you today?\\n\\nCustomer: Hi Tom, I'm trying to log in to my account to purchase an Oven Toaster Grill (OTG), but I'm unable to proceed as it's asking for mobile number or email verification. Can you help me with that?\\n\\nAgent: Sure, I can assist you with that. May I know your registered mobile number or email address, please?\\n\\nCustomer: My registered mobile number is +1 123-456-7890.\\n\\nAgent: Thank you. Let me check that for you. I'm sorry to inform you that we don't have this number on our records. Can you please confirm if this is the correct number?\\n\\nCustomer: Oh, I'm sorry. I might have registered with a different number. Can you please check with my email address instead? It's johndoe@email.com.\\n\\nAgent: Sure, let me check that for you. (After a few moments) I see that we have your email address on our records. We'll be sending you a verification code shortly. Please check your email and let me know once you receive it.\\n\\nCustomer: Okay, I received the code. What do I do with it?\\n\\nAgent: Please enter the verification code in the field provided and click on 'Verify'. Once your email address is verified, you'll be able to proceed with your purchase.\\n\\nCustomer: Okay, I entered the code, and it's verified now. Thank you for your help.\\n\\nAgent: You're welcome. Is there anything else I can assist you with?\\n\\nCustomer: No, that's all. Thank you.\\n\\nAgent: You're welcome. Have a great day!</td>\n",
       "      <td>2024-09-14 03:32:34.498380</td>\n",
       "      <td>Philadelphia, PA</td>\n",
       "      <td>positive</td>\n",
       "      <td>\\n\\nThe customer was able to successfully verify their email address and complete the purchase process. The agent was patient and helpful throughout the interaction, ensuring that the customer's issue was resolved.\\n</td>\n",
       "      <td>\\n\\nOutput in JSON format:\\n{\\n  \"issue\": \"customer is unable to proceed with purchasing an OTG due to mobile number or email verification issue\",\\n  \"action_taken\": \"provided assistance in verifying the email address\",\\n  \"product_interest\": \"OTG\",\\n  \"customer_details\": {\\n    \"name\": \"John Doe\",\\n    \"email\": \"johndoe@email.com\"\\n  },\\n  \"resolution\": \"email address verified and issue resolved\",\\n  \"additional_support_needed\": \"NA\"\\n}\\n\\nNote: In case if the customer_details are not present, populate it as NULL. In case any other details are not present, populate as NA. But tags must be present.</td>\n",
       "    </tr>\n",
       "    <tr>\n",
       "      <th>1</th>\n",
       "      <td>Agent: Thank you for calling BrownBox customer support. My name is Alex. How may I assist you today?\\n\\nCustomer: Hi Alex. I recently received an email from BrownBox requesting me to ship back the computer monitor I purchased last week. Can you please tell me why I am being asked to ship it back?\\n\\nAgent: Sure, I'll be happy to help you with that. May I have your order number, please?\\n\\nCustomer: Yes, it's 789101.\\n\\nAgent: Thank you. Let me check the details of your order. (After a few seconds) I see that the monitor you purchased has been recalled by the manufacturer due to a technical issue. For safety reasons, we are requesting our customers to return the product, and we will be providing a full refund.\\n\\nCustomer: Oh, I see. That makes sense. Can you guide me through the process of returning the monitor?\\n\\nAgent: Of course. We will be sending you a prepaid shipping label via email within the next 24 hours. Please print the label, pack the monitor securely in its original packaging, and drop it off at any UPS store. Once we receive the product, we will initiate the refund process, and you will receive your money within 5-7 business days.\\n\\nCustomer: Okay, that sounds straightforward. Thank you for explaining the process to me.\\n\\nAgent: You're welcome. Is there anything else I can assist you with?\\n\\nCustomer: No, that's all for now. Thank you for your help.\\n\\nAgent: You're welcome. If you have any other questions or concerns, please don't hesitate to reach out to us. Have a great day!\\n\\nCustomer: You too. Goodbye.\\n\\nAgent: Goodbye.</td>\n",
       "      <td>2024-09-12 08:17:07.498380</td>\n",
       "      <td>Washington, D.C.</td>\n",
       "      <td>negative</td>\n",
       "      <td>\\n\\nIn this call recording, the customer expresses concern about a recall notice for a computer monitor they recently purchased from BrownBox. The agent provides clear instructions on how to return the product and ensures the customer that a full refund will be issued. The interaction demonstrates effective customer service and transparency in addressing the customer's issue.</td>\n",
       "      <td>\\n\\nOutput in JSON format:\\n{\\n\"issue\": \"Product recall\",\\n\"action_taken\": \"Returning the product\",\\n\"product_interest\": \"Computer monitor\",\\n\"customer_details\": {\\n\"name\": \"John Doe\",\\n\"email\": \"john.doe@example.com\"\\n},\\n\"resolution\": \"Refund initiated\",\\n\"additional_support_needed\": \"N/A\"\\n}\\n\\nNote: In this example, the customer's name and email address are not provided, so they are not included in the JSON output. However, the JSON format still includes the \"customer\\_details\" field with placeholders for these values.\\n\\nAdditionally, the \"resolution\" value is \"Refund initiated\" because the customer will receive a refund once the monitor is returned. The actual refund process may take 5-7 business days to complete.</td>\n",
       "    </tr>\n",
       "  </tbody>\n",
       "</table>\n",
       "</div>"
      ],
      "text/plain": [
       "                                                                                                                                                                                                                                                                                                                                                                                                                                                                                                                                                                                                                                                                                                                                                                                                                                                                                                                                                                                                                                                                                                                                                                                                                                                                                                                                                                                                                                                                                                                                                                                                                         conversation  \\\n",
       "0                                                             Agent: Thank you for calling BrownBox Customer Support. My name is Tom. How may I assist you today?\\n\\nCustomer: Hi Tom, I'm trying to log in to my account to purchase an Oven Toaster Grill (OTG), but I'm unable to proceed as it's asking for mobile number or email verification. Can you help me with that?\\n\\nAgent: Sure, I can assist you with that. May I know your registered mobile number or email address, please?\\n\\nCustomer: My registered mobile number is +1 123-456-7890.\\n\\nAgent: Thank you. Let me check that for you. I'm sorry to inform you that we don't have this number on our records. Can you please confirm if this is the correct number?\\n\\nCustomer: Oh, I'm sorry. I might have registered with a different number. Can you please check with my email address instead? It's johndoe@email.com.\\n\\nAgent: Sure, let me check that for you. (After a few moments) I see that we have your email address on our records. We'll be sending you a verification code shortly. Please check your email and let me know once you receive it.\\n\\nCustomer: Okay, I received the code. What do I do with it?\\n\\nAgent: Please enter the verification code in the field provided and click on 'Verify'. Once your email address is verified, you'll be able to proceed with your purchase.\\n\\nCustomer: Okay, I entered the code, and it's verified now. Thank you for your help.\\n\\nAgent: You're welcome. Is there anything else I can assist you with?\\n\\nCustomer: No, that's all. Thank you.\\n\\nAgent: You're welcome. Have a great day!   \n",
       "1  Agent: Thank you for calling BrownBox customer support. My name is Alex. How may I assist you today?\\n\\nCustomer: Hi Alex. I recently received an email from BrownBox requesting me to ship back the computer monitor I purchased last week. Can you please tell me why I am being asked to ship it back?\\n\\nAgent: Sure, I'll be happy to help you with that. May I have your order number, please?\\n\\nCustomer: Yes, it's 789101.\\n\\nAgent: Thank you. Let me check the details of your order. (After a few seconds) I see that the monitor you purchased has been recalled by the manufacturer due to a technical issue. For safety reasons, we are requesting our customers to return the product, and we will be providing a full refund.\\n\\nCustomer: Oh, I see. That makes sense. Can you guide me through the process of returning the monitor?\\n\\nAgent: Of course. We will be sending you a prepaid shipping label via email within the next 24 hours. Please print the label, pack the monitor securely in its original packaging, and drop it off at any UPS store. Once we receive the product, we will initiate the refund process, and you will receive your money within 5-7 business days.\\n\\nCustomer: Okay, that sounds straightforward. Thank you for explaining the process to me.\\n\\nAgent: You're welcome. Is there anything else I can assist you with?\\n\\nCustomer: No, that's all for now. Thank you for your help.\\n\\nAgent: You're welcome. If you have any other questions or concerns, please don't hesitate to reach out to us. Have a great day!\\n\\nCustomer: You too. Goodbye.\\n\\nAgent: Goodbye.   \n",
       "\n",
       "              recording_date          location customer_sentiment  \\\n",
       "0 2024-09-14 03:32:34.498380  Philadelphia, PA           positive   \n",
       "1 2024-09-12 08:17:07.498380  Washington, D.C.           negative   \n",
       "\n",
       "                                                                                                                                                                                                                                                                                                                                                                                 call_summary  \\\n",
       "0                                                                                                                                                                    \\n\\nThe customer was able to successfully verify their email address and complete the purchase process. The agent was patient and helpful throughout the interaction, ensuring that the customer's issue was resolved.\\n   \n",
       "1  \\n\\nIn this call recording, the customer expresses concern about a recall notice for a computer monitor they recently purchased from BrownBox. The agent provides clear instructions on how to return the product and ensures the customer that a full refund will be issued. The interaction demonstrates effective customer service and transparency in addressing the customer's issue.   \n",
       "\n",
       "                                                                                                                                                                                                                                                                                                                                                                                                                                                                                                                                                                                                                                                                                                                                          feature_extraction  \n",
       "0                                                                                                                              \\n\\nOutput in JSON format:\\n{\\n  \"issue\": \"customer is unable to proceed with purchasing an OTG due to mobile number or email verification issue\",\\n  \"action_taken\": \"provided assistance in verifying the email address\",\\n  \"product_interest\": \"OTG\",\\n  \"customer_details\": {\\n    \"name\": \"John Doe\",\\n    \"email\": \"johndoe@email.com\"\\n  },\\n  \"resolution\": \"email address verified and issue resolved\",\\n  \"additional_support_needed\": \"NA\"\\n}\\n\\nNote: In case if the customer_details are not present, populate it as NULL. In case any other details are not present, populate as NA. But tags must be present.  \n",
       "1  \\n\\nOutput in JSON format:\\n{\\n\"issue\": \"Product recall\",\\n\"action_taken\": \"Returning the product\",\\n\"product_interest\": \"Computer monitor\",\\n\"customer_details\": {\\n\"name\": \"John Doe\",\\n\"email\": \"john.doe@example.com\"\\n},\\n\"resolution\": \"Refund initiated\",\\n\"additional_support_needed\": \"N/A\"\\n}\\n\\nNote: In this example, the customer's name and email address are not provided, so they are not included in the JSON output. However, the JSON format still includes the \"customer\\_details\" field with placeholders for these values.\\n\\nAdditionally, the \"resolution\" value is \"Refund initiated\" because the customer will receive a refund once the monitor is returned. The actual refund process may take 5-7 business days to complete.  "
      ]
     },
     "execution_count": 16,
     "metadata": {},
     "output_type": "execute_result"
    }
   ],
   "source": [
    "customer_conversation.head(2)"
   ]
  },
  {
   "cell_type": "markdown",
   "metadata": {},
   "source": [
    "#### As the feature extraction data contains json data along with text values, we have to do further data manipulation to extract the json data. "
   ]
  },
  {
   "cell_type": "code",
   "execution_count": 17,
   "metadata": {},
   "outputs": [
    {
     "name": "stderr",
     "output_type": "stream",
     "text": [
      "100%|██████████| 51/51 [00:00<00:00, 16935.28it/s]\n"
     ]
    }
   ],
   "source": [
    "import json\n",
    "import re\n",
    "\n",
    "\n",
    "# Function to extract JSON from the text\n",
    "def extract_json_from_text(text):\n",
    "    try:\n",
    "        # Use regular expressions to extract the JSON part\n",
    "        json_match = re.search(r\"\\{.*\\}\", text, re.DOTALL)\n",
    "        if json_match:\n",
    "            json_str = json_match.group(0)\n",
    "            json_data = json.loads(json_str)  # Parse the JSON string into a dictionary\n",
    "\n",
    "            # Ensure all required tags are present\n",
    "            json_data[\"issue\"] = json_data.get(\"issue\", \"NA\")\n",
    "            json_data[\"action_taken\"] = json_data.get(\"action_taken\", \"NA\")\n",
    "            json_data[\"product_interest\"] = json_data.get(\"product_interest\", \"NA\")\n",
    "            json_data[\"customer_details\"] = json_data.get(\n",
    "                \"customer_details\", None\n",
    "            )  # Set as NULL if absent\n",
    "            json_data[\"resolution\"] = json_data.get(\"resolution\", \"NA\")\n",
    "            json_data[\"additional_support_needed\"] = json_data.get(\n",
    "                \"additional_support_needed\", \"NA\"\n",
    "            )\n",
    "\n",
    "            return json.dumps(json_data)\n",
    "        else:\n",
    "            return None\n",
    "    except (json.JSONDecodeError, TypeError):\n",
    "        return None  # Return None if it's not a valid JSON\n",
    "\n",
    "\n",
    "# Apply the function to the column\n",
    "customer_conversation[\"feature_extraction\"] = customer_conversation[\n",
    "    \"feature_extraction\"\n",
    "].progress_apply(extract_json_from_text)"
   ]
  },
  {
   "cell_type": "code",
   "execution_count": 18,
   "metadata": {},
   "outputs": [
    {
     "data": {
      "text/html": [
       "<div>\n",
       "<style scoped>\n",
       "    .dataframe tbody tr th:only-of-type {\n",
       "        vertical-align: middle;\n",
       "    }\n",
       "\n",
       "    .dataframe tbody tr th {\n",
       "        vertical-align: top;\n",
       "    }\n",
       "\n",
       "    .dataframe thead th {\n",
       "        text-align: right;\n",
       "    }\n",
       "</style>\n",
       "<table border=\"1\" class=\"dataframe\">\n",
       "  <thead>\n",
       "    <tr style=\"text-align: right;\">\n",
       "      <th></th>\n",
       "      <th>conversation</th>\n",
       "      <th>recording_date</th>\n",
       "      <th>location</th>\n",
       "      <th>customer_sentiment</th>\n",
       "      <th>call_summary</th>\n",
       "      <th>feature_extraction</th>\n",
       "    </tr>\n",
       "  </thead>\n",
       "  <tbody>\n",
       "    <tr>\n",
       "      <th>0</th>\n",
       "      <td>Agent: Thank you for calling BrownBox Customer Support. My name is Tom. How may I assist you today?\\n\\nCustomer: Hi Tom, I'm trying to log in to my account to purchase an Oven Toaster Grill (OTG), but I'm unable to proceed as it's asking for mobile number or email verification. Can you help me with that?\\n\\nAgent: Sure, I can assist you with that. May I know your registered mobile number or email address, please?\\n\\nCustomer: My registered mobile number is +1 123-456-7890.\\n\\nAgent: Thank you. Let me check that for you. I'm sorry to inform you that we don't have this number on our records. Can you please confirm if this is the correct number?\\n\\nCustomer: Oh, I'm sorry. I might have registered with a different number. Can you please check with my email address instead? It's johndoe@email.com.\\n\\nAgent: Sure, let me check that for you. (After a few moments) I see that we have your email address on our records. We'll be sending you a verification code shortly. Please check your email and let me know once you receive it.\\n\\nCustomer: Okay, I received the code. What do I do with it?\\n\\nAgent: Please enter the verification code in the field provided and click on 'Verify'. Once your email address is verified, you'll be able to proceed with your purchase.\\n\\nCustomer: Okay, I entered the code, and it's verified now. Thank you for your help.\\n\\nAgent: You're welcome. Is there anything else I can assist you with?\\n\\nCustomer: No, that's all. Thank you.\\n\\nAgent: You're welcome. Have a great day!</td>\n",
       "      <td>2024-09-14 03:32:34.498380</td>\n",
       "      <td>Philadelphia, PA</td>\n",
       "      <td>positive</td>\n",
       "      <td>\\n\\nThe customer was able to successfully verify their email address and complete the purchase process. The agent was patient and helpful throughout the interaction, ensuring that the customer's issue was resolved.\\n</td>\n",
       "      <td>{\"issue\": \"customer is unable to proceed with purchasing an OTG due to mobile number or email verification issue\", \"action_taken\": \"provided assistance in verifying the email address\", \"product_interest\": \"OTG\", \"customer_details\": {\"name\": \"John Doe\", \"email\": \"johndoe@email.com\"}, \"resolution\": \"email address verified and issue resolved\", \"additional_support_needed\": \"NA\"}</td>\n",
       "    </tr>\n",
       "    <tr>\n",
       "      <th>1</th>\n",
       "      <td>Agent: Thank you for calling BrownBox customer support. My name is Alex. How may I assist you today?\\n\\nCustomer: Hi Alex. I recently received an email from BrownBox requesting me to ship back the computer monitor I purchased last week. Can you please tell me why I am being asked to ship it back?\\n\\nAgent: Sure, I'll be happy to help you with that. May I have your order number, please?\\n\\nCustomer: Yes, it's 789101.\\n\\nAgent: Thank you. Let me check the details of your order. (After a few seconds) I see that the monitor you purchased has been recalled by the manufacturer due to a technical issue. For safety reasons, we are requesting our customers to return the product, and we will be providing a full refund.\\n\\nCustomer: Oh, I see. That makes sense. Can you guide me through the process of returning the monitor?\\n\\nAgent: Of course. We will be sending you a prepaid shipping label via email within the next 24 hours. Please print the label, pack the monitor securely in its original packaging, and drop it off at any UPS store. Once we receive the product, we will initiate the refund process, and you will receive your money within 5-7 business days.\\n\\nCustomer: Okay, that sounds straightforward. Thank you for explaining the process to me.\\n\\nAgent: You're welcome. Is there anything else I can assist you with?\\n\\nCustomer: No, that's all for now. Thank you for your help.\\n\\nAgent: You're welcome. If you have any other questions or concerns, please don't hesitate to reach out to us. Have a great day!\\n\\nCustomer: You too. Goodbye.\\n\\nAgent: Goodbye.</td>\n",
       "      <td>2024-09-12 08:17:07.498380</td>\n",
       "      <td>Washington, D.C.</td>\n",
       "      <td>negative</td>\n",
       "      <td>\\n\\nIn this call recording, the customer expresses concern about a recall notice for a computer monitor they recently purchased from BrownBox. The agent provides clear instructions on how to return the product and ensures the customer that a full refund will be issued. The interaction demonstrates effective customer service and transparency in addressing the customer's issue.</td>\n",
       "      <td>{\"issue\": \"Product recall\", \"action_taken\": \"Returning the product\", \"product_interest\": \"Computer monitor\", \"customer_details\": {\"name\": \"John Doe\", \"email\": \"john.doe@example.com\"}, \"resolution\": \"Refund initiated\", \"additional_support_needed\": \"N/A\"}</td>\n",
       "    </tr>\n",
       "  </tbody>\n",
       "</table>\n",
       "</div>"
      ],
      "text/plain": [
       "                                                                                                                                                                                                                                                                                                                                                                                                                                                                                                                                                                                                                                                                                                                                                                                                                                                                                                                                                                                                                                                                                                                                                                                                                                                                                                                                                                                                                                                                                                                                                                                                                         conversation  \\\n",
       "0                                                             Agent: Thank you for calling BrownBox Customer Support. My name is Tom. How may I assist you today?\\n\\nCustomer: Hi Tom, I'm trying to log in to my account to purchase an Oven Toaster Grill (OTG), but I'm unable to proceed as it's asking for mobile number or email verification. Can you help me with that?\\n\\nAgent: Sure, I can assist you with that. May I know your registered mobile number or email address, please?\\n\\nCustomer: My registered mobile number is +1 123-456-7890.\\n\\nAgent: Thank you. Let me check that for you. I'm sorry to inform you that we don't have this number on our records. Can you please confirm if this is the correct number?\\n\\nCustomer: Oh, I'm sorry. I might have registered with a different number. Can you please check with my email address instead? It's johndoe@email.com.\\n\\nAgent: Sure, let me check that for you. (After a few moments) I see that we have your email address on our records. We'll be sending you a verification code shortly. Please check your email and let me know once you receive it.\\n\\nCustomer: Okay, I received the code. What do I do with it?\\n\\nAgent: Please enter the verification code in the field provided and click on 'Verify'. Once your email address is verified, you'll be able to proceed with your purchase.\\n\\nCustomer: Okay, I entered the code, and it's verified now. Thank you for your help.\\n\\nAgent: You're welcome. Is there anything else I can assist you with?\\n\\nCustomer: No, that's all. Thank you.\\n\\nAgent: You're welcome. Have a great day!   \n",
       "1  Agent: Thank you for calling BrownBox customer support. My name is Alex. How may I assist you today?\\n\\nCustomer: Hi Alex. I recently received an email from BrownBox requesting me to ship back the computer monitor I purchased last week. Can you please tell me why I am being asked to ship it back?\\n\\nAgent: Sure, I'll be happy to help you with that. May I have your order number, please?\\n\\nCustomer: Yes, it's 789101.\\n\\nAgent: Thank you. Let me check the details of your order. (After a few seconds) I see that the monitor you purchased has been recalled by the manufacturer due to a technical issue. For safety reasons, we are requesting our customers to return the product, and we will be providing a full refund.\\n\\nCustomer: Oh, I see. That makes sense. Can you guide me through the process of returning the monitor?\\n\\nAgent: Of course. We will be sending you a prepaid shipping label via email within the next 24 hours. Please print the label, pack the monitor securely in its original packaging, and drop it off at any UPS store. Once we receive the product, we will initiate the refund process, and you will receive your money within 5-7 business days.\\n\\nCustomer: Okay, that sounds straightforward. Thank you for explaining the process to me.\\n\\nAgent: You're welcome. Is there anything else I can assist you with?\\n\\nCustomer: No, that's all for now. Thank you for your help.\\n\\nAgent: You're welcome. If you have any other questions or concerns, please don't hesitate to reach out to us. Have a great day!\\n\\nCustomer: You too. Goodbye.\\n\\nAgent: Goodbye.   \n",
       "\n",
       "              recording_date          location customer_sentiment  \\\n",
       "0 2024-09-14 03:32:34.498380  Philadelphia, PA           positive   \n",
       "1 2024-09-12 08:17:07.498380  Washington, D.C.           negative   \n",
       "\n",
       "                                                                                                                                                                                                                                                                                                                                                                                 call_summary  \\\n",
       "0                                                                                                                                                                    \\n\\nThe customer was able to successfully verify their email address and complete the purchase process. The agent was patient and helpful throughout the interaction, ensuring that the customer's issue was resolved.\\n   \n",
       "1  \\n\\nIn this call recording, the customer expresses concern about a recall notice for a computer monitor they recently purchased from BrownBox. The agent provides clear instructions on how to return the product and ensures the customer that a full refund will be issued. The interaction demonstrates effective customer service and transparency in addressing the customer's issue.   \n",
       "\n",
       "                                                                                                                                                                                                                                                                                                                                                                          feature_extraction  \n",
       "0  {\"issue\": \"customer is unable to proceed with purchasing an OTG due to mobile number or email verification issue\", \"action_taken\": \"provided assistance in verifying the email address\", \"product_interest\": \"OTG\", \"customer_details\": {\"name\": \"John Doe\", \"email\": \"johndoe@email.com\"}, \"resolution\": \"email address verified and issue resolved\", \"additional_support_needed\": \"NA\"}  \n",
       "1                                                                                                                              {\"issue\": \"Product recall\", \"action_taken\": \"Returning the product\", \"product_interest\": \"Computer monitor\", \"customer_details\": {\"name\": \"John Doe\", \"email\": \"john.doe@example.com\"}, \"resolution\": \"Refund initiated\", \"additional_support_needed\": \"N/A\"}  "
      ]
     },
     "execution_count": 18,
     "metadata": {},
     "output_type": "execute_result"
    }
   ],
   "source": [
    "customer_conversation.head(2)"
   ]
  },
  {
   "cell_type": "code",
   "execution_count": 37,
   "metadata": {},
   "outputs": [],
   "source": [
    "customer_conversation.replace('', 'unknown', inplace=True)\n"
   ]
  },
  {
   "cell_type": "markdown",
   "metadata": {},
   "source": [
    "#### Save the data as Json file"
   ]
  },
  {
   "cell_type": "code",
   "execution_count": 38,
   "metadata": {},
   "outputs": [
    {
     "ename": "",
     "evalue": "",
     "output_type": "error",
     "traceback": [
      "\u001b[1;31mThe Kernel crashed while executing code in the current cell or a previous cell. \n",
      "\u001b[1;31mPlease review the code in the cell(s) to identify a possible cause of the failure. \n",
      "\u001b[1;31mClick <a href='https://aka.ms/vscodeJupyterKernelCrash'>here</a> for more info. \n",
      "\u001b[1;31mView Jupyter <a href='command:jupyter.viewOutput'>log</a> for further details."
     ]
    }
   ],
   "source": [
    "df = customer_conversation.map(\n",
    "    lambda x: x.replace('\"', \"\") if isinstance(x, str) else x\n",
    ")\n",
    "df = df.map(lambda x: x.replace(\"'\", \"\") if isinstance(x, str) else x)\n",
    "df = df.map(lambda x: x.replace(\"\\n\", \"\") if isinstance(x, str) else x)\n",
    "\n",
    "df.to_json(\n",
    "    os.path.join(os.getcwd(), \"result.json\"),\n",
    "    orient=\"records\",\n",
    "    indent=4,\n",
    "    date_format=\"iso\",\n",
    "    force_ascii=False,\n",
    ")"
   ]
  },
  {
   "cell_type": "code",
   "execution_count": null,
   "metadata": {},
   "outputs": [],
   "source": []
  }
 ],
 "metadata": {
  "kernelspec": {
   "display_name": ".venv",
   "language": "python",
   "name": "python3"
  },
  "language_info": {
   "codemirror_mode": {
    "name": "ipython",
    "version": 3
   },
   "file_extension": ".py",
   "mimetype": "text/x-python",
   "name": "python",
   "nbconvert_exporter": "python",
   "pygments_lexer": "ipython3",
   "version": "3.12.0"
  }
 },
 "nbformat": 4,
 "nbformat_minor": 2
}
