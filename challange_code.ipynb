{
 "cells": [
  {
   "cell_type": "code",
   "execution_count": 164,
   "metadata": {},
   "outputs": [],
   "source": [
    "import pandas as pd\n",
    "from datasets import load_dataset\n",
    "pd.set_option('display.max_rows', None)  # Display all rows\n",
    "pd.set_option('display.max_columns', None)  # Display all columns\n",
    "pd.set_option('display.max_colwidth', None)  # Display full content of each cell"
   ]
  },
  {
   "cell_type": "code",
   "execution_count": 165,
   "metadata": {},
   "outputs": [],
   "source": [
    "dataset = load_dataset(\"NebulaByte/E-Commerce_Customer_Support_Conversations\")\n",
    "train_data = dataset[\"train\"]\n",
    "customer_conversation = train_data.to_pandas()[[\"conversation\"]]"
   ]
  },
  {
   "cell_type": "code",
   "execution_count": 166,
   "metadata": {},
   "outputs": [
    {
     "data": {
      "text/html": [
       "<div>\n",
       "<style scoped>\n",
       "    .dataframe tbody tr th:only-of-type {\n",
       "        vertical-align: middle;\n",
       "    }\n",
       "\n",
       "    .dataframe tbody tr th {\n",
       "        vertical-align: top;\n",
       "    }\n",
       "\n",
       "    .dataframe thead th {\n",
       "        text-align: right;\n",
       "    }\n",
       "</style>\n",
       "<table border=\"1\" class=\"dataframe\">\n",
       "  <thead>\n",
       "    <tr style=\"text-align: right;\">\n",
       "      <th></th>\n",
       "      <th>conversation</th>\n",
       "    </tr>\n",
       "  </thead>\n",
       "  <tbody>\n",
       "    <tr>\n",
       "      <th>0</th>\n",
       "      <td>Agent: Thank you for calling BrownBox Customer Support. My name is Tom. How may I assist you today?\\n\\nCustomer: Hi Tom, I'm trying to log in to my account to purchase an Oven Toaster Grill (OTG), but I'm unable to proceed as it's asking for mobile number or email verification. Can you help me with that?\\n\\nAgent: Sure, I can assist you with that. May I know your registered mobile number or email address, please?\\n\\nCustomer: My registered mobile number is +1 123-456-7890.\\n\\nAgent: Thank you. Let me check that for you. I'm sorry to inform you that we don't have this number on our records. Can you please confirm if this is the correct number?\\n\\nCustomer: Oh, I'm sorry. I might have registered with a different number. Can you please check with my email address instead? It's johndoe@email.com.\\n\\nAgent: Sure, let me check that for you. (After a few moments) I see that we have your email address on our records. We'll be sending you a verification code shortly. Please check your email and let me know once you receive it.\\n\\nCustomer: Okay, I received the code. What do I do with it?\\n\\nAgent: Please enter the verification code in the field provided and click on 'Verify'. Once your email address is verified, you'll be able to proceed with your purchase.\\n\\nCustomer: Okay, I entered the code, and it's verified now. Thank you for your help.\\n\\nAgent: You're welcome. Is there anything else I can assist you with?\\n\\nCustomer: No, that's all. Thank you.\\n\\nAgent: You're welcome. Have a great day!</td>\n",
       "    </tr>\n",
       "    <tr>\n",
       "      <th>1</th>\n",
       "      <td>Agent: Thank you for calling BrownBox customer support. My name is Alex. How may I assist you today?\\n\\nCustomer: Hi Alex. I recently received an email from BrownBox requesting me to ship back the computer monitor I purchased last week. Can you please tell me why I am being asked to ship it back?\\n\\nAgent: Sure, I'll be happy to help you with that. May I have your order number, please?\\n\\nCustomer: Yes, it's 789101.\\n\\nAgent: Thank you. Let me check the details of your order. (After a few seconds) I see that the monitor you purchased has been recalled by the manufacturer due to a technical issue. For safety reasons, we are requesting our customers to return the product, and we will be providing a full refund.\\n\\nCustomer: Oh, I see. That makes sense. Can you guide me through the process of returning the monitor?\\n\\nAgent: Of course. We will be sending you a prepaid shipping label via email within the next 24 hours. Please print the label, pack the monitor securely in its original packaging, and drop it off at any UPS store. Once we receive the product, we will initiate the refund process, and you will receive your money within 5-7 business days.\\n\\nCustomer: Okay, that sounds straightforward. Thank you for explaining the process to me.\\n\\nAgent: You're welcome. Is there anything else I can assist you with?\\n\\nCustomer: No, that's all for now. Thank you for your help.\\n\\nAgent: You're welcome. If you have any other questions or concerns, please don't hesitate to reach out to us. Have a great day!\\n\\nCustomer: You too. Goodbye.\\n\\nAgent: Goodbye.</td>\n",
       "    </tr>\n",
       "  </tbody>\n",
       "</table>\n",
       "</div>"
      ],
      "text/plain": [
       "                                                                                                                                                                                                                                                                                                                                                                                                                                                                                                                                                                                                                                                                                                                                                                                                                                                                                                                                                                                                                                                                                                                                                                                                                                                                                                                                                                                                                                                                                                                                                                                                                         conversation\n",
       "0                                                             Agent: Thank you for calling BrownBox Customer Support. My name is Tom. How may I assist you today?\\n\\nCustomer: Hi Tom, I'm trying to log in to my account to purchase an Oven Toaster Grill (OTG), but I'm unable to proceed as it's asking for mobile number or email verification. Can you help me with that?\\n\\nAgent: Sure, I can assist you with that. May I know your registered mobile number or email address, please?\\n\\nCustomer: My registered mobile number is +1 123-456-7890.\\n\\nAgent: Thank you. Let me check that for you. I'm sorry to inform you that we don't have this number on our records. Can you please confirm if this is the correct number?\\n\\nCustomer: Oh, I'm sorry. I might have registered with a different number. Can you please check with my email address instead? It's johndoe@email.com.\\n\\nAgent: Sure, let me check that for you. (After a few moments) I see that we have your email address on our records. We'll be sending you a verification code shortly. Please check your email and let me know once you receive it.\\n\\nCustomer: Okay, I received the code. What do I do with it?\\n\\nAgent: Please enter the verification code in the field provided and click on 'Verify'. Once your email address is verified, you'll be able to proceed with your purchase.\\n\\nCustomer: Okay, I entered the code, and it's verified now. Thank you for your help.\\n\\nAgent: You're welcome. Is there anything else I can assist you with?\\n\\nCustomer: No, that's all. Thank you.\\n\\nAgent: You're welcome. Have a great day!\n",
       "1  Agent: Thank you for calling BrownBox customer support. My name is Alex. How may I assist you today?\\n\\nCustomer: Hi Alex. I recently received an email from BrownBox requesting me to ship back the computer monitor I purchased last week. Can you please tell me why I am being asked to ship it back?\\n\\nAgent: Sure, I'll be happy to help you with that. May I have your order number, please?\\n\\nCustomer: Yes, it's 789101.\\n\\nAgent: Thank you. Let me check the details of your order. (After a few seconds) I see that the monitor you purchased has been recalled by the manufacturer due to a technical issue. For safety reasons, we are requesting our customers to return the product, and we will be providing a full refund.\\n\\nCustomer: Oh, I see. That makes sense. Can you guide me through the process of returning the monitor?\\n\\nAgent: Of course. We will be sending you a prepaid shipping label via email within the next 24 hours. Please print the label, pack the monitor securely in its original packaging, and drop it off at any UPS store. Once we receive the product, we will initiate the refund process, and you will receive your money within 5-7 business days.\\n\\nCustomer: Okay, that sounds straightforward. Thank you for explaining the process to me.\\n\\nAgent: You're welcome. Is there anything else I can assist you with?\\n\\nCustomer: No, that's all for now. Thank you for your help.\\n\\nAgent: You're welcome. If you have any other questions or concerns, please don't hesitate to reach out to us. Have a great day!\\n\\nCustomer: You too. Goodbye.\\n\\nAgent: Goodbye."
      ]
     },
     "execution_count": 166,
     "metadata": {},
     "output_type": "execute_result"
    }
   ],
   "source": [
    "customer_conversation.head(2)"
   ]
  },
  {
   "cell_type": "code",
   "execution_count": 167,
   "metadata": {},
   "outputs": [],
   "source": [
    "import requests\n",
    "from ibm_watson import IAMTokenManager"
   ]
  },
  {
   "cell_type": "markdown",
   "metadata": {},
   "source": [
    "#### Define the static variables"
   ]
  },
  {
   "cell_type": "code",
   "execution_count": 168,
   "metadata": {},
   "outputs": [],
   "source": [
    "# API credentials and URL configuration\n",
    "API_KEY = \"utVIQO-z2u-qBcLrxHad15-9cAqxnC9Cl4b0hQigdHtZ\"\n",
    "SERVICE_URL = (\n",
    "    \"https://us-south.ml.cloud.ibm.com/ml/v1/text/generation?version=2023-05-29\"\n",
    ")\n",
    "INSTRUCT_MODEL_ID = \"ibm/granite-13b-instruct-v2\"\n",
    "CHAT_MODEL_ID = \"ibm/granite-13b-chat-v2\"\n",
    "PROJECT_ID = \"d80ea387-8eaa-42db-8d24-43edef6c6f69\""
   ]
  },
  {
   "cell_type": "markdown",
   "metadata": {},
   "source": [
    "#### Function to generate the bearer Token"
   ]
  },
  {
   "cell_type": "code",
   "execution_count": 169,
   "metadata": {},
   "outputs": [],
   "source": [
    "def get_token(api_key: str) -> str:\n",
    "    \"\"\"Generates and returns the IAM token.\"\"\"\n",
    "    try:\n",
    "        iam_token_manager = IAMTokenManager(apikey=api_key)\n",
    "        return iam_token_manager.get_token()\n",
    "    except Exception as e:\n",
    "        raise Exception(f\"Error obtaining IAM token: {str(e)}\")"
   ]
  },
  {
   "cell_type": "markdown",
   "metadata": {},
   "source": [
    "#### Request body function"
   ]
  },
  {
   "cell_type": "code",
   "execution_count": 170,
   "metadata": {},
   "outputs": [],
   "source": [
    "def create_request_body(model_id: str,input_text: str, max_tokens: int = 900) -> dict:\n",
    "    \"\"\"Creates the request body for the API call.\"\"\"\n",
    "    return {\n",
    "        \"input\": input_text,\n",
    "        \"parameters\": {\n",
    "            \"decoding_method\": \"greedy\",\n",
    "            \"max_new_tokens\": max_tokens,\n",
    "            \"repetition_penalty\": 1.05,\n",
    "        },\n",
    "        \"model_id\": model_id,\n",
    "        \"project_id\": PROJECT_ID,\n",
    "        \"moderations\": {\n",
    "            \"hap\": {\n",
    "                \"input\": {\n",
    "                    \"enabled\": True,\n",
    "                    \"threshold\": 0.5,\n",
    "                    \"mask\": {\"remove_entity_value\": True},\n",
    "                },\n",
    "                \"output\": {\n",
    "                    \"enabled\": True,\n",
    "                    \"threshold\": 0.5,\n",
    "                    \"mask\": {\"remove_entity_value\": True},\n",
    "                },\n",
    "            }\n",
    "        },\n",
    "    }"
   ]
  },
  {
   "cell_type": "markdown",
   "metadata": {},
   "source": [
    "#### API request function"
   ]
  },
  {
   "cell_type": "code",
   "execution_count": 171,
   "metadata": {},
   "outputs": [],
   "source": [
    "def make_api_request(body: dict, token: str, url: str) -> dict:\n",
    "    \"\"\"Makes the API request to the IBM Watson service.\"\"\"\n",
    "    headers = {\n",
    "        \"Accept\": \"application/json\",\n",
    "        \"Content-Type\": \"application/json\",\n",
    "        \"Authorization\": f\"Bearer {token}\",\n",
    "    }\n",
    "\n",
    "    try:\n",
    "        response = requests.post(url, headers=headers, json=body)\n",
    "        response.raise_for_status()\n",
    "    except requests.exceptions.RequestException as e:\n",
    "        raise Exception(f\"API request failed: {str(e)}\")\n",
    "\n",
    "    return response.json()"
   ]
  },
  {
   "cell_type": "markdown",
   "metadata": {},
   "source": [
    "#### Chat message function wrapper"
   ]
  },
  {
   "cell_type": "code",
   "execution_count": 172,
   "metadata": {},
   "outputs": [],
   "source": [
    "def get_chat_message(prompt, input,model_id):\n",
    "    input_text = f\"{prompt} \\n {input}\"\n",
    "    # print(input_text)\n",
    "    token = get_token(API_KEY)\n",
    "    body = create_request_body(model_id, input_text)\n",
    "    data = make_api_request(body, token, SERVICE_URL)\n",
    "    return data[\"results\"][0][\"generated_text\"]"
   ]
  },
  {
   "cell_type": "markdown",
   "metadata": {},
   "source": [
    "#### Temporary limit for 2 records (token control)"
   ]
  },
  {
   "cell_type": "code",
   "execution_count": 173,
   "metadata": {},
   "outputs": [
    {
     "data": {
      "text/html": [
       "<div>\n",
       "<style scoped>\n",
       "    .dataframe tbody tr th:only-of-type {\n",
       "        vertical-align: middle;\n",
       "    }\n",
       "\n",
       "    .dataframe tbody tr th {\n",
       "        vertical-align: top;\n",
       "    }\n",
       "\n",
       "    .dataframe thead th {\n",
       "        text-align: right;\n",
       "    }\n",
       "</style>\n",
       "<table border=\"1\" class=\"dataframe\">\n",
       "  <thead>\n",
       "    <tr style=\"text-align: right;\">\n",
       "      <th></th>\n",
       "      <th>conversation</th>\n",
       "    </tr>\n",
       "  </thead>\n",
       "  <tbody>\n",
       "    <tr>\n",
       "      <th>0</th>\n",
       "      <td>Agent: Thank you for calling BrownBox Customer Support. My name is Tom. How may I assist you today?\\n\\nCustomer: Hi Tom, I'm trying to log in to my account to purchase an Oven Toaster Grill (OTG), but I'm unable to proceed as it's asking for mobile number or email verification. Can you help me with that?\\n\\nAgent: Sure, I can assist you with that. May I know your registered mobile number or email address, please?\\n\\nCustomer: My registered mobile number is +1 123-456-7890.\\n\\nAgent: Thank you. Let me check that for you. I'm sorry to inform you that we don't have this number on our records. Can you please confirm if this is the correct number?\\n\\nCustomer: Oh, I'm sorry. I might have registered with a different number. Can you please check with my email address instead? It's johndoe@email.com.\\n\\nAgent: Sure, let me check that for you. (After a few moments) I see that we have your email address on our records. We'll be sending you a verification code shortly. Please check your email and let me know once you receive it.\\n\\nCustomer: Okay, I received the code. What do I do with it?\\n\\nAgent: Please enter the verification code in the field provided and click on 'Verify'. Once your email address is verified, you'll be able to proceed with your purchase.\\n\\nCustomer: Okay, I entered the code, and it's verified now. Thank you for your help.\\n\\nAgent: You're welcome. Is there anything else I can assist you with?\\n\\nCustomer: No, that's all. Thank you.\\n\\nAgent: You're welcome. Have a great day!</td>\n",
       "    </tr>\n",
       "    <tr>\n",
       "      <th>1</th>\n",
       "      <td>Agent: Thank you for calling BrownBox customer support. My name is Alex. How may I assist you today?\\n\\nCustomer: Hi Alex. I recently received an email from BrownBox requesting me to ship back the computer monitor I purchased last week. Can you please tell me why I am being asked to ship it back?\\n\\nAgent: Sure, I'll be happy to help you with that. May I have your order number, please?\\n\\nCustomer: Yes, it's 789101.\\n\\nAgent: Thank you. Let me check the details of your order. (After a few seconds) I see that the monitor you purchased has been recalled by the manufacturer due to a technical issue. For safety reasons, we are requesting our customers to return the product, and we will be providing a full refund.\\n\\nCustomer: Oh, I see. That makes sense. Can you guide me through the process of returning the monitor?\\n\\nAgent: Of course. We will be sending you a prepaid shipping label via email within the next 24 hours. Please print the label, pack the monitor securely in its original packaging, and drop it off at any UPS store. Once we receive the product, we will initiate the refund process, and you will receive your money within 5-7 business days.\\n\\nCustomer: Okay, that sounds straightforward. Thank you for explaining the process to me.\\n\\nAgent: You're welcome. Is there anything else I can assist you with?\\n\\nCustomer: No, that's all for now. Thank you for your help.\\n\\nAgent: You're welcome. If you have any other questions or concerns, please don't hesitate to reach out to us. Have a great day!\\n\\nCustomer: You too. Goodbye.\\n\\nAgent: Goodbye.</td>\n",
       "    </tr>\n",
       "  </tbody>\n",
       "</table>\n",
       "</div>"
      ],
      "text/plain": [
       "                                                                                                                                                                                                                                                                                                                                                                                                                                                                                                                                                                                                                                                                                                                                                                                                                                                                                                                                                                                                                                                                                                                                                                                                                                                                                                                                                                                                                                                                                                                                                                                                                         conversation\n",
       "0                                                             Agent: Thank you for calling BrownBox Customer Support. My name is Tom. How may I assist you today?\\n\\nCustomer: Hi Tom, I'm trying to log in to my account to purchase an Oven Toaster Grill (OTG), but I'm unable to proceed as it's asking for mobile number or email verification. Can you help me with that?\\n\\nAgent: Sure, I can assist you with that. May I know your registered mobile number or email address, please?\\n\\nCustomer: My registered mobile number is +1 123-456-7890.\\n\\nAgent: Thank you. Let me check that for you. I'm sorry to inform you that we don't have this number on our records. Can you please confirm if this is the correct number?\\n\\nCustomer: Oh, I'm sorry. I might have registered with a different number. Can you please check with my email address instead? It's johndoe@email.com.\\n\\nAgent: Sure, let me check that for you. (After a few moments) I see that we have your email address on our records. We'll be sending you a verification code shortly. Please check your email and let me know once you receive it.\\n\\nCustomer: Okay, I received the code. What do I do with it?\\n\\nAgent: Please enter the verification code in the field provided and click on 'Verify'. Once your email address is verified, you'll be able to proceed with your purchase.\\n\\nCustomer: Okay, I entered the code, and it's verified now. Thank you for your help.\\n\\nAgent: You're welcome. Is there anything else I can assist you with?\\n\\nCustomer: No, that's all. Thank you.\\n\\nAgent: You're welcome. Have a great day!\n",
       "1  Agent: Thank you for calling BrownBox customer support. My name is Alex. How may I assist you today?\\n\\nCustomer: Hi Alex. I recently received an email from BrownBox requesting me to ship back the computer monitor I purchased last week. Can you please tell me why I am being asked to ship it back?\\n\\nAgent: Sure, I'll be happy to help you with that. May I have your order number, please?\\n\\nCustomer: Yes, it's 789101.\\n\\nAgent: Thank you. Let me check the details of your order. (After a few seconds) I see that the monitor you purchased has been recalled by the manufacturer due to a technical issue. For safety reasons, we are requesting our customers to return the product, and we will be providing a full refund.\\n\\nCustomer: Oh, I see. That makes sense. Can you guide me through the process of returning the monitor?\\n\\nAgent: Of course. We will be sending you a prepaid shipping label via email within the next 24 hours. Please print the label, pack the monitor securely in its original packaging, and drop it off at any UPS store. Once we receive the product, we will initiate the refund process, and you will receive your money within 5-7 business days.\\n\\nCustomer: Okay, that sounds straightforward. Thank you for explaining the process to me.\\n\\nAgent: You're welcome. Is there anything else I can assist you with?\\n\\nCustomer: No, that's all for now. Thank you for your help.\\n\\nAgent: You're welcome. If you have any other questions or concerns, please don't hesitate to reach out to us. Have a great day!\\n\\nCustomer: You too. Goodbye.\\n\\nAgent: Goodbye."
      ]
     },
     "execution_count": 173,
     "metadata": {},
     "output_type": "execute_result"
    }
   ],
   "source": [
    "customer_conversation = customer_conversation.loc[:1]\n",
    "customer_conversation"
   ]
  },
  {
   "cell_type": "markdown",
   "metadata": {},
   "source": [
    "#### Sentiment Analysis"
   ]
  },
  {
   "cell_type": "code",
   "execution_count": 174,
   "metadata": {},
   "outputs": [],
   "source": [
    "sentiment_analysis_prompt = \"Analyze the sentiment of the following text and only return one word: 'positive', 'negative', or 'neutral' without any explanation or additional information. Text: \"\n",
    "\n",
    "customer_conversation[\"sentiment\"] = customer_conversation.apply(\n",
    "    lambda row: get_chat_message(sentiment_analysis_prompt, row[\"conversation\"],INSTRUCT_MODEL_ID), axis=1\n",
    ")"
   ]
  },
  {
   "cell_type": "code",
   "execution_count": 175,
   "metadata": {},
   "outputs": [
    {
     "data": {
      "text/html": [
       "<div>\n",
       "<style scoped>\n",
       "    .dataframe tbody tr th:only-of-type {\n",
       "        vertical-align: middle;\n",
       "    }\n",
       "\n",
       "    .dataframe tbody tr th {\n",
       "        vertical-align: top;\n",
       "    }\n",
       "\n",
       "    .dataframe thead th {\n",
       "        text-align: right;\n",
       "    }\n",
       "</style>\n",
       "<table border=\"1\" class=\"dataframe\">\n",
       "  <thead>\n",
       "    <tr style=\"text-align: right;\">\n",
       "      <th></th>\n",
       "      <th>conversation</th>\n",
       "      <th>sentiment</th>\n",
       "    </tr>\n",
       "  </thead>\n",
       "  <tbody>\n",
       "    <tr>\n",
       "      <th>0</th>\n",
       "      <td>Agent: Thank you for calling BrownBox Customer Support. My name is Tom. How may I assist you today?\\n\\nCustomer: Hi Tom, I'm trying to log in to my account to purchase an Oven Toaster Grill (OTG), but I'm unable to proceed as it's asking for mobile number or email verification. Can you help me with that?\\n\\nAgent: Sure, I can assist you with that. May I know your registered mobile number or email address, please?\\n\\nCustomer: My registered mobile number is +1 123-456-7890.\\n\\nAgent: Thank you. Let me check that for you. I'm sorry to inform you that we don't have this number on our records. Can you please confirm if this is the correct number?\\n\\nCustomer: Oh, I'm sorry. I might have registered with a different number. Can you please check with my email address instead? It's johndoe@email.com.\\n\\nAgent: Sure, let me check that for you. (After a few moments) I see that we have your email address on our records. We'll be sending you a verification code shortly. Please check your email and let me know once you receive it.\\n\\nCustomer: Okay, I received the code. What do I do with it?\\n\\nAgent: Please enter the verification code in the field provided and click on 'Verify'. Once your email address is verified, you'll be able to proceed with your purchase.\\n\\nCustomer: Okay, I entered the code, and it's verified now. Thank you for your help.\\n\\nAgent: You're welcome. Is there anything else I can assist you with?\\n\\nCustomer: No, that's all. Thank you.\\n\\nAgent: You're welcome. Have a great day!</td>\n",
       "      <td>positive</td>\n",
       "    </tr>\n",
       "    <tr>\n",
       "      <th>1</th>\n",
       "      <td>Agent: Thank you for calling BrownBox customer support. My name is Alex. How may I assist you today?\\n\\nCustomer: Hi Alex. I recently received an email from BrownBox requesting me to ship back the computer monitor I purchased last week. Can you please tell me why I am being asked to ship it back?\\n\\nAgent: Sure, I'll be happy to help you with that. May I have your order number, please?\\n\\nCustomer: Yes, it's 789101.\\n\\nAgent: Thank you. Let me check the details of your order. (After a few seconds) I see that the monitor you purchased has been recalled by the manufacturer due to a technical issue. For safety reasons, we are requesting our customers to return the product, and we will be providing a full refund.\\n\\nCustomer: Oh, I see. That makes sense. Can you guide me through the process of returning the monitor?\\n\\nAgent: Of course. We will be sending you a prepaid shipping label via email within the next 24 hours. Please print the label, pack the monitor securely in its original packaging, and drop it off at any UPS store. Once we receive the product, we will initiate the refund process, and you will receive your money within 5-7 business days.\\n\\nCustomer: Okay, that sounds straightforward. Thank you for explaining the process to me.\\n\\nAgent: You're welcome. Is there anything else I can assist you with?\\n\\nCustomer: No, that's all for now. Thank you for your help.\\n\\nAgent: You're welcome. If you have any other questions or concerns, please don't hesitate to reach out to us. Have a great day!\\n\\nCustomer: You too. Goodbye.\\n\\nAgent: Goodbye.</td>\n",
       "      <td>negative</td>\n",
       "    </tr>\n",
       "  </tbody>\n",
       "</table>\n",
       "</div>"
      ],
      "text/plain": [
       "                                                                                                                                                                                                                                                                                                                                                                                                                                                                                                                                                                                                                                                                                                                                                                                                                                                                                                                                                                                                                                                                                                                                                                                                                                                                                                                                                                                                                                                                                                                                                                                                                         conversation  \\\n",
       "0                                                             Agent: Thank you for calling BrownBox Customer Support. My name is Tom. How may I assist you today?\\n\\nCustomer: Hi Tom, I'm trying to log in to my account to purchase an Oven Toaster Grill (OTG), but I'm unable to proceed as it's asking for mobile number or email verification. Can you help me with that?\\n\\nAgent: Sure, I can assist you with that. May I know your registered mobile number or email address, please?\\n\\nCustomer: My registered mobile number is +1 123-456-7890.\\n\\nAgent: Thank you. Let me check that for you. I'm sorry to inform you that we don't have this number on our records. Can you please confirm if this is the correct number?\\n\\nCustomer: Oh, I'm sorry. I might have registered with a different number. Can you please check with my email address instead? It's johndoe@email.com.\\n\\nAgent: Sure, let me check that for you. (After a few moments) I see that we have your email address on our records. We'll be sending you a verification code shortly. Please check your email and let me know once you receive it.\\n\\nCustomer: Okay, I received the code. What do I do with it?\\n\\nAgent: Please enter the verification code in the field provided and click on 'Verify'. Once your email address is verified, you'll be able to proceed with your purchase.\\n\\nCustomer: Okay, I entered the code, and it's verified now. Thank you for your help.\\n\\nAgent: You're welcome. Is there anything else I can assist you with?\\n\\nCustomer: No, that's all. Thank you.\\n\\nAgent: You're welcome. Have a great day!   \n",
       "1  Agent: Thank you for calling BrownBox customer support. My name is Alex. How may I assist you today?\\n\\nCustomer: Hi Alex. I recently received an email from BrownBox requesting me to ship back the computer monitor I purchased last week. Can you please tell me why I am being asked to ship it back?\\n\\nAgent: Sure, I'll be happy to help you with that. May I have your order number, please?\\n\\nCustomer: Yes, it's 789101.\\n\\nAgent: Thank you. Let me check the details of your order. (After a few seconds) I see that the monitor you purchased has been recalled by the manufacturer due to a technical issue. For safety reasons, we are requesting our customers to return the product, and we will be providing a full refund.\\n\\nCustomer: Oh, I see. That makes sense. Can you guide me through the process of returning the monitor?\\n\\nAgent: Of course. We will be sending you a prepaid shipping label via email within the next 24 hours. Please print the label, pack the monitor securely in its original packaging, and drop it off at any UPS store. Once we receive the product, we will initiate the refund process, and you will receive your money within 5-7 business days.\\n\\nCustomer: Okay, that sounds straightforward. Thank you for explaining the process to me.\\n\\nAgent: You're welcome. Is there anything else I can assist you with?\\n\\nCustomer: No, that's all for now. Thank you for your help.\\n\\nAgent: You're welcome. If you have any other questions or concerns, please don't hesitate to reach out to us. Have a great day!\\n\\nCustomer: You too. Goodbye.\\n\\nAgent: Goodbye.   \n",
       "\n",
       "  sentiment  \n",
       "0  positive  \n",
       "1  negative  "
      ]
     },
     "execution_count": 175,
     "metadata": {},
     "output_type": "execute_result"
    }
   ],
   "source": [
    "customer_conversation.head()"
   ]
  },
  {
   "cell_type": "markdown",
   "metadata": {},
   "source": [
    "#### Text Summarization"
   ]
  },
  {
   "cell_type": "code",
   "execution_count": 176,
   "metadata": {},
   "outputs": [],
   "source": [
    "call_summary_prompt = \"Summarize the below call recording. Maxumum 100 Words. Recording: \"\n",
    "\n",
    "customer_conversation[\"call_summary\"] = customer_conversation.apply(\n",
    "    lambda row: get_chat_message(call_summary_prompt, row[\"conversation\"],CHAT_MODEL_ID), axis=1\n",
    ")"
   ]
  },
  {
   "cell_type": "code",
   "execution_count": 177,
   "metadata": {},
   "outputs": [
    {
     "data": {
      "text/html": [
       "<div>\n",
       "<style scoped>\n",
       "    .dataframe tbody tr th:only-of-type {\n",
       "        vertical-align: middle;\n",
       "    }\n",
       "\n",
       "    .dataframe tbody tr th {\n",
       "        vertical-align: top;\n",
       "    }\n",
       "\n",
       "    .dataframe thead th {\n",
       "        text-align: right;\n",
       "    }\n",
       "</style>\n",
       "<table border=\"1\" class=\"dataframe\">\n",
       "  <thead>\n",
       "    <tr style=\"text-align: right;\">\n",
       "      <th></th>\n",
       "      <th>conversation</th>\n",
       "      <th>sentiment</th>\n",
       "      <th>call_summary</th>\n",
       "    </tr>\n",
       "  </thead>\n",
       "  <tbody>\n",
       "    <tr>\n",
       "      <th>0</th>\n",
       "      <td>Agent: Thank you for calling BrownBox Customer Support. My name is Tom. How may I assist you today?\\n\\nCustomer: Hi Tom, I'm trying to log in to my account to purchase an Oven Toaster Grill (OTG), but I'm unable to proceed as it's asking for mobile number or email verification. Can you help me with that?\\n\\nAgent: Sure, I can assist you with that. May I know your registered mobile number or email address, please?\\n\\nCustomer: My registered mobile number is +1 123-456-7890.\\n\\nAgent: Thank you. Let me check that for you. I'm sorry to inform you that we don't have this number on our records. Can you please confirm if this is the correct number?\\n\\nCustomer: Oh, I'm sorry. I might have registered with a different number. Can you please check with my email address instead? It's johndoe@email.com.\\n\\nAgent: Sure, let me check that for you. (After a few moments) I see that we have your email address on our records. We'll be sending you a verification code shortly. Please check your email and let me know once you receive it.\\n\\nCustomer: Okay, I received the code. What do I do with it?\\n\\nAgent: Please enter the verification code in the field provided and click on 'Verify'. Once your email address is verified, you'll be able to proceed with your purchase.\\n\\nCustomer: Okay, I entered the code, and it's verified now. Thank you for your help.\\n\\nAgent: You're welcome. Is there anything else I can assist you with?\\n\\nCustomer: No, that's all. Thank you.\\n\\nAgent: You're welcome. Have a great day!</td>\n",
       "      <td>positive</td>\n",
       "      <td>\\n\\nThe customer was able to successfully verify their email address and complete the purchase process. The agent was patient and helpful throughout the interaction, ensuring that the customer's issue was resolved.\\n</td>\n",
       "    </tr>\n",
       "    <tr>\n",
       "      <th>1</th>\n",
       "      <td>Agent: Thank you for calling BrownBox customer support. My name is Alex. How may I assist you today?\\n\\nCustomer: Hi Alex. I recently received an email from BrownBox requesting me to ship back the computer monitor I purchased last week. Can you please tell me why I am being asked to ship it back?\\n\\nAgent: Sure, I'll be happy to help you with that. May I have your order number, please?\\n\\nCustomer: Yes, it's 789101.\\n\\nAgent: Thank you. Let me check the details of your order. (After a few seconds) I see that the monitor you purchased has been recalled by the manufacturer due to a technical issue. For safety reasons, we are requesting our customers to return the product, and we will be providing a full refund.\\n\\nCustomer: Oh, I see. That makes sense. Can you guide me through the process of returning the monitor?\\n\\nAgent: Of course. We will be sending you a prepaid shipping label via email within the next 24 hours. Please print the label, pack the monitor securely in its original packaging, and drop it off at any UPS store. Once we receive the product, we will initiate the refund process, and you will receive your money within 5-7 business days.\\n\\nCustomer: Okay, that sounds straightforward. Thank you for explaining the process to me.\\n\\nAgent: You're welcome. Is there anything else I can assist you with?\\n\\nCustomer: No, that's all for now. Thank you for your help.\\n\\nAgent: You're welcome. If you have any other questions or concerns, please don't hesitate to reach out to us. Have a great day!\\n\\nCustomer: You too. Goodbye.\\n\\nAgent: Goodbye.</td>\n",
       "      <td>negative</td>\n",
       "      <td>\\n\\nIn this call recording, the customer expresses concern about a recall notice for a computer monitor they recently purchased from BrownBox. The agent provides clear instructions on how to return the product and ensures the customer that a full refund will be issued. The interaction demonstrates effective customer service and transparency in addressing the customer's issue.</td>\n",
       "    </tr>\n",
       "  </tbody>\n",
       "</table>\n",
       "</div>"
      ],
      "text/plain": [
       "                                                                                                                                                                                                                                                                                                                                                                                                                                                                                                                                                                                                                                                                                                                                                                                                                                                                                                                                                                                                                                                                                                                                                                                                                                                                                                                                                                                                                                                                                                                                                                                                                         conversation  \\\n",
       "0                                                             Agent: Thank you for calling BrownBox Customer Support. My name is Tom. How may I assist you today?\\n\\nCustomer: Hi Tom, I'm trying to log in to my account to purchase an Oven Toaster Grill (OTG), but I'm unable to proceed as it's asking for mobile number or email verification. Can you help me with that?\\n\\nAgent: Sure, I can assist you with that. May I know your registered mobile number or email address, please?\\n\\nCustomer: My registered mobile number is +1 123-456-7890.\\n\\nAgent: Thank you. Let me check that for you. I'm sorry to inform you that we don't have this number on our records. Can you please confirm if this is the correct number?\\n\\nCustomer: Oh, I'm sorry. I might have registered with a different number. Can you please check with my email address instead? It's johndoe@email.com.\\n\\nAgent: Sure, let me check that for you. (After a few moments) I see that we have your email address on our records. We'll be sending you a verification code shortly. Please check your email and let me know once you receive it.\\n\\nCustomer: Okay, I received the code. What do I do with it?\\n\\nAgent: Please enter the verification code in the field provided and click on 'Verify'. Once your email address is verified, you'll be able to proceed with your purchase.\\n\\nCustomer: Okay, I entered the code, and it's verified now. Thank you for your help.\\n\\nAgent: You're welcome. Is there anything else I can assist you with?\\n\\nCustomer: No, that's all. Thank you.\\n\\nAgent: You're welcome. Have a great day!   \n",
       "1  Agent: Thank you for calling BrownBox customer support. My name is Alex. How may I assist you today?\\n\\nCustomer: Hi Alex. I recently received an email from BrownBox requesting me to ship back the computer monitor I purchased last week. Can you please tell me why I am being asked to ship it back?\\n\\nAgent: Sure, I'll be happy to help you with that. May I have your order number, please?\\n\\nCustomer: Yes, it's 789101.\\n\\nAgent: Thank you. Let me check the details of your order. (After a few seconds) I see that the monitor you purchased has been recalled by the manufacturer due to a technical issue. For safety reasons, we are requesting our customers to return the product, and we will be providing a full refund.\\n\\nCustomer: Oh, I see. That makes sense. Can you guide me through the process of returning the monitor?\\n\\nAgent: Of course. We will be sending you a prepaid shipping label via email within the next 24 hours. Please print the label, pack the monitor securely in its original packaging, and drop it off at any UPS store. Once we receive the product, we will initiate the refund process, and you will receive your money within 5-7 business days.\\n\\nCustomer: Okay, that sounds straightforward. Thank you for explaining the process to me.\\n\\nAgent: You're welcome. Is there anything else I can assist you with?\\n\\nCustomer: No, that's all for now. Thank you for your help.\\n\\nAgent: You're welcome. If you have any other questions or concerns, please don't hesitate to reach out to us. Have a great day!\\n\\nCustomer: You too. Goodbye.\\n\\nAgent: Goodbye.   \n",
       "\n",
       "  sentiment  \\\n",
       "0  positive   \n",
       "1  negative   \n",
       "\n",
       "                                                                                                                                                                                                                                                                                                                                                                                 call_summary  \n",
       "0                                                                                                                                                                    \\n\\nThe customer was able to successfully verify their email address and complete the purchase process. The agent was patient and helpful throughout the interaction, ensuring that the customer's issue was resolved.\\n  \n",
       "1  \\n\\nIn this call recording, the customer expresses concern about a recall notice for a computer monitor they recently purchased from BrownBox. The agent provides clear instructions on how to return the product and ensures the customer that a full refund will be issued. The interaction demonstrates effective customer service and transparency in addressing the customer's issue.  "
      ]
     },
     "execution_count": 177,
     "metadata": {},
     "output_type": "execute_result"
    }
   ],
   "source": [
    "customer_conversation.head()"
   ]
  },
  {
   "cell_type": "code",
   "execution_count": null,
   "metadata": {},
   "outputs": [],
   "source": []
  }
 ],
 "metadata": {
  "kernelspec": {
   "display_name": ".venv",
   "language": "python",
   "name": "python3"
  },
  "language_info": {
   "codemirror_mode": {
    "name": "ipython",
    "version": 3
   },
   "file_extension": ".py",
   "mimetype": "text/x-python",
   "name": "python",
   "nbconvert_exporter": "python",
   "pygments_lexer": "ipython3",
   "version": "3.12.0"
  }
 },
 "nbformat": 4,
 "nbformat_minor": 2
}
