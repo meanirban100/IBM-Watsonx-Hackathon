{
 "cells": [
  {
   "cell_type": "markdown",
   "metadata": {},
   "source": [
    "#### Import the required libraries"
   ]
  },
  {
   "cell_type": "code",
   "execution_count": 1,
   "metadata": {},
   "outputs": [],
   "source": [
    "import plotly.express as px\n",
    "import pandas as pd\n",
    "import os\n",
    "import plotly.graph_objects as go\n",
    "import pandas as pd\n",
    "import numpy as np\n",
    "import warnings\n",
    "import json\n",
    "from wordcloud import WordCloud\n",
    "import matplotlib.pyplot as plt\n",
    "from io import BytesIO\n",
    "import base64\n",
    "\n",
    "warnings.filterwarnings(\"ignore\")"
   ]
  },
  {
   "cell_type": "markdown",
   "metadata": {},
   "source": [
    "### Customer Sentiment by Day"
   ]
  },
  {
   "cell_type": "code",
   "execution_count": 2,
   "metadata": {},
   "outputs": [
    {
     "data": {
      "application/vnd.plotly.v1+json": {
       "config": {
        "plotlyServerURL": "https://plot.ly"
       },
       "data": [
        {
         "alignmentgroup": "True",
         "hovertemplate": "Sentiment=positive<br>Date=%{x}<br>Count=%{text}<extra></extra>",
         "legendgroup": "positive",
         "marker": {
          "color": "#636efa",
          "pattern": {
           "shape": ""
          }
         },
         "name": "positive",
         "offsetgroup": "positive",
         "orientation": "v",
         "showlegend": true,
         "text": [
          0,
          1,
          0,
          1,
          1,
          1,
          1,
          1,
          0,
          0,
          0,
          0
         ],
         "textposition": "auto",
         "type": "bar",
         "x": [
          "2024-09-08",
          "2024-09-09",
          "2024-09-10",
          "2024-09-11",
          "2024-09-12",
          "2024-09-13",
          "2024-09-14",
          "2024-09-15",
          "2024-09-16",
          "2024-09-17",
          "2024-09-18",
          "2024-09-19"
         ],
         "xaxis": "x",
         "y": [
          0,
          1,
          0,
          1,
          1,
          1,
          1,
          1,
          0,
          0,
          0,
          0
         ],
         "yaxis": "y"
        },
        {
         "alignmentgroup": "True",
         "hovertemplate": "Sentiment=neutral<br>Date=%{x}<br>Count=%{text}<extra></extra>",
         "legendgroup": "neutral",
         "marker": {
          "color": "#EF553B",
          "pattern": {
           "shape": ""
          }
         },
         "name": "neutral",
         "offsetgroup": "neutral",
         "orientation": "v",
         "showlegend": true,
         "text": [
          0,
          0,
          0,
          0,
          0,
          0,
          1,
          0,
          1,
          1,
          1,
          1
         ],
         "textposition": "auto",
         "type": "bar",
         "x": [
          "2024-09-08",
          "2024-09-09",
          "2024-09-10",
          "2024-09-11",
          "2024-09-12",
          "2024-09-13",
          "2024-09-14",
          "2024-09-15",
          "2024-09-16",
          "2024-09-17",
          "2024-09-18",
          "2024-09-19"
         ],
         "xaxis": "x",
         "y": [
          0,
          0,
          0,
          0,
          0,
          0,
          1,
          0,
          1,
          1,
          1,
          1
         ],
         "yaxis": "y"
        },
        {
         "alignmentgroup": "True",
         "hovertemplate": "Sentiment=negative<br>Date=%{x}<br>Count=%{text}<extra></extra>",
         "legendgroup": "negative",
         "marker": {
          "color": "#00cc96",
          "pattern": {
           "shape": ""
          }
         },
         "name": "negative",
         "offsetgroup": "negative",
         "orientation": "v",
         "showlegend": true,
         "text": [
          1,
          2,
          2,
          2,
          4,
          5,
          4,
          3,
          3,
          0,
          0,
          0
         ],
         "textposition": "auto",
         "type": "bar",
         "x": [
          "2024-09-08",
          "2024-09-09",
          "2024-09-10",
          "2024-09-11",
          "2024-09-12",
          "2024-09-13",
          "2024-09-14",
          "2024-09-15",
          "2024-09-16",
          "2024-09-17",
          "2024-09-18",
          "2024-09-19"
         ],
         "xaxis": "x",
         "y": [
          1,
          2,
          2,
          2,
          4,
          5,
          4,
          3,
          3,
          0,
          0,
          0
         ],
         "yaxis": "y"
        },
        {
         "alignmentgroup": "True",
         "hovertemplate": "Sentiment=unknown<br>Date=%{x}<br>Count=%{text}<extra></extra>",
         "legendgroup": "unknown",
         "marker": {
          "color": "#ab63fa",
          "pattern": {
           "shape": ""
          }
         },
         "name": "unknown",
         "offsetgroup": "unknown",
         "orientation": "v",
         "showlegend": true,
         "text": [
          0,
          1,
          1,
          0,
          1,
          2,
          1,
          0,
          1,
          3,
          1,
          0
         ],
         "textposition": "auto",
         "type": "bar",
         "x": [
          "2024-09-08",
          "2024-09-09",
          "2024-09-10",
          "2024-09-11",
          "2024-09-12",
          "2024-09-13",
          "2024-09-14",
          "2024-09-15",
          "2024-09-16",
          "2024-09-17",
          "2024-09-18",
          "2024-09-19"
         ],
         "xaxis": "x",
         "y": [
          0,
          1,
          1,
          0,
          1,
          2,
          1,
          0,
          1,
          3,
          1,
          0
         ],
         "yaxis": "y"
        }
       ],
       "layout": {
        "annotations": [
         {
          "font": {
           "color": "Black",
           "size": 10
          },
          "showarrow": false,
          "text": "Total:1",
          "x": "2024-09-08",
          "y": 5,
          "yshift": 10
         },
         {
          "font": {
           "color": "Black",
           "size": 10
          },
          "showarrow": false,
          "text": "Total:4",
          "x": "2024-09-09",
          "y": 5,
          "yshift": 10
         },
         {
          "font": {
           "color": "Black",
           "size": 10
          },
          "showarrow": false,
          "text": "Total:3",
          "x": "2024-09-10",
          "y": 5,
          "yshift": 10
         },
         {
          "font": {
           "color": "Black",
           "size": 10
          },
          "showarrow": false,
          "text": "Total:3",
          "x": "2024-09-11",
          "y": 5,
          "yshift": 10
         },
         {
          "font": {
           "color": "Black",
           "size": 10
          },
          "showarrow": false,
          "text": "Total:6",
          "x": "2024-09-12",
          "y": 5,
          "yshift": 10
         },
         {
          "font": {
           "color": "Black",
           "size": 10
          },
          "showarrow": false,
          "text": "Total:8",
          "x": "2024-09-13",
          "y": 5,
          "yshift": 10
         },
         {
          "font": {
           "color": "Black",
           "size": 10
          },
          "showarrow": false,
          "text": "Total:7",
          "x": "2024-09-14",
          "y": 5,
          "yshift": 10
         },
         {
          "font": {
           "color": "Black",
           "size": 10
          },
          "showarrow": false,
          "text": "Total:4",
          "x": "2024-09-15",
          "y": 5,
          "yshift": 10
         },
         {
          "font": {
           "color": "Black",
           "size": 10
          },
          "showarrow": false,
          "text": "Total:5",
          "x": "2024-09-16",
          "y": 5,
          "yshift": 10
         },
         {
          "font": {
           "color": "Black",
           "size": 10
          },
          "showarrow": false,
          "text": "Total:4",
          "x": "2024-09-17",
          "y": 5,
          "yshift": 10
         },
         {
          "font": {
           "color": "Black",
           "size": 10
          },
          "showarrow": false,
          "text": "Total:2",
          "x": "2024-09-18",
          "y": 5,
          "yshift": 10
         },
         {
          "font": {
           "color": "Black",
           "size": 10
          },
          "showarrow": false,
          "text": "Total:1",
          "x": "2024-09-19",
          "y": 5,
          "yshift": 10
         }
        ],
        "barmode": "group",
        "legend": {
         "title": {
          "text": "Sentiment"
         },
         "tracegroupgap": 0
        },
        "template": {
         "data": {
          "bar": [
           {
            "error_x": {
             "color": "#2a3f5f"
            },
            "error_y": {
             "color": "#2a3f5f"
            },
            "marker": {
             "line": {
              "color": "#E5ECF6",
              "width": 0.5
             },
             "pattern": {
              "fillmode": "overlay",
              "size": 10,
              "solidity": 0.2
             }
            },
            "type": "bar"
           }
          ],
          "barpolar": [
           {
            "marker": {
             "line": {
              "color": "#E5ECF6",
              "width": 0.5
             },
             "pattern": {
              "fillmode": "overlay",
              "size": 10,
              "solidity": 0.2
             }
            },
            "type": "barpolar"
           }
          ],
          "carpet": [
           {
            "aaxis": {
             "endlinecolor": "#2a3f5f",
             "gridcolor": "white",
             "linecolor": "white",
             "minorgridcolor": "white",
             "startlinecolor": "#2a3f5f"
            },
            "baxis": {
             "endlinecolor": "#2a3f5f",
             "gridcolor": "white",
             "linecolor": "white",
             "minorgridcolor": "white",
             "startlinecolor": "#2a3f5f"
            },
            "type": "carpet"
           }
          ],
          "choropleth": [
           {
            "colorbar": {
             "outlinewidth": 0,
             "ticks": ""
            },
            "type": "choropleth"
           }
          ],
          "contour": [
           {
            "colorbar": {
             "outlinewidth": 0,
             "ticks": ""
            },
            "colorscale": [
             [
              0,
              "#0d0887"
             ],
             [
              0.1111111111111111,
              "#46039f"
             ],
             [
              0.2222222222222222,
              "#7201a8"
             ],
             [
              0.3333333333333333,
              "#9c179e"
             ],
             [
              0.4444444444444444,
              "#bd3786"
             ],
             [
              0.5555555555555556,
              "#d8576b"
             ],
             [
              0.6666666666666666,
              "#ed7953"
             ],
             [
              0.7777777777777778,
              "#fb9f3a"
             ],
             [
              0.8888888888888888,
              "#fdca26"
             ],
             [
              1,
              "#f0f921"
             ]
            ],
            "type": "contour"
           }
          ],
          "contourcarpet": [
           {
            "colorbar": {
             "outlinewidth": 0,
             "ticks": ""
            },
            "type": "contourcarpet"
           }
          ],
          "heatmap": [
           {
            "colorbar": {
             "outlinewidth": 0,
             "ticks": ""
            },
            "colorscale": [
             [
              0,
              "#0d0887"
             ],
             [
              0.1111111111111111,
              "#46039f"
             ],
             [
              0.2222222222222222,
              "#7201a8"
             ],
             [
              0.3333333333333333,
              "#9c179e"
             ],
             [
              0.4444444444444444,
              "#bd3786"
             ],
             [
              0.5555555555555556,
              "#d8576b"
             ],
             [
              0.6666666666666666,
              "#ed7953"
             ],
             [
              0.7777777777777778,
              "#fb9f3a"
             ],
             [
              0.8888888888888888,
              "#fdca26"
             ],
             [
              1,
              "#f0f921"
             ]
            ],
            "type": "heatmap"
           }
          ],
          "heatmapgl": [
           {
            "colorbar": {
             "outlinewidth": 0,
             "ticks": ""
            },
            "colorscale": [
             [
              0,
              "#0d0887"
             ],
             [
              0.1111111111111111,
              "#46039f"
             ],
             [
              0.2222222222222222,
              "#7201a8"
             ],
             [
              0.3333333333333333,
              "#9c179e"
             ],
             [
              0.4444444444444444,
              "#bd3786"
             ],
             [
              0.5555555555555556,
              "#d8576b"
             ],
             [
              0.6666666666666666,
              "#ed7953"
             ],
             [
              0.7777777777777778,
              "#fb9f3a"
             ],
             [
              0.8888888888888888,
              "#fdca26"
             ],
             [
              1,
              "#f0f921"
             ]
            ],
            "type": "heatmapgl"
           }
          ],
          "histogram": [
           {
            "marker": {
             "pattern": {
              "fillmode": "overlay",
              "size": 10,
              "solidity": 0.2
             }
            },
            "type": "histogram"
           }
          ],
          "histogram2d": [
           {
            "colorbar": {
             "outlinewidth": 0,
             "ticks": ""
            },
            "colorscale": [
             [
              0,
              "#0d0887"
             ],
             [
              0.1111111111111111,
              "#46039f"
             ],
             [
              0.2222222222222222,
              "#7201a8"
             ],
             [
              0.3333333333333333,
              "#9c179e"
             ],
             [
              0.4444444444444444,
              "#bd3786"
             ],
             [
              0.5555555555555556,
              "#d8576b"
             ],
             [
              0.6666666666666666,
              "#ed7953"
             ],
             [
              0.7777777777777778,
              "#fb9f3a"
             ],
             [
              0.8888888888888888,
              "#fdca26"
             ],
             [
              1,
              "#f0f921"
             ]
            ],
            "type": "histogram2d"
           }
          ],
          "histogram2dcontour": [
           {
            "colorbar": {
             "outlinewidth": 0,
             "ticks": ""
            },
            "colorscale": [
             [
              0,
              "#0d0887"
             ],
             [
              0.1111111111111111,
              "#46039f"
             ],
             [
              0.2222222222222222,
              "#7201a8"
             ],
             [
              0.3333333333333333,
              "#9c179e"
             ],
             [
              0.4444444444444444,
              "#bd3786"
             ],
             [
              0.5555555555555556,
              "#d8576b"
             ],
             [
              0.6666666666666666,
              "#ed7953"
             ],
             [
              0.7777777777777778,
              "#fb9f3a"
             ],
             [
              0.8888888888888888,
              "#fdca26"
             ],
             [
              1,
              "#f0f921"
             ]
            ],
            "type": "histogram2dcontour"
           }
          ],
          "mesh3d": [
           {
            "colorbar": {
             "outlinewidth": 0,
             "ticks": ""
            },
            "type": "mesh3d"
           }
          ],
          "parcoords": [
           {
            "line": {
             "colorbar": {
              "outlinewidth": 0,
              "ticks": ""
             }
            },
            "type": "parcoords"
           }
          ],
          "pie": [
           {
            "automargin": true,
            "type": "pie"
           }
          ],
          "scatter": [
           {
            "fillpattern": {
             "fillmode": "overlay",
             "size": 10,
             "solidity": 0.2
            },
            "type": "scatter"
           }
          ],
          "scatter3d": [
           {
            "line": {
             "colorbar": {
              "outlinewidth": 0,
              "ticks": ""
             }
            },
            "marker": {
             "colorbar": {
              "outlinewidth": 0,
              "ticks": ""
             }
            },
            "type": "scatter3d"
           }
          ],
          "scattercarpet": [
           {
            "marker": {
             "colorbar": {
              "outlinewidth": 0,
              "ticks": ""
             }
            },
            "type": "scattercarpet"
           }
          ],
          "scattergeo": [
           {
            "marker": {
             "colorbar": {
              "outlinewidth": 0,
              "ticks": ""
             }
            },
            "type": "scattergeo"
           }
          ],
          "scattergl": [
           {
            "marker": {
             "colorbar": {
              "outlinewidth": 0,
              "ticks": ""
             }
            },
            "type": "scattergl"
           }
          ],
          "scattermapbox": [
           {
            "marker": {
             "colorbar": {
              "outlinewidth": 0,
              "ticks": ""
             }
            },
            "type": "scattermapbox"
           }
          ],
          "scatterpolar": [
           {
            "marker": {
             "colorbar": {
              "outlinewidth": 0,
              "ticks": ""
             }
            },
            "type": "scatterpolar"
           }
          ],
          "scatterpolargl": [
           {
            "marker": {
             "colorbar": {
              "outlinewidth": 0,
              "ticks": ""
             }
            },
            "type": "scatterpolargl"
           }
          ],
          "scatterternary": [
           {
            "marker": {
             "colorbar": {
              "outlinewidth": 0,
              "ticks": ""
             }
            },
            "type": "scatterternary"
           }
          ],
          "surface": [
           {
            "colorbar": {
             "outlinewidth": 0,
             "ticks": ""
            },
            "colorscale": [
             [
              0,
              "#0d0887"
             ],
             [
              0.1111111111111111,
              "#46039f"
             ],
             [
              0.2222222222222222,
              "#7201a8"
             ],
             [
              0.3333333333333333,
              "#9c179e"
             ],
             [
              0.4444444444444444,
              "#bd3786"
             ],
             [
              0.5555555555555556,
              "#d8576b"
             ],
             [
              0.6666666666666666,
              "#ed7953"
             ],
             [
              0.7777777777777778,
              "#fb9f3a"
             ],
             [
              0.8888888888888888,
              "#fdca26"
             ],
             [
              1,
              "#f0f921"
             ]
            ],
            "type": "surface"
           }
          ],
          "table": [
           {
            "cells": {
             "fill": {
              "color": "#EBF0F8"
             },
             "line": {
              "color": "white"
             }
            },
            "header": {
             "fill": {
              "color": "#C8D4E3"
             },
             "line": {
              "color": "white"
             }
            },
            "type": "table"
           }
          ]
         },
         "layout": {
          "annotationdefaults": {
           "arrowcolor": "#2a3f5f",
           "arrowhead": 0,
           "arrowwidth": 1
          },
          "autotypenumbers": "strict",
          "coloraxis": {
           "colorbar": {
            "outlinewidth": 0,
            "ticks": ""
           }
          },
          "colorscale": {
           "diverging": [
            [
             0,
             "#8e0152"
            ],
            [
             0.1,
             "#c51b7d"
            ],
            [
             0.2,
             "#de77ae"
            ],
            [
             0.3,
             "#f1b6da"
            ],
            [
             0.4,
             "#fde0ef"
            ],
            [
             0.5,
             "#f7f7f7"
            ],
            [
             0.6,
             "#e6f5d0"
            ],
            [
             0.7,
             "#b8e186"
            ],
            [
             0.8,
             "#7fbc41"
            ],
            [
             0.9,
             "#4d9221"
            ],
            [
             1,
             "#276419"
            ]
           ],
           "sequential": [
            [
             0,
             "#0d0887"
            ],
            [
             0.1111111111111111,
             "#46039f"
            ],
            [
             0.2222222222222222,
             "#7201a8"
            ],
            [
             0.3333333333333333,
             "#9c179e"
            ],
            [
             0.4444444444444444,
             "#bd3786"
            ],
            [
             0.5555555555555556,
             "#d8576b"
            ],
            [
             0.6666666666666666,
             "#ed7953"
            ],
            [
             0.7777777777777778,
             "#fb9f3a"
            ],
            [
             0.8888888888888888,
             "#fdca26"
            ],
            [
             1,
             "#f0f921"
            ]
           ],
           "sequentialminus": [
            [
             0,
             "#0d0887"
            ],
            [
             0.1111111111111111,
             "#46039f"
            ],
            [
             0.2222222222222222,
             "#7201a8"
            ],
            [
             0.3333333333333333,
             "#9c179e"
            ],
            [
             0.4444444444444444,
             "#bd3786"
            ],
            [
             0.5555555555555556,
             "#d8576b"
            ],
            [
             0.6666666666666666,
             "#ed7953"
            ],
            [
             0.7777777777777778,
             "#fb9f3a"
            ],
            [
             0.8888888888888888,
             "#fdca26"
            ],
            [
             1,
             "#f0f921"
            ]
           ]
          },
          "colorway": [
           "#636efa",
           "#EF553B",
           "#00cc96",
           "#ab63fa",
           "#FFA15A",
           "#19d3f3",
           "#FF6692",
           "#B6E880",
           "#FF97FF",
           "#FECB52"
          ],
          "font": {
           "color": "#2a3f5f"
          },
          "geo": {
           "bgcolor": "white",
           "lakecolor": "white",
           "landcolor": "#E5ECF6",
           "showlakes": true,
           "showland": true,
           "subunitcolor": "white"
          },
          "hoverlabel": {
           "align": "left"
          },
          "hovermode": "closest",
          "mapbox": {
           "style": "light"
          },
          "paper_bgcolor": "white",
          "plot_bgcolor": "#E5ECF6",
          "polar": {
           "angularaxis": {
            "gridcolor": "white",
            "linecolor": "white",
            "ticks": ""
           },
           "bgcolor": "#E5ECF6",
           "radialaxis": {
            "gridcolor": "white",
            "linecolor": "white",
            "ticks": ""
           }
          },
          "scene": {
           "xaxis": {
            "backgroundcolor": "#E5ECF6",
            "gridcolor": "white",
            "gridwidth": 2,
            "linecolor": "white",
            "showbackground": true,
            "ticks": "",
            "zerolinecolor": "white"
           },
           "yaxis": {
            "backgroundcolor": "#E5ECF6",
            "gridcolor": "white",
            "gridwidth": 2,
            "linecolor": "white",
            "showbackground": true,
            "ticks": "",
            "zerolinecolor": "white"
           },
           "zaxis": {
            "backgroundcolor": "#E5ECF6",
            "gridcolor": "white",
            "gridwidth": 2,
            "linecolor": "white",
            "showbackground": true,
            "ticks": "",
            "zerolinecolor": "white"
           }
          },
          "shapedefaults": {
           "line": {
            "color": "#2a3f5f"
           }
          },
          "ternary": {
           "aaxis": {
            "gridcolor": "white",
            "linecolor": "white",
            "ticks": ""
           },
           "baxis": {
            "gridcolor": "white",
            "linecolor": "white",
            "ticks": ""
           },
           "bgcolor": "#E5ECF6",
           "caxis": {
            "gridcolor": "white",
            "linecolor": "white",
            "ticks": ""
           }
          },
          "title": {
           "x": 0.05
          },
          "xaxis": {
           "automargin": true,
           "gridcolor": "white",
           "linecolor": "white",
           "ticks": "",
           "title": {
            "standoff": 15
           },
           "zerolinecolor": "white",
           "zerolinewidth": 2
          },
          "yaxis": {
           "automargin": true,
           "gridcolor": "white",
           "linecolor": "white",
           "ticks": "",
           "title": {
            "standoff": 15
           },
           "zerolinecolor": "white",
           "zerolinewidth": 2
          }
         }
        },
        "title": {
         "text": "Customer Sentiment Analysis by Day"
        },
        "xaxis": {
         "anchor": "y",
         "domain": [
          0,
          1
         ],
         "title": {
          "text": "Date"
         }
        },
        "yaxis": {
         "anchor": "x",
         "domain": [
          0,
          1
         ],
         "title": {
          "text": "Count"
         }
        }
       }
      }
     },
     "metadata": {},
     "output_type": "display_data"
    }
   ],
   "source": [
    "df = pd.read_json(os.path.join(os.getcwd(), \"result.json\"))\n",
    "df[\"recording_date\"] = pd.to_datetime(df[\"recording_date\"]).dt.date\n",
    "\n",
    "df_grouped = (\n",
    "    df.groupby([\"recording_date\", \"customer_sentiment\"])\n",
    "    .size()\n",
    "    .unstack(fill_value=0)\n",
    "    .reset_index()\n",
    ")\n",
    "df_grouped[\"total_calls\"] = df_grouped[\n",
    "    [\"positive\", \"neutral\", \"negative\", \"unknown\"]\n",
    "].sum(axis=1)\n",
    "\n",
    "df_melted = df_grouped.melt(\n",
    "    id_vars=[\"recording_date\", \"total_calls\"],\n",
    "    value_vars=[\"positive\", \"neutral\", \"negative\", \"unknown\"],\n",
    "    var_name=\"Sentiment\",\n",
    "    value_name=\"Count\",\n",
    ")\n",
    "\n",
    "fig = px.bar(\n",
    "    df_melted,\n",
    "    x=\"recording_date\",\n",
    "    y=\"Count\",\n",
    "    color=\"Sentiment\",\n",
    "    barmode=\"group\",\n",
    "    title=\"Customer Sentiment Analysis by Day\",\n",
    "    labels={\n",
    "        \"recording_date\": \"Date\",\n",
    "    },\n",
    "    text=\"Count\",\n",
    "    range_color={\"black\", \"blue\", \"yellow\"},\n",
    ")\n",
    "\n",
    "for date, total in zip(df_grouped[\"recording_date\"], df_grouped[\"total_calls\"]):\n",
    "    fig.add_annotation(\n",
    "        x=date,\n",
    "        y=max(df_melted[\"Count\"]),\n",
    "        text=f\"Total:{total}\",\n",
    "        showarrow=False,\n",
    "        yshift=10,\n",
    "        font=dict(size=10, color=\"Black\"),\n",
    "    )\n",
    "\n",
    "fig.show()"
   ]
  },
  {
   "cell_type": "markdown",
   "metadata": {},
   "source": [
    "#### Top 10 User Interest (Catagories)"
   ]
  },
  {
   "cell_type": "code",
   "execution_count": 3,
   "metadata": {},
   "outputs": [],
   "source": [
    "df = pd.read_json(os.path.join(os.getcwd(), \"result.json\"))\n",
    "\n",
    "\n",
    "def extract_categories(json_str):\n",
    "    try:\n",
    "        # Attempt to parse the JSON and return the 'categories' key\n",
    "        parsed_json = json.loads(json_str)\n",
    "        return str(parsed_json.get(\"product_interest\", None))\n",
    "    except (TypeError, json.JSONDecodeError):\n",
    "        # Handle missing or invalid JSON\n",
    "        return \"Nothing\"\n",
    "\n",
    "\n",
    "df[\"categories\"] = df[\"feature_extraction\"].apply(extract_categories)"
   ]
  },
  {
   "cell_type": "code",
   "execution_count": 4,
   "metadata": {},
   "outputs": [
    {
     "data": {
      "application/vnd.plotly.v1+json": {
       "config": {
        "plotlyServerURL": "https://plot.ly"
       },
       "data": [
        {
         "type": "bar",
         "x": [
          "water purifier",
          "BP monitor",
          "Juicer/Mixer/Grinder",
          "Refrigerator",
          "Wet Grinder",
          "Coffee Maker",
          "Sandwich maker",
          "Air conditioner",
          "OTG",
          "Computer monitor"
         ],
         "y": [
          3,
          2,
          2,
          2,
          2,
          2,
          2,
          2,
          1,
          1
         ]
        }
       ],
       "layout": {
        "template": {
         "data": {
          "bar": [
           {
            "error_x": {
             "color": "#2a3f5f"
            },
            "error_y": {
             "color": "#2a3f5f"
            },
            "marker": {
             "line": {
              "color": "#E5ECF6",
              "width": 0.5
             },
             "pattern": {
              "fillmode": "overlay",
              "size": 10,
              "solidity": 0.2
             }
            },
            "type": "bar"
           }
          ],
          "barpolar": [
           {
            "marker": {
             "line": {
              "color": "#E5ECF6",
              "width": 0.5
             },
             "pattern": {
              "fillmode": "overlay",
              "size": 10,
              "solidity": 0.2
             }
            },
            "type": "barpolar"
           }
          ],
          "carpet": [
           {
            "aaxis": {
             "endlinecolor": "#2a3f5f",
             "gridcolor": "white",
             "linecolor": "white",
             "minorgridcolor": "white",
             "startlinecolor": "#2a3f5f"
            },
            "baxis": {
             "endlinecolor": "#2a3f5f",
             "gridcolor": "white",
             "linecolor": "white",
             "minorgridcolor": "white",
             "startlinecolor": "#2a3f5f"
            },
            "type": "carpet"
           }
          ],
          "choropleth": [
           {
            "colorbar": {
             "outlinewidth": 0,
             "ticks": ""
            },
            "type": "choropleth"
           }
          ],
          "contour": [
           {
            "colorbar": {
             "outlinewidth": 0,
             "ticks": ""
            },
            "colorscale": [
             [
              0,
              "#0d0887"
             ],
             [
              0.1111111111111111,
              "#46039f"
             ],
             [
              0.2222222222222222,
              "#7201a8"
             ],
             [
              0.3333333333333333,
              "#9c179e"
             ],
             [
              0.4444444444444444,
              "#bd3786"
             ],
             [
              0.5555555555555556,
              "#d8576b"
             ],
             [
              0.6666666666666666,
              "#ed7953"
             ],
             [
              0.7777777777777778,
              "#fb9f3a"
             ],
             [
              0.8888888888888888,
              "#fdca26"
             ],
             [
              1,
              "#f0f921"
             ]
            ],
            "type": "contour"
           }
          ],
          "contourcarpet": [
           {
            "colorbar": {
             "outlinewidth": 0,
             "ticks": ""
            },
            "type": "contourcarpet"
           }
          ],
          "heatmap": [
           {
            "colorbar": {
             "outlinewidth": 0,
             "ticks": ""
            },
            "colorscale": [
             [
              0,
              "#0d0887"
             ],
             [
              0.1111111111111111,
              "#46039f"
             ],
             [
              0.2222222222222222,
              "#7201a8"
             ],
             [
              0.3333333333333333,
              "#9c179e"
             ],
             [
              0.4444444444444444,
              "#bd3786"
             ],
             [
              0.5555555555555556,
              "#d8576b"
             ],
             [
              0.6666666666666666,
              "#ed7953"
             ],
             [
              0.7777777777777778,
              "#fb9f3a"
             ],
             [
              0.8888888888888888,
              "#fdca26"
             ],
             [
              1,
              "#f0f921"
             ]
            ],
            "type": "heatmap"
           }
          ],
          "heatmapgl": [
           {
            "colorbar": {
             "outlinewidth": 0,
             "ticks": ""
            },
            "colorscale": [
             [
              0,
              "#0d0887"
             ],
             [
              0.1111111111111111,
              "#46039f"
             ],
             [
              0.2222222222222222,
              "#7201a8"
             ],
             [
              0.3333333333333333,
              "#9c179e"
             ],
             [
              0.4444444444444444,
              "#bd3786"
             ],
             [
              0.5555555555555556,
              "#d8576b"
             ],
             [
              0.6666666666666666,
              "#ed7953"
             ],
             [
              0.7777777777777778,
              "#fb9f3a"
             ],
             [
              0.8888888888888888,
              "#fdca26"
             ],
             [
              1,
              "#f0f921"
             ]
            ],
            "type": "heatmapgl"
           }
          ],
          "histogram": [
           {
            "marker": {
             "pattern": {
              "fillmode": "overlay",
              "size": 10,
              "solidity": 0.2
             }
            },
            "type": "histogram"
           }
          ],
          "histogram2d": [
           {
            "colorbar": {
             "outlinewidth": 0,
             "ticks": ""
            },
            "colorscale": [
             [
              0,
              "#0d0887"
             ],
             [
              0.1111111111111111,
              "#46039f"
             ],
             [
              0.2222222222222222,
              "#7201a8"
             ],
             [
              0.3333333333333333,
              "#9c179e"
             ],
             [
              0.4444444444444444,
              "#bd3786"
             ],
             [
              0.5555555555555556,
              "#d8576b"
             ],
             [
              0.6666666666666666,
              "#ed7953"
             ],
             [
              0.7777777777777778,
              "#fb9f3a"
             ],
             [
              0.8888888888888888,
              "#fdca26"
             ],
             [
              1,
              "#f0f921"
             ]
            ],
            "type": "histogram2d"
           }
          ],
          "histogram2dcontour": [
           {
            "colorbar": {
             "outlinewidth": 0,
             "ticks": ""
            },
            "colorscale": [
             [
              0,
              "#0d0887"
             ],
             [
              0.1111111111111111,
              "#46039f"
             ],
             [
              0.2222222222222222,
              "#7201a8"
             ],
             [
              0.3333333333333333,
              "#9c179e"
             ],
             [
              0.4444444444444444,
              "#bd3786"
             ],
             [
              0.5555555555555556,
              "#d8576b"
             ],
             [
              0.6666666666666666,
              "#ed7953"
             ],
             [
              0.7777777777777778,
              "#fb9f3a"
             ],
             [
              0.8888888888888888,
              "#fdca26"
             ],
             [
              1,
              "#f0f921"
             ]
            ],
            "type": "histogram2dcontour"
           }
          ],
          "mesh3d": [
           {
            "colorbar": {
             "outlinewidth": 0,
             "ticks": ""
            },
            "type": "mesh3d"
           }
          ],
          "parcoords": [
           {
            "line": {
             "colorbar": {
              "outlinewidth": 0,
              "ticks": ""
             }
            },
            "type": "parcoords"
           }
          ],
          "pie": [
           {
            "automargin": true,
            "type": "pie"
           }
          ],
          "scatter": [
           {
            "fillpattern": {
             "fillmode": "overlay",
             "size": 10,
             "solidity": 0.2
            },
            "type": "scatter"
           }
          ],
          "scatter3d": [
           {
            "line": {
             "colorbar": {
              "outlinewidth": 0,
              "ticks": ""
             }
            },
            "marker": {
             "colorbar": {
              "outlinewidth": 0,
              "ticks": ""
             }
            },
            "type": "scatter3d"
           }
          ],
          "scattercarpet": [
           {
            "marker": {
             "colorbar": {
              "outlinewidth": 0,
              "ticks": ""
             }
            },
            "type": "scattercarpet"
           }
          ],
          "scattergeo": [
           {
            "marker": {
             "colorbar": {
              "outlinewidth": 0,
              "ticks": ""
             }
            },
            "type": "scattergeo"
           }
          ],
          "scattergl": [
           {
            "marker": {
             "colorbar": {
              "outlinewidth": 0,
              "ticks": ""
             }
            },
            "type": "scattergl"
           }
          ],
          "scattermapbox": [
           {
            "marker": {
             "colorbar": {
              "outlinewidth": 0,
              "ticks": ""
             }
            },
            "type": "scattermapbox"
           }
          ],
          "scatterpolar": [
           {
            "marker": {
             "colorbar": {
              "outlinewidth": 0,
              "ticks": ""
             }
            },
            "type": "scatterpolar"
           }
          ],
          "scatterpolargl": [
           {
            "marker": {
             "colorbar": {
              "outlinewidth": 0,
              "ticks": ""
             }
            },
            "type": "scatterpolargl"
           }
          ],
          "scatterternary": [
           {
            "marker": {
             "colorbar": {
              "outlinewidth": 0,
              "ticks": ""
             }
            },
            "type": "scatterternary"
           }
          ],
          "surface": [
           {
            "colorbar": {
             "outlinewidth": 0,
             "ticks": ""
            },
            "colorscale": [
             [
              0,
              "#0d0887"
             ],
             [
              0.1111111111111111,
              "#46039f"
             ],
             [
              0.2222222222222222,
              "#7201a8"
             ],
             [
              0.3333333333333333,
              "#9c179e"
             ],
             [
              0.4444444444444444,
              "#bd3786"
             ],
             [
              0.5555555555555556,
              "#d8576b"
             ],
             [
              0.6666666666666666,
              "#ed7953"
             ],
             [
              0.7777777777777778,
              "#fb9f3a"
             ],
             [
              0.8888888888888888,
              "#fdca26"
             ],
             [
              1,
              "#f0f921"
             ]
            ],
            "type": "surface"
           }
          ],
          "table": [
           {
            "cells": {
             "fill": {
              "color": "#EBF0F8"
             },
             "line": {
              "color": "white"
             }
            },
            "header": {
             "fill": {
              "color": "#C8D4E3"
             },
             "line": {
              "color": "white"
             }
            },
            "type": "table"
           }
          ]
         },
         "layout": {
          "annotationdefaults": {
           "arrowcolor": "#2a3f5f",
           "arrowhead": 0,
           "arrowwidth": 1
          },
          "autotypenumbers": "strict",
          "coloraxis": {
           "colorbar": {
            "outlinewidth": 0,
            "ticks": ""
           }
          },
          "colorscale": {
           "diverging": [
            [
             0,
             "#8e0152"
            ],
            [
             0.1,
             "#c51b7d"
            ],
            [
             0.2,
             "#de77ae"
            ],
            [
             0.3,
             "#f1b6da"
            ],
            [
             0.4,
             "#fde0ef"
            ],
            [
             0.5,
             "#f7f7f7"
            ],
            [
             0.6,
             "#e6f5d0"
            ],
            [
             0.7,
             "#b8e186"
            ],
            [
             0.8,
             "#7fbc41"
            ],
            [
             0.9,
             "#4d9221"
            ],
            [
             1,
             "#276419"
            ]
           ],
           "sequential": [
            [
             0,
             "#0d0887"
            ],
            [
             0.1111111111111111,
             "#46039f"
            ],
            [
             0.2222222222222222,
             "#7201a8"
            ],
            [
             0.3333333333333333,
             "#9c179e"
            ],
            [
             0.4444444444444444,
             "#bd3786"
            ],
            [
             0.5555555555555556,
             "#d8576b"
            ],
            [
             0.6666666666666666,
             "#ed7953"
            ],
            [
             0.7777777777777778,
             "#fb9f3a"
            ],
            [
             0.8888888888888888,
             "#fdca26"
            ],
            [
             1,
             "#f0f921"
            ]
           ],
           "sequentialminus": [
            [
             0,
             "#0d0887"
            ],
            [
             0.1111111111111111,
             "#46039f"
            ],
            [
             0.2222222222222222,
             "#7201a8"
            ],
            [
             0.3333333333333333,
             "#9c179e"
            ],
            [
             0.4444444444444444,
             "#bd3786"
            ],
            [
             0.5555555555555556,
             "#d8576b"
            ],
            [
             0.6666666666666666,
             "#ed7953"
            ],
            [
             0.7777777777777778,
             "#fb9f3a"
            ],
            [
             0.8888888888888888,
             "#fdca26"
            ],
            [
             1,
             "#f0f921"
            ]
           ]
          },
          "colorway": [
           "#636efa",
           "#EF553B",
           "#00cc96",
           "#ab63fa",
           "#FFA15A",
           "#19d3f3",
           "#FF6692",
           "#B6E880",
           "#FF97FF",
           "#FECB52"
          ],
          "font": {
           "color": "#2a3f5f"
          },
          "geo": {
           "bgcolor": "white",
           "lakecolor": "white",
           "landcolor": "#E5ECF6",
           "showlakes": true,
           "showland": true,
           "subunitcolor": "white"
          },
          "hoverlabel": {
           "align": "left"
          },
          "hovermode": "closest",
          "mapbox": {
           "style": "light"
          },
          "paper_bgcolor": "white",
          "plot_bgcolor": "#E5ECF6",
          "polar": {
           "angularaxis": {
            "gridcolor": "white",
            "linecolor": "white",
            "ticks": ""
           },
           "bgcolor": "#E5ECF6",
           "radialaxis": {
            "gridcolor": "white",
            "linecolor": "white",
            "ticks": ""
           }
          },
          "scene": {
           "xaxis": {
            "backgroundcolor": "#E5ECF6",
            "gridcolor": "white",
            "gridwidth": 2,
            "linecolor": "white",
            "showbackground": true,
            "ticks": "",
            "zerolinecolor": "white"
           },
           "yaxis": {
            "backgroundcolor": "#E5ECF6",
            "gridcolor": "white",
            "gridwidth": 2,
            "linecolor": "white",
            "showbackground": true,
            "ticks": "",
            "zerolinecolor": "white"
           },
           "zaxis": {
            "backgroundcolor": "#E5ECF6",
            "gridcolor": "white",
            "gridwidth": 2,
            "linecolor": "white",
            "showbackground": true,
            "ticks": "",
            "zerolinecolor": "white"
           }
          },
          "shapedefaults": {
           "line": {
            "color": "#2a3f5f"
           }
          },
          "ternary": {
           "aaxis": {
            "gridcolor": "white",
            "linecolor": "white",
            "ticks": ""
           },
           "baxis": {
            "gridcolor": "white",
            "linecolor": "white",
            "ticks": ""
           },
           "bgcolor": "#E5ECF6",
           "caxis": {
            "gridcolor": "white",
            "linecolor": "white",
            "ticks": ""
           }
          },
          "title": {
           "x": 0.05
          },
          "xaxis": {
           "automargin": true,
           "gridcolor": "white",
           "linecolor": "white",
           "ticks": "",
           "title": {
            "standoff": 15
           },
           "zerolinecolor": "white",
           "zerolinewidth": 2
          },
          "yaxis": {
           "automargin": true,
           "gridcolor": "white",
           "linecolor": "white",
           "ticks": "",
           "title": {
            "standoff": 15
           },
           "zerolinecolor": "white",
           "zerolinewidth": 2
          }
         }
        },
        "title": {
         "text": "Total Calls Based on Top 10 Categories"
        },
        "xaxis": {
         "tickangle": -45,
         "title": {
          "text": "Categories"
         }
        },
        "yaxis": {
         "title": {
          "text": "Number of Calls"
         }
        }
       }
      }
     },
     "metadata": {},
     "output_type": "display_data"
    }
   ],
   "source": [
    "df = df.loc[(df[\"categories\"] != \"Nothing\")]\n",
    "category_counts = df[\"categories\"].value_counts()\n",
    "\n",
    "top_categories = category_counts.head(10)\n",
    "\n",
    "# Create a bar chart\n",
    "fig = go.Figure()\n",
    "\n",
    "fig.add_trace(\n",
    "    go.Bar(\n",
    "        x=top_categories.index,\n",
    "        y=top_categories.values,\n",
    "        # marker_color='blue'\n",
    "    )\n",
    ")\n",
    "\n",
    "# Customize layout\n",
    "fig.update_layout(\n",
    "    title=\"Total Calls Based on Top 10 Categories\",\n",
    "    xaxis_title=\"Categories\",\n",
    "    yaxis_title=\"Number of Calls\",\n",
    "    xaxis_tickangle=-45,  # Rotate x-axis labels for better readability\n",
    ")\n",
    "\n",
    "# Show the plot\n",
    "fig.show()"
   ]
  },
  {
   "cell_type": "markdown",
   "metadata": {},
   "source": [
    "### Word Cloud Dashboard"
   ]
  },
  {
   "cell_type": "code",
   "execution_count": 5,
   "metadata": {},
   "outputs": [],
   "source": [
    "df = pd.read_json(os.path.join(os.getcwd(), \"result.json\"))\n",
    "\n",
    "df[\"categories\"] = df[\"feature_extraction\"].apply(extract_categories)"
   ]
  },
  {
   "cell_type": "code",
   "execution_count": 6,
   "metadata": {},
   "outputs": [
    {
     "data": {
      "application/vnd.plotly.v1+json": {
       "config": {
        "plotlyServerURL": "https://plot.ly"
       },
       "data": [],
       "layout": {
        "height": 400,
        "images": [
         {
          "sizex": 1,
          "sizey": 1,
          "source": "data:image/png;base64,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",
          "x": 0.5,
          "xanchor": "center",
          "xref": "paper",
          "y": 0.5,
          "yanchor": "middle",
          "yref": "paper"
         }
        ],
        "margin": {
         "b": 0,
         "l": 0,
         "r": 0,
         "t": 0
        },
        "template": {
         "data": {
          "bar": [
           {
            "error_x": {
             "color": "#2a3f5f"
            },
            "error_y": {
             "color": "#2a3f5f"
            },
            "marker": {
             "line": {
              "color": "#E5ECF6",
              "width": 0.5
             },
             "pattern": {
              "fillmode": "overlay",
              "size": 10,
              "solidity": 0.2
             }
            },
            "type": "bar"
           }
          ],
          "barpolar": [
           {
            "marker": {
             "line": {
              "color": "#E5ECF6",
              "width": 0.5
             },
             "pattern": {
              "fillmode": "overlay",
              "size": 10,
              "solidity": 0.2
             }
            },
            "type": "barpolar"
           }
          ],
          "carpet": [
           {
            "aaxis": {
             "endlinecolor": "#2a3f5f",
             "gridcolor": "white",
             "linecolor": "white",
             "minorgridcolor": "white",
             "startlinecolor": "#2a3f5f"
            },
            "baxis": {
             "endlinecolor": "#2a3f5f",
             "gridcolor": "white",
             "linecolor": "white",
             "minorgridcolor": "white",
             "startlinecolor": "#2a3f5f"
            },
            "type": "carpet"
           }
          ],
          "choropleth": [
           {
            "colorbar": {
             "outlinewidth": 0,
             "ticks": ""
            },
            "type": "choropleth"
           }
          ],
          "contour": [
           {
            "colorbar": {
             "outlinewidth": 0,
             "ticks": ""
            },
            "colorscale": [
             [
              0,
              "#0d0887"
             ],
             [
              0.1111111111111111,
              "#46039f"
             ],
             [
              0.2222222222222222,
              "#7201a8"
             ],
             [
              0.3333333333333333,
              "#9c179e"
             ],
             [
              0.4444444444444444,
              "#bd3786"
             ],
             [
              0.5555555555555556,
              "#d8576b"
             ],
             [
              0.6666666666666666,
              "#ed7953"
             ],
             [
              0.7777777777777778,
              "#fb9f3a"
             ],
             [
              0.8888888888888888,
              "#fdca26"
             ],
             [
              1,
              "#f0f921"
             ]
            ],
            "type": "contour"
           }
          ],
          "contourcarpet": [
           {
            "colorbar": {
             "outlinewidth": 0,
             "ticks": ""
            },
            "type": "contourcarpet"
           }
          ],
          "heatmap": [
           {
            "colorbar": {
             "outlinewidth": 0,
             "ticks": ""
            },
            "colorscale": [
             [
              0,
              "#0d0887"
             ],
             [
              0.1111111111111111,
              "#46039f"
             ],
             [
              0.2222222222222222,
              "#7201a8"
             ],
             [
              0.3333333333333333,
              "#9c179e"
             ],
             [
              0.4444444444444444,
              "#bd3786"
             ],
             [
              0.5555555555555556,
              "#d8576b"
             ],
             [
              0.6666666666666666,
              "#ed7953"
             ],
             [
              0.7777777777777778,
              "#fb9f3a"
             ],
             [
              0.8888888888888888,
              "#fdca26"
             ],
             [
              1,
              "#f0f921"
             ]
            ],
            "type": "heatmap"
           }
          ],
          "heatmapgl": [
           {
            "colorbar": {
             "outlinewidth": 0,
             "ticks": ""
            },
            "colorscale": [
             [
              0,
              "#0d0887"
             ],
             [
              0.1111111111111111,
              "#46039f"
             ],
             [
              0.2222222222222222,
              "#7201a8"
             ],
             [
              0.3333333333333333,
              "#9c179e"
             ],
             [
              0.4444444444444444,
              "#bd3786"
             ],
             [
              0.5555555555555556,
              "#d8576b"
             ],
             [
              0.6666666666666666,
              "#ed7953"
             ],
             [
              0.7777777777777778,
              "#fb9f3a"
             ],
             [
              0.8888888888888888,
              "#fdca26"
             ],
             [
              1,
              "#f0f921"
             ]
            ],
            "type": "heatmapgl"
           }
          ],
          "histogram": [
           {
            "marker": {
             "pattern": {
              "fillmode": "overlay",
              "size": 10,
              "solidity": 0.2
             }
            },
            "type": "histogram"
           }
          ],
          "histogram2d": [
           {
            "colorbar": {
             "outlinewidth": 0,
             "ticks": ""
            },
            "colorscale": [
             [
              0,
              "#0d0887"
             ],
             [
              0.1111111111111111,
              "#46039f"
             ],
             [
              0.2222222222222222,
              "#7201a8"
             ],
             [
              0.3333333333333333,
              "#9c179e"
             ],
             [
              0.4444444444444444,
              "#bd3786"
             ],
             [
              0.5555555555555556,
              "#d8576b"
             ],
             [
              0.6666666666666666,
              "#ed7953"
             ],
             [
              0.7777777777777778,
              "#fb9f3a"
             ],
             [
              0.8888888888888888,
              "#fdca26"
             ],
             [
              1,
              "#f0f921"
             ]
            ],
            "type": "histogram2d"
           }
          ],
          "histogram2dcontour": [
           {
            "colorbar": {
             "outlinewidth": 0,
             "ticks": ""
            },
            "colorscale": [
             [
              0,
              "#0d0887"
             ],
             [
              0.1111111111111111,
              "#46039f"
             ],
             [
              0.2222222222222222,
              "#7201a8"
             ],
             [
              0.3333333333333333,
              "#9c179e"
             ],
             [
              0.4444444444444444,
              "#bd3786"
             ],
             [
              0.5555555555555556,
              "#d8576b"
             ],
             [
              0.6666666666666666,
              "#ed7953"
             ],
             [
              0.7777777777777778,
              "#fb9f3a"
             ],
             [
              0.8888888888888888,
              "#fdca26"
             ],
             [
              1,
              "#f0f921"
             ]
            ],
            "type": "histogram2dcontour"
           }
          ],
          "mesh3d": [
           {
            "colorbar": {
             "outlinewidth": 0,
             "ticks": ""
            },
            "type": "mesh3d"
           }
          ],
          "parcoords": [
           {
            "line": {
             "colorbar": {
              "outlinewidth": 0,
              "ticks": ""
             }
            },
            "type": "parcoords"
           }
          ],
          "pie": [
           {
            "automargin": true,
            "type": "pie"
           }
          ],
          "scatter": [
           {
            "fillpattern": {
             "fillmode": "overlay",
             "size": 10,
             "solidity": 0.2
            },
            "type": "scatter"
           }
          ],
          "scatter3d": [
           {
            "line": {
             "colorbar": {
              "outlinewidth": 0,
              "ticks": ""
             }
            },
            "marker": {
             "colorbar": {
              "outlinewidth": 0,
              "ticks": ""
             }
            },
            "type": "scatter3d"
           }
          ],
          "scattercarpet": [
           {
            "marker": {
             "colorbar": {
              "outlinewidth": 0,
              "ticks": ""
             }
            },
            "type": "scattercarpet"
           }
          ],
          "scattergeo": [
           {
            "marker": {
             "colorbar": {
              "outlinewidth": 0,
              "ticks": ""
             }
            },
            "type": "scattergeo"
           }
          ],
          "scattergl": [
           {
            "marker": {
             "colorbar": {
              "outlinewidth": 0,
              "ticks": ""
             }
            },
            "type": "scattergl"
           }
          ],
          "scattermapbox": [
           {
            "marker": {
             "colorbar": {
              "outlinewidth": 0,
              "ticks": ""
             }
            },
            "type": "scattermapbox"
           }
          ],
          "scatterpolar": [
           {
            "marker": {
             "colorbar": {
              "outlinewidth": 0,
              "ticks": ""
             }
            },
            "type": "scatterpolar"
           }
          ],
          "scatterpolargl": [
           {
            "marker": {
             "colorbar": {
              "outlinewidth": 0,
              "ticks": ""
             }
            },
            "type": "scatterpolargl"
           }
          ],
          "scatterternary": [
           {
            "marker": {
             "colorbar": {
              "outlinewidth": 0,
              "ticks": ""
             }
            },
            "type": "scatterternary"
           }
          ],
          "surface": [
           {
            "colorbar": {
             "outlinewidth": 0,
             "ticks": ""
            },
            "colorscale": [
             [
              0,
              "#0d0887"
             ],
             [
              0.1111111111111111,
              "#46039f"
             ],
             [
              0.2222222222222222,
              "#7201a8"
             ],
             [
              0.3333333333333333,
              "#9c179e"
             ],
             [
              0.4444444444444444,
              "#bd3786"
             ],
             [
              0.5555555555555556,
              "#d8576b"
             ],
             [
              0.6666666666666666,
              "#ed7953"
             ],
             [
              0.7777777777777778,
              "#fb9f3a"
             ],
             [
              0.8888888888888888,
              "#fdca26"
             ],
             [
              1,
              "#f0f921"
             ]
            ],
            "type": "surface"
           }
          ],
          "table": [
           {
            "cells": {
             "fill": {
              "color": "#EBF0F8"
             },
             "line": {
              "color": "white"
             }
            },
            "header": {
             "fill": {
              "color": "#C8D4E3"
             },
             "line": {
              "color": "white"
             }
            },
            "type": "table"
           }
          ]
         },
         "layout": {
          "annotationdefaults": {
           "arrowcolor": "#2a3f5f",
           "arrowhead": 0,
           "arrowwidth": 1
          },
          "autotypenumbers": "strict",
          "coloraxis": {
           "colorbar": {
            "outlinewidth": 0,
            "ticks": ""
           }
          },
          "colorscale": {
           "diverging": [
            [
             0,
             "#8e0152"
            ],
            [
             0.1,
             "#c51b7d"
            ],
            [
             0.2,
             "#de77ae"
            ],
            [
             0.3,
             "#f1b6da"
            ],
            [
             0.4,
             "#fde0ef"
            ],
            [
             0.5,
             "#f7f7f7"
            ],
            [
             0.6,
             "#e6f5d0"
            ],
            [
             0.7,
             "#b8e186"
            ],
            [
             0.8,
             "#7fbc41"
            ],
            [
             0.9,
             "#4d9221"
            ],
            [
             1,
             "#276419"
            ]
           ],
           "sequential": [
            [
             0,
             "#0d0887"
            ],
            [
             0.1111111111111111,
             "#46039f"
            ],
            [
             0.2222222222222222,
             "#7201a8"
            ],
            [
             0.3333333333333333,
             "#9c179e"
            ],
            [
             0.4444444444444444,
             "#bd3786"
            ],
            [
             0.5555555555555556,
             "#d8576b"
            ],
            [
             0.6666666666666666,
             "#ed7953"
            ],
            [
             0.7777777777777778,
             "#fb9f3a"
            ],
            [
             0.8888888888888888,
             "#fdca26"
            ],
            [
             1,
             "#f0f921"
            ]
           ],
           "sequentialminus": [
            [
             0,
             "#0d0887"
            ],
            [
             0.1111111111111111,
             "#46039f"
            ],
            [
             0.2222222222222222,
             "#7201a8"
            ],
            [
             0.3333333333333333,
             "#9c179e"
            ],
            [
             0.4444444444444444,
             "#bd3786"
            ],
            [
             0.5555555555555556,
             "#d8576b"
            ],
            [
             0.6666666666666666,
             "#ed7953"
            ],
            [
             0.7777777777777778,
             "#fb9f3a"
            ],
            [
             0.8888888888888888,
             "#fdca26"
            ],
            [
             1,
             "#f0f921"
            ]
           ]
          },
          "colorway": [
           "#636efa",
           "#EF553B",
           "#00cc96",
           "#ab63fa",
           "#FFA15A",
           "#19d3f3",
           "#FF6692",
           "#B6E880",
           "#FF97FF",
           "#FECB52"
          ],
          "font": {
           "color": "#2a3f5f"
          },
          "geo": {
           "bgcolor": "white",
           "lakecolor": "white",
           "landcolor": "#E5ECF6",
           "showlakes": true,
           "showland": true,
           "subunitcolor": "white"
          },
          "hoverlabel": {
           "align": "left"
          },
          "hovermode": "closest",
          "mapbox": {
           "style": "light"
          },
          "paper_bgcolor": "white",
          "plot_bgcolor": "#E5ECF6",
          "polar": {
           "angularaxis": {
            "gridcolor": "white",
            "linecolor": "white",
            "ticks": ""
           },
           "bgcolor": "#E5ECF6",
           "radialaxis": {
            "gridcolor": "white",
            "linecolor": "white",
            "ticks": ""
           }
          },
          "scene": {
           "xaxis": {
            "backgroundcolor": "#E5ECF6",
            "gridcolor": "white",
            "gridwidth": 2,
            "linecolor": "white",
            "showbackground": true,
            "ticks": "",
            "zerolinecolor": "white"
           },
           "yaxis": {
            "backgroundcolor": "#E5ECF6",
            "gridcolor": "white",
            "gridwidth": 2,
            "linecolor": "white",
            "showbackground": true,
            "ticks": "",
            "zerolinecolor": "white"
           },
           "zaxis": {
            "backgroundcolor": "#E5ECF6",
            "gridcolor": "white",
            "gridwidth": 2,
            "linecolor": "white",
            "showbackground": true,
            "ticks": "",
            "zerolinecolor": "white"
           }
          },
          "shapedefaults": {
           "line": {
            "color": "#2a3f5f"
           }
          },
          "ternary": {
           "aaxis": {
            "gridcolor": "white",
            "linecolor": "white",
            "ticks": ""
           },
           "baxis": {
            "gridcolor": "white",
            "linecolor": "white",
            "ticks": ""
           },
           "bgcolor": "#E5ECF6",
           "caxis": {
            "gridcolor": "white",
            "linecolor": "white",
            "ticks": ""
           }
          },
          "title": {
           "x": 0.05
          },
          "xaxis": {
           "automargin": true,
           "gridcolor": "white",
           "linecolor": "white",
           "ticks": "",
           "title": {
            "standoff": 15
           },
           "zerolinecolor": "white",
           "zerolinewidth": 2
          },
          "yaxis": {
           "automargin": true,
           "gridcolor": "white",
           "linecolor": "white",
           "ticks": "",
           "title": {
            "standoff": 15
           },
           "zerolinecolor": "white",
           "zerolinewidth": 2
          }
         }
        },
        "width": 800,
        "xaxis": {
         "visible": false
        },
        "yaxis": {
         "visible": false
        }
       }
      }
     },
     "metadata": {},
     "output_type": "display_data"
    }
   ],
   "source": [
    "words = df[\"categories\"].to_list()\n",
    "words = \" \".join(words)\n",
    "words = words.replace(\"/\", \" \").replace(\"Nothing\", \"\")\n",
    "\n",
    "# Generate the word cloud\n",
    "wordcloud = WordCloud(width=800, height=400, background_color=\"white\").generate(words)\n",
    "\n",
    "# Save the word cloud to a bytes object\n",
    "img_buffer = BytesIO()\n",
    "wordcloud.to_image().save(img_buffer, format=\"PNG\")\n",
    "img_buffer.seek(0)\n",
    "\n",
    "# Encode the image in base64 to embed in Plotly\n",
    "img_base64 = base64.b64encode(img_buffer.read()).decode(\"utf-8\")\n",
    "\n",
    "# Create a Plotly figure to display the image\n",
    "fig = go.Figure()\n",
    "\n",
    "# Add the image to the figure\n",
    "fig.add_layout_image(\n",
    "    dict(\n",
    "        source=f\"data:image/png;base64,{img_base64}\",\n",
    "        xref=\"paper\",\n",
    "        yref=\"paper\",\n",
    "        x=0.5,\n",
    "        y=0.5,  # Position at the center\n",
    "        sizex=1,\n",
    "        sizey=1,  # Scale to fit\n",
    "        xanchor=\"center\",\n",
    "        yanchor=\"middle\",\n",
    "    )\n",
    ")\n",
    "\n",
    "# Update the layout to remove axes and padding\n",
    "fig.update_layout(\n",
    "    width=800,\n",
    "    height=400,\n",
    "    margin=dict(l=0, r=0, t=0, b=0),\n",
    "    xaxis=dict(visible=False),\n",
    "    yaxis=dict(visible=False),\n",
    ")\n",
    "\n",
    "# Show the figure\n",
    "fig.show()"
   ]
  },
  {
   "cell_type": "markdown",
   "metadata": {},
   "source": [
    "#### Location Wise call records"
   ]
  },
  {
   "cell_type": "code",
   "execution_count": 7,
   "metadata": {},
   "outputs": [
    {
     "data": {
      "text/html": [
       "<div>\n",
       "<style scoped>\n",
       "    .dataframe tbody tr th:only-of-type {\n",
       "        vertical-align: middle;\n",
       "    }\n",
       "\n",
       "    .dataframe tbody tr th {\n",
       "        vertical-align: top;\n",
       "    }\n",
       "\n",
       "    .dataframe thead th {\n",
       "        text-align: right;\n",
       "    }\n",
       "</style>\n",
       "<table border=\"1\" class=\"dataframe\">\n",
       "  <thead>\n",
       "    <tr style=\"text-align: right;\">\n",
       "      <th></th>\n",
       "      <th>location</th>\n",
       "      <th>total_calls</th>\n",
       "    </tr>\n",
       "  </thead>\n",
       "  <tbody>\n",
       "    <tr>\n",
       "      <th>0</th>\n",
       "      <td>Boston, MA</td>\n",
       "      <td>12</td>\n",
       "    </tr>\n",
       "    <tr>\n",
       "      <th>1</th>\n",
       "      <td>New York, NY</td>\n",
       "      <td>8</td>\n",
       "    </tr>\n",
       "    <tr>\n",
       "      <th>2</th>\n",
       "      <td>Philadelphia, PA</td>\n",
       "      <td>17</td>\n",
       "    </tr>\n",
       "    <tr>\n",
       "      <th>3</th>\n",
       "      <td>Washington, D.C.</td>\n",
       "      <td>13</td>\n",
       "    </tr>\n",
       "  </tbody>\n",
       "</table>\n",
       "</div>"
      ],
      "text/plain": [
       "           location  total_calls\n",
       "0        Boston, MA           12\n",
       "1      New York, NY            8\n",
       "2  Philadelphia, PA           17\n",
       "3  Washington, D.C.           13"
      ]
     },
     "execution_count": 7,
     "metadata": {},
     "output_type": "execute_result"
    }
   ],
   "source": [
    "df = pd.read_json(os.path.join(os.getcwd(), \"result.json\"))\n",
    "calls_per_location = df.groupby(\"location\").size().reset_index(name=\"total_calls\")\n",
    "\n",
    "calls_per_location"
   ]
  },
  {
   "cell_type": "code",
   "execution_count": 8,
   "metadata": {},
   "outputs": [
    {
     "data": {
      "text/html": [
       "<div>\n",
       "<style scoped>\n",
       "    .dataframe tbody tr th:only-of-type {\n",
       "        vertical-align: middle;\n",
       "    }\n",
       "\n",
       "    .dataframe tbody tr th {\n",
       "        vertical-align: top;\n",
       "    }\n",
       "\n",
       "    .dataframe thead th {\n",
       "        text-align: right;\n",
       "    }\n",
       "</style>\n",
       "<table border=\"1\" class=\"dataframe\">\n",
       "  <thead>\n",
       "    <tr style=\"text-align: right;\">\n",
       "      <th></th>\n",
       "      <th>location</th>\n",
       "      <th>total_calls</th>\n",
       "      <th>latitude</th>\n",
       "      <th>longitude</th>\n",
       "    </tr>\n",
       "  </thead>\n",
       "  <tbody>\n",
       "    <tr>\n",
       "      <th>0</th>\n",
       "      <td>Boston, MA</td>\n",
       "      <td>12</td>\n",
       "      <td>42.3601</td>\n",
       "      <td>-71.0589</td>\n",
       "    </tr>\n",
       "    <tr>\n",
       "      <th>1</th>\n",
       "      <td>New York, NY</td>\n",
       "      <td>8</td>\n",
       "      <td>40.7128</td>\n",
       "      <td>-74.0060</td>\n",
       "    </tr>\n",
       "    <tr>\n",
       "      <th>2</th>\n",
       "      <td>Philadelphia, PA</td>\n",
       "      <td>17</td>\n",
       "      <td>39.9526</td>\n",
       "      <td>-75.1652</td>\n",
       "    </tr>\n",
       "    <tr>\n",
       "      <th>3</th>\n",
       "      <td>Washington, D.C.</td>\n",
       "      <td>13</td>\n",
       "      <td>38.9072</td>\n",
       "      <td>-77.0369</td>\n",
       "    </tr>\n",
       "  </tbody>\n",
       "</table>\n",
       "</div>"
      ],
      "text/plain": [
       "           location  total_calls  latitude  longitude\n",
       "0        Boston, MA           12   42.3601   -71.0589\n",
       "1      New York, NY            8   40.7128   -74.0060\n",
       "2  Philadelphia, PA           17   39.9526   -75.1652\n",
       "3  Washington, D.C.           13   38.9072   -77.0369"
      ]
     },
     "execution_count": 8,
     "metadata": {},
     "output_type": "execute_result"
    }
   ],
   "source": [
    "# Geographical coordinates for the specified locations\n",
    "location_coords = {\n",
    "    \"New York, NY\": (40.7128, -74.0060),\n",
    "    \"Boston, MA\": (42.3601, -71.0589),\n",
    "    \"Philadelphia, PA\": (39.9526, -75.1652),\n",
    "    \"Washington, D.C.\": (38.9072, -77.0369),\n",
    "}\n",
    "\n",
    "# Add latitude and longitude to the DataFrame\n",
    "calls_per_location[\"latitude\"] = calls_per_location[\"location\"].map(\n",
    "    lambda loc: location_coords[loc][0]\n",
    ")\n",
    "calls_per_location[\"longitude\"] = calls_per_location[\"location\"].map(\n",
    "    lambda loc: location_coords[loc][1]\n",
    ")\n",
    "calls_per_location.head()"
   ]
  },
  {
   "cell_type": "code",
   "execution_count": 9,
   "metadata": {},
   "outputs": [
    {
     "data": {
      "application/vnd.plotly.v1+json": {
       "config": {
        "plotlyServerURL": "https://plot.ly"
       },
       "data": [
        {
         "lat": [
          42.3601,
          40.7128,
          39.9526,
          38.9072
         ],
         "lon": [
          -71.0589,
          -74.006,
          -75.1652,
          -77.0369
         ],
         "marker": {
          "color": [
           12,
           8,
           17,
           13
          ],
          "colorbar": {
           "title": {
            "text": "Number of Calls"
           }
          },
          "colorscale": [
           [
            0,
            "#440154"
           ],
           [
            0.1111111111111111,
            "#482878"
           ],
           [
            0.2222222222222222,
            "#3e4989"
           ],
           [
            0.3333333333333333,
            "#31688e"
           ],
           [
            0.4444444444444444,
            "#26828e"
           ],
           [
            0.5555555555555556,
            "#1f9e89"
           ],
           [
            0.6666666666666666,
            "#35b779"
           ],
           [
            0.7777777777777778,
            "#6ece58"
           ],
           [
            0.8888888888888888,
            "#b5de2b"
           ],
           [
            1,
            "#fde725"
           ]
          ],
          "size": [
           12,
           8,
           17,
           13
          ]
         },
         "mode": "markers",
         "text": [
          "Boston, MA",
          "New York, NY",
          "Philadelphia, PA",
          "Washington, D.C."
         ],
         "type": "scattergeo"
        }
       ],
       "layout": {
        "geo": {
         "coastlinecolor": "rgb(0, 0, 0)",
         "countrycolor": "rgb(255, 255, 255)",
         "landcolor": "rgb(240, 240, 240)",
         "oceancolor": "rgb(0, 204, 255)",
         "projection": {
          "type": "albers usa"
         },
         "scope": "usa",
         "showcoastlines": true,
         "showland": true,
         "showocean": true
        },
        "template": {
         "data": {
          "bar": [
           {
            "error_x": {
             "color": "#2a3f5f"
            },
            "error_y": {
             "color": "#2a3f5f"
            },
            "marker": {
             "line": {
              "color": "#E5ECF6",
              "width": 0.5
             },
             "pattern": {
              "fillmode": "overlay",
              "size": 10,
              "solidity": 0.2
             }
            },
            "type": "bar"
           }
          ],
          "barpolar": [
           {
            "marker": {
             "line": {
              "color": "#E5ECF6",
              "width": 0.5
             },
             "pattern": {
              "fillmode": "overlay",
              "size": 10,
              "solidity": 0.2
             }
            },
            "type": "barpolar"
           }
          ],
          "carpet": [
           {
            "aaxis": {
             "endlinecolor": "#2a3f5f",
             "gridcolor": "white",
             "linecolor": "white",
             "minorgridcolor": "white",
             "startlinecolor": "#2a3f5f"
            },
            "baxis": {
             "endlinecolor": "#2a3f5f",
             "gridcolor": "white",
             "linecolor": "white",
             "minorgridcolor": "white",
             "startlinecolor": "#2a3f5f"
            },
            "type": "carpet"
           }
          ],
          "choropleth": [
           {
            "colorbar": {
             "outlinewidth": 0,
             "ticks": ""
            },
            "type": "choropleth"
           }
          ],
          "contour": [
           {
            "colorbar": {
             "outlinewidth": 0,
             "ticks": ""
            },
            "colorscale": [
             [
              0,
              "#0d0887"
             ],
             [
              0.1111111111111111,
              "#46039f"
             ],
             [
              0.2222222222222222,
              "#7201a8"
             ],
             [
              0.3333333333333333,
              "#9c179e"
             ],
             [
              0.4444444444444444,
              "#bd3786"
             ],
             [
              0.5555555555555556,
              "#d8576b"
             ],
             [
              0.6666666666666666,
              "#ed7953"
             ],
             [
              0.7777777777777778,
              "#fb9f3a"
             ],
             [
              0.8888888888888888,
              "#fdca26"
             ],
             [
              1,
              "#f0f921"
             ]
            ],
            "type": "contour"
           }
          ],
          "contourcarpet": [
           {
            "colorbar": {
             "outlinewidth": 0,
             "ticks": ""
            },
            "type": "contourcarpet"
           }
          ],
          "heatmap": [
           {
            "colorbar": {
             "outlinewidth": 0,
             "ticks": ""
            },
            "colorscale": [
             [
              0,
              "#0d0887"
             ],
             [
              0.1111111111111111,
              "#46039f"
             ],
             [
              0.2222222222222222,
              "#7201a8"
             ],
             [
              0.3333333333333333,
              "#9c179e"
             ],
             [
              0.4444444444444444,
              "#bd3786"
             ],
             [
              0.5555555555555556,
              "#d8576b"
             ],
             [
              0.6666666666666666,
              "#ed7953"
             ],
             [
              0.7777777777777778,
              "#fb9f3a"
             ],
             [
              0.8888888888888888,
              "#fdca26"
             ],
             [
              1,
              "#f0f921"
             ]
            ],
            "type": "heatmap"
           }
          ],
          "heatmapgl": [
           {
            "colorbar": {
             "outlinewidth": 0,
             "ticks": ""
            },
            "colorscale": [
             [
              0,
              "#0d0887"
             ],
             [
              0.1111111111111111,
              "#46039f"
             ],
             [
              0.2222222222222222,
              "#7201a8"
             ],
             [
              0.3333333333333333,
              "#9c179e"
             ],
             [
              0.4444444444444444,
              "#bd3786"
             ],
             [
              0.5555555555555556,
              "#d8576b"
             ],
             [
              0.6666666666666666,
              "#ed7953"
             ],
             [
              0.7777777777777778,
              "#fb9f3a"
             ],
             [
              0.8888888888888888,
              "#fdca26"
             ],
             [
              1,
              "#f0f921"
             ]
            ],
            "type": "heatmapgl"
           }
          ],
          "histogram": [
           {
            "marker": {
             "pattern": {
              "fillmode": "overlay",
              "size": 10,
              "solidity": 0.2
             }
            },
            "type": "histogram"
           }
          ],
          "histogram2d": [
           {
            "colorbar": {
             "outlinewidth": 0,
             "ticks": ""
            },
            "colorscale": [
             [
              0,
              "#0d0887"
             ],
             [
              0.1111111111111111,
              "#46039f"
             ],
             [
              0.2222222222222222,
              "#7201a8"
             ],
             [
              0.3333333333333333,
              "#9c179e"
             ],
             [
              0.4444444444444444,
              "#bd3786"
             ],
             [
              0.5555555555555556,
              "#d8576b"
             ],
             [
              0.6666666666666666,
              "#ed7953"
             ],
             [
              0.7777777777777778,
              "#fb9f3a"
             ],
             [
              0.8888888888888888,
              "#fdca26"
             ],
             [
              1,
              "#f0f921"
             ]
            ],
            "type": "histogram2d"
           }
          ],
          "histogram2dcontour": [
           {
            "colorbar": {
             "outlinewidth": 0,
             "ticks": ""
            },
            "colorscale": [
             [
              0,
              "#0d0887"
             ],
             [
              0.1111111111111111,
              "#46039f"
             ],
             [
              0.2222222222222222,
              "#7201a8"
             ],
             [
              0.3333333333333333,
              "#9c179e"
             ],
             [
              0.4444444444444444,
              "#bd3786"
             ],
             [
              0.5555555555555556,
              "#d8576b"
             ],
             [
              0.6666666666666666,
              "#ed7953"
             ],
             [
              0.7777777777777778,
              "#fb9f3a"
             ],
             [
              0.8888888888888888,
              "#fdca26"
             ],
             [
              1,
              "#f0f921"
             ]
            ],
            "type": "histogram2dcontour"
           }
          ],
          "mesh3d": [
           {
            "colorbar": {
             "outlinewidth": 0,
             "ticks": ""
            },
            "type": "mesh3d"
           }
          ],
          "parcoords": [
           {
            "line": {
             "colorbar": {
              "outlinewidth": 0,
              "ticks": ""
             }
            },
            "type": "parcoords"
           }
          ],
          "pie": [
           {
            "automargin": true,
            "type": "pie"
           }
          ],
          "scatter": [
           {
            "fillpattern": {
             "fillmode": "overlay",
             "size": 10,
             "solidity": 0.2
            },
            "type": "scatter"
           }
          ],
          "scatter3d": [
           {
            "line": {
             "colorbar": {
              "outlinewidth": 0,
              "ticks": ""
             }
            },
            "marker": {
             "colorbar": {
              "outlinewidth": 0,
              "ticks": ""
             }
            },
            "type": "scatter3d"
           }
          ],
          "scattercarpet": [
           {
            "marker": {
             "colorbar": {
              "outlinewidth": 0,
              "ticks": ""
             }
            },
            "type": "scattercarpet"
           }
          ],
          "scattergeo": [
           {
            "marker": {
             "colorbar": {
              "outlinewidth": 0,
              "ticks": ""
             }
            },
            "type": "scattergeo"
           }
          ],
          "scattergl": [
           {
            "marker": {
             "colorbar": {
              "outlinewidth": 0,
              "ticks": ""
             }
            },
            "type": "scattergl"
           }
          ],
          "scattermapbox": [
           {
            "marker": {
             "colorbar": {
              "outlinewidth": 0,
              "ticks": ""
             }
            },
            "type": "scattermapbox"
           }
          ],
          "scatterpolar": [
           {
            "marker": {
             "colorbar": {
              "outlinewidth": 0,
              "ticks": ""
             }
            },
            "type": "scatterpolar"
           }
          ],
          "scatterpolargl": [
           {
            "marker": {
             "colorbar": {
              "outlinewidth": 0,
              "ticks": ""
             }
            },
            "type": "scatterpolargl"
           }
          ],
          "scatterternary": [
           {
            "marker": {
             "colorbar": {
              "outlinewidth": 0,
              "ticks": ""
             }
            },
            "type": "scatterternary"
           }
          ],
          "surface": [
           {
            "colorbar": {
             "outlinewidth": 0,
             "ticks": ""
            },
            "colorscale": [
             [
              0,
              "#0d0887"
             ],
             [
              0.1111111111111111,
              "#46039f"
             ],
             [
              0.2222222222222222,
              "#7201a8"
             ],
             [
              0.3333333333333333,
              "#9c179e"
             ],
             [
              0.4444444444444444,
              "#bd3786"
             ],
             [
              0.5555555555555556,
              "#d8576b"
             ],
             [
              0.6666666666666666,
              "#ed7953"
             ],
             [
              0.7777777777777778,
              "#fb9f3a"
             ],
             [
              0.8888888888888888,
              "#fdca26"
             ],
             [
              1,
              "#f0f921"
             ]
            ],
            "type": "surface"
           }
          ],
          "table": [
           {
            "cells": {
             "fill": {
              "color": "#EBF0F8"
             },
             "line": {
              "color": "white"
             }
            },
            "header": {
             "fill": {
              "color": "#C8D4E3"
             },
             "line": {
              "color": "white"
             }
            },
            "type": "table"
           }
          ]
         },
         "layout": {
          "annotationdefaults": {
           "arrowcolor": "#2a3f5f",
           "arrowhead": 0,
           "arrowwidth": 1
          },
          "autotypenumbers": "strict",
          "coloraxis": {
           "colorbar": {
            "outlinewidth": 0,
            "ticks": ""
           }
          },
          "colorscale": {
           "diverging": [
            [
             0,
             "#8e0152"
            ],
            [
             0.1,
             "#c51b7d"
            ],
            [
             0.2,
             "#de77ae"
            ],
            [
             0.3,
             "#f1b6da"
            ],
            [
             0.4,
             "#fde0ef"
            ],
            [
             0.5,
             "#f7f7f7"
            ],
            [
             0.6,
             "#e6f5d0"
            ],
            [
             0.7,
             "#b8e186"
            ],
            [
             0.8,
             "#7fbc41"
            ],
            [
             0.9,
             "#4d9221"
            ],
            [
             1,
             "#276419"
            ]
           ],
           "sequential": [
            [
             0,
             "#0d0887"
            ],
            [
             0.1111111111111111,
             "#46039f"
            ],
            [
             0.2222222222222222,
             "#7201a8"
            ],
            [
             0.3333333333333333,
             "#9c179e"
            ],
            [
             0.4444444444444444,
             "#bd3786"
            ],
            [
             0.5555555555555556,
             "#d8576b"
            ],
            [
             0.6666666666666666,
             "#ed7953"
            ],
            [
             0.7777777777777778,
             "#fb9f3a"
            ],
            [
             0.8888888888888888,
             "#fdca26"
            ],
            [
             1,
             "#f0f921"
            ]
           ],
           "sequentialminus": [
            [
             0,
             "#0d0887"
            ],
            [
             0.1111111111111111,
             "#46039f"
            ],
            [
             0.2222222222222222,
             "#7201a8"
            ],
            [
             0.3333333333333333,
             "#9c179e"
            ],
            [
             0.4444444444444444,
             "#bd3786"
            ],
            [
             0.5555555555555556,
             "#d8576b"
            ],
            [
             0.6666666666666666,
             "#ed7953"
            ],
            [
             0.7777777777777778,
             "#fb9f3a"
            ],
            [
             0.8888888888888888,
             "#fdca26"
            ],
            [
             1,
             "#f0f921"
            ]
           ]
          },
          "colorway": [
           "#636efa",
           "#EF553B",
           "#00cc96",
           "#ab63fa",
           "#FFA15A",
           "#19d3f3",
           "#FF6692",
           "#B6E880",
           "#FF97FF",
           "#FECB52"
          ],
          "font": {
           "color": "#2a3f5f"
          },
          "geo": {
           "bgcolor": "white",
           "lakecolor": "white",
           "landcolor": "#E5ECF6",
           "showlakes": true,
           "showland": true,
           "subunitcolor": "white"
          },
          "hoverlabel": {
           "align": "left"
          },
          "hovermode": "closest",
          "mapbox": {
           "style": "light"
          },
          "paper_bgcolor": "white",
          "plot_bgcolor": "#E5ECF6",
          "polar": {
           "angularaxis": {
            "gridcolor": "white",
            "linecolor": "white",
            "ticks": ""
           },
           "bgcolor": "#E5ECF6",
           "radialaxis": {
            "gridcolor": "white",
            "linecolor": "white",
            "ticks": ""
           }
          },
          "scene": {
           "xaxis": {
            "backgroundcolor": "#E5ECF6",
            "gridcolor": "white",
            "gridwidth": 2,
            "linecolor": "white",
            "showbackground": true,
            "ticks": "",
            "zerolinecolor": "white"
           },
           "yaxis": {
            "backgroundcolor": "#E5ECF6",
            "gridcolor": "white",
            "gridwidth": 2,
            "linecolor": "white",
            "showbackground": true,
            "ticks": "",
            "zerolinecolor": "white"
           },
           "zaxis": {
            "backgroundcolor": "#E5ECF6",
            "gridcolor": "white",
            "gridwidth": 2,
            "linecolor": "white",
            "showbackground": true,
            "ticks": "",
            "zerolinecolor": "white"
           }
          },
          "shapedefaults": {
           "line": {
            "color": "#2a3f5f"
           }
          },
          "ternary": {
           "aaxis": {
            "gridcolor": "white",
            "linecolor": "white",
            "ticks": ""
           },
           "baxis": {
            "gridcolor": "white",
            "linecolor": "white",
            "ticks": ""
           },
           "bgcolor": "#E5ECF6",
           "caxis": {
            "gridcolor": "white",
            "linecolor": "white",
            "ticks": ""
           }
          },
          "title": {
           "x": 0.05
          },
          "xaxis": {
           "automargin": true,
           "gridcolor": "white",
           "linecolor": "white",
           "ticks": "",
           "title": {
            "standoff": 15
           },
           "zerolinecolor": "white",
           "zerolinewidth": 2
          },
          "yaxis": {
           "automargin": true,
           "gridcolor": "white",
           "linecolor": "white",
           "ticks": "",
           "title": {
            "standoff": 15
           },
           "zerolinecolor": "white",
           "zerolinewidth": 2
          }
         }
        },
        "title": {
         "text": "Heatmap of Calls by Location"
        }
       }
      }
     },
     "metadata": {},
     "output_type": "display_data"
    }
   ],
   "source": [
    "# Create a heatmap using Plotly\n",
    "fig = go.Figure(\n",
    "    data=go.Scattergeo(\n",
    "        lat=calls_per_location[\"latitude\"],\n",
    "        lon=calls_per_location[\"longitude\"],\n",
    "        mode=\"markers\",\n",
    "        marker=dict(\n",
    "            size=calls_per_location[\n",
    "                \"total_calls\"\n",
    "            ],  \n",
    "            color=calls_per_location[\"total_calls\"],\n",
    "            colorscale=\"Viridis\",\n",
    "            colorbar=dict(title=\"Number of Calls\"),\n",
    "        ),\n",
    "        text=calls_per_location[\"location\"],  \n",
    "    )\n",
    ")\n",
    "\n",
    "# Update layout for better presentation\n",
    "fig.update_layout(\n",
    "    title=\"Heatmap of Calls by Location\",\n",
    "    geo=dict(\n",
    "        scope=\"usa\",\n",
    "        projection=dict(type=\"albers usa\"),\n",
    "        showland=True,\n",
    "        landcolor=\"rgb(240, 240, 240)\",\n",
    "        countrycolor=\"rgb(255, 255, 255)\",\n",
    "        showocean=True,\n",
    "        oceancolor=\"rgb(0, 204, 255)\",\n",
    "        showcoastlines=True,\n",
    "        coastlinecolor=\"rgb(0, 0, 0)\",\n",
    "    ),\n",
    ")\n",
    "\n",
    "# Show the figure\n",
    "fig.show()"
   ]
  }
 ],
 "metadata": {
  "kernelspec": {
   "display_name": ".venv",
   "language": "python",
   "name": "python3"
  },
  "language_info": {
   "codemirror_mode": {
    "name": "ipython",
    "version": 3
   },
   "file_extension": ".py",
   "mimetype": "text/x-python",
   "name": "python",
   "nbconvert_exporter": "python",
   "pygments_lexer": "ipython3",
   "version": "3.12.0"
  }
 },
 "nbformat": 4,
 "nbformat_minor": 2
}
