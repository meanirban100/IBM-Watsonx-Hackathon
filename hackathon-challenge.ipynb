{
 "cells": [
  {
   "cell_type": "markdown",
   "metadata": {},
   "source": [
    "## Install the required libararies"
   ]
  },
  {
   "cell_type": "code",
   "execution_count": 141,
   "metadata": {},
   "outputs": [],
   "source": [
    "!pip install -q datasets ibm-watson pandas tqdm wordcloud"
   ]
  },
  {
   "cell_type": "markdown",
   "metadata": {},
   "source": [
    "## Import the required libraries"
   ]
  },
  {
   "cell_type": "code",
   "execution_count": 142,
   "metadata": {},
   "outputs": [],
   "source": [
    "import pandas as pd\n",
    "from datasets import load_dataset\n",
    "from datetime import datetime, timedelta\n",
    "import random\n",
    "import os\n",
    "\n",
    "import requests\n",
    "from ibm_watson import IAMTokenManager\n",
    "\n",
    "from tqdm import tqdm\n",
    "\n",
    "pd.set_option(\"display.max_rows\", None)  # Display all rows\n",
    "pd.set_option(\"display.max_columns\", None)  # Display all columns\n",
    "pd.set_option(\"display.max_colwidth\", None)  # Display full content of each cell\n",
    "tqdm.pandas()"
   ]
  },
  {
   "cell_type": "markdown",
   "metadata": {},
   "source": [
    "## Load the Ecommerce Datasets \n",
    "## Dataset Type - E-Commerce Customer Support Conversations\n",
    "\n",
    "## Data Source - https://huggingface.co/datasets/NebulaByte/E-Commerce_Customer_Support_Conversations"
   ]
  },
  {
   "cell_type": "code",
   "execution_count": 143,
   "metadata": {},
   "outputs": [],
   "source": [
    "dataset = load_dataset(\"NebulaByte/E-Commerce_Customer_Support_Conversations\")\n",
    "train_data = dataset[\"train\"]\n",
    "customer_conversation = train_data.to_pandas()[\n",
    "    [\"conversation\"]\n",
    "]  ### Consider the conversation column only"
   ]
  },
  {
   "cell_type": "markdown",
   "metadata": {},
   "source": [
    "## Add Synthetic Data (Add call_recording_date and customer_location)"
   ]
  },
  {
   "cell_type": "code",
   "execution_count": 144,
   "metadata": {},
   "outputs": [],
   "source": [
    "def random_date_generation(delta: int = 7):\n",
    "    end_date = datetime.now()\n",
    "    start_date = end_date - timedelta(days=delta)\n",
    "    random_timestamp = start_date + timedelta(\n",
    "        days=random.randint(0, delta),\n",
    "        hours=random.randint(0, 23),\n",
    "        minutes=random.randint(0, 59),\n",
    "        seconds=random.randint(0, 59),\n",
    "    )\n",
    "    return random_timestamp\n",
    "\n",
    "\n",
    "customer_conversation[\"recording_date\"] = [\n",
    "    random_date_generation() for _ in range(len(customer_conversation))\n",
    "]\n",
    "\n",
    "locations = [\"New York, NY\",\n",
    "            \"Los Angeles, CA\",\n",
    "            \"San Diego, CA\",\n",
    "            \"San Francisco, CA\",\n",
    "            \"Jacksonville, FL\",\n",
    "            \"Seattle, WA\",\n",
    "            \"Washington, D.C.\",\n",
    "            \"Boston, MA\"\n",
    "            ]\n",
    "\n",
    "customer_conversation[\"location\"] = [\n",
    "    random.choice(locations) for _ in range(len(customer_conversation))\n",
    "]"
   ]
  },
  {
   "cell_type": "markdown",
   "metadata": {},
   "source": [
    "## Preview the data"
   ]
  },
  {
   "cell_type": "code",
   "execution_count": 145,
   "metadata": {},
   "outputs": [
    {
     "data": {
      "text/html": [
       "<div>\n",
       "<style scoped>\n",
       "    .dataframe tbody tr th:only-of-type {\n",
       "        vertical-align: middle;\n",
       "    }\n",
       "\n",
       "    .dataframe tbody tr th {\n",
       "        vertical-align: top;\n",
       "    }\n",
       "\n",
       "    .dataframe thead th {\n",
       "        text-align: right;\n",
       "    }\n",
       "</style>\n",
       "<table border=\"1\" class=\"dataframe\">\n",
       "  <thead>\n",
       "    <tr style=\"text-align: right;\">\n",
       "      <th></th>\n",
       "      <th>conversation</th>\n",
       "      <th>recording_date</th>\n",
       "      <th>location</th>\n",
       "    </tr>\n",
       "  </thead>\n",
       "  <tbody>\n",
       "    <tr>\n",
       "      <th>0</th>\n",
       "      <td>Agent: Thank you for calling BrownBox Customer Support. My name is Tom. How may I assist you today?\\n\\nCustomer: Hi Tom, I'm trying to log in to my account to purchase an Oven Toaster Grill (OTG), but I'm unable to proceed as it's asking for mobile number or email verification. Can you help me with that?\\n\\nAgent: Sure, I can assist you with that. May I know your registered mobile number or email address, please?\\n\\nCustomer: My registered mobile number is +1 123-456-7890.\\n\\nAgent: Thank you. Let me check that for you. I'm sorry to inform you that we don't have this number on our records. Can you please confirm if this is the correct number?\\n\\nCustomer: Oh, I'm sorry. I might have registered with a different number. Can you please check with my email address instead? It's johndoe@email.com.\\n\\nAgent: Sure, let me check that for you. (After a few moments) I see that we have your email address on our records. We'll be sending you a verification code shortly. Please check your email and let me know once you receive it.\\n\\nCustomer: Okay, I received the code. What do I do with it?\\n\\nAgent: Please enter the verification code in the field provided and click on 'Verify'. Once your email address is verified, you'll be able to proceed with your purchase.\\n\\nCustomer: Okay, I entered the code, and it's verified now. Thank you for your help.\\n\\nAgent: You're welcome. Is there anything else I can assist you with?\\n\\nCustomer: No, that's all. Thank you.\\n\\nAgent: You're welcome. Have a great day!</td>\n",
       "      <td>2024-09-19 01:31:52.930978</td>\n",
       "      <td>San Francisco, CA</td>\n",
       "    </tr>\n",
       "    <tr>\n",
       "      <th>1</th>\n",
       "      <td>Agent: Thank you for calling BrownBox customer support. My name is Alex. How may I assist you today?\\n\\nCustomer: Hi Alex. I recently received an email from BrownBox requesting me to ship back the computer monitor I purchased last week. Can you please tell me why I am being asked to ship it back?\\n\\nAgent: Sure, I'll be happy to help you with that. May I have your order number, please?\\n\\nCustomer: Yes, it's 789101.\\n\\nAgent: Thank you. Let me check the details of your order. (After a few seconds) I see that the monitor you purchased has been recalled by the manufacturer due to a technical issue. For safety reasons, we are requesting our customers to return the product, and we will be providing a full refund.\\n\\nCustomer: Oh, I see. That makes sense. Can you guide me through the process of returning the monitor?\\n\\nAgent: Of course. We will be sending you a prepaid shipping label via email within the next 24 hours. Please print the label, pack the monitor securely in its original packaging, and drop it off at any UPS store. Once we receive the product, we will initiate the refund process, and you will receive your money within 5-7 business days.\\n\\nCustomer: Okay, that sounds straightforward. Thank you for explaining the process to me.\\n\\nAgent: You're welcome. Is there anything else I can assist you with?\\n\\nCustomer: No, that's all for now. Thank you for your help.\\n\\nAgent: You're welcome. If you have any other questions or concerns, please don't hesitate to reach out to us. Have a great day!\\n\\nCustomer: You too. Goodbye.\\n\\nAgent: Goodbye.</td>\n",
       "      <td>2024-09-15 02:11:45.930978</td>\n",
       "      <td>Boston, MA</td>\n",
       "    </tr>\n",
       "  </tbody>\n",
       "</table>\n",
       "</div>"
      ],
      "text/plain": [
       "                                                                                                                                                                                                                                                                                                                                                                                                                                                                                                                                                                                                                                                                                                                                                                                                                                                                                                                                                                                                                                                                                                                                                                                                                                                                                                                                                                                                                                                                                                                                                                                                                         conversation  \\\n",
       "0                                                             Agent: Thank you for calling BrownBox Customer Support. My name is Tom. How may I assist you today?\\n\\nCustomer: Hi Tom, I'm trying to log in to my account to purchase an Oven Toaster Grill (OTG), but I'm unable to proceed as it's asking for mobile number or email verification. Can you help me with that?\\n\\nAgent: Sure, I can assist you with that. May I know your registered mobile number or email address, please?\\n\\nCustomer: My registered mobile number is +1 123-456-7890.\\n\\nAgent: Thank you. Let me check that for you. I'm sorry to inform you that we don't have this number on our records. Can you please confirm if this is the correct number?\\n\\nCustomer: Oh, I'm sorry. I might have registered with a different number. Can you please check with my email address instead? It's johndoe@email.com.\\n\\nAgent: Sure, let me check that for you. (After a few moments) I see that we have your email address on our records. We'll be sending you a verification code shortly. Please check your email and let me know once you receive it.\\n\\nCustomer: Okay, I received the code. What do I do with it?\\n\\nAgent: Please enter the verification code in the field provided and click on 'Verify'. Once your email address is verified, you'll be able to proceed with your purchase.\\n\\nCustomer: Okay, I entered the code, and it's verified now. Thank you for your help.\\n\\nAgent: You're welcome. Is there anything else I can assist you with?\\n\\nCustomer: No, that's all. Thank you.\\n\\nAgent: You're welcome. Have a great day!   \n",
       "1  Agent: Thank you for calling BrownBox customer support. My name is Alex. How may I assist you today?\\n\\nCustomer: Hi Alex. I recently received an email from BrownBox requesting me to ship back the computer monitor I purchased last week. Can you please tell me why I am being asked to ship it back?\\n\\nAgent: Sure, I'll be happy to help you with that. May I have your order number, please?\\n\\nCustomer: Yes, it's 789101.\\n\\nAgent: Thank you. Let me check the details of your order. (After a few seconds) I see that the monitor you purchased has been recalled by the manufacturer due to a technical issue. For safety reasons, we are requesting our customers to return the product, and we will be providing a full refund.\\n\\nCustomer: Oh, I see. That makes sense. Can you guide me through the process of returning the monitor?\\n\\nAgent: Of course. We will be sending you a prepaid shipping label via email within the next 24 hours. Please print the label, pack the monitor securely in its original packaging, and drop it off at any UPS store. Once we receive the product, we will initiate the refund process, and you will receive your money within 5-7 business days.\\n\\nCustomer: Okay, that sounds straightforward. Thank you for explaining the process to me.\\n\\nAgent: You're welcome. Is there anything else I can assist you with?\\n\\nCustomer: No, that's all for now. Thank you for your help.\\n\\nAgent: You're welcome. If you have any other questions or concerns, please don't hesitate to reach out to us. Have a great day!\\n\\nCustomer: You too. Goodbye.\\n\\nAgent: Goodbye.   \n",
       "\n",
       "              recording_date           location  \n",
       "0 2024-09-19 01:31:52.930978  San Francisco, CA  \n",
       "1 2024-09-15 02:11:45.930978         Boston, MA  "
      ]
     },
     "execution_count": 145,
     "metadata": {},
     "output_type": "execute_result"
    }
   ],
   "source": [
    "customer_conversation.head(2)"
   ]
  },
  {
   "cell_type": "markdown",
   "metadata": {},
   "source": [
    "## Set the Variables"
   ]
  },
  {
   "cell_type": "code",
   "execution_count": 147,
   "metadata": {},
   "outputs": [],
   "source": [
    "API_KEY = \"utVIQO-z2u-qBcLrxHad15-9cAqxnC9Cl4b0hQigdHtZhgdf\" ## Enter the API key genereted from IBM Watson platform\n",
    "SERVICE_URL = (\n",
    "    \"https://us-south.ml.cloud.ibm.com/ml/v1/text/generation?version=2023-05-29\"\n",
    ")\n",
    "INSTRUCT_MODEL_ID = \"ibm/granite-13b-instruct-v2\"\n",
    "CHAT_MODEL_ID = \"ibm/granite-13b-chat-v2\"\n",
    "PROJECT_ID = \"d80ea387-8eaa-42db-8d24-43edef6c6f69\""
   ]
  },
  {
   "cell_type": "markdown",
   "metadata": {},
   "source": [
    "## Function to generate bearer Token"
   ]
  },
  {
   "cell_type": "code",
   "execution_count": 148,
   "metadata": {},
   "outputs": [],
   "source": [
    "def get_token(api_key: str) -> str:\n",
    "    \"\"\"Generates and returns the IAM token.\"\"\"\n",
    "    try:\n",
    "        iam_token_manager = IAMTokenManager(apikey=api_key)\n",
    "        return iam_token_manager.get_token()\n",
    "    except Exception as e:\n",
    "        raise Exception(f\"Error obtaining IAM token: {str(e)}\")"
   ]
  },
  {
   "cell_type": "markdown",
   "metadata": {},
   "source": [
    "## Request body function"
   ]
  },
  {
   "cell_type": "code",
   "execution_count": 149,
   "metadata": {},
   "outputs": [],
   "source": [
    "def create_request_body(model_id: str, input_text: str, max_tokens: int = 900) -> dict:\n",
    "    \"\"\"Creates the request body for the API call.\"\"\"\n",
    "    return {\n",
    "        \"input\": input_text,\n",
    "        \"parameters\": {\n",
    "            \"decoding_method\": \"greedy\",\n",
    "            \"max_new_tokens\": max_tokens,\n",
    "            \"repetition_penalty\": 1.05,\n",
    "        },\n",
    "        \"model_id\": model_id,\n",
    "        \"project_id\": PROJECT_ID,\n",
    "        \"moderations\": {\n",
    "            \"hap\": {\n",
    "                \"input\": {\n",
    "                    \"enabled\": True,\n",
    "                    \"threshold\": 0.5,\n",
    "                    \"mask\": {\"remove_entity_value\": True},\n",
    "                },\n",
    "                \"output\": {\n",
    "                    \"enabled\": True,\n",
    "                    \"threshold\": 0.5,\n",
    "                    \"mask\": {\"remove_entity_value\": True},\n",
    "                },\n",
    "            }\n",
    "        },\n",
    "    }"
   ]
  },
  {
   "cell_type": "markdown",
   "metadata": {},
   "source": [
    "## API request function"
   ]
  },
  {
   "cell_type": "code",
   "execution_count": 150,
   "metadata": {},
   "outputs": [],
   "source": [
    "def make_api_request(body: dict, token: str, url: str) -> dict:\n",
    "    \"\"\"Makes the API request to the IBM Watson service.\"\"\"\n",
    "    headers = {\n",
    "        \"Accept\": \"application/json\",\n",
    "        \"Content-Type\": \"application/json\",\n",
    "        \"Authorization\": f\"Bearer {token}\",\n",
    "    }\n",
    "\n",
    "    try:\n",
    "        response = requests.post(url, headers=headers, json=body)\n",
    "        response.raise_for_status()\n",
    "    except requests.exceptions.RequestException as e:\n",
    "        raise Exception(f\"API request failed: {str(e)}\")\n",
    "\n",
    "    return response.json()"
   ]
  },
  {
   "cell_type": "markdown",
   "metadata": {},
   "source": [
    "## Chat message function wrapper"
   ]
  },
  {
   "cell_type": "code",
   "execution_count": 151,
   "metadata": {},
   "outputs": [],
   "source": [
    "def get_chat_message(prompt, input, model_id):\n",
    "    input_text = f\"{prompt} \\n {input}\"\n",
    "\n",
    "    # print(input_text)\n",
    "\n",
    "    token = get_token(API_KEY)\n",
    "    body = create_request_body(model_id, input_text)\n",
    "    data = make_api_request(body, token, SERVICE_URL)\n",
    "\n",
    "    # print(data)\n",
    "\n",
    "    return data[\"results\"][0][\"generated_text\"]"
   ]
  },
  {
   "cell_type": "markdown",
   "metadata": {},
   "source": [
    "## Sentiment Analysis"
   ]
  },
  {
   "cell_type": "code",
   "execution_count": 153,
   "metadata": {},
   "outputs": [
    {
     "name": "stderr",
     "output_type": "stream",
     "text": [
      "100%|██████████| 1000/1000 [13:53<00:00,  1.20it/s]\n"
     ]
    }
   ],
   "source": [
    "sentiment_analysis_prompt = \"\"\"Analyze the sentiment of the following text and only return one word: 'positive', 'negative', or 'neutral' without any explanation or \n",
    "                               additional information. Text: \"\"\"\n",
    "\n",
    "customer_conversation[\"customer_sentiment\"] = customer_conversation.progress_apply(\n",
    "    lambda row: get_chat_message(\n",
    "        sentiment_analysis_prompt, row[\"conversation\"], INSTRUCT_MODEL_ID\n",
    "    ),\n",
    "    axis=1,\n",
    ")"
   ]
  },
  {
   "cell_type": "code",
   "execution_count": 154,
   "metadata": {},
   "outputs": [
    {
     "data": {
      "text/html": [
       "<div>\n",
       "<style scoped>\n",
       "    .dataframe tbody tr th:only-of-type {\n",
       "        vertical-align: middle;\n",
       "    }\n",
       "\n",
       "    .dataframe tbody tr th {\n",
       "        vertical-align: top;\n",
       "    }\n",
       "\n",
       "    .dataframe thead th {\n",
       "        text-align: right;\n",
       "    }\n",
       "</style>\n",
       "<table border=\"1\" class=\"dataframe\">\n",
       "  <thead>\n",
       "    <tr style=\"text-align: right;\">\n",
       "      <th></th>\n",
       "      <th>conversation</th>\n",
       "      <th>recording_date</th>\n",
       "      <th>location</th>\n",
       "      <th>customer_sentiment</th>\n",
       "    </tr>\n",
       "  </thead>\n",
       "  <tbody>\n",
       "    <tr>\n",
       "      <th>0</th>\n",
       "      <td>Agent: Thank you for calling BrownBox Customer Support. My name is Tom. How may I assist you today?\\n\\nCustomer: Hi Tom, I'm trying to log in to my account to purchase an Oven Toaster Grill (OTG), but I'm unable to proceed as it's asking for mobile number or email verification. Can you help me with that?\\n\\nAgent: Sure, I can assist you with that. May I know your registered mobile number or email address, please?\\n\\nCustomer: My registered mobile number is +1 123-456-7890.\\n\\nAgent: Thank you. Let me check that for you. I'm sorry to inform you that we don't have this number on our records. Can you please confirm if this is the correct number?\\n\\nCustomer: Oh, I'm sorry. I might have registered with a different number. Can you please check with my email address instead? It's johndoe@email.com.\\n\\nAgent: Sure, let me check that for you. (After a few moments) I see that we have your email address on our records. We'll be sending you a verification code shortly. Please check your email and let me know once you receive it.\\n\\nCustomer: Okay, I received the code. What do I do with it?\\n\\nAgent: Please enter the verification code in the field provided and click on 'Verify'. Once your email address is verified, you'll be able to proceed with your purchase.\\n\\nCustomer: Okay, I entered the code, and it's verified now. Thank you for your help.\\n\\nAgent: You're welcome. Is there anything else I can assist you with?\\n\\nCustomer: No, that's all. Thank you.\\n\\nAgent: You're welcome. Have a great day!</td>\n",
       "      <td>2024-09-19 01:31:52.930978</td>\n",
       "      <td>San Francisco, CA</td>\n",
       "      <td>positive</td>\n",
       "    </tr>\n",
       "    <tr>\n",
       "      <th>1</th>\n",
       "      <td>Agent: Thank you for calling BrownBox customer support. My name is Alex. How may I assist you today?\\n\\nCustomer: Hi Alex. I recently received an email from BrownBox requesting me to ship back the computer monitor I purchased last week. Can you please tell me why I am being asked to ship it back?\\n\\nAgent: Sure, I'll be happy to help you with that. May I have your order number, please?\\n\\nCustomer: Yes, it's 789101.\\n\\nAgent: Thank you. Let me check the details of your order. (After a few seconds) I see that the monitor you purchased has been recalled by the manufacturer due to a technical issue. For safety reasons, we are requesting our customers to return the product, and we will be providing a full refund.\\n\\nCustomer: Oh, I see. That makes sense. Can you guide me through the process of returning the monitor?\\n\\nAgent: Of course. We will be sending you a prepaid shipping label via email within the next 24 hours. Please print the label, pack the monitor securely in its original packaging, and drop it off at any UPS store. Once we receive the product, we will initiate the refund process, and you will receive your money within 5-7 business days.\\n\\nCustomer: Okay, that sounds straightforward. Thank you for explaining the process to me.\\n\\nAgent: You're welcome. Is there anything else I can assist you with?\\n\\nCustomer: No, that's all for now. Thank you for your help.\\n\\nAgent: You're welcome. If you have any other questions or concerns, please don't hesitate to reach out to us. Have a great day!\\n\\nCustomer: You too. Goodbye.\\n\\nAgent: Goodbye.</td>\n",
       "      <td>2024-09-15 02:11:45.930978</td>\n",
       "      <td>Boston, MA</td>\n",
       "      <td>negative</td>\n",
       "    </tr>\n",
       "  </tbody>\n",
       "</table>\n",
       "</div>"
      ],
      "text/plain": [
       "                                                                                                                                                                                                                                                                                                                                                                                                                                                                                                                                                                                                                                                                                                                                                                                                                                                                                                                                                                                                                                                                                                                                                                                                                                                                                                                                                                                                                                                                                                                                                                                                                         conversation  \\\n",
       "0                                                             Agent: Thank you for calling BrownBox Customer Support. My name is Tom. How may I assist you today?\\n\\nCustomer: Hi Tom, I'm trying to log in to my account to purchase an Oven Toaster Grill (OTG), but I'm unable to proceed as it's asking for mobile number or email verification. Can you help me with that?\\n\\nAgent: Sure, I can assist you with that. May I know your registered mobile number or email address, please?\\n\\nCustomer: My registered mobile number is +1 123-456-7890.\\n\\nAgent: Thank you. Let me check that for you. I'm sorry to inform you that we don't have this number on our records. Can you please confirm if this is the correct number?\\n\\nCustomer: Oh, I'm sorry. I might have registered with a different number. Can you please check with my email address instead? It's johndoe@email.com.\\n\\nAgent: Sure, let me check that for you. (After a few moments) I see that we have your email address on our records. We'll be sending you a verification code shortly. Please check your email and let me know once you receive it.\\n\\nCustomer: Okay, I received the code. What do I do with it?\\n\\nAgent: Please enter the verification code in the field provided and click on 'Verify'. Once your email address is verified, you'll be able to proceed with your purchase.\\n\\nCustomer: Okay, I entered the code, and it's verified now. Thank you for your help.\\n\\nAgent: You're welcome. Is there anything else I can assist you with?\\n\\nCustomer: No, that's all. Thank you.\\n\\nAgent: You're welcome. Have a great day!   \n",
       "1  Agent: Thank you for calling BrownBox customer support. My name is Alex. How may I assist you today?\\n\\nCustomer: Hi Alex. I recently received an email from BrownBox requesting me to ship back the computer monitor I purchased last week. Can you please tell me why I am being asked to ship it back?\\n\\nAgent: Sure, I'll be happy to help you with that. May I have your order number, please?\\n\\nCustomer: Yes, it's 789101.\\n\\nAgent: Thank you. Let me check the details of your order. (After a few seconds) I see that the monitor you purchased has been recalled by the manufacturer due to a technical issue. For safety reasons, we are requesting our customers to return the product, and we will be providing a full refund.\\n\\nCustomer: Oh, I see. That makes sense. Can you guide me through the process of returning the monitor?\\n\\nAgent: Of course. We will be sending you a prepaid shipping label via email within the next 24 hours. Please print the label, pack the monitor securely in its original packaging, and drop it off at any UPS store. Once we receive the product, we will initiate the refund process, and you will receive your money within 5-7 business days.\\n\\nCustomer: Okay, that sounds straightforward. Thank you for explaining the process to me.\\n\\nAgent: You're welcome. Is there anything else I can assist you with?\\n\\nCustomer: No, that's all for now. Thank you for your help.\\n\\nAgent: You're welcome. If you have any other questions or concerns, please don't hesitate to reach out to us. Have a great day!\\n\\nCustomer: You too. Goodbye.\\n\\nAgent: Goodbye.   \n",
       "\n",
       "              recording_date           location customer_sentiment  \n",
       "0 2024-09-19 01:31:52.930978  San Francisco, CA           positive  \n",
       "1 2024-09-15 02:11:45.930978         Boston, MA           negative  "
      ]
     },
     "execution_count": 154,
     "metadata": {},
     "output_type": "execute_result"
    }
   ],
   "source": [
    "customer_conversation.head(2)"
   ]
  },
  {
   "cell_type": "markdown",
   "metadata": {},
   "source": [
    "## Call (Text) Summarization"
   ]
  },
  {
   "cell_type": "code",
   "execution_count": 155,
   "metadata": {},
   "outputs": [
    {
     "name": "stderr",
     "output_type": "stream",
     "text": [
      "100%|██████████| 1000/1000 [24:01<00:00,  1.44s/it] \n"
     ]
    }
   ],
   "source": [
    "call_summary_prompt = (\n",
    "    \"Summarize the below call recording. Maxumum 100 Words. Recording: \"\n",
    ")\n",
    "\n",
    "\n",
    "customer_conversation[\"call_summary\"] = customer_conversation.progress_apply(\n",
    "    lambda row: get_chat_message(\n",
    "        call_summary_prompt, row[\"conversation\"], CHAT_MODEL_ID\n",
    "    ),\n",
    "    axis=1,\n",
    ")"
   ]
  },
  {
   "cell_type": "code",
   "execution_count": 156,
   "metadata": {},
   "outputs": [
    {
     "data": {
      "text/html": [
       "<div>\n",
       "<style scoped>\n",
       "    .dataframe tbody tr th:only-of-type {\n",
       "        vertical-align: middle;\n",
       "    }\n",
       "\n",
       "    .dataframe tbody tr th {\n",
       "        vertical-align: top;\n",
       "    }\n",
       "\n",
       "    .dataframe thead th {\n",
       "        text-align: right;\n",
       "    }\n",
       "</style>\n",
       "<table border=\"1\" class=\"dataframe\">\n",
       "  <thead>\n",
       "    <tr style=\"text-align: right;\">\n",
       "      <th></th>\n",
       "      <th>conversation</th>\n",
       "      <th>recording_date</th>\n",
       "      <th>location</th>\n",
       "      <th>customer_sentiment</th>\n",
       "      <th>call_summary</th>\n",
       "    </tr>\n",
       "  </thead>\n",
       "  <tbody>\n",
       "    <tr>\n",
       "      <th>0</th>\n",
       "      <td>Agent: Thank you for calling BrownBox Customer Support. My name is Tom. How may I assist you today?\\n\\nCustomer: Hi Tom, I'm trying to log in to my account to purchase an Oven Toaster Grill (OTG), but I'm unable to proceed as it's asking for mobile number or email verification. Can you help me with that?\\n\\nAgent: Sure, I can assist you with that. May I know your registered mobile number or email address, please?\\n\\nCustomer: My registered mobile number is +1 123-456-7890.\\n\\nAgent: Thank you. Let me check that for you. I'm sorry to inform you that we don't have this number on our records. Can you please confirm if this is the correct number?\\n\\nCustomer: Oh, I'm sorry. I might have registered with a different number. Can you please check with my email address instead? It's johndoe@email.com.\\n\\nAgent: Sure, let me check that for you. (After a few moments) I see that we have your email address on our records. We'll be sending you a verification code shortly. Please check your email and let me know once you receive it.\\n\\nCustomer: Okay, I received the code. What do I do with it?\\n\\nAgent: Please enter the verification code in the field provided and click on 'Verify'. Once your email address is verified, you'll be able to proceed with your purchase.\\n\\nCustomer: Okay, I entered the code, and it's verified now. Thank you for your help.\\n\\nAgent: You're welcome. Is there anything else I can assist you with?\\n\\nCustomer: No, that's all. Thank you.\\n\\nAgent: You're welcome. Have a great day!</td>\n",
       "      <td>2024-09-19 01:31:52.930978</td>\n",
       "      <td>San Francisco, CA</td>\n",
       "      <td>positive</td>\n",
       "      <td>\\n\\nThe customer was able to successfully verify their email address and complete the purchase process. The agent was patient and helpful throughout the interaction, ensuring that the customer's issue was resolved.\\n</td>\n",
       "    </tr>\n",
       "    <tr>\n",
       "      <th>1</th>\n",
       "      <td>Agent: Thank you for calling BrownBox customer support. My name is Alex. How may I assist you today?\\n\\nCustomer: Hi Alex. I recently received an email from BrownBox requesting me to ship back the computer monitor I purchased last week. Can you please tell me why I am being asked to ship it back?\\n\\nAgent: Sure, I'll be happy to help you with that. May I have your order number, please?\\n\\nCustomer: Yes, it's 789101.\\n\\nAgent: Thank you. Let me check the details of your order. (After a few seconds) I see that the monitor you purchased has been recalled by the manufacturer due to a technical issue. For safety reasons, we are requesting our customers to return the product, and we will be providing a full refund.\\n\\nCustomer: Oh, I see. That makes sense. Can you guide me through the process of returning the monitor?\\n\\nAgent: Of course. We will be sending you a prepaid shipping label via email within the next 24 hours. Please print the label, pack the monitor securely in its original packaging, and drop it off at any UPS store. Once we receive the product, we will initiate the refund process, and you will receive your money within 5-7 business days.\\n\\nCustomer: Okay, that sounds straightforward. Thank you for explaining the process to me.\\n\\nAgent: You're welcome. Is there anything else I can assist you with?\\n\\nCustomer: No, that's all for now. Thank you for your help.\\n\\nAgent: You're welcome. If you have any other questions or concerns, please don't hesitate to reach out to us. Have a great day!\\n\\nCustomer: You too. Goodbye.\\n\\nAgent: Goodbye.</td>\n",
       "      <td>2024-09-15 02:11:45.930978</td>\n",
       "      <td>Boston, MA</td>\n",
       "      <td>negative</td>\n",
       "      <td>\\n\\nIn this call recording, the customer expresses concern about a recall notice for a computer monitor they recently purchased from BrownBox. The agent provides clear instructions on how to return the product and ensures the customer that a full refund will be issued. The interaction demonstrates effective customer service and transparency in addressing the customer's issue.</td>\n",
       "    </tr>\n",
       "  </tbody>\n",
       "</table>\n",
       "</div>"
      ],
      "text/plain": [
       "                                                                                                                                                                                                                                                                                                                                                                                                                                                                                                                                                                                                                                                                                                                                                                                                                                                                                                                                                                                                                                                                                                                                                                                                                                                                                                                                                                                                                                                                                                                                                                                                                         conversation  \\\n",
       "0                                                             Agent: Thank you for calling BrownBox Customer Support. My name is Tom. How may I assist you today?\\n\\nCustomer: Hi Tom, I'm trying to log in to my account to purchase an Oven Toaster Grill (OTG), but I'm unable to proceed as it's asking for mobile number or email verification. Can you help me with that?\\n\\nAgent: Sure, I can assist you with that. May I know your registered mobile number or email address, please?\\n\\nCustomer: My registered mobile number is +1 123-456-7890.\\n\\nAgent: Thank you. Let me check that for you. I'm sorry to inform you that we don't have this number on our records. Can you please confirm if this is the correct number?\\n\\nCustomer: Oh, I'm sorry. I might have registered with a different number. Can you please check with my email address instead? It's johndoe@email.com.\\n\\nAgent: Sure, let me check that for you. (After a few moments) I see that we have your email address on our records. We'll be sending you a verification code shortly. Please check your email and let me know once you receive it.\\n\\nCustomer: Okay, I received the code. What do I do with it?\\n\\nAgent: Please enter the verification code in the field provided and click on 'Verify'. Once your email address is verified, you'll be able to proceed with your purchase.\\n\\nCustomer: Okay, I entered the code, and it's verified now. Thank you for your help.\\n\\nAgent: You're welcome. Is there anything else I can assist you with?\\n\\nCustomer: No, that's all. Thank you.\\n\\nAgent: You're welcome. Have a great day!   \n",
       "1  Agent: Thank you for calling BrownBox customer support. My name is Alex. How may I assist you today?\\n\\nCustomer: Hi Alex. I recently received an email from BrownBox requesting me to ship back the computer monitor I purchased last week. Can you please tell me why I am being asked to ship it back?\\n\\nAgent: Sure, I'll be happy to help you with that. May I have your order number, please?\\n\\nCustomer: Yes, it's 789101.\\n\\nAgent: Thank you. Let me check the details of your order. (After a few seconds) I see that the monitor you purchased has been recalled by the manufacturer due to a technical issue. For safety reasons, we are requesting our customers to return the product, and we will be providing a full refund.\\n\\nCustomer: Oh, I see. That makes sense. Can you guide me through the process of returning the monitor?\\n\\nAgent: Of course. We will be sending you a prepaid shipping label via email within the next 24 hours. Please print the label, pack the monitor securely in its original packaging, and drop it off at any UPS store. Once we receive the product, we will initiate the refund process, and you will receive your money within 5-7 business days.\\n\\nCustomer: Okay, that sounds straightforward. Thank you for explaining the process to me.\\n\\nAgent: You're welcome. Is there anything else I can assist you with?\\n\\nCustomer: No, that's all for now. Thank you for your help.\\n\\nAgent: You're welcome. If you have any other questions or concerns, please don't hesitate to reach out to us. Have a great day!\\n\\nCustomer: You too. Goodbye.\\n\\nAgent: Goodbye.   \n",
       "\n",
       "              recording_date           location customer_sentiment  \\\n",
       "0 2024-09-19 01:31:52.930978  San Francisco, CA           positive   \n",
       "1 2024-09-15 02:11:45.930978         Boston, MA           negative   \n",
       "\n",
       "                                                                                                                                                                                                                                                                                                                                                                                 call_summary  \n",
       "0                                                                                                                                                                    \\n\\nThe customer was able to successfully verify their email address and complete the purchase process. The agent was patient and helpful throughout the interaction, ensuring that the customer's issue was resolved.\\n  \n",
       "1  \\n\\nIn this call recording, the customer expresses concern about a recall notice for a computer monitor they recently purchased from BrownBox. The agent provides clear instructions on how to return the product and ensures the customer that a full refund will be issued. The interaction demonstrates effective customer service and transparency in addressing the customer's issue.  "
      ]
     },
     "execution_count": 156,
     "metadata": {},
     "output_type": "execute_result"
    }
   ],
   "source": [
    "customer_conversation.head(2)"
   ]
  },
  {
   "cell_type": "markdown",
   "metadata": {},
   "source": [
    "## Feature Extraction"
   ]
  },
  {
   "cell_type": "code",
   "execution_count": 157,
   "metadata": {},
   "outputs": [
    {
     "name": "stderr",
     "output_type": "stream",
     "text": [
      "100%|██████████| 1000/1000 [1:35:17<00:00,  5.72s/it]\n"
     ]
    }
   ],
   "source": [
    "feature_extraction_prompt = \"\"\"\n",
    "For the below conversation i want to do feature extraction.The output should be in json format. \n",
    "The output must contains following details issue, action_taken, product_interest, customer_details, resolution,additional_support_needed. \n",
    "No explanation needed. Just the json output. \n",
    "In case if customer_details are not present populate it as NULL. \n",
    "In case any other details are not present populate as NA. But tags must be present. \n",
    "Do not make up information if it is not available in the below conversation. Conversation - \n",
    "\"\"\"\n",
    "customer_conversation[\"feature_extraction\"] = customer_conversation.progress_apply(\n",
    "    lambda row: get_chat_message(\n",
    "        feature_extraction_prompt, row[\"conversation\"], CHAT_MODEL_ID\n",
    "    ),\n",
    "    axis=1,\n",
    ")"
   ]
  },
  {
   "cell_type": "code",
   "execution_count": 158,
   "metadata": {},
   "outputs": [
    {
     "data": {
      "text/html": [
       "<div>\n",
       "<style scoped>\n",
       "    .dataframe tbody tr th:only-of-type {\n",
       "        vertical-align: middle;\n",
       "    }\n",
       "\n",
       "    .dataframe tbody tr th {\n",
       "        vertical-align: top;\n",
       "    }\n",
       "\n",
       "    .dataframe thead th {\n",
       "        text-align: right;\n",
       "    }\n",
       "</style>\n",
       "<table border=\"1\" class=\"dataframe\">\n",
       "  <thead>\n",
       "    <tr style=\"text-align: right;\">\n",
       "      <th></th>\n",
       "      <th>conversation</th>\n",
       "      <th>recording_date</th>\n",
       "      <th>location</th>\n",
       "      <th>customer_sentiment</th>\n",
       "      <th>call_summary</th>\n",
       "      <th>feature_extraction</th>\n",
       "    </tr>\n",
       "  </thead>\n",
       "  <tbody>\n",
       "    <tr>\n",
       "      <th>0</th>\n",
       "      <td>Agent: Thank you for calling BrownBox Customer Support. My name is Tom. How may I assist you today?\\n\\nCustomer: Hi Tom, I'm trying to log in to my account to purchase an Oven Toaster Grill (OTG), but I'm unable to proceed as it's asking for mobile number or email verification. Can you help me with that?\\n\\nAgent: Sure, I can assist you with that. May I know your registered mobile number or email address, please?\\n\\nCustomer: My registered mobile number is +1 123-456-7890.\\n\\nAgent: Thank you. Let me check that for you. I'm sorry to inform you that we don't have this number on our records. Can you please confirm if this is the correct number?\\n\\nCustomer: Oh, I'm sorry. I might have registered with a different number. Can you please check with my email address instead? It's johndoe@email.com.\\n\\nAgent: Sure, let me check that for you. (After a few moments) I see that we have your email address on our records. We'll be sending you a verification code shortly. Please check your email and let me know once you receive it.\\n\\nCustomer: Okay, I received the code. What do I do with it?\\n\\nAgent: Please enter the verification code in the field provided and click on 'Verify'. Once your email address is verified, you'll be able to proceed with your purchase.\\n\\nCustomer: Okay, I entered the code, and it's verified now. Thank you for your help.\\n\\nAgent: You're welcome. Is there anything else I can assist you with?\\n\\nCustomer: No, that's all. Thank you.\\n\\nAgent: You're welcome. Have a great day!</td>\n",
       "      <td>2024-09-19 01:31:52.930978</td>\n",
       "      <td>San Francisco, CA</td>\n",
       "      <td>positive</td>\n",
       "      <td>\\n\\nThe customer was able to successfully verify their email address and complete the purchase process. The agent was patient and helpful throughout the interaction, ensuring that the customer's issue was resolved.\\n</td>\n",
       "      <td>\\n\\nOutput in JSON format:\\n{\\n  \"issue\": \"customer is unable to proceed with purchasing an OTG due to mobile number or email verification issue\",\\n  \"action_taken\": \"provided assistance in verifying the email address\",\\n  \"product_interest\": \"OTG\",\\n  \"customer_details\": {\\n    \"name\": \"John Doe\",\\n    \"email\": \"johndoe@email.com\"\\n  },\\n  \"resolution\": \"email address verified and issue resolved\",\\n  \"additional_support_needed\": \"NA\"\\n}\\n\\nNote: In case if the customer_details are not present, populate it as NULL. In case any other details are not present, populate as NA. But tags must be present.</td>\n",
       "    </tr>\n",
       "    <tr>\n",
       "      <th>1</th>\n",
       "      <td>Agent: Thank you for calling BrownBox customer support. My name is Alex. How may I assist you today?\\n\\nCustomer: Hi Alex. I recently received an email from BrownBox requesting me to ship back the computer monitor I purchased last week. Can you please tell me why I am being asked to ship it back?\\n\\nAgent: Sure, I'll be happy to help you with that. May I have your order number, please?\\n\\nCustomer: Yes, it's 789101.\\n\\nAgent: Thank you. Let me check the details of your order. (After a few seconds) I see that the monitor you purchased has been recalled by the manufacturer due to a technical issue. For safety reasons, we are requesting our customers to return the product, and we will be providing a full refund.\\n\\nCustomer: Oh, I see. That makes sense. Can you guide me through the process of returning the monitor?\\n\\nAgent: Of course. We will be sending you a prepaid shipping label via email within the next 24 hours. Please print the label, pack the monitor securely in its original packaging, and drop it off at any UPS store. Once we receive the product, we will initiate the refund process, and you will receive your money within 5-7 business days.\\n\\nCustomer: Okay, that sounds straightforward. Thank you for explaining the process to me.\\n\\nAgent: You're welcome. Is there anything else I can assist you with?\\n\\nCustomer: No, that's all for now. Thank you for your help.\\n\\nAgent: You're welcome. If you have any other questions or concerns, please don't hesitate to reach out to us. Have a great day!\\n\\nCustomer: You too. Goodbye.\\n\\nAgent: Goodbye.</td>\n",
       "      <td>2024-09-15 02:11:45.930978</td>\n",
       "      <td>Boston, MA</td>\n",
       "      <td>negative</td>\n",
       "      <td>\\n\\nIn this call recording, the customer expresses concern about a recall notice for a computer monitor they recently purchased from BrownBox. The agent provides clear instructions on how to return the product and ensures the customer that a full refund will be issued. The interaction demonstrates effective customer service and transparency in addressing the customer's issue.</td>\n",
       "      <td>\\n\\nOutput in JSON format:\\n{\\n\"issue\": \"Product recall\",\\n\"action_taken\": \"Returning the product\",\\n\"product_interest\": \"Computer monitor\",\\n\"customer_details\": {\\n\"name\": \"John Doe\",\\n\"email\": \"john.doe@example.com\"\\n},\\n\"resolution\": \"Refund initiated\",\\n\"additional_support_needed\": \"N/A\"\\n}\\n\\nNote: In this example, the customer's name and email address are not provided, so they are not included in the JSON output. However, the JSON format still includes the \"customer\\_details\" field with placeholders for these values.\\n\\nAdditionally, the \"resolution\" value is \"Refund initiated\" because the customer will receive a refund once the monitor is returned. The actual refund process may take 5-7 business days to complete.</td>\n",
       "    </tr>\n",
       "  </tbody>\n",
       "</table>\n",
       "</div>"
      ],
      "text/plain": [
       "                                                                                                                                                                                                                                                                                                                                                                                                                                                                                                                                                                                                                                                                                                                                                                                                                                                                                                                                                                                                                                                                                                                                                                                                                                                                                                                                                                                                                                                                                                                                                                                                                         conversation  \\\n",
       "0                                                             Agent: Thank you for calling BrownBox Customer Support. My name is Tom. How may I assist you today?\\n\\nCustomer: Hi Tom, I'm trying to log in to my account to purchase an Oven Toaster Grill (OTG), but I'm unable to proceed as it's asking for mobile number or email verification. Can you help me with that?\\n\\nAgent: Sure, I can assist you with that. May I know your registered mobile number or email address, please?\\n\\nCustomer: My registered mobile number is +1 123-456-7890.\\n\\nAgent: Thank you. Let me check that for you. I'm sorry to inform you that we don't have this number on our records. Can you please confirm if this is the correct number?\\n\\nCustomer: Oh, I'm sorry. I might have registered with a different number. Can you please check with my email address instead? It's johndoe@email.com.\\n\\nAgent: Sure, let me check that for you. (After a few moments) I see that we have your email address on our records. We'll be sending you a verification code shortly. Please check your email and let me know once you receive it.\\n\\nCustomer: Okay, I received the code. What do I do with it?\\n\\nAgent: Please enter the verification code in the field provided and click on 'Verify'. Once your email address is verified, you'll be able to proceed with your purchase.\\n\\nCustomer: Okay, I entered the code, and it's verified now. Thank you for your help.\\n\\nAgent: You're welcome. Is there anything else I can assist you with?\\n\\nCustomer: No, that's all. Thank you.\\n\\nAgent: You're welcome. Have a great day!   \n",
       "1  Agent: Thank you for calling BrownBox customer support. My name is Alex. How may I assist you today?\\n\\nCustomer: Hi Alex. I recently received an email from BrownBox requesting me to ship back the computer monitor I purchased last week. Can you please tell me why I am being asked to ship it back?\\n\\nAgent: Sure, I'll be happy to help you with that. May I have your order number, please?\\n\\nCustomer: Yes, it's 789101.\\n\\nAgent: Thank you. Let me check the details of your order. (After a few seconds) I see that the monitor you purchased has been recalled by the manufacturer due to a technical issue. For safety reasons, we are requesting our customers to return the product, and we will be providing a full refund.\\n\\nCustomer: Oh, I see. That makes sense. Can you guide me through the process of returning the monitor?\\n\\nAgent: Of course. We will be sending you a prepaid shipping label via email within the next 24 hours. Please print the label, pack the monitor securely in its original packaging, and drop it off at any UPS store. Once we receive the product, we will initiate the refund process, and you will receive your money within 5-7 business days.\\n\\nCustomer: Okay, that sounds straightforward. Thank you for explaining the process to me.\\n\\nAgent: You're welcome. Is there anything else I can assist you with?\\n\\nCustomer: No, that's all for now. Thank you for your help.\\n\\nAgent: You're welcome. If you have any other questions or concerns, please don't hesitate to reach out to us. Have a great day!\\n\\nCustomer: You too. Goodbye.\\n\\nAgent: Goodbye.   \n",
       "\n",
       "              recording_date           location customer_sentiment  \\\n",
       "0 2024-09-19 01:31:52.930978  San Francisco, CA           positive   \n",
       "1 2024-09-15 02:11:45.930978         Boston, MA           negative   \n",
       "\n",
       "                                                                                                                                                                                                                                                                                                                                                                                 call_summary  \\\n",
       "0                                                                                                                                                                    \\n\\nThe customer was able to successfully verify their email address and complete the purchase process. The agent was patient and helpful throughout the interaction, ensuring that the customer's issue was resolved.\\n   \n",
       "1  \\n\\nIn this call recording, the customer expresses concern about a recall notice for a computer monitor they recently purchased from BrownBox. The agent provides clear instructions on how to return the product and ensures the customer that a full refund will be issued. The interaction demonstrates effective customer service and transparency in addressing the customer's issue.   \n",
       "\n",
       "                                                                                                                                                                                                                                                                                                                                                                                                                                                                                                                                                                                                                                                                                                                                          feature_extraction  \n",
       "0                                                                                                                              \\n\\nOutput in JSON format:\\n{\\n  \"issue\": \"customer is unable to proceed with purchasing an OTG due to mobile number or email verification issue\",\\n  \"action_taken\": \"provided assistance in verifying the email address\",\\n  \"product_interest\": \"OTG\",\\n  \"customer_details\": {\\n    \"name\": \"John Doe\",\\n    \"email\": \"johndoe@email.com\"\\n  },\\n  \"resolution\": \"email address verified and issue resolved\",\\n  \"additional_support_needed\": \"NA\"\\n}\\n\\nNote: In case if the customer_details are not present, populate it as NULL. In case any other details are not present, populate as NA. But tags must be present.  \n",
       "1  \\n\\nOutput in JSON format:\\n{\\n\"issue\": \"Product recall\",\\n\"action_taken\": \"Returning the product\",\\n\"product_interest\": \"Computer monitor\",\\n\"customer_details\": {\\n\"name\": \"John Doe\",\\n\"email\": \"john.doe@example.com\"\\n},\\n\"resolution\": \"Refund initiated\",\\n\"additional_support_needed\": \"N/A\"\\n}\\n\\nNote: In this example, the customer's name and email address are not provided, so they are not included in the JSON output. However, the JSON format still includes the \"customer\\_details\" field with placeholders for these values.\\n\\nAdditionally, the \"resolution\" value is \"Refund initiated\" because the customer will receive a refund once the monitor is returned. The actual refund process may take 5-7 business days to complete.  "
      ]
     },
     "execution_count": 158,
     "metadata": {},
     "output_type": "execute_result"
    }
   ],
   "source": [
    "customer_conversation.head(2)"
   ]
  },
  {
   "cell_type": "markdown",
   "metadata": {},
   "source": [
    "## As the feature extraction data contains json data along with text values, we have to do further data manipulation to extract the json data."
   ]
  },
  {
   "cell_type": "code",
   "execution_count": 159,
   "metadata": {},
   "outputs": [
    {
     "name": "stderr",
     "output_type": "stream",
     "text": [
      "100%|██████████| 1000/1000 [00:00<00:00, 37566.87it/s]\n"
     ]
    }
   ],
   "source": [
    "import json\n",
    "import re\n",
    "\n",
    "# Function to extract JSON from the text\n",
    "def extract_json_from_text(text):\n",
    "    try:\n",
    "        # Use regular expressions to extract the JSON part\n",
    "        json_match = re.search(r\"\\{.*\\}\", text, re.DOTALL)\n",
    "        if json_match:\n",
    "            json_str = json_match.group(0)\n",
    "            json_data = json.loads(json_str)  # Parse the JSON string into a dictionary\n",
    "\n",
    "            # Ensure all required tags are present\n",
    "            json_data[\"issue\"] = json_data.get(\"issue\", \"NA\")\n",
    "            json_data[\"action_taken\"] = json_data.get(\"action_taken\", \"NA\")\n",
    "            json_data[\"product_interest\"] = json_data.get(\"product_interest\", \"NA\")\n",
    "            json_data[\"customer_details\"] = json_data.get(\n",
    "                \"customer_details\", None\n",
    "            )  # Set as NULL if absent\n",
    "            json_data[\"resolution\"] = json_data.get(\"resolution\", \"NA\")\n",
    "            json_data[\"additional_support_needed\"] = json_data.get(\n",
    "                \"additional_support_needed\", \"NA\"\n",
    "            )\n",
    "\n",
    "            return json.dumps(json_data)\n",
    "        else:\n",
    "            return None\n",
    "    except (json.JSONDecodeError, TypeError):\n",
    "        return None  # Return None if it's not a valid JSON\n",
    "\n",
    "\n",
    "# Apply the function to the column\n",
    "customer_conversation[\"feature_extraction\"] = customer_conversation[\n",
    "    \"feature_extraction\"\n",
    "].progress_apply(extract_json_from_text)"
   ]
  },
  {
   "cell_type": "code",
   "execution_count": 160,
   "metadata": {},
   "outputs": [
    {
     "data": {
      "text/html": [
       "<div>\n",
       "<style scoped>\n",
       "    .dataframe tbody tr th:only-of-type {\n",
       "        vertical-align: middle;\n",
       "    }\n",
       "\n",
       "    .dataframe tbody tr th {\n",
       "        vertical-align: top;\n",
       "    }\n",
       "\n",
       "    .dataframe thead th {\n",
       "        text-align: right;\n",
       "    }\n",
       "</style>\n",
       "<table border=\"1\" class=\"dataframe\">\n",
       "  <thead>\n",
       "    <tr style=\"text-align: right;\">\n",
       "      <th></th>\n",
       "      <th>conversation</th>\n",
       "      <th>recording_date</th>\n",
       "      <th>location</th>\n",
       "      <th>customer_sentiment</th>\n",
       "      <th>call_summary</th>\n",
       "      <th>feature_extraction</th>\n",
       "    </tr>\n",
       "  </thead>\n",
       "  <tbody>\n",
       "    <tr>\n",
       "      <th>0</th>\n",
       "      <td>Agent: Thank you for calling BrownBox Customer Support. My name is Tom. How may I assist you today?\\n\\nCustomer: Hi Tom, I'm trying to log in to my account to purchase an Oven Toaster Grill (OTG), but I'm unable to proceed as it's asking for mobile number or email verification. Can you help me with that?\\n\\nAgent: Sure, I can assist you with that. May I know your registered mobile number or email address, please?\\n\\nCustomer: My registered mobile number is +1 123-456-7890.\\n\\nAgent: Thank you. Let me check that for you. I'm sorry to inform you that we don't have this number on our records. Can you please confirm if this is the correct number?\\n\\nCustomer: Oh, I'm sorry. I might have registered with a different number. Can you please check with my email address instead? It's johndoe@email.com.\\n\\nAgent: Sure, let me check that for you. (After a few moments) I see that we have your email address on our records. We'll be sending you a verification code shortly. Please check your email and let me know once you receive it.\\n\\nCustomer: Okay, I received the code. What do I do with it?\\n\\nAgent: Please enter the verification code in the field provided and click on 'Verify'. Once your email address is verified, you'll be able to proceed with your purchase.\\n\\nCustomer: Okay, I entered the code, and it's verified now. Thank you for your help.\\n\\nAgent: You're welcome. Is there anything else I can assist you with?\\n\\nCustomer: No, that's all. Thank you.\\n\\nAgent: You're welcome. Have a great day!</td>\n",
       "      <td>2024-09-19 01:31:52.930978</td>\n",
       "      <td>San Francisco, CA</td>\n",
       "      <td>positive</td>\n",
       "      <td>\\n\\nThe customer was able to successfully verify their email address and complete the purchase process. The agent was patient and helpful throughout the interaction, ensuring that the customer's issue was resolved.\\n</td>\n",
       "      <td>{\"issue\": \"customer is unable to proceed with purchasing an OTG due to mobile number or email verification issue\", \"action_taken\": \"provided assistance in verifying the email address\", \"product_interest\": \"OTG\", \"customer_details\": {\"name\": \"John Doe\", \"email\": \"johndoe@email.com\"}, \"resolution\": \"email address verified and issue resolved\", \"additional_support_needed\": \"NA\"}</td>\n",
       "    </tr>\n",
       "    <tr>\n",
       "      <th>1</th>\n",
       "      <td>Agent: Thank you for calling BrownBox customer support. My name is Alex. How may I assist you today?\\n\\nCustomer: Hi Alex. I recently received an email from BrownBox requesting me to ship back the computer monitor I purchased last week. Can you please tell me why I am being asked to ship it back?\\n\\nAgent: Sure, I'll be happy to help you with that. May I have your order number, please?\\n\\nCustomer: Yes, it's 789101.\\n\\nAgent: Thank you. Let me check the details of your order. (After a few seconds) I see that the monitor you purchased has been recalled by the manufacturer due to a technical issue. For safety reasons, we are requesting our customers to return the product, and we will be providing a full refund.\\n\\nCustomer: Oh, I see. That makes sense. Can you guide me through the process of returning the monitor?\\n\\nAgent: Of course. We will be sending you a prepaid shipping label via email within the next 24 hours. Please print the label, pack the monitor securely in its original packaging, and drop it off at any UPS store. Once we receive the product, we will initiate the refund process, and you will receive your money within 5-7 business days.\\n\\nCustomer: Okay, that sounds straightforward. Thank you for explaining the process to me.\\n\\nAgent: You're welcome. Is there anything else I can assist you with?\\n\\nCustomer: No, that's all for now. Thank you for your help.\\n\\nAgent: You're welcome. If you have any other questions or concerns, please don't hesitate to reach out to us. Have a great day!\\n\\nCustomer: You too. Goodbye.\\n\\nAgent: Goodbye.</td>\n",
       "      <td>2024-09-15 02:11:45.930978</td>\n",
       "      <td>Boston, MA</td>\n",
       "      <td>negative</td>\n",
       "      <td>\\n\\nIn this call recording, the customer expresses concern about a recall notice for a computer monitor they recently purchased from BrownBox. The agent provides clear instructions on how to return the product and ensures the customer that a full refund will be issued. The interaction demonstrates effective customer service and transparency in addressing the customer's issue.</td>\n",
       "      <td>{\"issue\": \"Product recall\", \"action_taken\": \"Returning the product\", \"product_interest\": \"Computer monitor\", \"customer_details\": {\"name\": \"John Doe\", \"email\": \"john.doe@example.com\"}, \"resolution\": \"Refund initiated\", \"additional_support_needed\": \"N/A\"}</td>\n",
       "    </tr>\n",
       "  </tbody>\n",
       "</table>\n",
       "</div>"
      ],
      "text/plain": [
       "                                                                                                                                                                                                                                                                                                                                                                                                                                                                                                                                                                                                                                                                                                                                                                                                                                                                                                                                                                                                                                                                                                                                                                                                                                                                                                                                                                                                                                                                                                                                                                                                                         conversation  \\\n",
       "0                                                             Agent: Thank you for calling BrownBox Customer Support. My name is Tom. How may I assist you today?\\n\\nCustomer: Hi Tom, I'm trying to log in to my account to purchase an Oven Toaster Grill (OTG), but I'm unable to proceed as it's asking for mobile number or email verification. Can you help me with that?\\n\\nAgent: Sure, I can assist you with that. May I know your registered mobile number or email address, please?\\n\\nCustomer: My registered mobile number is +1 123-456-7890.\\n\\nAgent: Thank you. Let me check that for you. I'm sorry to inform you that we don't have this number on our records. Can you please confirm if this is the correct number?\\n\\nCustomer: Oh, I'm sorry. I might have registered with a different number. Can you please check with my email address instead? It's johndoe@email.com.\\n\\nAgent: Sure, let me check that for you. (After a few moments) I see that we have your email address on our records. We'll be sending you a verification code shortly. Please check your email and let me know once you receive it.\\n\\nCustomer: Okay, I received the code. What do I do with it?\\n\\nAgent: Please enter the verification code in the field provided and click on 'Verify'. Once your email address is verified, you'll be able to proceed with your purchase.\\n\\nCustomer: Okay, I entered the code, and it's verified now. Thank you for your help.\\n\\nAgent: You're welcome. Is there anything else I can assist you with?\\n\\nCustomer: No, that's all. Thank you.\\n\\nAgent: You're welcome. Have a great day!   \n",
       "1  Agent: Thank you for calling BrownBox customer support. My name is Alex. How may I assist you today?\\n\\nCustomer: Hi Alex. I recently received an email from BrownBox requesting me to ship back the computer monitor I purchased last week. Can you please tell me why I am being asked to ship it back?\\n\\nAgent: Sure, I'll be happy to help you with that. May I have your order number, please?\\n\\nCustomer: Yes, it's 789101.\\n\\nAgent: Thank you. Let me check the details of your order. (After a few seconds) I see that the monitor you purchased has been recalled by the manufacturer due to a technical issue. For safety reasons, we are requesting our customers to return the product, and we will be providing a full refund.\\n\\nCustomer: Oh, I see. That makes sense. Can you guide me through the process of returning the monitor?\\n\\nAgent: Of course. We will be sending you a prepaid shipping label via email within the next 24 hours. Please print the label, pack the monitor securely in its original packaging, and drop it off at any UPS store. Once we receive the product, we will initiate the refund process, and you will receive your money within 5-7 business days.\\n\\nCustomer: Okay, that sounds straightforward. Thank you for explaining the process to me.\\n\\nAgent: You're welcome. Is there anything else I can assist you with?\\n\\nCustomer: No, that's all for now. Thank you for your help.\\n\\nAgent: You're welcome. If you have any other questions or concerns, please don't hesitate to reach out to us. Have a great day!\\n\\nCustomer: You too. Goodbye.\\n\\nAgent: Goodbye.   \n",
       "\n",
       "              recording_date           location customer_sentiment  \\\n",
       "0 2024-09-19 01:31:52.930978  San Francisco, CA           positive   \n",
       "1 2024-09-15 02:11:45.930978         Boston, MA           negative   \n",
       "\n",
       "                                                                                                                                                                                                                                                                                                                                                                                 call_summary  \\\n",
       "0                                                                                                                                                                    \\n\\nThe customer was able to successfully verify their email address and complete the purchase process. The agent was patient and helpful throughout the interaction, ensuring that the customer's issue was resolved.\\n   \n",
       "1  \\n\\nIn this call recording, the customer expresses concern about a recall notice for a computer monitor they recently purchased from BrownBox. The agent provides clear instructions on how to return the product and ensures the customer that a full refund will be issued. The interaction demonstrates effective customer service and transparency in addressing the customer's issue.   \n",
       "\n",
       "                                                                                                                                                                                                                                                                                                                                                                          feature_extraction  \n",
       "0  {\"issue\": \"customer is unable to proceed with purchasing an OTG due to mobile number or email verification issue\", \"action_taken\": \"provided assistance in verifying the email address\", \"product_interest\": \"OTG\", \"customer_details\": {\"name\": \"John Doe\", \"email\": \"johndoe@email.com\"}, \"resolution\": \"email address verified and issue resolved\", \"additional_support_needed\": \"NA\"}  \n",
       "1                                                                                                                              {\"issue\": \"Product recall\", \"action_taken\": \"Returning the product\", \"product_interest\": \"Computer monitor\", \"customer_details\": {\"name\": \"John Doe\", \"email\": \"john.doe@example.com\"}, \"resolution\": \"Refund initiated\", \"additional_support_needed\": \"N/A\"}  "
      ]
     },
     "execution_count": 160,
     "metadata": {},
     "output_type": "execute_result"
    }
   ],
   "source": [
    "customer_conversation.head(2)"
   ]
  },
  {
   "cell_type": "code",
   "execution_count": 161,
   "metadata": {},
   "outputs": [],
   "source": [
    "customer_conversation.replace('', 'unknown', inplace=True)"
   ]
  },
  {
   "cell_type": "markdown",
   "metadata": {},
   "source": [
    "## Save the data as json file"
   ]
  },
  {
   "cell_type": "code",
   "execution_count": 162,
   "metadata": {},
   "outputs": [],
   "source": [
    "customer_conversation.to_json(\n",
    "    os.path.join(os.getcwd(), \"result.json\"),\n",
    "    orient=\"records\",\n",
    "    indent=4,\n",
    "    date_format=\"iso\"\n",
    ")"
   ]
  },
  {
   "cell_type": "markdown",
   "metadata": {},
   "source": [
    "## Create Metrice"
   ]
  },
  {
   "cell_type": "code",
   "execution_count": 163,
   "metadata": {},
   "outputs": [],
   "source": [
    "import plotly.express as px\n",
    "import pandas as pd\n",
    "import os\n",
    "import plotly.graph_objects as go\n",
    "import pandas as pd\n",
    "import numpy as np\n",
    "import warnings\n",
    "import json\n",
    "from wordcloud import WordCloud\n",
    "import matplotlib.pyplot as plt\n",
    "from io import BytesIO\n",
    "import base64\n",
    "\n",
    "warnings.filterwarnings(\"ignore\")"
   ]
  },
  {
   "cell_type": "markdown",
   "metadata": {},
   "source": [
    "## Customer Sentiment by Day"
   ]
  },
  {
   "cell_type": "code",
   "execution_count": 164,
   "metadata": {},
   "outputs": [
    {
     "data": {
      "application/vnd.plotly.v1+json": {
       "config": {
        "plotlyServerURL": "https://plot.ly"
       },
       "data": [
        {
         "alignmentgroup": "True",
         "hovertemplate": "Sentiment=positive<br>Date=%{x}<br>Count=%{text}<extra></extra>",
         "legendgroup": "positive",
         "marker": {
          "color": "#636efa",
          "pattern": {
           "shape": ""
          }
         },
         "name": "positive",
         "offsetgroup": "positive",
         "orientation": "v",
         "showlegend": true,
         "text": [
          21,
          29,
          33,
          32,
          29,
          42,
          35,
          37,
          22
         ],
         "textposition": "auto",
         "type": "bar",
         "x": [
          "2024-09-12",
          "2024-09-13",
          "2024-09-14",
          "2024-09-15",
          "2024-09-16",
          "2024-09-17",
          "2024-09-18",
          "2024-09-19",
          "2024-09-20"
         ],
         "xaxis": "x",
         "y": [
          21,
          29,
          33,
          32,
          29,
          42,
          35,
          37,
          22
         ],
         "yaxis": "y"
        },
        {
         "alignmentgroup": "True",
         "hovertemplate": "Sentiment=neutral<br>Date=%{x}<br>Count=%{text}<extra></extra>",
         "legendgroup": "neutral",
         "marker": {
          "color": "#EF553B",
          "pattern": {
           "shape": ""
          }
         },
         "name": "neutral",
         "offsetgroup": "neutral",
         "orientation": "v",
         "showlegend": true,
         "text": [
          1,
          1,
          2,
          2,
          7,
          1,
          1,
          4,
          2
         ],
         "textposition": "auto",
         "type": "bar",
         "x": [
          "2024-09-12",
          "2024-09-13",
          "2024-09-14",
          "2024-09-15",
          "2024-09-16",
          "2024-09-17",
          "2024-09-18",
          "2024-09-19",
          "2024-09-20"
         ],
         "xaxis": "x",
         "y": [
          1,
          1,
          2,
          2,
          7,
          1,
          1,
          4,
          2
         ],
         "yaxis": "y"
        },
        {
         "alignmentgroup": "True",
         "hovertemplate": "Sentiment=negative<br>Date=%{x}<br>Count=%{text}<extra></extra>",
         "legendgroup": "negative",
         "marker": {
          "color": "#00cc96",
          "pattern": {
           "shape": ""
          }
         },
         "name": "negative",
         "offsetgroup": "negative",
         "orientation": "v",
         "showlegend": true,
         "text": [
          21,
          56,
          49,
          42,
          46,
          56,
          59,
          56,
          27
         ],
         "textposition": "auto",
         "type": "bar",
         "x": [
          "2024-09-12",
          "2024-09-13",
          "2024-09-14",
          "2024-09-15",
          "2024-09-16",
          "2024-09-17",
          "2024-09-18",
          "2024-09-19",
          "2024-09-20"
         ],
         "xaxis": "x",
         "y": [
          21,
          56,
          49,
          42,
          46,
          56,
          59,
          56,
          27
         ],
         "yaxis": "y"
        },
        {
         "alignmentgroup": "True",
         "hovertemplate": "Sentiment=unknown<br>Date=%{x}<br>Count=%{text}<extra></extra>",
         "legendgroup": "unknown",
         "marker": {
          "color": "#ab63fa",
          "pattern": {
           "shape": ""
          }
         },
         "name": "unknown",
         "offsetgroup": "unknown",
         "orientation": "v",
         "showlegend": true,
         "text": [
          19,
          41,
          38,
          28,
          32,
          33,
          30,
          27,
          21
         ],
         "textposition": "auto",
         "type": "bar",
         "x": [
          "2024-09-12",
          "2024-09-13",
          "2024-09-14",
          "2024-09-15",
          "2024-09-16",
          "2024-09-17",
          "2024-09-18",
          "2024-09-19",
          "2024-09-20"
         ],
         "xaxis": "x",
         "y": [
          19,
          41,
          38,
          28,
          32,
          33,
          30,
          27,
          21
         ],
         "yaxis": "y"
        }
       ],
       "layout": {
        "annotations": [
         {
          "font": {
           "color": "Black",
           "size": 10
          },
          "showarrow": false,
          "text": "Total:62",
          "x": "2024-09-12",
          "y": 59,
          "yshift": 10
         },
         {
          "font": {
           "color": "Black",
           "size": 10
          },
          "showarrow": false,
          "text": "Total:127",
          "x": "2024-09-13",
          "y": 59,
          "yshift": 10
         },
         {
          "font": {
           "color": "Black",
           "size": 10
          },
          "showarrow": false,
          "text": "Total:122",
          "x": "2024-09-14",
          "y": 59,
          "yshift": 10
         },
         {
          "font": {
           "color": "Black",
           "size": 10
          },
          "showarrow": false,
          "text": "Total:104",
          "x": "2024-09-15",
          "y": 59,
          "yshift": 10
         },
         {
          "font": {
           "color": "Black",
           "size": 10
          },
          "showarrow": false,
          "text": "Total:114",
          "x": "2024-09-16",
          "y": 59,
          "yshift": 10
         },
         {
          "font": {
           "color": "Black",
           "size": 10
          },
          "showarrow": false,
          "text": "Total:132",
          "x": "2024-09-17",
          "y": 59,
          "yshift": 10
         },
         {
          "font": {
           "color": "Black",
           "size": 10
          },
          "showarrow": false,
          "text": "Total:125",
          "x": "2024-09-18",
          "y": 59,
          "yshift": 10
         },
         {
          "font": {
           "color": "Black",
           "size": 10
          },
          "showarrow": false,
          "text": "Total:124",
          "x": "2024-09-19",
          "y": 59,
          "yshift": 10
         },
         {
          "font": {
           "color": "Black",
           "size": 10
          },
          "showarrow": false,
          "text": "Total:72",
          "x": "2024-09-20",
          "y": 59,
          "yshift": 10
         }
        ],
        "barmode": "group",
        "legend": {
         "title": {
          "text": "Sentiment"
         },
         "tracegroupgap": 0
        },
        "template": {
         "data": {
          "bar": [
           {
            "error_x": {
             "color": "#2a3f5f"
            },
            "error_y": {
             "color": "#2a3f5f"
            },
            "marker": {
             "line": {
              "color": "#E5ECF6",
              "width": 0.5
             },
             "pattern": {
              "fillmode": "overlay",
              "size": 10,
              "solidity": 0.2
             }
            },
            "type": "bar"
           }
          ],
          "barpolar": [
           {
            "marker": {
             "line": {
              "color": "#E5ECF6",
              "width": 0.5
             },
             "pattern": {
              "fillmode": "overlay",
              "size": 10,
              "solidity": 0.2
             }
            },
            "type": "barpolar"
           }
          ],
          "carpet": [
           {
            "aaxis": {
             "endlinecolor": "#2a3f5f",
             "gridcolor": "white",
             "linecolor": "white",
             "minorgridcolor": "white",
             "startlinecolor": "#2a3f5f"
            },
            "baxis": {
             "endlinecolor": "#2a3f5f",
             "gridcolor": "white",
             "linecolor": "white",
             "minorgridcolor": "white",
             "startlinecolor": "#2a3f5f"
            },
            "type": "carpet"
           }
          ],
          "choropleth": [
           {
            "colorbar": {
             "outlinewidth": 0,
             "ticks": ""
            },
            "type": "choropleth"
           }
          ],
          "contour": [
           {
            "colorbar": {
             "outlinewidth": 0,
             "ticks": ""
            },
            "colorscale": [
             [
              0,
              "#0d0887"
             ],
             [
              0.1111111111111111,
              "#46039f"
             ],
             [
              0.2222222222222222,
              "#7201a8"
             ],
             [
              0.3333333333333333,
              "#9c179e"
             ],
             [
              0.4444444444444444,
              "#bd3786"
             ],
             [
              0.5555555555555556,
              "#d8576b"
             ],
             [
              0.6666666666666666,
              "#ed7953"
             ],
             [
              0.7777777777777778,
              "#fb9f3a"
             ],
             [
              0.8888888888888888,
              "#fdca26"
             ],
             [
              1,
              "#f0f921"
             ]
            ],
            "type": "contour"
           }
          ],
          "contourcarpet": [
           {
            "colorbar": {
             "outlinewidth": 0,
             "ticks": ""
            },
            "type": "contourcarpet"
           }
          ],
          "heatmap": [
           {
            "colorbar": {
             "outlinewidth": 0,
             "ticks": ""
            },
            "colorscale": [
             [
              0,
              "#0d0887"
             ],
             [
              0.1111111111111111,
              "#46039f"
             ],
             [
              0.2222222222222222,
              "#7201a8"
             ],
             [
              0.3333333333333333,
              "#9c179e"
             ],
             [
              0.4444444444444444,
              "#bd3786"
             ],
             [
              0.5555555555555556,
              "#d8576b"
             ],
             [
              0.6666666666666666,
              "#ed7953"
             ],
             [
              0.7777777777777778,
              "#fb9f3a"
             ],
             [
              0.8888888888888888,
              "#fdca26"
             ],
             [
              1,
              "#f0f921"
             ]
            ],
            "type": "heatmap"
           }
          ],
          "heatmapgl": [
           {
            "colorbar": {
             "outlinewidth": 0,
             "ticks": ""
            },
            "colorscale": [
             [
              0,
              "#0d0887"
             ],
             [
              0.1111111111111111,
              "#46039f"
             ],
             [
              0.2222222222222222,
              "#7201a8"
             ],
             [
              0.3333333333333333,
              "#9c179e"
             ],
             [
              0.4444444444444444,
              "#bd3786"
             ],
             [
              0.5555555555555556,
              "#d8576b"
             ],
             [
              0.6666666666666666,
              "#ed7953"
             ],
             [
              0.7777777777777778,
              "#fb9f3a"
             ],
             [
              0.8888888888888888,
              "#fdca26"
             ],
             [
              1,
              "#f0f921"
             ]
            ],
            "type": "heatmapgl"
           }
          ],
          "histogram": [
           {
            "marker": {
             "pattern": {
              "fillmode": "overlay",
              "size": 10,
              "solidity": 0.2
             }
            },
            "type": "histogram"
           }
          ],
          "histogram2d": [
           {
            "colorbar": {
             "outlinewidth": 0,
             "ticks": ""
            },
            "colorscale": [
             [
              0,
              "#0d0887"
             ],
             [
              0.1111111111111111,
              "#46039f"
             ],
             [
              0.2222222222222222,
              "#7201a8"
             ],
             [
              0.3333333333333333,
              "#9c179e"
             ],
             [
              0.4444444444444444,
              "#bd3786"
             ],
             [
              0.5555555555555556,
              "#d8576b"
             ],
             [
              0.6666666666666666,
              "#ed7953"
             ],
             [
              0.7777777777777778,
              "#fb9f3a"
             ],
             [
              0.8888888888888888,
              "#fdca26"
             ],
             [
              1,
              "#f0f921"
             ]
            ],
            "type": "histogram2d"
           }
          ],
          "histogram2dcontour": [
           {
            "colorbar": {
             "outlinewidth": 0,
             "ticks": ""
            },
            "colorscale": [
             [
              0,
              "#0d0887"
             ],
             [
              0.1111111111111111,
              "#46039f"
             ],
             [
              0.2222222222222222,
              "#7201a8"
             ],
             [
              0.3333333333333333,
              "#9c179e"
             ],
             [
              0.4444444444444444,
              "#bd3786"
             ],
             [
              0.5555555555555556,
              "#d8576b"
             ],
             [
              0.6666666666666666,
              "#ed7953"
             ],
             [
              0.7777777777777778,
              "#fb9f3a"
             ],
             [
              0.8888888888888888,
              "#fdca26"
             ],
             [
              1,
              "#f0f921"
             ]
            ],
            "type": "histogram2dcontour"
           }
          ],
          "mesh3d": [
           {
            "colorbar": {
             "outlinewidth": 0,
             "ticks": ""
            },
            "type": "mesh3d"
           }
          ],
          "parcoords": [
           {
            "line": {
             "colorbar": {
              "outlinewidth": 0,
              "ticks": ""
             }
            },
            "type": "parcoords"
           }
          ],
          "pie": [
           {
            "automargin": true,
            "type": "pie"
           }
          ],
          "scatter": [
           {
            "fillpattern": {
             "fillmode": "overlay",
             "size": 10,
             "solidity": 0.2
            },
            "type": "scatter"
           }
          ],
          "scatter3d": [
           {
            "line": {
             "colorbar": {
              "outlinewidth": 0,
              "ticks": ""
             }
            },
            "marker": {
             "colorbar": {
              "outlinewidth": 0,
              "ticks": ""
             }
            },
            "type": "scatter3d"
           }
          ],
          "scattercarpet": [
           {
            "marker": {
             "colorbar": {
              "outlinewidth": 0,
              "ticks": ""
             }
            },
            "type": "scattercarpet"
           }
          ],
          "scattergeo": [
           {
            "marker": {
             "colorbar": {
              "outlinewidth": 0,
              "ticks": ""
             }
            },
            "type": "scattergeo"
           }
          ],
          "scattergl": [
           {
            "marker": {
             "colorbar": {
              "outlinewidth": 0,
              "ticks": ""
             }
            },
            "type": "scattergl"
           }
          ],
          "scattermapbox": [
           {
            "marker": {
             "colorbar": {
              "outlinewidth": 0,
              "ticks": ""
             }
            },
            "type": "scattermapbox"
           }
          ],
          "scatterpolar": [
           {
            "marker": {
             "colorbar": {
              "outlinewidth": 0,
              "ticks": ""
             }
            },
            "type": "scatterpolar"
           }
          ],
          "scatterpolargl": [
           {
            "marker": {
             "colorbar": {
              "outlinewidth": 0,
              "ticks": ""
             }
            },
            "type": "scatterpolargl"
           }
          ],
          "scatterternary": [
           {
            "marker": {
             "colorbar": {
              "outlinewidth": 0,
              "ticks": ""
             }
            },
            "type": "scatterternary"
           }
          ],
          "surface": [
           {
            "colorbar": {
             "outlinewidth": 0,
             "ticks": ""
            },
            "colorscale": [
             [
              0,
              "#0d0887"
             ],
             [
              0.1111111111111111,
              "#46039f"
             ],
             [
              0.2222222222222222,
              "#7201a8"
             ],
             [
              0.3333333333333333,
              "#9c179e"
             ],
             [
              0.4444444444444444,
              "#bd3786"
             ],
             [
              0.5555555555555556,
              "#d8576b"
             ],
             [
              0.6666666666666666,
              "#ed7953"
             ],
             [
              0.7777777777777778,
              "#fb9f3a"
             ],
             [
              0.8888888888888888,
              "#fdca26"
             ],
             [
              1,
              "#f0f921"
             ]
            ],
            "type": "surface"
           }
          ],
          "table": [
           {
            "cells": {
             "fill": {
              "color": "#EBF0F8"
             },
             "line": {
              "color": "white"
             }
            },
            "header": {
             "fill": {
              "color": "#C8D4E3"
             },
             "line": {
              "color": "white"
             }
            },
            "type": "table"
           }
          ]
         },
         "layout": {
          "annotationdefaults": {
           "arrowcolor": "#2a3f5f",
           "arrowhead": 0,
           "arrowwidth": 1
          },
          "autotypenumbers": "strict",
          "coloraxis": {
           "colorbar": {
            "outlinewidth": 0,
            "ticks": ""
           }
          },
          "colorscale": {
           "diverging": [
            [
             0,
             "#8e0152"
            ],
            [
             0.1,
             "#c51b7d"
            ],
            [
             0.2,
             "#de77ae"
            ],
            [
             0.3,
             "#f1b6da"
            ],
            [
             0.4,
             "#fde0ef"
            ],
            [
             0.5,
             "#f7f7f7"
            ],
            [
             0.6,
             "#e6f5d0"
            ],
            [
             0.7,
             "#b8e186"
            ],
            [
             0.8,
             "#7fbc41"
            ],
            [
             0.9,
             "#4d9221"
            ],
            [
             1,
             "#276419"
            ]
           ],
           "sequential": [
            [
             0,
             "#0d0887"
            ],
            [
             0.1111111111111111,
             "#46039f"
            ],
            [
             0.2222222222222222,
             "#7201a8"
            ],
            [
             0.3333333333333333,
             "#9c179e"
            ],
            [
             0.4444444444444444,
             "#bd3786"
            ],
            [
             0.5555555555555556,
             "#d8576b"
            ],
            [
             0.6666666666666666,
             "#ed7953"
            ],
            [
             0.7777777777777778,
             "#fb9f3a"
            ],
            [
             0.8888888888888888,
             "#fdca26"
            ],
            [
             1,
             "#f0f921"
            ]
           ],
           "sequentialminus": [
            [
             0,
             "#0d0887"
            ],
            [
             0.1111111111111111,
             "#46039f"
            ],
            [
             0.2222222222222222,
             "#7201a8"
            ],
            [
             0.3333333333333333,
             "#9c179e"
            ],
            [
             0.4444444444444444,
             "#bd3786"
            ],
            [
             0.5555555555555556,
             "#d8576b"
            ],
            [
             0.6666666666666666,
             "#ed7953"
            ],
            [
             0.7777777777777778,
             "#fb9f3a"
            ],
            [
             0.8888888888888888,
             "#fdca26"
            ],
            [
             1,
             "#f0f921"
            ]
           ]
          },
          "colorway": [
           "#636efa",
           "#EF553B",
           "#00cc96",
           "#ab63fa",
           "#FFA15A",
           "#19d3f3",
           "#FF6692",
           "#B6E880",
           "#FF97FF",
           "#FECB52"
          ],
          "font": {
           "color": "#2a3f5f"
          },
          "geo": {
           "bgcolor": "white",
           "lakecolor": "white",
           "landcolor": "#E5ECF6",
           "showlakes": true,
           "showland": true,
           "subunitcolor": "white"
          },
          "hoverlabel": {
           "align": "left"
          },
          "hovermode": "closest",
          "mapbox": {
           "style": "light"
          },
          "paper_bgcolor": "white",
          "plot_bgcolor": "#E5ECF6",
          "polar": {
           "angularaxis": {
            "gridcolor": "white",
            "linecolor": "white",
            "ticks": ""
           },
           "bgcolor": "#E5ECF6",
           "radialaxis": {
            "gridcolor": "white",
            "linecolor": "white",
            "ticks": ""
           }
          },
          "scene": {
           "xaxis": {
            "backgroundcolor": "#E5ECF6",
            "gridcolor": "white",
            "gridwidth": 2,
            "linecolor": "white",
            "showbackground": true,
            "ticks": "",
            "zerolinecolor": "white"
           },
           "yaxis": {
            "backgroundcolor": "#E5ECF6",
            "gridcolor": "white",
            "gridwidth": 2,
            "linecolor": "white",
            "showbackground": true,
            "ticks": "",
            "zerolinecolor": "white"
           },
           "zaxis": {
            "backgroundcolor": "#E5ECF6",
            "gridcolor": "white",
            "gridwidth": 2,
            "linecolor": "white",
            "showbackground": true,
            "ticks": "",
            "zerolinecolor": "white"
           }
          },
          "shapedefaults": {
           "line": {
            "color": "#2a3f5f"
           }
          },
          "ternary": {
           "aaxis": {
            "gridcolor": "white",
            "linecolor": "white",
            "ticks": ""
           },
           "baxis": {
            "gridcolor": "white",
            "linecolor": "white",
            "ticks": ""
           },
           "bgcolor": "#E5ECF6",
           "caxis": {
            "gridcolor": "white",
            "linecolor": "white",
            "ticks": ""
           }
          },
          "title": {
           "x": 0.05
          },
          "xaxis": {
           "automargin": true,
           "gridcolor": "white",
           "linecolor": "white",
           "ticks": "",
           "title": {
            "standoff": 15
           },
           "zerolinecolor": "white",
           "zerolinewidth": 2
          },
          "yaxis": {
           "automargin": true,
           "gridcolor": "white",
           "linecolor": "white",
           "ticks": "",
           "title": {
            "standoff": 15
           },
           "zerolinecolor": "white",
           "zerolinewidth": 2
          }
         }
        },
        "title": {
         "text": "Customer Sentiment Analysis by Day"
        },
        "xaxis": {
         "anchor": "y",
         "domain": [
          0,
          1
         ],
         "title": {
          "text": "Date"
         }
        },
        "yaxis": {
         "anchor": "x",
         "domain": [
          0,
          1
         ],
         "title": {
          "text": "Count"
         }
        }
       }
      },
      "text/html": [
       "<div>                            <div id=\"d32aa68e-9459-4dac-ae1d-61d6f342d1c8\" class=\"plotly-graph-div\" style=\"height:525px; width:100%;\"></div>            <script type=\"text/javascript\">                require([\"plotly\"], function(Plotly) {                    window.PLOTLYENV=window.PLOTLYENV || {};                                    if (document.getElementById(\"d32aa68e-9459-4dac-ae1d-61d6f342d1c8\")) {                    Plotly.newPlot(                        \"d32aa68e-9459-4dac-ae1d-61d6f342d1c8\",                        [{\"alignmentgroup\":\"True\",\"hovertemplate\":\"Sentiment=positive<br>Date=%{x}<br>Count=%{text}<extra></extra>\",\"legendgroup\":\"positive\",\"marker\":{\"color\":\"#636efa\",\"pattern\":{\"shape\":\"\"}},\"name\":\"positive\",\"offsetgroup\":\"positive\",\"orientation\":\"v\",\"showlegend\":true,\"text\":[21.0,29.0,33.0,32.0,29.0,42.0,35.0,37.0,22.0],\"textposition\":\"auto\",\"x\":[\"2024-09-12\",\"2024-09-13\",\"2024-09-14\",\"2024-09-15\",\"2024-09-16\",\"2024-09-17\",\"2024-09-18\",\"2024-09-19\",\"2024-09-20\"],\"xaxis\":\"x\",\"y\":[21,29,33,32,29,42,35,37,22],\"yaxis\":\"y\",\"type\":\"bar\"},{\"alignmentgroup\":\"True\",\"hovertemplate\":\"Sentiment=neutral<br>Date=%{x}<br>Count=%{text}<extra></extra>\",\"legendgroup\":\"neutral\",\"marker\":{\"color\":\"#EF553B\",\"pattern\":{\"shape\":\"\"}},\"name\":\"neutral\",\"offsetgroup\":\"neutral\",\"orientation\":\"v\",\"showlegend\":true,\"text\":[1.0,1.0,2.0,2.0,7.0,1.0,1.0,4.0,2.0],\"textposition\":\"auto\",\"x\":[\"2024-09-12\",\"2024-09-13\",\"2024-09-14\",\"2024-09-15\",\"2024-09-16\",\"2024-09-17\",\"2024-09-18\",\"2024-09-19\",\"2024-09-20\"],\"xaxis\":\"x\",\"y\":[1,1,2,2,7,1,1,4,2],\"yaxis\":\"y\",\"type\":\"bar\"},{\"alignmentgroup\":\"True\",\"hovertemplate\":\"Sentiment=negative<br>Date=%{x}<br>Count=%{text}<extra></extra>\",\"legendgroup\":\"negative\",\"marker\":{\"color\":\"#00cc96\",\"pattern\":{\"shape\":\"\"}},\"name\":\"negative\",\"offsetgroup\":\"negative\",\"orientation\":\"v\",\"showlegend\":true,\"text\":[21.0,56.0,49.0,42.0,46.0,56.0,59.0,56.0,27.0],\"textposition\":\"auto\",\"x\":[\"2024-09-12\",\"2024-09-13\",\"2024-09-14\",\"2024-09-15\",\"2024-09-16\",\"2024-09-17\",\"2024-09-18\",\"2024-09-19\",\"2024-09-20\"],\"xaxis\":\"x\",\"y\":[21,56,49,42,46,56,59,56,27],\"yaxis\":\"y\",\"type\":\"bar\"},{\"alignmentgroup\":\"True\",\"hovertemplate\":\"Sentiment=unknown<br>Date=%{x}<br>Count=%{text}<extra></extra>\",\"legendgroup\":\"unknown\",\"marker\":{\"color\":\"#ab63fa\",\"pattern\":{\"shape\":\"\"}},\"name\":\"unknown\",\"offsetgroup\":\"unknown\",\"orientation\":\"v\",\"showlegend\":true,\"text\":[19.0,41.0,38.0,28.0,32.0,33.0,30.0,27.0,21.0],\"textposition\":\"auto\",\"x\":[\"2024-09-12\",\"2024-09-13\",\"2024-09-14\",\"2024-09-15\",\"2024-09-16\",\"2024-09-17\",\"2024-09-18\",\"2024-09-19\",\"2024-09-20\"],\"xaxis\":\"x\",\"y\":[19,41,38,28,32,33,30,27,21],\"yaxis\":\"y\",\"type\":\"bar\"}],                        {\"template\":{\"data\":{\"histogram2dcontour\":[{\"type\":\"histogram2dcontour\",\"colorbar\":{\"outlinewidth\":0,\"ticks\":\"\"},\"colorscale\":[[0.0,\"#0d0887\"],[0.1111111111111111,\"#46039f\"],[0.2222222222222222,\"#7201a8\"],[0.3333333333333333,\"#9c179e\"],[0.4444444444444444,\"#bd3786\"],[0.5555555555555556,\"#d8576b\"],[0.6666666666666666,\"#ed7953\"],[0.7777777777777778,\"#fb9f3a\"],[0.8888888888888888,\"#fdca26\"],[1.0,\"#f0f921\"]]}],\"choropleth\":[{\"type\":\"choropleth\",\"colorbar\":{\"outlinewidth\":0,\"ticks\":\"\"}}],\"histogram2d\":[{\"type\":\"histogram2d\",\"colorbar\":{\"outlinewidth\":0,\"ticks\":\"\"},\"colorscale\":[[0.0,\"#0d0887\"],[0.1111111111111111,\"#46039f\"],[0.2222222222222222,\"#7201a8\"],[0.3333333333333333,\"#9c179e\"],[0.4444444444444444,\"#bd3786\"],[0.5555555555555556,\"#d8576b\"],[0.6666666666666666,\"#ed7953\"],[0.7777777777777778,\"#fb9f3a\"],[0.8888888888888888,\"#fdca26\"],[1.0,\"#f0f921\"]]}],\"heatmap\":[{\"type\":\"heatmap\",\"colorbar\":{\"outlinewidth\":0,\"ticks\":\"\"},\"colorscale\":[[0.0,\"#0d0887\"],[0.1111111111111111,\"#46039f\"],[0.2222222222222222,\"#7201a8\"],[0.3333333333333333,\"#9c179e\"],[0.4444444444444444,\"#bd3786\"],[0.5555555555555556,\"#d8576b\"],[0.6666666666666666,\"#ed7953\"],[0.7777777777777778,\"#fb9f3a\"],[0.8888888888888888,\"#fdca26\"],[1.0,\"#f0f921\"]]}],\"heatmapgl\":[{\"type\":\"heatmapgl\",\"colorbar\":{\"outlinewidth\":0,\"ticks\":\"\"},\"colorscale\":[[0.0,\"#0d0887\"],[0.1111111111111111,\"#46039f\"],[0.2222222222222222,\"#7201a8\"],[0.3333333333333333,\"#9c179e\"],[0.4444444444444444,\"#bd3786\"],[0.5555555555555556,\"#d8576b\"],[0.6666666666666666,\"#ed7953\"],[0.7777777777777778,\"#fb9f3a\"],[0.8888888888888888,\"#fdca26\"],[1.0,\"#f0f921\"]]}],\"contourcarpet\":[{\"type\":\"contourcarpet\",\"colorbar\":{\"outlinewidth\":0,\"ticks\":\"\"}}],\"contour\":[{\"type\":\"contour\",\"colorbar\":{\"outlinewidth\":0,\"ticks\":\"\"},\"colorscale\":[[0.0,\"#0d0887\"],[0.1111111111111111,\"#46039f\"],[0.2222222222222222,\"#7201a8\"],[0.3333333333333333,\"#9c179e\"],[0.4444444444444444,\"#bd3786\"],[0.5555555555555556,\"#d8576b\"],[0.6666666666666666,\"#ed7953\"],[0.7777777777777778,\"#fb9f3a\"],[0.8888888888888888,\"#fdca26\"],[1.0,\"#f0f921\"]]}],\"surface\":[{\"type\":\"surface\",\"colorbar\":{\"outlinewidth\":0,\"ticks\":\"\"},\"colorscale\":[[0.0,\"#0d0887\"],[0.1111111111111111,\"#46039f\"],[0.2222222222222222,\"#7201a8\"],[0.3333333333333333,\"#9c179e\"],[0.4444444444444444,\"#bd3786\"],[0.5555555555555556,\"#d8576b\"],[0.6666666666666666,\"#ed7953\"],[0.7777777777777778,\"#fb9f3a\"],[0.8888888888888888,\"#fdca26\"],[1.0,\"#f0f921\"]]}],\"mesh3d\":[{\"type\":\"mesh3d\",\"colorbar\":{\"outlinewidth\":0,\"ticks\":\"\"}}],\"scatter\":[{\"fillpattern\":{\"fillmode\":\"overlay\",\"size\":10,\"solidity\":0.2},\"type\":\"scatter\"}],\"parcoords\":[{\"type\":\"parcoords\",\"line\":{\"colorbar\":{\"outlinewidth\":0,\"ticks\":\"\"}}}],\"scatterpolargl\":[{\"type\":\"scatterpolargl\",\"marker\":{\"colorbar\":{\"outlinewidth\":0,\"ticks\":\"\"}}}],\"bar\":[{\"error_x\":{\"color\":\"#2a3f5f\"},\"error_y\":{\"color\":\"#2a3f5f\"},\"marker\":{\"line\":{\"color\":\"#E5ECF6\",\"width\":0.5},\"pattern\":{\"fillmode\":\"overlay\",\"size\":10,\"solidity\":0.2}},\"type\":\"bar\"}],\"scattergeo\":[{\"type\":\"scattergeo\",\"marker\":{\"colorbar\":{\"outlinewidth\":0,\"ticks\":\"\"}}}],\"scatterpolar\":[{\"type\":\"scatterpolar\",\"marker\":{\"colorbar\":{\"outlinewidth\":0,\"ticks\":\"\"}}}],\"histogram\":[{\"marker\":{\"pattern\":{\"fillmode\":\"overlay\",\"size\":10,\"solidity\":0.2}},\"type\":\"histogram\"}],\"scattergl\":[{\"type\":\"scattergl\",\"marker\":{\"colorbar\":{\"outlinewidth\":0,\"ticks\":\"\"}}}],\"scatter3d\":[{\"type\":\"scatter3d\",\"line\":{\"colorbar\":{\"outlinewidth\":0,\"ticks\":\"\"}},\"marker\":{\"colorbar\":{\"outlinewidth\":0,\"ticks\":\"\"}}}],\"scattermapbox\":[{\"type\":\"scattermapbox\",\"marker\":{\"colorbar\":{\"outlinewidth\":0,\"ticks\":\"\"}}}],\"scatterternary\":[{\"type\":\"scatterternary\",\"marker\":{\"colorbar\":{\"outlinewidth\":0,\"ticks\":\"\"}}}],\"scattercarpet\":[{\"type\":\"scattercarpet\",\"marker\":{\"colorbar\":{\"outlinewidth\":0,\"ticks\":\"\"}}}],\"carpet\":[{\"aaxis\":{\"endlinecolor\":\"#2a3f5f\",\"gridcolor\":\"white\",\"linecolor\":\"white\",\"minorgridcolor\":\"white\",\"startlinecolor\":\"#2a3f5f\"},\"baxis\":{\"endlinecolor\":\"#2a3f5f\",\"gridcolor\":\"white\",\"linecolor\":\"white\",\"minorgridcolor\":\"white\",\"startlinecolor\":\"#2a3f5f\"},\"type\":\"carpet\"}],\"table\":[{\"cells\":{\"fill\":{\"color\":\"#EBF0F8\"},\"line\":{\"color\":\"white\"}},\"header\":{\"fill\":{\"color\":\"#C8D4E3\"},\"line\":{\"color\":\"white\"}},\"type\":\"table\"}],\"barpolar\":[{\"marker\":{\"line\":{\"color\":\"#E5ECF6\",\"width\":0.5},\"pattern\":{\"fillmode\":\"overlay\",\"size\":10,\"solidity\":0.2}},\"type\":\"barpolar\"}],\"pie\":[{\"automargin\":true,\"type\":\"pie\"}]},\"layout\":{\"autotypenumbers\":\"strict\",\"colorway\":[\"#636efa\",\"#EF553B\",\"#00cc96\",\"#ab63fa\",\"#FFA15A\",\"#19d3f3\",\"#FF6692\",\"#B6E880\",\"#FF97FF\",\"#FECB52\"],\"font\":{\"color\":\"#2a3f5f\"},\"hovermode\":\"closest\",\"hoverlabel\":{\"align\":\"left\"},\"paper_bgcolor\":\"white\",\"plot_bgcolor\":\"#E5ECF6\",\"polar\":{\"bgcolor\":\"#E5ECF6\",\"angularaxis\":{\"gridcolor\":\"white\",\"linecolor\":\"white\",\"ticks\":\"\"},\"radialaxis\":{\"gridcolor\":\"white\",\"linecolor\":\"white\",\"ticks\":\"\"}},\"ternary\":{\"bgcolor\":\"#E5ECF6\",\"aaxis\":{\"gridcolor\":\"white\",\"linecolor\":\"white\",\"ticks\":\"\"},\"baxis\":{\"gridcolor\":\"white\",\"linecolor\":\"white\",\"ticks\":\"\"},\"caxis\":{\"gridcolor\":\"white\",\"linecolor\":\"white\",\"ticks\":\"\"}},\"coloraxis\":{\"colorbar\":{\"outlinewidth\":0,\"ticks\":\"\"}},\"colorscale\":{\"sequential\":[[0.0,\"#0d0887\"],[0.1111111111111111,\"#46039f\"],[0.2222222222222222,\"#7201a8\"],[0.3333333333333333,\"#9c179e\"],[0.4444444444444444,\"#bd3786\"],[0.5555555555555556,\"#d8576b\"],[0.6666666666666666,\"#ed7953\"],[0.7777777777777778,\"#fb9f3a\"],[0.8888888888888888,\"#fdca26\"],[1.0,\"#f0f921\"]],\"sequentialminus\":[[0.0,\"#0d0887\"],[0.1111111111111111,\"#46039f\"],[0.2222222222222222,\"#7201a8\"],[0.3333333333333333,\"#9c179e\"],[0.4444444444444444,\"#bd3786\"],[0.5555555555555556,\"#d8576b\"],[0.6666666666666666,\"#ed7953\"],[0.7777777777777778,\"#fb9f3a\"],[0.8888888888888888,\"#fdca26\"],[1.0,\"#f0f921\"]],\"diverging\":[[0,\"#8e0152\"],[0.1,\"#c51b7d\"],[0.2,\"#de77ae\"],[0.3,\"#f1b6da\"],[0.4,\"#fde0ef\"],[0.5,\"#f7f7f7\"],[0.6,\"#e6f5d0\"],[0.7,\"#b8e186\"],[0.8,\"#7fbc41\"],[0.9,\"#4d9221\"],[1,\"#276419\"]]},\"xaxis\":{\"gridcolor\":\"white\",\"linecolor\":\"white\",\"ticks\":\"\",\"title\":{\"standoff\":15},\"zerolinecolor\":\"white\",\"automargin\":true,\"zerolinewidth\":2},\"yaxis\":{\"gridcolor\":\"white\",\"linecolor\":\"white\",\"ticks\":\"\",\"title\":{\"standoff\":15},\"zerolinecolor\":\"white\",\"automargin\":true,\"zerolinewidth\":2},\"scene\":{\"xaxis\":{\"backgroundcolor\":\"#E5ECF6\",\"gridcolor\":\"white\",\"linecolor\":\"white\",\"showbackground\":true,\"ticks\":\"\",\"zerolinecolor\":\"white\",\"gridwidth\":2},\"yaxis\":{\"backgroundcolor\":\"#E5ECF6\",\"gridcolor\":\"white\",\"linecolor\":\"white\",\"showbackground\":true,\"ticks\":\"\",\"zerolinecolor\":\"white\",\"gridwidth\":2},\"zaxis\":{\"backgroundcolor\":\"#E5ECF6\",\"gridcolor\":\"white\",\"linecolor\":\"white\",\"showbackground\":true,\"ticks\":\"\",\"zerolinecolor\":\"white\",\"gridwidth\":2}},\"shapedefaults\":{\"line\":{\"color\":\"#2a3f5f\"}},\"annotationdefaults\":{\"arrowcolor\":\"#2a3f5f\",\"arrowhead\":0,\"arrowwidth\":1},\"geo\":{\"bgcolor\":\"white\",\"landcolor\":\"#E5ECF6\",\"subunitcolor\":\"white\",\"showland\":true,\"showlakes\":true,\"lakecolor\":\"white\"},\"title\":{\"x\":0.05},\"mapbox\":{\"style\":\"light\"}}},\"xaxis\":{\"anchor\":\"y\",\"domain\":[0.0,1.0],\"title\":{\"text\":\"Date\"}},\"yaxis\":{\"anchor\":\"x\",\"domain\":[0.0,1.0],\"title\":{\"text\":\"Count\"}},\"legend\":{\"title\":{\"text\":\"Sentiment\"},\"tracegroupgap\":0},\"title\":{\"text\":\"Customer Sentiment Analysis by Day\"},\"barmode\":\"group\",\"annotations\":[{\"font\":{\"color\":\"Black\",\"size\":10},\"showarrow\":false,\"text\":\"Total:62\",\"x\":\"2024-09-12\",\"y\":59,\"yshift\":10},{\"font\":{\"color\":\"Black\",\"size\":10},\"showarrow\":false,\"text\":\"Total:127\",\"x\":\"2024-09-13\",\"y\":59,\"yshift\":10},{\"font\":{\"color\":\"Black\",\"size\":10},\"showarrow\":false,\"text\":\"Total:122\",\"x\":\"2024-09-14\",\"y\":59,\"yshift\":10},{\"font\":{\"color\":\"Black\",\"size\":10},\"showarrow\":false,\"text\":\"Total:104\",\"x\":\"2024-09-15\",\"y\":59,\"yshift\":10},{\"font\":{\"color\":\"Black\",\"size\":10},\"showarrow\":false,\"text\":\"Total:114\",\"x\":\"2024-09-16\",\"y\":59,\"yshift\":10},{\"font\":{\"color\":\"Black\",\"size\":10},\"showarrow\":false,\"text\":\"Total:132\",\"x\":\"2024-09-17\",\"y\":59,\"yshift\":10},{\"font\":{\"color\":\"Black\",\"size\":10},\"showarrow\":false,\"text\":\"Total:125\",\"x\":\"2024-09-18\",\"y\":59,\"yshift\":10},{\"font\":{\"color\":\"Black\",\"size\":10},\"showarrow\":false,\"text\":\"Total:124\",\"x\":\"2024-09-19\",\"y\":59,\"yshift\":10},{\"font\":{\"color\":\"Black\",\"size\":10},\"showarrow\":false,\"text\":\"Total:72\",\"x\":\"2024-09-20\",\"y\":59,\"yshift\":10}]},                        {\"responsive\": true}                    ).then(function(){\n",
       "                            \n",
       "var gd = document.getElementById('d32aa68e-9459-4dac-ae1d-61d6f342d1c8');\n",
       "var x = new MutationObserver(function (mutations, observer) {{\n",
       "        var display = window.getComputedStyle(gd).display;\n",
       "        if (!display || display === 'none') {{\n",
       "            console.log([gd, 'removed!']);\n",
       "            Plotly.purge(gd);\n",
       "            observer.disconnect();\n",
       "        }}\n",
       "}});\n",
       "\n",
       "// Listen for the removal of the full notebook cells\n",
       "var notebookContainer = gd.closest('#notebook-container');\n",
       "if (notebookContainer) {{\n",
       "    x.observe(notebookContainer, {childList: true});\n",
       "}}\n",
       "\n",
       "// Listen for the clearing of the current output cell\n",
       "var outputEl = gd.closest('.output');\n",
       "if (outputEl) {{\n",
       "    x.observe(outputEl, {childList: true});\n",
       "}}\n",
       "\n",
       "                        })                };                });            </script>        </div>"
      ]
     },
     "metadata": {},
     "output_type": "display_data"
    }
   ],
   "source": [
    "df = pd.read_json(os.path.join(os.getcwd(), \"result.json\"))\n",
    "df[\"recording_date\"] = pd.to_datetime(df[\"recording_date\"]).dt.date\n",
    "\n",
    "df_grouped = (\n",
    "    df.groupby([\"recording_date\", \"customer_sentiment\"])\n",
    "    .size()\n",
    "    .unstack(fill_value=0)\n",
    "    .reset_index()\n",
    ")\n",
    "df_grouped[\"total_calls\"] = df_grouped[\n",
    "    [\"positive\", \"neutral\", \"negative\", \"unknown\"]\n",
    "].sum(axis=1)\n",
    "\n",
    "df_melted = df_grouped.melt(\n",
    "    id_vars=[\"recording_date\", \"total_calls\"],\n",
    "    value_vars=[\"positive\", \"neutral\", \"negative\", \"unknown\"],\n",
    "    var_name=\"Sentiment\",\n",
    "    value_name=\"Count\",\n",
    ")\n",
    "\n",
    "fig = px.bar(\n",
    "    df_melted,\n",
    "    x=\"recording_date\",\n",
    "    y=\"Count\",\n",
    "    color=\"Sentiment\",\n",
    "    barmode=\"group\",\n",
    "    title=\"Customer Sentiment Analysis by Day\",\n",
    "    labels={\n",
    "        \"recording_date\": \"Date\",\n",
    "    },\n",
    "    text=\"Count\",\n",
    "    range_color={\"black\", \"blue\", \"yellow\"},\n",
    ")\n",
    "\n",
    "for date, total in zip(df_grouped[\"recording_date\"], df_grouped[\"total_calls\"]):\n",
    "    fig.add_annotation(\n",
    "        x=date,\n",
    "        y=max(df_melted[\"Count\"]),\n",
    "        text=f\"Total:{total}\",\n",
    "        showarrow=False,\n",
    "        yshift=10,\n",
    "        font=dict(size=10, color=\"Black\"),\n",
    "    )\n",
    "\n",
    "fig.show()"
   ]
  },
  {
   "attachments": {},
   "cell_type": "markdown",
   "metadata": {},
   "source": [
    "## Top 10 User Interest (Categories)"
   ]
  },
  {
   "cell_type": "code",
   "execution_count": 165,
   "metadata": {},
   "outputs": [],
   "source": [
    "df = pd.read_json(os.path.join(os.getcwd(), \"result.json\"))\n",
    "\n",
    "def extract_categories(json_str):\n",
    "    try:\n",
    "        parsed_json = json.loads(json_str)\n",
    "        return str(parsed_json.get(\"product_interest\", None))\n",
    "    except (TypeError, json.JSONDecodeError):\n",
    "        return \"Nothing\"\n",
    "\n",
    "\n",
    "df[\"categories\"] = df[\"feature_extraction\"].apply(extract_categories)"
   ]
  },
  {
   "cell_type": "code",
   "execution_count": 166,
   "metadata": {},
   "outputs": [
    {
     "data": {
      "application/vnd.plotly.v1+json": {
       "config": {
        "plotlyServerURL": "https://plot.ly"
       },
       "data": [
        {
         "type": "bar",
         "x": [
          "water purifier",
          "BP monitor",
          "Dishwasher",
          "Induction Cooktop",
          "Pendrive",
          "Shorts",
          "Wet Grinder",
          "Headphones",
          "DSLR camera",
          "Inverter"
         ],
         "y": [
          15,
          15,
          15,
          14,
          13,
          13,
          11,
          11,
          9,
          9
         ]
        }
       ],
       "layout": {
        "template": {
         "data": {
          "bar": [
           {
            "error_x": {
             "color": "#2a3f5f"
            },
            "error_y": {
             "color": "#2a3f5f"
            },
            "marker": {
             "line": {
              "color": "#E5ECF6",
              "width": 0.5
             },
             "pattern": {
              "fillmode": "overlay",
              "size": 10,
              "solidity": 0.2
             }
            },
            "type": "bar"
           }
          ],
          "barpolar": [
           {
            "marker": {
             "line": {
              "color": "#E5ECF6",
              "width": 0.5
             },
             "pattern": {
              "fillmode": "overlay",
              "size": 10,
              "solidity": 0.2
             }
            },
            "type": "barpolar"
           }
          ],
          "carpet": [
           {
            "aaxis": {
             "endlinecolor": "#2a3f5f",
             "gridcolor": "white",
             "linecolor": "white",
             "minorgridcolor": "white",
             "startlinecolor": "#2a3f5f"
            },
            "baxis": {
             "endlinecolor": "#2a3f5f",
             "gridcolor": "white",
             "linecolor": "white",
             "minorgridcolor": "white",
             "startlinecolor": "#2a3f5f"
            },
            "type": "carpet"
           }
          ],
          "choropleth": [
           {
            "colorbar": {
             "outlinewidth": 0,
             "ticks": ""
            },
            "type": "choropleth"
           }
          ],
          "contour": [
           {
            "colorbar": {
             "outlinewidth": 0,
             "ticks": ""
            },
            "colorscale": [
             [
              0,
              "#0d0887"
             ],
             [
              0.1111111111111111,
              "#46039f"
             ],
             [
              0.2222222222222222,
              "#7201a8"
             ],
             [
              0.3333333333333333,
              "#9c179e"
             ],
             [
              0.4444444444444444,
              "#bd3786"
             ],
             [
              0.5555555555555556,
              "#d8576b"
             ],
             [
              0.6666666666666666,
              "#ed7953"
             ],
             [
              0.7777777777777778,
              "#fb9f3a"
             ],
             [
              0.8888888888888888,
              "#fdca26"
             ],
             [
              1,
              "#f0f921"
             ]
            ],
            "type": "contour"
           }
          ],
          "contourcarpet": [
           {
            "colorbar": {
             "outlinewidth": 0,
             "ticks": ""
            },
            "type": "contourcarpet"
           }
          ],
          "heatmap": [
           {
            "colorbar": {
             "outlinewidth": 0,
             "ticks": ""
            },
            "colorscale": [
             [
              0,
              "#0d0887"
             ],
             [
              0.1111111111111111,
              "#46039f"
             ],
             [
              0.2222222222222222,
              "#7201a8"
             ],
             [
              0.3333333333333333,
              "#9c179e"
             ],
             [
              0.4444444444444444,
              "#bd3786"
             ],
             [
              0.5555555555555556,
              "#d8576b"
             ],
             [
              0.6666666666666666,
              "#ed7953"
             ],
             [
              0.7777777777777778,
              "#fb9f3a"
             ],
             [
              0.8888888888888888,
              "#fdca26"
             ],
             [
              1,
              "#f0f921"
             ]
            ],
            "type": "heatmap"
           }
          ],
          "heatmapgl": [
           {
            "colorbar": {
             "outlinewidth": 0,
             "ticks": ""
            },
            "colorscale": [
             [
              0,
              "#0d0887"
             ],
             [
              0.1111111111111111,
              "#46039f"
             ],
             [
              0.2222222222222222,
              "#7201a8"
             ],
             [
              0.3333333333333333,
              "#9c179e"
             ],
             [
              0.4444444444444444,
              "#bd3786"
             ],
             [
              0.5555555555555556,
              "#d8576b"
             ],
             [
              0.6666666666666666,
              "#ed7953"
             ],
             [
              0.7777777777777778,
              "#fb9f3a"
             ],
             [
              0.8888888888888888,
              "#fdca26"
             ],
             [
              1,
              "#f0f921"
             ]
            ],
            "type": "heatmapgl"
           }
          ],
          "histogram": [
           {
            "marker": {
             "pattern": {
              "fillmode": "overlay",
              "size": 10,
              "solidity": 0.2
             }
            },
            "type": "histogram"
           }
          ],
          "histogram2d": [
           {
            "colorbar": {
             "outlinewidth": 0,
             "ticks": ""
            },
            "colorscale": [
             [
              0,
              "#0d0887"
             ],
             [
              0.1111111111111111,
              "#46039f"
             ],
             [
              0.2222222222222222,
              "#7201a8"
             ],
             [
              0.3333333333333333,
              "#9c179e"
             ],
             [
              0.4444444444444444,
              "#bd3786"
             ],
             [
              0.5555555555555556,
              "#d8576b"
             ],
             [
              0.6666666666666666,
              "#ed7953"
             ],
             [
              0.7777777777777778,
              "#fb9f3a"
             ],
             [
              0.8888888888888888,
              "#fdca26"
             ],
             [
              1,
              "#f0f921"
             ]
            ],
            "type": "histogram2d"
           }
          ],
          "histogram2dcontour": [
           {
            "colorbar": {
             "outlinewidth": 0,
             "ticks": ""
            },
            "colorscale": [
             [
              0,
              "#0d0887"
             ],
             [
              0.1111111111111111,
              "#46039f"
             ],
             [
              0.2222222222222222,
              "#7201a8"
             ],
             [
              0.3333333333333333,
              "#9c179e"
             ],
             [
              0.4444444444444444,
              "#bd3786"
             ],
             [
              0.5555555555555556,
              "#d8576b"
             ],
             [
              0.6666666666666666,
              "#ed7953"
             ],
             [
              0.7777777777777778,
              "#fb9f3a"
             ],
             [
              0.8888888888888888,
              "#fdca26"
             ],
             [
              1,
              "#f0f921"
             ]
            ],
            "type": "histogram2dcontour"
           }
          ],
          "mesh3d": [
           {
            "colorbar": {
             "outlinewidth": 0,
             "ticks": ""
            },
            "type": "mesh3d"
           }
          ],
          "parcoords": [
           {
            "line": {
             "colorbar": {
              "outlinewidth": 0,
              "ticks": ""
             }
            },
            "type": "parcoords"
           }
          ],
          "pie": [
           {
            "automargin": true,
            "type": "pie"
           }
          ],
          "scatter": [
           {
            "fillpattern": {
             "fillmode": "overlay",
             "size": 10,
             "solidity": 0.2
            },
            "type": "scatter"
           }
          ],
          "scatter3d": [
           {
            "line": {
             "colorbar": {
              "outlinewidth": 0,
              "ticks": ""
             }
            },
            "marker": {
             "colorbar": {
              "outlinewidth": 0,
              "ticks": ""
             }
            },
            "type": "scatter3d"
           }
          ],
          "scattercarpet": [
           {
            "marker": {
             "colorbar": {
              "outlinewidth": 0,
              "ticks": ""
             }
            },
            "type": "scattercarpet"
           }
          ],
          "scattergeo": [
           {
            "marker": {
             "colorbar": {
              "outlinewidth": 0,
              "ticks": ""
             }
            },
            "type": "scattergeo"
           }
          ],
          "scattergl": [
           {
            "marker": {
             "colorbar": {
              "outlinewidth": 0,
              "ticks": ""
             }
            },
            "type": "scattergl"
           }
          ],
          "scattermapbox": [
           {
            "marker": {
             "colorbar": {
              "outlinewidth": 0,
              "ticks": ""
             }
            },
            "type": "scattermapbox"
           }
          ],
          "scatterpolar": [
           {
            "marker": {
             "colorbar": {
              "outlinewidth": 0,
              "ticks": ""
             }
            },
            "type": "scatterpolar"
           }
          ],
          "scatterpolargl": [
           {
            "marker": {
             "colorbar": {
              "outlinewidth": 0,
              "ticks": ""
             }
            },
            "type": "scatterpolargl"
           }
          ],
          "scatterternary": [
           {
            "marker": {
             "colorbar": {
              "outlinewidth": 0,
              "ticks": ""
             }
            },
            "type": "scatterternary"
           }
          ],
          "surface": [
           {
            "colorbar": {
             "outlinewidth": 0,
             "ticks": ""
            },
            "colorscale": [
             [
              0,
              "#0d0887"
             ],
             [
              0.1111111111111111,
              "#46039f"
             ],
             [
              0.2222222222222222,
              "#7201a8"
             ],
             [
              0.3333333333333333,
              "#9c179e"
             ],
             [
              0.4444444444444444,
              "#bd3786"
             ],
             [
              0.5555555555555556,
              "#d8576b"
             ],
             [
              0.6666666666666666,
              "#ed7953"
             ],
             [
              0.7777777777777778,
              "#fb9f3a"
             ],
             [
              0.8888888888888888,
              "#fdca26"
             ],
             [
              1,
              "#f0f921"
             ]
            ],
            "type": "surface"
           }
          ],
          "table": [
           {
            "cells": {
             "fill": {
              "color": "#EBF0F8"
             },
             "line": {
              "color": "white"
             }
            },
            "header": {
             "fill": {
              "color": "#C8D4E3"
             },
             "line": {
              "color": "white"
             }
            },
            "type": "table"
           }
          ]
         },
         "layout": {
          "annotationdefaults": {
           "arrowcolor": "#2a3f5f",
           "arrowhead": 0,
           "arrowwidth": 1
          },
          "autotypenumbers": "strict",
          "coloraxis": {
           "colorbar": {
            "outlinewidth": 0,
            "ticks": ""
           }
          },
          "colorscale": {
           "diverging": [
            [
             0,
             "#8e0152"
            ],
            [
             0.1,
             "#c51b7d"
            ],
            [
             0.2,
             "#de77ae"
            ],
            [
             0.3,
             "#f1b6da"
            ],
            [
             0.4,
             "#fde0ef"
            ],
            [
             0.5,
             "#f7f7f7"
            ],
            [
             0.6,
             "#e6f5d0"
            ],
            [
             0.7,
             "#b8e186"
            ],
            [
             0.8,
             "#7fbc41"
            ],
            [
             0.9,
             "#4d9221"
            ],
            [
             1,
             "#276419"
            ]
           ],
           "sequential": [
            [
             0,
             "#0d0887"
            ],
            [
             0.1111111111111111,
             "#46039f"
            ],
            [
             0.2222222222222222,
             "#7201a8"
            ],
            [
             0.3333333333333333,
             "#9c179e"
            ],
            [
             0.4444444444444444,
             "#bd3786"
            ],
            [
             0.5555555555555556,
             "#d8576b"
            ],
            [
             0.6666666666666666,
             "#ed7953"
            ],
            [
             0.7777777777777778,
             "#fb9f3a"
            ],
            [
             0.8888888888888888,
             "#fdca26"
            ],
            [
             1,
             "#f0f921"
            ]
           ],
           "sequentialminus": [
            [
             0,
             "#0d0887"
            ],
            [
             0.1111111111111111,
             "#46039f"
            ],
            [
             0.2222222222222222,
             "#7201a8"
            ],
            [
             0.3333333333333333,
             "#9c179e"
            ],
            [
             0.4444444444444444,
             "#bd3786"
            ],
            [
             0.5555555555555556,
             "#d8576b"
            ],
            [
             0.6666666666666666,
             "#ed7953"
            ],
            [
             0.7777777777777778,
             "#fb9f3a"
            ],
            [
             0.8888888888888888,
             "#fdca26"
            ],
            [
             1,
             "#f0f921"
            ]
           ]
          },
          "colorway": [
           "#636efa",
           "#EF553B",
           "#00cc96",
           "#ab63fa",
           "#FFA15A",
           "#19d3f3",
           "#FF6692",
           "#B6E880",
           "#FF97FF",
           "#FECB52"
          ],
          "font": {
           "color": "#2a3f5f"
          },
          "geo": {
           "bgcolor": "white",
           "lakecolor": "white",
           "landcolor": "#E5ECF6",
           "showlakes": true,
           "showland": true,
           "subunitcolor": "white"
          },
          "hoverlabel": {
           "align": "left"
          },
          "hovermode": "closest",
          "mapbox": {
           "style": "light"
          },
          "paper_bgcolor": "white",
          "plot_bgcolor": "#E5ECF6",
          "polar": {
           "angularaxis": {
            "gridcolor": "white",
            "linecolor": "white",
            "ticks": ""
           },
           "bgcolor": "#E5ECF6",
           "radialaxis": {
            "gridcolor": "white",
            "linecolor": "white",
            "ticks": ""
           }
          },
          "scene": {
           "xaxis": {
            "backgroundcolor": "#E5ECF6",
            "gridcolor": "white",
            "gridwidth": 2,
            "linecolor": "white",
            "showbackground": true,
            "ticks": "",
            "zerolinecolor": "white"
           },
           "yaxis": {
            "backgroundcolor": "#E5ECF6",
            "gridcolor": "white",
            "gridwidth": 2,
            "linecolor": "white",
            "showbackground": true,
            "ticks": "",
            "zerolinecolor": "white"
           },
           "zaxis": {
            "backgroundcolor": "#E5ECF6",
            "gridcolor": "white",
            "gridwidth": 2,
            "linecolor": "white",
            "showbackground": true,
            "ticks": "",
            "zerolinecolor": "white"
           }
          },
          "shapedefaults": {
           "line": {
            "color": "#2a3f5f"
           }
          },
          "ternary": {
           "aaxis": {
            "gridcolor": "white",
            "linecolor": "white",
            "ticks": ""
           },
           "baxis": {
            "gridcolor": "white",
            "linecolor": "white",
            "ticks": ""
           },
           "bgcolor": "#E5ECF6",
           "caxis": {
            "gridcolor": "white",
            "linecolor": "white",
            "ticks": ""
           }
          },
          "title": {
           "x": 0.05
          },
          "xaxis": {
           "automargin": true,
           "gridcolor": "white",
           "linecolor": "white",
           "ticks": "",
           "title": {
            "standoff": 15
           },
           "zerolinecolor": "white",
           "zerolinewidth": 2
          },
          "yaxis": {
           "automargin": true,
           "gridcolor": "white",
           "linecolor": "white",
           "ticks": "",
           "title": {
            "standoff": 15
           },
           "zerolinecolor": "white",
           "zerolinewidth": 2
          }
         }
        },
        "title": {
         "text": "Total Calls Based on Top 10 Categories"
        },
        "xaxis": {
         "tickangle": -45,
         "title": {
          "text": "Categories"
         }
        },
        "yaxis": {
         "title": {
          "text": "Number of Calls"
         }
        }
       }
      },
      "text/html": [
       "<div>                            <div id=\"b1688fb8-4bcc-4bea-836d-cd36d1f01d97\" class=\"plotly-graph-div\" style=\"height:525px; width:100%;\"></div>            <script type=\"text/javascript\">                require([\"plotly\"], function(Plotly) {                    window.PLOTLYENV=window.PLOTLYENV || {};                                    if (document.getElementById(\"b1688fb8-4bcc-4bea-836d-cd36d1f01d97\")) {                    Plotly.newPlot(                        \"b1688fb8-4bcc-4bea-836d-cd36d1f01d97\",                        [{\"x\":[\"water purifier\",\"BP monitor\",\"Dishwasher\",\"Induction Cooktop\",\"Pendrive\",\"Shorts\",\"Wet Grinder\",\"Headphones\",\"DSLR camera\",\"Inverter\"],\"y\":[15,15,15,14,13,13,11,11,9,9],\"type\":\"bar\"}],                        {\"template\":{\"data\":{\"histogram2dcontour\":[{\"type\":\"histogram2dcontour\",\"colorbar\":{\"outlinewidth\":0,\"ticks\":\"\"},\"colorscale\":[[0.0,\"#0d0887\"],[0.1111111111111111,\"#46039f\"],[0.2222222222222222,\"#7201a8\"],[0.3333333333333333,\"#9c179e\"],[0.4444444444444444,\"#bd3786\"],[0.5555555555555556,\"#d8576b\"],[0.6666666666666666,\"#ed7953\"],[0.7777777777777778,\"#fb9f3a\"],[0.8888888888888888,\"#fdca26\"],[1.0,\"#f0f921\"]]}],\"choropleth\":[{\"type\":\"choropleth\",\"colorbar\":{\"outlinewidth\":0,\"ticks\":\"\"}}],\"histogram2d\":[{\"type\":\"histogram2d\",\"colorbar\":{\"outlinewidth\":0,\"ticks\":\"\"},\"colorscale\":[[0.0,\"#0d0887\"],[0.1111111111111111,\"#46039f\"],[0.2222222222222222,\"#7201a8\"],[0.3333333333333333,\"#9c179e\"],[0.4444444444444444,\"#bd3786\"],[0.5555555555555556,\"#d8576b\"],[0.6666666666666666,\"#ed7953\"],[0.7777777777777778,\"#fb9f3a\"],[0.8888888888888888,\"#fdca26\"],[1.0,\"#f0f921\"]]}],\"heatmap\":[{\"type\":\"heatmap\",\"colorbar\":{\"outlinewidth\":0,\"ticks\":\"\"},\"colorscale\":[[0.0,\"#0d0887\"],[0.1111111111111111,\"#46039f\"],[0.2222222222222222,\"#7201a8\"],[0.3333333333333333,\"#9c179e\"],[0.4444444444444444,\"#bd3786\"],[0.5555555555555556,\"#d8576b\"],[0.6666666666666666,\"#ed7953\"],[0.7777777777777778,\"#fb9f3a\"],[0.8888888888888888,\"#fdca26\"],[1.0,\"#f0f921\"]]}],\"heatmapgl\":[{\"type\":\"heatmapgl\",\"colorbar\":{\"outlinewidth\":0,\"ticks\":\"\"},\"colorscale\":[[0.0,\"#0d0887\"],[0.1111111111111111,\"#46039f\"],[0.2222222222222222,\"#7201a8\"],[0.3333333333333333,\"#9c179e\"],[0.4444444444444444,\"#bd3786\"],[0.5555555555555556,\"#d8576b\"],[0.6666666666666666,\"#ed7953\"],[0.7777777777777778,\"#fb9f3a\"],[0.8888888888888888,\"#fdca26\"],[1.0,\"#f0f921\"]]}],\"contourcarpet\":[{\"type\":\"contourcarpet\",\"colorbar\":{\"outlinewidth\":0,\"ticks\":\"\"}}],\"contour\":[{\"type\":\"contour\",\"colorbar\":{\"outlinewidth\":0,\"ticks\":\"\"},\"colorscale\":[[0.0,\"#0d0887\"],[0.1111111111111111,\"#46039f\"],[0.2222222222222222,\"#7201a8\"],[0.3333333333333333,\"#9c179e\"],[0.4444444444444444,\"#bd3786\"],[0.5555555555555556,\"#d8576b\"],[0.6666666666666666,\"#ed7953\"],[0.7777777777777778,\"#fb9f3a\"],[0.8888888888888888,\"#fdca26\"],[1.0,\"#f0f921\"]]}],\"surface\":[{\"type\":\"surface\",\"colorbar\":{\"outlinewidth\":0,\"ticks\":\"\"},\"colorscale\":[[0.0,\"#0d0887\"],[0.1111111111111111,\"#46039f\"],[0.2222222222222222,\"#7201a8\"],[0.3333333333333333,\"#9c179e\"],[0.4444444444444444,\"#bd3786\"],[0.5555555555555556,\"#d8576b\"],[0.6666666666666666,\"#ed7953\"],[0.7777777777777778,\"#fb9f3a\"],[0.8888888888888888,\"#fdca26\"],[1.0,\"#f0f921\"]]}],\"mesh3d\":[{\"type\":\"mesh3d\",\"colorbar\":{\"outlinewidth\":0,\"ticks\":\"\"}}],\"scatter\":[{\"fillpattern\":{\"fillmode\":\"overlay\",\"size\":10,\"solidity\":0.2},\"type\":\"scatter\"}],\"parcoords\":[{\"type\":\"parcoords\",\"line\":{\"colorbar\":{\"outlinewidth\":0,\"ticks\":\"\"}}}],\"scatterpolargl\":[{\"type\":\"scatterpolargl\",\"marker\":{\"colorbar\":{\"outlinewidth\":0,\"ticks\":\"\"}}}],\"bar\":[{\"error_x\":{\"color\":\"#2a3f5f\"},\"error_y\":{\"color\":\"#2a3f5f\"},\"marker\":{\"line\":{\"color\":\"#E5ECF6\",\"width\":0.5},\"pattern\":{\"fillmode\":\"overlay\",\"size\":10,\"solidity\":0.2}},\"type\":\"bar\"}],\"scattergeo\":[{\"type\":\"scattergeo\",\"marker\":{\"colorbar\":{\"outlinewidth\":0,\"ticks\":\"\"}}}],\"scatterpolar\":[{\"type\":\"scatterpolar\",\"marker\":{\"colorbar\":{\"outlinewidth\":0,\"ticks\":\"\"}}}],\"histogram\":[{\"marker\":{\"pattern\":{\"fillmode\":\"overlay\",\"size\":10,\"solidity\":0.2}},\"type\":\"histogram\"}],\"scattergl\":[{\"type\":\"scattergl\",\"marker\":{\"colorbar\":{\"outlinewidth\":0,\"ticks\":\"\"}}}],\"scatter3d\":[{\"type\":\"scatter3d\",\"line\":{\"colorbar\":{\"outlinewidth\":0,\"ticks\":\"\"}},\"marker\":{\"colorbar\":{\"outlinewidth\":0,\"ticks\":\"\"}}}],\"scattermapbox\":[{\"type\":\"scattermapbox\",\"marker\":{\"colorbar\":{\"outlinewidth\":0,\"ticks\":\"\"}}}],\"scatterternary\":[{\"type\":\"scatterternary\",\"marker\":{\"colorbar\":{\"outlinewidth\":0,\"ticks\":\"\"}}}],\"scattercarpet\":[{\"type\":\"scattercarpet\",\"marker\":{\"colorbar\":{\"outlinewidth\":0,\"ticks\":\"\"}}}],\"carpet\":[{\"aaxis\":{\"endlinecolor\":\"#2a3f5f\",\"gridcolor\":\"white\",\"linecolor\":\"white\",\"minorgridcolor\":\"white\",\"startlinecolor\":\"#2a3f5f\"},\"baxis\":{\"endlinecolor\":\"#2a3f5f\",\"gridcolor\":\"white\",\"linecolor\":\"white\",\"minorgridcolor\":\"white\",\"startlinecolor\":\"#2a3f5f\"},\"type\":\"carpet\"}],\"table\":[{\"cells\":{\"fill\":{\"color\":\"#EBF0F8\"},\"line\":{\"color\":\"white\"}},\"header\":{\"fill\":{\"color\":\"#C8D4E3\"},\"line\":{\"color\":\"white\"}},\"type\":\"table\"}],\"barpolar\":[{\"marker\":{\"line\":{\"color\":\"#E5ECF6\",\"width\":0.5},\"pattern\":{\"fillmode\":\"overlay\",\"size\":10,\"solidity\":0.2}},\"type\":\"barpolar\"}],\"pie\":[{\"automargin\":true,\"type\":\"pie\"}]},\"layout\":{\"autotypenumbers\":\"strict\",\"colorway\":[\"#636efa\",\"#EF553B\",\"#00cc96\",\"#ab63fa\",\"#FFA15A\",\"#19d3f3\",\"#FF6692\",\"#B6E880\",\"#FF97FF\",\"#FECB52\"],\"font\":{\"color\":\"#2a3f5f\"},\"hovermode\":\"closest\",\"hoverlabel\":{\"align\":\"left\"},\"paper_bgcolor\":\"white\",\"plot_bgcolor\":\"#E5ECF6\",\"polar\":{\"bgcolor\":\"#E5ECF6\",\"angularaxis\":{\"gridcolor\":\"white\",\"linecolor\":\"white\",\"ticks\":\"\"},\"radialaxis\":{\"gridcolor\":\"white\",\"linecolor\":\"white\",\"ticks\":\"\"}},\"ternary\":{\"bgcolor\":\"#E5ECF6\",\"aaxis\":{\"gridcolor\":\"white\",\"linecolor\":\"white\",\"ticks\":\"\"},\"baxis\":{\"gridcolor\":\"white\",\"linecolor\":\"white\",\"ticks\":\"\"},\"caxis\":{\"gridcolor\":\"white\",\"linecolor\":\"white\",\"ticks\":\"\"}},\"coloraxis\":{\"colorbar\":{\"outlinewidth\":0,\"ticks\":\"\"}},\"colorscale\":{\"sequential\":[[0.0,\"#0d0887\"],[0.1111111111111111,\"#46039f\"],[0.2222222222222222,\"#7201a8\"],[0.3333333333333333,\"#9c179e\"],[0.4444444444444444,\"#bd3786\"],[0.5555555555555556,\"#d8576b\"],[0.6666666666666666,\"#ed7953\"],[0.7777777777777778,\"#fb9f3a\"],[0.8888888888888888,\"#fdca26\"],[1.0,\"#f0f921\"]],\"sequentialminus\":[[0.0,\"#0d0887\"],[0.1111111111111111,\"#46039f\"],[0.2222222222222222,\"#7201a8\"],[0.3333333333333333,\"#9c179e\"],[0.4444444444444444,\"#bd3786\"],[0.5555555555555556,\"#d8576b\"],[0.6666666666666666,\"#ed7953\"],[0.7777777777777778,\"#fb9f3a\"],[0.8888888888888888,\"#fdca26\"],[1.0,\"#f0f921\"]],\"diverging\":[[0,\"#8e0152\"],[0.1,\"#c51b7d\"],[0.2,\"#de77ae\"],[0.3,\"#f1b6da\"],[0.4,\"#fde0ef\"],[0.5,\"#f7f7f7\"],[0.6,\"#e6f5d0\"],[0.7,\"#b8e186\"],[0.8,\"#7fbc41\"],[0.9,\"#4d9221\"],[1,\"#276419\"]]},\"xaxis\":{\"gridcolor\":\"white\",\"linecolor\":\"white\",\"ticks\":\"\",\"title\":{\"standoff\":15},\"zerolinecolor\":\"white\",\"automargin\":true,\"zerolinewidth\":2},\"yaxis\":{\"gridcolor\":\"white\",\"linecolor\":\"white\",\"ticks\":\"\",\"title\":{\"standoff\":15},\"zerolinecolor\":\"white\",\"automargin\":true,\"zerolinewidth\":2},\"scene\":{\"xaxis\":{\"backgroundcolor\":\"#E5ECF6\",\"gridcolor\":\"white\",\"linecolor\":\"white\",\"showbackground\":true,\"ticks\":\"\",\"zerolinecolor\":\"white\",\"gridwidth\":2},\"yaxis\":{\"backgroundcolor\":\"#E5ECF6\",\"gridcolor\":\"white\",\"linecolor\":\"white\",\"showbackground\":true,\"ticks\":\"\",\"zerolinecolor\":\"white\",\"gridwidth\":2},\"zaxis\":{\"backgroundcolor\":\"#E5ECF6\",\"gridcolor\":\"white\",\"linecolor\":\"white\",\"showbackground\":true,\"ticks\":\"\",\"zerolinecolor\":\"white\",\"gridwidth\":2}},\"shapedefaults\":{\"line\":{\"color\":\"#2a3f5f\"}},\"annotationdefaults\":{\"arrowcolor\":\"#2a3f5f\",\"arrowhead\":0,\"arrowwidth\":1},\"geo\":{\"bgcolor\":\"white\",\"landcolor\":\"#E5ECF6\",\"subunitcolor\":\"white\",\"showland\":true,\"showlakes\":true,\"lakecolor\":\"white\"},\"title\":{\"x\":0.05},\"mapbox\":{\"style\":\"light\"}}},\"xaxis\":{\"title\":{\"text\":\"Categories\"},\"tickangle\":-45},\"title\":{\"text\":\"Total Calls Based on Top 10 Categories\"},\"yaxis\":{\"title\":{\"text\":\"Number of Calls\"}}},                        {\"responsive\": true}                    ).then(function(){\n",
       "                            \n",
       "var gd = document.getElementById('b1688fb8-4bcc-4bea-836d-cd36d1f01d97');\n",
       "var x = new MutationObserver(function (mutations, observer) {{\n",
       "        var display = window.getComputedStyle(gd).display;\n",
       "        if (!display || display === 'none') {{\n",
       "            console.log([gd, 'removed!']);\n",
       "            Plotly.purge(gd);\n",
       "            observer.disconnect();\n",
       "        }}\n",
       "}});\n",
       "\n",
       "// Listen for the removal of the full notebook cells\n",
       "var notebookContainer = gd.closest('#notebook-container');\n",
       "if (notebookContainer) {{\n",
       "    x.observe(notebookContainer, {childList: true});\n",
       "}}\n",
       "\n",
       "// Listen for the clearing of the current output cell\n",
       "var outputEl = gd.closest('.output');\n",
       "if (outputEl) {{\n",
       "    x.observe(outputEl, {childList: true});\n",
       "}}\n",
       "\n",
       "                        })                };                });            </script>        </div>"
      ]
     },
     "metadata": {},
     "output_type": "display_data"
    }
   ],
   "source": [
    "df = df.loc[(df[\"categories\"] != \"Nothing\")]\n",
    "category_counts = df[\"categories\"].value_counts()\n",
    "\n",
    "top_categories = category_counts.head(10)\n",
    "\n",
    "# Create a bar chart\n",
    "fig = go.Figure()\n",
    "\n",
    "fig.add_trace(\n",
    "    go.Bar(\n",
    "        x=top_categories.index,\n",
    "        y=top_categories.values,\n",
    "        # marker_color='blue'\n",
    "    )\n",
    ")\n",
    "\n",
    "# Customize layout\n",
    "fig.update_layout(\n",
    "    title=\"Total Calls Based on Top 10 Categories\",\n",
    "    xaxis_title=\"Categories\",\n",
    "    yaxis_title=\"Number of Calls\",\n",
    "    xaxis_tickangle=-45,  \n",
    "\n",
    "# Show the plot\n",
    "fig.show()"
   ]
  },
  {
   "cell_type": "markdown",
   "metadata": {},
   "source": [
    "## Word Cloud Dashboard"
   ]
  },
  {
   "cell_type": "code",
   "execution_count": 167,
   "metadata": {},
   "outputs": [],
   "source": [
    "df = pd.read_json(os.path.join(os.getcwd(), \"result.json\"))\n",
    "\n",
    "df[\"categories\"] = df[\"feature_extraction\"].apply(extract_categories)"
   ]
  },
  {
   "cell_type": "code",
   "execution_count": 168,
   "metadata": {},
   "outputs": [
    {
     "data": {
      "application/vnd.plotly.v1+json": {
       "config": {
        "plotlyServerURL": "https://plot.ly"
       },
       "data": [],
       "layout": {
        "height": 400,
        "images": [
         {
          "sizex": 1,
          "sizey": 1,
          "source": "data:image/png;base64,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",
          "x": 0.5,
          "xanchor": "center",
          "xref": "paper",
          "y": 0.5,
          "yanchor": "middle",
          "yref": "paper"
         }
        ],
        "margin": {
         "b": 0,
         "l": 0,
         "r": 0,
         "t": 0
        },
        "template": {
         "data": {
          "bar": [
           {
            "error_x": {
             "color": "#2a3f5f"
            },
            "error_y": {
             "color": "#2a3f5f"
            },
            "marker": {
             "line": {
              "color": "#E5ECF6",
              "width": 0.5
             },
             "pattern": {
              "fillmode": "overlay",
              "size": 10,
              "solidity": 0.2
             }
            },
            "type": "bar"
           }
          ],
          "barpolar": [
           {
            "marker": {
             "line": {
              "color": "#E5ECF6",
              "width": 0.5
             },
             "pattern": {
              "fillmode": "overlay",
              "size": 10,
              "solidity": 0.2
             }
            },
            "type": "barpolar"
           }
          ],
          "carpet": [
           {
            "aaxis": {
             "endlinecolor": "#2a3f5f",
             "gridcolor": "white",
             "linecolor": "white",
             "minorgridcolor": "white",
             "startlinecolor": "#2a3f5f"
            },
            "baxis": {
             "endlinecolor": "#2a3f5f",
             "gridcolor": "white",
             "linecolor": "white",
             "minorgridcolor": "white",
             "startlinecolor": "#2a3f5f"
            },
            "type": "carpet"
           }
          ],
          "choropleth": [
           {
            "colorbar": {
             "outlinewidth": 0,
             "ticks": ""
            },
            "type": "choropleth"
           }
          ],
          "contour": [
           {
            "colorbar": {
             "outlinewidth": 0,
             "ticks": ""
            },
            "colorscale": [
             [
              0,
              "#0d0887"
             ],
             [
              0.1111111111111111,
              "#46039f"
             ],
             [
              0.2222222222222222,
              "#7201a8"
             ],
             [
              0.3333333333333333,
              "#9c179e"
             ],
             [
              0.4444444444444444,
              "#bd3786"
             ],
             [
              0.5555555555555556,
              "#d8576b"
             ],
             [
              0.6666666666666666,
              "#ed7953"
             ],
             [
              0.7777777777777778,
              "#fb9f3a"
             ],
             [
              0.8888888888888888,
              "#fdca26"
             ],
             [
              1,
              "#f0f921"
             ]
            ],
            "type": "contour"
           }
          ],
          "contourcarpet": [
           {
            "colorbar": {
             "outlinewidth": 0,
             "ticks": ""
            },
            "type": "contourcarpet"
           }
          ],
          "heatmap": [
           {
            "colorbar": {
             "outlinewidth": 0,
             "ticks": ""
            },
            "colorscale": [
             [
              0,
              "#0d0887"
             ],
             [
              0.1111111111111111,
              "#46039f"
             ],
             [
              0.2222222222222222,
              "#7201a8"
             ],
             [
              0.3333333333333333,
              "#9c179e"
             ],
             [
              0.4444444444444444,
              "#bd3786"
             ],
             [
              0.5555555555555556,
              "#d8576b"
             ],
             [
              0.6666666666666666,
              "#ed7953"
             ],
             [
              0.7777777777777778,
              "#fb9f3a"
             ],
             [
              0.8888888888888888,
              "#fdca26"
             ],
             [
              1,
              "#f0f921"
             ]
            ],
            "type": "heatmap"
           }
          ],
          "heatmapgl": [
           {
            "colorbar": {
             "outlinewidth": 0,
             "ticks": ""
            },
            "colorscale": [
             [
              0,
              "#0d0887"
             ],
             [
              0.1111111111111111,
              "#46039f"
             ],
             [
              0.2222222222222222,
              "#7201a8"
             ],
             [
              0.3333333333333333,
              "#9c179e"
             ],
             [
              0.4444444444444444,
              "#bd3786"
             ],
             [
              0.5555555555555556,
              "#d8576b"
             ],
             [
              0.6666666666666666,
              "#ed7953"
             ],
             [
              0.7777777777777778,
              "#fb9f3a"
             ],
             [
              0.8888888888888888,
              "#fdca26"
             ],
             [
              1,
              "#f0f921"
             ]
            ],
            "type": "heatmapgl"
           }
          ],
          "histogram": [
           {
            "marker": {
             "pattern": {
              "fillmode": "overlay",
              "size": 10,
              "solidity": 0.2
             }
            },
            "type": "histogram"
           }
          ],
          "histogram2d": [
           {
            "colorbar": {
             "outlinewidth": 0,
             "ticks": ""
            },
            "colorscale": [
             [
              0,
              "#0d0887"
             ],
             [
              0.1111111111111111,
              "#46039f"
             ],
             [
              0.2222222222222222,
              "#7201a8"
             ],
             [
              0.3333333333333333,
              "#9c179e"
             ],
             [
              0.4444444444444444,
              "#bd3786"
             ],
             [
              0.5555555555555556,
              "#d8576b"
             ],
             [
              0.6666666666666666,
              "#ed7953"
             ],
             [
              0.7777777777777778,
              "#fb9f3a"
             ],
             [
              0.8888888888888888,
              "#fdca26"
             ],
             [
              1,
              "#f0f921"
             ]
            ],
            "type": "histogram2d"
           }
          ],
          "histogram2dcontour": [
           {
            "colorbar": {
             "outlinewidth": 0,
             "ticks": ""
            },
            "colorscale": [
             [
              0,
              "#0d0887"
             ],
             [
              0.1111111111111111,
              "#46039f"
             ],
             [
              0.2222222222222222,
              "#7201a8"
             ],
             [
              0.3333333333333333,
              "#9c179e"
             ],
             [
              0.4444444444444444,
              "#bd3786"
             ],
             [
              0.5555555555555556,
              "#d8576b"
             ],
             [
              0.6666666666666666,
              "#ed7953"
             ],
             [
              0.7777777777777778,
              "#fb9f3a"
             ],
             [
              0.8888888888888888,
              "#fdca26"
             ],
             [
              1,
              "#f0f921"
             ]
            ],
            "type": "histogram2dcontour"
           }
          ],
          "mesh3d": [
           {
            "colorbar": {
             "outlinewidth": 0,
             "ticks": ""
            },
            "type": "mesh3d"
           }
          ],
          "parcoords": [
           {
            "line": {
             "colorbar": {
              "outlinewidth": 0,
              "ticks": ""
             }
            },
            "type": "parcoords"
           }
          ],
          "pie": [
           {
            "automargin": true,
            "type": "pie"
           }
          ],
          "scatter": [
           {
            "fillpattern": {
             "fillmode": "overlay",
             "size": 10,
             "solidity": 0.2
            },
            "type": "scatter"
           }
          ],
          "scatter3d": [
           {
            "line": {
             "colorbar": {
              "outlinewidth": 0,
              "ticks": ""
             }
            },
            "marker": {
             "colorbar": {
              "outlinewidth": 0,
              "ticks": ""
             }
            },
            "type": "scatter3d"
           }
          ],
          "scattercarpet": [
           {
            "marker": {
             "colorbar": {
              "outlinewidth": 0,
              "ticks": ""
             }
            },
            "type": "scattercarpet"
           }
          ],
          "scattergeo": [
           {
            "marker": {
             "colorbar": {
              "outlinewidth": 0,
              "ticks": ""
             }
            },
            "type": "scattergeo"
           }
          ],
          "scattergl": [
           {
            "marker": {
             "colorbar": {
              "outlinewidth": 0,
              "ticks": ""
             }
            },
            "type": "scattergl"
           }
          ],
          "scattermapbox": [
           {
            "marker": {
             "colorbar": {
              "outlinewidth": 0,
              "ticks": ""
             }
            },
            "type": "scattermapbox"
           }
          ],
          "scatterpolar": [
           {
            "marker": {
             "colorbar": {
              "outlinewidth": 0,
              "ticks": ""
             }
            },
            "type": "scatterpolar"
           }
          ],
          "scatterpolargl": [
           {
            "marker": {
             "colorbar": {
              "outlinewidth": 0,
              "ticks": ""
             }
            },
            "type": "scatterpolargl"
           }
          ],
          "scatterternary": [
           {
            "marker": {
             "colorbar": {
              "outlinewidth": 0,
              "ticks": ""
             }
            },
            "type": "scatterternary"
           }
          ],
          "surface": [
           {
            "colorbar": {
             "outlinewidth": 0,
             "ticks": ""
            },
            "colorscale": [
             [
              0,
              "#0d0887"
             ],
             [
              0.1111111111111111,
              "#46039f"
             ],
             [
              0.2222222222222222,
              "#7201a8"
             ],
             [
              0.3333333333333333,
              "#9c179e"
             ],
             [
              0.4444444444444444,
              "#bd3786"
             ],
             [
              0.5555555555555556,
              "#d8576b"
             ],
             [
              0.6666666666666666,
              "#ed7953"
             ],
             [
              0.7777777777777778,
              "#fb9f3a"
             ],
             [
              0.8888888888888888,
              "#fdca26"
             ],
             [
              1,
              "#f0f921"
             ]
            ],
            "type": "surface"
           }
          ],
          "table": [
           {
            "cells": {
             "fill": {
              "color": "#EBF0F8"
             },
             "line": {
              "color": "white"
             }
            },
            "header": {
             "fill": {
              "color": "#C8D4E3"
             },
             "line": {
              "color": "white"
             }
            },
            "type": "table"
           }
          ]
         },
         "layout": {
          "annotationdefaults": {
           "arrowcolor": "#2a3f5f",
           "arrowhead": 0,
           "arrowwidth": 1
          },
          "autotypenumbers": "strict",
          "coloraxis": {
           "colorbar": {
            "outlinewidth": 0,
            "ticks": ""
           }
          },
          "colorscale": {
           "diverging": [
            [
             0,
             "#8e0152"
            ],
            [
             0.1,
             "#c51b7d"
            ],
            [
             0.2,
             "#de77ae"
            ],
            [
             0.3,
             "#f1b6da"
            ],
            [
             0.4,
             "#fde0ef"
            ],
            [
             0.5,
             "#f7f7f7"
            ],
            [
             0.6,
             "#e6f5d0"
            ],
            [
             0.7,
             "#b8e186"
            ],
            [
             0.8,
             "#7fbc41"
            ],
            [
             0.9,
             "#4d9221"
            ],
            [
             1,
             "#276419"
            ]
           ],
           "sequential": [
            [
             0,
             "#0d0887"
            ],
            [
             0.1111111111111111,
             "#46039f"
            ],
            [
             0.2222222222222222,
             "#7201a8"
            ],
            [
             0.3333333333333333,
             "#9c179e"
            ],
            [
             0.4444444444444444,
             "#bd3786"
            ],
            [
             0.5555555555555556,
             "#d8576b"
            ],
            [
             0.6666666666666666,
             "#ed7953"
            ],
            [
             0.7777777777777778,
             "#fb9f3a"
            ],
            [
             0.8888888888888888,
             "#fdca26"
            ],
            [
             1,
             "#f0f921"
            ]
           ],
           "sequentialminus": [
            [
             0,
             "#0d0887"
            ],
            [
             0.1111111111111111,
             "#46039f"
            ],
            [
             0.2222222222222222,
             "#7201a8"
            ],
            [
             0.3333333333333333,
             "#9c179e"
            ],
            [
             0.4444444444444444,
             "#bd3786"
            ],
            [
             0.5555555555555556,
             "#d8576b"
            ],
            [
             0.6666666666666666,
             "#ed7953"
            ],
            [
             0.7777777777777778,
             "#fb9f3a"
            ],
            [
             0.8888888888888888,
             "#fdca26"
            ],
            [
             1,
             "#f0f921"
            ]
           ]
          },
          "colorway": [
           "#636efa",
           "#EF553B",
           "#00cc96",
           "#ab63fa",
           "#FFA15A",
           "#19d3f3",
           "#FF6692",
           "#B6E880",
           "#FF97FF",
           "#FECB52"
          ],
          "font": {
           "color": "#2a3f5f"
          },
          "geo": {
           "bgcolor": "white",
           "lakecolor": "white",
           "landcolor": "#E5ECF6",
           "showlakes": true,
           "showland": true,
           "subunitcolor": "white"
          },
          "hoverlabel": {
           "align": "left"
          },
          "hovermode": "closest",
          "mapbox": {
           "style": "light"
          },
          "paper_bgcolor": "white",
          "plot_bgcolor": "#E5ECF6",
          "polar": {
           "angularaxis": {
            "gridcolor": "white",
            "linecolor": "white",
            "ticks": ""
           },
           "bgcolor": "#E5ECF6",
           "radialaxis": {
            "gridcolor": "white",
            "linecolor": "white",
            "ticks": ""
           }
          },
          "scene": {
           "xaxis": {
            "backgroundcolor": "#E5ECF6",
            "gridcolor": "white",
            "gridwidth": 2,
            "linecolor": "white",
            "showbackground": true,
            "ticks": "",
            "zerolinecolor": "white"
           },
           "yaxis": {
            "backgroundcolor": "#E5ECF6",
            "gridcolor": "white",
            "gridwidth": 2,
            "linecolor": "white",
            "showbackground": true,
            "ticks": "",
            "zerolinecolor": "white"
           },
           "zaxis": {
            "backgroundcolor": "#E5ECF6",
            "gridcolor": "white",
            "gridwidth": 2,
            "linecolor": "white",
            "showbackground": true,
            "ticks": "",
            "zerolinecolor": "white"
           }
          },
          "shapedefaults": {
           "line": {
            "color": "#2a3f5f"
           }
          },
          "ternary": {
           "aaxis": {
            "gridcolor": "white",
            "linecolor": "white",
            "ticks": ""
           },
           "baxis": {
            "gridcolor": "white",
            "linecolor": "white",
            "ticks": ""
           },
           "bgcolor": "#E5ECF6",
           "caxis": {
            "gridcolor": "white",
            "linecolor": "white",
            "ticks": ""
           }
          },
          "title": {
           "x": 0.05
          },
          "xaxis": {
           "automargin": true,
           "gridcolor": "white",
           "linecolor": "white",
           "ticks": "",
           "title": {
            "standoff": 15
           },
           "zerolinecolor": "white",
           "zerolinewidth": 2
          },
          "yaxis": {
           "automargin": true,
           "gridcolor": "white",
           "linecolor": "white",
           "ticks": "",
           "title": {
            "standoff": 15
           },
           "zerolinecolor": "white",
           "zerolinewidth": 2
          }
         }
        },
        "width": 800,
        "xaxis": {
         "visible": false
        },
        "yaxis": {
         "visible": false
        }
       }
      },
      "text/html": [
       "<div>                            <div id=\"740c519a-ea80-4d2f-a0a4-80e920260487\" class=\"plotly-graph-div\" style=\"height:400px; width:800px;\"></div>            <script type=\"text/javascript\">                require([\"plotly\"], function(Plotly) {                    window.PLOTLYENV=window.PLOTLYENV || {};                                    if (document.getElementById(\"740c519a-ea80-4d2f-a0a4-80e920260487\")) {                    Plotly.newPlot(                        \"740c519a-ea80-4d2f-a0a4-80e920260487\",                        [],                        {\"template\":{\"data\":{\"histogram2dcontour\":[{\"type\":\"histogram2dcontour\",\"colorbar\":{\"outlinewidth\":0,\"ticks\":\"\"},\"colorscale\":[[0.0,\"#0d0887\"],[0.1111111111111111,\"#46039f\"],[0.2222222222222222,\"#7201a8\"],[0.3333333333333333,\"#9c179e\"],[0.4444444444444444,\"#bd3786\"],[0.5555555555555556,\"#d8576b\"],[0.6666666666666666,\"#ed7953\"],[0.7777777777777778,\"#fb9f3a\"],[0.8888888888888888,\"#fdca26\"],[1.0,\"#f0f921\"]]}],\"choropleth\":[{\"type\":\"choropleth\",\"colorbar\":{\"outlinewidth\":0,\"ticks\":\"\"}}],\"histogram2d\":[{\"type\":\"histogram2d\",\"colorbar\":{\"outlinewidth\":0,\"ticks\":\"\"},\"colorscale\":[[0.0,\"#0d0887\"],[0.1111111111111111,\"#46039f\"],[0.2222222222222222,\"#7201a8\"],[0.3333333333333333,\"#9c179e\"],[0.4444444444444444,\"#bd3786\"],[0.5555555555555556,\"#d8576b\"],[0.6666666666666666,\"#ed7953\"],[0.7777777777777778,\"#fb9f3a\"],[0.8888888888888888,\"#fdca26\"],[1.0,\"#f0f921\"]]}],\"heatmap\":[{\"type\":\"heatmap\",\"colorbar\":{\"outlinewidth\":0,\"ticks\":\"\"},\"colorscale\":[[0.0,\"#0d0887\"],[0.1111111111111111,\"#46039f\"],[0.2222222222222222,\"#7201a8\"],[0.3333333333333333,\"#9c179e\"],[0.4444444444444444,\"#bd3786\"],[0.5555555555555556,\"#d8576b\"],[0.6666666666666666,\"#ed7953\"],[0.7777777777777778,\"#fb9f3a\"],[0.8888888888888888,\"#fdca26\"],[1.0,\"#f0f921\"]]}],\"heatmapgl\":[{\"type\":\"heatmapgl\",\"colorbar\":{\"outlinewidth\":0,\"ticks\":\"\"},\"colorscale\":[[0.0,\"#0d0887\"],[0.1111111111111111,\"#46039f\"],[0.2222222222222222,\"#7201a8\"],[0.3333333333333333,\"#9c179e\"],[0.4444444444444444,\"#bd3786\"],[0.5555555555555556,\"#d8576b\"],[0.6666666666666666,\"#ed7953\"],[0.7777777777777778,\"#fb9f3a\"],[0.8888888888888888,\"#fdca26\"],[1.0,\"#f0f921\"]]}],\"contourcarpet\":[{\"type\":\"contourcarpet\",\"colorbar\":{\"outlinewidth\":0,\"ticks\":\"\"}}],\"contour\":[{\"type\":\"contour\",\"colorbar\":{\"outlinewidth\":0,\"ticks\":\"\"},\"colorscale\":[[0.0,\"#0d0887\"],[0.1111111111111111,\"#46039f\"],[0.2222222222222222,\"#7201a8\"],[0.3333333333333333,\"#9c179e\"],[0.4444444444444444,\"#bd3786\"],[0.5555555555555556,\"#d8576b\"],[0.6666666666666666,\"#ed7953\"],[0.7777777777777778,\"#fb9f3a\"],[0.8888888888888888,\"#fdca26\"],[1.0,\"#f0f921\"]]}],\"surface\":[{\"type\":\"surface\",\"colorbar\":{\"outlinewidth\":0,\"ticks\":\"\"},\"colorscale\":[[0.0,\"#0d0887\"],[0.1111111111111111,\"#46039f\"],[0.2222222222222222,\"#7201a8\"],[0.3333333333333333,\"#9c179e\"],[0.4444444444444444,\"#bd3786\"],[0.5555555555555556,\"#d8576b\"],[0.6666666666666666,\"#ed7953\"],[0.7777777777777778,\"#fb9f3a\"],[0.8888888888888888,\"#fdca26\"],[1.0,\"#f0f921\"]]}],\"mesh3d\":[{\"type\":\"mesh3d\",\"colorbar\":{\"outlinewidth\":0,\"ticks\":\"\"}}],\"scatter\":[{\"fillpattern\":{\"fillmode\":\"overlay\",\"size\":10,\"solidity\":0.2},\"type\":\"scatter\"}],\"parcoords\":[{\"type\":\"parcoords\",\"line\":{\"colorbar\":{\"outlinewidth\":0,\"ticks\":\"\"}}}],\"scatterpolargl\":[{\"type\":\"scatterpolargl\",\"marker\":{\"colorbar\":{\"outlinewidth\":0,\"ticks\":\"\"}}}],\"bar\":[{\"error_x\":{\"color\":\"#2a3f5f\"},\"error_y\":{\"color\":\"#2a3f5f\"},\"marker\":{\"line\":{\"color\":\"#E5ECF6\",\"width\":0.5},\"pattern\":{\"fillmode\":\"overlay\",\"size\":10,\"solidity\":0.2}},\"type\":\"bar\"}],\"scattergeo\":[{\"type\":\"scattergeo\",\"marker\":{\"colorbar\":{\"outlinewidth\":0,\"ticks\":\"\"}}}],\"scatterpolar\":[{\"type\":\"scatterpolar\",\"marker\":{\"colorbar\":{\"outlinewidth\":0,\"ticks\":\"\"}}}],\"histogram\":[{\"marker\":{\"pattern\":{\"fillmode\":\"overlay\",\"size\":10,\"solidity\":0.2}},\"type\":\"histogram\"}],\"scattergl\":[{\"type\":\"scattergl\",\"marker\":{\"colorbar\":{\"outlinewidth\":0,\"ticks\":\"\"}}}],\"scatter3d\":[{\"type\":\"scatter3d\",\"line\":{\"colorbar\":{\"outlinewidth\":0,\"ticks\":\"\"}},\"marker\":{\"colorbar\":{\"outlinewidth\":0,\"ticks\":\"\"}}}],\"scattermapbox\":[{\"type\":\"scattermapbox\",\"marker\":{\"colorbar\":{\"outlinewidth\":0,\"ticks\":\"\"}}}],\"scatterternary\":[{\"type\":\"scatterternary\",\"marker\":{\"colorbar\":{\"outlinewidth\":0,\"ticks\":\"\"}}}],\"scattercarpet\":[{\"type\":\"scattercarpet\",\"marker\":{\"colorbar\":{\"outlinewidth\":0,\"ticks\":\"\"}}}],\"carpet\":[{\"aaxis\":{\"endlinecolor\":\"#2a3f5f\",\"gridcolor\":\"white\",\"linecolor\":\"white\",\"minorgridcolor\":\"white\",\"startlinecolor\":\"#2a3f5f\"},\"baxis\":{\"endlinecolor\":\"#2a3f5f\",\"gridcolor\":\"white\",\"linecolor\":\"white\",\"minorgridcolor\":\"white\",\"startlinecolor\":\"#2a3f5f\"},\"type\":\"carpet\"}],\"table\":[{\"cells\":{\"fill\":{\"color\":\"#EBF0F8\"},\"line\":{\"color\":\"white\"}},\"header\":{\"fill\":{\"color\":\"#C8D4E3\"},\"line\":{\"color\":\"white\"}},\"type\":\"table\"}],\"barpolar\":[{\"marker\":{\"line\":{\"color\":\"#E5ECF6\",\"width\":0.5},\"pattern\":{\"fillmode\":\"overlay\",\"size\":10,\"solidity\":0.2}},\"type\":\"barpolar\"}],\"pie\":[{\"automargin\":true,\"type\":\"pie\"}]},\"layout\":{\"autotypenumbers\":\"strict\",\"colorway\":[\"#636efa\",\"#EF553B\",\"#00cc96\",\"#ab63fa\",\"#FFA15A\",\"#19d3f3\",\"#FF6692\",\"#B6E880\",\"#FF97FF\",\"#FECB52\"],\"font\":{\"color\":\"#2a3f5f\"},\"hovermode\":\"closest\",\"hoverlabel\":{\"align\":\"left\"},\"paper_bgcolor\":\"white\",\"plot_bgcolor\":\"#E5ECF6\",\"polar\":{\"bgcolor\":\"#E5ECF6\",\"angularaxis\":{\"gridcolor\":\"white\",\"linecolor\":\"white\",\"ticks\":\"\"},\"radialaxis\":{\"gridcolor\":\"white\",\"linecolor\":\"white\",\"ticks\":\"\"}},\"ternary\":{\"bgcolor\":\"#E5ECF6\",\"aaxis\":{\"gridcolor\":\"white\",\"linecolor\":\"white\",\"ticks\":\"\"},\"baxis\":{\"gridcolor\":\"white\",\"linecolor\":\"white\",\"ticks\":\"\"},\"caxis\":{\"gridcolor\":\"white\",\"linecolor\":\"white\",\"ticks\":\"\"}},\"coloraxis\":{\"colorbar\":{\"outlinewidth\":0,\"ticks\":\"\"}},\"colorscale\":{\"sequential\":[[0.0,\"#0d0887\"],[0.1111111111111111,\"#46039f\"],[0.2222222222222222,\"#7201a8\"],[0.3333333333333333,\"#9c179e\"],[0.4444444444444444,\"#bd3786\"],[0.5555555555555556,\"#d8576b\"],[0.6666666666666666,\"#ed7953\"],[0.7777777777777778,\"#fb9f3a\"],[0.8888888888888888,\"#fdca26\"],[1.0,\"#f0f921\"]],\"sequentialminus\":[[0.0,\"#0d0887\"],[0.1111111111111111,\"#46039f\"],[0.2222222222222222,\"#7201a8\"],[0.3333333333333333,\"#9c179e\"],[0.4444444444444444,\"#bd3786\"],[0.5555555555555556,\"#d8576b\"],[0.6666666666666666,\"#ed7953\"],[0.7777777777777778,\"#fb9f3a\"],[0.8888888888888888,\"#fdca26\"],[1.0,\"#f0f921\"]],\"diverging\":[[0,\"#8e0152\"],[0.1,\"#c51b7d\"],[0.2,\"#de77ae\"],[0.3,\"#f1b6da\"],[0.4,\"#fde0ef\"],[0.5,\"#f7f7f7\"],[0.6,\"#e6f5d0\"],[0.7,\"#b8e186\"],[0.8,\"#7fbc41\"],[0.9,\"#4d9221\"],[1,\"#276419\"]]},\"xaxis\":{\"gridcolor\":\"white\",\"linecolor\":\"white\",\"ticks\":\"\",\"title\":{\"standoff\":15},\"zerolinecolor\":\"white\",\"automargin\":true,\"zerolinewidth\":2},\"yaxis\":{\"gridcolor\":\"white\",\"linecolor\":\"white\",\"ticks\":\"\",\"title\":{\"standoff\":15},\"zerolinecolor\":\"white\",\"automargin\":true,\"zerolinewidth\":2},\"scene\":{\"xaxis\":{\"backgroundcolor\":\"#E5ECF6\",\"gridcolor\":\"white\",\"linecolor\":\"white\",\"showbackground\":true,\"ticks\":\"\",\"zerolinecolor\":\"white\",\"gridwidth\":2},\"yaxis\":{\"backgroundcolor\":\"#E5ECF6\",\"gridcolor\":\"white\",\"linecolor\":\"white\",\"showbackground\":true,\"ticks\":\"\",\"zerolinecolor\":\"white\",\"gridwidth\":2},\"zaxis\":{\"backgroundcolor\":\"#E5ECF6\",\"gridcolor\":\"white\",\"linecolor\":\"white\",\"showbackground\":true,\"ticks\":\"\",\"zerolinecolor\":\"white\",\"gridwidth\":2}},\"shapedefaults\":{\"line\":{\"color\":\"#2a3f5f\"}},\"annotationdefaults\":{\"arrowcolor\":\"#2a3f5f\",\"arrowhead\":0,\"arrowwidth\":1},\"geo\":{\"bgcolor\":\"white\",\"landcolor\":\"#E5ECF6\",\"subunitcolor\":\"white\",\"showland\":true,\"showlakes\":true,\"lakecolor\":\"white\"},\"title\":{\"x\":0.05},\"mapbox\":{\"style\":\"light\"}}},\"images\":[{\"sizex\":1,\"sizey\":1,\"source\":\"data:image/png;base64,iVBORw0KGgoAAAANSUhEUgAAAyAAAAGQCAIAAADZR5NjAAEAAElEQVR4nOyddXhTVxvAT9w9bdPU3ajSUloKFHfXMdgGTNjY9k2YMndXZjBhOMO9uLWFUuru3rRp3D3fHykhjTVp01Igv4eHJzl2z7299+S973kFotfrgRs3bty4cePGjRvXAb/XE3Djxo0bN27uMXKNuqC7s5jNqudzW8UCjlzGV8hVWq1ap0VAYWg4HAtHeGBxXjg8E0eMoNIjqPRIqgcOgbzXE3czcoG4NVhuAACN1azXH9saEef36Z/r7vVchoS2xp6n53xn/Jo2Jfq9LWvu4XzcuHkg0eh0f5cXHK2rbBLy9UAfQCTPCY58Jj4FBRuhL/N6AC62NOyvKb3S2qTWaZ3qC4NARtG9Ur39NqWMR8JgQzE9Z6/n3u3ZJ4/c5vOkHp7EP3ZtQGMQLpnGnn+uX8gq/Xv/RpeM9vDgxE2vVGuWvPvvR+tmJoX7DPKoy9/fMWV02DPz0wY5zlBPw4WnfK/4fvPBc4cLQqOZPx96od/GWBxqGKZkQKvVXThaeO1MaVM1SyySE8lYOoOUMiFi6sLRDF+Kyw9HZ5A2fblcxJfWlXdcPlns8vHdjEw4yvZf654zfo0gpq7w33wP5+MqbnCOnO/6Z6LnIxM9H7nXc7mLHoBnLxw731xvLKnhcWp42bmdLbvnrIBBIPdwblbJ72p/N/tCNa9nYN21en1JTxdPIX97bKZL59WLs9ezrKhl+x+X3v54SWiEt4AvdZV05WbA3BWwdp4t2HHu9vlvnzF8zatsefGno7+8tDg50s9QYlB1IeBQy1FEMgUCBsOgRuifU6PV7b1QdOJGRRtbiEbAA70pT89LS4sJ6LejnVO+L9BqdTcvVQEA6is7u9r5dgSX4Ejvg7feH7aJsVmC9zf821zbBQCgeRGDIrz5HHFdeUdtWbsnk8LwHe3yI2KwyCnzEwEAt6/XPsAC1oHWL6pEuVarFvj8L54yZWDDitQcDAyPgKIHMbV7AxFBX+j7skwr6pTXlwuuDmao811/3+AcncZYm0ZfZFreLC3b0bQ5ADfq8aDPBjfZ+55zzXWm0oCRm51tR+oqloaPGv4p2eHHwtwfbucMfgcn0y/YBbOxhrPXs7qiw8ePNnFqDADAx486RLNy4zjWNVgcofSdP7NeWJJhlK4AAGgk/OQX6622/2rP5amjwzMTQ4ZkjoNDp9e/+uvx4rrODQvSUiL9ZAp1XmWLJxnvSF87p3xfUHqrUSSQhY3yrStvzzlfvmTt+Hs9IwAAkIoVbzy2taudHxLFfOGDhRFxvfcYp0t4LatsyoLEezu9BwA6yhcDI5gV4uDkgY2m1Wt+qXt2ke+rkcSxg53ZsIOEouPIkwAA9ZLCQQpYbvrlTGOtnaoRJWB9dvPK1tJ8lwyV6R/kknEscfZ6CgQyDHZobMJGnPLx/sCKgKXT6d/eenpMlN/qaQ4pEnR6fV5V69TR4a6em2s4fK0su7Tpj1eXGoXFuBDvezulYSPnXDkA4PH/TXt/w78550aKgPX3t1ld7fzAMK+vdjyNxd/dlKQzSIufyLiHE3tgyPR6NJo4zlWjtcmq1Dqlq0Zz8wBTL+DaqmoQ8IZzJvY5Vl/lKukKCYOlM/1dMpQljl/Pt/63u6q8XSZVAgCmj/0IADB5RuybH/aqWo/szzv23y12t9DLm7xsdfrsBUnGjraq9Hqw66+rJw7dlstVqePCHNSHrVvxy8rHMvJv1N/MrsVgkPOWJK9eP9GwkykRKxZP+2r3sZd2bLty/XKVXq9ftCL1iWcm9TvD9hbuP79fKi5olstVNBp+4YrUJY/0vuldPle+Z/v1zjaeJ4M0e0HSklVpUGivJHj0wK3jB/O7OwVYHCokjLFx00y/AHq/VbamYX/ydrAiYP1+/IZIpvjpf33U4JP+95tYrtDrwQ8vLBgfd1cjuv7L/2rb2DKl+tVfj/eWzEl9bmG64XNLF/+XIzn5NW1ypZpOwq2ckmAU2pRqzTt/nrla0oiAQ9NjAt98dDIe0/tbm3Wr5u9TeW1sAYNKWDQhdvW00Yartvz9HWtmjM6vbrtc1GDZyxbHsstTIv1MVXGm2JmG1VO+UFB39lY1FoW8WFj3/KJxEoXq3zP5GXHBnz89u98ZWj2v6lb2ox/v3vve6nA/D0Oz2raeRz7ateudVVEBXvZPzT56nT73QiWRjE1MC41OCii/3cztFtG8iKZtRHzpivRPjF+jkwK+3b3BciiDhfjaV2YsfyrzzH+3Tu692d7MQSLhgWFeG99fGBjmxDzFQtmFowUAgOffX2gqXVmlu4O/7/fLhTl1PI6YQMTEjgl+5NnJlodzsJmDyCTKA39dzTlX3tXOR6LgkfH+y9ZPiB/bRzvrwgsy8mmQFN7rKbi5P5Bp1LaqpBrVcM7EDkKl4v2cC463x8IRWr1epdVY3UxM9fbDwIfKNsbx6/nBl8t1ev2OrVdKCpq//eMJAAAc3mt0f/xg/o5tV57fNDsiillV0bHlm9NajW7ekmT7VedPl+z7N/vF1+dEx/kW5DX+9csFDwbJkTn/+l3W0y9Me/ypzIqytp++POXlTZ4+J95Y+8nmg5NnxC5fky7gSWF3bG/sTIPLEb/8zD/BYV7vfbGM7kFsbmCTKFhDr9s3G3744uT/3pgbEc1sb+F899kJjUb3yBMZAIDSopZtP51/9/NlAUEefJ60uKCJ7tH7w2enys407EzePuYC1u3qtr0XCve9vwaN7FN1+cdn5Up1xvNbzNpveWmRSq2d/PJvnz092yCFIGC9B+4RSNZ9uT/cz+ObZ+d5UPANHRwKAWPsuO9i8ZoZo/99a2U3X/LOn2f+PJX30tIJAIAbFS2f7rywefWU6CBGSxfvo3/Pa7S6dbPHGHp9uefyo9OSLHvZQq8HNa09T8xKsdXA1jTsnHJ2adPmx6YGMalbjuTMGRu15eXFT3713xNtKRF+HnZmaOu8Iv09Y4O9D10re+vRyYbxT+RWhjBpg5SuAAAVRS18jnjqwiQoDJo+NaYsvynnfPn81emmbbB49OtfrRDypW2NPaf359kfkNcj/uPzk6f25cUkBaRNju5s5VYWt1LpDm22Gim91aRSanyDPGJGB9pvWV3S+s5T/0jFiog4v+ikAE63KPtc+Y2LlZt/WJU6KcrZZg7C6xG/8fi29qYepj8tNTNSwJOW3GwozKl7/v0Fs1ekWjYe/AUZfor45050bGGgg58M+RYKuev6dLT9+1LB5WTqrNnMZwEA9eKCW9wTXYomiYYPAPivtY+B0TsxR0z7KnWy3J7DVaJcvqobAUX6YCLSPRYH4eJMuxjszad4PTbOY2kh72w+7zRX1QGHID3RAbO9N3iiAwAA9ZLCPc0fLPD5nz8u5lL3ziZpqUIrISJokcT0TM9VSBMjMKlGWCK4WCvOZytaVDo5CoploIOSaXOiiPfYdcbxuTlyQQx0KRovd+9qlVXq9DpvTMh4j+VwyEiMDoCzLWoQkcPnQGOfP8tuC5QKOw1Svf1mBYXHezKCSVQ8EmW0JZeoVGyZpFsmqRdw6/m80p6uck73pCEzwALOXE8UGgEAgMNhECgEg+lzb+z++9ry1eOmzIwFAPgG0Lo6+bv/vmaQG+xUnTiUnzl91Ix5CQAAvwB6QV5DR7tDOsiklODZC5MMA5YVtRw/mG8qYCUkBy5YlmIY05EZnjpSAAD44KsVhpMyVaTt+uvagmVjJs8YZSifs2j0ySO3DQKWXKaCQCBUGt7bh+LtQ4mO9TX2slNlZxp2Jm+fPlKUWqP9at9lhUrTxhb4eJiLqzColW1YDAphKEfB4di+Ru6HrpVBIODbjfMN5f6eZNPamCCvZxekAwCCmbSZqZGl9SxD+bYTN1dMTpiZGmnosmRi3MGrpUYBKyrA02ovW8hVaq1ORyfhbDWwNQ07p4xEwOemRXfzxD8fyl48MS7Cz4NBIbA4IoOAZWuGds5r+aT4z3df+t/S8VgUQqvTZeVVr5lhc3N2T1WJRN377gIFkCfjkm21NOwPpk+NMfz/x+cns8+ZC1hwBGzSvAQAQGM1q18B69qZMhwBve30K14+vcbyXLaISLF5ba3SWM0CAEQl9KNUVynUn760RyZRbv7h0YwZvaYGNaVtb63988vX9m89+TKdQXK8meP88M6h9qaelc9MeuzFaRAoBABQV9GxafUfv31yIik9jNFXT+6SCzL8JFKmN0iKKoU5V9i7J3s9ZiisEuWWCi57ogOme/caHUIhcC9MkBcmqFaU36NsjSKmUVFM4yAQyN0XOImG/2/T21xlBxXpHU5IkWmFTdKSBknRHOazo6kzzY4u1vDPsv68zTvjj4umo3z5KlabrAqP6ON+USe+fb7rHwgEGogdpdIrWqUVNzlHu+WNa4LualvzeaeusfehYThPdCAeTuGrWE3S0iZp6ULfl+LIk117xZzFqbn1e0E65LU7mjardUomJoyK9OapWLubPwgn2Hzw7yFhFHoZp9tqVTTNc5gnYxWNTre7ssRWrT+RvGXKvDgPhtVaPBKJR1KDydS0O3uCKq1Wq9cNyUQBAK64nkKBjM+TRkTffXIjopk7/7zK5YjhcJitKhqd0N7KnTQ91lgVEOzhoIDlH3RX+AgOY+RcrTatjRrla9bezgxpdEJ9TVdEtI+ZyGigqaG7sqxt37/ZpoUajQ4Oh45JC50xL+F/T/4dEc2cMS9xysxY5B2Fka0q+9OwNfl+MRewPn96zv5LxZ/tuvjfh4+ZKbGcpaaVHR3IwNpwLYwOvHsTE7EoibzXyKOug1PS0PnP6VumjTVaHRwGtdPLFmgkHAqB8MQyWw2cHRAAQMKhAQAoJBwAYNDJIRAwpUYz4POalhz+/X/Xzt6qXjQ+NrusSSCVzx5rXfXClcs2Xz9n1FTDIP0IWEg0ImlcGADAk0kOiWKWFzQLuBIybYAqFj5H/Oa3K43CBACA5km0094qYoEMANDvHK6eKeV0CcfPjDWKTQCAiDi/RU+M3/PrxeO7ctdtmuV4MwdpbWDnX6vxCaCveWEq5I5sHRbjM33R6JN7b547UvDYi9NM27vkgtwT5jKf75DV5XAOhxHG+GEjJRr+yY5f4FDkEr/XjKqRYHx8MD4eACBSc3uUrbHkSbaM3E90/MxVdmR4LJvktRoCIAAAlrz+n6Y3z7D+CMYnUJB9fq4qhdkoGHZj2G9kZO8vhFjDw8L6XLdKUU4EMdU4GYGK/UfDi03S0nZZjS82wtBmDHWOFzoonJACg/QuU4bIBbmcI/dcwHJqbv1ekBMdP6t1yqmMJ9Lpiw0lxfwLxzt+GvrzcJpZweGH6yqsVi2PiLVaPszkdLTwFNZ/Dhg4/NGFq6lojNVaqyBhMACGJPyVgcFfT6VCDQAwjXZp+IhCIQwGW1arDF9No0AYNxz7RasxkTj1ekjfWBJIlLlQYWeGAAA9ABBrag69Tq9QqJ94ZpKpegwAAIdDAQAQKOSF12avfCzj3Kninduu7N+R8/3WtRQqzk6V/WnYmny/9OmARSNDmLQXFmdcKW747Vjuy8vs7b71i14PoLYDn1gVvHR6vUKpfnZh+rz0mD6zvLPtaEtcswUUAgliUmtbbYY5cXZAAIDpHWMZiWQA54WAwxaOH3Xoatmi8bGncqvSogNsqdyyO1ocdCquKW3r6RKmTYk2qI4BAOnTYhqqOnMvVFhudTkIFo+KG+MafTjU2jNjSumtRgBAcoa558SYiRF7fr1YdKPeqWYOUnyjHgAQOyYICuuzvx4YzgAA1Fd0mLV34QVxLQdbvzQrQUDRb0X/Z/yKhuEW+23a3vTm0fbvngn98Xj7j3KteA7zWQ+U0+a6Pcq2OvFtKpI5yfNRyB1fI29MaAJ56m3e6WL+xUlej5q2l2j4i/02GYUJAAABbm4/C4XA5jKfN4p6ZKRnDGl8Ie8sS15vFLCwcJLZjlsqbf7F7h0cZbuzp+AU57v+Od/1j/02Ts3N/gXplNezFS1kpJdpbIgEytR83mmW3LnbexiYFhA6Myg8q8nc9+3JuOTxvoH3YkbmXGtvtlX14bipTklXw8Dgr6eHF4lMwdVUdo5O7bUirans8PAi4gloHB5tqwoAwPSlNtbdVZ61NnEcnHNr892WDXVd/VrH25khACAo2OPcqRKlUoPqK9xAoJCQUK/mRjbd9juthxfx0XUTljyStm7FLxfOlC57NM1Olf1pDBgrEhkBi3ptZebb207PHBPhiCUQFAqFQIBGZ64pDfGhncitVKo1KISjch8UAgnz82js4HpRXGbIMj0l4o9jNxo6uSFMmqvGdJZ+z2tpZvz2rPzi+o7rpY0frptha5zrtlcHMwz7gzcuVs6Keqtv+cAFLFNVzYDBEdEAACFfar8Zt1sEAKB7m2/wGbb8erqETjVzEEP7rAP5WQeseBhJRHKzEpdckKHAMkwDAmpuAeOHjZzosfIKe8+fDZs4yrYoYtpoqhPaPiNNkhIAQCAu1nTTEADghQ4AAHQpGszao6DYQFw/L98MdDAO3udvSkJ4AAAUOnu3DRQCw8FIYg1Pp9ea2oe5FjLSkwDvs5IodTK2osV+Lztzs39BOuW1wHB5+zrK+2OjRqCABQDYMmXeP+UFR+oqG4U8AEAMzWtt7Oi5wRH3el69FHSbvyYZ8MYRpgWEDvNkHGGQ1xMCAavWjt/+x2Uvb3JEFLO6suPQ3pvPvTzTfhUAYO7i5C1fn45NDIge5Vta3FJ0u5Hi2NZH0e3G4wfzk1KCK8rarpyvePGNOQOeoWEaJw7f/uTtA488kUGm4Lo6BXKZalxmJABgzVMTP3zjv4Agj4zMKJ1e39zA1mp1U2fFAQCuX66SSZShEQwsDlVXzRKL5EY5z1aV/WkMGOuiz7Tk8BO5lR/vuLBz8yMwaO+6qdHqAABarbkOBQ6D+nmQT9+oCvOlQyAQLAphUMAsy4w/eKX09d9Prps9hkrAdnKEMqV6UmI/N/Ez88du+vVE8EnapKRQvV5f38HVanVz0py2Vjayetro8/m1G78/vGFBWmywt1KlqWvnjIny86b1v5tj65QHgP3z8qLgJ8aHfLPvKgoJz0ywGU4sp7Ofdfxuy/MVMBg0Ir6P72RLXXdJXoNYKCOQsAM4Bce1xHbwD/YEADRU9WM814vlhbf6p3CwWb9H0+kBACFRzKAIK0YY3v7mArpLLshQ4GCYhvGeKxokhW2yajycMs+n/0D/VhGpOQCAQv7ZQv5Zy1q5VmJWYqqqsQUBYaHTAoZVqM/ftV5SWCnM7lY0SzR8lU6u0am0eo0TUx8QKdQ5VgONmjVzfG72L4hEIwAA4OHmorwjUc1q2nuCGdQuvpiIRZNw6IqWbn9PMqE/t2ur1HVwRDJFYoiPme7Zckw4FPpUXMpTcSllTSw/DzIZb1Mn1MLmMygEx1+/B48egDq+9cAHM4PC7Oy33EOM13PAIyxcPgYGh+7cdoXdLfRkkNc/N8Vgum6/aubchK5O/rafzysU6nETI557eebeHdm2DmHK4hVjy4patm25gEYjlq8ZN31OwmBm6MkgfffH2r9/u/T2S3tUKg3dg7Dsjhlx2viID79eueef63u3Z8PgUL8A+orHehc9BAJ25L88Vgdfq9F5eZPXPTs5fUJEv1V2pjFgbN7cbz06edn7O3adK3x8ZvKvR3N3nStQqjUAgFd/PQ6HQYOZtL3vrTY2/mDtjC/3XFr54S4yDr1x0bi56dEAAAaV8Ncby7ccznnhxyMqtdaTjH/Mtu22kYnxId9vXPDnqby/Tt+Cw6CBDIodH0BHQCPh215ftu1E3p8n83oEEgwKEexN6zf1Tb+n7Cz9nteKyQkbvj24ZGIc0saK0yDgsSRiR47VWM3qbOXGpwZ/sf0p0/JtX546vD375qWqaYtcHyrdQWKSAyEQSH1FR1cbj2Fbe+zBJAMAOBYqKE63EABgdBh2sJmDGPRekfF+z7+/0KmO9ykyjYiv6gYAyLVivqrbGzMQtbEe6AAADHSwFzrQspaCNI85B4X0/4MK7c+uRQ/0h9q+qhTmoGH4UMLoCEIqBo5HQjFZrK1KrU2Dy+HB2bk5ckEgFnEeHVHR7b9avCh91On86sy4kLhgb7lSjYLDAAAsnsiLQuCL5Tg0Eo2EV7exKQSsFxkvU6rlSnUHRzgqkGEqSF0vb2rvEYT7egAIMG2j1GiMY3KEUrlKrdXpA70oAICy5q7SJhYZjyHjMbbGP1dQu3R83HAKWFy5VKq2Hi0ihv4ghFZZv3HKemAlW8O8xcnzFlu31rVVBYFC1m6YvHbDXZPBaX2tnWyBRMM3f7rUshxPQJ+7+Z6tXnZmGBTi+fE3K61WpY4LSx0XZlk+NiN8rIXdSL9VdqZhf/J2uHtzr5kx2tR5zZtGzN7yvOHzcwvTjaGtrBIfytxjTfgI9aH/8MICy/L/PnzM9Osz89NMEwJmxAVlxFmJjWu/lx2IWPSrKya+umKi4wPaOuWpo8Omjg4DAJDxmIJtLxsKD3/8hCMztHVeBgzGW3PTom01cHZ/0DJIwZjMqMPbs7PPlt9DAcvTm5yYHlqYU/fbpyc++PUxqwaMAICk9NBzh27fulo9fUmf2/3WlWoAgDEqlYPNHCQhLRQAUHyjQaPRjljtlOvQH+/4UaLhJ1FnFPHOHW7/5umQ7weQDIeIoAMAfLARc5jPDsEkrVMlzK0U5lCQjPXBX2NNNhOzOrcO2xxs4dq5GbZKxRpzBy6ppv/tbz8PcgOLq9PpAQAwKPRGVQuTRmTSiHKlevelQo5Q+tKiCaduVUEhkEPZZRvnpbf1CE7kVU1NDDMzTL5R1bJpycT82ja5Ut3I4hrbmI6572pxhK9HbmXLq0smnC+sI+MxVa3sCbHBdsafNzba4DA0bPTIbG4xh1Ecdbx30w8u2O95cLhfs+w9eGTdqglm0uxEmc/pcHR/MNuGgDUqORBHQBfm1skk9zIw99NvzkEg4beuVn+4cUdHy12LSJVSU3qrUa3SAADGTR/lE0jPvVB57UypsUFNaduRHTkoNGLeql6x1cFmDhIY5pU2JbqjhfP7ZydVirsh/jRq7Y2LlVKxvdg59x153BN14tvhhJS5zI3jPJZwlR1nWNYlAIOxuVZvPeZhEC4eANAkKdHptUM3WzO6FU0AgEhimqkEw1OxlLp7rL4Crp4bExMGAGiVVpj9cHXIavrtC4NChVKFQYhBwmEed1xngr1pVa3s5HA/CARUt7J5YpkvnaTSaAEAqZH+YyL8zPbK4FCoRqstbWK1dPNN25iOqdPppyaGxwR4iWTKFjZ/UnxIfLA3APbGZ1AIw7wrJ1LZXPfIqPsvz6abkc/wqWfdWEWuVPNEstr2nkNXS997YrqtZhqd7gar1ZEB25t6WhvYfsEeTAubIRgMmjQu7HpWWd6VqklzEwAAeZer+FyJVKzoaOYAANidgr2/XcIR0Fg8OjSaafCeczkBoV7v/7Lm05f25F2pzrtSzfClkKh4sUDGZgk0au3+3HcQSDgcDnvnx0ffWvfX56/sPfTPdZ8AOq9HVHa7GQqBvPbVcqN1uYPNAADXs8okIrlUrDAE4mptYO/7/TKWgMYR0JFxfj6Bve+vL3+6hNMtOrX3Zu658uAoJhaP4naLWuq7pWLF9guv4wbnUTJy6FI0Xuj6FwsnzfN5EQCQ6flog6SomH8hFJ8UTTLPVkRFegMA6sS3Y0hWUi15ogMiiKk1orws1tbpjPVwaK/rn1avqRcXBOBGoWGuDwxmsHnnKNuMJUqt7FTnry4/0ABw7dx8MOEeKL8eZdtN7vGxtN7dgDLBlVZZpSPdBRJ5YqgPAKC5i1fc2ClXqpdPjM+uaFo8Lja3qjkhhDkpIfRmVQsWjaQTcd18sVWJZ05q1DeHrmm1OiQCLleqjG1MxwQmXv1jIvx+OZ7bwuaPjQpwZPxhQ6m1aaKHQwxVNHY3DzNuAeseU9PGfuGHIygkfO2slJljbPqGFLNZEpVDuSayz1pXXxlIzYy8nlWWfbbcIGD9/OFRgyOeAU6XcMdP5w2fl6wd/+Trsx0+D+cYnRH+19lNR//NuX29pqudx+kSEUiYkChmYlooBtdrMBsYzthy+IV9v1++daW6sYqFJ2HGTYtZ/lRmqEksOMebfbFpn05719G1o5nz74/nDJ8NGW8Mnwkk7Le7nzm9/9aVUyWVRS0atZZCx0cnBqRPi7lfYlwBAK50787jHDcrHO+xPJQwGgCg1ikPt32j1avn+7xg2IGCQmCLfF/Z2vDyyc5ffLDhJEQfs+t4yuRszoFSweUeZRsd5avWKZVaqWnMz/k+L+5Wv3+bd6ZKdIOBDkbBMGI1l61sVWplL4b/ORQCViRx7GX2rjrx7X+b3mKggyUaQZOkhIpi+uNiWqV94gZVCnMUWolCJ+1SNAEAOMr26z3/oaE4FAzrgwmnofqxxRzSuTnIXJ8Xdja/c471V4XgOhnpxVV2dCuaEihTi/n95Ht5bGofS4Av1vU+zjNGRwAAksN9AQBJoT4JwUwAAVAIJDbIuvo8wtfjzRWTADAPuxPIoBrHfHFhBgBg6fg4AACTRkyN9Dd4R/l5kPsdf9jQ6GxuXyFh7p9CF/D3/o33egojC/dddY9JCPW5fsfWzQ7ZDu8PrtwwaeUGm0kopyxImmKSR3PXlbdstTTFL9jjTNXnDk7AQSg0/NpXZqx9xWZMCgAAzZO48b0FG9+zYsbnbLNT5Z86ODEEEr5gTfqCNfaMDofigrgQq/GWpBqB4UMWaxtH2Z5EnRFOGGOspaP8pno9kcXaeqTtu8eDPjONuYCHU54I+vxS906WvKFb0YSBEbwxfYzbMDDC2uAvC3hZ5cJrbbIqrV6Dh1P8sdGRxLGW/oAuAQsnPR702aXunW2y6nZZLRFBS6BMnei5MpdzxEyIOdT+td4k1jZX2XG5e5fhsyFHzT2cm4P4YSPXBn1xmb27TVrFVrZ4Y0JXB35EQND6FbAcpN+gdMBCtOoXo++5g+MPD3q3fZCb4QViGrrUzYhl6fE9t7vMI7jAIJCGpzbdk/m4cePGzf3FxdaG9VmHrVaVPvHiyMmW6OaBwW3kfh8gVauK2Y4FjnLjxo0bN27cjAAe9i1CnkJexO6s5vY0CHhtYiFbJuEr5AqtRqPTwaFQJAxGQKKoaIwXFh9IpIRSaPEe3pE0D8sMOUOHQKk4UldpGSh/JKPT62t4PXms9gouu0XEbxeLpGqVIQINFo4gotC+BGIAkRzv4Z3M8AkfqQ7SFRx2dkdzLZ9Ty+Nw5DKJWiVTq1AwOBaBJKPQ/kRSIJESRfNIZvgGkUZoSPd7RatIcKWtqaSnq57PYUnFUrVaoVFjEAgCAuVHIIWQqckM3wzfAC+syxI2PIS470/HkapV3VJJLc/RfC9uHMG9zveLvS1Crlw2eucvluVbps53KvXBLVb78hN7rVZFUOlnl651fCgAwPITe2+xzE1MXknOeDHJUZ98jU6X29lyubXxantzo8ChDOGmEJGoSf7BC0OjM/2DXS5n6fT6ZiG/ktdTxWVXcdlVvB4Hg4sOgPzVz3lgXWyAXMvnHKgpP1ZfybYdcsaMQCJlbkjE6uhEBm5Ifm7H7fmjQyIyLcHAEVXrXrLVXqBUbC8vOFBTbtbLDjQMdrJ/yKyg8AyfACTsQQugteLEvjxWm1nh7TXP0THmN49GpzveUPVPWUEZpxv0BwSANKb/6uiEWcERLnmOnr944mRDtWX5ZP/gv2cuccURwNW2psfPHLRaNeA9pvvl/vwm//qWopsD6wsAOL3k8Wha/0H8B4xGp+uRS7ulki6puFsm6ZJKuqWSbpmkSyrukkpsxRcdDBQ0puix/s1nbTHCr6d93Ou8g8+RPQ0WDYP1xhMsf+CruGynBKzb3TbTr9bxuRKVCo9EOj5aFddK5uZ4D4cCChSzWf/VlJ1pquUrzPPKOY5IpTxWX3WsviqQSNmUkjE3JHLAQwEAJCpVFY9dxe2p4rIreT21PI5cYz3g0Ainhsf5viDnbFOtszZ9zSL+lqKbf5TkLwmPeS1lPA0zkDQ+TiHXqAVKhWXkG61e/1tx3m/Fec4ux1y57EBN2YGastfHjH8uYazrZjpyqeL2jPftI2Dldra+k33e8TcWPQC5na25na2xdK/306ckM1zv0Hef4r4/neKZc0cL2Z1cuUznticeetzrvFPPUT9bhPEe3lYFLKemlW9hnW1Ep9cXsTsdT7TeKhKIrQWLi7UrYKl12iN1lf+UFzo7c/s0i/jPXzxxoLb8+0mzqegB3i7v5148VFvuwlkNPyqt9sfC3D9Kbg1mH1Ot0+6rLj3dWPNO2qTlEf0kAx48LInI7MFrFwtfuHiyiN05mGEn+QUPbl73DZVctvGx1en1X+df/604b2BDlXG6V5zY+3xi2v9Gp4/MfHDDj/v+dJw6AddOiHY3rsK9zhtx/Dnqx8g9zsNKhqYqnhUdki30ABR22zuZQmdOtdKahORHIFHRNlOKilTKjD1bX7+a5VrpysjVtqZFR3cP3UbeCKdLKllybPcvRTddYiUmUilfv5q16coZlXZow4KzpH2SEFfzehYf2z3Ip84bR4i6d0r7YcaoSNbodBvOHxuwdGVAq9f/WJj7wsUTat3whYMfybjvTzcjCvc6b8Sp56gfASuWbkUzxJKIhUpH04bU8jj2GxfZFb/MqLAmJNnfHyQiURFUD8cPMQBaRII1pw8MxTb/CKea1zPvyA5HDG6c4mBt+fqzh4d0q5Rlsu9ezulefnyv48YEtpjk/wCqB2xRxWMDAHR6/UuXT51rrnPJmKcaa549f0zr3uhx359uRhLudd4Up56jfjVY1mWXaoeVWAXdNvcHDRSxWY4vqJUcKwJWnGc/AYI3JIyx38ASDBzhlKtgvYD78Y3Lzh7lvqZewF118j/HlfNoONzxS3q9vfnpc0eHzneyU9qrcWRJxOuyDtlJUuY4UwKcyy19X9Mg4Km02p+Lbli1KzcFBYM7blh9oaXh4xuXBj27+54ReH/G0L2mBYYmM3yCyVQKGuPezB0k98v1dK/zZjj1HPVjg0VCoQOI5BaRwKy8ktuT6u3nyAEsw2OaIVQqGgW8ELJDEZ8ruFaE6H4t3NOZ/nEejNKeLqu1dAwu3oMRQ/eMoXuFkKlkFJqMwsChUACARKViyyRFbFZ+V/uJhmr7Oqr91aWroxNG0a1sqtphgm8gqT/no3oB71p7k2U5BIC1o0ZbljsIdhDpt7hy2ZpTB3gKm/lroRDIWG+/sUz/sUw/wx4uCgbXAyBUKnhyWRGbldvZerm10c4I19ubP8i9+EnGtAFP0g5dUjEAQK5Rr806ZPWdBgGFxdA9Y+kMPyLJE4tD35k8XyGv43OreT21fI7puoCCwdOZ/kMx1ZGJRqf7pejmlqIbZuUwCCTe03uCb2C6TwATR6CgMTgEEgCg0Ggahbz8rvbTjbWWPommbC8vTGP6zwgMG8LZj3hG4P05Kyh8VlC48atOrzccjqeQ8xVyvlLOU8ibhLz91WWDOcoAWBoew5E5lEi7TSw831JvterR6AQU1Dn/ysGsn2AEX09T3Ov8IJ+j/uNgxXkwLAUsx+2Z8rv6uBDCoVA4FKrQ9Em6WcTudETA4inkXX23VAEAUAjEEZnm6fgxz1/ok50tiuY5NSBkakBonAfDlryNRyLxSGowmbokPGbz2Mx/K4p+KMixJW7rAdhamv/T5Ln9TsaUBaFRC0Kt5w00cqSu0qqABYVA3kuf7NThXIJGp9t48ThLat3sDAaBzA+Nej4xzfJvCgGAjEKTUWjDJZVr1NvLC/8ouSWwsYm8q7J4nE+A6TLkKjolYgDAJzevWOpikxk+q6MTpvqH2nduFamU19ubL7c2ZjXXSlSqdB9/DPzhyhf7Y2GuWckk/+C3UzPDKOZZxgEAaDg8muYZTfN8PCaptKfrvZwLdmLnvnXtXArD145h5QPPyL8/oRAIBY2hoDGm+yU1PM7wCwSO+0VebG2wJWC9MWbCvY3kPnKupxH3Og8G/Rw5JGCdsNgFcHCLkC2TtomFZqN5YfFnmmpNCwu7O5eGj+p3tApre8DBJKrhFdk+s4LCDao4KhqzNHzUI1HxzgYNIyBRzyeOHe8T8OS5I7b0pacbaz7NmEZ40FMubCvNv9lpXQlBRqG3TJ2f4RPgyDgYOOLZhNQFoVFPnDlUy7ceA3Dz9fNpTH9LV9tBwpKIL7Y27K4sNi0MIlE+GjfVQZ9WIhI1JzhiTnDEx5qpZ5pqKaiHVxoAAMCh0O8nzZnnWMiSOA/GwfmrPsi9uKvv9TfCU8h+Lsx9P32KK6d4X+G+P93cc9zrPBj0c9R/qhyrZli1fI4jtqhm6isAQCydYTmgfTdDI1ZdCOM9HYqABYNANo/N/GHynJuPPvv22MwBhzaO9/T+fdoCONT6ddPodFfbrKiaHiTaxEJL1YUBBg5/fNEaB586I0w88dCCVbaC5vEUsl8HEY7PFi0i/oZzx0xL5odGnVryuOMRQ4xg4IjFYTEPswUxHArdMmWeg9KVscsnGdNWRcXbarCzsri977vZQ4X7/nRzb3Gv82YM7DnqX8AaRfeytL9TaDTNQn6/fQssDLBG0T3jLWzSa/kcR1zwrLoQ2jLDt2R6YNjC0OjBB9oe7eWzId6m1bydoF8PBl/duma2w2sAAYX9Nm2BP5E8gDEJSNQPk+fY+tP8W1HEkbs4zo0eANOIAKui4n+cPBf7kO3xuYqXRo+bOSD1/ofjpsTa2N/X6HT/VhQNbl73Me770829xb3Ou4T+BSwcAhlMsmIg5YgZ1m0LF8JRdK84urnNk06vdySZsVUXwniPflwIh4J1scm2NmKtmuE/MDQKeKcaa6xWbUrJSPRkDnjkcAp9Y6J1WwqlVjOkhggTfIM+zpg2Qn14Rjx+BJKd9w37IKCwT8dPt3Xl/6sps7rEP2y47083w4x7nXcV/QtYwMY2XL/hRmUatdmmHhIGC6PQ8UhksIVZXL+7hAqNpklonoUDDoVG0YY2xpVVqGjMRL8gq1Vtogd5X+PPsttW81F4YHFPjEoa5OCroxIQNhx59lWXDnJwW5BQ6G8zZ9n3K1634pc9/1x3duSB9XKEvduzH13ww+zxnz6+5GeF3GVRZPb8c33dCiu5R+3zTPwYWzvmjhDnwZgaGGq1SqhUXLXm2/FQ4cj96caNa3k41/mhwKGV0Wq40X41WMVslpnDXSTVw7AWW6qd+g2uWs3rsbT6iqR6oGD92+kPBWMYvlbLe+TSBzVSolKrsRX06Om4lMH/IWgY7Iwg6875bWKh46HXnOL5xLEuz3g9pJQVtWz/49LTL0zbtufZ199fiMbcy20jFAzerw9sv6yzHWrkTGOtraqHhPvu/nRzv+Ne512IQwKWVTsnq0mXTbG0cDfGU7AcsKi/LUKrLoSOG2C5HFuxIXR6veL+zNbcLxdbGqwGaoMAsCgs2iWHmGDb9vBya6NLDmEKCYVeE53o8mGHlOqKDh8/2sSpMT5+1Jg4h2LRDR2p3n6D95lN9fbzwuKtVlmNTvLwcD/en27ud9zrvAtxSMCKoXta7gKwpGJbYS0MWIYYNQollnuOfIW8ya7VvI0kOffAAMsAybZDqVL7YBqOXLbhIBnnwaBjXPNyYEdi7lcEHwALQqPQcIdeyCAD0i0PrJd9BAIZBtt/XJKB4PxkM3yd8ySyChQCyfS3vuHOU8gbBeaGAQ8Pjt+fbty4iod5nXc5Dh0VBYOHUeiWe4LV3J6xTOvv0Dq93nLXzyhgRdM84VCo2QZiYXennegJNlwInQub7kLIaJsCllb3YG4RXrehTsh0OLV4v4RR6CgY3KqEWsaxHoh/MEwLsG79Y4lCofpk88G8nDo0GjFvSfKaJzMNslNHG2/nn1dLi1qEfCnNgzB7QdLKxzPs96qvYT33+Lbfdz4THNZ79zbWdW9Y88cv258Ki7T3wvDW/3ZXlbfLpEoAwPSxHwEAJs+IffPDRYbaI/vzjv13i90t9PImL1udPnvBXVMJW1V6Pdj119UTh27L5arUcWE+fg5lUzAlwUVvOGlMf1v2rYXsTkuTzYcEx+9PN25cxcO8zrscR8W6eA+GpYBVxbMpYFXzeiSqPpEX4FBo5J2kyygYPJLqUd5316+Q3bkkPMbqaFq9vsZiaxYNh4dR6A7O3+XYMtN7UOmUiCzD6BuIdJ2fAQwCoWIwLImV2MFdErFKqx18lA0jcCh0jLd1QzpLju6/9eQLUx9/OrOyrP2nL08xmJTpc+IBABgsku5JePujxVQ6vryk7btPj4eEM1LSQu30Co3wjhrle+pIwQuvzzY0O3eqOCDYw750BQD44MvlOr1+x9YrJQXN3/7xBAAADu+9GscP5u/YduX5TbMjophVFR1bvjmt1ejmLUm2X3X+dMm+f7NffH1OdJxvQV7jX79c8GCQnLqGEVTXPIB2kjHU8bkuOcR9h1P3p5thQKXRQiAA0XcJ0un1xjBGApkCBoUQ0PdxoOmHfJ13OY66/9gww7Jp5265PxhGoZteNafCjTYKeJYO2zE0r8G4L7lxikrbJncDjtpqFVsJK/QA2EraMDBCyTTHDTYTxwTPW5zsF0CfMTdh0vRRxw/mG8qpNPyTG6eOSvBn+lKnz4kPCvWqq2H122v+0pQLWaVyuQoAoNXqLp0tnz7bZshNIyg0AoNBwuEwCBSCwSAxGCQC0ftA7f772vLV46bMjPUNoE2bHbd0Vdruv6/1W3XiUH7m9FEz5iX4BdAXLh+TkGx9n84WFDTGzka5UwSRqLbeWBoED6mA5dT96cYl/Jdferq0BgCw5eKNvEbzIOanSqsvV5tbCH179rppg427joH7mYd8nXc5jgoosdYELDsG/9ZiuPd5SbU0n6rl9dgKN2o9hvu9s3B/CLHUIBoJGFDQOVvYMZp2bRg6p9YL/8C7qprgMEZHW++vvlyu2vXXtefX/rls5jdLpn/dVN+tUmj67TVxSjQKhbh8rhwAcCu3TiSUTZkZN+ATEQpkfJ40IvpucJqIaCaPK+FyxHaqAADtrdyQsLsPUUCwc2+otizTBwAMAvHBE61WtT2s8dxd+3vmxhGaOYLyjm4AwK2mNrZIAgBo4wnOVdQJZL3WxlKl6kJlPVvcq+PJrmuZFBli7P7o2AQ04u5vOUsgPldRx5G4OHjmkPKQr/Mux1HJLorqgYTBVFqtaWENj6PV663GlrAaYtT0q6Wdu1avL+3pSrOWqtq6C6FjSXIcRKHRNIv4rSIBWyZlyyRCpVKiVknVKrlGrdRqFBqNQqNRajUKrUap0Sq1mgfVVdAWHRKRraqov38YnjnIXRp20gvnhHygN7Wr0+uN1utff3ispann5bfnhkUyUSj4c49tdaQXHAGbtSDx1JGC2QuSLpwuHZ0aQqUPXFhRKtQAAL1JcBDDRxQKYTDYslpl+Gr67Bo3HB3EtW7P3nhCs8iKmwtHLnPhUe4jnLo/3bgErU6nB4AnlZGxGABATVfPX9dvL0yM3nz47NfLZwMALlY1rEqNf+NA1m9rFqIRcDIW/U3Wte3rl1kO1cEX/XA+e2ly7DuHz3+9fNb9sm/4kK/zLsdRAQsOhUZRPUp6+higKbWaJiEvlEwza8ySiC23V80ErDAKHQNHyPuKKYXdnVYFLBsarMEa2NbwONkdzUXdnSU9Xe1i4YNpmu4iulyqth0Yro3rbUtHbZXW5rs5Shvquoz24Pk36tY/P3VUvD8AQK3Wsjr5jvQCAMxbnLx/R055SevN7NrX3184oDPoxcOLRKbgaio7R6f2vkzXVHZ4eBHxBDQOj7ZVBQBg+lIb6+6+urQ2Wc/DagvXJjW3leeVr5Cbmrk8PDh1f7pxFRQs5lptc5wvAwBwsarhkdT4RH9mQw+voLkDADAjJiw9NKCgpaOmqyfez3uUjxfSxmvJlZpGkUJ5vqKOL5NXsXrGBN0f5nQPzzrfwOIKJPIofy8syjyUYEVLt78nmYBxwQPoxN5knIe3mYAFAKjm9lgKWJb7gzAIxCzkOgwCGUX3MmtpK9yopYBFQKICB6r6q+VzDtVWHG+osmpk58YqI0GRoNPr+m/kME5tzBffbjp+MD8pJbiirO3K+YoX35hjKGf4UAryGsdPipJLVf9uvazR6BzpBQCgexLTJkT89v1ZFBqRNiFiMCcCgYBVa8dv/+Oylzc5IopZXdlxaO/N516eab8KADB3cfKWr0/HJgZEj/ItLW4put1IoTnxtodxqeezLXMunV4v16hxiKGJTDGCcRtg3RNifRm/X7m5cXIaRyzFo5AShQoAIFYocSgERwJkKjUAQKZUY5D9BPjFIhGzYyMWJLomcNSw8fCs80eyy6ePDv/u4NWXFo+HQqFypbqDIxwVyFCqNXKlGgWHAQBYPJE3lShVqLQ6HRGLrm5jU/BYL4oTi6RTApYVT59Kbs/ckEizQsv9wXCqh2XyvgRPbzMBq7DbSgwMllTMU8gtJmOe0NARCrs7fyzMvWojzocbO8gfuC1Rp5Qir72/4Or5im1bLqDRiOVrxk2fk2Ao3/TOgh+/PPXYop/IVNyyR9OpdIIjvQwsWJry+vM75ywajUQO9qd04fIxMDh057Yr7G6hJ4O8/rkpM+Yl9Fs1c25CVyd/28/nFQr1uIkRz708c++ObMcP6loXEzt+Q0qt5iEUsB5Cpd1IYJSPl1anN/y+LkqK+eDYxey6ZqlKlejv08IVFLR0NHH4PWJpuBe9Syjed6u0sYf/w/mcR8cmKDWag7fLDV8fS0+aFRvx9uGzZe1dcrXm/flTbCm6RhoPzzoPg0Ligr3lKnVBXTuVgD15s2pqUhgEAoHBoDerWpg0IpNGPHOrelFG7IkblbPHRJ6+VQWBQA7Xlz03L52Mxzh4dCdWdht27lY27/ItXAhHe1lJD5lkUchTyJpF/EBiH9WU1f1BZ2O4C5WKj25cOlxb4d4HHBjKvuZ3DxV/798IAMjItJITJiKa+eu/Tznby4AhXug0B/wHTVm/ccp6MMWyfN7i5HmLk612sVUFgULWbpi8dsNkY8m0Oc5NxoXYiXvyMN97boaTt+ZkAgD2PrMSAJAU4AMA+HbFbKVGg4LDAQCLkmIWJcWoNFqDtMQgEV6aNu6laeOM3c2+frdijkKtQcJh95Gs/LA9awKJ3IOEBwCkRvqnRPgBAJBwmAep17p01pjI8wW1fLGMTsJVtbK9qQQfOkmlceISOfEOGkahYy20UDU8c7sNqVpl6YmQzPCxHNBSwAIAFFkosSo4gxWwKjjsOYd3HBqEdAUBAANHUNEYHzwxjEKL92Dcwyw99wS17uF68IaBy+fKA4I8omPvD+MMS1wbT1dvO4MnZAAx5t24cRGovlvhTumi0Aj4fSRdgYdpnVdptH9l3arv4CSG+gAAINDeP1NzF6+4ofPs7RqpQuVNJda0sWMCGQCASfGhAokC6AGd6IRzjxMaLBgEEk33NAtw1SkRyTRqU8GriM2yTMSd7GVFwPLC4r3xBDNDqCJ2p1nCI6vRthyP0VDMZq05fUBsLbmSGSgYPJJKj6J5BhDJfkSyBwZLw2AJSBQBicLAEWZPSQ2PM+PgPw7O4QEAbWMnGwaBYIdr+wb+QAR3VcjVfJ6ksa771JGCVzbPv9fTGTgal67FKtujoVwXdXCQaFxqHeLGzUjj4Vnn31gxyfg5Nuiuw1wgg/r5+tnGr++unmb4kBTmkxDCBBDn9u6dM/6I82CYCVh6ABoEPNMYVyUWuYS8sHhfgvUI0UmezFOSGtOSYovultG2aBgs00bUHDNYEvG6rMP2pStPLG5eSNT0wNBET6YLA8g+YNgyFYykeZxa/PgwT+a+pr6WtfmlPUgUfMVjGZOmj7rX0xk4KpfuJthxHRo5T6X6IdtAcfOw4V7n7QCFOq2MdFrAsiys43NMBaxSC0/D0db2Bw0keTFPNfYRsCq5bKVWY/wzKzSaFpHArJfj6qtXr5zmKWy6RXhicZtSxi8Oi3FHhO8XW86uUtWDZhQ51IyK9z92+c17PQsXIHJAK+w4QpX1zPFwKHTYXp375WGzUHHzsOFe512LkwIW3aqA1SeXRalFskar+4MGLM2wNDpdBYdtLK8XcC03HOMci4B1trkut7PVVm2Cp/e26YtcGyzxAYaBJ1gt5yjupzjFblyIUGldJBoYfAtPYQNUNGbk2LDYmqQbNw8G7nXetTinuQkiUy2jC9abCFg8hcwyuJQdDdYoupel/t90l7DeWiYyBzVY20rzbVXFeTD2z1s5GOnq4TEGNMDEWX/wJCqVI/Ztbh48XBuT0FYIaTpmBL0C2VGHu3HzAOBe512LcwIWxFree1MNVgnbXH2FgSNiaJ62BkRAYTE08wFNNxnN1GMGHPHg65CILBNOG0DD4d9PmjPIOH4P27tsKMU8nKwRq38jNw88HLnMVa8ZKq2WLZVYrXJtBrRB8tAmRnTzkOBe512L07ZHltqjVrFAqe01ULXcH4zzYNi3cEr0Mt/vKzMZpFHAM6v1wRNpGGy/87zW3myral5IVAiZaqvWQSxjnz7YWArWRsos/uhuHCSvsGnC/K/f/eKY413qGtmzVv706vsHhm5WDqLT6xsFVrIHDoBaPkdrI0yD44+qrZ1EjeviSTQLBa4ayo2bEYh7nXctTmtxLMON6vT6JiE/kuoBACi10GBZjYBlSpKXz99lBaYlTUK+VK0yxG5uFJoLWA4GoLIa3MHAfIvQ8wOANQJyNg0nYRQ6DoGUqlWWVTkdrY/HJA3/lFzLgsd+5Qvs2Rmc2PU8iehoAF8D1fVdB44XlFa08/hSJBJGIeP8mJS0lJAp4yMJeOuZYRwBAgFYjGvsvtkcMRGPRqP7yfthiyoeO4JKH/w0yqxlczcQTnF0fFuhSl21taHR6aqsxVV24+aB4YFf54cZpwUsq/JNm0hoELDKLRZKOxbuBkZ7mtu56/T6Ci57DMNXp9dbvjI6KGC1WvgeGkm0OOIAuGnbfP6BBAaBZPgEnG2us6zK6WiRa9SWqZDuL6LDvUXiXq0kjy/t6BJQKTgfBtnYAA53Tt177krlZ9+f1un1JCImOJAul6vZHHF7Jz+voCk9JWTAAlZYsOfpvS8OrK8Zao129bN/vfvqnPFjwwY2wu2ujoWhLsi2dsP202THgtMMW+GyRDb8E52lkst2bRpaN25GGg/8Oj/MOC1g+RFIVDTGbIPMYJrAV8i7ZX0MKSA2wrWb4o0neGHxZh2ruOwxDF+WVGzcfDQS7+mQC6HEmgwOAMDCEXjkYN/+1TrtLZZ5Quuhw1ZkM51er7e9M+JypgaEWH3wpGrV6cbaJeExwzWRIeHzdxYZPx87U/ztb+czUkM3PTd9YKMpFOrvfjsPIGDzS7OnZUYb/oI6vb6ssqO5leNJt25JOsyUV3UolIPyvs7paBn8NDQ6na30oAwc3sexiHcAADLaun6xUyLW6HSDD8Vyua1xkCO4cTPyebDX+WFmIIvOKItgDW1iAQCgyiIiaBiFTkL1/6ZuKYRVc3sAAE1CcwsPCACxtjeJTdHorMdctvSCHACXWhtlw5gU01agRb3rtj8cYUZQuK3Xlz9KbrmTPJpS29gtk6vion1nTIoxysdQCCQ+xnfBrIR7OrW73CpsHuQITUK+1UxWTnGlrclWxIdMv2DHx/HCWs9yL9eoa/nmGb0GwPH6qsEP4sbNCMe9zruQgXjSxXsyrrX3eeM0aLAMUpEpVnM8W5LoxTzTVGtaYpDVWiwELKtxIqyChls/tcFHR9QD8P3tnEEO4hR424EWu6USW6HhXA4RiVoQGrWvutSyqpbP2V9dujIybnhmMvJBIZ1QpMNg0A4Wf+uO64VlrVKp0oNOmJAWtm7VOAz67t9dKJLPW73F+DU2yueXL1dZDtXazlv93F/PPDbh0aWpx8+WHD1d3NbBQyLhQQH0VzdMCwqgAwBuFjQdOlFQ38Tm8qUAgM2fHTUd4fKRV2EwJ9679laXfJIxzfH2lvxbUWiralZQuOPjBJIotqpustqibfsyO0JOR0uDhcONGzcPHu513oUMRINlGW7UIGBZarD6tXA3kGRhFFXL4+gBaB5EDHdb4XPkGjVHPqiYaUfrKi2z9wwpXjjrr+YAgMLuzuGcybrY0bb2Kz+9ecWO3dvDRoAfFYNGlla2F5e39duYL5A+s2lXcUV7Yqx/ckKAQCjff/T2W58cMW2DxSLffWXOi09Nnj8zvt8BuXzJz39e+nHrRRIRk5Ea6sMgl1d1UCm9TwQcDg0N8pw5eVSQPx0AMCEt/NElqcZ/ECfTQRyoKR+Mw8etrvbrNhx+6RjcOJ8Ax4eKonnYqtpXZeXXwnH0AHydf30wI7hxcx/hXuddxUA0WHGeFgKWyKDBMt8scNBANdbDCw6Fmm7qyTTqDrHQMkmOgzHcAQCBtsPn5Ha0zg+NcnAcMyq57Heyzw+s74AJIJLNro+RrObaFZGxwzaTcAp9cVjMwdpyyyqxSrku6/B/81dS0f0H0XjgQaMQax9J//WfK6+8+9+8GfFL5ib5+9oMN1BU1paRGvrBa/OQSDgAoIstXPviv4WlrRU1nTERve8eCDhsWmY0AKCukX08q8T+0S9l1+CxqN2/rWd49uYA5fAkRhfI5PiA5PgAAACbK25q5cyYFD1gI3cAgFKreTf7/J8zFg+s73vZF2zVroqKc8pwyguL9yOQrIaqquVzLrU2TvZ3YsPRlD9L8y1zpLpx86DiXuddxUA0WF5YvGffGOgyjbpHJq3rG3WdhsEGEm0q7U1BweCWwUgbBDxLSdlxDVa8bVFsR2WRg4OY0S4Wrss6ZNWFdUhBweChZOvx3660NlbaDkgxFGxKGW9rl7ZewF12fK+l5dyAEauUe6pKDtSUuWrA4WTlopTn109CIOBHThetfu6vDZt2nblYrtFakZJhMOhrz88wSFcAAIYnacr4SABATf0AA8/w+NJXn5tulK4AAHSqTSXo4LnQ0vBjYa6zvfQAvH39vC1lMBoOXx2d6OyYE/yCbFW9eS1rYLHrzrfUf3nr2gA6unFz/+Je513CAD1rLGMlXGtvMvNhHt1fgAZTLO3c6wVcs5dROBTquCHFWKafrbg4t7s6BvC3vNDSMPfwji4b8aaHmvG+gVbL9QA8f/GERDV8Mh8Dh/9o3FRbtQ0C3tzDO/4uL7DlZOAICo3mSlvTi5dOJu/89e3r52rv2wjCyxckH/jr6WefmOjvS62sZX3+45k1z/5VUWO+qxsW7Ekh9Xkd9PQgAgAk0gH+WXFYZGKs38D6Dozvb+d8kXfVVrBQSzQ63dvXzh6y9opsYN2oZE/nM1kttK2ZZsuka7MOOWUeoAfgn/LCZ88fG8zN7MbN/Yh7nXcJA0wXE+fhfaGlwbRkX7W5yOKgAZaBRE/mP6CPreuZplozXVEYhW7LdN0SAhI1yT/4nDV3UwDAW9fPQSFQBz1Om0X834rz9luc4HAyNzjCVmrFRgFv4dFdv0yd75KQj46wKCw6p6PFqgIZACBVqz7KvfRX6e3V0QnzQiJ9CSSrzSx7VXF7bnS25nS2FHZ3qrQPSKpHIgHzyOIxjyweU1ze9s/enKKytk3vH9jz+5MU8l3pwVK9BDMYQjksr5hhqrsaNn4vuZXb2fpW6sQ0pr/9lmWc7neyz5fY3nRj4PDPJaQOYA4pDN9IqoctrVgJm7XgyK730idPDwzr19DsRmfrd7dz8ruGLxqLGzcjCvc6b+CHS7kKtfqlyePQCKflpQELWOYaLMuVqN8Qo6ZYarAsMwk6vj9o4Mm4ZFsClkane/XK6eMNVetGjc7wDYRZM+hjy6S3WG2nm2qzmmp1Fj91CZ7ePnjiqcYap6Y0YOI9veM9vW39JtULuLMObZ8aEDonOCLJi+mNIxiNVzQ6nUilFCoVXLmsRy5lyyQsibhDIkLDEV9PnDng+XwxYUaXVJxtOwxSh0T05a1rX966FkSixHkwgslUbxwBj0AiYDClRiNRq2RqtUSt6pZJGgW8RgHPLBDag0fCKL8fP1359qdHsvPqT5wtfWxFmrHKKa89R3A2JurAiKF7msVoKO3peuTk/nAKfXZweArDN4RM88LhDY+WSqttEvJvd7WfaqzJ7S9I79cTZw04WN0ryeOePnfUVm2HRPTMuaORVI+ZQeHpTP9QCpWEwhgef7VO2ykR1/I4Bd0dZ5vrrO6ArIlOPNNUO0gvmfsdjU4nUavEKqXhn+jOB7FKZcf8+a+ygkAimYBEEZBIAhKFR6J6PyNQBCTKViSah4GRfD3d6zwA4FhpJQaBeHPGxAH0dZmAZQYSBov1cChglQFfAskDi+uR2Vu5HIzhbmQMw3dGYJjVmGkGrrY1XW1rwsARMXRPJp5IQKL0er1QqRAoFR1iUbPI5h5zEIny98wl+V3twyZgAQDeGDNh1cn9tmp1ev255jqjQImBIyAAqHRaWyrcqMF5rcOh0D+mL3zy7BE7MbgNNAn5Ltytv9+ZOiEqO6++rfNBuCBbpsx/N/u85eJby+fUFvTGnYJCIGgYXAf0jsdAfz5xrK0NcUeYHhg2xT/kYmuDnTbVvJ5qXs8PBTkAAAgAWARSrdP2+zKdzPD5YNyUdonwcutDFHH0lcune+RSscmvvnxAIQDtbAcDABBQGAGJIiJR+F5xAflsfGq/QarvR+6v6+le5wEAHIlsQdwAveIGKGBR0RgfPLFDIrLVIM6DYcsEyhaJnkxbCicDduzWbfFJxrRCdqd9uU2uUd/u6gDAXGFmC18CacfsZVQ0JtXbDwLAsAVeS2f6PxIZt9daeBJLBvbQOgUOgfx31tKXL58aTinzfqeHKwYAEPDDFLrMPigkHACgUg9QSy9QyrdMnb/8+F47YTx1er1TIXnnhUS+mjJ+YPMx8uXEGQuO7LKzOpmiB8ARtxU/AumXqfNhEEg0zfOhErCymmqHIaiyWqflKWQ8hcxYMj8k6oEUsO676+le56lYjK2gFf0y8K0E+/okp/YHDdj/86Ng8AHYGHlgcX/PXOKS6O0Gwin0QwtW+RFIAAAyCj1IPZCzfDBuyljmsBov2wcJg/0ydf776VMeZg2/VW6XtFy7UadQ9FlJi8vbdh64CQCYmB5xj+bVBx9vMgDg5u0BigscuYyMQu+bt8JVT8HS8FE/TJ47+NRPdAzu39lLB2Ajbwsmnrh7znJDpPhhfuTduLnnPOTr/IzosJvNbY578JgyQA0WACDOg2EWft0Ux1O0GrEMN2pKNM1zYNnEYuleB+ev2njheL1gsE4K80IiPx8/w9Q6JI3pP5xRElAw+N8zl7x06ZR9Vd8ws3ZU0jgf/w9zL7kkM50ZFDQmhn7//aRVVnf+uTsbAYd5eRI9aHidTt/dI+piiwAAa5aNjY/xdXbAnFsNfIFUKlO2dfABAF09oh37b+BwKBwWGR7iFRxgM8amHWZOHrXrQN7ZyxXNbRx/X5pSqZZIlT98ssLB7jy5HABARWMPzn/krevnBpNJBg6FvpqcsSEh1VWJNUPJtMMLHn363NHBP56p3n6/TZtvjPoTTR3IpXbj5n7noV3nX54yrqSd9eHJi2/MmIBz0jZ0UAKWnVqnYjQYsAw3akq8RXRTx4mg0k8sXvNR7qX9NWWW5uqO4I0nvJ4yYVFYtFl5GtP/r7LbA57YAMDCEX9MX7i7svirW9cGn/bHVYRT6LvnLL/Y2vBH8a1brnC8gkIg43wCVkTETg8Mux9fm8aPDevmiCprWF1sUWeXAAaF0qi4yeMjF8xMGFgAhe9+O9fDvWsf2sMR/7k72/B5xcKUjesyBzAmjYL7+fOV23Zer2nobmjqIRAwESFOrHHGDQgcAvnT5LnTAkI/y7vCkjgd1T3Ji/lB+hRnLSz7xZdAOrZo9S9FedtK8wcWu46EQr+SPG51dKKpE0wgiYKBI4ZhC96Nm5HGw7nOF7R2Lkka9eOl3HNVdXE+DG8SEW6R7uLd2ZOt9h2UgGXLAimIRKHayGxvBwwcEUX1KON0W62NtcjP4+zgn0+Y8UzCmL9KCw7Vlju+Cx7vwVgaMWp5RCwKZuVapXr7wiCQgSkPBwwEgNXRCQtCo3ZVFv9XU+asaSEMAgmj0KcHhLp8YlP8Q6b4h1Rw2EfrK7Oaaq3G1LaPN46Q7hOQ4ROQ4RPg4botHmdZMCthkCmZgwLor22c0W+z1KSga8dfsyx/dGnqo0v7xCk49M+zjhzX35dqdUBbhAZ5fvneEsfbm2Im388LiZwWEHqwtnxnZVENr//kyhAAxvsGrYlJmDYEt6IBBBT20uj0NdEJe6pKDtSWO57iI5BIeTQ6fnlErGWueigEEkGluwO7u3loeWDWeQd5ctdh4+dr9c1W29gSsCD64RUORgJyjbqwuzO/q6OI3dktlQiVCqFSodRqUDA4Go6gojG+BGIgiZLoyUxh+DDxxHs9336o43NvdLZWcLsbBLwuqYSvkCu1Gp1ej4TBUDA4EYnywOI8sXg/AimETA0l06JoHjjb2aNdSLOIX9TNKuvpahEJOiQijlwm16gVGjUMCsUhkDgEEodAUNCYICIlmEwNJlPDyDR/2wmOhp/qVnak/12NjkqjzS1vDvWh+XqQ792k7gErTuzLY1nJqLg6OsFWmucGAe9qe1Mpu6tBwGVJJVK1SqnVYOAIAhLpRyCHkqkp3r7jfQKHeW2tF3BvdLZWcNiNAl6XTMJTyBQajV6vR8MReATSG08IIVNj6F7jfQLDKNYTJ7gZGKvHf7bz6lvGNJfnDt3uaOasfdVmmBiRQPbBhu3f7Xuu35ELsmuDI5kU+gATFTjSvbOF+/4z27dlvTqwQzzw3O/rfL9cqe3fSjUz3HoaroFrsO5fMHDEOJ8Ap/LIjmTCKLSR+XsQSKQEEimW+6r3C3svFn249q4WCg6DwqCQayWNq6Ym3cNZjRzsBHEOIVNDyDZzL94rQsk0Wymn3AwpdAapp0voySQbvnK7RV4+9rKoEclYR6QrAMCJ3TfWvzZ7wALWILu7Aff/Ot8vtoQnR7iXAlaXoml709s+mIg1gR9Y1nKU7VvqNhq/RhJTV/q/PeDR7jklgsu3uKd6lG1avRoDIwbhY5f4ul+J7iX7Lxe3sQXeNKJUrlo+KX57Vr5eDxaPjyUTML8fz/Uk4yEQiFSh+udMvlqjnZMWFe7r4UkhtLEF93riIwX98IUocXN/4+1P7W7ntdZ3f//2wd3Zm7lsYXicLwDg14+OBUcxr5wsFvFlE2bHrdwwCQBw6XjRmf9usVq5u67dXfBvXKzc88tFnVan0Wg3fbk8bJRvZwv3r69Pl9xo+GrTPiQKPm3R6JnLxzw189ttWa/mnCv/8Z3D+/PevXmxsras/fGXZ+zecuF6VhkMDiMQMW//uIpIwVntDgDgdot++egYq5WrUWtnLktZsn4CAECv03/31oGmmi6dVvfaNysDw5wI8ejmYeaea7AgKKh1ay0igr7I9yWZVtwprysTOJhs1eZo95YywbUj7T9AIdBAXCwOTpJpxFjYSN95fOBp6OAunhBb1sjqUar2XSpeNjGeQSN8tutiMJM2Lz3G35P82a6Lx3MqPMl4X0/S36dvffH0nHs95YeIp04fyW5vfXdc5qqY+Hs9l5HO1damx08eAgBkr3nKVsaSob6e9sdn+NG62vltDWyfII+2xh6OiQbryoniD/94AoVBaDS98dgmz09MTA99YfHPpiP8t/XKix8vDovxUcrVMAQUAMAMoL27Zc3GBT++/s1Kv+Be104vHwqnS1hV1BIUweho5jRWs0JjfAAAs1emrto4BQKB/PNt1sVjRYueyLDaHQDw3dsHUjOj3vtlDQBAKe811e1o4bz8+dKY0YEn99w4+OfVTV8ud+3Vc/Ogci8FLAY66M2oPbZqkVB0PHkSAKBeUuiIgGV/tHvLbf4ZAMBi31dGkQYbRNGNq0AiYAgYDI2E6/VArlRj0UgYFKrWaOVKNQ6FxKKQUChEqlAxqAQUHL521ph7Pd+HCJVWe765AQBwrqneLWANnqG+nv2O7+1H5XQJa8vaZy1PKc1r4HWLPJm9Alba1GgUBgEAgMPtOZHNXTX2y5f3TpqfMGtFKtWDYKtZaIxPU01XYzUrc25CdXFrYzVr2uLRAID8qzWXjhdhcShWG2/sFJubWVqtrjy/6aOtaw1fDRMDANC8iDGjAwEAQRHeuecr7F0LNw8uaq22hScQK5SeBLwP2SEVyT3XYD0U8JRdAIBgfMK9nsh9z4vzf6grbwcA+AZ7bLvwhquGXZgx6tdjORgkYurocD9P8rZTNwMZVDQSMWds1NaTN33opOhAr5Yu+MkblW1sQZA3LS3mATHgGx4O1VS8evEMAOCZxJS30vpP6YWEwaYFhuR2tM4PG2CGCjemDPX17Hd8bz9q+e0mBBKWmB72+6cntDo9EtX704PCOORwM2VB0pjMyPOHC15Z8esb3z4SlWg9oXhojE9zbRcUCo1M8Mv6L5/XI/ZkUjqaObt+Pv/HqVcwONSeXy+qVTZTFxhcviyDsWGwKJM2jszXzQOFQK745vz1k2XVhpRfa9NGvzF9AgCgurtn+43CR8ckxDKt7xq7BawhR6fXafQqAAASOiISpLgxsGlFJgAgxKfX6vntR6fq9XooFAIA+GjtTAgEYgh+9P7j0zVaHRwGBQC8unwg+T7dnKyvMX5wRMACAGybvWgoZ/TQ4dT1fPH8SZ0ebJk+11Xje/vTinLrZ60YQ6bhJUI5+o5myHG4bBHNk7h47Xg+R1xZ1GIUsLB4tJArMe7xhY3yObL9+qjkoIBQr9YGNoGEAQBIRHIcAYPBoVRKTd6lqqSMcOOwZt3hcFhUQkDWgfzZK1MBAHKpEoNzL9oPOwK5YsWfe1t4AjQcHkynNnJ4xio/CimrohYJh7lAwGqRVubzTrXKqqQaIQKKJMCp/tjoDI8lFOTdCFVKnSyn53Cl6IZA1Q2HIn0x4eM8Fgfh4kzHkWlFX1WtMX71x0atC/7C8WmY4cho9ZLCXc0fLvR5MQAXc7F7Z5O0TKGVEBC0KGLaJM9VSGifUDddiqar7H0t0kq5Vmxmxrspcjsebs/5xZRWWeVZ1t9iDU+i4ev0OgDAJxXLjLVPBn/li+3NlyLVCIsFF2vF+WxFq1InR0ExDHTwGNrsKGLawE5hJCMRyq+dKi7La2ys7hRwxDKxEgKFYHBIEhXv7U8LiGCMSgmOHRM8/OsaBAIgd+JJQvvGkTNIV24GhkipzG5rAQCg4fAOsai4m5Xg5XRSUTfDhkqrPddUH+/pyr8RzYso4ktjk4MAAL7BHgKTkLmWfLVpP7uTL+RJN6/7KzTGxxDN4ef3jrDauHAEnOpBeO2ruzL60vUTfnjnEJ6Emfdo2pQFSV4+lPYmzvKnMqEwqF6nD4liAgDCY32DIhgvLv4ZS0AnpoeZHsusOwDglS+W/vLhsZN7bup1uqmLRhuM3N04xZhtv3NkMgDAxjGpr6aNu9fTGSy/XL3ZwhNsnDj2qXEpaAQ88sPvjVU4JDLRj3m7xWYiY0cFrCvsvVfY+wAA3uhgf2y0UidjyRuLBZemMB4zthFr+P82beYoO6hI73BCilQrbJKWNkiK5zCfTabedXdHQbGLfV+RaUUcZdtt3lmnT7cvjo9WK759rms7FAINwMao9coWacUNzrEuedPjQR8b23TKG/5ufBMCAUmU6SSER7usplKUCwCY4rWagQ7GOGOZjobigvC9kmUe94Rap0qnL4JCen+qCYi77uK3eKeusvejYTgvdAAeTuWpWE3S0iZp6SLflwxWaE6dwohFKVfv3XL+8F/X1CqNWZVapRHxZW0N7FuXqw78fhmJgqdOidn0zUok2uk33QePcwfz9225EBbn99ZPq+/1XAbCuaY6tU4bTqX7EIiXWxpP1te4BayRTD6rw7AP4kIgEMix0k8Mnzdsnmcsf+69BZaNX//GSrKmD35/3OrIqZOjUif32Zfcf/Ndw4cvdjxlPPrr36x0sLsnk/LhH0+YljADaMYgWDGjAz/f/qTVodw8qFyork/0Y76QmWa11ptEKOvsstXXIQGrRpx/hb0PA8Ov9H87ABdjKNQDPVvRioXdtTc83vEzR9kx3mPZZK9HIQACAOiUN/zT9OYZ1h8h+HijogsGgceRJwIAuhRNgxewHB+tUpQbSUxd6rcJDkECAAQq9u8N/2uSlrbLaozKpCvsPRq9aoXfm0bt0YnOXwt4Z9EwXBhhtFMT80QHTEX3Sp+FvHNqoJrstcpwaDPGUOcw0EHhhBQYpPfPkcs5cq5rew7niJmA5cgpjExEfOk7T/xZV2YlXqUlKqWmu53nlq4M5J4tY7VyKbYNe0c4hv3Bcb7+/kTy5ZbGUw01m8dluirnoBsAAMSK1dDAudwywOTfDzml3V2namvL2N1NfL5IqVDpdBg4nIRC+5NIwVRqCtMnzc9v5Ectd2MJRyKbGBZkqxYOhaq1NiMCOiRg5XIOAwCmMZ4wSlcAAAiAeKHvmvr2KNvqxAU0JHOS5yrjA8/EhCSQp+bzThfxL072etSRYw0dUAhsHnOjUcQhIz1jSOMLeGc75fVG6aRNVg0BkHDCXZexCEJKAe8sSz6Eiw4OTjLdDQQAjKXNv9C9k6M0T/bkyCmMTL5+Za9RuoLCoEkZ4XGpIV5+VDQWqVKohTxpW0N3XVl7TXGrVqsDAMxckWp3vIcFrVZXerPhXs9i4AiViuz2FgBApn9QMJn6YfYllkRc1NWZxLCS2X13Rcnmq+dNS55NHPNGms09mm/ysrcU3Hx97PjnklJ7ZNLfi25dam5kScUoGNyPSJoaGPJSSvrgT6FTItpVXpLT3toi5EvUKiISRcfi4jwZmf5Bc0PNHzq2TPp3ScGV1sY2kUij0zHxhAy/gKcSUvyJ5tETxv77e5dUkr3mKToGt7U4/3RDbZtIoNXrfQjEyQHBzyaOoWKwlpOp5nJ+Lbx5s6ONr1DQsdiJ/oEvJqeh4daXccevJ18h/7ngZiWHXcXpESoVAIC8zrbAX7+x39fZvxcY+uuj1Gp2V5Sebqip43FlajUdi01l+q6PT471sGIi46r7p5bLeffyxfwO830iiUolUak6xKIb7W27S0ugEEi6n//fCxbBoW6Tg/sJKhbTzreZDqimu8eOR2H/ApZGr2qX1UAAxH6IgUZJCQAgEDfKuAtmwCCEsRT3/kfCGx2Mg/d5jEkIDwCAQiczluj0OigEavpGaNAqqXXDmlYZCoHhYCSxhqfTa6GQu97LjpzCCKQop+721WrDZ4Y/7f2tawPDrWeWlEuVNy9WXj9dkjk/cRgnOHKpLmqRS0dKSu8BcK6pXqPT4ZHIdF9/BBQWTfes5LBPNtRYFbCCyZTpQaF8hZwrl7cI+Q6m+OySSKq5PWtOHOyRSQ0lCo1G2KPwwrkgPPf2ssJPc66qdXf9zngKOU8hr+VxeHKZmYB1obnhf+dPStV385w2CflNQv6+yrIvJk1fEhEDLCjqYv1SmFfN7TGWNPB5DXzeyfqao0seNTuFrMa658+dMAbQZ0nE+yrLTtbXvJ9hPQ+a49eTr5Cfrq8BAGDgcJUWIdeoEVAYDdMnpiABZW4W6ezfa6ivT6tIuPbUoQb+XRtklkR8tLbqWG3V2+mZTyUkW53VIO+fG+1tTx0/KlP3n9xWp9cDANzS1X3HhLDAQ0UV2Q0tGSHmzuPHS6tKOrqezrAZxKd/AUuqEWr1WjycYt+SWqTmAAAK+OcK+OcsaxVaab8HGmoICPPcHVBguNfvrgtMTGiTtLRFVm40zG+QlBjKh3Ru9ZLCCmFOt6JJohGodHK1TqXVWzGDcOQURiA5WaXGz2/++Kgt6QoAgMGhJs1PnOSWru5QmF17r6cwKAz7g5n+wQgoDAAwMzisksM+01D77rhJlttaaT7+aT693mHjdm7tEIscOUQFp3v96SM4BOLlzOkp3j5YOKJTIr7e1hxF8+i/s132VpZ+cP0SAMCHQFwfn5zK9KWiMVy5rJ7Pu9DcsDSyj0BQwu56Nuu4WqdNYjBfTx2fyPCGQaA1PM6WgptnGmo3XTxDRWMmBZjn3HjjylmNTvdG2oSFYVGeODxLIvq3rGhb8W2WRPxNXvbXk+9m62sTCV++cFqj04VRaB9NmJLs7aPV6Qu6Oj/NvfLWFStLLnDmegaTqTcf32D4/NKFU0drq5IYzP0LrdhCDWz8Ybg+UrXq8RMHm4R8DyzurbSJ6b7+ZBS6QcD76faNs411n+Ze8SOSZgaHAQsGc//w5PLnT580SldjfHznhUdEeXiQ0RgAgEipaBYIqnp6ctpaqnp69AAsjxnV75huRhobJ6ZdrG54atfhqVGhyf4+AIBmLn9HXtHNprZLNQ1MEnF9uk3zof4FLFuhQcybAT0AwBsd7IUOtKw19TS8V0CBvUB2BjI9H2lprjjQ+lUqbR4RQeuQ1xbyz1OR3klU60ltB48e6A+2fV0hzMHA8KGEpAhCKgZOQELRWaxtCq25XsqRUxiBdDZzDB9oDFJEvPUANm4sUas0BVdr7vUsBo5QqchpbwEAzAjqfT+ZFRL+3a0clkRcwOpI9vZxyVEKujqj6Z4HFq00pjD3IRBTBj24WKX8LPcqACCa7rl/4QoCsld/440njPLwWhhuHvDpo+xLap02gkrfu2A5Cta7rsbQPX+bMX9D1rGsxrp3rl24+uiTZgoMmVr9/dTZi8J7Q1/6Ekib0zObBfzzzQ0Xmvto/bcW58s1aiwCsWPeUm88AQCAgIJxvv57FiyftPsvvkI+yPMdaob6+mwrvt0k5COgsD0Llhtzs8bQPf+YuWDpkb23WR1f3Lg6PSgUCjH/KRvM/bOjpIgv773yH2ROfiw+waxBAsN7YWQUAKBDLDpRUzM9ZGhf1N0MBQwifufa5a8dPnO+qv58VT0A4HJt4+XaRgBALNPru6VzSBibuqf+BSwcnASFQKVaoVqnRNiO5ERE0AAAPtjwucxnB3ISI4MAXPQS31cOtH19rWe/HujxcEoSZfokz1UoqJX9fpdQKcytEOZQkYz1wV+Zbv+d6dw2REccfpSK3jc8rOuCL0DvhE7gdgkvHS28eaGC3ckXcCUoNILqSYxI8J84NyF5YqSDo2nU2pyssvwrVbWlbQKuRC5Vkmh4Lx/K6AkRE+cl+gTSHRnknSe2FVyrAQB88Oe61Mm9PwkdTT1nD9wqzqnndAnEAhmJhqd6EKOSApInRiRmhJtFr1YpNeX5jU1VnY1VrMaqzrb6bu0d88nKguZZwZusHnfJkxOffHue1SojcpkyN6ss/2p1c3UXly2US5QwOBSDQ3v6UPxCPGOSA5PGRzD8XJye+WxjnUanQ0BhRs1EGIUWQqE28HmnGmpcJWABAN4dl2n8dXQVZxvrxColAODjCVON0pUtmoWCgq5OAMAziWOM0oORl1LSsxrrOsSi623NZkoaPyLJKD0YmeAfdL65ga+QS1QqPLL3vM411QMAZgWHG6QrI2QUem5oxM7yYmdPcDgZhuvzX1U5AGB+WKRRujLy2KjE26yOZqGggsO2aow14PvncnOT4cMYH19L6coUHwJxQ3LKAA7hZiQQQqcefvrR/JaOW81tXSKxXg+8iPgxgb6pgX72O/YvYCGgKG90SIe8rkp0I46caatZMC4eANAkKdXqtTDIfaloAQBINcIzrD8jCGOW+b9m1ePP5XQrmgAAkcQ0U+mKp2IpR7ZZlVOQaL3WDN3tPJVC7RL3QENs5ax9eVs/OS6X3bVS0qi1UrGirYF94dDt2NSQt35a3a//XXZW6V+fn+xq45kWcruE3C5hZUHznp/Oz3pk7Lo35jgemovXLQIAaLW6rR8fO7EzV29im2IYtq6s7fSeG/8VfWQmYDVWdmx+bKuDR3GcC4du//n5SSGvT/AhrVanUkqEPEldWdulowUAgOjRgZ/8+5Rp0OpBcrKhBgCQ5utn/BUEAMwMDvulIO90Q+274yZZqhMGABoOH8PsZ5kbAAaBgIbBjrZmLmZGYVen4cNYH1/L2kiaBxGFEimVt7s6zASIMd5W2hutfxQajeHS8RTybqkEAGDVdm2UNaFhRDHU14clEXdKRAAAq3+sABLZ8KGG22MpYA3m/ukUi3vn6eOytwU3I5aUAJ+UAOf+0A55EabTFx5o+/ps1980lI8P5u42NkfZgYeT0TAcAMATHRBJTK0W5WWxtk1nrENAe5dUrV5TJy4IxI0yNBvhtMoqJRo+Gemp0+tc6vtsE4OVOkd5N36BQis72fnbcBx7uIhM8L9xrhwAoFJqTu+9uXCtCxIyYvGok7tyf3nvsJ02ZXkNbz+29ccjL9oR6Xb/eG7Xj9ZNWAxotbqTu3IrC5s/+utJmpdDgdC4bJFOq/v0uX9v2E5bFpcaYinKIFEIb/8+79/sDr5BiYVEwWle1vP4Eqn2nqwDf1z++8tTjkxbr9e7ULoSKBW57a0AgGutzWb+aACAbqnkNqtjDNPKz6ezUNAYmCsENTMMJs9+Ft5tVuHKe1+HbPnhe2BxIqWSLTU3RbXvt28MdGzch6JZc52jokdihntThvr6sGW9Lw9vXz3/dl/HRlOESiv+Ii65fwZjAxv20/davZ6Bx+eufxoAoNXpTtXVHq2uquVyODIZAYXyJ5KmBoesGBVLxTj0h5ZrNCdqqi83NVZxejgymV6vp2AwUR4eE/wDl0THYBH9v9828fnnGxsKWZ3VHA5PLpOr1VgkkoLGRNBoaX7+CyIiKY7NxA5VnJ7Vhw7wFQoAAA2L3bVoaQTd+kbBIE8ncsuPKq3WeHkBAGKl8lhN9anamjaR0HCFPbG4OAZjYkDglKBgBMyV6iGHBKwYUka7vPYG59ifDa/5YMIoSIZCJ+WpWFxl54bQHxiw3hARC3xeFKnfz+edqRLdYKCDUDCsSM3tUbYqtLKXwrcZBawacb5UI1BopVxVJwBAoGZf6/kPBcWiYFhvdIgx9EOFMEehlSh0si5FIwCgR9l2recAGopFwbC+mAgaiunUaA4ShIv3RgfncU/mcU8aSpBQNAXJSKJMG0Ob49p4MwYiiWMvsXfXim//0/S2NzpYohE0SkpoKGYALrpFWunyw90TMucl7vg2yyAo/PXFSRINP3gz9tb67rK8RgAAmYZf8lRmcmakJ5MMAOhs5l45Xnj0n+uGwzXXsA5uvbLqResmdCd35RqlKzgCNntV2oQ58b7BHig0UsCVlN9qPLr9ekNFBwCgsbLznSe22ZfVjHC7hX9/ecogXQVHM8fPiguN8SVQsGqVtrO5p+xWY97FyjGTrWScDY5m/n3lLdOSx8d/yu7gAwBCR/l+e+B5Jy4QAAAAViv332/OGD4TKbhlz0xKHBfG8KMi0Qi5VMVhCRqrOotv1BdcrRZwJXNWWY+kNzAM+4N2Gpysr3GJgOUSNZglOsdsTw30OwWDEhNi0c5BnzKjJGH1OCPfMW3Ir88dAQdqOYRpM2uC0GDuH288gSuTAQAKOzsHPIiBLolEolIJFIoXz5wq7mIZy7kyGVcmK+pibSu8/cnkqbPDwu0MAgA4VVf76bUrXZI+6mq5WNwpFl9sbPwh78Z7EzIXRNpMSXmytuavooKSLvPImWKlUqxUtgoF5xsbvr2R896EzGWDMNg3la68cPidi5eGUq3bJwzydIz0yGQ6vR4KgVxuatx0LstwaAOGK1zF6TlRU134zHMDPimrOBrJfQZjXQg+8TbvTLushqVoQEIxBAQtjTbfoIAxgIHh1wV/UcA7Wya81iar1uo1eDjFDxsVRUwzdX871fmbSM01fhWpuZe6dxs+p9MXTmf0ZjI/1P6NIcOMAa6y81L3LsPnqV6PZXgscWo0R1DpFOe6/uao2gNwMWSEJwRA9ECv0snbZNVnWNuUOvkEj2X9j+IkODjpiaDPLnbvbJdVd8hqCQhaImXqRM8VuZwjD4yA5elDWbhuwqFtVwAAGrX2q5d2XziY/+j/pkePDhzwmNxuEQAgPM7v03+fxpPuvk6FjvIJHeUTPTro42e3G0pO7s595IWplgtve2PPtk+PGz4TKdhP/30mdNRd9S8DS2X4UacsGv37x8eO/5sNAGiuYW377MTGjxb3O7e8i5UCjgSJRrzw8ZKpS/o4h49KCZq+bIxGrdWobWacdSHZp0sNgiYECvlq37MBYXd9TRBIOJGCDY5mTl2SrNPqCrNr48a60gLX4D+Y4u3zReYMs6q/Sgv2VJScaaz9YPzkIRKPBo9BV9QpETvS2BN7ZxNcKvElWFF6GVQsHtgBmnJS7uiouNaM2QVKhWXhiGKorw/9TsetsxZODQwZ2CADYKyvbzm7GwBwo73tclPjpCBzL0inKGB1fnDlUotAAACAQSBkDEar0wnuiAIG2Uur082LsGla+lv+ra9zs41f4VAoBY3R6nUChcLwwsCXy18+e6ZFKHwxdazVEa40N5lJV3gkEo9EGmJ6GUqkKtUbF85hkcg5/Ul7VjGVrpgEwu7FywLI5CE6HSNanY4rlxWyWM+fOmErnkiGfwDShvrqRlPr37kFlSy2RKnSW+te+s6LVjs6kYswFJ8Yiu9H8QCHIFJpc1Np9rKEvhLxtyOHey/miCPNHBktFJ/0wahjluUZHkuMghoA4HzX9kL++RX+b0UR+/y1JBr+t9VrSwVXJngsa5Wcu9G1eZrfDioqSqOTH27MDCevSqD/z9DySsdzCfSXyCjz2+71qF12pueB8l3p/5ZZYabnI5mejzh7CgNDoKzN7/lMqKzDwhmJHq94Y12fPeqJ12Z1tXJzzpYZvhZm1xZm14bE+ExdnJw5P5FMG0jIIgwO9d7vT5hKV0bSZ4xKnhhpCL7F7xG3N/b4hXiatTnw+yWVsjcWxstfrjCVroxAoJBn31/YWNlRnt8EADiz9+ayZyZ5+vSTj5LfIwYAvP79qnEzYq02gCNgcMRw2CmyO/mGDwQS1lS6MgMKgzruEOAIfIX8RkcrAGB+WFQIxfzddGlEzJ6Kkh6Z9FZn+1gf15tPuYREL+8D1eXdUkkFhx1DN795zEj27lWo53W2+0aYCxAVHLbhxynJq39zLqvQMFg6FsuRyYq7Waui48xqqzg9VnsNDIOe3uqvyIAZ6uvjSyAxcPguqaSwq3M4BaxHY+P/KSo0/GA/d+rkGxnj18TFwwaqUHz+9EmpShVBp7+aNm6cfwAGDgcAdEslu0tLfr+dr9HpdHr9WxfPj2b6MAlW7EpP1NYYxZFx/v7PJY8ZzfQxSAwytfpKc9M3uTnNAj4A4IebuWFU6ixr4tHTo5OPVFVSsdiZoWFTgoLjvBjGfclWoWBHSck/RQWGO+Oz61dnhIQ6qz01la78SaTdS5b5EKzbXbjkdEy52db25oVzWr0+gk5fE5eQ4uPjicMpNdoOseh2Z8fputrJNuTjK3VNz+45qgcACoGQMWi7SlJzRrpueThpkBTDILBIonkMcRycjICiFNpeLSUW7sVXVAEABKoaWF+3ykyfXy2lqxGOTq+6znqFic1YFHwxgf7Sja7NCi2v/25OAofDNv/y2BOvzUYg78r0DRUdf3x8bPXYjz546u/cs+U62wkHrDJr5Vgaw6aJTMqku3rj9kbzXyCZRHH5eJHhc9go37FTrQQ5NPLYK73hdrRa3fEdOY7MLXVytC3pajjBE3sXRxFf2lTNst/YhZxtrNfodFAIxGrkoUQGk4HDgztW8COTmSHhBvOO965dkGv6CSPJxBMn+AcCAH4rvGWWyE8PwI/5uQAABg5vaDMwDHLDqfoag7W7EalafayuasDDWmJwmWwVCXSuk7GG4fqsjI4DAOyqKG4WCqw2cDBurVMEkMmv3ElmrNRqPrp6eerO7TtLiqV3lD1OIVWpYjw8Dy1/ZGpwCOZOdH4vHP6VtHHfzphl+CpTq78xUeoY4cnl71y6YPi8Oi5+x6KlaX7+Rn0MFoGYHRZ+bOWqIErvy+Gn16+qtVaU6OE0+q4ly3LXPfXxpCmZgUGmVl/+JPI7Eyb+b2xvdHuWWGy5k2iGmSRiKl0FUyj7lq6wJV256nRMef38OblGsyE55fSjj62KjQuj0kgotCcOl8jwfiop+ciKVbailP1+LQ8A8N7sySWbX8h9bUPOpmcs/9k6qFvAugsahtXqtW2yPquVHuivsverdApjmiASMpivrAYA8BTVJOR9H9eELS/Q6TXR1HUwCJqJG++BSWoWnx6KA0GgkBXPTt524fWZK1NNxSytVpd3sfLjZ7evn/Llmb03HRezMmaZv8qbYhp0QCI0d8msvN1szDk9fna8/QONGhNsdEUscizy54yRkeonafxdcf/99X8VXh+msKWnGqoBAMkMH6tGyhAAZgSHAQDONNQOxc+eS6CiMa+MGQcAKOjqnHtg597K0hoehyURV3LY55sbPsq5/Hbf8J7vjZuEQyDq+dxHju2/2dGm1Go0Ol0lh/3c2eOGCAvvZ0w2RFsdGM8kjEHCYFK1as2Jgzc72tQ6rUqrzWd1PHbigNClW4SjvZkAgC6p5KPsyz0yqR4AmVrdIhSwZYMKFj3U1+ephJQIKl2kVC48uOvXwrxSdhdLIq7jc3PaW3eUF605ceC1S2cGM39bPJsy5uW0dONOd4tA8P6VSynbfv9f1uns1hZnhdR3J2ZatdqeFx6RGdhr63ymrk5kYa2/s7RYrFQCAHyJxHcnWM/1SUChXkvPMHzuFIvPNVpPr5Lm62fH0Ht9YpJRa1Xe0233bIBpEidT6SqMRtu3dAUDb3PjwoWnY0Sp1cyLiHx93HhnjRKqu3smhAWtSokfgP27E1uEDzzj6EsOtn29o+m9EHwiBcmAACDRCFpllUI1h4zwnOb1hKEZARnAVVQAAPjKagqqN1dGp/R6BW+bQNUwyecXOjrBUKjRyUq5Wzpl2Tq9GgHFT/H9CwklVgt2aXRSibqdLS8AQD/Tbx8SRuIrqwp7vpFpuhBQYhxtIxOXcaxp5tzA4xqd9GjTjAnMH7yx6efaVo/3/p4ly63m79DqFVAIMob6VCBhdrv0SjV/x1Tf3q3S2z1fYGC0GOpTEnVbQc9XYnUrFMDCyatCSUutnrVQ1UhGhUPuiNpkZJhY1ez4mGqd+Gzbo2GkFY2ioyqtKJi4IJZmz07Qy5f6v8+WrXt9zuXjRRcO3TZN/9zVyv1p88HTe2+8/t0qv9B+PM8hUEhItL0NBTTmbmgA41agkariFuPnsLh+TK0hEEhojG/+lSoAQFM1SyZRYPH2shoAAGKSA+03GB5iU0OSMyNvX6kGAPSwBJsf3xoczZz9yNiJcxOtbq26BJ5CfqOjDQAwK8SmNndWcPi/ZUVcuSyvsy3dxx8AkNvRuqOsSKxSilUqsVLZJREDAHZWFF9obiCgUHgkkohEvTNuEsMVCXAc5Mn4ZLla831+TgOfZxktfZxvn5C5oRTa33MWP3PmWFE3a+Wx/aZVcCj0g4zJdq6GIwSRKV9NmvnqxdO1PI7p+CQUese8pcuP7DNrP+DrOSck4u+SghJ21/aywu1lhcbyt9MnPp2QMuDxh/r64BCIHfOWPnv2eGFX51c3r38Frps1mBvqyk1wU14YMzbd1/+DK5cqetiGEoVGc6Km+kRNNZNAeCw+cXVcvCO+e94EwhhrYSwMrIgZdaW5CQCg1GqyW1vMrN0PVvQ6LC+JirEjB0wICIRBIIa3muzWlgEYUeGQSAYe3y4SAQAE8n4ke9yd+Cym0lWMh+eORUvs+yEOxenAIJDXx2XYn7BVoBCIL8Uhb2JLhlDA2vH58eSpMdEpw7cjPkhiSONwcNJN7vEOWW2dpAACAAZGoKN8U2lzR1NnGGONQgAcAL1erxWq6kNJS0WqFgAAEzeeiRuf1donuUQR53uNTjrL/z8YBC3TdCGhverQeuHBTOYvY70+VmoFSBhJo5NdZ70yxvN9BnasRN12sf2pyb5bKahIobJOpulmYMf2yIu8MClqnQQD9/DEJPniMpEwkkjVdKF9fSBhtg9uQmHPV0JVIwkZrNUr2iTnZ/rt0wNdTtebYzzfoaCiVDrRudbVFFQkDW1FBarRyRHQu2oGBBQvVNU7PiYRGSBVs7Q6xSz/A3IN50zr0kDCHAKyH+dNAhk7/7Fx8x8b19bAztqXd/5QvljQq2SqL+94ZdmWL/c8GxxlT34iU/GDiafFY99N68Hw7T/Aprd/bxu9Xs9ji+0LWHAEjEgZKUFJ3t6y5utX9hrCZAAAGis7t7x7+PePjqVMipqxbExKZqQxZKst9s9b6dQRDf6DELsCVgrTl4rB8uSyk/U1BgGrScDPaqwzayZRqepUd11YXkhOG04BCwDwQvLY2SHhuyuKczva2sVChUZDRqM9sLhUb78FFsHcU5l+lx5d/3dJwYXm+laRUKfXe+MI6b7+6+NHB5NdEMR1YXhUGJX2W2Hezc42oUJJx2Iz/YNeTE7zxhO8cHizrcMBX084FLp3wYrfi25lNda1igRanZ6ERgWTqBHUPl70Axh/qK+PFw5/cNEjWY11R2srS9ldPIUcBYN74nBBJMrUwNDpwUO42zCayTyxavXFxsbdZSXXWpqNiqtOsfiL7Gu/3771+rjxK0bF2tedxHnZy3eS5ndXoC9nd5sKWB1ikTFPUYK3t51BsAgEGYMxeD7W87h2WtrBuFWn1FrJ52YKHokCANRyOUbpKp7B+HfhEqJFXktThuh0Yr0YtnYk7RPF8KzpGqCZ4xAKWEe3XkrK7N9/ckQRiBsViOvf+5SEDOEpK6EQJAxi70ZhybIneP8Eg6ABAFj43YfHE5NsMNVCwcgAAJ6yCgHFM7BjAQB4hJ8XNoUlzaWhR/GV1UJVYzh5ZRV/u0BVT0FFAgBEquYawW490AEAUevEer0WAoEFExc0io4k0l9tFZ/3QCdh4B4SdYdQWX+d9arxoGJ1q1UBCw7FqnV3lf9qvRQFo0AA1MExicgAAEAYeQUAAAOn4xF+Mi2bAByNjuEX4vnU5nlrXp5xYmfO3i0XDImNJUL5Fy/u+j1rk53ffjR2UGFgJcK73lgYfP/Bn0yjjIoEUgDs5SnDOjDgsIHBot77/Ym8S5W7fzxv1Bdq1Nob58pvnCunM0iL1k+YsyodhXFB9FcDj0THPWJhiG0GDAIpXNtH0/loTPyjMf3s1ZqxKTVjU+pAXkmdIoRCfc9GNmVLqGiMg7My5v6zZHpQaPNz1qP2x9A9t0y3ErU/z2K0AVxPI1gE4pUx4ww7pLYY2PhDfX2gEMjskPDZjinDXH7/TAkOnhIc3CWRHK2uOlxVUc/rNWYVKBRvXzx/vbXl+xmzbPmpAQD8iPZ+/okoFA2LNQgTTQKBaVUFm238vPaovdCAphiDq1mlkc+/0dZaxelpF4l4crlIqVBoNHKNRqHR9GvtZASPRHZJxE8cPWKQrpKZPv8sWIRD9rN0D8XpAACiPQaYnHTD+DFP7z6yI69oTWqis9uLQyhgQSCARO8niPZ9ChUV3Sg6TkPbs4wGAOhtRCs11RgBAAzxIMza0NCxndKrfGVNAv2lcu7vPEUFDT1KqRXkdr053W83ERmo0PKONfU6wAcTF51rWx1Pe6FRdDSG+qTh4BAIfF7gSUh/ZnZEZFA1f4ce6Awthco6D0yi42OqdWIAAAJqfE+FAOetatBY5LJnJk2YE//m6j+6WrkAgLYG9o0LFXbsxGHwQZkPmnqCODLfkWop5Cipk6NTJ0eX5TVk7b+VnVWqupO8iNMl3PbpiWP/XH/xs2WjJ0Tc20m6cfMAwMDjNySnbEhOudHe9mt+Xk5rq6H8TF0tHYv9MNOmsE5E9WN4QEahDQKWuK8NVr+yhVWUGuty0tmG+p/zblT2uMA1Va/XP3H0SNedWCcJDEa/0hVw9ekYITsTj3fLlRvGz3AYNC3Y/7OsK7tvFacG+lFxWDjU/Hf9+UzrQQSHUMDKmJtUdLXaz7ZzuFi6v4f/0tBNAAAoBIKAAASAwCEQJBSCh0IpMCgJCiXDoHQ43BcO84XDfRGwQCjUOUGQio4q5v6Y4rlZr7f3R/XGpVfzd6R4vguDIOWaHhSMBLWWfoeCitLoZCzZDW9smkTd1i27FU1Zj4F7VPL/gkHRUAiCgo5ulZyLo23U6GQAQDBwOgCgQXjIOAIW7klHx9YJ/1NoeQZNGA7BJCD8qvk7oihPAAAEyjoiMsDq0b0wo6EQWBXvnwjKarb8NltelOL5ruNjOnXd7OPlS33x06Vvr/nD8LXweu3QOeIRyHcj7silyn7jRBhUa719SUOVmHKoiU0NiU0Nee7DRddPlWTtz6sp6V362Z2Cd9f9+eaPqyfMGaDOYwRSLCj4tf6npb4rpzNmDaD7Hw2/1Iir3o/5hIQgu3pqznH/rpMPOWm+fmm+fpeaGl8+e8YgEu0uLVmbkBhIth7npd+A8qg7mbVk6j5urWITp0UGHg+DOPTyySCYL3pavf7ti+cPVJQbSzBweATdI5BMpmIwRBQai0BgEYivc7Id9Kv46Opl0xihfxYWhNPoS6P7UUy46nTMQDgTUWLL1ZuWhS08QQtPYLX9PRCwVr8x77Mnt/K7hZHJQabmMokTh23fUKfXK/VAaVAPaQHbRjMIHO6HQkQjETFoZAoalQqB9PMmQUKG6fQaGiqWoyg2lOR1fyhU1YvV7XndH6JhtAT6SzT0qET6q8WcH0+3LNEDLRJKmuzzBxJmRcSBQzHjvb8v7Pn6NvsTBBSf7PkWERkIAFBpRb74SQAAD3RCk+g4BRUFgyBDScuyWlfAobggwlw84q5FZAhpaW7XG9GU9QbfWAiAZnh/W8z57kTzXJ1eQ0QGjvf+3kLsBgAAKASZ4f3dbfZnFfy/cXBGGuNTw8alg2Pav1DOkpAeisYiFTIVAKC73fXRIox4eN81WmS1cM0S1FjS2cIxfIBAIFTPgWzkjxxwBPTMlakzV6ZWFbb88/XpsrwGAIBep//p7QNJGeGuMn6vEJb9WHc3Qw4KivZCeyWQk6YxZqKg/TxfIwM9CooaiuQNI4+hWifdAAAmBwV/N33WUyeOAgB0en1Wfb2trM9mASwskd9pYGYyjzH5un3h4nCaQ8npLfk1P88oXQWSKa+lj5scHGyZnHvLrZtCKzmHrGCQrmaHhddyOYYN082XLgSSyclMexn9XHU6g+GrRTNdMs4QCliPJbwFAKi+3WRWfqbn96E76IDQazStGk2rVJ4FAIBAkGhkMgY9BY9dCIeZ21n746f746cDAJaF5AAAcAjvAMIsAECq1/uW4yKg+BTPzWaFkeTVli0pqIgpvn+aFc707/UMCiDMDCD0/r0T6P8zxjWNpDxmbOyNTVsSfM20Ox7hk+H9re2z7nP0aX7/WpY7OOaK0Hzj5+l+Oxw5oi0gEAgGizIIWENKTHKQ8XNtWZtpOANL9Dq9IWEOACAgzAtHeEB+V6KSAr7cs+HrV/ZePlYIAJCKFXkXK6YsTu63o+ME4YJD8RF6oOOr+FWiiuOdRwr5t9+Kes+Yq3TE8kyI04mJHnScWCfdmDIlONgThzNkWqzlcmw161ctJLizd0boayRORd9dkdhS6cAkEpla/cft3pXcn0Q+unKVLVN0td0UWKYw8IRPJk+ZHBTcKhQs2reHr1CotdoNJ48fXfmor22DM5ecziCZH+caNZATApZKqc47V9Ze361SWg+79/ib802/Hqz/blBTu0fo9Sq5MleuzOUJP0GjxhBwq/CYRRCIy0yA3dhBIpQLeL0qZdpQKooiEwNwBLRUrAAAXD9VsvK5KXYal+Y1CLi9s0oYZyVy5tABv7MpoJAPidAJgUAee3mGQcACAHQ021z9B0YEIWqx73LDZ4VW8X3tl03Sxlxu9kQPR83G3YxM3OukUzDwBIOAJbetpmrua7puBl8uN2bQC6b02WSMoN813y7p6srwH4jlxq2OduPO44bkFFvSlWn2nn5ZEh1tCI/uTyL/PnfB6iMH1VotTy5/8vjRQ8tX2rLHcsnpjBAcFbC4LMFri75nNds0fMOTsGYCFu6+NVW5g16hzFMo8/iwL0iEDUTc4xC7PoNuBs/xf7P1ul578ri0IXSrRiDhs1elHfjjMgCgsaoz+0ypnbClu344a/gAgULmrk4fullZQiBjQQsAALCauXq93qksDQ6CMgkYNkjfTPugYegZjDm/N/zcIKk3FbDqxDWnWScapfVqndoLzUinZ0zxnAG9Y3hxofvsf217vk34+SY391rPZa6SQ0ZSoogxi3yW4uF3TYL0QH+x+9zVnkuGBuPoE3wx5kl4LrMv7G3d+UPibz1K9uH2/5qkjXq9noHxXhf0tDe6VweTz7u5rfE3Y5cfEn/Dwu6uYwqt/NWSF71QXu/FfGI2+Pvlb/FU3G8Sfkbdye5g/7weINzrZP/03AnTSredb7Gkq0ur09nKtJPT1mr8HOvZJ0xgMIXCwBMMtuSn62o3jhlIlONuE2MpOw53Jd1dWoc1WKak+Ph8Onnq6+fPAgBquZwXs05vm7fAaipSl5zOCMHRp33n1ydZzT0xqSH/++bRD3Y+C4FClr8wY9NPjy/eMAWJRkxbMfa/6q9t9R2evLZDh0bL4greb++eJFdcvddzuf/oaOr57PmdNy9UWEb7NEWr1R368+run88bvpKo+LRp/dhCDpJF6ycQKb2L3Q9vHagtbbNso9fpf//oqCERIQBg0vwkn6AB+voOjKDI3jAwcpny7P5bznbf8/P5jqZ+vIH+++OS8XNoTD8xVweJQVjRmbiG3OLd+Kbmc66KM44+YTpjFgaGOdC274/GLWZ+tVsbfjnecTgYFzqDMZuCpF7vubKl/gfTBkc7Dv7XtgcKoDMYs2OIsZfZF451WnfwLhUUfVP9GQqKnuI5LZWWJlaLKCap6GNIsa9GvPlMyEYfjJVLgYZhEslJ7fK2Dnm7aXmrrJml6EyiJBulKwfP60HCvU7aIr+jgyXu9aSL87QZQlmoVFxoarRVu7+iN5ErGg4f5+dvVrvsjuV4FafnZO1AMlCZxvMUWkSKN7K9uGgAgxtYGh3zzOhe+7PLTY1fZF+z1XLwp+NCuFIZX2bu2HiruX1r9q0jxRUKtb3fNUc1WEVXq31DvL44+JIhSS0KjQiJ9Z0wf/QUkDp5yZj/zfoyYXzk5KVjTLvotLr/fj57evu1ng7+zpLP6UzKxf/yUFhkxtx+MkaPTNSaJhZnJQH3CJ38BcSaO54bq6jV2uunS66fLkEg4VFJAeFxfn6hXnQGCYdHQ2EQhUzF7hTUl7fnnitnd/CNvZ77YGG/0dIHCYVO2PTtI++v/1uv10tF8leXbpn1yNgJcxP8QjzQGJSAKy7Pbzq2PdsYO4rhT9v40aIhnZIlGbPisvbnGT7/9uERTrdw/Ow4hi8NAgFSsYLPEXO7hQw/mmUqawOH/7y68/uzwVHM0RMjIuL9A8IYJCoOg0OpVRput6iurO3sf7dKbtQbGvuFeCakD23qp1pJDQCAeUd2kWjEO5u3hxMiXg5/HQrpXd//avo9j3ujRFCUQE4ydmyQ1L8d/YFRKfVj3TcVwrJGSX0wPhQAwFVxznadZqC9N0d/iIQiAQBzmAs+qXzP6hx2tmx/MeyVCEKvjYUe6E0t2bEwnKEqu+eamRRlII2WcYt38yY3d8mdrU8AwE1urqHK2fN68Hh41smKHnZVT8/M0DC83dADDXzeq+d6s/RgEYhpIfYesc+vX0v2ZtIstFxHq6uM4R5mhYYTLPbv1iUl/VtSZEih8/bF8xQ0Zpy/uRBmRKpSVfSwzaLGB5lsO+a0toy3tjG3r7xskOLO6xnjmwT8cw31AIA/CwvCqLRl1jIADv50XMje26V/XL914tk1gbTeS/TthextOb32an/m3N67fiURbV1r66iAxWOLpq0ca5CuAAAYHFp6J1RjSKzfuNmJR7deMhOwDv924fjWy7MeH7/nm1OGEhgc+t+PWfepgGVALN2rUtcwaH/DYP3kcnFjhlqlKb3ZUHqzn4xRUBh044eLJsxNGIYppWRGvfrNyh/e+E+j0Wo02hM7c07stJ7L2SeQ/tE/Tw61zGfJ6AkRSRnhhdm1AACVUrP7x3O7fzTP2fLsB4tsCVgGGqs6G6s67R+IQMa++ePqfqO6DwydXidUC4oFhVmskxgYJoM+wVCez8tT6hRTvKYbpRAAwBhqWh73RpmwxFQQSaGmmm75xZMSK4Rl3coug4BVIijS6XWZnlOQd2znyQhyGm3c2S4rWTVHU5KN0hUAwFk/wShiDAlBvsW7sdh3maGvTq/L5+VRkdQIYpSz5/Wg8jCskx0i0evnz75z6cJopk+ar18EnR5MoVDQGAwCodJquDJ5DafnUlPjsZpqzZ09tU3pGWS0vTWkVShYtH/PpvSMKUHBBhOlHpl0Z0nxb3fMz7EIxKvpVgLAklDoH2bOfvL4UZ1eL1GpHj96aFZo2PzIqBgPTzIardZpRUplq0BYw+250d6W29qa6M3ctbhP8rQ4L4YxH8BfRYWhVNriqGjjFl6rUPBr/q3/KsoNczCLE+E4EAC+mzFr+YF9hjhb71y+GEimpPiYOxUO/nRcyLW6JgoWE3BHuirt6PozJ9+bSPjf5PTSjq49+SW7bxU/O8H6PqajAhaWgDb17SJScayWu/awvqFeeefLzLpk7cz+3w9rUqfHGgWswChme30/6SFHPkpVYWfPYqbnMRj0Hng33HfgCGhPJpndKXCkcUxy0Ib3FoaOsufE61qmLBrt7U/75b3DtkQQCBQyeeHopzfPN+4nDjNvb1nz2Qs7B5anOSCMUVnY3G+z+LTQFz5d6hPo+vs5q+tUVtcp41cakv5U8LNERG+MjBZZMwDg1/qfLDuK1ELTr37YPu/TODgOACDV9Nq1sOSdAAAzoyumtT0+AIA/NtCpUzADCoGm0tLOdZ2pFVcbBLVqcaVQLZjlPdcoqzl+Xg8wD8k6qdJqb7S13jAxkLLFU0nJTyTYUy68N3HSr/l57SLRS1mnoRAIGY3WAyCQy42bylAI5PMp05gE69HIMgODvpw2Y/PF8yqtVqfXn6qrPVXnxKIBg0BeG5ex6VwWAECr071+/uzn2dcCSWQEDMYSi9tEvfftusQkPBL5U56VMFEOgkUg/py/cOG+PWypVK3Vbjh1/OjKVX5E82R/gzwdF9IhECX5M43vYX/m3NYD8PnCGWOD/BbGR5e0d2VV1g5WwGL401pq7v4CBUQw886VPfHWfMMrL7udB0eaZwBgt/N8+6bshUAg2vvcHsuAWtPI6lnJ9DgMhd7fIZGGAQ9v8vbrm6sKW8rzG+vLO7rbeZwuoVyiVCnVEAgEg0cRSNiAcK+wWL+MmbH95ngeCqJHB2458fLNi5U3z5dXFbXwesRKuYpExXn5UpMywifMib8nszKCI2I+2f7U7avVl48V1Za08thilVJtuG7eAbSQaJ/4NJvpPr89+HxtaVvh9Zra0jZWK4/HFirkarVKg0IjcESMb5BHeLxfxsy48Dhze3BXYQjTAIVAsTCsPzYgihhtqtSRaWQAgGleMwkI898MD1Sfa26Uyayi0MkBAChYH90A2ka0LVPT+IGRRss413XmJjfXIGCZ7Q8CZ87rwebBXiepGIyDuhw/ImnzhInT7W4OAgDwSOTuxctezDpVw+Ho9Hpe34DmZDT6k8lTZ9vNZ7wkKjqcSvvw6qVCFstOMwQMZjXv4eKoaLZU+m1utiF9Ml8uNw2qDoNCXxmb/mzKGEPO6cHAwBO2zluw8uB/Co2G3+tU+IjlTusgT8dViBVKzztRTLlS2cWahiiGx9ig3jUzhumZVWFT8nNUwEqZOmr3N6faG7p9Q7wAAGmz4q8dL3h31S8TF45mtXCuHMmPSTW/e5jBnrVFzT7Bdzcvck4VBccOrRXtsKFSV3AEr3tS+4np9cWByxeK6zhCKRmPifT1/P35xY4MvuqrPRvnpo+LDnTBRAF4+qeDry6eGOHrMuvsU/lV/5zPb+sR4tHIuWOiXl40wX57CAQSPTowenQgAOCZnw89OXHupLgBpgD/6fhLDraMGxtypvGb/tsBAACAQCFp02IcN6tXKdRPTfr8tR8eHZV690Q+2f6Ug92dBQKBpGRGpTiT2dN0hkMnP/WLaZgGSzAwNAAgkZIciu8n+IX9bTyDablEIzYtVOsHuIvRLz4YX39sQCE//9GAx/V6XRG/IAgXzEDfzUrr+Hk98Di4Tt6PJDN9bj214VpLcwGrs5bD6RCLuDK5QqNR67RoOJyARAWQyaM8PScHBY/19bPqLmeGSKkIo9FOPLL6aHXVydqaWi6HK5fjkcgAEnlqcPAjo+IomP6DAMd6eR1c/kheR/uFxgaDcb1AqYAAgEci/UikcBp9rK9vZkCQraE2JKdMDgraWVqS197WKRardToyCs0kEsb7ByyOijbEoE/09oaAwTprxHkxvpk+84XTJ/UA1HG5L545tW3+QstY9oM8HZdAx+MEd4zcDxaWa3W6FaPvupxDIRCp0mYMHUcFrKnLUkVcCY7QexoT5ied2ZldeLWq8GoVAACNRT7x1nyzLitfnvXTq7tbqjsBAOf33Wip7rx+vPD9nc86fF69QCAoT+oWZ3sZ0Os1AGj0epVOJ9bphVodT6Pp0Gg71JpGvd6xYLS2kciOYdHT8Ngldtq8uWzSm8smpb2yZeerK/08yIM8on2q29ntHOHUBPM1feuLrtycPnKj/Iej1z9aPSMtKkAolbMF0v77OICtyQ8PjRUdG2d9/dv5NwIj7CVvN6LX6wEARpPEYaa5hvXstC/j08O+2LfRUPLKoh+qCppN539vZ+ggAbigG9ycWnHVIAURBpoJAOiUt8cQ7+ZW6lLYe+sdJGm0jP1tu8sEJQAApU5hqr4Crjsvp7hf1kmxRjHt4oc3Z3w+yGENPHFjy4aw6WPpVvQ6ApV05uVPLA90satsZ9PVenHX32kbwwkOPe+2eO72HxvCpm8OnTiYQYyotDoAABwKXRod028+Gfuk+vimDtToO5xG/3iSvbiAJBS64X+v2Glw6ymbibpNmR0WPtvuOEYGczrVz/9vYB2NxPkwrtU1V7C6IQDyz40CChazIP7uu26XUIy3YeEOnNgiDKA/9/kK41coDPrp/ufP7b3RXNVJZ5InLEhmWCQbyVycQqDg9nx9CoNH7/zyRHCM77vbN4yZNoDscjAcZq7zveyjVasbFeoihSJHpryi1drKDtEPXMH7WMxMKATXf9Oh50ppAwY1tG47Or1+y/Gc15ZkTowNBgB4kPAepH4yQDnIMEzehaAwyH9vWHdSGx6IFFx9ebshMpZOq2uo6ECi+sR4vOczdIRUatrRjkPnu8+mUNM8UHc1rCK1EAPDIqCORq2MJycdaNt7lX15HH2iIRKETCvL41r3V3AJY2hpB9r3FQkKIADAIfAU6ljTWledl5O410mHmMKIncKIXXjty3s9EUse2BAeg0enV5R2Tg2hfUdA3/Wl0+okRR3pWp0YABDNOEBAJTtS5SxPjks+X12/ZOsew9eP5k01JvPR6vUlHV3BdKqtvgNPlQNHwGc/Nt5+m9GTokdPigYA6HV6iNVMePcMGAIRhkCEEbDLAdDJlTfE0p0S2UkAnDMR0+q4QvE2CvElx7uI5coVX+x6ZGLC4ZxykUyxKH3U8/PGAQBKm1gf770gVapSw/0N+mSxXDn+tV+Lt7xs6Ljqqz3/W5CRGuEvVah+Op59vaJJpdES0Kh/X10hU6o/3nuhpImFgEGP5JYBAA5vfhwKhVwrb/z99M36Ts4fLyxJDOm1HK9s7f7y4JUunoiIRb84P2P8qCBbU7KkuZvHFcumJZq/l1uOaavQSEFd+yf7Ln6xdjYJh7Y6ecvuAol8zbf7FqePOnazQqXRbpybPidl2PJajiwIFKxCqmK1cJmB9JbaLjwRM0QOgEMKDo5fH/TMHw1bPq58J4U6loKgiDVilryzVlL96aivaShHjaM9UB5TvWac7876rPKDeHKSVq8pFhR4oDx7lP3EADNDp9c2ShvkWrlCKxeo+QCA27w8IoKEgWG8UAwy8q4fOwFOiCXFVYkqdHpdHDnBYHTv8vMaAdyzddJB7m2yyKE4ukhxs6r7EcvyQUoJ9tHohFAIAgoZcj8etbanTfCNQH5JqxOj4L5ehMe8CI/13w0Ag/RplioABsUn+5UqNR3FHRlmre1UOcsoptdfqxfvyS/R6/WzRoXPjokwVpW0s/R6/fQom9Z1Q5iLUCFTorG9qjOjdNVW1+UXNoT2aAMCikGNw6DGUYgtPOEHhkxbjiOU/EYmbHAq72knV6RQaY68+zhHKF3w8fa5Y6L9Pchv/HP65YXjpyeFlzaxnvhuv53u3x65JpWrDm9+HI2Ed/HFRCyaiEX/8tyid3eeDWXSH58y2thywqjgCaOCl3x6Nz+gTKl+8Y9jH6+ekRYV0NYjWPv9f3+9tIxKwFpOKdDLSsp3sUxJwKBQiD63jdUxPUh4y8IATwoAAA6FGiS/355fzKAQAACWk7c6JgmLbusRUPDYo+8+0djFXfPNvtGhvoYRXMuGqV9kzElY/XJv/sdd32dlnyr+/cKbhq/LYt+WiuR6vf6Df55KndJHk9/ewP7361MluXVyqZLqSVqwbsLipzINVVeOFe77+VxnM8fThzLzkbTFT2UaRCKpSL501Fs7bn6w67sz2adL9EC/cN3ExzbNtj9DmVgZmRhQX9bGDKTXlbZFjQ4svRPOytYMdVrdGyu2INHIT3Y+A4FA9Hr9O6t/V6k0X+7baJiJa2foIPHkxM3RH55hnSwVFEs0Yhwc74HyXOizhIhwzix6qd9KEoJ8refyZfZ5MpKS6Tl1gsekl4qcM0iQaWVfVX9qWrKrZbvhwzzmwnnMPlHQ0mgZJYIiAMBYmpW3EVed10jCZeskHALb3Xz9eHu+WC2f75uyIWw6AOB4++1dzVcVWjUCCn8yZMosZqJYo3gs96fl/ulH22+ZtiwTtH5ReUSmUabQQuznNkBAYdsbL5/uLFTpNBtCp89k2nTia5dxv6481ibjwCCwlQHjlviPderolt0BALubr0s1ig4Zr5DfqNfrd497iYToX4LBoxLifa4AAOTq+lr2kxGe/6ARQQAAJGwIfzdbeB9QsbMo2OlDdwgAgEYnrOhaCoeSQujfI6BUkfKW4yIdFIJJ8Mm2WgWB2DSEsFPlFGOD/IxW7aYk+TFvvm5vkRlCAeuD1b9+tPd5052LoqtVn67fNmJzFCLgAV60fySywz38TXq9eeRWW+h0Iqn8DB7rXAjKRyYmAADoJJy/B7lbIIbBIHyJbHpSOAAgLsjbvrXWtfLGX59bhEbCAQDOiheVrd0ENCotKgAA4OdBHhPhl1PZPC812nJKVgUsDxJeolCqtVrTsL9Wxwz38bAsNAhYt2rbTtyqPPbeEySsTanU6pizkyMBALOSIwAAwQxahI9HSVMngxJha5Ah4kDZZwqZalHk62bl3G7hq0t+DI7yeeePdTQGqaWGRaL17p8WXK3+6a39L3y2PDzev72R/eNr+zQa7crnpxn7fvbc9kkLRy99drKQI4HC+9dFqVWa8AT/2tK2CfMSa0tbIxMDC6/dDQBodYZQGPSNnx/bOPPro39dXfRk5pE/r9ZXtP+a9bpBinL5DGNIsVuTrWQQt8QH4/tksE2jjaleM6Z6zTArTKGONduVgwDIdMas6YxZpoVmE5jkOXWS51Q7M8HDCQ7OGQCQREm239j+ed2/DH6d1Oi1Kq16f8YrHKV4Rfa3s5iJATiPJGrQRK9oEgLbLGU/dfO3WcxEAABLzldoVaYt/bC0d0v3vhA+awojrkzQ+swte+bzap2WjMT9l/Fqk4S9Pu/XBGoQA022Mje9/u3i3W+PWhJJ9BGr5Wtu/BRJ8vHHeTh4dKvdY0h+AIDDbXk/Ja//MG6FQCV1RLoCAEAhaDQ8AACg00kBACg40/B1KNEJFdlU7Kz+Gw6ODuHPGh1vlPdxOJQEAMAio4f6iPccRwWsf784rpSrHn9zvmnmMvuolZpP1259998NBkvbU9uv/b75vzWvu9xKwMXgsYvhMF8W5xG9XuZgF4nsgLMCFh5zR7dn7Q3MsEVoqNDrgaGJRN5rbarX6ftzq7IJBABbyTrsT8kAg0Ig4TA5Fc2ZJm6AVse0cyC2QJIQzNxyPGfzSpumlHa6a7Q6g9Cuv3cbBFCYleOe3p0LgUDe+3M9BocCAJgm1dnzw9n5j4+ftHC0oXzW6vTTu3JMxZeE9LD5T4wHAPiFOOTGr9fpIhIC9m85DwCoK22btHC0ward/gzp3uRXvlv12YbtRCru369Ovbt1HY1BGqIZunmwGeQ6uSwgHQBARxF8sTS2QhSA82iW9uxpvq7X6wEEiDUKrV5ntSUcAhWopFMYcQCAWLK/L9bc9teMGd4JAIAgvGc4wbtc0MpgkC3bsBT8eknXa0V3Nf2tUo4/zsPBo1vtbhCwRlNDDHb0ZKTL7M+6xP90i/5VajtQMF9v0jOe+JWGcoWmuUPwo0hxU6PjIWBenviVTNJzJr3+7RbvUGnaoRAcDhkdQP0QgwgBAFR2LZOpKrV6WW3PM4aWPqTnfcmvGj5zpcc7hL8oNc1IGNOT8AiDuB4CYAAArU50uy0+0Se3Xfg9T3YGAD2DsNbYyxZc6Qk6btH/2Tvr6LatLoBfWWaOEzvMbdKkbZIy48q4tR13W7d10DHjN2bueB1jt3WllZmZk1KY2TGzZEvfH04d17FlObFDy+/s7NjS1XvP6svV1XsXnNaVB9QNnq7KsRN6ADJd8YOU153qxNM1sPb8c4LDY9/7WgDxaG/+/fD/bvj8/ft/fObrO79/de223w89u+LubpHGncsZrpB92aC6k6a8xXaIJC0I0vZI0RiZWCrg7ThTOG1w2qXKhgqlBgAEXI6Ayz5bWjM4NfZUUXVVk9YpPKZ/8k87T75661QOi9moNUqFPDYTBQARj1Or8pPGMDMx0mzDD18qH5OZVKXUHs+vvGdGAKU0GQzkzqnD3lm1R8Bl56TG2DC71mT12mZUmMhXRzOGpo/OSFz2xdrvt59YOr3ZY9Fj8BTj3Hzi8g3js0vrVYU1yqzkdgUBBZeSC9Vp2QlO68qDsoLaS6fL/v5yl/tBu93BZDYvBPYbnBRod2nZCcUXqu24o6qkoe9AuokYRlzTf9atoz987I+F904aOqnFgy0UI+ylZ9M2Pel8ORQym1evEUAASC1meuHcH7+NfiRRINdgxpl7WzZqPSQ92vT7iuV68aB6KyVJFEH/Hf+seylug91Kt3dvlzsRMIMcuNNg+LVa+0mS7HUhO8uInStXv0ySeKToNgBAEQELjewj/4yFKgzWk2Wq5/jsTClvIgDorcerNG/3kX/FZ/XFHU066xHXhmO/yF8I0na6anCfiM+k/GsAgAHNm046y4Ey9QvJsrcEnGwrXlqqepYk8RjJg67BFDU9GCG4Nlp8n92hAn+bcXZCgzsa+ax+FDK+GhwSf44gzScrQ1udNhQEUCrnmuuH+5dzgyfkvvH3wy/e8OmSIS+SJHyw4cm+OaFe6gwaAt4MkeAmg+kvOsIkiVux0zyOF2e6d//Zu/tcsQXDb//or37xiq8f9J4HC2Uw3r1z1ht/7vr030Mj+iWM658MAAgCL9w4+YWftzJRxoj0hAkDmheNnlk44eN1B+a//rODIKUC7vePXe80sK4fl/Xsj1tmvPS9RMD9+7nFAPDSb9uLa5uqlNqXf9sRLuY/uWDCwKSoz+6f/+6qva+v3Cnkcf5385TkSJnBEkAk9u2Th+B2x8u/72jSmUR8zt3Th986cVDrNgHA60EnHBbz0/vn3/XJqkip0LlB6TF4HpvV+nKt0cJhMXVm67zXfrITxAs3Tg6WA5bDQQAA6sNP3Gqid39I8JrthiRIqxm7/alZU6/+C3LZLgDA5gYcWSYQcaURwiPb8uJTI+lfTpJkTbmSyUTdi0CHaIS99HjaoCcB9eKpbXZgCIKEc0QAsKbqOEUjUbwwCYu/uz7vmqisfH1NlVlF3enW2rMLE0aWGRuLDHX9pd7r2UXzZAn88N/KDtyRMhEAigx1SQLvWQO99u71chYjJO43NbrPY8T3RQiuBQAuK8WKV9boPncaWCxUnhDW7CfKFSbWG34yYRecBhZBmgAQNqrgMBM4zAQhp6VYEwPhA6AAwEA46NUeUTW6zyJFd4QL5gMAl5mkEN7SYPzD3cASc0c3u6iz/Oc1dBAmAGChEQBgJzSnq5rHMDyx2Lkq5q/Bzsw4Y7Pb9xaWljVpbHbv4R2PTR7t9TjdSSCJELYhDJAv4r616tHXb/86OTO2G1lXTmTiZ43m9SRppSNstR33amA582C5HxHxOK7AQABY+cwtzg85KTFrXvSMp5g9LKN1oJyQx3n5lqnQiuRI2arnF7sfeeM2T+cVAOgXp/j5iRvdj/gaklcQBJZOH+5aefLVpq+DKx5e6Or0nxduoxi818ttuP2eGSMCWnWjQ2FeJcpkRERLnV/5opZSmwBQlk8ro1JievTOf05gVtzDFkEYSEpGbEVhvav9YJGek7j598MZgawtrf12b8G5ik82PP7i4q/X/7j/2rsmhHSEvfR4AtWTTL4XAyuGF7YwfuQth5fzUc7s2CGxvjf+UITxRvbN715c92XhtmHhfUZHULlgpgoj9bj5+oMf2UnHMxnznQ5YL+aurDKrmqyGF8+tlHGET2fM7yOKen/w7cvzN83f/66dJBIF8o8G30G/dwaCtL48FK8juEONO5oEnGzXESEnu0b3KeZoYKORDtJcr/9eY96FOWpIknAQBvLKbpqUN1EuvOFi3XUCTrZceEOE4FoG4jN1kwsznm+wna7VfeV+kCTtCMK80nsA+1EoQwAABGkFACZDkh27T2vZU6F+3V0moAY7jAaD8baf/qnUaH0JiLnc9hpY4+YMOrHrAuEgqKPBF2c95/4VQRAOj81koRt+2Hdw4xnnwd/z3qXZaeeColFC3lyD+R86whh+OdTj6SW4/PXFzqxRfXh8zqXTZT+9s3HWraNdu3uZQ1N2/nN82DWZ8hjpsR0XLp8uU8Re5fLvwAkAIOyE+8HZt43Z/Nuht+7/6caHp0rDRfVVKqvJNnpGFgAsfmLGG/f+mNA3cszMbJIgywvqHA7HNQuGtfMnpGcn7Fl7atatXv62vY6w4Fzlz+9v/t+3d/UZEPfY+ze988Av/YelOLcXQzTCXno8gerJMCbXPfnnz6Mecn54JH3WI+nNoam3JY8HAJEPySxp4soxj/ntS8oW/DHmMQC4M/Uqr523sr28QMbyZB8M8ny/pd+718tvTfKTxshJ0SOP+xcCAIBmK/Yqb0sSAFCEBwClTU9a8KLk8HcF7AEMhHuhzt3dmZEkez1GvExpWl2jXV6n+zozarVzMck3hIOwxEmflAuv8gtyWVcAwAgkdp7JCGMywix4kfNSLjOR1apIZUANdhif7z1aqdEOSYidn52hEAoe+GvD0jFDUyJkBQ1Nf57MnTkg/e35PqMv6RpYdzw///Lpss+f/fPeVxfyhD7vwg2PzAh4+F0YIX8hTcVht1eEejC9BJfzR4tXf7MHt9mjE8MXPzFz7h0t2vCWR6dplPr3HvoVx+wjpw548M1F/3y923nqlw82r/1uH2bFAeD1e35gMtGEtKgvtz0NAIrYsA/XPPrze5teum0FZsMjoqSL7m/W7COnDnjlh6V/frbj7y92oSxGXIrihgeowtlokp6TCK28o3yN0GSwvvvgLzNvGeVM3DBq2sBpN4x498FfvtjyNE/ICdEIe/kv0KsnOwY2M5qFhhuxXAmvWVkZbblsZjTKEAOA1rIvPuw5Z64sgsSsds/602xmdKzk4Wjx3bk11zSZ1kWLm0t7IYACIKRnbjOGgJ1hwQuDmB4ijD9VZdoYK3nEI51VF+dwaUVyeNgvdyxiMhgAwGEyM6IUM/unAcDcrH7Xf/fnqOT4eVneMzIiHsFHvji995KyRvPLuxsIB5E2KEkRJ2vtsOKe6p0OBtPfSs1jfsUQhJ8cWxJQy8GCJK3ltWkkjaJmDIY4KabAr1gvvfTSS0D06sn/Jmbs0vm62Vkx23mslkJA9Yafq7UfJcneELKzjFhuufqlxLCX5cIbACCvdjqHGZcc/jZBmKq1H2sse6LFdzsD8dTmrQ7CIGAPQBlCE3ahpOmpPhGfhvFb/ExyaybxWH0Swl4ABEERPgtVAIDGsquo8f5Y6aMy/nQSSAtWQIIjQnAdXAn66xf5u4TrPSW1V2z26gt1c4ScQTGSBxkIt8m0vl7/g9MHy2+DDsJ0qmpAmnxF62RdNnvVuZrxGZF/irkj6Z+iz8A3P7suJ/P1Oc0vnGM+XPHopNE3DGmuSfP46s2Vat2ae7371dBdwfrfzS1Vrk7tuehVJlADq+uDIFw2K8OG5fmVJAg9SeLdyzDvpZdeemk/vXqyw4gSLUGAWaNdbnPUcNDYeOkzTusKAFIjPihTvZhbM56JhkeL73UaSU4QhF1v+NlmryRJO4cZFx/2tLt1BQApER+Uq185XzeTyQiLlz4VIVwIAGG8KWmKb2t0X9TqvkQQJpeZEiMJuJSwOxxmXGbUqgrNm/kNdwAAhxkdKVqMgJ+ketXaj+r03zudtwqV9yEIk8fqOzB6CwCUq19RGv8mSBsAXG64GUGYIs6QjMi/qE8FipDDtmAtLw9hfF6VpiXgPTk8bG9hqa9r6a5gHd953q/MiFZ1Bk/tvlCcV2WzXFVr+o4X5js/dP03MwBoUN1nsmygI5kUU8BgdK80zQSOl2D2fAzPx/B8u6OGIIwEaSQJI0FaGQgPYQgZCJ/BEDHReBYzicVMYjFT2Kz+3eFnkhheiOHncXs5bq+w2yschIokzQRpdqZGRBABAxEwGEImGstipjCZSWxWOpc9pD25NnrpPpAYno/hl3B7MYaX2O3lBGkgSBNBmEjSiiBsBOEgCA9lhDPRaCYaxWL2YbMHcFgDO2Xm9+rJENCrH3qhy/XfrbQTxLr7mmOwHl+9uahR9e+y21AEAYDn1m/fU1By4tkHvF5LdwWrtfHkl7+Xb/v13Q1JGbHll2uSM2PrK5rsuGPmbe0tDNQO7G3IXM+kvQNNkmaATlcc/iFJ3GI7aLZsNVm3Oxw+i7URpBEcRue2vA1y3c4w2Kx+XM5wLns4jzMGdXtP6nTsjnqTZaPFesiKnSAILYUkSWoJ0IIDMLwAYI/zIIKwOKwcHneMgDeXzer5WYb/a5Ck1WTZYrbutdgOUNQtJkkrSVoBdA5HPYZftVrPZvXnc6/h86Zy2aGqCtdN6RZ6slc/9NIGJvRN/mL/sTKVJjk8DACm9Ouz9WLhPb+vmz0gvUqj23Q+f2hirK9rQ1gqZ9tvhx5bftvUm0bdkPbkF3texDH7hw/8FJUU8kKnmHUPmzsJs+5msrNJQkMSOiZ7sMNebceOszgTGGhgeagRBt1XFjouCIGC4fnVDZMoBMKlb0qEd9NsjSB0OuP3OuN3BOEnHyl1Mxh+CcMv6eFnAAaXM1TAmyPgzWKiPidZqCFJq9G8xmhea7EdAyD8X+CzHdyKnbRiJzX65WxWfxH/epHgRgZDGryRNoPhl6obfGaxd6KQfSnke8+aFigEaSyv6UenQC+DIUmKudzmOgEeaA1fqXVvUAhwWANjI3dQN9KkeUZv+s3XWQThJMUWI/70GG4v05t+MZj+at/MBwy/iOEXtYbPWKy+YsFtIv5NDEbwS2F2RzpXT/rrsZvpBwrM1l31Tbe3TnnqlXDJqxLRfaEeUmtIEq9pnOnxcuILFjM5NnIHAxGGelRtZn52psZsEXGac8bO6J/29+m8I6UVR0orAIDHYj0+2acjmv+aYm1GVa/tP6IPADAYDMyKs9jM256bt+bLnaHr0QnhqLAYvyZJncWwnHDUk6TNZl5FkkbCUY9Zd5CkMaDWEKDrLhBQvedg4XDU0hEjSKNa905l3VCN/sN2PmM8GrbaTqi0L1fWDTWa/w1es7S7J41aw+eVdUOVmqcstiPt0Z4eYPhFle7VyrphGv17Qb1jAABsVrrf2YLhl4LVnc12mo51BQAEocPtQdtm8qthOeycdnZBkja8OfDbOw5C3aR5uqp+rM6wIoj/jjhepNK+XFU/Umf8vuMthi5I19ST3VQ/UMDnTpGI7qUprNa/TdPKCS5q3Zs0+0UQtiJ8RVe2rgAgPkzy0qzJEcLmYkcogvyweMFrc665dVj2E9eM3fjAbdlxPguKBGxg2XF7RUHdpZOlDVV+UuhKIkTqBh0AKOJlRbkVAMATcrVKQ6A9BgpBqBGET9hrEISHMpMIRxUgbMJRxWDGoswk+tVJndCXZzCCVm2KPnYaBpbZuqe6frzW8BkRoHEZEFxOB2+aEHrjT5V1Q9W6tx2En6nY9j5Io0a/vLJ+mM7wNU0bhR4ohzWAWiKIBpYVOxmAsO10sPrF8AvUAu03sADA5rsXvem3qvrRetPvQXyyuuMg1CrtSzWNUzrlMdal6Hp6slvrBypk4hdp/uGQJNaofoAkAyjU0X4s1v0643c0hWWSlzmsgL2POh0Wit44JOulWZPvHTssTuqltKKLALYI9RrTj2+s27v2pDPFzsJlU5a+sgAASi9Wr1uxZ+5dE9KuztU+cHTfEzvyBozsM3J61qeP/z7nrgln9l5K7BfTpl8UAHyRs0Jkc+0pDj8OgAHgaFuufZpGCYMhQRBaxdKDi91eQ3neoda9rTV8TXNJuc2wWRkduUWI4flKzVM2LGimADUEYVDpXjda/pWHfRws3wsOO9uKnaIQsAXRwLIFYGDZsFMiQRDCgUnShuF+FsM47GxqATpg2HngX9+qd6tS86TRvLb97fsfAF5Y0zgzXPKaWEi3Kl/Po0vpyR6gHyhAEJZC9k1N41SC8L9ageGFKt3rEdK3/EoGBQehbtQ8SvNxI+DN9PBv+bfo8uenj1nsOALIw0NG3pgxsFynvWvL2j0339X6co3VcveWdWsXUNUdcXKgqjwzQhHBa+PE+2DnwcxoRUaUPCk8zGsxNAroGlh6jemJ2R/UlDayuaz4PlFVxfWuU9GJEQc2nGZxmB4G1q1Pz+ELuQBw3bIppRerf3htbXSS/InPPNPdhgzXjXCu0rWxkpHdTmsPjoXSrbYbXChWsAjS1Ki6z2zd3QHD4HO9lO4JEXrjzyrdyx2/L2PDcmsaZ8gkL0mE97S/NbY/28LhaHAQapQhoxajgcOGnaEvbQ1EmAIMv0z9To8gXBaLqs4JTWy4Z4Cz3VHX0HRH6+OhgyTxJu0LdkedTPJCh3Xapeg6erJn6AdqWMzECOkHjer76QjrjT/yudfwuZP9i7abJs2TDkcDHUkmGicP+8T9iAnHXju0Z8dNd0bw+CYcs9jt1C2EcXl0rCsA+PXC2edHTWizgfXDkeY3YS6L2S9SnhmtyIhSZEbL+yoi2Kgfu4KugbXyoy01pY23PDnrhoemcXjsmVEtQYk8ITdzWMqFo8Uel8SmNMeX8QSc//3UCa52QQF3lNMRY7OzQjwQ7zgcDV4X5whCX9d0kw072zHD4PM6Ius3SeJN2ucMppUd0JevAai0L2P4pQjp++3M5cNh+V+8wfBLXgtcBoQNvxzQ1jCG5xOksf1eERQ7d044rIF+ndPpgOEXXcvVAOAgVHXK64PoSUYfreFzEuzhkpc7vutOpyvoyZ6kH/wi5M+32A4aTH/QEVZqHouL3IO2Kk0TXPSm30yWbXQkEWAqwr9mMK7aXCNIEgA4KAoAAhZbwGp2KidJ8qm92/JVSgdBLJ8yO10WAQDrCi/9eTmvUqc9dnuLlfnywd2ZEYoNRZfVVsvcPv0eHDyiXKd95+j+IzWVj+7azEWZC9P735wZ8Aw89syywoamwsamwoamgsam9bmXVp7MBQCUwegjl2VEKTKi5HeMHOz1WroK7ujW3MxhKbc9PcfrWUWsrPBccw2E8st+XmWSMkK+SxgsCNKI+9vmcMJle7+/oYYEu92h9IiRJghDXdMNNizX11XBBWWEcdlDQt0LQRrrm2612k6EuiO/GEx/4XhJVMTv7Unnw2b1YSBCatMnOAZWwHeMsGHn2t8vDQesIOwPAgBBGHB7BYuZ5Pxcr7ypU6wrJzrD1yxmiliw2L9oD6Ir6Mkeph/oECF904adxvB8v5IOh1Kpfjwqwmc0bvvB7SUq7Ss0hcMkz7VOdCJic5YNHjH9719uyhx4a2Z2+JUFpzKd5v1JM4ZFx/524dy3505+NHkmAFyXljk2LnHuas9f9G/R5R9nXcdjsuwEAQBJEumKGfNnrvrl0ymzU6Vt3A2Q8rjDk+KGJ8U5v5IAdTp9aZOmqLHpYHHFpvP563MvtdfAUjfqh03p7+ssg8mwY83bAcvGv87msMThQpsFs2P21nlM11V8SrPTTsdqO07PPRbhdcgCrFccjhp3A4sk8QbVXR1mXQEAjzs5pOGoAECQpnrlLQE5a4cUK3ayrunG6Ii/26FDGWz2AKvtGIVEUPzcrVjAjxyb7XQQDCws5CGELX3h550GVqP6fr8rZ6FGpXmeyx7EZvnUlj2PTteTPVE/+AdBuArZiprG6c1FoCkxW3fpjT+LhUtCMRKSxBtVy2gGOvC5k6Ui72k578keOic1/Y9LuTNX/fL2hGlTklIBIEogHBYdCwD9wuXby6hChgFgWnIfHpMFAM66gcHFguOX6hov1DZcqG24XK8sa1I7SJLHYuX4jiKka2BJIoT1lT5jMcou1UTGhzs/ZwxLKTlfRTiIrDFp/YYkZwxL6ZudyOZ2y9oIJssmOmIc9iAm6vMWhxq7o5YDLQtITZonLbZDHTmAUDtgkaS5XnlzO7UnAxGiaASC8BGEB6SNIM0EoWtPeJENO1fXdFN0xF9t1qEcdrYfAwsLhoEV+Du9NQjewQSGX6aWCKKBZcMuCHhzdcYfzNY9AV6KoKiCgYgYDD4CbIK0kKTR7qgjScz/pT4gwd6ofjRWsfW/UxCmc/VkT9UPdGCz0iKkbyo1T9ERVule43HGsFh9gz4Mtf4dmi6PKBoll31GkWkvWih6avjYMbEJ7x0/6DSw+Ff2CgGA9Oc+77Sugsufp3LP1zScr60vVaodJMlC0X6REcMS4+4aPWRgTFSKXIb69nyna2ANm9x/+59HTu+9NGSSZ5TEntUnCs6U3/jIdOfXj7c8QziIioK6onMVhecqDm44U1VUH983KmNoSsawlH5Dk12mWBeHILRGM63iD2LBbaEeDAXu7qU647c0y9oDAILwOaz+TGYCE41jogoE4SIID4AkCK2D0BOkFsdLMPyy3UEVqIgAk8+lSoXabshG9SNt0J4IwuJyxvA4o7jskSxWilf/A4I02e3lNuycxXbEYj3gIJoC6sKGnW1QLY2W/9m2EAq/bliYvYAEe3scleyOGrujLtCr2h9+hdvLCNJEIcBgiFjMlHb24sKG52F4gVr3Jh1hJhrL407gckZyWNksZiKCcFqJkHZHnQ3LtdqOmKzb7faqQMeD4Rf1pp8kQrr5iro1na0ne6x+oIlIcKvFdshoXu9XkiStDeplQTf9LbZDOsM39GQZkbKvUIZ3A0Brs2IOh4IvAIASrTpKELTkWCI2R2U2t3mL8LXNexgIMr5v8u0jBvePVvRVhLP8+ba7oKu7b31q9tFtuS/d8uXoWdkDRvQBgOqShvXf7c09VHBse54iTrbwgRY3ZwbKSM6MTc6MnXbLaACwY/YjW85t/vnAv9/tAYCtSpr/GJ2M1vgNSZr9iqGoXMi/rgPG4wuXAWTDTqu1VImzAaA59zp3Jo87gc1Ko/OXTxB6DL9ksR0wW/fYsDyPEFwOZ1hIX9G0+s9Mls0BXcJipoiFdwn5C1BGGLUkAxGwWf3ZrP4iwa0k2C3WvXrjb2ZrALlwLbaDKu1r4dLXAxqhE79OSCSJ4Xgpm5XWhsadtM0lxUGocXsZi5nc5n5tmF8P96xg5YsHAIt1X7V1oj8phpA/XyRYzOOM8tc1wkRjmLwYAW9mOLxutu7TGj632o4GNCSt/nOx4Lb/Qum6ztWTPVg/0CdC+r4NO4fby/1KYvhFtf6dIMZhEIRWqX6YZl6GMPETXM4oX2eVZtODOzaacZzFYCRLw94aT7Ux8tiuzTVGvcpiuW3jPwPkUc+OHEchfG/OsGf3b5dwuLcPGLQgLeA8GtmxUZfrlfsKS89U1qRHyjOi5ANjo7JjoxJkUr/X0i32DABVRfXvP/BT8XnP97m0nMTnV9wdldjyBkCSZF15U3FuReG5iuLcyuLzVdIIUfrgpPTBSemDktKHNCvurlzEFMMLaxqn0In1jQh7P3QrWH5L5QCAgDc7Mvx7gjBUN06x2yt9iTEYErHgVrHwrvYkrHIQKot1r8G8xmI94PS6CJe8LBG1q8Q6BRbrvrqmW+lniUQZ4TLJ80LBje1Z9bFhZ1W616y24/QvUcg+F/IXBd4VWV7bjyD0lC1/1Z7HUpP2Bb3xpzZc2NZf1Ixa97bW8DmFgFT0oEzyPzpNUZfKoQmfOyVc8nJ7NkdMlg1KzTMB5ewOVqGSXj3pi56uHwLAhuXVKufQS06BRMv/5nGoLBL6NKjuNlm20JHkccZEy1eF2ls3ROAOx+V6ZV5NfW51XW5NfaVaCwASHjcrNiorNmpgbNTEvt5fRwOYZ/F9oz7f+fyFY8V5hwuVtRqSJMOjpVmj07LHXPWG/dyCT4rzqrg8VtqgpLTBSTc+NiNtUJJA3J3e5AhC16C6i85k5bAGigW0UnGEDmcqLJXuFV/WFYKwxIIlYeKn2r/UhDLChfxFQv4iu6POaF5lMK3ic0OVoIEgjUrNE/S1J587SR62vP3FpznsQTHytTrDCrX+HZrZdJSaZ7mckUw0LsCuEA4ri9phDsMvA7TdwKJYwZKIlukMX/u8EDvdnkdCh4UQ+oWBCMKlb4gEN7ezHQFvHoc1qK7pJtxeSvMSvem3TqkE12F0rp7sWfqB1GLlONG8ECjnBhwhwWFnyST/oxfHRyrVj8RF7m1/FUWD6Q+a1hXKiFDIvuym1hUAsFDUaUstHp4DAHqrtaChKb9eeaikYsXBE3aCyH/lca8XBmzIDxjZZ8DIPhQCuQcLxDIBV8DNP112/mgRSXiukK0u+cTrhV0Eh0NZr1pMJ9IbQThy2Rch3V+ng91eZTSvNpj+9HqWxUyNDF8R9JgmJhotFT0qFT0a3GbdUeveou8/JBHeHS59I3i7TgyJaBmbnd2gWkInXTJJmpWap6Ij/gq0Gw47x5+B1XY/d4I0UoRwS4X36o0/+wr8sdmossz7hUYSrJz2tE8TFJVHhf/OCVLuJSYzPka+rkY5l2Kd2B3cXmLFTrUOR+8ZdLqe7En64WD9ayZ7Axdt3rKcGP12G8YkEd5rsR6is4Npd9QrNU9Fhn/fhl5c4PbSJi3NrUZEIfscRSPb012nY8bwYqWqWKkqalSVqTTVGl21Rme12xkIkhTuc685CIn+PPj6QDfOs2ex7lNqnqD5dysP+6g9/jHBwkE0Naof9npKwJspl33OQDqhSGI7sWKn9MZfaApLRQ+HIoM2jzM6Wr62TrmAjg61WPcbTH+JBDcF1IXfhZz2FLmjqPGMolEoGsVhD/S1xIXh+SRpaZsLkcOhdDiUFAIoQ8ZkhjyjN8qQxcjXB9GVHgBQVBEV/lNN4yya9d1M5g090sDqdD3Zw/SD0V4/My4Irsly2ac1DZPtjnq/kibLZoPpzzav7JIk3qh+gI7vHQBIRQ/xuBPb1lFX4L6V64saVXU6vXOtiIWifeXh2XFRNw/NyohW9IuU89k+gwYCMLBO7bmUd7hA1aBz1iJszYvf3wPdKo+oOzYsV6P/2GzdQVM+TPy0kL8wpENqJyL+DXLZx52+wNY21Lq3aTpOCvnzZZLnQzQMDmtApOy7+qbFJPip2wAAat2bQv68gEqt+Q0ktDvqCULbtsV8igxYzgKrHFaOLwOLBLsNO0fhkUqB/+Wr0O8PIggnMuKX4FpXTtisTKnoUY3+fTrCFtv+oA+gc+kierKH6QceKnOQONru4D6UEaaQfV2rXESn8rRK+xKXM7JtsSwa/Qc0Uy1y2cPCJM+0oYuuw6mKmn5R8snpKc4iOX0V4fSTbNE1sH5++9+/P9vu/MxAu+tOamswvNBi3WM0rwkoP2GY+Kkw8ROhG1X7EfBmymXLgxio1ZFYbIdpBm2xmKnysOUh/Zk87oQwyTNqnf9Feweh0hl/kIq8ryZ6hcmMRxkyB6GmkLHhl3ic0fTbdEFR45nDHgj+DB0rdrptBhYNB6ycNjQbEDLJi6FbOpKKHtSbfqFTcw3DC+2Oeo9CC92RLqUne55+IEjH+vIbZdw0BBjQ1i1CJ1zOyDDxExr9B34lCdLUqH4wRrEhUJd/q+2o1vAlHUkGQ6II/zooFbE6kVPPP9jmCUT3l2/9/XBCWvQzXy5JSI9msbvX/SJJEicBJwmDg9A6iCa7vRK3V2L4RRueS72X0RoEYUdI3wt0J6iDYbP6K2RfdlPrCgA0+o/oCTLksk8QhBva0QBIRQ+YLFts2Dm/klrDV2LBEgZDRL9xNjvLYt1HIYDhF9tkYFHVeGY7V7AoDZ02Z8Pyu60ZagOLyxklES4NXfsIwpYIl6p1b9ERtmGnmbzZoRtM8Og2erLn6YeBstuDOJ4w8WNW2xGL7bBfSRt2Vqv/KEz8LP3GCULfqH6IZmyBPGx5e4LWuwjteY7SNZVkCnFCenTqwJB7TrSGJM2l1Z2WJ90dNitNHvZZhwVAtQ0EYSlkX3aFBDzHq6pGxAc8YWz4eZqvpyLB9Vz2sMDH1QbQCOl7NY3T/coRhFZv+jmgRSwOO9ufgeUnJbpXbPglilSfTr9vFjOZwRD7yhPR5nzuNsxPTmc6ha7bARIufT3Ubxci/iK17h06jxkMvyToEAPrP6Ine6R+kHP7N1kvqm0lYZwUOXdAu8fDUMi+rG64hk4meo3+cx5nEpcznGbTSs3Tzrh1v0iE9wh4M2g228U5Wlb545HTl+oajTbMa2arvP894vVCupt9z35zV1VR/dcvrDqz73JFQV1tmbL1f20ffpeHgQjDxM/EKnZ2cesKAKSix9ms9M4eBQDAJ4eOtOEqX+GQHiAIK0zUcbu0HHYWTWVhMP1B0zukuWV/8XRtCySkSNCAMmRM1OkoiVD07nAoaYbLuUOSZuqEh0w0KqTxRALeXA6r/Y8oP6BoFJdDawsyKAUluwsdoCd7pH64qFl5TvWDyV5/TvX9efWv7R8PikZSV6Rxw9GoeYiOnz4AGEx/mSy0svZz2FkyyUt0JLs++4rK7vp1zcHico3ZImCzRFxO6/98XUt3BYvDZcljwjb8uG/Dj/t8yWyt/yrQoXd9UIZMJFgsEd3rK8F/lwJFFVLR/b7OvrRjV5lGY8HxcUlJj40dDQDHq6qWHzrKZDDMOP7bDYv4bFbrI18ePX6ovAIArumTsnTY0HO1dd+fPPXF/LkA8NC/G5cOGwoAXx8/wWQwmkymWLH4ozmzipqavjl24kJ9wz1r1gPAigXzGb6rNblDkpjRvI6OpJB3LZOZQEcyWEjFT5os2/yK4fYKi+0Q/Tx+fvfLMLwAwBFosILNd/EQNnuge+8W2wFfklbstDDAm2zDL1Gv64R6f1AasrS3HvA4Y+kkysftFR0wmE6nY/RkT9UPVaZDM+KcTh3ktuoHgrJjyOdOlojup8h158Jur2rSPqeQ+XGrwu3lKi2t5MAMhkghW9FjanF+c+A4ALw8a/L1gwfQL5LjhK6B9fY93xefr0ofnJSek8QXcbutew9dGIiQx50o5M/lc6d7q1bWRZGKHqLYHHz5mkksFHWQ5IQV3z86djRBks9s2b7q1psihc1VnxytjpyuqT1dU7Py5hsA4O7Va4fFed9Qz29U7lx6JxtFb/7z7+ImVVpExAezZpz+7sfvFl4b0PjN1h0EoaUjKRJ2dP1HDmsAh51NJ3bGYFpJ38ByruhQeEyTpBW3l7GYVMnnWkPx7OewWvJC+XXDCjSPPIb5c8AKZQYsDmtAB3jQN/fFHuJfCICOL3z3pYP15H9DPwTt4SoTP2+1HbNhZ/1KGs1r+dxrhPwFvgRIsDeqH6QuMOoiQvoBi5lEf5xdnPwG5fi+ybcMa8uiLF0Dq6a0cfSsnJd+7MnlS1nMVC5nBJvVj8seymFndbsEBwjCp8hrYrPb39izz4xhHCZTb7MSBNFoMkl5XJctBQCNRqPHkWKVamBUpPMvfkBkZL6yKT2ipSaS48pudGakgo2iABDO55swrM0/wWyhFf7NYvbpKO+KqxAJbqWjQE2WHSSJIQjbr6QTDivL7KBKD2jDLgZkYFHXeOZcvYJF0U4b3LBsuD8HrFAaQELBDaFr3AOaG/EOQkOSeI95m4dO1ZM9VT/E8IfvqnkynNuvyXo5lj8yWONBEFak7JvqxqnU9bicNGmf53KG+0o3r9F/SBE0445YsFjIn+/8bLHjJhzjMllGDBOy2UYMC2IJ5w6DgSBxYZI2XktTbtGDU+srmyxGa9u66RZw2FlC3jwhfyGHPajbWVcAIOTNYSA+p+/Ryiqt1frxnFnPThzvdNOTCwQai0Vpan4pIb0dSY+IyKtvIAFIgLz6+rSICAGbrTKbAcBOEAXK5vLyaKsdQARBrHY7QbvSpRMzvbxBAt6sgJoNFgLeTDrvlyRptmLH6DdLI91oYH7u1IXSnCGETphoNEXxEAy/SDOjpvsl1AIh9WIUcP07GgcLJhpDL/6cJCjTcHQ7OlFP9lT9kCVbkiVbImBG5YQvDW5EIZOZIA/7kI4kRXig1XZcq/+CTiNsVka49A3X1zKd5tOzR3+/fG53VclPF07vriox22kVF+pSZEQpCurb6GJOdwUrOTOu4Ez5HUNf6pudIIkQsdjM1k41j3282Ou1dtzBZHUDe8VoXufc4Gcy43nsUVzuGD5nEorKO3tcdBHwr6U4mx0d9dWx40vXrJMLBOlyOQAwGYy3p0976N+NbJRpJxzfXDdfwuV6HMmJiR4RF3fLn6sAyAnJyYNiokmAKJHoxpV/yYXCvhE+/S0YCDKrX9qC31bGScROhy2/YPhFh6ORjiSfF6oCiNSgjAgOO4fOkrvZuofHGU+zWRoGVmCO0lbfDlgMhpjFTLyqd1aO2eF9YYAkcRueF8higIOiOA8AsJiJ7a+A5gs2K61j3W4QBhrhoJE1myCt3UD90aaz9GTP1g8KXpaClwUAOqxSwg7mNBbw5ooFt9GpmG61HdfqP5eKryqAdsXw8p+5FEH4kbIV7nkxTtRXc1Em7nDobFYHSepsVhbtFJ1dh/vHDb/3j3W/Hj9724hBgW7fIl5jDlszM+oBvzIeTu6Eg1j1+fYtPx9Q1mh+y30nIiZs96rjHD577JxBTgGaVeI7FQaXM0zImyfkL2p/peQ2gOH51Q2T6EgiCCcpJr8Dkr6EDp1hhUr3ql8xBkOUFHO5s5YYNfoPNPqP/YqxWWlxkXSzeDuIporagRQCTDQmITqA3brqhim+VpJ4nNHR8jXuRzT6TyjykodLXpbQdhvH8MLqhgkUAkL+fIUssJIgTZpn6DwbAEAsvCNC+m5AjbeT6obJdBYX4yL3t6dWTK+edPIf0Q8H6l8ZH/VacEdFkraaxpl05ioCzBjFRvd9/Eb1AzQDC+Rhy0WCG6/qFwAB+Lfk8tyUfhtL8+em9KMZ7dTpfLGvJRUIE2WcKK8+UlqZKJOOSIqXCfhMhueveGii95zMdFewVhfQzO3Wwtqvd234du/MO8at/HCz8wjKZKz6dJvLwOoOEFbbcavtuEr3hpA/Xyp6KFBf4w6Dyx7era0rALDheXTEOKzsTtzA5bAH0xHD8CKCNFLs2LqDMiKYaAxFdhm7o5Yg9DQfXQRhoNCk7iGETvy6YdH3PvCfwz2kHu70/mmCCE03OxLa7pXYTegIPdkj9cN5zW8Dw2473dSyNqGyUq0Btw0E4UTKVlQ3TvdV3N2F05k9LnKns6SPwfwP3bBN/iIP6wqubJfOT81w/b+78MV+Lz4eFWpthVrrVb69BpZAEnDiym2/HXp0+W0jpg10GVhJGTHVxd0ypoYkrQbT3wbTP0L+tTLJi1fSCHUhOix4KnTQ3Ajr3F/KYdN8PSAx7CKXM4J2s9l2C1X6Pgy/xOXQ8n61YWcoEiW4hxC6uqZoLSA/986tQhhS680rCNCLYyD9b6/0DEKqJ3ukfpCykwCgznIqU9psndSZT4ViYCxW3wjpW0qN/9xguL20SfuSPOwju71SpX2RVuPM1IiwDl08DjXvXxecFKkhLHrTWK2O63NVRkEEQRx4t9Y1hNG81mTZJhM/JRHdRz9EoANgszI7ewjtgiQxHC+mI8kOfRpJClCGjIlGU8ToubDh5wMysEyWrZStXaRpYFHUeIYrZZ7dQRkyJjPebq/yKu9w1NsdtTSflP5yNDBar58FD7RtZWt7CQHB15M9VT/EC8YBQB/R7BRRc3xGjSmA+JiAEAluttgOGc1r/UoaTCv53Ak6w3d0EpAiCCcyfAUDEQRjjH7YX3t/dvjjUs5VAbwX1d+UGf5FgDEw/OEE4QwKSQp2VS8eIHsgit9clGxeVnDW2wIwsDAbfnzH+eriBszmPRDgjufmuX+NSVEUni2PTWmJUTq8+WzKQO9RoBQgCEchoxXC4AuStJOAA4k5CK2DUDkcjbi93G4vdRCaNrVmVuleN1v3KmRfdh0X+PY4eXQFcHsRnYr0ANDpz1EWM5mOAvW7X+YOjXzudAMJKWo8IwifxUr12rsvAwsAbNgpJm+er7PuUIcQsll9aO6ZtgEmM7YnpUJoAz1bT/Zs/dBPutD1eWwkrWSebSMi7D0bdha3l/mVbFAto1lwMFzyGpvVv91Do8WEGE8PTrO9oVD3x+zEzWyGmHQbcGvJToGugaWq0z593Sd15T6DFYUSvoeBddPjMz978o+K/FoA2PnX0Yr82oMbzrzyWxvyLKMC3pzAr/KP3VFttZ222g6ZrDsDzQdosR2saZweLV/VRbyyuuCuZUDYHTU0JTs9hR2TmQw2/1WA8EDqzAQvkJCqxjOH1d/rcgKHnWOybPR1ldV2WkDDwLI76qhrn4W0BCELTQpd492Enqwn/zv6AUFC6EDGQISK8BW1jbNJ0m+6BFrWlYA3Vyy8o/0DazNmez0PlbMZYgBA2rVWGhLve7oG1m8fbKorV/YfkTrl+pFhkeLX7vjm+genJfSNKr1UvennAxPmD3l8uWfm3IkLhonCBCs/2MwTcn97b2NK/7iXfr5/+NTQ7REEDBONE/LjhPz5EUBabEcNpt9M5k0035MAwO6oq22cFy3/p8Psd18gCCd00e8dg51GuDsAMBjiTgnndIdFLxeAg8ZbrAsGQ8pkJlDU/sPwfADC726LDbvot8azt+M5FG3SdMPy7+EeSucYFI3wL9RLm+gKerJn64cjDW+PinyuxnTsSMPb6dKF2bI7QzY64LAGyiQvqbQvt78pX0m21LaLZ5Tv2hxqgrTHCacMinja5tDuqVmSLL62XL+BIPH+smWJolkAYMSrzjS9a8SrEEDTJLekSq4HADthPq/+vM50yEFiLIZwctxPbIa4znzwovpbHVY8IebrCG6OU+xQ/WNme73F3ritcgEATIj5hsdUtJb01ZHKmnda+ZadMCv4wxHfBpbKZGYgSBj/Kjf0E+XV56pr5ULBzP7pXJZPO4qugXV2f35cauS7qx9zZrTicFmpA+PGzxtyDYyYvHD4ozPfyxnXb/Iiz4rcQyZlDpmUCQAkQSKtIhu7EgiPM5rHGY2Ln1br3qV4m/fAQWjqmxbHKLYw0c6sY48yZJ3Ye1CgaY6gjM5/jtKstkZnm8AdDiuHwsAiSQtuL2cxU6gboXbAYrdywGrump0FwPD1zorh5+kkprf5LZITUgOrO5QK7f50mp7s2fpBj9cgwLioWTk/ceXeuudDamABgER4j8V22GzZ3p5GEIQVKVvh1Zwt0P6aLJqXKrmeIDGLvXnXy4hXcdCwGQlr9Vjp7po75LzBPKbiaMOzQ+UvhXEyMEK/s+qWME6GjDsgV/UxTpimJ/yDIlyzvd65OhXNHxfNH7e9qqVUA5PBnxjzbZP13KnG12cktDiWtZYkgWjdURg381jDC1nhj8YLp6qseXv1d/v6pX+eyltx8MTGZbclhYc5j3y069B3h5s9Mb4/fOrPu28S+6j3THdJTd2oHzi6rytfKE/ANemaAz5TB8aPmTVo/bd7fF1rxx1d27pqgcVMiQz/NjL8J/omi91R36C6i/77XCigqD/YXbDT23roCqYkg94YSNLmCCSFN41dQj8WDFA6YMHVRXLcYSBCr75ZTkgSw/wVwAF/K1gIMEO60NtrYHUkHa8ne7Z+QABR2wqFrGgOKqZYSgkiirDl7fQqkUn+5+uVKVl0bYHut1PKN9S2iwJWS/lapwe6mJ0iZaerrHlmvE5nKzpc/8Smipk7qm4kwWHAKwCg1nSwX9idKMIFAD4zqj2DdOK1IxNea3No4oVTASCcmyVkxfu6/EBRWRifl3jFusqrqf/+8Mlosejda6ffMiy7pEn9x4lzvq6lu4LFF3Gt5pZsLmKZoK6iyfU1rk/k8Z2eKthvotEui4A3g83KqG+6BbeX0pG3Yee0+k/CxE+HemC+6EblqH1Bp1oWADAYYaEeiV/oK3GC0NEXpuOGJeD5yYlv872ChSAclu9ICC4rB8eLfJ21Ymf81jb25+HeL6SzFGHwQ9d4L17pSD3Zs/VDDH/YgfqXJ0W/S5A44d87KggwGFKF7Ota5QI6Kdpbw+dOlQh9FiaO4o+aEb+61nTgvOoLHjNyZOTbzuMk6bhiPZIACAkkgjBnJ25u5TtFBNfK9NqREa++WspnjzVa/eCEGNfp7w+fIgHeuXb6yOT4a7Mzc6vrt10qXDbee8A43RWsqITwioKWPD2J6THHd5wnHM17Co3Vaibb0zXPmWh06s2jXUeciUZp9ti5sJiJMfK1TDTWvygAAGgNn+P2ipAOiYIeED9Fs+ZdV1iroz8GkgygdieHlUXtaGnzF0hod1RTuKqwWRkUtfP8uGHZ/OTmIUgj9fwPdXYiBLr9n0B3pMP0ZM/WDwNld1yb+JeEncRAWDPivw7Z0K6CyxkeJn6qDRcy0Wi57FMKAY3tEgAjTjhliPyFOvNB1/EKw2YA0GOlWqwwnDtQwIoRseILNL84z2qxQoLEACCKPyZf87ODxADAYm90HmwPXjsSMKM5qKTKuBMANLbLRtyne4bBalOImsOfVSbz7oKSjCj5yOTmFa/+MYo6nc9kFnQNrGFTBpReqK4uaV6nHTUzu7Kw7qVbvtzx55Ff3t2wb93JPgM9PfuciUZve7blnbt7JRpF0cioiN/oJmsmcY2+R2Vac6HBan8ue9S/XPugaYt0BVOS5pSAAA0sBkNEHWHuL8sUWG2UGbAoc0xTn7X583PHsIsAVEW3Qm5gdYGJ8d+kY/Tkf0c/6LHq1gdDRJj4ER5nXIAXoQrZNyjlSmGZ/t/NFTM3Vcw62vDsUHlz1gkU4WCEbmvldYfqHh0c8TyfGYUAY0zUJyrb+c0VszaWTzvX9CFBOgAgJ+IplMHdVnndpooZB+setpNWADjZ+Mqu6luNeNXJxlf21tyltvp0SGgt6bUjBEFHRL5zSfPdlsp5pfo10YKxvhqMEAq05maHqNVnLjgI4sYhLdFCDAQx2XyagHS3CKdcP0KvMgpEzbb5+HmDt/526Mz+y2f2XwYALp+95HnPQO4ekGiUzcoIEz+j1r1JR9ho3iiTvNTd0yW0JowdsySZ6n0lKNB+Q6WrvEJHiAwsAOCwcyh2W+yOauqCORQ1ngGAyx5KcZbN6o8gXF8DtjtqHI56FPXpD0Ejh3sOtUC7CWHO5F6o6QA9+d/RD7nqH4Jei9A3DIXs8+qGKQ6iyb8sAADIJE9zOZ7RbB4Mlj8/WP68x0EHacsIW5oRttT9oIAVOybKs3QjiyEcKn/J4+Awhfd7EsHNcfdw9yXptaMIbvb0+FU+fkQLWbFRB4rKL9Y1IID8dPR0GJ83P7slDWm9ziD04eEO9LVSVGLEA++0VBpioIy3/n5ox59Hyy/XRsRIx88fGpXg6WQarESjnYtEeK/e+BO9LCwOvelXmfi5kI+pJ0ICLc8DpPOqjLlBdwxkgIvbHHY2dZ5lDM+n0G7UK1jUahFBWBzWQAoTzYqdEfBm+R4Y1eoagnBYLLoplXvpjoRaT/ZU/dAxtQgpCdTbqXvEqwWRpWOG7swvXvjtSufX1+dO4bGaF0odJJlbU58S4dPrru2vfUwWc9btVKuLwUs02pkgCEsqeqCJXkkmk3lTTzKw8rQ7c7XbrA5zk63i+cwtzoMarHZ7/VcaWy0DYQwLv3Zw2BwAyNVuP9a0GidtTIQ1Vn7rAMlkq8P0Y+lDQ2Xzzmm3WR2GbOn0CYo7AKDWUrCj/iuTXUuQjn7isVOj7nc2S9MDunOjNa9A1ws10PLbdPK5+7KTCMKA4T5VMxON8usow+EMpTSwTlEZWBhVmCGbNYDC/auXHkCo9WRP1Q8dVovQB0Sj+iH6y1cAoNF9wOWM4rKHhW5MXY0BMZE/LF6w8mQuSZIzB6TN6t/yrphbXUeS5LQMn0l0Q6j1un6iUZoI+QtUuldppL4F3F6C20v9JivqLmRJp2ZJp1odpk8KrnceIYFcV/32rJjHorh9rA7jj6UPRXH7xvDSE/gD05JH8VCxylb1a/kTAySTAUCHN+Ck9d7UFUa7+tviewdIrwlnxx1Xrc2STh0cNsdB4ga8JfE3TVsk0DWhUEB/DIHGzXHYAwBQirgezO7ThLJhp6lqPLP9rOoDAJc9ROf7LIUbFgl2zF5I2XKO39576e6EVE/2VP0QLxgBHVWLsDUa/WcW20H/cm6QYG9ULYuL3M1gSOhfxUGl16cGUDa+qzEyOd7l1e7O4PiYY89QrRmF9rWy+yQapYLBkHI5oy3W/XSErbYTPcbAao0Oa2i0lq2ubNnkVmM1Mbx0la36uHotSRIIIFaHyemrCABDZfMAQMiUhbFjDHhTODsuWzpte92X9ZaSgdJr4vktZVm7lQIN1QoWgvDZrD4YXuBLgGKNyuq7Qg4AcDlUDljNMpSJGGxYHgl2rwtROF5E/e8SegesXjqfkOrJnq0fOqwWoTtW2wmN3ksedr/YHTVKzeOR4T8GfUg9D7pRhJt+PvDLOxvMBi9Oeao67etLvjm06SwAWM3eXRG7r3XlhMv2nuWiNTbsbEhH0rmQQDIQ5oNpvzyU9pvzvwGSyRaHfl312zOiHlyc9P51cVf5NnIYgquuBkgRDrm3z4oU4eB9jb/8W/2e6xyDrgL1WQemwyBII03JQA0s8Fewj6Lksw07R3Ehl8YKFopGUbgek6TVV+9+C1GHtAphL12H0OnJnq0fivQb7Vcc3kNai9AFQWgb1fe3LQkWAJgsW/XGn4I7pB4JXQNr37qTG37c1zrZFQCER0tLzldv/uUAACwb/8alEyXO4+8v+xHHusKOeBDwlQK7NZjdZ7bGHoCUHSVjxxxrWu382mgtdZC4jTADgJAlA4Azms3ULdRZihBA+onHzYx+qNjY4pRNM/1xQLnRQwRBewxtyCtNnW6UIHQOH5mubHier6sQhMdm08qizqGMNPT1UKRYVwN/aeJ76UmETk/2bP1gwKo3VS45rvxYi5WFbFxX0ah+NNBaXh6odK9Sh7Yszzv44MF1ALC7pmjYms88zu6oKlye57k7+daZ3eWG5rv35YUjE/79usKgCXRge2qKW7ccOkgAB+HTN4OugVVbqswek8bmeM8ykjYosaKgDgCa6rSSCJHz4N7VJ+zdKikDBUyUVv1OCKTqe3cEAWRR/Cs1lvwvi+74rPDWnQ3fEqRDyooaIpvzXcmyb0vuYzI4YWyqcmO52u1fFN3+RdHta6vfnhnziOs4zSJlDiLgv7egQ3MMCMJrQ91ZGvncvWwg2h31Dt+1RLjsQTR9zLkc6l1C77uQ1AbWlUKHvfR8Qqcne7Z+GByxbH7CH9G8IWdVK3bWPBbCwQEAgM74ndm6o52NkCTWoLqPJM0UMlaHHQAuqRuFLC/eqAjiua/14uBrkkTNRueDA0ZnhXdmhV+a7C8q6/+GzzRGdH2wDFqTPMbnO4QsUmLQmAAgTC4qyat0T83QM2D6zgDkga8Fhh6DlB21KN6zEvvkyKWTI5sTnIwMXwQAXFTgCjwEgDtTmt9gZkQ/NCP6odbN0syL43Ao2zDm4EJzDG2ra8tmDUAQFoUbB4bn87gTPA5S7w9yaIf8+HPD8rGCZffpNAYAbH8mYy89htDpyZ6vHxAEQRgkSZKUCXvbjw3LU+veCEpTuL2kSfOcXOa5OuWCxWCYcKxQp+wjCScBXj6xXYtZbA77C4MnA8DJxqonjmysNxteGzatryTiu8vHVxadWzF+QZpU3rqpD87tqzRqzXb82ZyJHgI7qgr/Lb/IY7JqTfrXhk0DgFPK6scPb6g26R7PGj8qKtG931K9enXpeQ4DdZ4dHZVI0TIdKLKMQgC1CIVcrcpnPnijzszhsQFg1pLx7977w6/vbuQLOQDw9NwPGa28rz7b9QLNTrsOgVQ/wACIHvDKTpAOEkgUYVabL0pZQai4SQ1KzxwhSYvDoUTRgP8MgoidXq0P+g8bdxCEw2KmUay94/bi1gcxPJeiTS6HroHFZmUhCNuXpzCGFxOEgcEQuR8kSYvdXkXVe6+H+3+G0OnJnq0fzqm+KzfujeINHhxxn5QdwhgpgjQ2qu+n74bvF4P5Hy53nIh/vdezaVL5ZW0jALAYjJ1VhVIO943h06uM2tdP77o+JSucy/949Nzz6vqvLhz5ZMy8ezJGFGi926anldVGO/b52GvLDeq3z+z5dsIiDwE2yvxw1BxnU3OTMkUszidj5hVqlZ9fOGzEbe793twnhyRJ11kOilK37P8OWKlS4NI1sFIHxp/ed8mgNYmkAo9TZoP11J5LyRmxAHDTYzMHjOiTf7pMpzIW5VZmj01HWV0h81t7QRAWAEJdDMQFQVoYiOdd6naosZpVlS8TpIOLimbHPBbq7uiHFOGO8s5VoLi9nI4YE21jTl0OO4fCwMK8GVg2jMLAQqhzuF8lirDYrIG+MzIQNjyXx7mqpgSGF/kpkuMvuVcvPYbQ6cmerR/4zMg58T8wGSEvpNikeQa303LzkkmeN5j+plPGW6V5nsse4vUfaKAs+nhDZQRX0GAxlBnUfSQRABAvlFYbdc4PAJAsCqs2UeSHAQAo0atONVY/fGg9ADgb8SBOIHZvqq80AgDEbK7Zjrfu1/2sr5ZXn73ARtF5WRkA8Ncpn+6tAHCk1GcRQ6BvYE2/ZfTZA/kv3fLlk5/dHt+nxfSur2j66NFf9Wrj1JtHOY8MGNV3wKi+ALDllwOLn53LEwSWCqhrQpI2mloDAHpGTsUITsIDfX/usO6YaBTKkNHxUcXx0s5Nc4c7yumI0fQrbw2HnW0w/eGzd9yrgeVTBbBZfQPKWMNlD6ZIeWXDPA0snNJbGWWEMZl0/XJ66e6ETk/2bP2QJpnXZL2ME+Yo/iAHiTEDjz6mg8H0h9G8jo4kn3uNVPQIjzOhVjnX73IXQZoaVPfGKra0rhGULJJ9fuHw0n7Dt1Xl95GEn22qBYAqozZOKAGASoMWAMoMGqelRUGqOLy/LPL9kbN9CVRc3RTDLd18637dz/pq+Y0te1kow2lgvbp5N/XwKKA7xSdcO/T4zgt715y4d+zr8X2jIuNlAEhTraaioI4kyVEzs6feMNLjkn5DU1rvD3ZTCEpXvqthBJpeshcnbPZAOkl0MPw8wI1+xUKE3VFP08eCzWqrgUWZ1MBBNHlUJLQ7qh2Eypc8fQcsJ1zOUJ3xO19nW1ty1OFgvQ5Y/ylCqid7sH44p/qu0XoeACJ52btrnpoe90XQB4bhhU1azwJ/XkFRuVy2HAA47Oww8VNq3Ts0Gr+o0r0WIX3L4ziCAA9lDpbHbqvKnxzb90Bt2UOH1tsc9hcGTS7SNTlI4vEjG5UW42vDpmlslk/PHzqtrFluPzQ+OnlKXN8vLhzJU9V9lHtgfEzyopSsg3VlDxxcBwCTYlKvT83y6KjJanI15RF46NFvmeEqG32IPM5ry89MG+8uNiktZVii9x2JExXV+wp9rvMF8A7x9Bd3ZA5LWf/tnqqi+qqiZhdFRZxs3t0Tr7t3cutMV2+teqRVG52PgyBQRsAOUvRdMhkIP9DGg8XyPUcOFJUBAJPB+O3O6znMNi6k/XLszPpzl6Zl9l02nm5Wm6DAYQ2go0CtnZppjH7+Hk5bDSw2K4PCEQoAcHsRx80bnXJ/EAJ9m+dQ+rljuGdJHBwvoew9J6Dee+nWhFRP9mD9UG85OyPuqx01jzAQJoIE33+XJK2N6vtI0kJDFpGHfYoymjfLpKKHzNZ9VttRv5fpjT/yOOMEvBmuI49ljQOAv6cuBoCvxi0AAKcHupNksWxafJp7C68Onerx1f2IszVfDFfEuwRSxeGTY/sAQBRf9MPE61v363HWa8u3DrvqzfCafqmLBg1oLQYAfDYrOAYWgiBzloyfs2S8plHfVK8FkgxTSCKipe4yVrONy++i6zcOgqzV6E6X1YxOS+SxWE1Gk5jHBQAui2myYVI+T2OyCLlsDpPpIIk9F0tmZreUHKIfVNyGyPygUNakOV1Rvfa+WwHAZMPabF0BwB0jB3OYTI2Zzl9jMKFOwuQCwy+QpK2zlgkpts/cYTETGQxp27pAEBablUFhNmH2kgAMLNoe7k6YaCyKRvl6UuL2co/1M69O9y7YvSlG/0uEVE/2YP2AAMO5tUoCQZI+kyq1mSbt/6hzqbiQCJfyuZPcDjAUsi+rGyYRhB83KQBQah7jsHf7rXnaHQnj+3SPE3GpZlpbHsNhCnGYwvufx7Lxbzz91Z2Zw1MB4P1lPz7+6e0sdldxSFp36uKAuMgGvXHvpdLJ/VMv1TQarLYqlQ6zO/pEhjfqjUq9qX9cpFwsGN03cVx6svu1GH6JZi+d5XESLuA1Gk3naxoGxkYKOGwAyK2u++HI6c9umAMAj6zadPfoIQCw4uBJlIGoTOYYifiDBTMRBN7fcaBGq6/W6rVmy0uzJk1M8+Kr+Mqm3eUqjQXDx/ZJfGTSaABYcfDEkdJKgiQTwiRvzZ/m9ciq0+c3XyggCGJYUpyvq9zhccdSZyhwQpKYxXaYz53c/pvWBszWPXTEeJzx/oV8w2HnUJhNOH7VCxNFilGUIWtD4SYue7DJssXHSdKGX+BxRl/5SlD7zPauYP2nCKme7MH6IVk0dVv1Qwa8emvV/emSa4M7JKP5XwqfTnfYrAyZxLNQDxONlod92KC6x+/lBKFrVC2LVqztYC/kafFpHothwWX1PbckR4T5OivictBWCb1cBPlGeCQaffjDW7uOgcVmotVqXbRULBcJqlW60kZ1v2g5AkiTwZQQLsUdjv5xkXEyyZHCismZqXB1RlX6C78sZmLwh04DMY/76fVzvth3VGWy3DN26OR077mz8xuU2x5awmaii39aVaJUJYZL9xWWbXnoDr3Fescvq71aVwDwv5kTWSjqIMhrln//8MTRCALrcy99tHBWZrSCIJt9Wj2OVKq1G8/n/3rH9QgCd/66xmn5tb7KHQYi5LKHW2yH/f5Ys3V3pyhQu6POb1kYJ7yr3gIDhtoNy361Fy2FKcYJcPnKCZc91LeBBRiW5zKw7PYakvQZpYyiUWibclX00k0JqZ7swfohTTI/mj9Ui5VJ2ckiVjBXgHB7RZP2aTqSCMJRyL5u7agOAALeHJHgJoPpL7+NWLGTGt2HMslzAQ+0CzMgJpLi7Pg+SRdffszX2SBbP1050ei8wRkOgkSv+IoNSroqc92ovgkESR4rrhyd5vmXT5K4xXaEZi8sZrJ/odDQL0r+xU3z6vXG+/5YlxAmdT9FXMnlnxklZzNRAJAJ+CYMY6HoiOT4h//eCAC3jxzktVmb3f7W1n1mDOcwUb3VRpAEijC+uHHeD0dOVWt0d40eOjEtGQA8jpQo1ZVq7V2/rXE2YsKw1jKt++JxJ9NSoJYtIH0doKMzgJgsm+iIIcDkcca0pyPqfO7uceB2Ry1BaH1Jti2citoNy+bmhkUdxe03K30vPYkO0JM9WD+IWLFO08porxcyg/NaQpJ4o/o+gvCZwNKdcMmrbFa6z7PSN62243RSPGgNn/O4Y3gcKpep/w5BNrC6eKJRlDKqkYEgo/t6ea+y2A4ShJ5mF9QPp9DhNIBQBiNSJJSLBCYMF7DZapMZAOwOorCxOcqM0crBX2UyP3HNWIol0GNlVTqL9dMb5ugs1s0XmnN2J8gkb8+fprNYZ335y+Gn7mt9JFUui5aIvl+8AGUgdgfhnAatr/JAyJur1r3pN9Lb7qg3W/fyuVPo3p0gYTD9SUeMyxndTlc8NisdQbgk6aW2OlxtYFFvyrTVwMqm2Itxf0f3Y2D1ZsD6L9EBevK/oB/ONn0zLurVoIxHrXuT2kHTBZ87VSxcQiHAQAQK2Ve1ynk0kpQSjeqH4iJ3uzzl/8sE2cDqkYlG9cafaUoiwOSyB4dyLD4pbGh6edMuLpNJkOSEvsnZcVEkCZFi4S0//i0XCvrIw71eZbJhJEm+smkXymCYMfz962bIRYJXNu0qalThDkeJUv3ENWOyYqO+OXDivj/Wy0WC9Eg5ABAkefvPq9lMlCDJW4fleD2SIJPeNCTrzl9XowwGQZIrbrmWzUQ9ZFrDZMbzOOMstgN+f6/e9HsHK1Abdprm+r9I0P4ocZTDGmDFTnk9RxA6gtA5s1tRGFgIwmrbGhKCcNisTF+qGbcXkySOICwA6HXA6sVFB+jJnqcf8tQ/e5xV2QqDMh6zdSdFvhV3UFQhl33iV4zDzgkTP6nWvetX0uFobFQ/HB2xEqAn5Gmy4vYdl4tOV9Y26A0W3C7isuOkkmFJcRP7JvvNSBB8B6kelmgUwwvM1l00hdnsLKST0jTkxEdvWHab+xEEgY8WzvIQc/q8uz78fPTMqJSEW4ZlA8DHuw+fraq9NifzgwUzPa76825Pi8HjCANBWstcm5N5bU4mdTutEQlupqNAzZYdGH6xzbmm2oBG/zEdMQZDLOD5TIhHHw4725eBBQC4vdxpPFHodDYrq82xVFz2UF8GFkniuL2IzcoEf0mre5Ng/XfoMD3Zw/RDhXFv2tVe7SgShIey3VGvVD9KL+krogj7DGV4fwP3QCp62GzdTydrg8W6T2v4UiryUna2e7E+99I72/frLJ6bCT8fOxMlFr46Z8rEvlSb3SH0QO8ZiUZV2v/Rz00s5M0N6WCCzsS05Fc27T5YXO4gCCmPd9/YzsyA7ETAm4UyIhxEkz9BUq3/ICr85w4YEgDYsNM044OE/AVBCRHnUC7/uBlYPlewAk3QcHXvgwF+8HUWw/OvGFg+V7CYzASU4XPfuZceRofpyR6mH1LFs9Il17kLNFqoCrPQw9GoXuYgNP4FASSie1sXj/cNQyH7orphMp2sDRrdezzOqM7ymQkKPx09/d6OAwjAqOSEMamJiTIpl8U0YVixUr0nv+RSfeOylevfXzBz7sB+vloIoYHVNRONBoTe+LPFdoi2OCLgzw/haEJAUnjYL3cEXN4ypCAIWyp6QKV73a+k2bLdbNnO500P9ZBIsDdpaMXFIMCUCO8NSqf+AgkrAYAkMY+UDe60p2AIdflCDL8EsACAdA7DK70OWP8dOlJP9jD9kCn1XNQfpXimnePR6D+22o7RkWSz+svELwbUOBONkYd90KDyr+VIsDeol8UpdrXZIRUjMCbCZIQg8yodSpvUH+48KOZyv7xpbus07g9NGLnxfP4L/+54acPOkcnxcqH3qpodMXRVvc6ko19CoatgtR1T6V6mL8/jjGXSK/neCzVi4Z0oSisQVal9js67VDvR6r+w4RfoSAoFC4MVRspipTIQoa+zdns1AGD2QhLsvmTo13huDZOZQFEx17kvaXfUUaSb7w0h/I/Q8XqyR+qHJuvlOvNpEgjwnVSJDhbbYY1+OR1JBOFFyr52OlMGhIA3l6abqd1epdQ8EWj7LjbXrauxVLX58nby+4lzDpJ8a/5UX0Vy5g7s9/TUcVa7feVJn5EEoTWwNv24/5b+zywe+OyiPk/cnvP8jpV0g3g7HavtaH3TYhoREy1Ixd1+v7mLgCBcqehhOpIOR32D6l4KI6P9WKz7NPoP6UgiwJSKHgtezww223txBgCwO6qBcn+QxUyk+RDyBdf32j6GF4I/ByzqLc5eegadoid7nn44p/rujOrr85pfSJLYXfNUmwfjIFSN6ocAaOWCD5e+xmL1bVtH4dK3aL5Jmiyb9cZfWh9X2hrPak6a7Ebn1xpLVY2lKk97xkE6AKDOWpOnO0teSZeoxlRnNSf1uM6rcIg4VlYVLRZN7deHQubmoVkiDudwSYUvgRAaWNt+O/TjG+tm3TH+9T8fem3lg1NvHv3Ni6s2/rAvdD0GC73xp7qmGwnSRP8SDntQO5N39+KOWHAHm5VBR9JiO9CkeZa+/0dA2PALDep7AWj9GYuFS1jMpCD2TrEI5NfACrTGs7cWfMZ52R01JGmxUxlYCIftWZC1lx5GJ+rJHqYf6i1np8V+BgDtq0VIKtWP0CwHKeDNEAtu8y/nAwYiUMi+pJmxXaV7xUNTVVsqN9au4aK8X8q/tRFWAPiu9IsCw2ULYUEAqbfWrq9ZxUSYF/V5AKDCmtbV/M1nCn6t+M7iMHsIt/kn+KVeb8iI9vOOykLRgbFRFWqtL4EQ+mCt/mLHg+/edM2NI51fh08dGJOsWPnhprl3Twxdp+0Ex4uatC9abAcDvbB1hYFe2gOCsORhH9c0zqGjvAymlSRplYctb8NyNwVW27F61R000/Qx0diwYOcvpnDDsttrAADDfIYQtsfDvbkFqh1GErOX4HafDlgsJtX+Zi/dnU7Xkz1MPwSlFqHW8DVNR3sUjYoIoxXzSAGHPShM8hSdrA0kaWtQ3RcXud0VOpqrPT1BPiVV2LfOWlNkKBggyRazxJMVzcXT8vUXR4WPyxQPvCDKBYA87RmLw3xWc9JoN1aZK9JEGe7CocOM4WLKOoNOwgU8g9VnNYsQGlgNVar0IVetIqYPTmqsVoeux/Zgw87ojN8azZtovo64IxLc7FadrZfgwGHnSERLdYYVdISN5rV2e6Vc9kWQShWROuP3at2bFD5GHkSEvcdAvPs5thmKFSyCNBGEliqEMAgrWDkIMH1tr+B4IZWHe+/+YA+l6+jJnqQf2l+L0Iad0ej92zoAAIAoZJ8FJcJXKnrYbN1Hx6Eetxc3aV+UhzVn2+KiPOdalMVh5qI8AGC62b5sBtvmsAEARmAAwEG5Q8NGjgwf6xJgBtVQpqBBb9xXSJVLGQCajGavld+chNDAksfKCs+Wx/VpqeNTeLZcHisLXY+BQpBGq+2k1XbYZNlM7VBCAYpGhksC8PHshT4y8fNW21EbRitu2YqdqmmYEiZ+Uiy8sz2JEmz4ebX2NToVOVyIBLfyude0uUdfsJjJDIbYV3ZsK3bWV7A6gyGmqHpBEwThsVn9fHnv4vYiihWsXgOrJ9Fl9WSP0Q/trEVIEPoG9f00PeGkomXBq2PDUMi+rG6YRCeDv8H0F48zTshfAACjwsevrPjpkv68lbCmCj39wHLChv5Q+lW1pbLJ1ggAw8JG/lz+bbmpBCOwWxLvZAYjTxhNjpZVHi3zqeXoEMKxzrtn0lfP/dVYo07LSQKSLDhbvvqLHXe9dJ3/Kz1x0KzxRAFJ2knASNLqcKgchNJur8bthbi9iqY/oC8QhBUZ/j2DIW3n8HrxCoJwIsN/qmmYTiPtDQAAQRpVutd0xhVi4d0i/qIAKw0TFutBvelXk2VrQB4bHPbgCOnbgXREH4TDyva1EaM1fEoxpKC4V3I4Q3wZWCbLdrujxvcAekMIO57/nJ7sAfqhSL+pr3gOuNUibANKzZN2O61oOw5rYJg4mJ4MV7I2eKl71pomzbMc9iAWM5mP8pemPIgTOIvRvBb1SN+W5BR8VPBw36ftpN1lS92T8hBGYCwGy+l05S4cOhYN8hljRJ/gGFi1ZcoVL/3z2u8PuB+89t7JKMr486MtGqUeAKQRotufnzf7Tvo5zZohSVuD6p6gjDPoREjfbU8wfC9+YaIxkeE/1DUtoh+pZHfUq3VvqXXv8jgjuJwxXM4INrMPinqpiE6SNtxebsPzrLYjFus+Oz3/UHdQNDIq/AevJeiDAoft08Cy2o77uqr9+4NX2hmqBy8RQECZQR4BJocVBN3US0D8N/Vkd9cPBdq1TgOrzeiNv9AtMo3wFOFtyctAjYA3TyTYYzD97VeSII2NqvtiFJudY3BZV17xWKliM0KlY33x5ryp7W/Ev4GlqtOu/GTr+SNFBEEkZ8be+OiMPgPjXWetZuyv5VvXfrMbx7z4asy9e+LcuyfqVAabBZfHhiHty/DR1QiXvCwS3NLZo2hh68n877cct2J2BIGlM0dcOyY4D7mjlyrS4uTh4jaWtqBzeZVS++iX69e+usTrWS5nuEL2TaPqvgDDrR0W2xGLrTkzCILwmagCQfgIwgOwE6SZIAwOR0N7wosYDElUxO/034Md2FmUPaj1cdzyL4vnPfVi25aC2u/hfqX3thSMY7HSEYQblAH00gMItZ7s1vrB4lBf1Kz0ONg/jO7twvDLKt0rNIUjpG+wmKk0hQMiXPqW1XaCujKpExt+Xq17I1zqP09sz8CPgWXQmh6f/YGytjnpfk1p44mdF95e9Uj/EakAsH/9qe9fW9tUp2VzWTc9NsMpc3rvpfAoaVJGjKsRSbjI+aGxSm23O2KSfSYw7EaES18LVs7uoGCyYh+s2vfPS7eHi/kmK2b1Zu+2jb/3n3vsunFtNrDaebkTAW+WIvzrRtWyNqe0IUlzm91HvMJgSKLl/9BfqiEd9Q78PMoehFv+JUkTykxDGOF22z6UPYSwl2LmlSgzDW31lk+dz90HaNsMo9awmCkoQ+YgAgtM6XXA6sVFx+jJHqAf2gBJmhtU95KkzxA2dwS8WSLBrSEaiTNrQ23jPDr3X2f8jscdy+eGPAywK+DHwFr7zW5lrWbo5P6Ln54tCRddPlnyzf/++eK5P5/+Ysk3//vn/NEiBEEmLRh25/+ulcc0RyX88cGmoZP7uxtYLs4dzN/+++GPtjwd/N/RgSAIXx72sbCLVcVx5mTjsFAAEHDZAi4bAFZsOqoxWk4VVt80MWfLyXwxn7N82XwAWLH52K7ThUyUIeZz37tntlTIA4B3/9qTHq/YdjJfa7RMG5p+94zhVUrt8rUHTxZUvfDTVi6LOWdk5oKxAxe8+vPaV5fsOVv8xh8793ywbF9eyaXy+gfnj2ndptfLAaBRa3zvrz1VTTq73XHtmIG3Tx0CAARJvvrrjsIaJUGQb945s0+MZ/FRAW+OIhxpVD9IU6GEFJQhi4r4k8MaSP8SBI0CwAGAsFdwRI9gph9IEuMIlwGA3bqPzb8FM/3Q2sBiMuMDNXE4rIwgxjNy2IPpF/G9cklOsHrvpfvSwXqym+oHHiqjv17lQZP2BdxeTEeSiUbLwz5qWy804bAHhYmfUtOLZFSqH4uN3P1fKHzix8A6ufuiWCZ86ad72RwWAEQlhNvtxMeP/vrQlHdIkswclnLv64vSByW5X1JVVH/Pa97L2yVnxlYU1gVp5J0Di5kSGf4Dm+WzuGNnIeRx7pw+7IY3f7tuzMCF4wbKRM0rRhIB95Xbpj7z3ebNb95909u/681WMZ+7aNzAe2eNRBD4fP2hzccv33pN84LHthP5nz54LZfNtDsIAIiXSz+6b+5Nb/3+9p0zk6Kawz+jw8UNGmNuaW3f2IiKRk1htTIjIRIAWrfp9XIAeO3XHeMGpnx0fw4AuFbaKhu1r942LadP7Kr9ub/uPPX6HV4qiAl4s2PksfWqO2km0wsRbFb/qIifmaj3+gm+IOwlDvyiA7+AMJqtH5SZihm/Q9nDXEe8wmFnm6176XfECdL+oBMue2ivgdVLoHSKnuyO+iFN0kYD1GheQ8ftCQAAGHLZ5x0QiSUVP2y20cra4CA0jeplMfI1AGioR9W5+DGwasuUWaP6Oq0rJ4PH9wMAWaT43tcXjZ/npZgGZsF5Qu9BsGwuy2bu/NeLtoEAUyy6RyZ+GkF4nT0W79w2Zci0IWmrD56/6a3f/3fLlPFZKQAQGyEJFwvi5RIGA5HwuSYrJuZzD18s33z8soDLrm7STchq2ZWfmJPKZTMBgIn6jEHLSIgsqlEWVitnDOt3vqyusFo5b1QmAPhq0wMHQZwurvnsoWudX53dAYBCKszpEwsAabERe8/5fC3jsHPiFNsaVEut2KlA7k3QEPKvk4d91IY5wGCm8qQfAwDKGgAAbMHdAADgAEBRdo7bEU8CNbCC5eHe3DsnsN1GBGGzme3NENFL96Vz9WS30w9tM7Bwe2mT5lmawlLRgzzOmDb0EjgMheyL6obJdLI2WG3HNfqPwsQdEQ/YifiJ5baabMKwq7xnwhRiABg0PsOrdQUAMSnycwcLvJ7KP10mi5K0aZydDI8zLjZyW7jk5S5rXTmJDBM9OG/0W3fN/H5bc4iZ01RiMJr/oUkSKho0X288+vH98z6+f97UwWnul3PZ/gNMMhIUxbVNDAYyMDn6UkVDk84ULRNTtOmBMyVb6xIHfDcjntqtFEUjYxTrZZKXOtiTGkUVkeErFLKvgjoH/L/AsQN0wwqWh7sTDntQQBkf2KwBQQ9T6qW70BX0ZM/SD14gSaxRdR/NCkUcdnaYuON8cphorDzsA5rCGv2nAaUT6474UZ0kSXo8Cxm+1zacTLlx1O/vbcw95GljVeTX/vbuhtGzvERRdWV43Akxig3R8lVsVv/OHgsVOpO1Sdf8J1der1ZIfRYqMVhsIj5HwGVjuP1AXonflgVcttpgcX3NSIg8kFfaL16RGh1eVq+WCLjUbXpczkQZ2cnR6w6fd341WemmQr4aVCp6IC5yd/Ay5vnpTixYHB95UMCb1yHdXUVAO25MNCrQvUtqGIgwoJylvfuD/026mJ7syfpBpXvNV3Y6DxiIQCH7qoNfeAS8eSL+DfRkiUb1gw5CFdoBdSr+0zQc3Z57/4Q36Bz8Zv9LADD/3sl5hwufu+6T7HHpGUNTZJESbZOh9ELV8R3nE9Njbn1qdrCGHlKYaKxQsEjEv5FmzfBOR6U3PfvdZguGM1FGoiLshVum+JLsnxjVNybi1ndWCnnsERn+C0fcMXXoG3/sFPE5N07ImT0iIyZcXN6gWTJtGIOBkASZHienbtPjcgB49Y5p7/65Z9X+XJIk54zs73RybwMsZkq0fJXFdkSj/4DOxn8bQBCWkL9IKnokuFWcA4KJRqFopMPRQEe4/TWeW8NlD6HIetVqAL0pRv9DdGU92SP1g8myTW/8kaZwuPRNFjMlpOPx3m/Y21bsBJ2oTIejQal+OCriDwhl2eZOBCF9l9EBgJlRD1Cc9WBr/VfODyRBbvn14PY/DpdeqHLYCYSBJKZHj7926IJlUzi8lnRhBtPfSs1jbRp2SEAQHpc9mMedwONO5LAGdIV/cgzPr26Y5FeMw86KVWzvgPF0Way2EwbzSpN5E82Vc7+wmClC/nUiwc1MtI3plYNIfdPtZutOOpLh0tclwiBnmzSY/lJqHqcpHBe5n82i2iMOlCbNM3rTb37F5GHLRYIbg9gvHWob51mxk37FYhXb2mN39urJ9tMz9IPdUVPdcA1B6OgIC3hzI8O/DfWQfGHDztQ2zqeZNSNc8rJEtCzUQ+oU/KxgrcyjWT/yKhAGMnvJ+NlLxpMkaTVjXB4bYXSRP0IGgnAQhIMgXJQhRdFIJhrNRKNZzHQOuz+LmRKUAiO9dDxcznAuZ3iE9G2TZavZusdiO9KGSCIEYXFY2VzOSAFvFsdbRtDOgsPOoWlgBdfDvblNDt0c3AxEwGb1CfoAeulwepqe7AH6gQR7o2oZTevKWcEm1EOigMMeTD9rg1r/Dpczskup3GDhZwWrl166Kbi91Iadxe2luL0Mt5cRhIYgTARpIkkbgnAYCB9BeAyGmMmMZ6GJLGYSi5XOZQ/uTUHeARSVNybFhTc0GUQCjkTUcd7Qhwsq+sXIw0VUOW/LGtWP/7pp/VO3exxfc/zCulMXtSbLpmeWBKWjXjqXXv0AAGc0OzfWfPl85l9sBveQcs2uhl9fHfCv85TZYfiz4s27U94L6QAMds3m2m+qzfkMBB0ZPm90xLUUwoEOqdpcsKvh1yXJbwVhoG2l4wpT99JLR8JipnSK/0EPQGkyPb5ha25dXVJY2Puzp2coglx6Yc3Ws3Ovydpx6PLYoanDshILyxqlYp4iXKTSmCw2nCCIhBiZ/1YC588j556cPc6v3eO1oNfCEQOGpcY98OP6IHbUS8dTaS5P4CeBN/1gJ+0XdLmxvHg5R0G/naDz0Q+712w/5/XUlNHprz/WrsKFrZGyFXWW0kRBZq2lWMxqSe/MR0Whtq4AYG3VxwmCjBsTnnOQuMnuJ7lDxwwpuPQaWF0XgnQwkB6eh62XLsiPJ88cq6wCgMuNyo8OHP5+0bXBbT8uOqysqolwEACw/cAlBEFyL1ffe/PY1VvP9E1WHD9X/vAdE4V877n02kZlk/ajzQePF1c9u3Irh8WcPzRz0YiBAPDVzmM7cguZKEPM43502+wwAQ8A7AT5/F/biuqaZEL+e7fMdB70Sm5F3SdbDpptuIjHeXXRlPhwqa+Oegkd62r+vkYxQ8yS/Fj29V3Jflx59jbuuCOppXTPupq/rQ4LAETz4ibIr0ERRp7uzDWKGX479WjHg8v6i1WW8mmR3SCiS85JqLUWJwoyDXY1HxU7D+Zp953W7NBg9U+kNzvUG+yaH0ufuz3ptTB21P7Gv/V409zYBwGg2lyws+EXjLByGYK5sQ/K2FEAsKV2RRQv5bz2gNmhHyAZO05+vdeulbZqpa3ytqRXEUCYCFvCinAe93p56yGpsbr11Z/KODEN1nKSJBbEPa7gJgJAvv7YrobfeKgwhtfirtCecbaH4BhYK15enXe48MvdL1CLqc2W3cUlJ6pqCpRNdXqDEcNIkhSy2RIeN0UWli6PGJucODQulsnoZhv87QQjzBhhYTP4DAQlSIfNYRQwZXq8sdp8IUk4mMMQYoSZiwpNdo2AGWZx6IVMzzIy9LnY0NhgNEaLREFflugZvLpzz+9ncl1fU8Nl25feQSH/zt4DP5w47fqKIkjBM4+FbngdQ5VW5/VzG/A63xgMRG+0ikVcACgobYiMEMdGSjHcQRDkpJHpeoPVYLQG18BKiJB+esfchZ/8/t4tM5MVLctjN4wcuGzKSASB5VsObTx9+fbxgwGgQqn59I65KQrZ59uPJM5mDAAA6QhJREFUfLPz2PPXeo8ysdntb63b88N9i0Q8zva8wrfX7/367ut8ddRLx2Cw63c1bDXZTZMUU+usNU02pRprGhI2Io6XsLF2jZTt5V9kdvR1HJS7suKnifIpUpas0dYAAFaHZVv9RgfpGBE+pt5a67Udd5kwlmyfcpfVYUkR9BkUNiyMHWYjLK37osOInCSSJDV6i85g0ejNWr1FozO3555QE8VNrrMUmx16ITNMhdU6D2ZJJ6YIs78tedIlJmKGzYxeuq56+bSoOy/pjyxNeR8A7CS2uW7FHUlvcFHBRd3hrXXf3pr4slP+vHb/LYkvsRgcB+nw1bXKVi3nJDAQ9ILu0I76HxmAPpb+na/LWw8JACrNl6dE3Z7Azzyp3nK4ad11cY9hhHVj7VdLU94PY0dtrWturZ3jbA/BMbAaKptKL1ZTCJSqNV8cPrY5v9BBEB6ntFar1mqt0Gj3lpR9c+yklMe9OSfr7uFDpNwetdtNwVnNZg5DwEBQCUtRby1O4GeVmU5HcdMMdlWx4Zick3xJtzdOMICJsJts5TqsYXLUvWxGG3cfnti4tUSlnp/Z76O5M4P7K3okpSq10YYJOWxfAnm1nVmUI0QkSFuyAfeNaLs1D77nm9Zgyc6IBYDxw/uezCvnc9nhUgH42J4LHQfzyzeduSzgsKvUukmZzeUHosPEKQoZAEzun/ramt2+ri2uV5U3aZZ884/zq1wUtPqPvQTKhto1bAbbSlhFTPEE+ZRiY0Gu9gyLwUrkp1yjmP5n5S/VvMpREeMVnMg/Kn/yuHZL/b8WuzlHelWymCOqA1K2TM5RbK3bkCRI8dqOu8yN8bc1WOtc62dR3JgorpdqvHQYOyR17JCWShgqrWnuvd+0rSk6CJnSaktBjbkojp+ustVQSKaJhhUbz/5e8dqdyW+zGBwAaLRWqmw1P5e9eKWpMJdwP/FIpwzqexOGBEAQBAAGSMbG8dJc7dC8HADErPAEfiYARHKTLuuPAUCTrVrCighjRzkH3GAtb/8420PItwhJgG+Onvjs8DHcQctC1FqsP586e+fQwAp0dGsI0m51GPlMcaXpvIAZFs1LV2PVOrxezJILmbJKcx6LwQlnxxcbjolZighOEovRRr/gBoOxRBVA2eBeSIC8+vrRiQlezzpI8kIDrfRU3Yu7hg3Jq2vIravLjFQ8N2l8m9vxNd9umXdVqGNWv1hAgIEgyxaPB4Brp3VQJq1ypebLHUf/fep2AYf9za7jmP2KgroS90OSVBkISBJiw8RrHl8c8oH24o95MQudW4TH1Yf1uC6KG02QDgCWhCVhMdgkkDbCxmVwOQwuo1X846yo+WKWZEXJp4PCWqalxWEJZ0ewENaMqLn5hote23GXAYAwb8tj3QIeKiwz5aWLRuRq9lBLGnAVm8E12ZtXtUkgpezI+/ssby3ptFqokbGjVLYaEjyTmdO8HADYDM9VGBJIV94QFGEGZZztIbQGlp0gHtuwZVtBkcfxeKmknzxCLhRwmEydxVqiVhc0NlntzTkzFg/OlvG7dEWa4CJlRfeTTEAAcU21/pJrSCAQYABAoiDHOWPk3GR3mTZwqLwieKPu4fBYLAuOA0BenU8Dq1DZZMHtACAXCJSm4OTX6QpECPi/3+y9XntA0JxvjI7K4SLksFVGS/IVD2aD1SbicQQcts1u33epZHRakvN4rVZfVNfUNzpi76WSnCSf6xB9o8L1Ftup0pqhKbEkCWqj2eXV7tFRLx0GiqCNtgYbYUOQqwypwWHDNtetj+RGs1s9UDfXrQNAkgV9Gqx1x1SHGm0N0dzYUeFjN9Wui+AoEgXJvtpxl5GwpKH+aaEjhtfnaNOGSYpbqcVOqbcDwJLkt/+oeO3ulPf4qFjBSbQ6jBWmi4mC/iSQJrtOyJTS7zeSmyRgSo+rNo0In0NAcHbo5Jx4Ha7UYo1StqLEeNZ5sJ3jbA+hNbCe37rT3bpCABZl9V8ydHC6PMJD0mq3HyyrWHP+4pGKyqXD25jau5uSIZno/OBuOSEtb1qI+9k2W1cAcLi8ss3X/tcYEKk4WV0DALm+NwFdp4bFx27JL+ygkXUfutp8u3Pi0FdX7xTzODePzpk7JGNAXFRaVMQNn64Ucdmj+raUHxjVN/Gn/acL65RhQv77tzTvbD7+66ZGvbFOa7j3u7U5STEPTB3JYTE/WzLvvQ37TTaMIMnbxw2+blh/rx11wk/9L3FdbHOCWecOXY50KBO56rnm9EZfknQfgiAe+tN1rZPr41uMjNuT7nGQDhRB+4uzfLXjkmndVDcilpcmZslYjBZHiLXVH2sxpcmu+638lWhe6pTI25W26iNNa5emfshHRWMjFv5b/dnNif9jMdg3Jbywre4HjLCQQIwMnzcozGcFEa8sjH9yQ83nB5X/oAgzXTScQrL1kLyKsRnc2TH3/17xKh+VpImaE/i1f5xtJjh5sF5f8s3RbXmuTO5OVp+/+NyWHa6vEQL+igXzs2OiqJvS22xiTmhX7f6bkACjvljRZDIDQK8Pli9cTu435Qz869x5AFAIhUce9J4b/fmtO//JuwAAj48b/cnBI9BTnNyDQu9866WX9uPugxWKNA29hBQ/K1hHt+ZSCzhRN3hmsKjVG17b2bKhGykS/nHz9UlhUr9N9VpXISK3ts75tOuFDjFiEY/FtOD2RqOxwWCMFHkpnp1bV+f80HpFtpfe+dZLL738x/FjYL1+54q2tfvTyTNO9xQAQAA+njOTjnVFB43FsqOweH9peVGTSmUy2xyOcD4vViwel5I4Pa1varhPT0MHQaR/8CkAZMdErbntZgDIra3/6MDhvPp6AZs9ODbm8XGjU2Rhrl6WHzy6r6SsyWyOFYtmZ6TfN3IYl+l5u1xrGAsH9n9v1jTnwUsNjesuXD5WWVVnMFhwu1zATwmXTU/rMycjXcD2GY8GAG/u3vfzqeZt4+XzZs3JSKe+FYOWf2Ww2QCAjaKXnnrE42xRk+pyozK/UZmvbMpvVDYaW5yE/r2U/++lfF/N5j3+EJ/tpwA7CXC4vGJPcenJqpomk1ljsYg4HLmQPzQudnJqyoTUZDobmdsKih5avwkAIgT8Yw/d5zpeolKvPn/xWEVVhUZrwnEplysX8FMjwsclJ45PTlIIOyJcy4o7BkRGNu8S1tVPE3lWgDFjeHGTGgAkXG60WESz2TbPXieuGTIjve8X1za/y5aqNRsv5R8oK28wGFVmC5fJjBDws6IiJ/dJmdEvDfUXmFeiUk///hdfZ+8bOezpCWPp/LSQzrd23jcn7Z9vtQ266x/53rnoP2pQ8kfPL6DT7yc/7flna/Pf9QfPXjdmiJf8twRB5hXUHD1bVlDWWFGj1hstGO7gc9kSETclPiK7X+y0sRnhYYHNfIsVP3Cy+OylqkvF9Vq9RWe0AACfy5bLhHFR0v59o4cOTEhPjmx94eNvrTmeW+78fPDPx1GUKm/O7U//WlyhBACJiLf1B8/atUFpqlFluHbZtwCwaMagJ+6aTBDkqq1n1u/IVaqNMZGSa6dmXzc12+nJh+H2lRtObT1wqaHJECETTBqRdteiUTyun9kVXNp820OHSmPac6zgyJmyqjqNWmdGAKRiXkpCxIjspBnjM2mmRGn/FHVNhv89OGPWhP4AYLHh+44V7TlWUF6tVmtNJIBYyO2TKB+RnTRn0gD6/3Dt/4Gu/K53Xz/q7utHOw8azbaNey4cPl1SVq3SG618Ljtcyo+PkY3IShw1OCVaLvbbrB8Da/oto/3/uFbobbZVeRdcX28elDUiIa4N7XiAORzfHj/13fFTJgxzP16rN9TqDSera5YfPLpwYOZTE8aG86myGDgjm45XVi9ZtdYZ22i0YVvzC/eXlv2z+KZ0eUSTyXz973+5MgCVqjWfHz52sKzij5sXcVrZWE6KVSoAsNrt7+w58MfZq5b9qnX6ap3+QGn5Z4ePvTHtmsl9OiK9uIMgZv7wa4gaP11d+9aefXl1VwXQaSwWjcVSqFStPJs3ICrylSmTBsVG02xQbbY4CAJlMOwE8d6+g7+cOku47VyrzGaV2ZyvbNp8ueCWQVmvT7smmD/GByYMGxQb7TSw8urqp6V5Gljn6xucg8yJibLZ/dc0DdbsdeKcw7jD8fHBIz+cOO1+u3CHw2Czlak1/17KTzp45PNr53RAzrPQzbfg3jcnbZ5vMZGSrH5xuZerAeBEXoVGZw6T+OnU4SB2HSlwfg6T8EfmJHkINGmMa3fk/rsrr3W6I4PJajBZq+u1B04Wf73y4O3Xjbhr0Sg6MQE47vh1/Yl/tp7RG60ep3S4RWewFFco9x0vgismi98GuwjlNSoA+PjH3Wt3NOvYksqmj37YXV6tevLuaxwO4rkP/j12rtx5qrZB98eGk6cvVH79+k0cdkek1O6Ctx23O35dd+KPDSetNtz9uEWJ1yn1h0+Xfvf3kbuvH3XDLKqw/aBP0fJqNQDk5te88cXW2sarMu1ZbXijynDkTOmPq4++/NDMUYOSfbQRzB/ojlLd/GZ4+HTpW19t0xpa8pk5f2x5jfrgyeKbG3UP3zbBb2t+pt1jH7clCHlnYbFLGyIAdw8LgtO6zmq9f80G5wPPFwRJ/pN38XB55U83LKB4qTXasEqt9vGNWz0yR5gx/KlN2zbeufipTdta51c8V1v36+lz94zwXvi2RKW2E8TSf9Y7U2B7pcFgvH/thvdmTbtuQCbFr+ji/JN34X/bdjkoXfcu1Dfc8uc/78+aPjfTzyKcE4IkVWazjM+/f+2GfSVlFJITU/38vQULix13vRWc8+bnfq62eX8wJybatVjriyDOXiflGq2dIB5av3l3cQm12A2//7X6tpspNjFFHM60tD4as0VtsWgsFp3FSv2P25EE/b65LmnzfJs1IdNpYDkcxM7D+X4Vt9MOc36ePjaj9RLO8XPlP6855nfMdgfx4+qjOoPlybv9vGA0qAwvfLjhcgmtDG0TR/SlI9ZFKK9Wnzpf6bKuXKzZfm7a2Iwzl6pc1pWL/NKGtTtyb54T8sCpLnjbLVb8+Q//PZFHFcxrMFmX/7w3v7Thfw/OYPhY7Q76FK2oUV0sqnvkjX9w3GfwoM5gefrddcv/t2joQO9B3BC8H+iOSmsEgO0HL7/x5VaC8KkJxwymtVASErv+ZFWLQhydlJDY7s1BzOG4/a81FxsaXUfGJCVMSk2Jk4jZKKo0mU5U1WwrKHJadbV6w42//73ujlvi3fIlevDC1l1Ko/HWQdkTU5MbDMaPDhzWWCwAcLlR+dmho4fKK2R83n0jhvWNCD9ZXfPN0RPO2/xX7nlfBpbRhj2wbqPTukqTh89I65smjxBy2Bqz9URV9YZL+c6xEST53JYdybKwnBi6qzttA2UwTj5yv/uRoxVVj/y72fl5RnrfN6b7/Bug2K9Zc/7i81t3ur6mhstm9UtLl0cIOWyD1Xa+vmHDpfx6gxEAcIfjyU1b5UL+yIR4OgNuMJo+PXTM+bRjo+iQuJis6KgwHo8gyRqdPq+u/mJDIwtFRyX4/GMLLja7w7UCd6GhgSBJjz/OvLpmTTooNhqjzPEW9NkLALjD8diGLU7rio2i09L6jE5MUAgFJECFRrutoOjUFaPEgtsf37hl8123+1ItCqHgq+vmur6SAH+ezXt5h88Em14JxXwLxX1z0eb5NnlU+sc/7rFhdgDYdvCSXwNr24FLrs+zJvZvLTBtXMa3fx9Wqo0sJjooM25YVmJaskIhE/G4LIPJdrmkfu32c/mlzavFa7afmzE+s39fn9rDaLY9/Nqq6nqt60iMQjJqUHJ6SqRExGMgiEZvLqtqOnupurCsMVohGZRJ68+zi9CkMX704+7k+PBH75gUFyXdfaTg65UHnad+WXc8L79GJOA+fuekrH6x5dWq17/Y6lxJ2rr/YqgNrC5420kS3I2PhOiwa6dlZ6XHyiR8u4OobdQdPl2yYff55pl84JIiXHT/zd6dAYI7RQHgfGHtcx/867SuJo1MmzqmX2KsjM9jqzSmE3kVf28+rTNYAIAgyTe/2rb6i6VMbzvLQfyB7jSpTReL6t7+ejtBkGwWc/yw1JyMuAiZkMVElWpjQWnD0XNlRpMtq1+s36YgVAaW2xsnzecrNe/tPejSszI+74tr5wyPv2rPceHA/k9NGPP05u2HyioAQGu1Prph86rFN/mqunOssurhMSMfHTvK+TVWIr5z1Vrn588OH2Oh6O83XZ8mDweA8SlJjUbTmvMXAaBCo603GKO8+TsDwJ7iUgTg2Unj7xo22P1hPDcz/f5Rw+5d/W+BsgkAHCT5v227/r1zsV/nmHYSxrsql5jQzf2Lg6IeZ+lQrtG+unOv8zOKIM9OGrdk6FW/dGa/tEfHjnplx57V5y8CAEGST2zcumPpEopM6C5+Onlmw6V8ALgxe+Bj40bJBZ57+Y1G09naOh6rg6pn2glCLhDEisU1er3RhpWq1H2uzml+rq4eABgIkh0ddbySqoxB0GevE2cClMxIxRfXzk6QSt1PLRk66Pczua9eiTIpVKr2l5TRXPxDADjMtiQ1Dvp8C9F9c9Lm+SbgsScM77vj0GUAyC9pqKhRJ8b6XDazWPGDp5qXGPskyvsketmrZTHRZbeM0xutsyb0FwquchZRhItSEyJmTej/xpdbtx+87Dy4flcexdPrra+2ux7zHDbz8Tsnz5k0wOuWjVJtVKqNHZw6v/3UNur+Xn5XlFwMALddOzy/tGHvsUIAOHKmFAA+eXHhiOwkAIhRSO5YMPLzX/cBQEml0mi2Bbf4kgdd8Lb/temUy/iYO3ng0/dMcTdT4qKkw7MS50/Jevj1f5wrrL+tPz5xRN9+KV6cw4I7RQFAq7cAAIfNfPfp+c5/LyeR4aLMPlHTx2Xc++JKldYEAI0qw75jhVPG9AvpD3SnplH76mdbcLtjZE7SC8umR4Rd/bi/ZiBJQlWd2qvN15p2Vf3Ta0x6jWd+RdzhqNBoXV/bv1RTptb8errZRZTJYPxy40IPPetELhB8u3C+q7u8uoY/z+X5apPJYNw5rOXVc1xyYqy4xWFtbka607pyMiO9ZTmXOhP64sE5S4cPab0OGSsW/3D9dS4P93xl076SUop2uibv7DngzL0JAE+MH3PXMC+/lMNkvj1z6tC4Zuu+0Wha6ftfwR3n0+75SePfmjGl9dMOABRCwfRWjlChw1nTKefKIlZu3VUr/87QQgBIDZeJOByKHbVQzF4XMWLRrzct9LCunCwenD3bLUhiT3ebbyG9b9C++TZrQssW//aDl7zKONl3vMjlGuJ1+crJjPGZN8wa7PHocsFgIE/edQ2P07zO59yg9Mrlkvr9J5rzDjJRxqcvLZp3zUBfDjFymTCzj5+kOV2QEVlJUW7OxVNGt0zypFiZ+9N62JWtJZKEmgZt6IbUBW+7xYr/dGVTL7tf7LP3TfVqEKTERzx1ZTuPJOGXtcd9NRisKerOU0unuP97uYiWi++/ZZzr68nzXtLpBf0HujCabDUN2lGDkj98boGndQUAAAgCCTF0s/b7MbDOHsj/+sVV9RVNHsdzDxUsHfPqjRlP35jx9CPT3yu90HJDNZar/Pvipf497an5+dRZ1wPs9iGDKDx22Sj6+rQWz8EfTpzx5U2SJo/wyAeR5Zaga0JKkvupPm6OHXUGg6/eUQR5aMwIX2ejRMIlQwe5vq7Ou+hLsmtSodHuvfKQTpBKl/rYKgUAxtX34bcz52h2MblPyt1dLMfsILcnt/txl1eWX0f+UMxeF89OHEdRsvOWnCzXZ4p0qV2TkN43J22eb0OzEuWyZs27/eBlit5c5heKMqaNbXvGUaGAMzC9Oad8g8qnCvpz4ynX5zsWjMhKp7WL0b3ol3rVCkSq26Kgx75btKJls1jVaiEgiHTB275l/0Wj2eb8vPSG0RS+RxNG9HWWAQWAI2dKnRtqbYDmFHWRHB/uDCT0yuSRaa4xF5U3thYI6Q9ks5gvPjAjKBUm/BhYBzee2fDDvuqSq35hVXH9y7d+VVPSmJQRk5geXZxX+dyiT9UNzV7hOutVBpa43TWb3XNk35QzkFo4M1KRFd38F1it05324R7rSsfgIlrUEmnf72pt7r67YcauClVwZ2h8LHUc07zMlnXOwxWVRJdxJabDhkv5rgEvysqk3t8cnZjAYzW/zdTpDe4rmhQ8ONqnedpZuAwsjxUs19dBMX5KuoZi9jqRcrnT06lcZbOiW94ZmszdLCVV6O6bizbPNwaCTB/XvIhVp9Tn5Xt/X1dpTacuNL98j8xJkvmLN6TG9TKN4w6vDwmShOO5zTsmLBa6aMag1jI9gBjFVT52MnHLXU2IuUqrC3hsl5Zqs93gl655210b0yIBl9rfi4EgmVe283C740JhbZs79TtF3Zk6JoPiGcLjshQRzU9knVscn4uQ/sApo9Pb+dfa0jv16csnS3lCbs64NPeDv767EbPh972+6Ou9//tm/0sPv3+zQWtau6LZK9Yjmpo685NfSlRqp/s5AMRJJK0No9ZMTGnxNTlR5V3VtraE+G7OFpHCqxYG3V1SrL4D8gdE+dncTQ2XRQia+zVjeJlaQy3fpThd3TIv/XqaMxCkb0TLsp8r4I4CuUCQHd3lNiwyI+VsFAWA/Ealuye7a0FoEGVlghDNXicjE+OpnY14LKbLhUhvtfntuusQ0vvmpJ3zzX2/b+uBy15ldhzKd0UhUbys08Q9/NBrcFNpVZPB1PxyOzAtRiLqmeVcPX4Xm92inF0LFS6YV1Q35jtarZ10wdtOkOTFK2ZESny435WYcGnL07Be6ZkznD5+p6g7AyidtADA5TNnsXouaoT6Bw4eELQQBD8uwxqlPiZZznQzPlT1uiNbc5MzY+ffM8l5ZMbiMX9/tv30nktLX14AAHzWVRaVBcPp+Dj7wj2GqJ+CVr7sdLf1p7w67zsjEq7nXrJrjZGBIB4Ddl9+pFh2SqARvpQaLnOlty5RqWlGlXcF3JdwksP9P/AkbiuXdDJ6D4jqiqVxWSjaP0pxtqbOThCXGhqdvj4ESZ6vbwAAMYeTerXnuwchmr1O0ii7dsJkoAB2uOJS1l0I6X1z0s75lhQry0iNcsbk7zlW8ORdk1ksz8gA1/6gSMAdOyTVb5sESV4srLtYXFdSoVSqjTqD1WC22jC7DbNjmAPzlwqkqq7lhc2vJ2/3hc/z+TThcHyGP4eOLnjblSqDydK8zJGbXzP6ho/oX6trlcHLnXZOUXfiY/w/RJy0fuKG7gc6SaTtYuUXPwaW2WANk1+VpXrP6uOEg5izZDxyxexAECSpX0zu4eZkeuKrbReDzdYeA0ttblke9FhY8kWUm5jKx84IC/UZJ0Vxihoxx/9mqPvKmd7WbRYVMIfD4DbaoZ9+HdDlHm55XpHRzhLZweTERJ+tqQOAc7X1TgOruEntXKbNjomifnUK0ex1EuHNNbtnENL75qT9823WxP5OA8tosh0+U+qR2ai8Rl1Y1mwmTh2T3tr8csdswVZuPPXv7rz2uArpjS03TdZqLafHQBG9xWpT9Gs76YK3vXWaU/pgPrb2gjJF3RG1I6gzFD/QnSAGnPoxsMKjJHp1yw0lCXLbH4fZHNaE+Vf5OHMFHNuVdTyPxaFGk4l+IZHW6N08ugT+6mm0FtP6eLRT7K3QyUXmFS6NDALuYzN0HwPL122kCU74X5/vsPwLgTI4JvonAHBbF3FzwPKzyh2i2dss2Y73li5OSO+bk/bPt6lj+n32yz7c7gCArQcueRhY7umvZlLuDxaWNT793jql2njV8LisGIVEIuIJ+Rwel8XlsM5crHJfLGmNydzim8Hn9ti5gdLIwdGRdMHbbjRj/oUCIVhT1J325NYP+g/0gLqgU0D4+ZGJ6TGn9l5srFYr4mQAsOXXg7Vlymk3jRJIrtpp1jTqOVfKBvFYLLlAoDQ1m2UX6hva4+uAuJk7NH3C3cV82UpICPKQ2CmzTTpx35hGfI6OLg6yg/Z9utcGU3DJaeXn7qrxPCjWj4d7iGavk1DnUetEQnrfgoVYyB0zJMVZ+eTY2TK90SoWNq9hkyQ4E2UBQEKMjCInUKPK8NDrq4ym5netGIXk+pmDRg9OiYsK8/jnfXn5Juqnl/sGmdV3LE7QCaL/eOhc0UNHZ912CnhuQ5o4oq/fvOrutN6BDeIUDRbB/YEhxY+BNW/pxOM7zz89/+Nx8wcrqzUHN57h8tm3PDnLQ6y2rDEiumVLNSs6ylXBI7e2/tZB2W0en5TXsu/m4T7vC3cxaeDpDduMhUZBOjPe8hcoat8KBAlg6ai/Z/d/BQ6T+eP11wV0ebSY1i5P1yRaLIoUCRsMxgqNVmu1Srlcp4c7ApBN6eEO3Wr2dim6y32bOaG/08DC7Y5dRwoWTGtWdHn51S5fWvekWa356o+DrkfXqEHJbz85z9ebvd+YY5d5BwA6vZfAqxBhtgZtOSGITXUYnXXbKRCLWoZkseKtff8DIohTNFgE9weGFD8G1uAJGQuXTVnz9a41X+0CgPBo6RPLb4uMv8q7tvxybVOddtKCYa4jOTEtBtbOohKr3c71USPZLxFurhL1eiOFpIs6fUsSDhm/4x5R7o4jvmg0tvwESfsSWOis1g5L88BjsbhMpjOC0ma358RE+Sp63SMZFBPtTJt+vq5haFxsYZMKAFLCZR6p1FrTjWZvl6K73LdRg5KlYp4zLfXOw/kuA2vPseYcEwwEmT7ep4Flw+yuBJVsFvPlh2ZS7Ju4QtV8Ee2WfrOgrIFC0i/uKxPUSsaG2TVaKo+3IDbVNQnibQ8WcpmQzWI6Xc7LqlXtaSq4UzRYBPEHhhr/e41LX1nw/ZFXX/z+ng/+feKHI68OnuCZLs9stC5cNmX+0kmuI5P7tNRBNNhsmy4XtHl82W5uLvlKJZ1LnBVpnAz0lzohiNBJu1CqapHp0yoKjIG0/HP43ZUraaLKKR903JNQOC2M/w7uu4QXGhqc/zSD/aUYhW41e7sU3eW+Md3Sh+blVzvzK5Ik7D9R7Dw4ZEBCZLhPD9R6pd61KZbVz0+Ef0WNn7/39JRI7pWtk7yC2tbB7fThum3BmC1Uq0rFFUrqfH5BbKprEsTbHixYTNSV87NRZahsx7ZdcKdosAjiDww1tJy5YlMUY+cMGjCiD8fb/mXmsJSlryxIH5zkOpIujxgS1+Ke8tH+w1prG23bGLEoTtL8ilCrNxQq/T/a95aUuT67arZ0AGdr/WQwK1A2ubL7CNjs1jWw3TcN/a6HnakJLCMcI3C/FndGJrQUKjlQWh54A92YlnzutfV5LRmw/DhgQbeavUGnPfOtG903V4IrkoR9xwoB4HJJfeOVTNYU5XHg6h0xiZDq0ZVf2uA3OzYTZQzKbP4jNVuwjXvO+xu7T9yfo9QrBK7ljQ5oqmsSxNseRMYOaVnjWLPtbJvbCe4UDSLB+oGhJlQRGbcNznF9VppMz23ZYW+ro/SCAS1r7H4LjV2ob3Al0YkSCYfFd5yqLVSqSikXsTZeynd9Hpec2NoV170mWl49VS4f8koxNfq4Z3zVBW7vzs3s5xrw72dyLXjnv6h1GAOiFM6w09y6+nNXXN1pFtnsLrM36LRzvnWX+5aWrEhNaM7U5Vy4OnCyefmKx2VNGE5VPdP9iUXxcCJI8qs/DtAZzI2zWyr/rPjzUFlVG1ea+ya1JAnbc7TQl5hGZ16/088/TRCb6rIE67YHkXnXZLlM2zXbz+Xm06pt0JqgT9FgEawfGGroGlg2C7Zn9YnPn/nzlcVfPbdw+et3rvj2ldVHt+U57N7NptkZ6WOTEl1fdxWV3Lfm37Zlflo8OMflwrXyXJ5HVTh3MIfjlZ17XF/vGDKIOtV10Plw/yFfp+r0hl/dqvItGOjFM8PdaXpXUQlFfs7VeRcvN9LaOnERKWrxNM+tq8doxDy6kxoucxVmUZpMz27ZQbPiW/db9G8Fh8nMjJQDgMps3lNcCgBCDrtPBK1kdN1o9gaXds63bnTfXItYeQU1RrPt4KlmA2vyqHQuZerLaIVEeuUhcamorrjCy180jjve+Xr7KW/1blszPCvRtZpiseHLXvnLZe21hiDJ3MvVJZWedWYBYNjABNf647od57zW7tUZLM+8v95VD84XQWyqyxKs2x5EeFzWPTeMbu6RIJ98Z+3uo1SOOmVVqq/+OOjK3OYi6FM0WATrB4YaWq7Ku1cdX/HyaoPWM8PYuhV7IqKlD39wy/ApAzxOIQDvzZo284dfXUbV/tLyySt+fHDUiLmZ/VwVY9xpMplP19QeKa+8f+Qw99RZMj7v6Ylj39i1DwAcBHHXqrWfXTt7dKJntZYmk/mZLdtdNUz6RIQvdltF6xh2FBa/sWvfs5PGsa/OVlqrN9yzer2rjmFmpGKCW2UPF+nyiFixuEavBwALbn/k383fLpzfOk3r2guXXt6xO9CxxYhF0WKR0xdYa7F+dujYUxPGBNTCsxPHHa2ocq5GbMkv1FgsL0+Z1NdHPvFavWF/adnaC5ceHze69T9WtyMnJtr5jLfZ7QCQEx1NM19aN5q9waWd860b3bdp4zK+/OMAQZAEQW7df8m1gOG3PA6CwLRxGau2nAEAgiQff2vNQ7dNGDs0VcBjkyTUN+mPnyv/a9Mpp4tJn0S518ebB68/OmfJs7+ptCYA0Butz33wb2pCxOjBKSnxEWIhlyBIo9lWXa8pLFfm5dfoDJYXH5jhWoFzER8dNjIn+ejZMgCwO4hH31yzcHr2+OF9oyJEuJ1oVBlO5FWs25FrMFmZKCNGIaFwggliU12ZoNz24LJges6FojpnPjazBXvpk02/rD0+dkhKcnyESMDF7Q6zBatt1JVVq3IvVztzXI3MSfJoJBRTtEv9wFDj38Ba+83u715dgyBIzrj0wRMzY5LkHB7bYrJWFtQd3Z5Xcr7q1du+fvqLOyYtHO5xYaRI+NONC5b+s97leKS1WN/as//tPfszIhVJYVIZn8dhMg02W63OUKxS1Ruaw4VuH5Lj0dQdQwadqKzeXlgMAFqr9fa/1oxKjJ/cJyVeIuEwmU0m04mqmm0FRa7UnTwW69N5szo4d2WGQn65UfnL6bO7i0vmZKT3j1SIuBytxXqyqmb9xcuuMHIUQd6Yfo3XJEYMBFk6YshrO/c6v56oqp7y3U+LBg7Iio4UsNkGm62wSbWzsNi5dhUvlXCYzOJA/M2vzxrw2aGjzs/fHDtxob5hdkZ6jFgEAGYc15gtSpNJZ7W9MHm818vjpZJP5826e/V6p5f30YqqmT/8OjAqclBstEIo4DJZFhzXWq3lam1hU1OVtrn4dzf0W/VCTkz0r6fPuX0NILVbt5i9Lhwk6V5wE7M77ATRtjWhds637nLfwqWCEdlJThvit/UnnAej5eKcjDjK6wAAliwcuf9EcUOTHgBUWtNrn28BAB6HZcPt7tXcbpw9ZMb4jDuf/d3/YMIEn718/XMf/OvKSFRS2dSG9ZJn7plyxzO/OVNmY7j9z02n/9x0urXYU0unNGmM36860jFNdVmCctt1BsuPq4+ZLTajGTOabSazzWTBDG5Zy/efKL522bcCHlvA5wh4bAGfLeRzoiLESxaO9NrgC8um8zisdTtznV+LK5RtMICCPkWDSFB+YEjxo4yqiut/eGOdUMJ/+ef7Bo66KlUxzIVbn5q9d82Jjx/7ffmTf2SPTZdFehbjy46OWrX4xvvW/OvunEQCXGpovNQQ2GLdp/NnP7t5+79XHI+OVlQdrajyKinj875fdF26PLTvB635cM6MZzZvv9jQWK3Tf3PspFcZBoK8P2cGRebVWwdl7ysp23/Fi7zJZP7m2InWYgI2+9uF8387cy4gA+vuYYO35Be6LjlUXnGovMJDRsrj+nrgAcDY5MRfblzw8PrNLqP5fH2DszBfz8YjZtBvilEPuuzs/fTQ0by6eoMN09tsBpvNYLOZr06u9tOpMz+dOsNlMkUcjojDFnLYIg5HxOG8M3OqyF+WivbPty573zyYNbG/08Bq0jS/Jc6c0J/OEqdUxPv0pUUvfLihtKrlYWyxtfwTsFnMZbeMvXH2EIeD4HJYVpt/38fkuPAf3rn1u7+PbNidR526k8FA3NM4uRMZIf7mjZtf+PDfch+hYUI+54m7Js8Yn0nhWRX0proy7b/tBpPtn61nKC7E7Y7GVo5QUXKfBhYTZTx9z5RB/eO/+/uw3xSg2RlxUW4pJ1yEYooGi6D8wJDix8Da8P0+wkE8/sliT+vqCpMWDtepTSte+mfTzwduf3Zua4FkWdjWu2//K/f8F4ePu9K7UyDhcnksL44LTAbjw7kzh8XHfXLwiK9aYwjArIz0ZyeOi2lHcZ42gzkcv9286PWde9dfvOxVIEokfGP6lEmpXjYHXTAQ5OsF817buXdV7nlfSz/9IxUfzZnRJyI80FrRAjb7lxsWPLphy6nqtrsEjkyI37Dk1s8OH1174TJ1LgmUwZiUmpwso1vUsysTJ5FECPhOrzg6KUY96LKz90hF5elq/+GoVrvdare7//2+MnWSXwOr/fOty943D8YNTRUKOK58jAAwkzK/qDsJ0WE/v3/bzkP5e48VFpQ1aA0WJoMhEfNiFJJRg5KnjumnCBcBAIoyMlIjz17y4sPUGiGf8/idk5YsGLHvRNHZi1VFFUqd3qI3WZkoyuexoiLEibGynIy4sUNTKZI0JsXKfv9oyZ6jBQdOlVwurtfozTjuCJPwYxSS8cP7TBubIZPwASApzr8WCmJTXZmg3PagM2V0+uSRaUfPlh3PLc8rqFFpTHqjFRAQ8NjOIWX3ixuenRij8FwfcRGKKRpE2v8DQwdCUm7h3Dv2davZ9uuZtyhk7Lj9pv7PxqVGLt/6DJUYQZypqT1QWnG6pkZlMqvNFoPNxkRRHosZKRTGSsT9IxVDYmNGJsZT70eYMGx7YfHuopJ8ZVOTyWwnCBmfFysWj0lKmJ7WN03u3SUIABwEkf7Bp87Pz00av3T4EPeznx06+tnhYwDAY7HOP/GQrwufmjD2/pEtKVWf37rzn7wLzs8/37BgbHIiAOTW1a+/cPl4VVWDwWTB8QgBv09E+PS0PnMz+vHpFVYDgBKVevX5iyeraqq0Or3NxmUyFUJBZqR8dr/0SanJzoJch8orlvy9FgDYKHrpqUdotkwC7C8p25xfmFdX32A0WjCcz2ZLuJxIkbCfXJ4TE3XdAFrPhlq9YVdRyZGKyuImlcZiNdpsbCZTzOUkSCV9I8KHx8eNSUoIo8ypva2g6KH1m5yfFw/OfnXqZJo/IXS8unPP72dyAWBGet8vrp3jfur+tRt2FZUAQIosbMc9S9xP7SwqWbZ2AwCgCFLwzGMU7bd59jp5c/e+n081xyQvnzdrTkY6tfyg5V85d9B8zZAb//ibjoHVmqMP3SunV206KPOtnffNSRecb7300tU4WV9z/fo/ASBHEb1+wa1BaXNjcf7DuzYBwMyUtK+nzQtKm90CPwbWgtTHs8emv/LL/dStvHjj50W5lavyPwjq2LoB7gbWNwvmTemb2rnj6SWIvPb5lu2HLgOARMTb+v0DHdl1UXnjq59vqW3UZfeLe+epeTzKYLTgsuCh75xlXsYN7fPe0/M7rN9uxF3P/55f2gAAI7KTPnlhYWcPp5degkmvgRVE/GwRWkw2j7rOXpFEiIz67lflILj0CGdu7zQ06Xccyj9fWFta1aQ3Ws1WjMNi8rgsRbgoLkqakRo9KDMuPTmy51Yf7mhWbjzlzMp4Iq/8wIni6eM8yyf8R3CZMk5Wf77U1zp/XkHN/S//5fraLyXyx3cWh3x8vfyHWbT+z1P1NQDw+ZQ5c/v08yU28MfPDZgNAHbfdFeqtHvvgfYSKP4jblR12uM7/WSn1TTqSCIwA2O26A4mG0UQRB4XfttLC8cvHEEt/8z0t+57f3FqdiK1WC/BRau3fPnH/i37L3osdFpsuMWGq3Xm/NKGXUcKACBKLn5o8YTJI9M6Z6A9DDdTFUW7cTas4HK5pN6XgZVf0vMjLXrppZfuhX8D69zBgnMH215MkIJvz7ynSIg4uS33jZuW9x2cHJ2soBB+f/uLdNosPldeV9Y47jrPnBG9tIHaRt0jb/xT26ijI1yv1EspK1X1Qp9b5w4rLGusU+rHDkmZOMJ7fMl/kPzShmtGeXc7u1xCVfmgl1566aXj8WNgTb9ldEi7RxBk+MyclKyE/BPF1AYWTY5uPM0V+Alu6ngcBPnyxp0NeqPN7piXlXH9EM+8rH6pVGsTZNLWx+/6Zc2PdzR7gfx5Mlcm4E/P9Hwe+7p2X2HphZqGhyaN8j5mB/HCRxtc1pVUzJs6JqN/nyhFuIjFRE0WTKk2lFapzl2uLihtIEgyJlIyKDM+0N/Vi1f6JMr/+GhJZ4+iq8DjsGyYnSBJCiuq18DqpZdeuhp+DKzHPu4IPwYcc/CEXAD45+NNZoOlrqQx78BlgiS+PfO+OFx4fPPZ395cU3ah6r1tLwwYkw4ARq152bDnr31w+pYf9hi1phl3Trzz9RuV1arly76/dKyIyWZu/XEvAHyf+wEDZdSWNHz+yE81RXUoE13wyMy590/11VHofuDZqloui/X9bQugTYk3m4ymX4+d/d+sSV7Oufk9KQ2mzOjIAK6lZNfRgsLy5lxlo3KS33hsDt9bqW8A0Bksu48W8LnsXh+sXkKBIkLEQJCyalVBaQNJQutpZjTbquo1ANAnQV6r1JktmJdWeumll146ls7JFu3CYrQeWndCVaseMKbZSXDTil3vbn3huV8f1DUZnEbPiNmDRswedE/OVTkgGiqUNrPth/Mfquu0dw18curi8XFp0W9tfPaDu79J6h93/RPNAfYkQb5x0/InVtzbd3CyUWNaNuz5voOT+w3v47Wj0BElFp6vrm/QGyPFQgSB1zbtEfM4pUq1QizUmi0fLpz13LptmMOhMppfmXNNqlx2/x/rB8RGVam1QxJjs2Kjvt5/vKhR9dy67df0S52acVX5WDGXY7Dalv629oWZkxoNpmiJ8Nm1LU3hDofHtf/mXt5yvoDNRMf3TZaL+Gcqa59es7VWa3h48qiRyVetP7mK2/N57Nceme3LugIAiYi3YFpOCG5bL70AABhNtpE5yWXVKpMFq6pTJ8R4ego7DS8AGJAWXVod2ipvvXjlr9KZ1yX+xUFbPOTWli+aFveFkBlYxjgPSCDOqb4v0m/EHSYpJ3ly9Ps8JlVKjh01Dw+NeETGoburvqnyrkER98byvSfq7BjUVstfl/P2VJSW6zRam1XK4fYJC5+a1OfmzCw+kyp8OLexfkd50ZmGumKNSmu1MhBEzOH0CQsfFRN/Q7+BUQKqhxoJ8G/R5bWFFy81NepstggePycy+qaMgRPik9k+0iStLrjw1N5tALDv5qVJEmmj2fTz+TO7K0qqDXoAiBOJJyem3jVwsJxPlb3FWcJEbbX8cTF3Z3lxtUFnwDAJh5MZoZiTmr4grT91kqYLTQ1rCi4erqmsNxlsdkcEn5+jiJ6Tmj4jJc3r270renH7DUvSZRGt+82IUMyl0W+b/40608C6d/CzAhE/OSvhnc3PCaXN1QlzJvZ3erJLIvykDZz/4HQAkEVLY1KjlNWquLTo1jL1FcrS85WvLPjIdaS6qM5pYNHvqP3EhUkeu2b0o6s2JYWHPTNtPEGSswekf7rnyJJRg9/ashdB4L0FMwBg5+XinZeLUuUjKtW6F2ZOdO3r3TVmyIbcyy/N9pK2J1YqLlGqI8WiE+VVWrNFLhS6N3X/+BHu12rMlj9P5q68+0ZnHb19haUCDvuDhTOLGlVf7z/uYWBV12udH7LTY4Vdb9e1l/8ORrMts0/U5n0XAOByaUNrA8u1P9g3SUEEGG3TS1AQsWKMeJ27gWV1aAWo3Je82lZowGsThROpm81V/VRtOjIj9kshK7recpbH9BOFNy3280BG3fmsLbz06uHdroq9ANBkMTdZzMdqq77NPfnl1LlDo2JbX3Ve2fD03q35as93CaXZrjSbjtZUrjh34oNJM2eleA85MmLYPdvXH61pKc9cZzLUlRq2lhYuSMt8YJCfgLMijaraoHt41yaN1eI6WKBuKlA3/XHp3OdT5kyI95lMm89in6yveWDHBqW5JWtxk8V8oKr8QFX5ykt5P85aION68eXFCcdLB3f9ffmq/Ns1Bn2NQb+5pGBwZMyXU+dGC30+yos0Kj1ma93vwaryg5T9Qlv/jZx0poH17Zn3IhM9/wJ5Iu+lG1ojkDTbZAjic9+NJEkmi/l7yWeMVqFY9DsKCqNTE0enJm65UPDW1r1CDkfM43KYTAmPCwAGq+2NLXvFXE6jwZQSIQMALovp1WuqNbFS8Y7LRbMGpB0sLkcZDKPNsyl3qjS6vopw9yrFfRXhACDicsyY564KdqXaA4/bcUmYuha9O55dAxtm75fSvPedX9Iwfaxn0opLVwysPq30SS+BUqJv+q341HFleZ1ZbyPsUjavvzRqZnzm/ISBFG/5Qlas0V4XDs0bERhhZDNECIL6kq80HmQx/MTE2AnLJe1f0+M+F7MTACCGH4LQpU79G//1wtmXD+12fk6TRYyIjhNzOI1m0/7KskazqcFkvHXjP3/Mvb718ztGKCrTaZ2fU6SyLHlklECEIFCkVu2rKrMThAnHH921uc8iWZrMs3gUQZJLt6079n/2zjo8iqtr4Gdm3SXu7koSgru7FihUqVFvv7q9bd+6u1Ha0r6UIsWKu1uAJIS4u22y7jLz/THpsiRrSTZG9vfwhNk7d+49szt35sy9RxrrAAABGB0QnOjpjeNQImm72FC7s7RQotWCXfZVFB+rrlAZ9LEeXiN9AzhUWqNSfqK2Uq7TyXW6Rw7v2bpwVYq39ZlLkVr18KHdEq2GT6NPDAoN4PB0RsOlpvrCtlYAyG1teuHkoV/mLOl0lBHD7j+w81x9DQCgCJLhG5Do5UMjkWrlstN1VUq9PrulcemuzVsXrQrmWvcyPlZdfrquurv9Qi9+I4IBXiJ0OSwes6Xmpl7vF+odEOm77dO9q15aBACVeTVBMf6UfgzbSIDhOKHWpAT67c0rZt+aY+RUaVWwkP/E5NF/XbneIlcBAHKrmQmFRFIbrCe3ChTw/szKXTs2Pau6Xksydm3K8tgAPre8VWxpxYLaNpvic5lEjvSaRusZxLqLWKY+d60it6i+rLpVJFaqNHoqmcRkUoN8BbHhPtPGxCREWZmDNGMOgHlgw2OEu2JxZcuhs4XX8mvbJSqlWsdm0QJ8+CPigxZPT3YyK8KN0sZDZwqzC+vaxEoMwz2F7OSYgDmT4tPigwCAQu78eMAwfPp93xDJtv745J7IYK9Oe2eu/ZYwAEJR5OjGJzsFCG2XqhY88iMA0GmUYxufRNGbX/5Ln+w5e7XcqpA7vn3Ir0cptLIL6i5dr84rbmhpV8gVGr3RxKBRPASsAB9+fIRvRlJwYrS/nQuA9K94vf+ee4+fN49GJev0RqvG7EUVLQDAYdGJlB326eV16CQmE/bm1/tPXOpIrjdvcsIrj8yy/MUtwXD83NWK89mVN0oaxDK1RmvgsGh+XrwRCUGzJ8SFBzlOsLjq2d9qG8UAsPendUQaFgzDL+VWHThdUFnXJhIrMRz34LP8vfmZySETMiKC/KwnsNpUfvXd3MMmixfWNq3qdHPF6eaKzRXXfh6/SkhjWj2QmMHSY8otlXNm+H/BJHuyKb4AoDDUX2r9VG6oR4EUL1gZw1uqMrZcbPlIpM1HEXKZ/B8AWBSyGQErqpvcUI8A6kHrHGKqQLLZgKkUhoZmTQ4O2KLgTTQSr151Plf8i1RXMTPga29GCgDoMeXe2nvjeMtL5f/oTYpI3oI0j0cAQKTNv9j6kQFT+zEyzP12ldNWRw5/CyfJb2v574WTAEAlkT6cNGtp9M18BjqT8a1zJ/4qytOZjE8d239s1f2d1qE8GMxHUkeiCLI0OqGTSlEuaV+9d1urWmXATL/kXfto8qxO/f5VlEdoV3Qy+efZSyYE3ox8VCZpX3tg58naSvuS7ykrIqPol9PmLY66+aoj1mrWHd6T1VSvNRpfOXNk77K7SdbuLUTjS6Lj350wnUW5aXby643s/54/AQDHayry21oSPW8xJv7i6nlCu/JjcdbPXpzkdXOvTKd96dThQ1VlTSrFk8f27li82uprwO6yoh7025vfiGAIKFifPPBjVX5dY0XLpw/8KPDlPfLxXYHRNlPtLnhk+ntrvlkT/iTXg/3DlQ8QFHl753M/Pve/NeFPmoymoBj/d3a/QOn39a7zFTUbzl1lUChGzPT8jAl/Xcmz3Jse7L8563qTTE4jk7l0K/NqkV4eLXLl01v3LRkRPzk63HJXoIBrxDBPNivW1+taTUPXpjoduywt4ZE/dzGp1NFhQb48e4v08ZG+eSUNAFBR25ZdWJfWCw/B7IK6zfuuXsqpwm6dadSYMI3O0C5R5RbVb9l/bWxa+OuPzuZzHbzX1jS0MyN8v910ZsfhHMv2pHKNVK4pKGvavPfKg3eMu2+pvYlurc7w0fqjRKB2M3VNkromyf5T+dPHxr740PSuCVlRFIkO9Sa+lvJqUScFq7S61WxejWF4UXlzWsItX1ppVYfTQEyYt61nrUu4fL36+81ny6o751NXqnVKta6mQXwhu3LD9gtrFo58fI3NRMsMOkVvMPbye3YVJiMWE+aTV9JQWt2KYbjltyeVa1ra5ACQGOWnt5tk17XXoR0MRtMbX+47c6VDY14xN+3pe6bYUmWvF9d/+svxitpblnvEMrVYpi4ob/rzn6zpY2NfeHA6m+nUbUskVnrwWY0tste+2FtSdUtssPpmaX2zNCuvWqPVP3CHFffw8y2V/805ZGuFNU/c+Nzl3b9NXG11L4fsL9FXNKuz/RjpjerL/szRLLIvDtipptfG+rziQYvVY4q9Nfd60GI86QnTAz4/1/KugBqeILDeGoHG1E4n8QFAjym3Vc7DcNMo7+dieEsAoFi2a2bAVxN839KZpITSE8gaF8gat6fmlsjjSkOTEdctDvlLY2zfVbMqgjOHSw080/SfdK/HQ9nTRNr8g3XrAMCWnFY7chXvXTxtxDAAeHn0JMsnNwDQSOR3J87IbW0qahc1KuXbim/cl5jW6fD/GznOarORAo/Xx0556tg+ALhgsQho5qfcLGLj5dETLbUrAIgSePwwa+GCv//ncJV9XWqmpXYFAEI648dZiyb8+bPKoC9saz1XX21roTDDN+CzKXM6vdqtTUo7Vl1OCHyiptJS0WlVq37KvQIAJAT5Zc6SeM9bog3waPRvZyxYsuvPG6KW663Nf5cUrIpLckm/0OvfCAZQwdqv+L1rodk43ZIXfrGSqOeIfrN5+7tLN1MlBsX4/3j1A8uafmHeb+98zpmOesAHc2Z8MGeGw2oTIkMnRIaaP769YBoAfH7HXAD4cc1iAPjrwZWW9Xc8cst9h0om/XrPUqsth3sKDz91PwCsSE9akZ7UtalOxy5PS1yedjNIBKGu+XLZhBiWzBwft2X/NWL7P1/u+/jFJfGRPbRXPXu14kJ257ciCplkMmGWj7oL2ZX/98GO9e+uJtsNrVlVL951NO+IhW5EIZOMpptv3RiGr996jkohrV6QYbUFnd743Ic7OyUlJZNQo6kjd/WxC8VtEmVGYnDXY+MiOvTOshrR7Ft35RXfktI4r6Sxk4JV8q+C1fWbXDwjOS7CR6rQyOQamVJT0yBuEsmtCu+Qn7ed37jzkjPOqjPG2Qw/DQBsJu39H4/05nt2ITqDkdD4tTpDdUO75aSOeU4rMdrf/AtaxbXXoS0MBtMrn/9j7uiB5WOsajMEh88Vvf/DYYPRZC5BECCTSOYSHIej54tLKlu+e2ulMxmCRWIlh0V75I2/xDKbqTXGpoVbLf+y4LT9q+ZcS+W1trp0TyvvWmyKf6P6SqM6K16wKrf9Zz4tgk3xUxqaJbqKE40vmavJDHWE4uIMdBJfhykAgIqy74o8farpVfMuP0Y6YclOI/HtNxLLXw4ADLIHlxKoNraiCElrkoaypwGAFz2RQw0EADtyOtPRk8f2EZbUzlMhFRMmUEIG8+6ElK4VSAiyOj7ljbPHAGB3aZHVh7ctpoWEIwA4QJNK0WnX9damWrkMAFgU6uo4K/0mevqM9AvMarKXsBkBuCshtWu5kM5YHpPwe34OAPxTVmxLwXo6Y6zVifOZYZGEolN6q23ZlqI8QsuZEx7dSbsiIKPoMxljHzi4CwB+u3HNloLV3X5d8hsNgRksNwNCbLjP9LGxxy4UA4BYpn74jc0LpibdvSizB6tCq+al/X04B8fw1PjACRkRidH+4YGeDDoFx6FJJDtzpXzjzktypRYAiitb9p3MXzw92U5rG7adJx4eGYnBq+alJ8cGsJk0owkrqWrZvPfqyX8XZdZvPT9nYryAZ2VF4+dt583aFZ/LeGjFuEmZUUIe02jCquvbD50t3H4oJ7eo3upqVFxExytOeY2o067rJQ0AEODDl8jVao0+v6xzEuXSf2cU4iI6K1hjUsPGpN68H209cO2r30/Z+RJs8ec/V37bccn8MchPMGdifGK0vwefRaOS5UptTaM4t6j+QnalgMuMDrUXee7ohWKpXAO9+J5diNGExUd2rNwVVTRbKlhmA6yEKD+TXQXLtdehVXR640uf7MnKqwYABIFn7p1yxxybj8bcovp3vjtIWOX7eHLvWjhyTGqYrzcXRRCVRl9Q1rj1QPbFnCoAqG2SvPzpnh/eXuVQ56trkvyw+YxYpqbTKHMnxY9KCQ3w4TPoVKlcXVYjupRTVVTZEhtu5U2pXafKbW/oWt6JY42lVhUsDsVfYxIrjU2ZXk8XolvEujIeJQQARxHS8rBdVlcAHcKlBBkxjUxfy6N2ftWhoM5eb1TUPE+PdM1nhnQYYdmU0/mOusXZ+mpiY1JQKAW1bqk2wqfjgs9va9GZjDSSsw9rFoXKptIUep0Rw/QmE5V0s/3sliZiY4x/kGW5JWMDgu0rWMFcvi0XxYlBoYSCldvaZEM2ytgAKy+uABDA7jCEkOluMQI7/+883Mwwm86hk4LCGGSKxmgoEbe1qJQ+XcTrQb8u+Y36T8F66co/O6vzHNfrDiQEpaIkCkqioCQ2hcaj0rkUOp/G8GNwA1i8ACY/lCMMYQv72ZBRolNn/vO5q1ojISiVRKKiZCpK4lHpHjSWJ53lRWeHcTzCOB4RHA9vRl95Qb708IyWNvmN0kYAwDB8z7G8vcdvjEsPnzMpYVxaeFcTJVv4eHLffGJuYpSf7622RAgC/t68VfPSM5ND7n9lk8FgAoDjF0vsP9gI7eq+paMeXjneXEgmoQmRfu89u+Djn4/uPpYHAHqD8dDZwjvnd55cqW+WmmfmPPis9e+uNls4kUloZIjXEyGTxo4If/b9HTpr601m3aispvMCHDGzlRTj39Imzymszy9t7BS0yRxXLD7CBVY+XSmvEf2w+SyxjaLIY6snrpqfbvnS5u/Niw33mTU+DsdBLFPZaKYDQrvq8ffsWnAMN0/7FVW0zJt8cxaW0INRBImP9G2ym3XAtdchQOeIXFqd4YWPd1/LrwUAFEVeeWTWvMk2Z2t0euNb3xwgtKuESL8vX1/OsoiEwmJQM5NDM5NDv910evPeqwBQUNZ04FT+wmkORFq/9bzeYIyP9P3guUVewpuPGT8vblyE78KpSUYTZnWxskjqVK6hYhvVWBRflbGFTw1FEUoAa3ShZOtYn1fYFD8OJShfvClJeA8AiHXlPGoICaEAABVlKY3Wn8FmKCgrkjvvUuvHE3z/QyPxjbjOfn1nYJN9aSRetfJ4KHtau65Yrq8DADtyOkOch5ed2AQXGmqJCRhL8lr/9XsV2Iw64cnoaNOIYSK1KpDTjTdbsx0SfqtOWSZpJzYibfcb7ihhYgiPb2uXudkqmcSE413NsCIFHlZtswDArPDpb/268kUd31Wch00XFjKKRgqEN0QtAHC9tXlmWGSnCj3o1yW/0dCewTLhmMaEaUwGAGjXWX9gMMnUWJ53otBvrHfYKK8Qdv9bYPUOE45pjJgGDAAg0irLobNrrg+Dk+EZlOEZPNkvMpDFd2HXLAb1q9eXf7vpzK6jucQSCobjZ69WnL1awecwZk2IXzQ9OTTAqfSl08daz3BCEB7kOXVUNGERVVLp+EY/Ij7Q8qlvycOrxu87mU8sFV0vbuj64P/nxA2zJ/8Td0+yaj+elhB0x5wRxIOtE4G+AjaLplTppHJNu0TlIegYYA0t0naJCgBiw3w8+Kycwnq5UmsZtEmp0hFh8Xkchr9Pn9iG/7rjonmp64m7Jq2al26rJoKAM+tNvfmeXY6/N0/AY0pk6uLKW2YWiyuaASAkQOiMlZJrr0Ma9eYzWKM1/N8HO68X1wMAhUL671PzJmXai8Z04HRBa7sCAChk0ttPz2PZiDP3yKrxR88Xi8RKAPhr/zWHCpbeYPTz4n7x6jIOy7qXtK05MKleY7W8EzIb1RBAEQA/RjoABDDHXBF9zSL7IoBO9f/4iuirv6uWYLiRRw2Z5v8JIBQAiOEtPdP8xt9VS2gk7oJgK+YiBBmej18Wfb67ZjUAcKnBfKr1xU0AONfyrlRXoTDUn2t5l0H2GOn5JJdqJXEtgpAm+r59sfWja20/+DMzAlljCeFtyekMj40Y5UyyZ0tEmo4F3I8vn/348lmHXch0usAu79EGzHSxoe5SY12puK1FrZRotWqjQWc06kzGrirdv+10TNJ4MGzOzPFpDvzruVSbFcyRDjAcV+p1vC5NCendmxHUm0wqg4HY9rQtM1joOm0aK4vj3e0XXPQbDW0FyxnURn12e312e/0fZVdICJLuGbwwOHFOUByX0q9hGvqOFo1if13h/rrCt3MgQeA7JzB+WWiKJ93x49MZ6DTK8w9Mmz8l8edt5y/lVpktVaQKzdYD17YdvDYhI/KhFeMigh07OtnHvOijVOuMJsz+UsiaBSNt7eJzGJEhXsWVLQDQ0tbZBAEAzKbHPA5jxlibt8WFU5OsKlgIAnHhvldu1ABAWY3IrGBd/9cAKybc20vaMXNwo7TRrGCV/jvjZV5kdC1Ktc58amGBHivn2tSunKc333NfEB/hez67sqxGZL5CWtoVxIxmkm3Hl27RreuQzezQilQa/bPv78gvbQQABo3y4QuLRiY5SEv/z/EbxMaYEWF2lt0pZNKYEeH/HM8DgJoGcUub3MfTgUvpgyvG2dKueg9i2+10aejfxAaPGnJv1AVim0Pxn+r/UdfKPGrIguA/HHZHRhnjfF4b53NLIlqrpvHjfV7vWmgWAwDmB/9KbHgzkheF/NmpplU57dvg9wZlF5XLPia8s8K0qSD3y6sXrCoTdtAYO5QVOtnmo9/OLgKSbQcdyzUytdHQVcFy2HgnVIab8YPsH8v4d6/lIT3uF1zxG8FwULAsMeF4lqgmS1Tz35xDi0OSH44dE8J2agJmqFAgaS6QNH9dcHp+cOID0aOjea4JCxQb7vPZy0vrm6X7TuYfPFNAvE8DAI7DmSvl57Mr716U+dCKcb1JlUOl3lxwNBhMdh5sFDIpMyXUTlNeQjbx4FeoOwd0IUKBE9tpCUF2XPmC/YVCHtOqpXBcRIeCVV7TOjq1QxLCwh1FkOhQH7my4y3/RmmTeTGrpNKsYPUqtrUtcovqzTNz86ck9T5tUW++5z4iPtLvfHalwWCqqBXFhPmAhYW7S2IrQHeuQwBgMmgAoNbon3pnOyEJh0X//JWlDoVRafRmH0+HqqG/902NqrKu3b6CRSKhU3qUHVxAdcpr0oPmmje3YY7ZpX9WWJSdlS8zPsxbjIpeP3tsU0EusR0j9JwaEhEr9PRhsXk0OoNMYZDJU/76Rf2vLmUJ/V8FSG8ydd1LYLIx+2VGa7Tpq2u5i0W2mfzDedjUm41ojEaG7bDpmn+7tjykN/TyNyIYXgqWGT1m2laVs6M6d2loykvJ03jO3VyGCnrMtLP6+p6avDvCRjybONlW6JruEujLX3fn+IdXjbuSV7PjcO6F7EpiQcpkwjbuvNTSJn/j8Tn2W2iTKLPyaipqRbWNEplSK1dotHqjruOflduBVUIChPYfe6R/93YN6l3XJDFPwoUF2su5AQDB/kKrCpbZGKjMws6dsHAP8hcw6BQGneLBZ7VLVTdKbloNl1a3/Ht4XxlgmbeTY10wndOb77mPSIjq+OaLK1o6KViJ3ZnBcsl1CAAsBtVgML34yW5CDA8+68vXljszm1ta1WpezP3uzzPf/XnGyR4lcgczFqEBQnqP4vzF8Z3S+1M9bAatHrSYcLxC3tmywovOErjoxtgDhP+udo0JCOqWhyAAnG+oJbQrBODjybPviE3sWsfWgDRPKbXbnvqSO5q5kepsvlC1azuaJSEIyxWKDgUlcWk0Ioq6SK2yFWwdAFrVHa/99lcSnac3v5GZYapgEZhwfHtV7vHG0nfS584MsOeyPhQx4fiWyuwDdYXvZ8yfFeiys0MRZFRK6KiU0NpG8Y9/nTv1b8rCg2cKR6eG2fL8zyms/2X7hZyiuh7kuu6EgNvz8aNQ3bw1ENFK7WBrncU8BWXWaWQKDRHmMTasY/kvPtL37NWK6oZ2pVpH2AaZg2D10QyWVHHTOMbXoyeBSTvRm++5j4iP8CPSNhRVtiwCAICi8mYAYDNpoQEO1GUCF16HAMCkU9769kB2QR3xkcWkeTuX1VTqSE+yhVXHC0t4jq5qWwhpzHTPoGttdXbqkBB0fpCzQRYGD9fFDStPbOxU+HzS1EdibYbP6GuSvXz3lhcDQFFbZ2dkh+wp64icsjg63qp2pTeZNNamr8DCCL1c2m6r/SqZxL4AVVKboafLxB3NRtg2Ku8uKd5+Z+uqAaCwrTWmS2B6AgNmqvhXqkQv19hg9OY3MtMT79nbDLFO/cSFv78uOHNb5jCTG7RPXPz7rexDVleIe0Owv/D95xa+8OB0c8mf/1yxWnP91nOPv701u/DmU83fmzc6NXTOxPiVc9PvXTLq4ZXjx4ywmb6qEz17QSfQaG/edxy2YytHkJeQTZhe1TSKCY+zvJKGf5MNd8yjEItEOA4FZU0AoDcYiYD4Pp5cYd9ENFCpb7532snM7Ty9+Z77CDaLFuQrgH8nrnAciqtaACA+0s+Zm7lrr0MA2H4oxxyuAgBqG8WvfPaP/VhcBEqLH4tKITNoFCf/OQzT4Lxvb1eeSpho/1t8OHZMMNt6CPjBzPkWB6HJ+58JQaHExtGaCp3JgdLciQZFh6usrfQs15pthtswZ7C52FBnwKyvEl5pchCto1WtqrChY52uq+rUUe+Z9O93dbiqzFadU7XVxOpkOF/ox3KNW31vfiMzw3oGywwO8E3hGYVB+1rqzIGWpU/4s+Jqs0b+9ZhlVBvxPHrMkhkp565VENF6ympaZQpNp3fo3cfyNu68TGyzWbR7F4+aNSHOU9D5Rf9/u7OIRvoUOu3mBe9wMgCzbYsQH+F79moFhuE1TeLIYK/C8o6FqpTYjlueWdPKL2salRJaWddOrKP1kYU73KoPaXSG2zWDZFykb22TpKquTW8wtrQplCodACRZS/Teib64DgljxJgwH28PDpHpKLug7uOfj766rnN+kk4w6Dc14Ncfm23ft7HfGOsd9lbanP/mHO76MoYAPBAz5tnEKQMiWC8539LnN5buEiv0HBcQfL6hVqxRf37l/CujJzl/LO1fe22rFu4Yjn+Xc9nWsem+AX5sTpNSodDr/irMuydxRKcKNXKpWUmyw283st+dML1TYbtGvbuskNheGNk5YWiPWRGT9MWV8yqD4Uh1eZ6oOdmrs+pmxLCvr3V4M9yTmOqqfnvzG5lxz2DdZGNZ1k/FFxzXG5ocbyxdd36by+exAGBcWgSxgeNAeJ6bMZmwn7edJ7YZdMr6d1avWTiy61MNAJx57+89bObNVT8ipKQd7FQwL/NV1bUDAGHrzWJQw/+1v4mL8CVMlArLmwCgorZjkrmPDLDg1rUhkbif3Pr6n4RIPwAwmrCyGpGFhbsDA6w+ug4ZNMrT907+5f017z47PzUukCjcdzL/f7uz7B8osMjD0y5VOt9jX7M6In3/zIfXRGREcj2ZZCoFJQUweUtDk3dOf+Cl5GlDMfu5yqh3JoBq//P62CmEa9tPuVdePXO0q7akNhpO1VY9d/Jgya0RxpP+TeeyoyRfqdd3OuSFk4eItH1WQQAeSu6IqPLBpTNnb63ZpFQ8euQfWyEeLPmzIPf3/BzLNR+xVvPI4T1ESIVET59xNqJ69gAujfZc5gQg0lQf3NUphKlcp3vy2D4iAla00PPOuG4HB7ZDj38jM4NoBgsBCOrm/DOOgwEzGXGTyqAnomH1ki/yT470Ck7zCOx9U/bhUxl2oomYMWGYHjNpTQaFwQVB9s42V7ybe+TNEbMdV+0OLKbNBaniyhbJv3bii6bZC5rlMO6lSwjy45u3qxtsWiEQ1LdIbe26qWDVt8O/EUQtcyczaJTIYK+SqhZCCahu6JhRj+8bAywAsDRCKihrignrq6mygcXsoFdc0VLfLAUABLlp/G6LProOk2MDiHAYKEr68PlFD7++mciP/uOWs4G+/Cmjo20dGBHsRRiTAUBBmZWEAf1Aq7Zkf/0b90duIz7ur38jhJ2ZyF8QwfV8K63bt4ht1etGe60NZmVa7Whb9WNUlIEipGDWyHHe61jkm5Y0u2ufG+/9qCe9c2RIS3bXPZ/MXxzOsR6SzT6XW2v64q2y98R5eH06ZfYzxw8YMWxz4fVtxTfiPbz92Rwyiir0+jqFrFYuJXSde2+dZ1oZl/Rj7hWdyVgrl03b+uvS6IRADldvMpWK2w5Wlkp12jQffzqZbDURIQDckzhib0VxTkuTxmi4Z9/2Uf5ByV6+CAKVUvGZuhqdyXhnXPJfRfZCgo8PDMlqqn/z3PHf83PGBgTzaLQmpeJYTQVhik4nkz+YNNNOFvkecH9S2vXWpj1lRa1q1ZKdf2b4BiR5+9JI5HqF7HRdFdGvkM74Zvp85+PdO0OPfyMzg0jBoqCk43Me7/HhBszUrlM1qGS1KkmJtPWGpCm3vV5vY5nZFiYcfyFrz4GZj7j2d+rKI7HjHowZ7Xx9I4a161R1KkmFvL1I2nKtrbZULsK6b6m7qfxqijBgcYj1bE09o77pplGkx62zAuaADgBgPzFLbpG95AyugsOiB/ryiQfztfxaDMdt3QjEMrWdsOBmBauuSSISK4mHt3l9kCAx2q+kqkUq1zSL5IQJPIogseF9pfdY5j3cf6pg6czUPupoYIkM8aJQSAaDqaiimfgdg/2FDsM+9cN1yGXTP3tl6UOvb5bKNTgO//3uoI8n11b6Tj6XERniTURquJhTqdLobQUavT1gkT3uj9ymMUmz2v7YWfPMqrCfKWjHHN7i4M/6tOtBaIBlZn5ErDeT/cLJQzVyqRHD8kTNeaLO2jaVRGLeGpvAn839ctrcZ44f0JmMLSrlD7cuCI4PDPlh5sJNBbm2FCwyim6cu+yBg7uuNjfgAJca6y413vRsuCsh9Z0J04/VVIjUNt804j2870tKe/b4gUqpuPJWYywejf7t9PlJLjIzN4MAfDF1rj+b+/P1K0YMu9LccOVWO7M4D6/vZixwGIO+B/TsNzIziBSsXkJBSb4Mri+Dm+4ZBCEAAFqT8VxL5T81N440lDj/ElOrlPxVmX1flJVXsQGEjKI+DI4Pg5Ph2TH1KtIqjzQUb6/KLZB07w343dwjE30jXBW7QaszHDhdQGwTsaMs95IsbHJlSpuhoi/lVlfUWp9idTkTMiL+2ncNAMQy9enLZbamGQ6cyrejvnLZ9AAffkOLtKFFWvJvhsHkzgqW/47DuQBQViMiJjaC/QUuMT+3ipDHzEwOycqrAYCiiub9pwrs5GkZulDIpOgQ74LypryShjaJCgASHa0PQn9dhwE+/I9fWPzEf7frDUad3vjix7s2vLfG11qqAABYODXps1+PA4BKo/9l+4Wn7pnc434HB45nLBgk/iSfJ/9SP1QiP5rIX9gPMgHAuUGsYAFApl/g8VVr91eUHKupuN7a1K5R60wmJoXiz+bGeXiN9Q+eGRbZNVznnPDoGKHnL3nXLjTUNioVCAICOiPJy2dhZOz8iFgAGOFjb1DwaPRti1btKi3cVVZY1C6S63SeDGaar//q+BRiaS9K4GFHwZLqtNNDIo6uvP/3/Oxj1RWNSjkABHB400IiHkhOd1WUhE6gCPLSqAnLYxI2F14/W1/ToJAbMcyDwUz28pkbETM/Isa1c2aW9Ow3Irh9FKyu0Enk6f7R0/2jG9SyrwtO76rOc3LC56fi83eGp/X1JFYv8aKz10RkrInIyBLVfJx34rrYWTsDmV7zUd7xj0YusFOnrLr1+MXSWRPi7AeLkik0b397oEkkJz7On9LZZzjE/+aa78WcKqvhxavq29/5/qCTwveeBVOTt+y/RihPX/5+Mj7Kz8ejs9dJVX3777tsGooSxEX4NrRIm0RyIv4CkaTPskLSvw/+iloRkSSn7wywCO5fNppQsADg4w1HAcCOjqXS6HV6Yx+5NPYp8ZG+BeVNxPQVACQ6EWK0367DxGj//zwx540v9+I4iGXq5z/a9dM7d1qdnVo4LWnz3ivE2Nmy/xqXzbh3yShbzwijCTt/rSI6zMdqZifXUig9kC3eYsR0JISS6XlvDG8GAOSIt+kxlUzf2KC+DoDfGfYLncRt1hSebP7cgKkDWWmIEwoWAAAgQaz0JnV+In9htfJiVtsf7brKxcGf+jE65tRbtMWnm7/SmCQYborgTJzo86TlwQ3q66eav5jl/7r9JUUzzRp5pcKBJUCP+Xvxnc5Uu7H2SfsVyCi6KCpuUVT3rMLD+cL3Js6wtXe0f1D1uuftHI4iyLKYhGUx1u8PmxessHMs4X7oy2K/NGriS6MmOiPtgshYO9mECCYFhdmXGQAi+MI3xt7iaWHQG6+cL2+hS/wChcR2WJS3X6DQtf327DeC21vBMhPA5H00cuGC4MRnLu2ylUvLkjat6nhj6dyg+H6QrfdkeoVsn3b/1srs93KPaJ3zJt1Tk/dE/Pgglk2LN4Va98fuy3/svuzrxU1PCI4O8w7xF3rwWUwGFcMwhUpX1yS5VlB3/EKxStNhZRkR7LlybudobMH+wrBAD8JQKSuv5rNfjz94x1izOXZru2L/qYJNe7I0OgORZq4n599NQgOES2emEnNLIrHygVc2PbRi3MSRkQIeE8Pw+mbJyctlf/5zRaXR8zgMmcLm1RIX4XvsQrFMoblWUAsA0WHeNOoto8nfh0fEgr+QU0VEc+ijCFhmUmID1ywcSQTLMBhM7/1waMfhnBnj4hKifPlcJpmEqrX6plZ5Ra0ot6ghp6ju1UdmzZrgMmeffiM+yg8O5Zg/OhNitD+vw6mjoxtXT/z+zzMAUFnX9voXez97eWnXnAEUMun95xY++uZWrc4AAOu3njt6vmje5MTEaD8hj4WiiFqrF7Urqxva80oaswvqFCrtD2+vcq2CpTK2/VDS4fCI4cYQdiYABDBTwjnj6SSuRF/zd82ThIIFADck/ywO+mSm/2tak4xO4uKAHW58Z5z3I5Gcyc2awh1SB2qEGQaJL9XXA0Aoe0woe8zmqrWWe3Pat8bxZicJFplwg8p4czYRRciEQrYo6GM2xd4iryUD5T9Yo675q/YvrUkLAC/EvMAiWw9/nyPNadQ0zvObR3w80nLkfNv5DEHGAv8FtkqcYX/T/sviywgg4zzHzfSZeUp06rTotMwgAwAehTfVe+oEzwlOSmgV3CVB5JzjzNGC8dPiUNSmNx6ZTCKR0EunS5asGWO53W8S2mdYKFgE433Ct0y5d/WpPyQ6xzfQPbU3hoqCBQAIwKrwtFRhwP1nN7dpHVvpmnD855JL/01zEHgdAJpF8v2n8vefclAtLNDjy9eWW43B88Tdk174cBdhLrbjcO6uI9e9hGwOiy5VaNokHZYxEcGeHzy3aOUzv/TPyH1s9cTiyhYiQpVYpv7o56Mf/XyUTEJN2E2rtgkZEZMyo979/pCtRuIjO+wMcgrroYsBFkFitP+ZK+VEijqwCAFviVKl23cqX6XWKdV6lUanVOtUan1d802zttc+/4fPZbAYNBaTxmJQ2Uwam0m9Y471yMKPrp6gVOv2HOuwUS2ubCl2Imnx0MLSUYDJoIYFORVitD+vw7sWjmxokRK/wuXr1Z//dvz5Bzr7tANATJjPRy8seuPLfYS/alV9+7ebTveq427CIntaGrkTGxJ9bY54Ow4YAojOpMRwE4qQACCQOYKYN6KTeAAgNzRrTNJIzmQA8GXE86jORnhXG9sZJJu5F+P5c081fynSlcVyZ/kzb5qK1qtzimVH7gr/g07qRpSjAVGw9Jj+u/Lvnox8MogZpDFpGCSboV9H8EeM4N80jp7pM5OCUJRGpZ0Sh5Qryy+LL78R9waCIO8XvR/DiZnsNXmy1+RDzYcAYLbv7G5J2DNOH85vaZKKWuRzl6Z7enP/2ZalUmjjU4ISR4Ts2HRBIdMsWjXqxrXqxjqxtx9frdLd9chk87Eqpfb3706gKDJ9fioO+I7/XWiobU9KCw0J9zK3k5Qeuu23cziOz12aHhjq6enDbaxrBwAERczbapVu669nDQbT9PkpXj4887Hjp/XrY30YKVgAEMn1/GbMsntOb3JoHn6uuVKPmVweNapPieX7bJ5874oTv0mdmKXbXZ33Ssp0Bsm6aR6XTbc/f2OGRiWvmJt2/9LRtuJSjkkNe/XRWZ9sOEbEncJwvKVd0WIRzWFcWvh/npjDYdGDfAW1FvbyfQeDTvnqteXv/nDo1OWbkess/fPnT0n8v/unml3/rBId5oOiiDlLTHKMTQWL2KaQSZEhVhJatUtVX/9xyk5HVjUkWwoWiiAvPTQjLT7op63nGltsGukTWEYFG0IE+Qm4bDqhlMRH+Dppe9HP1+Hza6c1i+SXr1cDwM4j14P8BFbXJUcmhWz88O6v/jh15kqZ/XtSZLCXl7W4Eq5Fa5IdbHh7Vdh6ATVYY5L+UrbUvItKsreajDgX8QfDTdWqyxkea2xVCGaNXBO+sUp54aJoA5viNcu/I4Wzytjmx0i8JNow2fdZ504FcICLrQOgYBUrikNZoUHMIAAw6y5fln0Zx4krU5bJDLLnop+jk+jHW4+fazsXz42/I/AO5xvf17SvUF6I4Zg3zXtt2NquFQrkBaOEoygoBQAyhZk3ZDdCmJ3zjluV0IWIWmQJqcFR8f7ffbD/viem1Ve3vfTeMmLXghWZ+dk1F08Vt7XK5y7NKLpRpxHdEmlCIdOolLq1T0338OIAQGiE94r7xpNIqKRdaW7njx9Ozr9jpLcf7+t39z775iKrMhzek+PhzfUPEv71y9nHXpxjKUN/MiTvsL1hlFfIyvC0vyqu2a+mx0x54sYMzyD71QYbYRzhN2OW3XvmT4capMZkON1UPjvQ+gpRZLDX3p/WXcuvzStpKKsWNYvkbVKlVmfUG4xkEonFpHoK2NGhXqlxQVNGRTk03J47KSEtPmjn0etXb9TUN0s1OgOHSRPwmCPiA6eMik5P7DDbT4z27x8FCwCYDOr7/7cwp7D+8NnC3KJ6kUQJOHgK2SmxAfMmJxLTUaEBQrMvfVcYNEpogEdlXccqhlUFyzIAZmSIV2+ibHeLGeNip42JOZ9dkZVXk1/a1CZVypVaHMPpdIqXgB3iL0yKCZg4MiLAh98/8ric+EjfS7nVAJDoRIhRM/15HZJI6HvPLlj3ny3ltSIA+OaP0wE+/PHpEV1r+npxP3huYXWD+NTl0uyCurpmqVyh0RtNDBrFU8AKCfBIjPIblRJqVTt3OXpMjQDCInsAwA3JHjs1OWQfOolXrjgVyZncqi0lVv3sozS0XhCtJyGUaO5UW3VatSWetIhIziQhNeTvmifM5VGcKSHszD11L1xt/9OOfmZJibTFmel8lyPVSwUUAQD8WftnljhrdfDqUcJRAEBBKU9E3jyjad7TmCRmvaZ7Xqvn286vi1gXwgzBbeQbVBlVAYyOexGbzK5VW/EltCWhC6HRKIS3LwB4+nSsax/ff13SrgwK9TKZMCqVTKaQaHRKpwVH3wDBfY9P3b7x3Mjx0eljIhCL1ydzO1qNnsmikkgo0b5V1Cqdjx+PSiWvWjvB8th+ZtgpWADwRNz4bZU5Dv0Kc9vrh5yCBQCjvUPvisj4o9x61hpLDtUX2VKwAIBMQomcgy6RyteL+9jqCQAT7NR5/bHZrz9mMwDPzm8fcrKv9//PWQelEfGBI+Jtxjyj0yjntzxn5/BNn95rv/2U2MALW+21AAAhAUKHdXoAiiITMiInZDhlC2xJX3zPPebXD+6yWv75K9ZfRqNCve1/mb2/Du1I1Qkmg/rHJ/c4UxMAQgOE9y0dfd/SboRusWTLF/f37MBOcCl+SYJFmyvXUlBmHG8Wj2LTvg1FSLP8Xz/Z/PmF1p+DWGmhbHtPaJWx/afSeRSUHsoesyT4cxJCBYBjTR+16ypl+oZjjR8xycLx3o/6MOIKpQcqledQIFNQ5hTf/7NshIRQ5wW8t7P2GTbZM5bnIFY+AJwbIAMsHoVXpCgCgDXBayxt/6PYUb1v/MnIJw82H2zTtc32nZ3CT+lagU1mm5cUlUYll2JFsbAloQs5uOsaAHRajyOTSY11Yq3GgNrO+FRd3nrueKHBYCIUr6h4vw1fHpkwPcEv8KbF8OwlaRu/O0FnUCbOSKivbju6N7exrj0ozMvXn2/enjE/5X8/nfILEEQnBAg9+3zq1xbDUcHyZnAm+Iafaiq3X61KYW+FaDDzTOLknTV5SkexSbNE1gOluHHj5rbHmx5jNsACgHmB7xAb47zXjfNeR2yneawiNkYIrbiV+TESV4f96kxHT8Qe71o+3e+lroWTfZ+dDJ0XARcHfUps0EjsO8M2OOyR4MJArA8CQAwn5n81/2vVtXrTbjHGRxEX5E3xpns/EPaAyqh6Nf/Vr1K/6lohgZvwR80fM31mogh6VXL17pC7nZfQhSxZPdovSEiER3ngqQ4/iUmzEsdNjSNTbk7kh0Z2FiA00jswxANBEeLYectHGvRGCpVs2U5wmNdTr83HcZwwfl/3/M3XIcvt595abDSayGSS5bH9zHBUsABgil+UQwWrTtVPy1Uuh0OhrQpP21By0X41kVbZoJYFMG0anLpx48bNUESPma4O0AsknUR/IOyB78u/xwHHAR8pHNm1DoZjG6o2NGmbNCZNu659ccBiAVXwe/Xv9Zp6E25q1DYuD1zOJrM7lQipwo+KP6KgFAzHpnlPs9p7BDtipHDkO0XvoICO9Rzb1QDLSQl7Q0CwB51JJVmbprLUrmzRqQ6FakVLQRAEccL4ktxfVhm2QPrN5fKlK//srLYXgJ+KkgqWvdI/whRLWxYc/dl+nTCO8Mjsx3rQuESnzvznc/t1Xkqe3q1I7t2lVCaad+Qnh9W+GbPMziqhGzdu3AxFLrZW33N6k50KzydNfSR2bL/J42Z4MkyTPYewHcfUVxldkNxwoIjmeYU6cY61yqE6S+fGjRs3thjMGXLcDB+G6RIhg0zhUGj2Myhrh7KCBQBpnkHVSgdmZPVqB578bhxixLBDDUVnmyuvixvatCqVUcel0AU0ZjzfN9MreEZAjAetG0H8iAaPNpacb6nMaa9v06pkei2NROZS6KEcYRzfZ7xP+FjvMLLtyHv9gwnHi6Ut18UN1UpxnVJSr5LKDFq10aAx6k04ziRTmGQqh0ILZPFD2MIwjjDNIyiG59136Sz6gTat6rKoplwuqlaIq5TtUr1WbdSrjXojZqKSyHQShUuhE/msIrme8XzfJKFfd396N71HpteWyFqONZYOtCD9yjAcj3YolrYUSpvL5KJSmahZI1cZ9EqjTmnQk1GURaYyyVQuhR7I4oewBSFsYQzPO0HgS+mbkEzDVMECADqJYl/BMuDdSxQ92EgQ+O6svm6/TpNbwbLgZFPZw+e2di2fExj39RjrbmvbqnK+KTjbrJFbFop1arFOXSFv21ub/27ukYXBic8mTvaiO/ZkwXB8U8XV9cUXWjQKy3LiQd6skV9qrf6t9LIXnX1vVOb90aP6P06bTK89VF90pKH4Wludyqi3VU1h0CkMuhaNolx+Mxg3j0of5RUyNyhhun90v+Whsr9ef2Lu43byGRDUqSTbKnNPNZeXSFtsmVNojAaN0SDRqWssXmkQgHiB7yTfyCWhyc5MJ7uWBpV08oFvXdtmFNfrwKxHXNtmL8EBapTiYmlLkbSlWNZSLG1tdO6e9umNE5/eOOFCSZaGJn80sp8SLJoZcuPRKnbMh1aFp72TPtfJdi61Vh9uKD7WUNrphmzGZMJ0JqNYpwaAQunNHL50EjlJ6D/SM3iSX+QIj0AXap3DV8FyqLzTbQThHCoEMvkO69gZk27MFMtauxYqDbpnL+9y6CqhMxm3V+UebSh5L2PezAB7WbEa1bLnLu+52ubYMlekVX5648T2qtxvxyyL5bs4cb0tstvrN5RcPNVUTmQi6wEyvfZIQ8mRhhI2hTY/KOGR2LGBLL5LZew2JTKRHQUrS1Tzc8nF003lPTNTxQEKJM0FkuYfis6N8Q57LH78KC8rFsduuoXaqC+RtRZLW4pkrcXSlmJZi2aILzX0jNtyPHbFlqpkCQ5wpL74+6JzljpTt9CajFdEtVdEtd8XnfOis2cFxi4LTUkUuCB17PBVsLQmB8OSS7GeH3uo4M1wPGUy1JdB+4dapVhnMlq+5Mn02rVnN+eJG51sQarXPHHh7w9HLlgaaiV0DQBUKdrvPr2p08SVfWqU4hUnNv40fuUY71Dnj+oBV9tqv8w/fVlU46oGlQbdlsrsv6tzl4QkPxk/0Y85MDEAAaBE2jLdP7prebNG/sH1YwfqCl3SCw5wobXqQmvVRN+It9PmDMLH2CCnTiXZW1tQJG0pkrbUKsX9lwlvUHIbj8euNDu6JV4XN7x+db/Vd+CeIdIqN5Vf9WfyXKJgDVMjdxOO2V8fBAD/wXSd9QBbaXAscTI5dFfU2qOV9X4mzMWhwjBMhuP9kfK5W5hwvEwusvz42IXtzmtXBDjAK1f3nWwq67qrQS1bfeqPbmlXBBqTYd35bSWuu7l0QqbXvHJ1350n/3Dh3dyMEcO2V+XOOfzjnxVXB+qRafWrO9JQMvvQj67Sriw501wx/8j6PTU3XN7y7c0VUe0X+acO1RfVDG/t6rYfj11pVtucwcJw/JvCMytObHShdmVmsl+3QzRbZZgqWM1qucNkMmEcp5LIDlqoJMcGOqSBtpXuRJv0VbX2zEBLYQXLJ/EX+SezenSDw3D8lSv7xLfmGtdjpicu/N3jnB5qo/6ZSzv1PV0msMOFlqpZh378uyrX5S1bojLq38o+tPrkHyJtNzLauopOt2Yc4MuC009c2N53S+cqo/75rD1fFwzGi9zNYGY4jMeuSPUanbVZAI3R8OiFbV8XnHH4HO8BASx+FNc1makG1/O13yiUWkmg24kUoc00EUMCZ2anmIPLzgzT6M4OtAzWMStYRdKWnx1FcLVDu071wfWjliUf5R3LlzT1RrZyedsfZY4zI3WLX0ovrT27uV3XT6ncrrbVLj72S3cnBXsPsfhr/vjB9aPfFZ7th9f3bwrPuNbC2s3gBMONmCucpYbJeLRK16l9uUF71+n/nWi0shrgEqa4aPoKhq2Cld3uOMXmWJ+wfpCk73DG9pNOdr2CZTBWtoofr21Kq2oIqW0eJVV8bd5V1zxeodraKl5X1RBe05gkkX8K/6YsbRQtqm6INplELe33V9b7Vdb7ieUfmg+UKX+uax5T1RBc1zxOofrTmQZdS4m0Q8H6b87hXr4z7a3NN4cfK5K2/Fl+tbfCAfxYfL7Hq72dwAHeuHbgw+vHTP0VgpigVaO48+TvRxtK+rNTE46b/aq+Kzz7W+nlfuv6p+IL2/t4NsJNP2PAdAqDyIjrlcZ2PaZWGtvVJlmx/IwB06mMEhwwqb6J2KsySlRGiQk3KI3tekyjNLa362ob1FZWpYfVeLRKJwVLZdTfe/rPPlX+pvi5IGskwTA1cj/m6LpJEvj5Moa2DZYzc7xCKtPl/aIIm0zy8xb+QCJ5a3VZIslzVEoikz6V2Nsue0PI+4+A+4JWd6VN+hKZFMRhrQQAP8+/MFxX0xjvLfyByZgBAAhQiUPkyt8k8k89+e/TqKlafXa75FUcN3DZ99lv0LUUy1oA4GxzhTNefvYx4fjPJRcJ3+O3cw655L4p02sO1BXYsqB3HhzgjWv7t1bm9F6kHqDHTE9d2vH16GUzAmL6rdMSWUuCwPd4Y+mXBaf7rVOCt3MOZXgG9ZEpAptCWxKSLNGrxTq1RKeR6NUOk5O66SUFsmM+9Mh82TGZvoVL8WaS+Qm8qQiCSvQN1yUHfRgRvvToK+07ZPoWT1qIwthuwvVGTM+meLDJQjbZg4J2dqsahuOxK5aOhEYMe/T8tl5O+duHQaK40Nt3OCpYl1qrHUbgXBE+on+E6TuabJsHmukLhyYSyVvIe53YppDDZMqf9fobZgWLQZvAZd0FABRyhFZ/Sa76jdCHEISJAgkAEISOIreEZ5QovuBzHmMzlxFHGY01EsUXZgXLVoOuRaxTt2lVG0ovdSoP4wgn+ESEcTxoJHK9Snqtrc4Z+9MDdYX/GTHrSlvttba6rnsjuZ5jvcNCOUIGidKsUVwXN5xprnA4bba75kbvFax3cw53925OI5ETBX6hbGEwW8Ch0JhkKo7japNBrtfWqSSVivYCSbPznuRGDHvq0o4fxq5wlZGpQ0pkrW1a1atX9zmsiSJINM87kusZzBIIaUwGmYICItVrpXq1RKfJEzeUyFq7pSzrTMaXruzdOvW+voj2yKMyPs68JSyTCcfMypZEp5bo1BK9RvzvhkSnblDLJLpB52ICAEwytbspU1u0CiOG2anApdA5FFrv5LoFAZVJQVE/Rky7rs6TFirSVmlNSqmhuU1bozZKKCiNhFBkhmYO2dOTFgqAk1Gq0ij2YUXqMTWbLKSiTJGuc3bqYTgeu2I5g/V2zqGLrdXOH8siUxlkCo1E0RoNCoPWGVvVsT5hLowKNhwVrG8LHRj6eNJZi0KS+keYvsMZ57K+ULAwXCVT/KTWHjEa63EwYZgCY0w376VSoi22E1Sag/ZbM2HtJpOIRkk1l9CoI0zyz0ymZhLJtwcN9pgXsvZcaLl5Bwxg8d8aMbvrfSenvf6pizvth2+RG7TnWio3lmZ1Ko/meb2ROmt0l7ALVYr2dee3VSra7bSZJaqVG7S9iS2yvSr3j3JnbbnYFNqcwLiFwYlpnkH2451qTcbstro9tfmH64ucMR43Ytgzl3b+PW1tJNfTSWF6w9GG0qttdWLbigUZRaf6RS0KSRrjHWb/kSzTay611mwsu3zVmt5slZz2+iP1xbMC7QVIcxUkBPWis+0EvN1QcumjvGP9IEl3mR0Y192UqXMP/2Tp+duVh2PH9lEuwkT+dBxwI6aL5U1CAPHyDgXAARAAwAFDAMUBR6BDqbbc9mXcEjFkeI7HrjT9ey/dWpmzpTLbTk0UQUZ4BI70DE4S+kdwPPxZvE6u9DqTsV4lLZG1lsha8yVNV0S1mi7RmlyrSg47BWtbVY7DOYYn4ic4E+NgkHND4niVOoLr+uUJkfgpvaHUS/AZjZqMIPSGlhmWe3Hc0lTI8Qs/jmu7lgEAgjB71mCPOWeR3Sye7/vHpDU8KqNrtREegVum3rvqxO/2daz/XDvYqcJU/6ivRi+jW3t5CuN4bJt638KjG+xEqTbh2OXWmh5P5ue2N7yZ7ZRuyiBT7o8a9WDMGCcnAOgk8lifsLE+Ya+lzvil5NJvZZcdWgeqjPp157ftmLaWR+3zWHR1KkmdynpGThRBloemPhY/3snpEx6VMSswdlZg7MXW6g+uHy1ywpMGAL4uPN0/CpabfgMBJI43+ZaCjv9QYq9lTavbw3Y8doWYwSqTi97NPWyrThjH4+7IjLlB8faTU9FI5AiuZwTXc25QPADoTMYrbbWnm8oP1Reb78YuNMCC4WbkniWqeTv7kP06qR4Bq8LT+0eevqNdp3J4fyejaKLA9Z6Sau0JLvs+Oi0TQeg4rjeYbjFa0htvun7o9fkUcrjFThQAAbjFWJtM8iehnlr9zXlynT6HTPJHUa4TDfYJAhpzw4RVVrUrggAm76202fYb6aRdJQn8vhmz3Kp2RcCjMhy26YzrhlV0JuMLWXucWThI9QjYO+OhZxMn92B5hUuhP5s4ed+Mh0d4BDqsXKMUv3Ftf3e7cCGBLP6fk+9+L2NedxenAGCMd+jWqffNdE7ZLZWJroh6a9jn5nbCPR4taVYrjBj23OXdVv14Api8L0cvPTz70bsjR3Y39SeNRB7vE/5a6szT8578beLq+cEJIzwCfRgcFwkOMKwUrL21+WvP/mV/FZZLoX+SuYg09FNgHm0ocWi1E8/3tfNEdwajsdZgrCL+mUwdaQoo5BCN9rTJ1GwwVrSKn8TxW16PNNqzcuVvBmOFQrVFqdnDZd1r3oUgFAo5TKH+22CsNBgrTSZCQUT43Kdlyu+V6h0GY4VS/bdMsV7Afd6ZBvuIF5OmOkwsOM0/2nkvVBKCfjpqscPEglP8ouwnxrnRU8+arwvPOLRKBID5wQl/Tb43pHdp9YLZgr+m3LPYiSX4g/VFRwbIiSnVI2DntLUZnsE9boFBonw79g4nreL+rs7tcUdubj/c49GSOpXkrZyDVucLVoWnHZr96Lyg+F4+sFEEGe8T/sWoJVumuPjxMSyWCKsU4s/yTxyuL7ZfjYyiX41Z2v9pWfuCzRXXHNbpfYqVhtY55m0GbYKf1zYA8BJ82SZ5sbZ5FAn15HEeJZNu0Ql4nIc0ukvtsndQhMHnPN7JIN1L+GWb5JX6lqkkVCDgvcJhrgAAHvtBBCgS+adGUwOZFCjkvcph3elkgy7Hj8ld4txT846wVEubLTssD0sJd86VbHZAbLHtickKRZutXXYok4t+KelsvN+VRSFJn2QucsmbBwlBP85cREXJ26ocGPC+lX1wtHdIPyetShb6/zHxLkavI5ggAG+lzc5tr7dvPAcAxxtLTTh+G7zXuek9t/F41BqMar2Bz6Q7TARsiVin7mrpT0bRDzMWuNxUuluCOcPtrGCpjPrzLZU7qq+fbip36AxPRtGvRi8b79PnC0z9wOnmCmfsP+YFJfS4CyZ9RnigdV9ZGjU1wOeIrQNRYPh4/GRrL506MtDHipktl30vl2393cJ+gy5ncUiSkw/CGf4xbArNGd/4eyIznex9lHco2I4m0KZV9cDO/auC0ybcnr8VAKR7Bn2QMd+F9x4E4L/pc+rVUvs6qEir/KXk0rOJk13XswN8GJz141f2XrsiYJAon49asuTYBvt3H5lemy9pTBEGuKRTN0Oa23g8NssUh66XLk6P9+X3ahmOjKID69joPLfDEqEJxzQmQ5tWVSYXnW+p3FKZ/U7u4RUnNmbs+fTxC3+faCxzqF3xqIxfJ6x20mZikGPATO/l2tRvzISyhXF215v6CNzVdugub9A+k502gaSRyM48MqN5XtE8Z9MyJAh87d9VG1U2reCtUixrPeJoZpdJpn6WuYjiaAWzu5AQ9NPMRQ7NZjeWZfVn7IAPRy7oriWHfRIEvhN9IxxWu9zq+uxyboYct/d4DPUUrJs2qpfaFQD8N23ukNCuYFDNYOkxU9T2d/u/31FeIR+NXBBwu6S4fy/3aJWjJQkAuDNiyBvy9z8MEqVbCZRSPQLOW/geWqVbTisMEsWfyWuw7UvYolXGQjf05p+KzjvUT59NnNxHo8OLzn4pebr9GFRqo/7nkosvJk/rCwE6sSA4sS/msO+KHHm6ucJ+HSddDocKJgwz5zk1mjAEGXRpTwcnw2E8KrQ6uUYHAAGCnoTyXhk+4o6w1B733s8M64vel8H9aOTC/02++7bRrn4vy/qzwnHqFR6VsWroR1Ltf2L43iSkG0MmSeDnsM7IbkYN9mfZc2pr7ZK3yw4yveZIg4PXZT8md3Vf6uJLQx3bn22vyu2LbNadIKPoMwmT+qLlib4RnnQHs2JEqoAhwd5zBcevlh66WLTteO7xq6Unr5URKwQ7T+X9efiaRmcQSZQHLxaLJEq90SSSKCVy9dGs0oGWeggwHMZjlUjyyb4z50qqz5VU9+BwXwb35eTpjusNGgbRDFZ/kiz0XxORPj840aHr1lABB/i+8KyT6T7ui8pkkql9LVJXgnzPDfIG7RPL696iqr8THv6p3cwp7kO3N8EuN3QNG2aTPbX5Dm+UD8aM6dMxQkKQR+PGv5C1x04dqV5zpKF4fi9MBp1hdkBcMFvQFy2jCJIqDDjWaE/JMKenHPyotXoOk6bFjCPjgvMrm8ikDstgtVZvMJr+PHytuV3uLeCcvV4pkihFUuWzqya73Hb4tmQ4jEcSioyLDpmZFN2zK+KZxElsl8bf72uG0QyWF509zT/6tdSZJ+Y+vmPa2qWhKbeNdlWnkqw9s9lJ7SqIJXgwZkxfi3RbEtLNB7Cvo5AqXnS2nXhaVrFfv1v55vbU3LBfgU4iO+O/3UvmBMY5/BK2V+b2tRh3RqT1XePJjqzx9JhJptd0KsRxPOdEQVNlKwCU51ZfPZJ39UierE0BAFU36vLOFmMmB9bQfQGOgwnDNHrD5YIaDy6zXaZWa/UAwGczArz4fA5jQmoEhYzKVVpfD+6E1IhWiaKyoc1kN3GNGxge45FBpRQ3ib44dO7zg91+Nw5mCxaHJPes34FiWMxgMcnUrVPvi+V5D7QgrqdWKfm9POuvimzn00u9lTa7l+Gvhi1BrO4pWAIak0Yi66zFxyNwMjqDJfatUJ1XsMQ6tcO4WdMDYvohRAKNRF4QnLCp3N7S9mVRjcKgc23yOEt8GJxM12V47UqS0PFicatW2enB9veXB8KTgvdvOLHs6TlMDuPwH2fGLkgnU0hZB3MbK1vDk4ORgZgZWjWjw7oAw3EUQcYkhRFSzB+fYC6fNCKC2Ev8Xbd0XP/LObQYJuPRi8O6Z3ya3mjy5HTblWRVeNqQC2UyLB60aqN+wZH1QhozUeCX6RUy2jskSeA/pGet61SSU03lxxpKL7ZWdcuJ7p6okc74NLmxijfDQXzRrjBIFDsKVg+M/+wnIjU4PU9wtrnC4ZUzzT/aURXXMNUvyv4N3YRj51oq53QzIV03BOjjM/V0wjOxq3Isqhff8ew8Co1SeLls3MIMT39BeHIwi8e8dvzGIx+tuX66SKvSMTgDkL2EgLiFdr2PEuWWf904ZJiMxxaZ8qcTlwOFPBzg/onpzl8eKIL0w+ydyxkWChaBWKc+01xxprkCADzprBkBsUtCkpzJEjAgmHDcgJkMmEll1El0GolOXa+W1iglFfK26+KGNq2qB21meAa/mjLDcb0u6PXXW0RzUIQNCIlOm8Ln/YdItEwgaruDz3uLQulbE5nBgMMA7l2xrw/5MbvtR0O3myXTYQQdM+ccuTeiCDLBp5908VHeoQwyxX5OtNNN5X2nYPV1ADyOE0ncuiriOI4DgE6to9FvsZgkkUhGg6koq5zFZ0anOZswwM1gZpiMR7FKnR4W0K5Uy9RaHAdwWv1OFPgRt1+VPq+weREJZSOAklCOF/tOP+7j3ZKhpHWNN+deAWNmd4XvQZvDSMGypE2r+qvi2l8V12J43g/FjJkfnNjPc48f5R3r58T1UVyv78Yu75YTnCUkko+/bw6Gtcvkn7W2LfH1PoYgHS/lXp7bXSfmoEZIY3b3EPsKlkf3G7R/oTq/Unzd0XpEJNez33K7UlFSksA/y24W9mttdX0nwAiPvg3y6czKjq7LbzdyRvIvr21RK7XrPr7LsnzamnE/vfSnyYhRaUM+J70bgmEyHuP8vctb2pukimkJkSS0G8/cCRYLL1SST0rAJQDQGquKmpeyaSM5NGdjNfczw1TBMlMia30+a893RefeSJ054fZdO4viev1v8l090A86gaIeAv57za3TVeq/2X2f9W9QQULQHrhe0lB7Q0xA7fYvYn9S3cmwqxqTocZRsjOHdtmuJVno4IZeoxSrjHpWH3i/+jA4PZib7BbOuD5hXWYfM+ekps9IIpE7fHFWPr+A2IhIDnnii3sBAOnOI8rNoGX4jEe5Rjs6MnjBiG5PfaVaO306OYxJjdUZa90KlmMQgKAeuUljOK7HTHqTUWHQOgzabpUqRfvas38tCE58J31uX9zBB5ZMr5BvxizrvXb1LwidNkGnz2Kz7tVoj8oVnxkMRV6e22nUjktcpd4sV3yH4xoEoXE5z7GYyzFM3CKaz2KuVqm3AK7ncV9iMpcBgNFYJZG+YjRWAULmsB9is+4DAIXyBwxTGE01Ot0FANzX+ySK9onzfHfpCwtrZ1aO+oISaavDXOD9HOg/ge9rvwIOUChpHunV8wTMtojgeLq8zU70WA8ya1edG3SrVrcRw2c8klB0X06BWKlOCvKdmdSNGMvWTh9T6Qu0hmoubSwAiJRbm+U/YrgWQagBvKc9WEsBwISp6mUfyTQnMFxPQjlxPjvJ6M3QOQrd5WrxqxEe31DJvoXNS73YK9tU23FcH8B7zoO1pJdtMqnxMKgULApKOj6ne4upncAB5HpNg1pWo5SUyFqvtzdca6+zv5Bsyd7a/BvixvXjV4Z137dr0HJP1MhXU2b0eGXQKijqYTRWAgCDPoNBn9HcOtlyL406xsdrDooKDMayVtF8FnM5ABiNVSSSh5/POYOxtKV1Ho02mkTyaxM/JBR8TqUkY5ispXU6lZJMpaYBgFL1u7fnNorgOwwTDxLtCgBYfaBgMe0aVPUdzqSFDunfrOfOxKAqkbX2hYIVwrkd8ru7GboMn/HIolEXpccfzis9X1rtvILFIFN8LELe6E0t2fVJABiOY8GCN6hkfwDg0kcJmDPJqEBjKC9qWUooQ3XSd02YItHvKIow9MZGsyaEAFmqOd4o+yrGexOV5GfExDpjNQX1SPI7oTGUFbUs5tBGUcn+vWmTKBxEClbvQQB4VAaPyojn+xL2dzqT8WJr9c7q60cbS4xOOFhVK8WrTv7+28TV8Y7098FPMFvwdtqcvrDexbBWFLU52g3GcoXyRwAMAMEwOUCH6S6TsQQAKORoKiVBp79KpaQaDEVt7fdaHFhJKFh02njCZN5OL/0PrQ+iprkqqXB3aVbLHdYJ7mZMil4S6oSW02g7R1BvCHAiHqwbN33H8BmPjRL5/tzieamxd45Jcf6oTgEFzTZYBpOoVHQfglA8WXdoDBXNip8BxwAQEybHwUhoPNFev6MIAwAIPYxAob3QptqZ5H+CjPLNhULWQgBgUKKYlASlPltI9u99m7eVgtUVGok82S9ysl9ks0b+TcHZv6tzHc7EinXqB87+tX3q/YFDNn8Om0K7LypzXew4+xbWPcWo0R7ncp6yug/DxO3ih3y8j1HIkSasrbHJ0rHW7CRFeI/gCEL2970K0FlxQZC+NYjpGX3xZZIHKNRtsxMZdRxGSXUtXAqdTiJrbYe0AIAmjePnUA8Q0LoX69WNQzAThqDIgITp6j057Q1PXNh5bO46BokCAPed/mt+cHyVQtyqUX4yqsMM7vfSK6ebK9ZGj3ro7FbzgQbM9FLKtIdiR3e3x+EzHqlkUpiXsLJV7MlhUW0sf3fFy0b6CgrJi0efqNRd5TOmVbQ9luB7gE6JMJjacxvM2YQwK3FEAPSmZjYtvUH6SYjwPXMhjpuItXzCktWIiXvf5nCJ5O7L4L6XMe+vKfc6EyuyTat69Py2fkh/5nI8aKxnEyefmffU0wmT+kIhMJka28VPIQiVmI7qCoYrARAS6g0AKtXvlrtU6r8BwGAs1RsKadR0MjmYTA6XK74j9hoMBTiud7nALqQvvs+BipvX4uiGTkVJ/T+7JnBkJtis7kamRecROhGkyo0t1Epde4tcpzWImmU6rUEsUui0hrNHCprrJXqtwWgwNdWJa8pbC3JqDHpja6N0oOV1zAiPgNFeweuLLgLAicYyqV6zLCzlsfhxF1qr61UyADBgpt9Ks15LnTHeN6zojpeJf0fmrPNisBeG9CRazTAZj3Xt0t/PZvOYdBzgo71O5R0hYNo4d4NJJNWcZFITTZgKAKGQvAFApPyfuQKPPrlZ/gOG6wBAb2o2P2KErIURnt9qDGVN8u/MldvVOwFAYyjTGArZ1DSXtHmbz2B1Is0j8O9p9z90bkueI5/YYlnrl/mnepMzvD+hk8hT/aMXBSdN9I0g903WepOppb4xEkWYdPoMb88dCEIDALHkaYOhyGisEkueJqFefN5bVGoam3Vfc+tkFGGzWCvJ5FDicAShY5i0qWUc4AYh/0MSKQAAPIUbpbI3G5vTAYxkcqSXx/8ABq+HAdpzS2WbuNY2znkcpix0eG/tCwRUZpPdtZKuyWRcgq3btxtn2L/1MotD1+uMcanBF08UMZhUhUyDosjVc6WBoV6VJU2poyNkYhWKIheOFVJoZG9//kCL7JgXU6bOP7xhWVjKB7nHP8qcjwCwyNRnEieuL7743/TZO6rzpgZERXBvMdV95er+pxMn+vRonmmYjMd6sXxMZPDI8EAAuFJRZ8IwknNPK+qtvtj/2mDhKEIXMhd5sVcjQPLm3J3fNJOEsjxYy2nkjqwMwYI366Tv3WiaguMmMiqI9dlCRjoeMShCi/LaUNSygkLy5TOmoAjdaJLeaJyCgyFE8C6x9tebNj1Zy2C4KVgAIKQxf51w54oTGysV7fZrbizLWhWe1kf5X3sPi0yN5fuM8goZ7R2a7hnUp3kVqdSUoAArKqlQ8FXXQj7vTT7vTWKbw+7wWsBxLZfzDJfzjGVNMjnE02Njp8M57Ed7LW+fcDvFpLYTXJ6AMRDW9w7f0e0vWPQYqt1QGm7sYzSYFHKN0JMTkxRYUdSokGmoVLJUomJz6HlXqwQe7JZ6SViM7/XLlVGJAZdOFo2dFj/QIjvGh8G5N2rkiuO/j/IOTvPsCEa9LDR5W2Vuk1q+tSL3t0mrLOtvrczFcHxl+IiedTdMxuPoyODfzlw9VVyJ4zA+JtRJ7QoAKBY1WdTkkcFVXesE8V8L4r9GbPtx1xEbJJQTKvywU80Y7z//3ctN9DsEAEZMjOFaf96T/rwnXdUmwXC8s/CojG/GLF98bIP9qIwGzPRd0bmPRi7oCxn4VAbXkYs+CgiVRKKiZBqJzCJTPelsbzrbi8EOZgmieF7+TN7t88AfCqADNNvUF2hNDlxrKQNhHObwJcGh2H3Urxs7+AV7TJqdRISNmLsiE8dwBEUs/2ImDCWhvgECBEXCo4eM89AU/8gv8k9bOgmhCPJC8pT7z2xZHTGCb5E1slWj/DL/9Jap9/T4hjxMxiOCwNpJGb2QaOgxHBUsAIjmeT0YM/qHovP2q+2vK3glZTrfUWrxHvBI7LgHY7ptC+nGjUtwaF94e9zQnWSI2mIPEibPTbb8SGhaln9REtqpZEjw2Y1Ta2NGfVNwdkFIgvnKzPQKblBJJ/lFWtb8z7VD90dnhvRircM9Hm9Xbp+X8u7yQPQYh1OgOpPxcH1x/8hzG4OiwqCApoGWws1NEEf2ZE5GhHctDsOo3E6rtG4GM2ebK6U6zWup02P43htLs+zU3F9X1KiWPdC7t2X3eBxYyKhwZHB1X7Q8fBUsHpU+KyDWYbXjjaX9IIwbN/0J3ZFHpPM5DV2I3pFJB22A4rK6GVaYcPz93GMvp04DgOeTJv9YdEGsU1utKdVr3ss5+mHm/F66A7vH4+3KMF0iJJgRELu75ob9OtntfZhitq/57sbFTaU5bRqVH4tzaMEDznhLaU3Gabt//mL8/EyfoH6Q0M2A4DDkhMGJqLwux+FTxH5iRzduXMLWypwgFj/TKxgAonhe0/yjv7hx+p2MOV1rHqorbtUolh39zVyyKmLEm2mzutvjsBqPEpVGbzR5cljdSvY8RBnWN6wMT8c6hEyvrVVKBsqX8Jlze3dXFgAAh0oLYQvWxKTeGZXq5LFZLXWf5pz+ZuKiBKFvu1blpC86juMwQEv+lsj0WgpKcvvP9xF0R6+eKqPOavnl08WjJjmY9y25Ue8TIOALrQSXaqhp8/LlUWnWe1cZHQRCc/ii78ZN71kdkbY6Is380RxclODGshfN26siRqyK6KHnoCU9Ho99Sl+MxxaZ8qcTlwOFPBzg/onpt80ioy2G7xIhAAhpTGcM2GtVkn4QxhYZ3oHnlj66debqeaGxr1489HeFgyk3MzltjaFc4fzQuDCuIMM70MmjGGTK+WWPjvDyd1y1L3kz6+i5Jiu+uG5cgoejsDoSncaq0Udhbm1DTVtrk5T4WFrQIGlTdNqurWxVyNSSNoVWoweAqtLmhpqOVGtnDt3QqG3etW0txJhxXcJyN24GET0ej31KX4xHsUqdHhZAJqFqnd5RUpXbgWGtYAGAM/lw7Adb62toJHIgmxcv9Hk0cfQE/7DDtc7ahIm1ajZl8MbttAOG4+caqwdaitsZXybXfgUTjilsBD+sqWjd9usZtVJ3YHuWtF3598ZzcqnachsAGmvbj+zJptEp1y6UXc+qbGvpGEHTF6VxeTZvylJHcQt7FsXRjZtBTm/GY9/RF+Mxzt8bw/EmqWJMVIh7ifD2h02hOayjMAzA9KxVSAhqwm8uxv9TVfjtjQvVCkkAi7sqKvXB+EzC1vLuY1tzRI1Kgw4AQv/4EAAWhyd8OX4BAMj12uQtX15c9tjn188drCnBAV8bl/Fc6kSiwZQtX8r1Whzgl6nLpwXe4or8Td6FLWXXWzVKYmGeS6X/b/rKFE8/O2LY6atKLvkq79zl5tp2ndqHwbkzKuWxpDFER3cc2lQoblUZ9Q+f3EmUPJE09vkRHRL+WnT19+KrDSp5EJv3cMIo84Kp/fNy0wlfhoMbOgA0qeVcXudQbTiGZ06MUcg0omZZU71k7h2Zep2xoabNchsADu+8tmbdFARBkjPCaitExXl1KZnhAODlazOtcrtO5dDmw61gubkt6fF47Dv6aDzKNdrRkcELRsT1VK4hxnBXsJyJMTgYon0o9Lpj9eVnm6q+mbCIKDnTWPXKpUPvj56d7OFXKW9/6cJBI4Y9njQGANZPXooB/kXuuYvNNdtmrwEACnLLaT52ZvfisIR1CaPatWrLcLrXVz2jNhriN3/WqfddlQUbCrN2zrk7jCvcXJr77tXjp5c8QqTItSOGnb7YFKovg/PVxIXeDPbV1vqXLhyIF/pMDggHgN+nr9SZjCO2fvXNxEVTAyPA4jf6oyT7i+tn/5s5M8XTL0fU+J+sI0YMuzsmzX5fbroSyLKp6JipVUpieN6dCql0yu5NF+qq2qbNT03NDN/y8ylJm/KB/5ulVurM2/XVbfc/M/PYPzkCT05bqxxBoLnB8SJ7rdJxHT9HL/pu3AxFejweCU4UVDRJFTiGe3CYc1JjXCJSH41HEoruyykQK9VJQb4zk6J6JNpQYrgrWA5zFMDAJYwjON9UTcxCedCZ30xYNCekY/x8df3cvbHpi8LiASCMK1gTnbqpNIfQbIj4XhQURRGERbaySjjWN+Te2HQAiOB5dNpl1d84W9SQ7OlHVF4cHv/65cNlsrZM7yD7Ytjpy4vBejl9MrEdyhH8WnQ1X9xMKFhMMoWQgUYidRL+6+vn1yWMXhKeAADhXGGdUvp13nlLBcvOebmxJJbn47BOjVLctfCuR6diGIYgCIIg6eOiUkdHkEgoAFhuz1iUBgD3Pz0TAIRenNBIb1tW7bd25/iGHm3jAePGzZCmx+ORQK3Ta/QGHMOVWgdm6c7TR+ORRaMuSo8/nFd6vrTarWDd/jh0lAAnUjL1KRnegV+OX3C4tvSTnNOpnn7m8mKp6Jqo4fsbFy0rGzHMmWTPI7wCuiVDFN9zf01xo0ruz+IeqSujk8iR/yY6dSiG1b5URv2GwivH68rqVXIMxxR63dSACPsyiLXqNq0q2eIbSPH0+/L6uRa10ofJ7tl5DVuC2AI2haa0u/ZdIGm2Wo5aXGCERtV12xJntCsAyJc4DkUbx3f8HHLjZsjRm/GYU90oVWlxDGfRqRKV+khe2dSECLKNweg8fTQeGyXy/bnF81Jj7xyT0iO5hhjDXcFyxoCdOaDh1Agj93vj0jeVZn+Sc+bz8fMBAMNxjdHwXOrE5ZFJlpWd0a6g++61q6NTr7bWT9z5I4dK82Nxf5q8VEhnOimG1b6eO7e/TNb24Zg5SR6+dBJ53r7futbpREdiUQvPE2KTQb7ZvtuN30kQgHi+b5aoxk6d62Ir6b37jjxH3QUweVxK/9mguHHTb/RmPKaE+I0Idb3Tdx+NR38B96EpmT0VaugxrB9ISoOuXadyWM1rEJjWkhH02ZQJT5/954H4kQlCHxRB4gTepVKRH7OfZMtra9o0Y9Vo32DLwh6Lcaqh4uX0KSO9AwFAbzLVKqWWe0kIigAYb42t58fietCZuW1NE/zDiJLrbY1+LK7DnNlurDLSK9j+Db1OJWnVKLz75eLXmAwFjt6YR3g4G2rEjZshR4/HY1+Ekuq78dgkVXx16LxcqwOA7+9b1BPhhhTD2hA4T+LUO3qwE6Ec+oEFYfGxAu93r54gPj6TMv5ATfHXeedLpW3FEtE/VYU7K/N73wuh1lj6KgJAg1Jeo5CYV+Is6ZkYwRz+2caqFrWyUi7+v/N7O+lSZBQN5Qp2VRZUycVVckmrRgkACMATSWN/Kri8q7KgUi7eWZm/oejKsynje3W2w5hJvg7WZAHgZFN5P0gCABdbqh3mu53ghMBu3AxRhsl4bJLKl45MGBMZnBkeaBqI8PT9zLCewbrcau+NgYCEIAGDQ8FCAF4YMWntie3H68unBUbOCIr6ecryb26c/+7GRTKKRnCFjyaOcdyKbT7NObOhMItYiXv45E4yikbxPA8uWAsAXgxWFN9zyu71AEBCkGCO4KW0SbODYwCgZ2J8Mnbea5cOT9j1gwed9XB8pjejs+r2ydh5/8k6OnvvrwIa44URE5dFJAHA/XEZFJT05fWzDSp5IIv3UtrkFZHJvTnl4UyKMIBPZdgPdXOssWRluAsCVTvEmYyfE3zD+0ESN24GhGEyHpOCfMVKjVKnr2+XDQdH72GtYB2qL3JYJ5bv40wohz6CCF5lZmpgRPU9L1t+JAIZWOWltMkvdSnkUumWLVjy/IiJ5nBTlhgw09KDf0wLjFw/ZRmNRNabTPuri545uzdvVSSVRLIjhp2+Ujz99s2/z5bkAJDhHXhg/v1dy++KGXFXjJVbjJ2+3FgFRZBp/tE7qq/bqXO2uVKkVXrRrcxcuhCNyXCgvtB+nUSBX1+L4eZ2wqE1qtoJ96b+ZJiMR6laeyy/PNLXY8nIhB5JN8S4/VVIW1xorapUtDuslu5EvsLbmyKJqFgiejJ5XChH4MfkhHD4UwIjtCajROcgzq+bQc4dYan2K5hwbHtVbl+Lsa+2wL7/FAAsDXVPVbrpBg7TJ8v0/R0Y3SHDYTzymfQwb8HRG2Vv/H20Zy0MLYavgvVt4Vlnqo31DutrSQY5QWwenUTeWHRVpFG1a9WXW2rfuHwkycPXqkmWmyFEumdQBNfTfp3fSi87E8qkx5hw7Mfi8/brUFHSwuAk+3XcuLGEaS3+nyViJ9yb+pnhMB7FSs2VyvooX8+FaYM9mDuO27NCw3Cj/QoEw1TB2lmdd0VU67Aal0KfOOxNawU0xs9Tlx+tL5u8+6dRf3/73Pn9MXyvjdNWDLRcblzAmoh0+xWkes3PJRft1+kN2ypzHMaMnhUYx3P7irrpDt6OFrDynIjz1P/c9uMRQYBNo+qNJpF8cCm45bItZbK/9CaZ1iTGAVMa6utUR024Vo/JTbhOj8k1xlaiZqV8Z4Vsu8bUWqc6asTUJlxnwrVqo/XLaTjaYJXKRG/lHHSm5qzAWMrAGWAR/Hrl2qacvCaFwp/LWZuRtmZEf8dnu1xbf/+WXQAAgABQmkG7tbxw65nCLatXZAT2VWBPmVZLJZEYlIGMQDYcWBmetr74YrPGXjS49cUX5gTG2UrT0RtaNIpPbpywXwdFkMfi3L6ibrqHwywuDSppi0Yx2LJb3vbj0ZvLXpaZVC2SxPp79biRvsCIa3EcUxhqa5T7BdRYAS3OhGlrlYdRoNDJHiJNNpPsHcyeS0YZRkxNQul0khABpEF1ik72UBrq6CRPJtmva7PDbgarUtF+35k/NUbH6QURgPuiRvWDSHb4OevqR6fP3ZOe+s+9ax7OzHjvxOnNuXn9LEOKv+/xh+4//tD965cuAoBfli8hPib59mFY7f8eO3mu2vEUo5teQkVJj8c7uF0aMNNzl3e7fGHCiGHPZ+1xmEl9bmB8pKN1EzduOhHJdfz83lvrgrg2ruW2H49tCtXPJ7NEcuXnB50y0ek3cByjoKxWzRUyQkcRisrYiCBkFMgmXCvSZOO4UY8pUIQMADSSMIK7XG1slukrMTCINNkcSrBMX2a12eE1g3WiseyFrD1yg1PmjdP8o6N5A6llGzHsx0tX7hqRcl/6CACI8vSok8m/OndxZUqS1YyBfQSdTA4R8AFAbTAAgB+XQ3zsOzAcP19TOzsmuk97cUOwPDT1j7IrZXKRnTolstZnLu38YewKJ1MFOAQHeCP7wKXWavvVKCjpqQQrnq1u3NgnUWBlOqETG8uy7osa5apL2lXc3uOxRabMjAiaFBtWJZKYMGzwRGqIE6wFAAAcAAEAHDDk3+knHLA65ZEg9kyiJIQzFwA4lNBE4aPmml6MDKvNDhcFq1Et++TGiX21BU7WJ6Po/yVN6VORHFLQ0irTamdFR5pLpkeG/3gpq6C5FcOx5Zu2HFx7T5RnR07AolbRgo2b9ty7JsHHGwD2FpV8f/FyjUTqz+WsTElaOzKd0Mnm/PrHg5npF2vqjpZVUEjopLDQt2ZM5dBovZFz47WcP67lNsrlgTzuQ5kZK1M67B+rJdJvzl+8XFcvVmu82exVKYnrRt9MkvBHdu6m7Nx6mZxFpcZ7e/1n+pQIDyEArNq8rbC1Va03PLrrH6LmY2NG/d+EscS2rfOS63RpX31/9tEHvzp38VBJGQ5wX/qIZ/89yo0dyCj6wcj5K05sxCzSEHXlVFP5I+e3fjt2OaPXmaNMOPbq1X07qx3PxT4WNz6M487b7abbhHE8POmsNq09Q58WjeKLglMvJE3tN6mc4fYejwmBPtsu531+4OyoyODBo11ZgPz7H2pRhAazZ9s+AO1U35LbXMEy4XiWqGZH9fX9dQXG7sSNfThmbJQTk8x9Sp1UBgCW00UBPC4A1EilC+JiIjyEuwoKX5w0gdi1M78w1suT0K7OVtW8fvjYOzOnJfv5VorFrx46asSwR/9Vbt46evKBkWk77l7VJFf+376D3128/PLknr+UbMq+/tW5i29Nn5Lk53u9qemtoyeNGEYYirGoFB8O+4sFc71ZrKsNDa8ePBrn7T0pPBQAsurqPzx55ttF86M8PdrU6os1tb6cDqPU3+5YojOaMr754csFc6dGhAMA5d/EpfbPCwCe3LN/UXzsQ5kZYrWGhPbfJN9QJ0UYcG9U5m+ll+1XO9Ncsfz4r59lLo7tRdLlepX0haw9V9vqHNaM4no9EutWkd30BARgom/kTrthpQBgffGFOL7P/KDBFZNpaI1HkwmzlejdSmUMvyMzuR8XYAaY203B0mMmkUZRpRSXyUTX2uuyRLUSnbq7jSQK/B6Pn9AX4nULrdEIADSLZMaE0bfGYACA5UkJG6/mPD9xPIogJhzfW1Rsnh/65sKlu9NSF8bHAkCogH9nSvLmnDyzIpLo6/3M+LEAEOnhsTA+NruhV94031689PCojEUJcQAQLhTUSWXfXrhMKFheLJZZ/wsR8DdezSloaSEULJXegCCIF5sVxOcF8Xkj/G/O5zMoFCK7Fo1MZlJveTmzf14AMCY46O60VACIcM96dJPnk6Zmt9VfFzfYr1YqEy09/uvqiPRH48Z50Fjd6kJl1P9ScumX0kvOxHhkkCifj1o84C4mboYuC4ITHCpYAPB/l3aVy9ueip/YF0n9eswgH4+7dl3DcHzG9ASTCcu6UpmeFspk0qhUMo7jFIq9MXujrllnNI6KGC7RJQeRgmXATNMOftezYzEc12MmjVHv0EbPIR401vdj7xjA6O1mGBQyAOiMRnMJoVoRataShPhPz5y/UFM7PjTkbFW1TKtbFB9LVCsRtWU3NP54KcuyNSOGEQv2yb6+5kIenabQ9fwbE6s1bSq1pbV7sp/v1+cvtSqV3my2Wm/45eq1E+WVDXI5huEKnW5KREd2hUnhocuTEpZv2pLs63NHcuKi+FhLPdIW9s8LACwVNTfdgoqSvh+7fPGxX0Rapf2aBsz0e1nW1srsGQGxi0OSRnoF21+kMGCm3PaGf2rz99cVOD88Pxi5oDfv5W7cjPMJD2ELa5Ri+9VwgO8Kzx6oK1gbPXpRcBKD3I0VN7FO3aCWNallDSrZjICYQNclVRvk41GrNWA4Xl8vOXos38uTc/FSBQIgELAyMkIB7D06gzx43x+9pNDoEASZlnD7h0AaRAoWDuAwAkdfw6bQfhq/wqGLb/8QyOMBQI1E6sPuWD6rl8kBIFTABwBPFnNSeOiu/MLxoSG78oumRYQLGAwAwHBcYzA8O2HsssRb5r3NWgiL6rLYB1oL5Y+AMBugUygA8MKBQ+Xt4vdmTU/09aGTyQt//9NcDUWQt2dMXTd65I4bhV+du/jT5StbV6/0ZDHt9OXwvACARhlE1/OQw5vB+XHcintOb3LGQUlrMu6tzd9bm09G0Xi+bwTHM5gt4FHpTDIVAdCYDHK9rk4lqVKI8yWNRIJL53ksbvy8oPienoebm2A4rjLqFQatwqBTGnT//tUqiG2jTmHxsVltLzoAAFQp22cf/pFDobHJNA6FxqaY/9LZZCqHQmdTiL80ok63lBWXgwA8Gjfu5St7nalcpRC/ce3AW9mHEgS+KcIATzqLuJhNGGbATHrMpDDo5AatTK+V6NTtOpVIq2zTqgwWGZHjBb4uVLBgcI9HDMdZTGpObg2NRgEApUI7cmRYdk7NOFqU/aYYVMrC9MEeYtSFuB9IN+FS6L9NXJ0s9B9oQTpI8PHm0elHSsszgwKJkuPllZ4sZrxPRwSUO5ISn9t/UKLRnKio+HrhfKIQRZBYb6+ytnazVVPf4cfleDCZ15uax4eGECV5Tc1+HA6XRgOA05XVL06eQMTK0ptMhEnZLYdzOE+MHfXAyLQZGzbuLih6MLMjyB4JRRGATrnW+/O8hi3JQv9fJ65ee2az807gRgzLEzfmiRtdJcODMaOfTZzsqtaGFV/knyqQNBHaEqE/qQw6e5bS3cSIYRXyNufrkxCETaGxKXQOmcqm0NkU6gSfiHuiRrpOIgcsCUn+vSyrSNriZH0T7uKLuZcM2vG4ZvUYAMBxIJZVcRzPzq7JyHCc9YROIScH+SEIGE3dMIkeurgVrA5C2cLvx90x4IbtlpBRdN3okZ+eOR8i4I8ODsppbPrtavbrUyeZYzRMiQhjkCkfnjzLodEmhoeaD3x63OjHdu2N9PCYFR2J4XhpW7sJwxYnuP69AQF4bEzmF2cvBHK5SX6+eU3Nv17Nfn3aZGJvEJ93rqpmdnSkUm/48twFo8Xb3qHSMoVOn+jjzaZS81taZFptqIUtPxlFQwT8XQVFMV6eCIIwKRRvNqs/z2s4k+YR+OvE1Q+d3eJkNBPX8lDMmBeTp/V/v7cH51uqHFrt9CcmHJfptZZZ/1hkan8qWCiCfJq5eOnxX3TdnLMZPAzm8Wg2WkMQJD091JkGC+pbVDr96MjgTedz7h6fdtu7IrkVLACAmQGxH45cwKH0KlpBX/BQZgaKIL9ezX7vxOkAHvfVKRPvTL2ZZZOMoosS4jZezX4oM8MyMta0yIgfly767uLlHy5lkVE0XCh4ZHRf3dTuTR9BRtGvzl9qlMsDeNwXJo6/I6ljCe+jObPeOHJs8k+/ejCZD2ame7Nu2mBSUdIf13JqpTIjhgXyuM9NHD896pb1+I/mznrr6In5Gzfx6fTnJo5bmhjfz+c1nEnzCPx72tp157c6kw3dVVBQ0psjZq8MH9FvPboZJOCA1aiyaSjLlxGLgIufuNE8r3fS576U9Y8LZ/L6mdtpPPKY9KzK+kgfjyapYlB5FfQRw13B8mZw/pM6a1Zg7EALYpMHRqY/MNJmgqpXp0x8dYqVIAtTIsKmRFiZsD249h7Lj0+NG/PUuDFOShLn7VX+4rNdy9eMSOmawKdWXX5auTExrS4ZIfkzQlaFrcFw7I38tQBjAWBqZPjUyHA7faUH+O+9766u5bbOi0ujWZXNTc8I4wh3TFv70pV/jjSU9EN3fkzu16OXpXr0VeYlN4OZbPFuITXIgGkRQEy4sVlTzKF4cyneKqNEa1LgYPKghSCAinRVZIQioAYqDCIOxUttlNJILK1JYcC0GGBCaiAANGqKEAAhNYhGumlIsCQkWWHQvZtzeOjqWLfNeAz24CcG+uzJLlqemTQM9KthrGAJaMz7o0bdEzWS5Sjvupse8Hv1Zwv8707hj9Ga1DXqMhrK0JgGV3ZPN/ZhU2jfjb1jX13BOzmHxd2PdeIkKILcFZnxXOIUpnsYDld86dFligspgrkAoDZKTWA6J9o41//FS22bccB4FF+5QYQiJLGu1pMeLqAG5kj+mej9QJnifCg7I0960JsWXq26Ntnn4UrFZQpKL1NcmOH3ZKcu7okc6U1nv5j1j8bkOEna4OS2GY+jIoJGRQQptS5O9TM4GY4KVqLAb1loyrLQlIF1crmNMeEmuUESw0lBAGGQWLGc1IGWyE0PmR+UMN4n/Puic39VXOuu85FDJvlGPJM42ZmsJm5uYwKYid70yNOtP4/3uq9FWyY3NOtMSgBgkQUUlBHETBbr66I449p1tU2aomBmCrGMiIEJAHDcFMOdoDUptCalBy24UHbCmx5BRqwYe8wOjIvh+bx+bX+WqKafT9CFDOnxqNDoqBRSm0INAAevlzw4uV8NPEy4EUVILlyDxgHHcIyEkIhtE24kI501iuGiYFFQUrpn0Hif8Gn+0e7csX0NCSEl8DI21Xw13/8uP3qwZfkp0d7L7Se0JlWmcOocv1UAUK+p3N3wm0TfziSx5vrdGcdNA4A2XfPOhl/adM0oQproOXes50wAqFWX72r4RWGUY7gpmTdqccD9A3WCwwo+lfFqyoyHY8b+UnpxR3VeDyL3doJGIk/3j34oZmyCwNdxbTe3OxWKizJDMwCQELLM0ISDlaU8ka4KAZDpmwHAix5+TrRRqm8MZ48CAHN6ExNu0phkPKqvCTeQujzqACCMI9w0+e6jDSXfF50tkDT32Qn1LUN3PNa0SzV6w/nSGm8uq6TRXrJF12LCjbsbfmaSOAAwx8+K5YmTlCvzTrfu8aYHBjEjfehBx1v+ZpLYsdx0PsXztGg3n+IVwoqJ596iNd5WChYJQagomUYis8hULwbbh8HxZ/KiuV4xfJ9orheNdFud7CDnrpCnj7fs+qHiv/704Hl+a4KYEQBgwk1GzPBS7Bdyg+TjkmczhBO5FOGvVR+vCnosmpPcpmv+rvzNxyLf8qT5/lHzxYqgRwIZ4RqT6vPSlwKZ4cHMyNOivSMFU8Z6zjTiBpnBQfxAN67Fk856KXn6c4lTTzWX763Nv9Ra3d11Cg6Flu4ZNCcwbmZALHvwOZS4GSgiOGMMmI6C0gAgXbgUw00ZwmUAMNpzNVHBmx4BAJ60EGJqKpY7GcONKEIGgIneDwBAimAeAFyX7Jvh93SR7HibrsaHHmm1LwRgZkDMzICYPHHjnpobJ5rK6lXSnolNQtAwjjBFGJDqEZDqERjdvx7oQ3E8Jgb6aPSGlGA/Kpk0JirY8QEuIkd6NoYzIpE3GgCURtlZ0V6NSTnWc26rtq5d3yI1tCXzxvrSQ06LduEAmcLpTZoqc3kEO9GyqVTB+HTBFADYWf/TkoCHWWTu5tovojmpSbyxibxRXbtGcLsZJd246Q1G3HCp/fiBps3Px3zGIDHfyF/7buJvdBITAL4ofXm+/10ooDvqN7wY+zlRf3PtN8HMyDhu2odFT3MpAnM7c/3uTBdMLFFc31G/IZKdOFI4KYw1eP0ShgM4QJlMlN1eVyFvq1aK61VSuUGnNuo1Rj2KoEwyhUGi8qj0QBY/mC0IYwtTPQJjeN7DwW/IzUAhN7RWKa/wqD6hrAznj6pXSXPa60tlokpFW4tGKdIqFQatzmQ0YCYySqKRyDSUzCBTPOksbzrbi87xY3LDOMJwjmcoW0geNOmKh8R4lKq1RQ2t5o/9pmMdav5zpHCaB7Vjfk5qaKtSFUn0LWSE6s8IDWHG7mn4mUf1TBdM5lM8dzWs96IFmMuXBz1ubqdcmXdGtNeHHhTDGXG5/ciakOcA4M+az1YFP32i9W+Zvn2y91JP2i0LrENyUufVi4c3l+Q6X/+5EROeTHFnjR0AyAhlvOfsPOmlek1FFDsJAAjtCgAQQADHAQGrKwIkhPxa3Hcocsv9K4aT8mLs5wWyawea/uJRhHeFPN0Pp+AS9CbT9zcu7a0qalDKfFmcqYERz42YwKIMYbNuBCCa5xXNG0Rx49wMc7gUb2IqqxPD4XkxJMajXKM9WVSBYTiPSU8O6j/zAAHFu1XbQChYOZIzCqPUixaA4RggwCHzKSgVB1yP6WgoA0VIJtwIcLO8U1Mp/LHEDNYN2UWVUc4icxEEISHkGT6r1CblvsbfVgTd4mAxJBUsN4MctUnZqm0MYkaQEFK9prJFV+9PD7FaM4gZoce0xYrcWE5qm665THFjus9SIdXbk+Z7SvTPVO/FANCoqfGm+5MRSp260p8RksIf7UMP/Kbs9X49pd7x3yvHNxXnENvVcsmvhVcblPKfpi5xSePF9a31bbLpqQ6SVLhx48bNAOLH58xLjS1vaZeptdeqGibF2YvU40JGCCbuqP+hWlXEInP5FI92fZMe0yJwy9v7SOHUw81/UVFaEm+MSGczDn6u5FyjpjqIGTnGY/aexl/oKDOVP6FQfqVWXWrAdDGczmHD3AqWG9djwPT/NP7eqmtEABFQPe8IfNiT5mc1TAMVpa0Ne2lXw6/b69YzSIxlgQ950wIA4P6wF/5p+OPdwsdMuMmb7v9A2MuAQJb4RL4sC0XIdBL9jqCH+/20eojKoP+rywv04drSeqUskM3rffsnb1QwaUN4MsyNGzfDgYoW8c4r+cEefBRFBWx7mWddCxWl3Rn8jAk3ER5/CbxRJOQWzeeOoCcAYEngwziOowgad2u5mUh2ciT7ZqDvO4OfIeoDQDQnlYSQu7oodsMG61xj9V1HtnbnvJxllG/Q1tmrna8/HKZ83dw2FIlb5/zzW9fy/81cMcHfStDUaa+vP/DmWrXOMOW1H799ZMn4+NCVH//5zSOLzhdW/3b8qlZvoJLJ6+aMnj8yrlmi+O+WY9ermygklMekA8CuV+9FUaRWJH1/+4lakZSEIndNTls5IQUAfj9xTanV1bfJrpbVYzi+45V7+Cy6VYHza5o/3nkKw/DiepGAzVg7Y+SdE1O7tnkmv3L94cubnruTOOr97ScEbMajc8bk1zS/v/2EWKE2mLAZqVEvL58CAL0UyUm+uX7hs5yznQqPL3kwgufRg9YMmGnVob+utXZOPrMwPP7riQt6KKKbfsf9vHjoxM6jtWVdyzfNXDneP7Tfxek5xL205O7nhorL2tCQshMrIpOi+J5irVqs1Uh0xF+NWKuW6DRGzEEKybt2b7/cWG827tux/M5EL58D5aU/ZmcVtYn2rFgT7+nd1/Kv2b39tfGT+qGjTty1e/s9ySNmhlv3r+lTrjc0v3/4VKmojYySYn08f1y1iEXtp0mX/KaW5Rs2s2k0BEE4dOqKEUnrxmf2uLWlGzY/O2XshIhQ5w9BbFiS6kwmq+Vxgd5ljW3NEsWY2JDsioZRMUFKjc6bx06PDJySHMln0StbxPd8vmX+yDhfAef7R5e8selwpL/nvVM7wv1jOP78r/veWj0jPshHrtau+PjP+GCfpBBfANh2Nm/9E8s+uGeOVKWxo8p8vPPUgzMyJyaG779avO9K4Z0TU622OSEh/LPdZwrrWuKDfPRG0+Hs0i0vrgGA309cWzQqYeWEFL3R1CpTukSkAeHNS8e6alfJnr4fj5szIPK46Rm9eV7cHqyJSU328JXoNEdqy+qVsulBkVF8TwGNEcnvyYvHAHK2sXqgRegeQ1LBSvXyT/Xyt7qrXatO3/KN/cM/mTZ7ccwtGYLnRkbPjYwe//vPPRapQNRaK5fNiXDKDubPxXf0uKOhwo6KfJlOCwAUlHR37Ignt+99acbEOfHRSp3uekOzq7SrwubWOolsVpyDr92bwz7zzEMAUN0uWfnblvTggJHB/ZeVJZjDJyGIqctUcZzAuoadHOpXVNda0dy+ZlLar0ezShva4oK8AaC6Rfz7yWs4hiMIotDoTBhGsubE1CiWlzW2Pb3+H3NJTauE0GYyo4NiArwAgM9i2BFYqzdSKWQAoJJJJhNup827JqdtPXv97dUzT+aVJ4b4+Ak4ALBkdOK7244X1bcuzIxPiwhwiUj9z58lOZtLczsVejFY66cupQ+Rt2dbdBqbt70MvXxe3AZMDgifHBAOAE0qRb1S9mDCyNG+/RclwYWcaawaaBG6x9C+U3SFPUCeWUeryoe0U5hrURn0L50/SLwdMsmUO6NTRErVhIhQFEG4dHq3pn/sc7ykgtkdXS3UQxDj41UnkfZYweqBWzOTTFkTM+KP4mzLwmURiQFsrtX6SaG+p25UFNeLnlsy8fsDF/JrmpND/aQqzfO/7d/64powH6FYoZ7y2k+2usNxnExCD7/9INolUz2L7tR39dySiS//fjDKz1NnNL68bIqdNheOit9wNEuu1u6+XHDHuA7rhLFxIbtfu/fUjYqv95734bM/um9u70XqZ6621r95+VinQiqJtH7qUl8mZ0BEchWdxuaAKFiDQQaCgXpeDEJ2VRQ8e3bfrnl3K/S6b/IuFIpbMRyPE3g/kTJmamAEUUdrMqZv+YZGImWteKJTiIrtZTdeOH/gwYSRr4+cai5sUim+un7+VH1lu1btxWDNCo56KnWcgHbLq9TxuooHjv/9x4wVGT6Bn2afOVBdQlReGpHwfFpHmt29VUV/luQWilvkeh0AxPzvM/PhTySPMVdzbacu4XZTsFxIjUz6xunj1VIJCUXXpqTdnZQKACq9/uOLZ0/UVOpNJg6VtmP5nWqD4ZUTR7KbmygkdEvhDQA4svo+EoL8nHNVodfVymSXG+owwA/dea+AzjhRXfll1oWS9rY/F9+R4dfxjO/aJo9mfa3Eas0brS1vnz3RoFDwaLQXx0yYGhoOAFYLzVxuqH/t1NGvZ82L9/S2eppWhXf+q7vQXGs5905G0anR4c/u3P/S9InR3h1h9H+5eK1OIj1fWTslOlyt158qq/psyZxRoUF/5+T/fPGq1mCgkshPTBy9KDmOqKzU6eoksqyaegzH9627R2MwvLHvWG59E4WEbs+5AQD7H72XZDesC4bjRc2ttWLp6NBgAOjakVyrW/zzprtHpm7LyZdrtMtHJD47ZRwA5NQ3/Wf/MZVePyYsuGeRY14fOVVIZ/5TVdikUgSwuCujk++PsxmqJznUb/3hy3QqmUIixQf7HM4ueWrBeJVWDwBeXBYAbDuXZ1mfzaA1tsvMHwM8eMFe/N+OX3lgRiYAlDSIwnyEVDLJeWkrm8WzRkS/tGyK+VxttUmjkBeMjP/rTG55Y/ukxI5rrKC2JSbAa+aI6Ahfj7s/3+ISkfqTJpVi3cndXRePPhgze4SNiZAhRKexOWxlcGOVnwuyDtWUZngHLI9MrFXITtVXPHDs702zVo3zCwEAOok8OyR6R3n++abqSQG3PFP+qSoCgMXhCeaScln7ioObpTrNeP/QIDa/WNL6W9G1Uw2VO+fd3UndAYAGlfzzw1ukOs2UwHAMx6+2NmgsEgHxaYxJAWGTAsJ+Lrgi1qqfGzHBrN6lewdatuPCTl1CbxUsbwab3evlngCW9Vf5PuKF44deOnEYAMgoWvDIU1brYDj+2MG9H06dmeTtI9Np5235X5K3T6qP37vnTyv1uiOr72OQKY0KOY9G59HoGxcue/7YoRgPz4dG3PLU3HTj+qbFy7+cOVei1RAKytTQ8Kmh4bM2b7Ss1rVNW5J3rak2GB7cv+vTabMnBIfWyKR37NiydelKHxa7a2EYX0CcMqHk/W/Rcj82x9ZpWhXeec53WSn/fOncH89l3f3H9hgfrxemTUjy9wEAsVqzd93dYz778Yul80YE+v+TXzwqNGhkSOD02Eg+g17RJl712xZCwQKAv67l/bZm2adL5kjUGj6DzmfQN6xe8vI/h6O8PB8Yk25fnlaFMuPj7zEcx3DslZmT/XkcALDaUYNUrjEYDz56r0ipmv39xsXJ8cFC/v/tPPDi9Alz4qNz6ptWb+yJnweVRHomddwzqeOcqcyiU+Vq7dSUSABICw/YfbEgLsibRiGvnJCy9IM/WDTqwlEJQZ58c/0V45Nf2nhg1psbeEz6tpfuQhHkq4cXfbLz9Kw3NxhNWKiP4NtHFgN0T5vZc7ng+PVyDMcDPXifP7jAg8O01eaqiSlL3/9j+bhk83rlrkv5J66Xk0koi0b9z53TAcAlIvUPOpNx3cldbZrOHq8PJoxcFplo9ZChRdexOTxlcGOVA9Ul/8mctja+40H2v+KcNy4dWZ+fRShYALA4PGFHef4/VUWWCpZYq7nYXBPB80j08DEXPnNmr0Sr/n3GiokBHa48X+Sc++r6+Q+vnvqoixXjp9lnZgZHvTtmlvklWWO8mZZ7gn/oBP9QANhefkOsVT+cmGnLyN2FnbqE3ipYr2RMXhKR4LjeYKKrDVZX6hXy4nbRw/t3m0uqpJJUH78T1RUbFywjskT7cxzohWMDgwlLdvsKivNtdq2Z19rModImBIcCQAiPPy4o+HRNVaynV9dCQsG6WF+7o7jwxF1r+XS6ndN0XnirdDVFpJHJT08eu2585rac/Lv/2L5/3T0AEOEppJPJnixWgp93cYtIodUBQGW7+NeL13AcRxBErr1paTQ6NCjO1wsABMxuy2O2wWpTqh76azcZRZelJnTtiKh8d2YqAHixWSFCfrNcQUIRiVo9Jz4aAEYE+gUL+d3tvQfseOUeYmNuRuzcjI6Y9c8tnvjc4o7p6/un31Tlw3yE2166JcFWoAfvq4cWdmrTbAVvn2sVDfuvFJ358FEKiQQA7207se9K0b1T0622CQAMKkVrMC4Zc/Mm8PqKaa+vmNapWm9E6k9evXj4eltTp8KJAWGvZEwZEHlczmAwEx4MMrixShhXcH/8zXvLqujkNy8fzW+/mbdxrF+IF4N1pLZMbzJRSR3vSAeqi40Ytjg83lwtq6Uuv71ldki0WdEBgHVJo37Kv7ynsvDdMTMp6C3vVxiOvz5yquUSBPGY6xa977RAXhHBDhBQXWYG4F4itA6O42QUPXffw51WnTAcd36NyMm5Pefb7FoTAaRrmA2rhQTNKmWGX8Cnl869O3k62D5NcFr4rjSpFBWydqu7aGTy3SNTDxeW5je1AADl3/Fpnu+VqDVP/71/90Nrwj2F7Sr12M9vWhqxXBHqyZPNGh8Rkl3fODU63FZHHJo5LZeVr/G2T/YiUaipZBJxmkqNrrRRNDIq0FZlHIffT1wbGxtiOaM2dPm18OqO8vxOhWFc4beTFtlffR4q2Bmbw0oGN7YY7RtseaFTUBKfxlAa9OYSEoIsCIv7tfDqqYbKmcEd3kXE+uAiCwXrYnMtAGT6BFk2ziBTAti8Cll7lVwSzfe03JXi6dd7I+bed7qn4dzDEQtdqGANllRKg40gLi+UL/gpO4v4WNQm0ptMADA5JOzHa1d0JiMANKuU+n897Tk0Wr1cZqs1+9hq05maSd4+ar3+dG01ANTIpOfqaiYEh1otJFpYEBX7zex5peL2765etnOaveFcl9dTmUabU99IWF0UNLWUt4ljfayndFDp9QiAF4cFAH9dy7NaxxIOjdYg7cbX3qZUnSqrSvD1dr6jAB6Xz2AcLCwlhK9plzjf3VBkSnJEqI9w8Xu/L3nv97u/2Do+PnTmiGirNQ9eK5n6+k/ni6pfuWOq1QpDi4vNte9fPdmpkEOl/TJtGZd6m6Sm7jo2h6cMbmzhQe8c/xNFkE4ZYwhDK0KpAoAWtfJqa32aV0Awh2+u06RSAMB/s46HbvzI8h+hWyv0uk69+Nvw+OkWvem0UdP2Vv6vudKyD4r+90zO1weaLhLlWeKix659/sjVT94r/ENp1ADA8ZarHxb9SexVGjV3XHhDj9m03BqOM1hmGyz4Nw7W44f21sikLSrl44f2eTKY70yeFuvh9fO8xe+cPTl243ojhkUIhL/MX0Ilkf4zYcp7505P3fSbCcP4dPqWJSuJadK7ElOePLxv7Mb1Ajpj/6q7bXX9/LFDJe1t1TLp88cOeTFZr42flOrjZ6vNrnStyafTN8xf8taZEy+fOMKlUt+bPCNCIAQAq4UENBJ5w7zFK3Zu8WWzl8UmWD3N3ny9Z5uqO5Vojcb3D5+uapcgCOLP47wzb3qIjYW2QD5vdUbK/B//YFGpS1MSggXWq5m5Mz352Z0HJn+1gc+k737oLlvVCBssHHA6mTw/MXZlejIJQZzsiISiny+d+5/9xz49fm5sePCkKCuhQW8nSCj6n1XTnak5Jz1mTnpMX8vTPzQo5Y+f6mzYjiLIt5MWhvOEto4acnQdm8NTBje2cCZ9dbKnbzhPeLyuXG00MMmUfVVFGI4vjoi3rEMEMJ8eFBnGtTJ8fJjszv0iLpjr6U2n/gzPtxLXPnL1k1fi7g5idgTQkeqVX5Vu/ybtWSGVs7P+9PqKf/4vZuVEr9Rfqw6ojVommX5WdH2MRyIVtalHDTsFa5O1GFTfzbYSlzmYy/t53uJOhRwq7cOpM7tWjhAID6y6x7Kkk8E7wafTZ3cttNWmkzUTvLy3L1vlTKH53Lk02qE77yW2rZ6mVeGdAbdmwerDYW9/4M5OhWbL9KNP3A8AEyJCifANL82Y+NKMDkujB8dmdKrciXBP4Z6HbepVBIl+PsVvPNu1vGtHXDqtxKLmzgc7sgukBfnvW3dP1xbc3B5ojIaHTuwQazWdyl/JmNzJVWpIY3VsDkMZ3PSeReHxX+ScO1FXPj8s7kBNCRlF54fGWlYgopmM9QtZG9/DR0kPcHmnRfLqaE6QkMoBgGk+6euufgoAFJQ8ySv1lChnrt+Yk605d4fYe3a7lwjduJIicWu7Vj3QUrhx0w1eOH+wUNzaqXBZROJDCT2P+D8IGQxjczDI4Kb3EKuEB2pK2rXqHFHjBP8w4a1ri6P9ggHgYlONa/slYvwaMOt2LC7v1DIJh2Wg6Pn+Y480XxHrFS1acSLf3jvYsJvB6lPaterTDVVZLXXl0vY6pVSh12lNRhqJzKXSAli8aIFnhnfA1MAIYZd1bpejN5mutNbnihoLxC0NSnmTSqEy6rVGAwlFmWQKg0z1YjCD2PwgNi9G4JXmHRBisXzeY9RGw95/F+YHJxKd5nhd+aXmulKpqFGlUOp1Rhxjkil8GiOEw4/geaR5+Wf6Bg31YJJdGZDrYUjww41L+7pctKle/h+MtTLZ3EsG8P4wGMbmYJBhUDF4nhfdJYTDT/XyP91QdaS2DMNxS/9BgjG+wSmefkfryndVFFjGGVAZ9LUKaZywh2niQjiCQnHr5eb6aUERXff2vlMWiS7VK8xLhPHc0O/Kdon1ciGVe6L1WpqgwyLCn+HJINF21p+e4p3WNcGzJW4FyzVktdT/lH/pdENV1wB6GqNBYzS0qJXZooYtpddJCDIpIPyRxFGjfIOsNtV7Sf5XnH2ivkJl4fphxmQy6U0mqU7bpJLntd10vvWgMycFhM0OiZkYEOZ8JpBGlbxQ3Fokbi2StBaJW6vlkq5ud2qjIXTjR87Lf09s2n9Hz3C+PnRJ5jrWL2TzrM7Lo9VyyTd5F/ZUFnb9geR6nVyvq1VIzzZWbyy6BgDJnr73x2V0K/4IERrY+foZ3oF/z13jfP0e05/Xw5DjTEPVJ9lnOhX6Mjnrp/bWErET/X9/GAxjczDIMDjp5+vhVENlfnuLWKu+0d4MABsKrpxuqBLSGQvC4nr8Mrk4PP6ty8d+yr/MJFNmBFtJVvbNpIV3Hv7r2bP7fi/OjhN4GXGsUSm/1towLyz2s/HzetbpmpjUgzUlT57eMzc0lkOhyvTamcHRs0NueuH0stMVwVM/L93KJjMXBYyf7pPBpbCejVnxxo0NJhzzY3g8E73CXHO+/9gPijb9kP6c/QZv21tnv9GkUrx28fCJ+gon65tw/ER9xYn6ihnBUe+MnuHCyZIcUeM7WSeyRZ3T0zpDu1a9s6JgZ0XBkoiELybMt1PTiGHvXTlRKGktErfKu/hlDAaaVPJOJRuLrn149ZTW6Si9eW3N9coe+oQOHvrnehi6VMslT57+B7s1RySNRF4/dak3o7M9bI/pz/vDYBibg0GGwcyAPC/+LMk9Wltm/nisrvxYXTkAxAm8e/wAWhAW9+6VE9VyyaLweKa1mFXBHP7+BfevL7h8uKZsZ0UBBSX5MNlLIxJXRif3rEcAGO8f+uOUJd/fuHiwpsSEYX4s7szgW3yce9npaI+E0R63vFenCaLT0v+va006iRrG8jXPddnCrWD1ilMNlU+e/qer/6czHK0tu9ba8N3kRWN6nXfTgJk+unb6l4IrtsJfOc+yCAfhqnUm429F13rdTx/SqFKYtzEcf+3i4b9Kr3e3kWlBkS4Vql/pz+thiKIy6B8+sVOm13Yq/2jcnGRPX1f10s/3h8EwNgeDDIOWgXpe/Dx1qcM6SyISrM7ZX135hNX6HnRm+T0v2G+TT6O/mDbpxbRJdupMC4qovu8lh+KZmR1yy5RV/3Talf2NF+f7O87M4TZy7zl/l9944NjfPRstBGKt+t6j24iXiR4j1+tWH96ywRVP0yA2b5x/aK+bGWB0JqPZI+yFcwd6oF35sTjxPbUSGHDc14NDcID/O7u/VNrWqfzRpNFdrUl6zCC5P7gZJLivh9uDo81XHrzyEQUlzfQZ6bCyewarhxyoLnnx/MFO6wsEQjoz0ycwmu/JpzEYZIpMrxVr1TmixlxRU1f3B73J9PipPVtm39mzPLJKg27loc1FXXygLCGjqD+LK6Ax+DQGGUUUep1Io65VSExdhF8ZnXI7xKsGaFLLhXTGl7nnd1R0DswNAIFsngedyacxSAgi1+tqFBLRrbnnpgRasaC0T4KH93tjZoq1GrFWLdZpxFqNRKcWazUSncbl+a3s4L4enOHr6+cP15Z2KpwaGPFC2kRXdTFI7g9uBgnu6+G2YYbvyBm+jlUrAreC1RNKJKLnz+3vOloyfQIfTx5jK3aOQq/7tejqhoIrnV5idCbjY6d2H170QHcDRmM4/ujJPbaeplwq7Y6o5An+oZk+QV3XyPUmU5ms7XJz3bnG6ovNtRqjgYQgd0QmOeyUSaFesTFpDADf5l34vSjbsoRBppxZ9ogTZ/Nv+91PQdWVRpVCrNV8lXvOsnB6UOSi8PixfiFdoxWLtZpLzbWnGiqP1JZKddppgd1eH/RlctbEjLC6S2cy3nd0O5HGoU8ZkOthyHG0rvzLnHOdCiN5Hl9PWuCqPEgDdX8YDGNzMMgw2BjY58U3JSsfjPyZQboZtXx9+f2rQj7iUpyapNeZVF+VLH8x/qDVvVtrXp7i87A3feDDxQ1OOd0KFuypy14UlHakKV9p0Mby/EJYnnvrcz3p7Om+1p3IjBj29Jm96lunJUgI8kL6pHWJo+x0xKHSnk4ZtzAsfu2x7VXyWzKuNKkU71050TXdt33WF2SdbazqWk4lkR5OyHw4cZSdEUglkRKEPglCn7XxGWqj4WhtWY1C2jXWbVcQAC8Gy9ZeJrlzPin79fuIvLambWV55vtZmlfAf0fPsMz03gkhnTE3NGZuaMy7o2cerSsb69dbqzhLaCQyxaUuabYYkOthaFEha3/2zL5ODzoelb5h2jI2xTX5cAbw/jAYxuZgkGFQMeDPCz7VV6ZvYTBuKlhqo4xN9ujOSdhkZciHLmmnrxkoOYe7DZZIq7jUVtGmUzSoJZN8Yi+1VWytubwwcIQt7QoANhZdK5aIOhW+N2aW/dFiJowr2DzrTh6V3ql8e/mNrkYhdmhQyj/POdu1nE+j/zlz1fNpE52fD2OSKYvC459KGet874Ocb65faFErie2lEQlbZt9pR7uyhEoizQuN7UEi9wHHfT04RGsyrju5W2m4ZT6AhCDfTV4UyhW4qpdBcn9wM0gY8OuBR/GVGVrMH3UmFZ3EQZH+eOVzM9xnsE62FAWxhCeai5RG7aW2CiGV3aZTdH3NMqM2Gr6/cbFT4R1RSauiU5zv1I/F+c+oac+d3W9ZiOH4LwVXnJ/E+iL3XNfEzCwK9e+5d0XyXPN2chswKzj689s0ykAn3NeDQ/6bdbysyzPp9cxp411nyD947g9uBgOD4XrgU/1khhYdpvqmZOUdwe+yyR7E4mCe9HBW23YDriMhlHFeaxJ40wCgSVNytPk7tVGG4cZo7vjpvo8CAIqQs9p35EkO6TBVEn/WRO97AaBCcfl8258ibfXKkA8CmQkAoDOpNlY+niZcmCc9pDUpzTWbNCXHm3/CAWvVVjBIvNGeK9KEC7vKmdW+Q6pvqlZlR7JH6TFtpTJrfsCLwawUq3LqMc2Z1t8qFFkm3EAjsdaEfo4A0ks5JfrGo83fSXSNKELK8Fg8QuCCB0dvFaxnz+579uy+3rTwxYT53Yro6FpURt1j0dN+qzhrwnGVUac26uJ4/puqLoSyPcd7WfEF3V52o1POMhqJ/PyIbtvGLgqL//jaafMsC8E/VUVvj57hTFzHNo1qd2VB1/K3Mqe7n6ZmAtjcT8bPHWgp+gP39eCQw7WlltFoCaYFRdwfZz3NZc8YJPcHN4OEwXA98Km+Im11rSovmJlSpbwWxs7gUbwBIIiZFBU2hkHituvqNlU/SyguWe07kvgzRwjmm3CDwtBOtIDhRhOufzDyZ6VRvKH8oUT+NCE1MIIzKoIz6teKdZZ9yQwtRlz3QMR6y5rHm38a47kygjOqUHayQHbcqnZFoDbJ1kb8+G3JqgWBLwcw4wplJ4NZKVblPNmyXmdSr434iYLS5IZWOomtM6l6I6eAGrCn/r3Z/s/40qO0JuXGysd96VF+jN4msx/uY/X+iAnmv2bGeEbaMnfdXp7XqWRJREIPTFXIKLo4POGn/MuWhRqj4Vxj9XQnIjD9XZHfNQTwBP/QO6JuQ6vkHvNMyvju+g0MUdzXg32aVIqXzluxfr3SUt+qUbowrOgguT+4GSQMhuuBR/GtVuZUK7NHeiw5J/qfFz2UmMES6+quiHfiOAaA6EwqDDehCCmZP+tI07ctmvJE/vRA5s0YeIRWxCYLBVR/haFNSA201V3XmkZcR0apAEBCKBhuPY0ggSctmIxQmWS+Dz1SpK3UYSpbclYospYHv0NBaQBgaa3fYzlRIIu0VTtr3zZXEOvr3QpWn2BLu6pRSPPbWzoVzrSWJcAZrPrZXm6uc+YGeqims5M5ADyQ4Kzv6HDAg85c5LqYRoMc9/VgBwzHnzm7V6rrHFMUAOR63WsXjzgThtEZBs/9wc1gYJBcD3yqr8ookRlapvo+QhPvatVWCqlBGpN8T/3794Z/60ELUhul35beSVQOY6c/GLm+XHHpTOtGDtlzQeDLRDkN7XBEQAABsBdir2vNKT4P7W34yIsWasT1xJqjLUgI2XIDB7AlJw641SSAvZATRxHyo9F/IC41TB/uRu7d4mxDZxctMoqO9QvpWWtWza7z25u7FnZCqtPmtTV1Kgxgcyf6h/VMktuSuaExrk0nN2hxXw/2+S7v4uXmOlt7j9aWuSoD8SC5P7gZJAyS64FL8ZYbREwSj4SQw1kZJfJzPIq3HlMDAJsiBIAcyU3rrmZNGQJIDHfCTL8nK5RZPRO1E+262ljuxJUh768J/cyH3r3XA1tyhrEzLrdvN+J6AFAa2014b2MN8qi+AmrA5bbtxMdWbWXv2wT3DFa3yGqt71QSzOH32CRCQGN0LaxVSh0eeL2tsWtIlZlBUa6K4nN7kO5tc3L4NsN9Pdhnd2Wh/QpvXj46zi9E2CU6WncZJPcHN4OEQXI9IIAiCASzUgAgjJ1xomU9l+rNo/iOEC74tWIdFWUk8mfwqX5E5Tzp4TLFBRQhUVHGLP+n7TR7oPEzkbZaom880PgZiyyY6vOwnfW4fOnRUvl5HDA+1W9x4OsssrNOu7bknOb7yMnmDRvKH8JwE4PEuTP0Y1szT07KiQCyNOjNEy0//VB2D4YbPWhBy4LeJiG9dSfvrYLlzWCzqTZ97pyBM3SsZLqGcAznCnvcGotCJaNoJ9OZTmaMVim0Fkky2dOvx5LclqQNm0jH7uvBeWYER1FQ9EB1iWWhWKt58/KxbybZtL11kkFyf3AzSBg818PDkb8RGx60IHMozik+D07xeZDYHuVxB7Ex0++JmX63xImlkViW0TvvCf+a2Jjr/1zXjrrW/P/2zjysqStt4OdmJZCQEMiG7PsmiyCoIBVF3HGtWq221Y7tdMYu02ntMu3MdDrTsbWr/Wprte6KtWO1igvUVkGUVXZkEVDWJEDIQvbk5vvjYhqTgAkEuNj7e3z6JKfn3vMC7zn3vee8S7uiplbyy/bQ75FTv9zuL2slvyS6r7a81ti4Leg7AIA/NcGfmjCUnGScy0IL+280cgIAGCTuKu+/W3YeDaM1sN5MmDOBMYDjCWwwtEpFZo0/t9/xO7jTgaPoYFij1w9/tmWWdA7BgRVqHw1GXCV+0oHpgy1AAGyPmfVK3Ox+lbKQ32YW23Wu9Xamf/j8kfrHADStDxhoANMHBKVOTICIiL+UGpYL1a3eLtETLdT4gR0R2kqfSmEZqDUWqPW64SeM5VsLBIDfKN6NHj3IeAKaFx3HgunDQ3EmEHelLFnsFwoAYDpR3k1MfznvnFmft2/mJHF9Rhx2ip71AQMNYPqAEESb2Sov29+8DQfhAYAi6Glhrg6r+Il+MAPLVnofrAc8dgwX+QAAAKBPZS6JM5GExxxuTPidZGdAwPRheLyo9H3zVoe5sYwtKwIizrbU/drRbNpNqBz4V8mVj5JHmDgNPesDBhrA9AEBB+EX8Ibz5Xq0waIIbcWsmNQEotLpzFpooyujVniv3QDA9dZ7AIDKrsGwlE6J1LTP+doGK1eiFTz0O1Js2/Whsou/5khW9Kdfxn++Z+OJU3KNZuylG0SqVgft/HSo/7sp64fbQvNyIo5i79xVptYVwn9mZrgQzZ1HTzVVWy3maAvoWR8w0ACmD48ey84f8ju0U66zY9nEdrBsRQMPlyFtPLGUxPJRYRe1fGGHWJoa6CuQDdR0C2I8uTV8wdHSyi1J8SQ8Pr/lbtwUXquo/2R5dTDL3YlIKO/oDuewuiQyuUYTzHKf5vV7cSdHJ7brwwtnzr2Zlro4LESmVld28V1GF55ipE4gbBNLFoaO3IHpyPo1YzcQ2doBCs/FdUf8Y+8W5pq17yi4lLti6wgmFHrWBww0MP76UCcSLj53wPiVjCdwnakzub7PRSX6P1oOAztuXDzZ9FsGVyIO70amhLmxlgdErAqMQtXWPWZg2YrVM5f53kELfK1U1BkNFMJD/iiWkqj0o3pbgg2Glj7RwrBgKpmk1esBAOFsVhjbI4TlvvdmybaZ0wEAeS1318VNPVh8q1euCGa5V3cL5BrNC8lJB4tvYQbWxGKjPuhguGdAnhrgh4MgupNTaoCfowT4uanZ2UG22ngOtCls2rnW2yWCB2Lpu+TS/5Zd/deMDHvvhp71AQMNTJQ+cJypKTw/AECPUl4rEmQ1VZ5pqT2asS7hkUtbk8zzRSKZlDptx4Akr6s1r6u1vKfrffsn79iBzVVbIVvLX+JFpa8JGu9qJJaSyDTq0dwQB0HbZ884UlqRHhJ4W9BTyxdGctm9ckVLnyjAnXmgqCzee4ozcTAjSBibJVWrpnl5lrV3jmZQDEdhoz4QcLh5QQEvnc1+Iy01lOWBNM78cu/V57fINdqk3V/ve3zlYwF+mQePfbt6uUqn+3vuL3dFYgIOemb6tI1xMQCAU1U1e4tKlVotCU94MWXGisjwbqns7cs/l3d2E/G47yurAQAXn30KD0GV3fx/5PzSp1DoYHhhaPC76WmIAPuKy76vrJaq1Y9HR72amgwA+KW5Zff1woae3sPrVyd4TUGk2ldcNqBWt4klRe0dBoPhwpbNSq3W6kCj+b1BAOyctWjhT9+ZFck+Wl++zD88keNt193Gf33QwzAe9zs6Cp9cTNTzIpTB+jhlCfJZpde9U5hz6k713wpzLmVuGdNxx58tEdPneQUav5YKO564nHW8seIvsSmjz2nnKDADy1boJCfLRpFaadk41rhaSDKgHZUzzdakeAAAslO1c9kCpPEvc5JxEBTgztQbDHgIivbkAgCeTpwGAEBapvI4xhaMCcR2ffgsc/Gem8UbT5wKY7FenzM7mseJ5LLre3q7pbIUf9+S9s5Zvt4ytZpFdVl+8NgHi+ZHcTkSlSrzwLEoDifGk5vo7TU/OIhBcWruEz1+JGtFZDjPlfbd4ytfz74cwvJ4NvG3qsn7isvWREdujIvR6PUC2WCQow6G1Tpdzh+eFg7IM/YdXBkVEcB0mxsYMDcwYNH+w2aiHiuvOrx+9SfLFvUrlQyKE4PiZHWgURJAZ74Uk/zRrTzTRgMArxdcvLR8i105Ie1dH660NmthOM3Pv1+pojuR5RotnUzukEmZFIpWD/erlBK1KprNFSmVXCoVAHCoshwGhhWh4XrY4EahdEgllQL+/IBAjV5PxhPUep1Sq0N6YqABNDwvnPCE95Lmn79bX9/fI1AMmNZArO7j7666USroGNBpfKiMlYGRf4hIRKIRDQBEHf80keN9YN7gwf2K7CMVvV3vz8h4MjQOANCvVsZlffFcVNKb8XOQDt0K2ecVBVc7W/pUChbFZYFP8IsxyWaZUa90NG+98sPh+WsT2F67buVduNeAdF4VGDmC6teWJLC9Ipmcit6uTrnUaGC1ycSnm2t+7Wxpl4llWg2L4jLb0++V2BTTJD4/ttS+kn/+x8WbZFr17sobdSIhDAzhbuw/R8+ca2LAWaW+v2fdpeM6A3w8Y32MtdSDmIFlKzwXK3mV+lSK8ZeEayEJbDB0y6U8F1cHjmLMA265T4BFqKEK2/WBTCC8PHvWH2cmnqys2Xji1MWtm2M9ebV8YVNv39MJ074uLK7v6Y3ksDsl0oae3udO/2S8sLW/P8aT2ywS7S8ugw0GCEBStXqYHZS10VHvXL5Swxeumhox/f6+FABgc3wsAIBNdfFlMPgyWQBzyITOM329w9ksAIAbxUoCawfyXFTS+bv1Zjkh70r7P76V//b0NNvvY+/64EahtEkk394q7ZBK10RE/tRQH8PhitWqRE+vU3U1GYFBEID23irpkEr/NnsOlURS6LSwwXBXLP6xvi6SxZ7K5ih12nONDSQ8nuXsXNjZwaPSVoSGG3eaMSYWlDwvKASin6vbbZGwRyk3Glg5bU0vXDtDwuHneQcxyZTKXv5Ht/KudbYcmb+OjCdAAES4sRvFg0EnWlhf1y/AQVBlbzdiYDX09wAAIpmDJZbvSPrWXjouVitTeH7eNEZ9v/DA7bKrnS2nF2+yzD7fOSD9pDxLrFameQXABkOpsFNpEaMzYkRqBR6CvKh0Y8u+upLD9bcimOzUKf7OBFKhoO1kU1Uhvy1n+VazLcZva4svtTUmsKesCYpqG5Bc7WjeeuWHoxnrk4cubdQq7X8y96QG1h9KX2vVugKYgWU7ZDyB50LrlstMG60m0R5rvKhWDKmqPr5jDSyMyYK9+kAmEDbHx15saKzhC2I9uT83NdcJet6am/pZ/o2qbn6cJ88ADAQcLu+Pz5pa0v1K5fYz2T89vTHQndmnUCTt/mYYkWb7++b84akrTc0fXyvg0qifZQ7mPqCRB8MbIQiyqO7zAI5ywH8oBBzuw+RFK84f1j8o0P66kiV+obE21wOwd32AYUOPQs6kOIe6e9QIBU5EAh6HI+LwZd2dTkSCL51xo72NR6WFunsgNhNsMNBIpBsdbU5EAgmPb5dKCBAOB0FKrbaws0MHwxK1ioidGKIG9DwvkDLnxoopIpXi1YJsKpH04+JNRuf3Tyuuf15ZsKs8/+2ENABApDunVNgh12lcCKQ6kVCj18/zCqzqHQwwrx80sAZrI76cf65fpTg0f62x+Clyt/+WXd05a5GZMLvK8zJ8gt+fscC4tihHHW6p0eu7FNLv6krbZOKXHtw52x496+mw+AD64I+pg+EnLp8oEXb83H5niV+Y6U0u3Gt4N3HelvAE5OuRhvJ3CnP21hYPZWB1y6Ubc7KkGtV389Ykcob0b8MMLDuIYnLMJoxIpbgnE/vSGOMpRoQb27Kxupe/wMfB7pMYkwIb9UGsUrX0iaJ5XAIOV8MX3OkVhbFZHs7O/1dQRCESiHj8VB7n/O2Gv6ameNHpfkzGt0Ulz89IBADcFvYEujPlGg0EAJvqAgA4Vl5lemcamdwhkTwwOl8QzmYtCgsJ8nBfcyTLUT+p5UAOYao799nIxG9qikwbYYPhtYKLFzKfJuJszeJo1/qQ4Dkl3nMKBABsMEAQBAFwur4OgsDy4HBk0+7xiCgcBMEGA7KX/KeEJACAAQDkuYQc0xtFPd/UsDQ4FKs+iSrQ8Lyo7uPz5VIWxcXn/qA/NNfINOq/xM42DS3cHjPrRGPl0Ybyl2OTXQikSCbHAMAdcV+MB6+8p8uVRJ7vE/z2zcsKndaZQGwQ91AIROTyYkF7TZ9goW+IaWn556OSvqkpOttS9/6MDLPpAxsMf0uYa/rmRiGMcM9165UfTL8mcrwOpj8+Z0qAaSOL4sKiuBi/EnC4VYFRJcKOFosk+/6ubs/ct64AAOuDo/9elGu1ljYJh+9TKTbknBQqB75JW4WEFAwF9sZjB9PYUywbi/ht4yyG1TJzv3a0jLMYGCjBRn1Qa3X/vnJt+hdfx3++582Luf9emO7nxqCSSRK1Ks6TBwBI8JpS0cWP4rJxEPTNquXlnfzZe/bN/HLv+1eu6mHYi07fOC1m0f7DC/YdciIQfBgM4503xEWXdXTN3rNv2YGjSMupqpqUr75N+erbP585/++F6cMI/3r25eUHj93rF7+enbPu2EljGjarWA7kKF6JS/FzNT+vbBL3flF5w/ab2Ls+IA8ZHDT4tFkVFrFpaqzxSBSxlsxsJuMX00cUDoIyQ8Iw6wptTODzwgBAv1p56V7jC1fPGADYHj3LqBzFgnYAgNnGDAHCJXG9lTptRU83uL871SjuBQBU9HaFu7GjmFy9wVArEgAA6vt7wt3YiL7d5LcBABLZD0SEUAjEKVS6Sq+zrOIV48EbZVIhI8k839WBUasDo5b5h8exPEsEHTtvXSsTPiT0iu1MBQCo9ebnkjO4Pqbzh4jDM8gUS2dWEh6vheHNud+3yfq/SM2c9zAnLWwHyw7megXuLLtm1niyqWpt8LgWV/KhMXxpjHsysWljrUhQ1cvHKtD9DrFRHzg06v82P2F5+YUtm5EPmRFhmRGD2+beDPo3q82LH7+Zlvpm2qA76rak3972At2Z55550rTnexnz3suYZ9riSibf2fGK8euZpzYgHz5cssBSpKHc2C0HchROeMJ/Zy184tIJs3PLPdWFi3xDI5hW9ggtQcn6gIESJkQf8rpa/Q79Vu6QAOFeikneHPZbKBJSWYvtbB4PwaZQAQB8hQwAEMLwIOLwgwZWT/dcr8BQNw8iDl/dy09gezX29666X4AY2aJ7r+TKeyVXLIWxDGf2dJwfi1kUYZ1IuO7y8Q05WbnLtxq36/QGQ/bd2zltTY3iXpFaqdBqVBamFYK7ReAhDoIMFnnyXQikl/LO1YoEEUx2hg2lSzEDyw5C3VhBdPc7kj7TxjJhZ31/j2Wq6DEl3Sd4f22JWeOh+jJjgO5EYfl2otRpjcccGGMEavVhEjGD67M+JOZEY6Vpow6GX7t+4ezSzQQb3JvQsz5YBQ1zEw0yjBsTog9IHiwIgqhEUoArc753kJkv5lC/aFNjgoDDhTA8WiR9Eo3qrqw/2oNHxOEjmOyqvu6uAalcp4l055hele4dZDWXKcfCjLNlHo2MCCZ7U2jcV9WF/2uueSU2BQCghfWbcr8v5LcFMzzSvYK8aXRXklOtSLCnutDycoJtxT/61cob/HszuD6F/LYPSq++M33u8P2xI0L72BAaa9n4bmEuPLzLrqNZZ+0d6PSdmoLue+MphiWWwckGAIRK82rEGI4FtfowuXgrIc3ykVArEpi5Zw0DStYHq6BhbqJBhvFk/PUByYO1K3nxPxLTN4dNs4x0QYKOkZ0qU4QKOQDAmL8g0p3TNiBB/NljWTwAwFR3bq1I2CztAyYe7kj/WTzftxPSLP+ZBvSNA8hwHQODbpqn7lQX8ttme/pdytyyI/6xDSGxS/3Cgujuoxzl/NKnDqevjXbn7q8r+am1bvjOmIFlH+uCoy33EosF7d/WFo+nGCEMD8voBgMAf71+QTQRmSOMWP5yAAAPPRfHGCWo1YfJBY1EtpoG+vPKArN9iKFAyfpgFTTMTTTIMJ6gUB9mcn0BADcefPXSGeAiQRsZT4i571QQyeS0y8R1IiGD7ORHcwMAxHjwWiR9Df09BAgXyhjcgZvB9QEA3ETHi1yLRAQA8Ljv1Y5Yh8v8wk0dFm+POpCT7Uwl4fHfpK1kOjnvuHEJGWUoMAPLPlyIJGT70YydZdcO3C4bzZ3t/cO/Ns1KcrZuuXTVhaNm7jjjidV0IFmNVZaNGI4Fnfow6ZjvE7z0wfhtAIBGr3/t+gVbdh3Qsz5Ygoa5iQYZxhMU6sPqwCgmmfJdXWmrSSTdl5U3epTytUFTqffrxEcy2Sq9Lq+rNcZjMFNJtAdXbzDkdbUGMdxJ9+t7zuT6xHjwctvv/NhSazqKXKsZvcbaRXUfHznfT/cOQlp4zjQAQNuA2NinViQ42lDukOF4Lq5fpmZq9Lptv56WaFRDdcMMLLvZGBaHmO2mwAbDP4t+fuPGpR6l3K67dQxI9lQXzvtx34bL9kWzx7I8N4TEWrbflfavzD5yvKFCB8O2302h055vvf3HX890DkjtEsOMKVRXSzfG/K7WH5trrfbHcBTo1IfJyD9nzGeQzU+yynu6DtSV2nI5StYHS9AwN9EgwziDNn1wJZG/eCxTrdctOXfwxbxz/yj+eeWFI59VFkx1575xPzM7ACCcycZBUH5Xa+x9mziI7uFMIN7ktxnPBxF2p2ZOobq+kn9+RfaRN29eeq3gwsacrPiTu/fVmXuFOpbv6kpevZ796vXsl/PPrbl4bHn2YblO82Ro3PT7VReX+oc7E4hf1xS9ej37k4r8P187u/z84aX+4Y4SYBbPd0f8nDaZePu1n4Z6+xqtk/sHpVd3V9kRyWyVWA/eJ7OXjvImAADYYLBahU2p16r1OqvFoUYABMCns5euyD6MhGOYktVYebalbn1w9DzvoOkcL6sjKnTaVqmoSdxXxG8r6L7Xdn93wTLp7UN5e3pasaDd8vBCpFK8dfPy1zVF64KjUzz9prpzrfqQCpUDTeK+EkF7saDjlrATCa/YEf+YvWKYsdQ/bG+N+Qb4awUX+ArZloiEh/4VTBP8PBoodFrtg9XuAABaWC/XahwVsYyATn2YdLg7Ob+TOO/V/Gyz9l3l+ek+wQ9NYoSe9cESNMxNNMiA8Ht7XhhJ4fmdXbr584qC/K7WAa3Gi0p/OSZ5W1SSs0lKKhcCyZfm1ioVGTcd8RAU5c4pFnSYGVg+NEb20mf21hZdbms63VxLxOE5ztRVgVFWHUMdiKmDqQuBFMfy3BgSZwxvBAB4U+nHMtZ/VJ6X296kheEguvtHKYtXBETmtjU5SoZtkYlVvfzzd2/vKs97fZqVpRIy2Oxtd73r7pM5Jx0lmSlJXO+TCzc8tFu3XJrbfkemUcs0aqlWjXyQaQf/K9WoFVrNMD8MAYdzJZFpRDKVSKaRyDQSmUYk0ZAWEtmVSF4XEmP71K0TCddfOi4dusoyGU/wotKZThQGyUlnMMi1GrlW06dSWHoXIriRKeVPvGjj6EbaByQrs4/0DvsaRCWSeS40N7ITfVAStVSjbh+QyK1VrLu6aptlQiC7ECoHUn74WmNhUgAAmE7OqZ5+YUw2neQEAaCB9QMajUSj6lXKhcqBbrmsUy79z8wFK00miS28dfPy8YYK0xauM61w7Quj+Sls50RjpVSj+k0VLZRTP/QUw0EQ9b4SGlWRRiS7kshIe7p3kF2BzSjUh/Fkd+WNj8vzzRqvrHw20H7P1s253+d1tpo1zuD6nFj4hC1rBErWBzPGf25OoAzY8wJjwplMaRrqRD3vFuaO+HIdDItUSpFqyHKbq4Oi8Da/tUQw2d8v2rgp5+RQe7xqva5Z0tfs+LzTD+BNpZ9atPHJnKxhjnIGtOom8ZAT2+GwKdQXY5J3PVhAF0GkUpxpqQMtD4m8mFz87eblYUyo4YENBqlGPcyyy3Wm2WVgoVAfJikfzFyYcXa/mdFZyG873lC+MTTuoZejZH0wAw1zc9xkwJ4XGBMO5oM1csLcWNmZT88auhjk+ODv6nZu6VNmJQImlj9Fz7T0FMYYH1CoD5ORKVTXv1qLG/hP6dVuuU1+aShZH8xAw9xEgwzjDzr1AWNMwQysUcGmUI8tWP9h8iLTgkcjwItK3xaVOOLLmU7OB+Y//lnqslHWeybgcMbwkNEAAfBZ6rLno5IeKV+qyQPa9GGS8lTYtGks82oncq3mjRuXbbwDStYHU9AwN9Egw4SAQn3AGFMm0xEhOoEAWBscvTwg4nRzbVZjZWVvt+3X+tAYyTzfJX5hyZ5+o1xrIABWBEQs8Qs911qf1VhRKuy0PZcdDoIimZzMgPBVgVFWE9WMAAIO90bCnLnegV9VFV7rbLFRFBwEjbj2J4YpaNOHyQgOgj5MWbTo7AEt/IDD0LXOlh/uVK8JmmrLTVCyPpiChrmJBhkmBBTqA8bYYYeTO4YtdA5IC7rvVvR035H0dcolYrUKqSvpQiC5EEl0spO/q1uAKzOQ7j6d4zV2iW5FKkVB972K3u7G/t5OuaRPqVDqtToYJuMJFALBmUDiOFN9aQwfmlu0B3c624tGIo+RJACAezJxfmdreU9XXb9QrFZKNWqlTkvE4SkEgruTC5vi4uvqFkhnRjA5MR5cYyIWDAeCKn34PYOS9cEIGuYmGmSYKNCmDxiOBTOwMDAwMDAwMDAcDOaDhYGBgYGBgYHhYP4fTx0IlqRxULkAAAAASUVORK5CYII=\",\"x\":0.5,\"xanchor\":\"center\",\"xref\":\"paper\",\"y\":0.5,\"yanchor\":\"middle\",\"yref\":\"paper\"}],\"margin\":{\"l\":0,\"r\":0,\"t\":0,\"b\":0},\"xaxis\":{\"visible\":false},\"yaxis\":{\"visible\":false},\"width\":800,\"height\":400},                        {\"responsive\": true}                    ).then(function(){\n",
       "                            \n",
       "var gd = document.getElementById('740c519a-ea80-4d2f-a0a4-80e920260487');\n",
       "var x = new MutationObserver(function (mutations, observer) {{\n",
       "        var display = window.getComputedStyle(gd).display;\n",
       "        if (!display || display === 'none') {{\n",
       "            console.log([gd, 'removed!']);\n",
       "            Plotly.purge(gd);\n",
       "            observer.disconnect();\n",
       "        }}\n",
       "}});\n",
       "\n",
       "// Listen for the removal of the full notebook cells\n",
       "var notebookContainer = gd.closest('#notebook-container');\n",
       "if (notebookContainer) {{\n",
       "    x.observe(notebookContainer, {childList: true});\n",
       "}}\n",
       "\n",
       "// Listen for the clearing of the current output cell\n",
       "var outputEl = gd.closest('.output');\n",
       "if (outputEl) {{\n",
       "    x.observe(outputEl, {childList: true});\n",
       "}}\n",
       "\n",
       "                        })                };                });            </script>        </div>"
      ]
     },
     "metadata": {},
     "output_type": "display_data"
    }
   ],
   "source": [
    "words = df[\"categories\"].to_list()\n",
    "words = \" \".join(words)\n",
    "words = words.replace(\"/\", \" \").replace(\"Nothing\", \"\")\n",
    "\n",
    "wordcloud = WordCloud(width=800, height=400, background_color=\"white\").generate(words)\n",
    "\n",
    "img_buffer = BytesIO()\n",
    "wordcloud.to_image().save(img_buffer, format=\"PNG\")\n",
    "img_buffer.seek(0)\n",
    "\n",
    "img_base64 = base64.b64encode(img_buffer.read()).decode(\"utf-8\")\n",
    "\n",
    "fig = go.Figure()\n",
    "\n",
    "fig.add_layout_image(\n",
    "    dict(\n",
    "        source=f\"data:image/png;base64,{img_base64}\",\n",
    "        xref=\"paper\",\n",
    "        yref=\"paper\",\n",
    "        x=0.5,\n",
    "        y=0.5,  # Position at the center\n",
    "        sizex=1,\n",
    "        sizey=1,  # Scale to fit\n",
    "        xanchor=\"center\",\n",
    "        yanchor=\"middle\",\n",
    "    )\n",
    ")\n",
    "\n",
    "fig.update_layout(\n",
    "    width=800,\n",
    "    height=400,\n",
    "    margin=dict(l=0, r=0, t=0, b=0),\n",
    "    xaxis=dict(visible=False),\n",
    "    yaxis=dict(visible=False),\n",
    ")\n",
    "\n",
    "# Show the figure\n",
    "fig.show()"
   ]
  },
  {
   "cell_type": "markdown",
   "metadata": {},
   "source": [
    "## Location Wise call records"
   ]
  },
  {
   "cell_type": "code",
   "execution_count": 169,
   "metadata": {},
   "outputs": [
    {
     "data": {
      "text/html": [
       "<div>\n",
       "<style scoped>\n",
       "    .dataframe tbody tr th:only-of-type {\n",
       "        vertical-align: middle;\n",
       "    }\n",
       "\n",
       "    .dataframe tbody tr th {\n",
       "        vertical-align: top;\n",
       "    }\n",
       "\n",
       "    .dataframe thead th {\n",
       "        text-align: right;\n",
       "    }\n",
       "</style>\n",
       "<table border=\"1\" class=\"dataframe\">\n",
       "  <thead>\n",
       "    <tr style=\"text-align: right;\">\n",
       "      <th></th>\n",
       "      <th>location</th>\n",
       "      <th>total_calls</th>\n",
       "    </tr>\n",
       "  </thead>\n",
       "  <tbody>\n",
       "    <tr>\n",
       "      <th>0</th>\n",
       "      <td>Boston, MA</td>\n",
       "      <td>125</td>\n",
       "    </tr>\n",
       "    <tr>\n",
       "      <th>1</th>\n",
       "      <td>Jacksonville, FL</td>\n",
       "      <td>122</td>\n",
       "    </tr>\n",
       "    <tr>\n",
       "      <th>2</th>\n",
       "      <td>Los Angeles, CA</td>\n",
       "      <td>119</td>\n",
       "    </tr>\n",
       "    <tr>\n",
       "      <th>3</th>\n",
       "      <td>New York, NY</td>\n",
       "      <td>138</td>\n",
       "    </tr>\n",
       "    <tr>\n",
       "      <th>4</th>\n",
       "      <td>San Diego, CA</td>\n",
       "      <td>128</td>\n",
       "    </tr>\n",
       "    <tr>\n",
       "      <th>5</th>\n",
       "      <td>San Francisco, CA</td>\n",
       "      <td>135</td>\n",
       "    </tr>\n",
       "    <tr>\n",
       "      <th>6</th>\n",
       "      <td>Seattle, WA</td>\n",
       "      <td>106</td>\n",
       "    </tr>\n",
       "    <tr>\n",
       "      <th>7</th>\n",
       "      <td>Washington, D.C.</td>\n",
       "      <td>127</td>\n",
       "    </tr>\n",
       "  </tbody>\n",
       "</table>\n",
       "</div>"
      ],
      "text/plain": [
       "            location  total_calls\n",
       "0         Boston, MA          125\n",
       "1   Jacksonville, FL          122\n",
       "2    Los Angeles, CA          119\n",
       "3       New York, NY          138\n",
       "4      San Diego, CA          128\n",
       "5  San Francisco, CA          135\n",
       "6        Seattle, WA          106\n",
       "7   Washington, D.C.          127"
      ]
     },
     "execution_count": 169,
     "metadata": {},
     "output_type": "execute_result"
    }
   ],
   "source": [
    "df = pd.read_json(os.path.join(os.getcwd(), \"result.json\"))\n",
    "calls_per_location = df.groupby(\"location\").size().reset_index(name=\"total_calls\")\n",
    "\n",
    "calls_per_location"
   ]
  },
  {
   "cell_type": "code",
   "execution_count": 170,
   "metadata": {},
   "outputs": [
    {
     "data": {
      "text/html": [
       "<div>\n",
       "<style scoped>\n",
       "    .dataframe tbody tr th:only-of-type {\n",
       "        vertical-align: middle;\n",
       "    }\n",
       "\n",
       "    .dataframe tbody tr th {\n",
       "        vertical-align: top;\n",
       "    }\n",
       "\n",
       "    .dataframe thead th {\n",
       "        text-align: right;\n",
       "    }\n",
       "</style>\n",
       "<table border=\"1\" class=\"dataframe\">\n",
       "  <thead>\n",
       "    <tr style=\"text-align: right;\">\n",
       "      <th></th>\n",
       "      <th>location</th>\n",
       "      <th>total_calls</th>\n",
       "      <th>latitude</th>\n",
       "      <th>longitude</th>\n",
       "    </tr>\n",
       "  </thead>\n",
       "  <tbody>\n",
       "    <tr>\n",
       "      <th>0</th>\n",
       "      <td>Boston, MA</td>\n",
       "      <td>125</td>\n",
       "      <td>42.3601</td>\n",
       "      <td>-71.0589</td>\n",
       "    </tr>\n",
       "    <tr>\n",
       "      <th>1</th>\n",
       "      <td>Jacksonville, FL</td>\n",
       "      <td>122</td>\n",
       "      <td>30.3322</td>\n",
       "      <td>-81.6557</td>\n",
       "    </tr>\n",
       "    <tr>\n",
       "      <th>2</th>\n",
       "      <td>Los Angeles, CA</td>\n",
       "      <td>119</td>\n",
       "      <td>34.0522</td>\n",
       "      <td>-118.2437</td>\n",
       "    </tr>\n",
       "    <tr>\n",
       "      <th>3</th>\n",
       "      <td>New York, NY</td>\n",
       "      <td>138</td>\n",
       "      <td>40.7128</td>\n",
       "      <td>-74.0060</td>\n",
       "    </tr>\n",
       "    <tr>\n",
       "      <th>4</th>\n",
       "      <td>San Diego, CA</td>\n",
       "      <td>128</td>\n",
       "      <td>32.7157</td>\n",
       "      <td>-117.1611</td>\n",
       "    </tr>\n",
       "  </tbody>\n",
       "</table>\n",
       "</div>"
      ],
      "text/plain": [
       "           location  total_calls  latitude  longitude\n",
       "0        Boston, MA          125   42.3601   -71.0589\n",
       "1  Jacksonville, FL          122   30.3322   -81.6557\n",
       "2   Los Angeles, CA          119   34.0522  -118.2437\n",
       "3      New York, NY          138   40.7128   -74.0060\n",
       "4     San Diego, CA          128   32.7157  -117.1611"
      ]
     },
     "execution_count": 170,
     "metadata": {},
     "output_type": "execute_result"
    }
   ],
   "source": [
    "# Geographical coordinates for the specified locations\n",
    "location_coords = {\n",
    "    \"New York, NY\": (40.7128, -74.0060),\n",
    "    \"Los Angeles, CA\": (34.0522, -118.2437),\n",
    "    \"San Diego, CA\": (32.7157, -117.1611),\n",
    "    \"San Francisco, CA\": (37.7749, -122.4194),\n",
    "    \"Jacksonville, FL\": (30.3322, -81.6557),\n",
    "    \"Seattle, WA\": (47.6062, -122.3321),\n",
    "    \"Washington, D.C.\": (38.9072, -77.0369),\n",
    "    \"Boston, MA\": (42.3601, -71.0589)\n",
    "}\n",
    "\n",
    "calls_per_location[\"latitude\"] = calls_per_location[\"location\"].map(\n",
    "    lambda loc: location_coords[loc][0]\n",
    ")\n",
    "calls_per_location[\"longitude\"] = calls_per_location[\"location\"].map(\n",
    "    lambda loc: location_coords[loc][1]\n",
    ")\n",
    "calls_per_location.head()"
   ]
  },
  {
   "cell_type": "code",
   "execution_count": 173,
   "metadata": {},
   "outputs": [
    {
     "data": {
      "application/vnd.plotly.v1+json": {
       "config": {
        "plotlyServerURL": "https://plot.ly"
       },
       "data": [
        {
         "lat": [
          42.3601,
          30.3322,
          34.0522,
          40.7128,
          32.7157,
          37.7749,
          47.6062,
          38.9072
         ],
         "lon": [
          -71.0589,
          -81.6557,
          -118.2437,
          -74.006,
          -117.1611,
          -122.4194,
          -122.3321,
          -77.0369
         ],
         "marker": {
          "color": [
           125,
           122,
           119,
           138,
           128,
           135,
           106,
           127
          ],
          "colorbar": {
           "title": {
            "text": "Number of Calls"
           }
          },
          "colorscale": [
           [
            0,
            "#440154"
           ],
           [
            0.1111111111111111,
            "#482878"
           ],
           [
            0.2222222222222222,
            "#3e4989"
           ],
           [
            0.3333333333333333,
            "#31688e"
           ],
           [
            0.4444444444444444,
            "#26828e"
           ],
           [
            0.5555555555555556,
            "#1f9e89"
           ],
           [
            0.6666666666666666,
            "#35b779"
           ],
           [
            0.7777777777777778,
            "#6ece58"
           ],
           [
            0.8888888888888888,
            "#b5de2b"
           ],
           [
            1,
            "#fde725"
           ]
          ],
          "size": [
           25,
           24.4,
           23.8,
           27.6,
           25.6,
           27,
           21.2,
           25.4
          ]
         },
         "mode": "markers",
         "text": [
          "Boston, MA",
          "Jacksonville, FL",
          "Los Angeles, CA",
          "New York, NY",
          "San Diego, CA",
          "San Francisco, CA",
          "Seattle, WA",
          "Washington, D.C."
         ],
         "type": "scattergeo"
        }
       ],
       "layout": {
        "geo": {
         "coastlinecolor": "rgb(0, 0, 0)",
         "countrycolor": "rgb(255, 255, 255)",
         "landcolor": "rgb(240, 240, 240)",
         "oceancolor": "rgb(0, 204, 255)",
         "projection": {
          "type": "albers usa"
         },
         "scope": "usa",
         "showcoastlines": true,
         "showland": true,
         "showocean": true
        },
        "template": {
         "data": {
          "bar": [
           {
            "error_x": {
             "color": "#2a3f5f"
            },
            "error_y": {
             "color": "#2a3f5f"
            },
            "marker": {
             "line": {
              "color": "#E5ECF6",
              "width": 0.5
             },
             "pattern": {
              "fillmode": "overlay",
              "size": 10,
              "solidity": 0.2
             }
            },
            "type": "bar"
           }
          ],
          "barpolar": [
           {
            "marker": {
             "line": {
              "color": "#E5ECF6",
              "width": 0.5
             },
             "pattern": {
              "fillmode": "overlay",
              "size": 10,
              "solidity": 0.2
             }
            },
            "type": "barpolar"
           }
          ],
          "carpet": [
           {
            "aaxis": {
             "endlinecolor": "#2a3f5f",
             "gridcolor": "white",
             "linecolor": "white",
             "minorgridcolor": "white",
             "startlinecolor": "#2a3f5f"
            },
            "baxis": {
             "endlinecolor": "#2a3f5f",
             "gridcolor": "white",
             "linecolor": "white",
             "minorgridcolor": "white",
             "startlinecolor": "#2a3f5f"
            },
            "type": "carpet"
           }
          ],
          "choropleth": [
           {
            "colorbar": {
             "outlinewidth": 0,
             "ticks": ""
            },
            "type": "choropleth"
           }
          ],
          "contour": [
           {
            "colorbar": {
             "outlinewidth": 0,
             "ticks": ""
            },
            "colorscale": [
             [
              0,
              "#0d0887"
             ],
             [
              0.1111111111111111,
              "#46039f"
             ],
             [
              0.2222222222222222,
              "#7201a8"
             ],
             [
              0.3333333333333333,
              "#9c179e"
             ],
             [
              0.4444444444444444,
              "#bd3786"
             ],
             [
              0.5555555555555556,
              "#d8576b"
             ],
             [
              0.6666666666666666,
              "#ed7953"
             ],
             [
              0.7777777777777778,
              "#fb9f3a"
             ],
             [
              0.8888888888888888,
              "#fdca26"
             ],
             [
              1,
              "#f0f921"
             ]
            ],
            "type": "contour"
           }
          ],
          "contourcarpet": [
           {
            "colorbar": {
             "outlinewidth": 0,
             "ticks": ""
            },
            "type": "contourcarpet"
           }
          ],
          "heatmap": [
           {
            "colorbar": {
             "outlinewidth": 0,
             "ticks": ""
            },
            "colorscale": [
             [
              0,
              "#0d0887"
             ],
             [
              0.1111111111111111,
              "#46039f"
             ],
             [
              0.2222222222222222,
              "#7201a8"
             ],
             [
              0.3333333333333333,
              "#9c179e"
             ],
             [
              0.4444444444444444,
              "#bd3786"
             ],
             [
              0.5555555555555556,
              "#d8576b"
             ],
             [
              0.6666666666666666,
              "#ed7953"
             ],
             [
              0.7777777777777778,
              "#fb9f3a"
             ],
             [
              0.8888888888888888,
              "#fdca26"
             ],
             [
              1,
              "#f0f921"
             ]
            ],
            "type": "heatmap"
           }
          ],
          "heatmapgl": [
           {
            "colorbar": {
             "outlinewidth": 0,
             "ticks": ""
            },
            "colorscale": [
             [
              0,
              "#0d0887"
             ],
             [
              0.1111111111111111,
              "#46039f"
             ],
             [
              0.2222222222222222,
              "#7201a8"
             ],
             [
              0.3333333333333333,
              "#9c179e"
             ],
             [
              0.4444444444444444,
              "#bd3786"
             ],
             [
              0.5555555555555556,
              "#d8576b"
             ],
             [
              0.6666666666666666,
              "#ed7953"
             ],
             [
              0.7777777777777778,
              "#fb9f3a"
             ],
             [
              0.8888888888888888,
              "#fdca26"
             ],
             [
              1,
              "#f0f921"
             ]
            ],
            "type": "heatmapgl"
           }
          ],
          "histogram": [
           {
            "marker": {
             "pattern": {
              "fillmode": "overlay",
              "size": 10,
              "solidity": 0.2
             }
            },
            "type": "histogram"
           }
          ],
          "histogram2d": [
           {
            "colorbar": {
             "outlinewidth": 0,
             "ticks": ""
            },
            "colorscale": [
             [
              0,
              "#0d0887"
             ],
             [
              0.1111111111111111,
              "#46039f"
             ],
             [
              0.2222222222222222,
              "#7201a8"
             ],
             [
              0.3333333333333333,
              "#9c179e"
             ],
             [
              0.4444444444444444,
              "#bd3786"
             ],
             [
              0.5555555555555556,
              "#d8576b"
             ],
             [
              0.6666666666666666,
              "#ed7953"
             ],
             [
              0.7777777777777778,
              "#fb9f3a"
             ],
             [
              0.8888888888888888,
              "#fdca26"
             ],
             [
              1,
              "#f0f921"
             ]
            ],
            "type": "histogram2d"
           }
          ],
          "histogram2dcontour": [
           {
            "colorbar": {
             "outlinewidth": 0,
             "ticks": ""
            },
            "colorscale": [
             [
              0,
              "#0d0887"
             ],
             [
              0.1111111111111111,
              "#46039f"
             ],
             [
              0.2222222222222222,
              "#7201a8"
             ],
             [
              0.3333333333333333,
              "#9c179e"
             ],
             [
              0.4444444444444444,
              "#bd3786"
             ],
             [
              0.5555555555555556,
              "#d8576b"
             ],
             [
              0.6666666666666666,
              "#ed7953"
             ],
             [
              0.7777777777777778,
              "#fb9f3a"
             ],
             [
              0.8888888888888888,
              "#fdca26"
             ],
             [
              1,
              "#f0f921"
             ]
            ],
            "type": "histogram2dcontour"
           }
          ],
          "mesh3d": [
           {
            "colorbar": {
             "outlinewidth": 0,
             "ticks": ""
            },
            "type": "mesh3d"
           }
          ],
          "parcoords": [
           {
            "line": {
             "colorbar": {
              "outlinewidth": 0,
              "ticks": ""
             }
            },
            "type": "parcoords"
           }
          ],
          "pie": [
           {
            "automargin": true,
            "type": "pie"
           }
          ],
          "scatter": [
           {
            "fillpattern": {
             "fillmode": "overlay",
             "size": 10,
             "solidity": 0.2
            },
            "type": "scatter"
           }
          ],
          "scatter3d": [
           {
            "line": {
             "colorbar": {
              "outlinewidth": 0,
              "ticks": ""
             }
            },
            "marker": {
             "colorbar": {
              "outlinewidth": 0,
              "ticks": ""
             }
            },
            "type": "scatter3d"
           }
          ],
          "scattercarpet": [
           {
            "marker": {
             "colorbar": {
              "outlinewidth": 0,
              "ticks": ""
             }
            },
            "type": "scattercarpet"
           }
          ],
          "scattergeo": [
           {
            "marker": {
             "colorbar": {
              "outlinewidth": 0,
              "ticks": ""
             }
            },
            "type": "scattergeo"
           }
          ],
          "scattergl": [
           {
            "marker": {
             "colorbar": {
              "outlinewidth": 0,
              "ticks": ""
             }
            },
            "type": "scattergl"
           }
          ],
          "scattermapbox": [
           {
            "marker": {
             "colorbar": {
              "outlinewidth": 0,
              "ticks": ""
             }
            },
            "type": "scattermapbox"
           }
          ],
          "scatterpolar": [
           {
            "marker": {
             "colorbar": {
              "outlinewidth": 0,
              "ticks": ""
             }
            },
            "type": "scatterpolar"
           }
          ],
          "scatterpolargl": [
           {
            "marker": {
             "colorbar": {
              "outlinewidth": 0,
              "ticks": ""
             }
            },
            "type": "scatterpolargl"
           }
          ],
          "scatterternary": [
           {
            "marker": {
             "colorbar": {
              "outlinewidth": 0,
              "ticks": ""
             }
            },
            "type": "scatterternary"
           }
          ],
          "surface": [
           {
            "colorbar": {
             "outlinewidth": 0,
             "ticks": ""
            },
            "colorscale": [
             [
              0,
              "#0d0887"
             ],
             [
              0.1111111111111111,
              "#46039f"
             ],
             [
              0.2222222222222222,
              "#7201a8"
             ],
             [
              0.3333333333333333,
              "#9c179e"
             ],
             [
              0.4444444444444444,
              "#bd3786"
             ],
             [
              0.5555555555555556,
              "#d8576b"
             ],
             [
              0.6666666666666666,
              "#ed7953"
             ],
             [
              0.7777777777777778,
              "#fb9f3a"
             ],
             [
              0.8888888888888888,
              "#fdca26"
             ],
             [
              1,
              "#f0f921"
             ]
            ],
            "type": "surface"
           }
          ],
          "table": [
           {
            "cells": {
             "fill": {
              "color": "#EBF0F8"
             },
             "line": {
              "color": "white"
             }
            },
            "header": {
             "fill": {
              "color": "#C8D4E3"
             },
             "line": {
              "color": "white"
             }
            },
            "type": "table"
           }
          ]
         },
         "layout": {
          "annotationdefaults": {
           "arrowcolor": "#2a3f5f",
           "arrowhead": 0,
           "arrowwidth": 1
          },
          "autotypenumbers": "strict",
          "coloraxis": {
           "colorbar": {
            "outlinewidth": 0,
            "ticks": ""
           }
          },
          "colorscale": {
           "diverging": [
            [
             0,
             "#8e0152"
            ],
            [
             0.1,
             "#c51b7d"
            ],
            [
             0.2,
             "#de77ae"
            ],
            [
             0.3,
             "#f1b6da"
            ],
            [
             0.4,
             "#fde0ef"
            ],
            [
             0.5,
             "#f7f7f7"
            ],
            [
             0.6,
             "#e6f5d0"
            ],
            [
             0.7,
             "#b8e186"
            ],
            [
             0.8,
             "#7fbc41"
            ],
            [
             0.9,
             "#4d9221"
            ],
            [
             1,
             "#276419"
            ]
           ],
           "sequential": [
            [
             0,
             "#0d0887"
            ],
            [
             0.1111111111111111,
             "#46039f"
            ],
            [
             0.2222222222222222,
             "#7201a8"
            ],
            [
             0.3333333333333333,
             "#9c179e"
            ],
            [
             0.4444444444444444,
             "#bd3786"
            ],
            [
             0.5555555555555556,
             "#d8576b"
            ],
            [
             0.6666666666666666,
             "#ed7953"
            ],
            [
             0.7777777777777778,
             "#fb9f3a"
            ],
            [
             0.8888888888888888,
             "#fdca26"
            ],
            [
             1,
             "#f0f921"
            ]
           ],
           "sequentialminus": [
            [
             0,
             "#0d0887"
            ],
            [
             0.1111111111111111,
             "#46039f"
            ],
            [
             0.2222222222222222,
             "#7201a8"
            ],
            [
             0.3333333333333333,
             "#9c179e"
            ],
            [
             0.4444444444444444,
             "#bd3786"
            ],
            [
             0.5555555555555556,
             "#d8576b"
            ],
            [
             0.6666666666666666,
             "#ed7953"
            ],
            [
             0.7777777777777778,
             "#fb9f3a"
            ],
            [
             0.8888888888888888,
             "#fdca26"
            ],
            [
             1,
             "#f0f921"
            ]
           ]
          },
          "colorway": [
           "#636efa",
           "#EF553B",
           "#00cc96",
           "#ab63fa",
           "#FFA15A",
           "#19d3f3",
           "#FF6692",
           "#B6E880",
           "#FF97FF",
           "#FECB52"
          ],
          "font": {
           "color": "#2a3f5f"
          },
          "geo": {
           "bgcolor": "white",
           "lakecolor": "white",
           "landcolor": "#E5ECF6",
           "showlakes": true,
           "showland": true,
           "subunitcolor": "white"
          },
          "hoverlabel": {
           "align": "left"
          },
          "hovermode": "closest",
          "mapbox": {
           "style": "light"
          },
          "paper_bgcolor": "white",
          "plot_bgcolor": "#E5ECF6",
          "polar": {
           "angularaxis": {
            "gridcolor": "white",
            "linecolor": "white",
            "ticks": ""
           },
           "bgcolor": "#E5ECF6",
           "radialaxis": {
            "gridcolor": "white",
            "linecolor": "white",
            "ticks": ""
           }
          },
          "scene": {
           "xaxis": {
            "backgroundcolor": "#E5ECF6",
            "gridcolor": "white",
            "gridwidth": 2,
            "linecolor": "white",
            "showbackground": true,
            "ticks": "",
            "zerolinecolor": "white"
           },
           "yaxis": {
            "backgroundcolor": "#E5ECF6",
            "gridcolor": "white",
            "gridwidth": 2,
            "linecolor": "white",
            "showbackground": true,
            "ticks": "",
            "zerolinecolor": "white"
           },
           "zaxis": {
            "backgroundcolor": "#E5ECF6",
            "gridcolor": "white",
            "gridwidth": 2,
            "linecolor": "white",
            "showbackground": true,
            "ticks": "",
            "zerolinecolor": "white"
           }
          },
          "shapedefaults": {
           "line": {
            "color": "#2a3f5f"
           }
          },
          "ternary": {
           "aaxis": {
            "gridcolor": "white",
            "linecolor": "white",
            "ticks": ""
           },
           "baxis": {
            "gridcolor": "white",
            "linecolor": "white",
            "ticks": ""
           },
           "bgcolor": "#E5ECF6",
           "caxis": {
            "gridcolor": "white",
            "linecolor": "white",
            "ticks": ""
           }
          },
          "title": {
           "x": 0.05
          },
          "xaxis": {
           "automargin": true,
           "gridcolor": "white",
           "linecolor": "white",
           "ticks": "",
           "title": {
            "standoff": 15
           },
           "zerolinecolor": "white",
           "zerolinewidth": 2
          },
          "yaxis": {
           "automargin": true,
           "gridcolor": "white",
           "linecolor": "white",
           "ticks": "",
           "title": {
            "standoff": 15
           },
           "zerolinecolor": "white",
           "zerolinewidth": 2
          }
         }
        },
        "title": {
         "text": "Heatmap of Calls by Location"
        }
       }
      },
      "text/html": [
       "<div>                            <div id=\"fe52c00d-0411-4c05-8259-824e54636056\" class=\"plotly-graph-div\" style=\"height:525px; width:100%;\"></div>            <script type=\"text/javascript\">                require([\"plotly\"], function(Plotly) {                    window.PLOTLYENV=window.PLOTLYENV || {};                                    if (document.getElementById(\"fe52c00d-0411-4c05-8259-824e54636056\")) {                    Plotly.newPlot(                        \"fe52c00d-0411-4c05-8259-824e54636056\",                        [{\"lat\":[42.3601,30.3322,34.0522,40.7128,32.7157,37.7749,47.6062,38.9072],\"lon\":[-71.0589,-81.6557,-118.2437,-74.006,-117.1611,-122.4194,-122.3321,-77.0369],\"marker\":{\"color\":[125,122,119,138,128,135,106,127],\"colorbar\":{\"title\":{\"text\":\"Number of Calls\"}},\"colorscale\":[[0.0,\"#440154\"],[0.1111111111111111,\"#482878\"],[0.2222222222222222,\"#3e4989\"],[0.3333333333333333,\"#31688e\"],[0.4444444444444444,\"#26828e\"],[0.5555555555555556,\"#1f9e89\"],[0.6666666666666666,\"#35b779\"],[0.7777777777777778,\"#6ece58\"],[0.8888888888888888,\"#b5de2b\"],[1.0,\"#fde725\"]],\"size\":[25.0,24.4,23.8,27.6,25.6,27.0,21.2,25.4]},\"mode\":\"markers\",\"text\":[\"Boston, MA\",\"Jacksonville, FL\",\"Los Angeles, CA\",\"New York, NY\",\"San Diego, CA\",\"San Francisco, CA\",\"Seattle, WA\",\"Washington, D.C.\"],\"type\":\"scattergeo\"}],                        {\"template\":{\"data\":{\"histogram2dcontour\":[{\"type\":\"histogram2dcontour\",\"colorbar\":{\"outlinewidth\":0,\"ticks\":\"\"},\"colorscale\":[[0.0,\"#0d0887\"],[0.1111111111111111,\"#46039f\"],[0.2222222222222222,\"#7201a8\"],[0.3333333333333333,\"#9c179e\"],[0.4444444444444444,\"#bd3786\"],[0.5555555555555556,\"#d8576b\"],[0.6666666666666666,\"#ed7953\"],[0.7777777777777778,\"#fb9f3a\"],[0.8888888888888888,\"#fdca26\"],[1.0,\"#f0f921\"]]}],\"choropleth\":[{\"type\":\"choropleth\",\"colorbar\":{\"outlinewidth\":0,\"ticks\":\"\"}}],\"histogram2d\":[{\"type\":\"histogram2d\",\"colorbar\":{\"outlinewidth\":0,\"ticks\":\"\"},\"colorscale\":[[0.0,\"#0d0887\"],[0.1111111111111111,\"#46039f\"],[0.2222222222222222,\"#7201a8\"],[0.3333333333333333,\"#9c179e\"],[0.4444444444444444,\"#bd3786\"],[0.5555555555555556,\"#d8576b\"],[0.6666666666666666,\"#ed7953\"],[0.7777777777777778,\"#fb9f3a\"],[0.8888888888888888,\"#fdca26\"],[1.0,\"#f0f921\"]]}],\"heatmap\":[{\"type\":\"heatmap\",\"colorbar\":{\"outlinewidth\":0,\"ticks\":\"\"},\"colorscale\":[[0.0,\"#0d0887\"],[0.1111111111111111,\"#46039f\"],[0.2222222222222222,\"#7201a8\"],[0.3333333333333333,\"#9c179e\"],[0.4444444444444444,\"#bd3786\"],[0.5555555555555556,\"#d8576b\"],[0.6666666666666666,\"#ed7953\"],[0.7777777777777778,\"#fb9f3a\"],[0.8888888888888888,\"#fdca26\"],[1.0,\"#f0f921\"]]}],\"heatmapgl\":[{\"type\":\"heatmapgl\",\"colorbar\":{\"outlinewidth\":0,\"ticks\":\"\"},\"colorscale\":[[0.0,\"#0d0887\"],[0.1111111111111111,\"#46039f\"],[0.2222222222222222,\"#7201a8\"],[0.3333333333333333,\"#9c179e\"],[0.4444444444444444,\"#bd3786\"],[0.5555555555555556,\"#d8576b\"],[0.6666666666666666,\"#ed7953\"],[0.7777777777777778,\"#fb9f3a\"],[0.8888888888888888,\"#fdca26\"],[1.0,\"#f0f921\"]]}],\"contourcarpet\":[{\"type\":\"contourcarpet\",\"colorbar\":{\"outlinewidth\":0,\"ticks\":\"\"}}],\"contour\":[{\"type\":\"contour\",\"colorbar\":{\"outlinewidth\":0,\"ticks\":\"\"},\"colorscale\":[[0.0,\"#0d0887\"],[0.1111111111111111,\"#46039f\"],[0.2222222222222222,\"#7201a8\"],[0.3333333333333333,\"#9c179e\"],[0.4444444444444444,\"#bd3786\"],[0.5555555555555556,\"#d8576b\"],[0.6666666666666666,\"#ed7953\"],[0.7777777777777778,\"#fb9f3a\"],[0.8888888888888888,\"#fdca26\"],[1.0,\"#f0f921\"]]}],\"surface\":[{\"type\":\"surface\",\"colorbar\":{\"outlinewidth\":0,\"ticks\":\"\"},\"colorscale\":[[0.0,\"#0d0887\"],[0.1111111111111111,\"#46039f\"],[0.2222222222222222,\"#7201a8\"],[0.3333333333333333,\"#9c179e\"],[0.4444444444444444,\"#bd3786\"],[0.5555555555555556,\"#d8576b\"],[0.6666666666666666,\"#ed7953\"],[0.7777777777777778,\"#fb9f3a\"],[0.8888888888888888,\"#fdca26\"],[1.0,\"#f0f921\"]]}],\"mesh3d\":[{\"type\":\"mesh3d\",\"colorbar\":{\"outlinewidth\":0,\"ticks\":\"\"}}],\"scatter\":[{\"fillpattern\":{\"fillmode\":\"overlay\",\"size\":10,\"solidity\":0.2},\"type\":\"scatter\"}],\"parcoords\":[{\"type\":\"parcoords\",\"line\":{\"colorbar\":{\"outlinewidth\":0,\"ticks\":\"\"}}}],\"scatterpolargl\":[{\"type\":\"scatterpolargl\",\"marker\":{\"colorbar\":{\"outlinewidth\":0,\"ticks\":\"\"}}}],\"bar\":[{\"error_x\":{\"color\":\"#2a3f5f\"},\"error_y\":{\"color\":\"#2a3f5f\"},\"marker\":{\"line\":{\"color\":\"#E5ECF6\",\"width\":0.5},\"pattern\":{\"fillmode\":\"overlay\",\"size\":10,\"solidity\":0.2}},\"type\":\"bar\"}],\"scattergeo\":[{\"type\":\"scattergeo\",\"marker\":{\"colorbar\":{\"outlinewidth\":0,\"ticks\":\"\"}}}],\"scatterpolar\":[{\"type\":\"scatterpolar\",\"marker\":{\"colorbar\":{\"outlinewidth\":0,\"ticks\":\"\"}}}],\"histogram\":[{\"marker\":{\"pattern\":{\"fillmode\":\"overlay\",\"size\":10,\"solidity\":0.2}},\"type\":\"histogram\"}],\"scattergl\":[{\"type\":\"scattergl\",\"marker\":{\"colorbar\":{\"outlinewidth\":0,\"ticks\":\"\"}}}],\"scatter3d\":[{\"type\":\"scatter3d\",\"line\":{\"colorbar\":{\"outlinewidth\":0,\"ticks\":\"\"}},\"marker\":{\"colorbar\":{\"outlinewidth\":0,\"ticks\":\"\"}}}],\"scattermapbox\":[{\"type\":\"scattermapbox\",\"marker\":{\"colorbar\":{\"outlinewidth\":0,\"ticks\":\"\"}}}],\"scatterternary\":[{\"type\":\"scatterternary\",\"marker\":{\"colorbar\":{\"outlinewidth\":0,\"ticks\":\"\"}}}],\"scattercarpet\":[{\"type\":\"scattercarpet\",\"marker\":{\"colorbar\":{\"outlinewidth\":0,\"ticks\":\"\"}}}],\"carpet\":[{\"aaxis\":{\"endlinecolor\":\"#2a3f5f\",\"gridcolor\":\"white\",\"linecolor\":\"white\",\"minorgridcolor\":\"white\",\"startlinecolor\":\"#2a3f5f\"},\"baxis\":{\"endlinecolor\":\"#2a3f5f\",\"gridcolor\":\"white\",\"linecolor\":\"white\",\"minorgridcolor\":\"white\",\"startlinecolor\":\"#2a3f5f\"},\"type\":\"carpet\"}],\"table\":[{\"cells\":{\"fill\":{\"color\":\"#EBF0F8\"},\"line\":{\"color\":\"white\"}},\"header\":{\"fill\":{\"color\":\"#C8D4E3\"},\"line\":{\"color\":\"white\"}},\"type\":\"table\"}],\"barpolar\":[{\"marker\":{\"line\":{\"color\":\"#E5ECF6\",\"width\":0.5},\"pattern\":{\"fillmode\":\"overlay\",\"size\":10,\"solidity\":0.2}},\"type\":\"barpolar\"}],\"pie\":[{\"automargin\":true,\"type\":\"pie\"}]},\"layout\":{\"autotypenumbers\":\"strict\",\"colorway\":[\"#636efa\",\"#EF553B\",\"#00cc96\",\"#ab63fa\",\"#FFA15A\",\"#19d3f3\",\"#FF6692\",\"#B6E880\",\"#FF97FF\",\"#FECB52\"],\"font\":{\"color\":\"#2a3f5f\"},\"hovermode\":\"closest\",\"hoverlabel\":{\"align\":\"left\"},\"paper_bgcolor\":\"white\",\"plot_bgcolor\":\"#E5ECF6\",\"polar\":{\"bgcolor\":\"#E5ECF6\",\"angularaxis\":{\"gridcolor\":\"white\",\"linecolor\":\"white\",\"ticks\":\"\"},\"radialaxis\":{\"gridcolor\":\"white\",\"linecolor\":\"white\",\"ticks\":\"\"}},\"ternary\":{\"bgcolor\":\"#E5ECF6\",\"aaxis\":{\"gridcolor\":\"white\",\"linecolor\":\"white\",\"ticks\":\"\"},\"baxis\":{\"gridcolor\":\"white\",\"linecolor\":\"white\",\"ticks\":\"\"},\"caxis\":{\"gridcolor\":\"white\",\"linecolor\":\"white\",\"ticks\":\"\"}},\"coloraxis\":{\"colorbar\":{\"outlinewidth\":0,\"ticks\":\"\"}},\"colorscale\":{\"sequential\":[[0.0,\"#0d0887\"],[0.1111111111111111,\"#46039f\"],[0.2222222222222222,\"#7201a8\"],[0.3333333333333333,\"#9c179e\"],[0.4444444444444444,\"#bd3786\"],[0.5555555555555556,\"#d8576b\"],[0.6666666666666666,\"#ed7953\"],[0.7777777777777778,\"#fb9f3a\"],[0.8888888888888888,\"#fdca26\"],[1.0,\"#f0f921\"]],\"sequentialminus\":[[0.0,\"#0d0887\"],[0.1111111111111111,\"#46039f\"],[0.2222222222222222,\"#7201a8\"],[0.3333333333333333,\"#9c179e\"],[0.4444444444444444,\"#bd3786\"],[0.5555555555555556,\"#d8576b\"],[0.6666666666666666,\"#ed7953\"],[0.7777777777777778,\"#fb9f3a\"],[0.8888888888888888,\"#fdca26\"],[1.0,\"#f0f921\"]],\"diverging\":[[0,\"#8e0152\"],[0.1,\"#c51b7d\"],[0.2,\"#de77ae\"],[0.3,\"#f1b6da\"],[0.4,\"#fde0ef\"],[0.5,\"#f7f7f7\"],[0.6,\"#e6f5d0\"],[0.7,\"#b8e186\"],[0.8,\"#7fbc41\"],[0.9,\"#4d9221\"],[1,\"#276419\"]]},\"xaxis\":{\"gridcolor\":\"white\",\"linecolor\":\"white\",\"ticks\":\"\",\"title\":{\"standoff\":15},\"zerolinecolor\":\"white\",\"automargin\":true,\"zerolinewidth\":2},\"yaxis\":{\"gridcolor\":\"white\",\"linecolor\":\"white\",\"ticks\":\"\",\"title\":{\"standoff\":15},\"zerolinecolor\":\"white\",\"automargin\":true,\"zerolinewidth\":2},\"scene\":{\"xaxis\":{\"backgroundcolor\":\"#E5ECF6\",\"gridcolor\":\"white\",\"linecolor\":\"white\",\"showbackground\":true,\"ticks\":\"\",\"zerolinecolor\":\"white\",\"gridwidth\":2},\"yaxis\":{\"backgroundcolor\":\"#E5ECF6\",\"gridcolor\":\"white\",\"linecolor\":\"white\",\"showbackground\":true,\"ticks\":\"\",\"zerolinecolor\":\"white\",\"gridwidth\":2},\"zaxis\":{\"backgroundcolor\":\"#E5ECF6\",\"gridcolor\":\"white\",\"linecolor\":\"white\",\"showbackground\":true,\"ticks\":\"\",\"zerolinecolor\":\"white\",\"gridwidth\":2}},\"shapedefaults\":{\"line\":{\"color\":\"#2a3f5f\"}},\"annotationdefaults\":{\"arrowcolor\":\"#2a3f5f\",\"arrowhead\":0,\"arrowwidth\":1},\"geo\":{\"bgcolor\":\"white\",\"landcolor\":\"#E5ECF6\",\"subunitcolor\":\"white\",\"showland\":true,\"showlakes\":true,\"lakecolor\":\"white\"},\"title\":{\"x\":0.05},\"mapbox\":{\"style\":\"light\"}}},\"geo\":{\"projection\":{\"type\":\"albers usa\"},\"scope\":\"usa\",\"showland\":true,\"landcolor\":\"rgb(240, 240, 240)\",\"countrycolor\":\"rgb(255, 255, 255)\",\"showocean\":true,\"oceancolor\":\"rgb(0, 204, 255)\",\"showcoastlines\":true,\"coastlinecolor\":\"rgb(0, 0, 0)\"},\"title\":{\"text\":\"Heatmap of Calls by Location\"}},                        {\"responsive\": true}                    ).then(function(){\n",
       "                            \n",
       "var gd = document.getElementById('fe52c00d-0411-4c05-8259-824e54636056');\n",
       "var x = new MutationObserver(function (mutations, observer) {{\n",
       "        var display = window.getComputedStyle(gd).display;\n",
       "        if (!display || display === 'none') {{\n",
       "            console.log([gd, 'removed!']);\n",
       "            Plotly.purge(gd);\n",
       "            observer.disconnect();\n",
       "        }}\n",
       "}});\n",
       "\n",
       "// Listen for the removal of the full notebook cells\n",
       "var notebookContainer = gd.closest('#notebook-container');\n",
       "if (notebookContainer) {{\n",
       "    x.observe(notebookContainer, {childList: true});\n",
       "}}\n",
       "\n",
       "// Listen for the clearing of the current output cell\n",
       "var outputEl = gd.closest('.output');\n",
       "if (outputEl) {{\n",
       "    x.observe(outputEl, {childList: true});\n",
       "}}\n",
       "\n",
       "                        })                };                });            </script>        </div>"
      ]
     },
     "metadata": {},
     "output_type": "display_data"
    }
   ],
   "source": [
    "fig = go.Figure(\n",
    "    data=go.Scattergeo(\n",
    "        lat=calls_per_location[\"latitude\"],\n",
    "        lon=calls_per_location[\"longitude\"],\n",
    "        mode=\"markers\",\n",
    "        marker=dict(\n",
    "            size=calls_per_location[\n",
    "                \"total_calls\"\n",
    "            ]/5,  \n",
    "            color=calls_per_location[\"total_calls\"],\n",
    "            colorscale=\"Viridis\",\n",
    "            colorbar=dict(title=\"Number of Calls\"),\n",
    "        ),\n",
    "        text=calls_per_location[\"location\"],  \n",
    "    )\n",
    ")\n",
    "\n",
    "fig.update_layout(\n",
    "    title=\"Heatmap of Calls by Location\",\n",
    "    geo=dict(\n",
    "        scope=\"usa\",\n",
    "        projection=dict(type=\"albers usa\"),\n",
    "        showland=True,\n",
    "        landcolor=\"rgb(240, 240, 240)\",\n",
    "        countrycolor=\"rgb(255, 255, 255)\",\n",
    "        showocean=True,\n",
    "        oceancolor=\"rgb(0, 204, 255)\",\n",
    "        showcoastlines=True,\n",
    "        coastlinecolor=\"rgb(0, 0, 0)\",\n",
    "    ),\n",
    ")\n",
    "\n",
    "fig.show()"
   ]
  },
  {
   "cell_type": "code",
   "execution_count": null,
   "metadata": {},
   "outputs": [],
   "source": []
  }
 ],
 "metadata": {
  "kernelspec": {
   "display_name": "Python 3.10",
   "language": "python",
   "name": "python3"
  },
  "language_info": {
   "codemirror_mode": {
    "name": "ipython",
    "version": 3
   },
   "file_extension": ".py",
   "mimetype": "text/x-python",
   "name": "python",
   "nbconvert_exporter": "python",
   "pygments_lexer": "ipython3",
   "version": "3.10.14"
  }
 },
 "nbformat": 4,
 "nbformat_minor": 1
}
