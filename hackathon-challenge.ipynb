{
 "cells": [
  {
   "cell_type": "markdown",
   "metadata": {},
   "source": [
    "## Install the required libararies"
   ]
  },
  {
   "cell_type": "code",
   "execution_count": 83,
   "metadata": {},
   "outputs": [],
   "source": [
    "!pip install -q datasets ibm-watson pandas tqdm wordcloud"
   ]
  },
  {
   "cell_type": "markdown",
   "metadata": {},
   "source": [
    "## Import the required libraries"
   ]
  },
  {
   "cell_type": "code",
   "execution_count": 88,
   "metadata": {},
   "outputs": [],
   "source": [
    "import pandas as pd\n",
    "from datasets import load_dataset\n",
    "from datetime import datetime, timedelta\n",
    "import random\n",
    "import os\n",
    "\n",
    "import requests\n",
    "from ibm_watson import IAMTokenManager\n",
    "\n",
    "from tqdm import tqdm\n",
    "\n",
    "pd.set_option(\"display.max_rows\", None)  # Display all rows\n",
    "pd.set_option(\"display.max_columns\", None)  # Display all columns\n",
    "pd.set_option(\"display.max_colwidth\", None)  # Display full content of each cell\n",
    "tqdm.pandas()"
   ]
  },
  {
   "cell_type": "markdown",
   "metadata": {},
   "source": [
    "## Load the Ecommerce Datasets \n",
    "## Dataset Type - E-Commerce Customer Support Conversations\n",
    "\n",
    "## Data Source - https://huggingface.co/datasets/NebulaByte/E-Commerce_Customer_Support_Conversations"
   ]
  },
  {
   "cell_type": "code",
   "execution_count": 89,
   "metadata": {},
   "outputs": [],
   "source": [
    "dataset = load_dataset(\"NebulaByte/E-Commerce_Customer_Support_Conversations\")\n",
    "train_data = dataset[\"train\"]\n",
    "customer_conversation = train_data.to_pandas()[\n",
    "    [\"conversation\"]\n",
    "]  ### Consider the conversation column only"
   ]
  },
  {
   "cell_type": "markdown",
   "metadata": {},
   "source": [
    "## Add Synthetic Data (Add call_recording_date and customer_location)"
   ]
  },
  {
   "cell_type": "code",
   "execution_count": 90,
   "metadata": {},
   "outputs": [],
   "source": [
    "def random_date_generation(delta: int = 7):\n",
    "    end_date = datetime.now()\n",
    "    start_date = end_date - timedelta(days=delta)\n",
    "    random_timestamp = start_date + timedelta(\n",
    "        days=random.randint(0, delta),\n",
    "        hours=random.randint(0, 23),\n",
    "        minutes=random.randint(0, 59),\n",
    "        seconds=random.randint(0, 59),\n",
    "    )\n",
    "    return random_timestamp\n",
    "\n",
    "\n",
    "customer_conversation[\"recording_date\"] = [\n",
    "    random_date_generation() for _ in range(len(customer_conversation))\n",
    "]\n",
    "\n",
    "locations = [\"New York, NY\",\n",
    "            \"Los Angeles, CA\",\n",
    "            \"San Diego, CA\",\n",
    "            \"San Francisco, CA\",\n",
    "            \"Jacksonville, FL\",\n",
    "            \"Seattle, WA\",\n",
    "            \"Washington, D.C.\",\n",
    "            \"Boston, MA\"\n",
    "            ]\n",
    "\n",
    "customer_conversation[\"location\"] = [\n",
    "    random.choice(locations) for _ in range(len(customer_conversation))\n",
    "]"
   ]
  },
  {
   "cell_type": "markdown",
   "metadata": {},
   "source": [
    "## Preview the data"
   ]
  },
  {
   "cell_type": "code",
   "execution_count": 91,
   "metadata": {},
   "outputs": [
    {
     "data": {
      "text/html": [
       "<div>\n",
       "<style scoped>\n",
       "    .dataframe tbody tr th:only-of-type {\n",
       "        vertical-align: middle;\n",
       "    }\n",
       "\n",
       "    .dataframe tbody tr th {\n",
       "        vertical-align: top;\n",
       "    }\n",
       "\n",
       "    .dataframe thead th {\n",
       "        text-align: right;\n",
       "    }\n",
       "</style>\n",
       "<table border=\"1\" class=\"dataframe\">\n",
       "  <thead>\n",
       "    <tr style=\"text-align: right;\">\n",
       "      <th></th>\n",
       "      <th>conversation</th>\n",
       "      <th>recording_date</th>\n",
       "      <th>location</th>\n",
       "    </tr>\n",
       "  </thead>\n",
       "  <tbody>\n",
       "    <tr>\n",
       "      <th>0</th>\n",
       "      <td>Agent: Thank you for calling BrownBox Customer Support. My name is Tom. How may I assist you today?\\n\\nCustomer: Hi Tom, I'm trying to log in to my account to purchase an Oven Toaster Grill (OTG), but I'm unable to proceed as it's asking for mobile number or email verification. Can you help me with that?\\n\\nAgent: Sure, I can assist you with that. May I know your registered mobile number or email address, please?\\n\\nCustomer: My registered mobile number is +1 123-456-7890.\\n\\nAgent: Thank you. Let me check that for you. I'm sorry to inform you that we don't have this number on our records. Can you please confirm if this is the correct number?\\n\\nCustomer: Oh, I'm sorry. I might have registered with a different number. Can you please check with my email address instead? It's johndoe@email.com.\\n\\nAgent: Sure, let me check that for you. (After a few moments) I see that we have your email address on our records. We'll be sending you a verification code shortly. Please check your email and let me know once you receive it.\\n\\nCustomer: Okay, I received the code. What do I do with it?\\n\\nAgent: Please enter the verification code in the field provided and click on 'Verify'. Once your email address is verified, you'll be able to proceed with your purchase.\\n\\nCustomer: Okay, I entered the code, and it's verified now. Thank you for your help.\\n\\nAgent: You're welcome. Is there anything else I can assist you with?\\n\\nCustomer: No, that's all. Thank you.\\n\\nAgent: You're welcome. Have a great day!</td>\n",
       "      <td>2024-09-15 21:22:04.825085</td>\n",
       "      <td>Los Angeles, CA</td>\n",
       "    </tr>\n",
       "    <tr>\n",
       "      <th>1</th>\n",
       "      <td>Agent: Thank you for calling BrownBox customer support. My name is Alex. How may I assist you today?\\n\\nCustomer: Hi Alex. I recently received an email from BrownBox requesting me to ship back the computer monitor I purchased last week. Can you please tell me why I am being asked to ship it back?\\n\\nAgent: Sure, I'll be happy to help you with that. May I have your order number, please?\\n\\nCustomer: Yes, it's 789101.\\n\\nAgent: Thank you. Let me check the details of your order. (After a few seconds) I see that the monitor you purchased has been recalled by the manufacturer due to a technical issue. For safety reasons, we are requesting our customers to return the product, and we will be providing a full refund.\\n\\nCustomer: Oh, I see. That makes sense. Can you guide me through the process of returning the monitor?\\n\\nAgent: Of course. We will be sending you a prepaid shipping label via email within the next 24 hours. Please print the label, pack the monitor securely in its original packaging, and drop it off at any UPS store. Once we receive the product, we will initiate the refund process, and you will receive your money within 5-7 business days.\\n\\nCustomer: Okay, that sounds straightforward. Thank you for explaining the process to me.\\n\\nAgent: You're welcome. Is there anything else I can assist you with?\\n\\nCustomer: No, that's all for now. Thank you for your help.\\n\\nAgent: You're welcome. If you have any other questions or concerns, please don't hesitate to reach out to us. Have a great day!\\n\\nCustomer: You too. Goodbye.\\n\\nAgent: Goodbye.</td>\n",
       "      <td>2024-09-14 17:07:55.825122</td>\n",
       "      <td>New York, NY</td>\n",
       "    </tr>\n",
       "  </tbody>\n",
       "</table>\n",
       "</div>"
      ],
      "text/plain": [
       "                                                                                                                                                                                                                                                                                                                                                                                                                                                                                                                                                                                                                                                                                                                                                                                                                                                                                                                                                                                                                                                                                                                                                                                                                                                                                                                                                                                                                                                                                                                                                                                                                         conversation  \\\n",
       "0                                                             Agent: Thank you for calling BrownBox Customer Support. My name is Tom. How may I assist you today?\\n\\nCustomer: Hi Tom, I'm trying to log in to my account to purchase an Oven Toaster Grill (OTG), but I'm unable to proceed as it's asking for mobile number or email verification. Can you help me with that?\\n\\nAgent: Sure, I can assist you with that. May I know your registered mobile number or email address, please?\\n\\nCustomer: My registered mobile number is +1 123-456-7890.\\n\\nAgent: Thank you. Let me check that for you. I'm sorry to inform you that we don't have this number on our records. Can you please confirm if this is the correct number?\\n\\nCustomer: Oh, I'm sorry. I might have registered with a different number. Can you please check with my email address instead? It's johndoe@email.com.\\n\\nAgent: Sure, let me check that for you. (After a few moments) I see that we have your email address on our records. We'll be sending you a verification code shortly. Please check your email and let me know once you receive it.\\n\\nCustomer: Okay, I received the code. What do I do with it?\\n\\nAgent: Please enter the verification code in the field provided and click on 'Verify'. Once your email address is verified, you'll be able to proceed with your purchase.\\n\\nCustomer: Okay, I entered the code, and it's verified now. Thank you for your help.\\n\\nAgent: You're welcome. Is there anything else I can assist you with?\\n\\nCustomer: No, that's all. Thank you.\\n\\nAgent: You're welcome. Have a great day!   \n",
       "1  Agent: Thank you for calling BrownBox customer support. My name is Alex. How may I assist you today?\\n\\nCustomer: Hi Alex. I recently received an email from BrownBox requesting me to ship back the computer monitor I purchased last week. Can you please tell me why I am being asked to ship it back?\\n\\nAgent: Sure, I'll be happy to help you with that. May I have your order number, please?\\n\\nCustomer: Yes, it's 789101.\\n\\nAgent: Thank you. Let me check the details of your order. (After a few seconds) I see that the monitor you purchased has been recalled by the manufacturer due to a technical issue. For safety reasons, we are requesting our customers to return the product, and we will be providing a full refund.\\n\\nCustomer: Oh, I see. That makes sense. Can you guide me through the process of returning the monitor?\\n\\nAgent: Of course. We will be sending you a prepaid shipping label via email within the next 24 hours. Please print the label, pack the monitor securely in its original packaging, and drop it off at any UPS store. Once we receive the product, we will initiate the refund process, and you will receive your money within 5-7 business days.\\n\\nCustomer: Okay, that sounds straightforward. Thank you for explaining the process to me.\\n\\nAgent: You're welcome. Is there anything else I can assist you with?\\n\\nCustomer: No, that's all for now. Thank you for your help.\\n\\nAgent: You're welcome. If you have any other questions or concerns, please don't hesitate to reach out to us. Have a great day!\\n\\nCustomer: You too. Goodbye.\\n\\nAgent: Goodbye.   \n",
       "\n",
       "              recording_date         location  \n",
       "0 2024-09-15 21:22:04.825085  Los Angeles, CA  \n",
       "1 2024-09-14 17:07:55.825122     New York, NY  "
      ]
     },
     "execution_count": 91,
     "metadata": {},
     "output_type": "execute_result"
    }
   ],
   "source": [
    "customer_conversation.head(2)"
   ]
  },
  {
   "cell_type": "markdown",
   "metadata": {},
   "source": [
    "## Set the Variables"
   ]
  },
  {
   "cell_type": "code",
   "execution_count": 92,
   "metadata": {},
   "outputs": [],
   "source": [
    "API_KEY = \"##################################\" ## Enter the API key genereted from IBM Watson platform\n",
    "SERVICE_URL = (\n",
    "    \"https://us-south.ml.cloud.ibm.com/ml/v1/text/generation?version=2023-05-29\"\n",
    ")\n",
    "INSTRUCT_MODEL_ID = \"ibm/granite-13b-instruct-v2\"\n",
    "CHAT_MODEL_ID = \"ibm/granite-13b-chat-v2\"\n",
    "PROJECT_ID = \"d80ea387-8eaa-42db-8d24-43edef6c6f69\""
   ]
  },
  {
   "cell_type": "markdown",
   "metadata": {},
   "source": [
    "## Function to generate bearer Token"
   ]
  },
  {
   "cell_type": "code",
   "execution_count": 93,
   "metadata": {},
   "outputs": [],
   "source": [
    "def get_token(api_key: str) -> str:\n",
    "    \"\"\"Generates and returns the IAM token.\"\"\"\n",
    "    try:\n",
    "        iam_token_manager = IAMTokenManager(apikey=api_key)\n",
    "        return iam_token_manager.get_token()\n",
    "    except Exception as e:\n",
    "        raise Exception(f\"Error obtaining IAM token: {str(e)}\")"
   ]
  },
  {
   "cell_type": "markdown",
   "metadata": {},
   "source": [
    "## Request body function"
   ]
  },
  {
   "cell_type": "code",
   "execution_count": 94,
   "metadata": {},
   "outputs": [],
   "source": [
    "def create_request_body(model_id: str, input_text: str, max_tokens: int = 900) -> dict:\n",
    "    \"\"\"Creates the request body for the API call.\"\"\"\n",
    "    return {\n",
    "        \"input\": input_text,\n",
    "        \"parameters\": {\n",
    "            \"decoding_method\": \"greedy\",\n",
    "            \"max_new_tokens\": max_tokens,\n",
    "            \"repetition_penalty\": 1.05,\n",
    "        },\n",
    "        \"model_id\": model_id,\n",
    "        \"project_id\": PROJECT_ID,\n",
    "        \"moderations\": {\n",
    "            \"hap\": {\n",
    "                \"input\": {\n",
    "                    \"enabled\": True,\n",
    "                    \"threshold\": 0.5,\n",
    "                    \"mask\": {\"remove_entity_value\": True},\n",
    "                },\n",
    "                \"output\": {\n",
    "                    \"enabled\": True,\n",
    "                    \"threshold\": 0.5,\n",
    "                    \"mask\": {\"remove_entity_value\": True},\n",
    "                },\n",
    "            }\n",
    "        },\n",
    "    }"
   ]
  },
  {
   "cell_type": "markdown",
   "metadata": {},
   "source": [
    "## API request function"
   ]
  },
  {
   "cell_type": "code",
   "execution_count": 95,
   "metadata": {},
   "outputs": [],
   "source": [
    "def make_api_request(body: dict, token: str, url: str) -> dict:\n",
    "    \"\"\"Makes the API request to the IBM Watson service.\"\"\"\n",
    "    headers = {\n",
    "        \"Accept\": \"application/json\",\n",
    "        \"Content-Type\": \"application/json\",\n",
    "        \"Authorization\": f\"Bearer {token}\",\n",
    "    }\n",
    "\n",
    "    try:\n",
    "        response = requests.post(url, headers=headers, json=body)\n",
    "        response.raise_for_status()\n",
    "    except requests.exceptions.RequestException as e:\n",
    "        raise Exception(f\"API request failed: {str(e)}\")\n",
    "\n",
    "    return response.json()"
   ]
  },
  {
   "cell_type": "markdown",
   "metadata": {},
   "source": [
    "## Chat message function wrapper"
   ]
  },
  {
   "cell_type": "code",
   "execution_count": 96,
   "metadata": {},
   "outputs": [],
   "source": [
    "def get_chat_message(prompt, input, model_id):\n",
    "    input_text = f\"{prompt} \\n {input}\"\n",
    "\n",
    "    # print(input_text)\n",
    "\n",
    "    token = get_token(API_KEY)\n",
    "    body = create_request_body(model_id, input_text)\n",
    "    data = make_api_request(body, token, SERVICE_URL)\n",
    "\n",
    "    # print(data)\n",
    "\n",
    "    return data[\"results\"][0][\"generated_text\"]"
   ]
  },
  {
   "cell_type": "markdown",
   "metadata": {},
   "source": [
    "## Temporary -- Limit records (token control)"
   ]
  },
  {
   "cell_type": "code",
   "execution_count": 97,
   "metadata": {},
   "outputs": [],
   "source": [
    "customer_conversation = customer_conversation.loc[:249]"
   ]
  },
  {
   "cell_type": "markdown",
   "metadata": {},
   "source": [
    "## Sentiment Analysis"
   ]
  },
  {
   "cell_type": "code",
   "execution_count": 98,
   "metadata": {},
   "outputs": [
    {
     "name": "stderr",
     "output_type": "stream",
     "text": [
      "100%|██████████| 250/250 [03:25<00:00,  1.22it/s]\n"
     ]
    }
   ],
   "source": [
    "sentiment_analysis_prompt = \"\"\"Analyze the sentiment of the following text and only return one word: 'positive', 'negative', or 'neutral' without any explanation or \n",
    "                               additional information. Text: \"\"\"\n",
    "\n",
    "customer_conversation[\"customer_sentiment\"] = customer_conversation.progress_apply(\n",
    "    lambda row: get_chat_message(\n",
    "        sentiment_analysis_prompt, row[\"conversation\"], INSTRUCT_MODEL_ID\n",
    "    ),\n",
    "    axis=1,\n",
    ")"
   ]
  },
  {
   "cell_type": "code",
   "execution_count": 99,
   "metadata": {},
   "outputs": [
    {
     "data": {
      "text/html": [
       "<div>\n",
       "<style scoped>\n",
       "    .dataframe tbody tr th:only-of-type {\n",
       "        vertical-align: middle;\n",
       "    }\n",
       "\n",
       "    .dataframe tbody tr th {\n",
       "        vertical-align: top;\n",
       "    }\n",
       "\n",
       "    .dataframe thead th {\n",
       "        text-align: right;\n",
       "    }\n",
       "</style>\n",
       "<table border=\"1\" class=\"dataframe\">\n",
       "  <thead>\n",
       "    <tr style=\"text-align: right;\">\n",
       "      <th></th>\n",
       "      <th>conversation</th>\n",
       "      <th>recording_date</th>\n",
       "      <th>location</th>\n",
       "      <th>customer_sentiment</th>\n",
       "    </tr>\n",
       "  </thead>\n",
       "  <tbody>\n",
       "    <tr>\n",
       "      <th>0</th>\n",
       "      <td>Agent: Thank you for calling BrownBox Customer Support. My name is Tom. How may I assist you today?\\n\\nCustomer: Hi Tom, I'm trying to log in to my account to purchase an Oven Toaster Grill (OTG), but I'm unable to proceed as it's asking for mobile number or email verification. Can you help me with that?\\n\\nAgent: Sure, I can assist you with that. May I know your registered mobile number or email address, please?\\n\\nCustomer: My registered mobile number is +1 123-456-7890.\\n\\nAgent: Thank you. Let me check that for you. I'm sorry to inform you that we don't have this number on our records. Can you please confirm if this is the correct number?\\n\\nCustomer: Oh, I'm sorry. I might have registered with a different number. Can you please check with my email address instead? It's johndoe@email.com.\\n\\nAgent: Sure, let me check that for you. (After a few moments) I see that we have your email address on our records. We'll be sending you a verification code shortly. Please check your email and let me know once you receive it.\\n\\nCustomer: Okay, I received the code. What do I do with it?\\n\\nAgent: Please enter the verification code in the field provided and click on 'Verify'. Once your email address is verified, you'll be able to proceed with your purchase.\\n\\nCustomer: Okay, I entered the code, and it's verified now. Thank you for your help.\\n\\nAgent: You're welcome. Is there anything else I can assist you with?\\n\\nCustomer: No, that's all. Thank you.\\n\\nAgent: You're welcome. Have a great day!</td>\n",
       "      <td>2024-09-15 21:22:04.825085</td>\n",
       "      <td>Los Angeles, CA</td>\n",
       "      <td>positive</td>\n",
       "    </tr>\n",
       "    <tr>\n",
       "      <th>1</th>\n",
       "      <td>Agent: Thank you for calling BrownBox customer support. My name is Alex. How may I assist you today?\\n\\nCustomer: Hi Alex. I recently received an email from BrownBox requesting me to ship back the computer monitor I purchased last week. Can you please tell me why I am being asked to ship it back?\\n\\nAgent: Sure, I'll be happy to help you with that. May I have your order number, please?\\n\\nCustomer: Yes, it's 789101.\\n\\nAgent: Thank you. Let me check the details of your order. (After a few seconds) I see that the monitor you purchased has been recalled by the manufacturer due to a technical issue. For safety reasons, we are requesting our customers to return the product, and we will be providing a full refund.\\n\\nCustomer: Oh, I see. That makes sense. Can you guide me through the process of returning the monitor?\\n\\nAgent: Of course. We will be sending you a prepaid shipping label via email within the next 24 hours. Please print the label, pack the monitor securely in its original packaging, and drop it off at any UPS store. Once we receive the product, we will initiate the refund process, and you will receive your money within 5-7 business days.\\n\\nCustomer: Okay, that sounds straightforward. Thank you for explaining the process to me.\\n\\nAgent: You're welcome. Is there anything else I can assist you with?\\n\\nCustomer: No, that's all for now. Thank you for your help.\\n\\nAgent: You're welcome. If you have any other questions or concerns, please don't hesitate to reach out to us. Have a great day!\\n\\nCustomer: You too. Goodbye.\\n\\nAgent: Goodbye.</td>\n",
       "      <td>2024-09-14 17:07:55.825122</td>\n",
       "      <td>New York, NY</td>\n",
       "      <td>negative</td>\n",
       "    </tr>\n",
       "  </tbody>\n",
       "</table>\n",
       "</div>"
      ],
      "text/plain": [
       "                                                                                                                                                                                                                                                                                                                                                                                                                                                                                                                                                                                                                                                                                                                                                                                                                                                                                                                                                                                                                                                                                                                                                                                                                                                                                                                                                                                                                                                                                                                                                                                                                         conversation  \\\n",
       "0                                                             Agent: Thank you for calling BrownBox Customer Support. My name is Tom. How may I assist you today?\\n\\nCustomer: Hi Tom, I'm trying to log in to my account to purchase an Oven Toaster Grill (OTG), but I'm unable to proceed as it's asking for mobile number or email verification. Can you help me with that?\\n\\nAgent: Sure, I can assist you with that. May I know your registered mobile number or email address, please?\\n\\nCustomer: My registered mobile number is +1 123-456-7890.\\n\\nAgent: Thank you. Let me check that for you. I'm sorry to inform you that we don't have this number on our records. Can you please confirm if this is the correct number?\\n\\nCustomer: Oh, I'm sorry. I might have registered with a different number. Can you please check with my email address instead? It's johndoe@email.com.\\n\\nAgent: Sure, let me check that for you. (After a few moments) I see that we have your email address on our records. We'll be sending you a verification code shortly. Please check your email and let me know once you receive it.\\n\\nCustomer: Okay, I received the code. What do I do with it?\\n\\nAgent: Please enter the verification code in the field provided and click on 'Verify'. Once your email address is verified, you'll be able to proceed with your purchase.\\n\\nCustomer: Okay, I entered the code, and it's verified now. Thank you for your help.\\n\\nAgent: You're welcome. Is there anything else I can assist you with?\\n\\nCustomer: No, that's all. Thank you.\\n\\nAgent: You're welcome. Have a great day!   \n",
       "1  Agent: Thank you for calling BrownBox customer support. My name is Alex. How may I assist you today?\\n\\nCustomer: Hi Alex. I recently received an email from BrownBox requesting me to ship back the computer monitor I purchased last week. Can you please tell me why I am being asked to ship it back?\\n\\nAgent: Sure, I'll be happy to help you with that. May I have your order number, please?\\n\\nCustomer: Yes, it's 789101.\\n\\nAgent: Thank you. Let me check the details of your order. (After a few seconds) I see that the monitor you purchased has been recalled by the manufacturer due to a technical issue. For safety reasons, we are requesting our customers to return the product, and we will be providing a full refund.\\n\\nCustomer: Oh, I see. That makes sense. Can you guide me through the process of returning the monitor?\\n\\nAgent: Of course. We will be sending you a prepaid shipping label via email within the next 24 hours. Please print the label, pack the monitor securely in its original packaging, and drop it off at any UPS store. Once we receive the product, we will initiate the refund process, and you will receive your money within 5-7 business days.\\n\\nCustomer: Okay, that sounds straightforward. Thank you for explaining the process to me.\\n\\nAgent: You're welcome. Is there anything else I can assist you with?\\n\\nCustomer: No, that's all for now. Thank you for your help.\\n\\nAgent: You're welcome. If you have any other questions or concerns, please don't hesitate to reach out to us. Have a great day!\\n\\nCustomer: You too. Goodbye.\\n\\nAgent: Goodbye.   \n",
       "\n",
       "              recording_date         location customer_sentiment  \n",
       "0 2024-09-15 21:22:04.825085  Los Angeles, CA           positive  \n",
       "1 2024-09-14 17:07:55.825122     New York, NY           negative  "
      ]
     },
     "execution_count": 99,
     "metadata": {},
     "output_type": "execute_result"
    }
   ],
   "source": [
    "customer_conversation.head(2)"
   ]
  },
  {
   "cell_type": "markdown",
   "metadata": {},
   "source": [
    "## Text Summarization"
   ]
  },
  {
   "cell_type": "code",
   "execution_count": 100,
   "metadata": {},
   "outputs": [
    {
     "name": "stderr",
     "output_type": "stream",
     "text": [
      "100%|██████████| 250/250 [05:39<00:00,  1.36s/it]\n"
     ]
    }
   ],
   "source": [
    "call_summary_prompt = (\n",
    "    \"Summarize the below call recording. Maxumum 100 Words. Recording: \"\n",
    ")\n",
    "\n",
    "\n",
    "customer_conversation[\"call_summary\"] = customer_conversation.progress_apply(\n",
    "    lambda row: get_chat_message(\n",
    "        call_summary_prompt, row[\"conversation\"], CHAT_MODEL_ID\n",
    "    ),\n",
    "    axis=1,\n",
    ")"
   ]
  },
  {
   "cell_type": "code",
   "execution_count": 101,
   "metadata": {},
   "outputs": [
    {
     "data": {
      "text/html": [
       "<div>\n",
       "<style scoped>\n",
       "    .dataframe tbody tr th:only-of-type {\n",
       "        vertical-align: middle;\n",
       "    }\n",
       "\n",
       "    .dataframe tbody tr th {\n",
       "        vertical-align: top;\n",
       "    }\n",
       "\n",
       "    .dataframe thead th {\n",
       "        text-align: right;\n",
       "    }\n",
       "</style>\n",
       "<table border=\"1\" class=\"dataframe\">\n",
       "  <thead>\n",
       "    <tr style=\"text-align: right;\">\n",
       "      <th></th>\n",
       "      <th>conversation</th>\n",
       "      <th>recording_date</th>\n",
       "      <th>location</th>\n",
       "      <th>customer_sentiment</th>\n",
       "      <th>call_summary</th>\n",
       "    </tr>\n",
       "  </thead>\n",
       "  <tbody>\n",
       "    <tr>\n",
       "      <th>0</th>\n",
       "      <td>Agent: Thank you for calling BrownBox Customer Support. My name is Tom. How may I assist you today?\\n\\nCustomer: Hi Tom, I'm trying to log in to my account to purchase an Oven Toaster Grill (OTG), but I'm unable to proceed as it's asking for mobile number or email verification. Can you help me with that?\\n\\nAgent: Sure, I can assist you with that. May I know your registered mobile number or email address, please?\\n\\nCustomer: My registered mobile number is +1 123-456-7890.\\n\\nAgent: Thank you. Let me check that for you. I'm sorry to inform you that we don't have this number on our records. Can you please confirm if this is the correct number?\\n\\nCustomer: Oh, I'm sorry. I might have registered with a different number. Can you please check with my email address instead? It's johndoe@email.com.\\n\\nAgent: Sure, let me check that for you. (After a few moments) I see that we have your email address on our records. We'll be sending you a verification code shortly. Please check your email and let me know once you receive it.\\n\\nCustomer: Okay, I received the code. What do I do with it?\\n\\nAgent: Please enter the verification code in the field provided and click on 'Verify'. Once your email address is verified, you'll be able to proceed with your purchase.\\n\\nCustomer: Okay, I entered the code, and it's verified now. Thank you for your help.\\n\\nAgent: You're welcome. Is there anything else I can assist you with?\\n\\nCustomer: No, that's all. Thank you.\\n\\nAgent: You're welcome. Have a great day!</td>\n",
       "      <td>2024-09-15 21:22:04.825085</td>\n",
       "      <td>Los Angeles, CA</td>\n",
       "      <td>positive</td>\n",
       "      <td>\\n\\nThe customer was able to successfully verify their email address and complete the purchase process. The agent was patient and helpful throughout the interaction, ensuring that the customer's issue was resolved.\\n</td>\n",
       "    </tr>\n",
       "    <tr>\n",
       "      <th>1</th>\n",
       "      <td>Agent: Thank you for calling BrownBox customer support. My name is Alex. How may I assist you today?\\n\\nCustomer: Hi Alex. I recently received an email from BrownBox requesting me to ship back the computer monitor I purchased last week. Can you please tell me why I am being asked to ship it back?\\n\\nAgent: Sure, I'll be happy to help you with that. May I have your order number, please?\\n\\nCustomer: Yes, it's 789101.\\n\\nAgent: Thank you. Let me check the details of your order. (After a few seconds) I see that the monitor you purchased has been recalled by the manufacturer due to a technical issue. For safety reasons, we are requesting our customers to return the product, and we will be providing a full refund.\\n\\nCustomer: Oh, I see. That makes sense. Can you guide me through the process of returning the monitor?\\n\\nAgent: Of course. We will be sending you a prepaid shipping label via email within the next 24 hours. Please print the label, pack the monitor securely in its original packaging, and drop it off at any UPS store. Once we receive the product, we will initiate the refund process, and you will receive your money within 5-7 business days.\\n\\nCustomer: Okay, that sounds straightforward. Thank you for explaining the process to me.\\n\\nAgent: You're welcome. Is there anything else I can assist you with?\\n\\nCustomer: No, that's all for now. Thank you for your help.\\n\\nAgent: You're welcome. If you have any other questions or concerns, please don't hesitate to reach out to us. Have a great day!\\n\\nCustomer: You too. Goodbye.\\n\\nAgent: Goodbye.</td>\n",
       "      <td>2024-09-14 17:07:55.825122</td>\n",
       "      <td>New York, NY</td>\n",
       "      <td>negative</td>\n",
       "      <td>\\n\\nIn this call recording, the customer expresses concern about a recall notice for a computer monitor they recently purchased from BrownBox. The agent provides clear instructions on how to return the product and ensures the customer that a full refund will be issued. The interaction demonstrates effective customer service and transparency in addressing the customer's issue.</td>\n",
       "    </tr>\n",
       "  </tbody>\n",
       "</table>\n",
       "</div>"
      ],
      "text/plain": [
       "                                                                                                                                                                                                                                                                                                                                                                                                                                                                                                                                                                                                                                                                                                                                                                                                                                                                                                                                                                                                                                                                                                                                                                                                                                                                                                                                                                                                                                                                                                                                                                                                                         conversation  \\\n",
       "0                                                             Agent: Thank you for calling BrownBox Customer Support. My name is Tom. How may I assist you today?\\n\\nCustomer: Hi Tom, I'm trying to log in to my account to purchase an Oven Toaster Grill (OTG), but I'm unable to proceed as it's asking for mobile number or email verification. Can you help me with that?\\n\\nAgent: Sure, I can assist you with that. May I know your registered mobile number or email address, please?\\n\\nCustomer: My registered mobile number is +1 123-456-7890.\\n\\nAgent: Thank you. Let me check that for you. I'm sorry to inform you that we don't have this number on our records. Can you please confirm if this is the correct number?\\n\\nCustomer: Oh, I'm sorry. I might have registered with a different number. Can you please check with my email address instead? It's johndoe@email.com.\\n\\nAgent: Sure, let me check that for you. (After a few moments) I see that we have your email address on our records. We'll be sending you a verification code shortly. Please check your email and let me know once you receive it.\\n\\nCustomer: Okay, I received the code. What do I do with it?\\n\\nAgent: Please enter the verification code in the field provided and click on 'Verify'. Once your email address is verified, you'll be able to proceed with your purchase.\\n\\nCustomer: Okay, I entered the code, and it's verified now. Thank you for your help.\\n\\nAgent: You're welcome. Is there anything else I can assist you with?\\n\\nCustomer: No, that's all. Thank you.\\n\\nAgent: You're welcome. Have a great day!   \n",
       "1  Agent: Thank you for calling BrownBox customer support. My name is Alex. How may I assist you today?\\n\\nCustomer: Hi Alex. I recently received an email from BrownBox requesting me to ship back the computer monitor I purchased last week. Can you please tell me why I am being asked to ship it back?\\n\\nAgent: Sure, I'll be happy to help you with that. May I have your order number, please?\\n\\nCustomer: Yes, it's 789101.\\n\\nAgent: Thank you. Let me check the details of your order. (After a few seconds) I see that the monitor you purchased has been recalled by the manufacturer due to a technical issue. For safety reasons, we are requesting our customers to return the product, and we will be providing a full refund.\\n\\nCustomer: Oh, I see. That makes sense. Can you guide me through the process of returning the monitor?\\n\\nAgent: Of course. We will be sending you a prepaid shipping label via email within the next 24 hours. Please print the label, pack the monitor securely in its original packaging, and drop it off at any UPS store. Once we receive the product, we will initiate the refund process, and you will receive your money within 5-7 business days.\\n\\nCustomer: Okay, that sounds straightforward. Thank you for explaining the process to me.\\n\\nAgent: You're welcome. Is there anything else I can assist you with?\\n\\nCustomer: No, that's all for now. Thank you for your help.\\n\\nAgent: You're welcome. If you have any other questions or concerns, please don't hesitate to reach out to us. Have a great day!\\n\\nCustomer: You too. Goodbye.\\n\\nAgent: Goodbye.   \n",
       "\n",
       "              recording_date         location customer_sentiment  \\\n",
       "0 2024-09-15 21:22:04.825085  Los Angeles, CA           positive   \n",
       "1 2024-09-14 17:07:55.825122     New York, NY           negative   \n",
       "\n",
       "                                                                                                                                                                                                                                                                                                                                                                                 call_summary  \n",
       "0                                                                                                                                                                    \\n\\nThe customer was able to successfully verify their email address and complete the purchase process. The agent was patient and helpful throughout the interaction, ensuring that the customer's issue was resolved.\\n  \n",
       "1  \\n\\nIn this call recording, the customer expresses concern about a recall notice for a computer monitor they recently purchased from BrownBox. The agent provides clear instructions on how to return the product and ensures the customer that a full refund will be issued. The interaction demonstrates effective customer service and transparency in addressing the customer's issue.  "
      ]
     },
     "execution_count": 101,
     "metadata": {},
     "output_type": "execute_result"
    }
   ],
   "source": [
    "customer_conversation.head(2)"
   ]
  },
  {
   "cell_type": "markdown",
   "metadata": {},
   "source": [
    "## Feature Extraction"
   ]
  },
  {
   "cell_type": "code",
   "execution_count": 102,
   "metadata": {},
   "outputs": [
    {
     "name": "stderr",
     "output_type": "stream",
     "text": [
      "100%|██████████| 250/250 [18:29<00:00,  4.44s/it]\n"
     ]
    }
   ],
   "source": [
    "feature_extraction_prompt = \"\"\"\n",
    "For the below conversation i want to do feature extraction.The output should be in json format. \n",
    "The output must contains following details issue, action_taken, product_interest, customer_details, resolution,additional_support_needed. \n",
    "No explanation needed. Just the json output. \n",
    "In case if customer_details are not present populate it as NULL. \n",
    "In case any other details are not present populate as NA. But tags must be present. \n",
    "Do not make up information if it is not available in the below conversation. Conversation - \n",
    "\"\"\"\n",
    "customer_conversation[\"feature_extraction\"] = customer_conversation.progress_apply(\n",
    "    lambda row: get_chat_message(\n",
    "        feature_extraction_prompt, row[\"conversation\"], CHAT_MODEL_ID\n",
    "    ),\n",
    "    axis=1,\n",
    ")"
   ]
  },
  {
   "cell_type": "code",
   "execution_count": 103,
   "metadata": {},
   "outputs": [
    {
     "data": {
      "text/html": [
       "<div>\n",
       "<style scoped>\n",
       "    .dataframe tbody tr th:only-of-type {\n",
       "        vertical-align: middle;\n",
       "    }\n",
       "\n",
       "    .dataframe tbody tr th {\n",
       "        vertical-align: top;\n",
       "    }\n",
       "\n",
       "    .dataframe thead th {\n",
       "        text-align: right;\n",
       "    }\n",
       "</style>\n",
       "<table border=\"1\" class=\"dataframe\">\n",
       "  <thead>\n",
       "    <tr style=\"text-align: right;\">\n",
       "      <th></th>\n",
       "      <th>conversation</th>\n",
       "      <th>recording_date</th>\n",
       "      <th>location</th>\n",
       "      <th>customer_sentiment</th>\n",
       "      <th>call_summary</th>\n",
       "      <th>feature_extraction</th>\n",
       "    </tr>\n",
       "  </thead>\n",
       "  <tbody>\n",
       "    <tr>\n",
       "      <th>0</th>\n",
       "      <td>Agent: Thank you for calling BrownBox Customer Support. My name is Tom. How may I assist you today?\\n\\nCustomer: Hi Tom, I'm trying to log in to my account to purchase an Oven Toaster Grill (OTG), but I'm unable to proceed as it's asking for mobile number or email verification. Can you help me with that?\\n\\nAgent: Sure, I can assist you with that. May I know your registered mobile number or email address, please?\\n\\nCustomer: My registered mobile number is +1 123-456-7890.\\n\\nAgent: Thank you. Let me check that for you. I'm sorry to inform you that we don't have this number on our records. Can you please confirm if this is the correct number?\\n\\nCustomer: Oh, I'm sorry. I might have registered with a different number. Can you please check with my email address instead? It's johndoe@email.com.\\n\\nAgent: Sure, let me check that for you. (After a few moments) I see that we have your email address on our records. We'll be sending you a verification code shortly. Please check your email and let me know once you receive it.\\n\\nCustomer: Okay, I received the code. What do I do with it?\\n\\nAgent: Please enter the verification code in the field provided and click on 'Verify'. Once your email address is verified, you'll be able to proceed with your purchase.\\n\\nCustomer: Okay, I entered the code, and it's verified now. Thank you for your help.\\n\\nAgent: You're welcome. Is there anything else I can assist you with?\\n\\nCustomer: No, that's all. Thank you.\\n\\nAgent: You're welcome. Have a great day!</td>\n",
       "      <td>2024-09-15 21:22:04.825085</td>\n",
       "      <td>Los Angeles, CA</td>\n",
       "      <td>positive</td>\n",
       "      <td>\\n\\nThe customer was able to successfully verify their email address and complete the purchase process. The agent was patient and helpful throughout the interaction, ensuring that the customer's issue was resolved.\\n</td>\n",
       "      <td>\\n\\nOutput in JSON format:\\n{\\n  \"issue\": \"customer is unable to proceed with purchasing an OTG due to mobile number or email verification issue\",\\n  \"action_taken\": \"provided assistance in verifying the email address\",\\n  \"product_interest\": \"OTG\",\\n  \"customer_details\": {\\n    \"name\": \"John Doe\",\\n    \"email\": \"johndoe@email.com\"\\n  },\\n  \"resolution\": \"email address verified and issue resolved\",\\n  \"additional_support_needed\": \"NA\"\\n}\\n\\nNote: In case if the customer_details are not present, populate it as NULL. In case any other details are not present, populate as NA. But tags must be present.</td>\n",
       "    </tr>\n",
       "    <tr>\n",
       "      <th>1</th>\n",
       "      <td>Agent: Thank you for calling BrownBox customer support. My name is Alex. How may I assist you today?\\n\\nCustomer: Hi Alex. I recently received an email from BrownBox requesting me to ship back the computer monitor I purchased last week. Can you please tell me why I am being asked to ship it back?\\n\\nAgent: Sure, I'll be happy to help you with that. May I have your order number, please?\\n\\nCustomer: Yes, it's 789101.\\n\\nAgent: Thank you. Let me check the details of your order. (After a few seconds) I see that the monitor you purchased has been recalled by the manufacturer due to a technical issue. For safety reasons, we are requesting our customers to return the product, and we will be providing a full refund.\\n\\nCustomer: Oh, I see. That makes sense. Can you guide me through the process of returning the monitor?\\n\\nAgent: Of course. We will be sending you a prepaid shipping label via email within the next 24 hours. Please print the label, pack the monitor securely in its original packaging, and drop it off at any UPS store. Once we receive the product, we will initiate the refund process, and you will receive your money within 5-7 business days.\\n\\nCustomer: Okay, that sounds straightforward. Thank you for explaining the process to me.\\n\\nAgent: You're welcome. Is there anything else I can assist you with?\\n\\nCustomer: No, that's all for now. Thank you for your help.\\n\\nAgent: You're welcome. If you have any other questions or concerns, please don't hesitate to reach out to us. Have a great day!\\n\\nCustomer: You too. Goodbye.\\n\\nAgent: Goodbye.</td>\n",
       "      <td>2024-09-14 17:07:55.825122</td>\n",
       "      <td>New York, NY</td>\n",
       "      <td>negative</td>\n",
       "      <td>\\n\\nIn this call recording, the customer expresses concern about a recall notice for a computer monitor they recently purchased from BrownBox. The agent provides clear instructions on how to return the product and ensures the customer that a full refund will be issued. The interaction demonstrates effective customer service and transparency in addressing the customer's issue.</td>\n",
       "      <td>\\n\\nOutput in JSON format:\\n{\\n\"issue\": \"Product recall\",\\n\"action_taken\": \"Returning the product\",\\n\"product_interest\": \"Computer monitor\",\\n\"customer_details\": {\\n\"name\": \"John Doe\",\\n\"email\": \"john.doe@example.com\"\\n},\\n\"resolution\": \"Refund initiated\",\\n\"additional_support_needed\": \"N/A\"\\n}\\n\\nNote: In this example, the customer's name and email address are not provided, so they are not included in the JSON output. However, the JSON format still includes the \"customer\\_details\" field with placeholders for these values.\\n\\nAdditionally, the \"resolution\" value is \"Refund initiated\" because the customer will receive a refund once the monitor is returned. The actual refund process may take 5-7 business days to complete.</td>\n",
       "    </tr>\n",
       "  </tbody>\n",
       "</table>\n",
       "</div>"
      ],
      "text/plain": [
       "                                                                                                                                                                                                                                                                                                                                                                                                                                                                                                                                                                                                                                                                                                                                                                                                                                                                                                                                                                                                                                                                                                                                                                                                                                                                                                                                                                                                                                                                                                                                                                                                                         conversation  \\\n",
       "0                                                             Agent: Thank you for calling BrownBox Customer Support. My name is Tom. How may I assist you today?\\n\\nCustomer: Hi Tom, I'm trying to log in to my account to purchase an Oven Toaster Grill (OTG), but I'm unable to proceed as it's asking for mobile number or email verification. Can you help me with that?\\n\\nAgent: Sure, I can assist you with that. May I know your registered mobile number or email address, please?\\n\\nCustomer: My registered mobile number is +1 123-456-7890.\\n\\nAgent: Thank you. Let me check that for you. I'm sorry to inform you that we don't have this number on our records. Can you please confirm if this is the correct number?\\n\\nCustomer: Oh, I'm sorry. I might have registered with a different number. Can you please check with my email address instead? It's johndoe@email.com.\\n\\nAgent: Sure, let me check that for you. (After a few moments) I see that we have your email address on our records. We'll be sending you a verification code shortly. Please check your email and let me know once you receive it.\\n\\nCustomer: Okay, I received the code. What do I do with it?\\n\\nAgent: Please enter the verification code in the field provided and click on 'Verify'. Once your email address is verified, you'll be able to proceed with your purchase.\\n\\nCustomer: Okay, I entered the code, and it's verified now. Thank you for your help.\\n\\nAgent: You're welcome. Is there anything else I can assist you with?\\n\\nCustomer: No, that's all. Thank you.\\n\\nAgent: You're welcome. Have a great day!   \n",
       "1  Agent: Thank you for calling BrownBox customer support. My name is Alex. How may I assist you today?\\n\\nCustomer: Hi Alex. I recently received an email from BrownBox requesting me to ship back the computer monitor I purchased last week. Can you please tell me why I am being asked to ship it back?\\n\\nAgent: Sure, I'll be happy to help you with that. May I have your order number, please?\\n\\nCustomer: Yes, it's 789101.\\n\\nAgent: Thank you. Let me check the details of your order. (After a few seconds) I see that the monitor you purchased has been recalled by the manufacturer due to a technical issue. For safety reasons, we are requesting our customers to return the product, and we will be providing a full refund.\\n\\nCustomer: Oh, I see. That makes sense. Can you guide me through the process of returning the monitor?\\n\\nAgent: Of course. We will be sending you a prepaid shipping label via email within the next 24 hours. Please print the label, pack the monitor securely in its original packaging, and drop it off at any UPS store. Once we receive the product, we will initiate the refund process, and you will receive your money within 5-7 business days.\\n\\nCustomer: Okay, that sounds straightforward. Thank you for explaining the process to me.\\n\\nAgent: You're welcome. Is there anything else I can assist you with?\\n\\nCustomer: No, that's all for now. Thank you for your help.\\n\\nAgent: You're welcome. If you have any other questions or concerns, please don't hesitate to reach out to us. Have a great day!\\n\\nCustomer: You too. Goodbye.\\n\\nAgent: Goodbye.   \n",
       "\n",
       "              recording_date         location customer_sentiment  \\\n",
       "0 2024-09-15 21:22:04.825085  Los Angeles, CA           positive   \n",
       "1 2024-09-14 17:07:55.825122     New York, NY           negative   \n",
       "\n",
       "                                                                                                                                                                                                                                                                                                                                                                                 call_summary  \\\n",
       "0                                                                                                                                                                    \\n\\nThe customer was able to successfully verify their email address and complete the purchase process. The agent was patient and helpful throughout the interaction, ensuring that the customer's issue was resolved.\\n   \n",
       "1  \\n\\nIn this call recording, the customer expresses concern about a recall notice for a computer monitor they recently purchased from BrownBox. The agent provides clear instructions on how to return the product and ensures the customer that a full refund will be issued. The interaction demonstrates effective customer service and transparency in addressing the customer's issue.   \n",
       "\n",
       "                                                                                                                                                                                                                                                                                                                                                                                                                                                                                                                                                                                                                                                                                                                                          feature_extraction  \n",
       "0                                                                                                                              \\n\\nOutput in JSON format:\\n{\\n  \"issue\": \"customer is unable to proceed with purchasing an OTG due to mobile number or email verification issue\",\\n  \"action_taken\": \"provided assistance in verifying the email address\",\\n  \"product_interest\": \"OTG\",\\n  \"customer_details\": {\\n    \"name\": \"John Doe\",\\n    \"email\": \"johndoe@email.com\"\\n  },\\n  \"resolution\": \"email address verified and issue resolved\",\\n  \"additional_support_needed\": \"NA\"\\n}\\n\\nNote: In case if the customer_details are not present, populate it as NULL. In case any other details are not present, populate as NA. But tags must be present.  \n",
       "1  \\n\\nOutput in JSON format:\\n{\\n\"issue\": \"Product recall\",\\n\"action_taken\": \"Returning the product\",\\n\"product_interest\": \"Computer monitor\",\\n\"customer_details\": {\\n\"name\": \"John Doe\",\\n\"email\": \"john.doe@example.com\"\\n},\\n\"resolution\": \"Refund initiated\",\\n\"additional_support_needed\": \"N/A\"\\n}\\n\\nNote: In this example, the customer's name and email address are not provided, so they are not included in the JSON output. However, the JSON format still includes the \"customer\\_details\" field with placeholders for these values.\\n\\nAdditionally, the \"resolution\" value is \"Refund initiated\" because the customer will receive a refund once the monitor is returned. The actual refund process may take 5-7 business days to complete.  "
      ]
     },
     "execution_count": 103,
     "metadata": {},
     "output_type": "execute_result"
    }
   ],
   "source": [
    "customer_conversation.head(2)"
   ]
  },
  {
   "cell_type": "markdown",
   "metadata": {},
   "source": [
    "## As the feature extraction data contains json data along with text values, we have to do further data manipulation to extract the json data."
   ]
  },
  {
   "cell_type": "code",
   "execution_count": 104,
   "metadata": {},
   "outputs": [
    {
     "name": "stderr",
     "output_type": "stream",
     "text": [
      "100%|██████████| 250/250 [00:00<00:00, 39015.33it/s]\n"
     ]
    }
   ],
   "source": [
    "import json\n",
    "import re\n",
    "\n",
    "# Function to extract JSON from the text\n",
    "def extract_json_from_text(text):\n",
    "    try:\n",
    "        # Use regular expressions to extract the JSON part\n",
    "        json_match = re.search(r\"\\{.*\\}\", text, re.DOTALL)\n",
    "        if json_match:\n",
    "            json_str = json_match.group(0)\n",
    "            json_data = json.loads(json_str)  # Parse the JSON string into a dictionary\n",
    "\n",
    "            # Ensure all required tags are present\n",
    "            json_data[\"issue\"] = json_data.get(\"issue\", \"NA\")\n",
    "            json_data[\"action_taken\"] = json_data.get(\"action_taken\", \"NA\")\n",
    "            json_data[\"product_interest\"] = json_data.get(\"product_interest\", \"NA\")\n",
    "            json_data[\"customer_details\"] = json_data.get(\n",
    "                \"customer_details\", None\n",
    "            )  # Set as NULL if absent\n",
    "            json_data[\"resolution\"] = json_data.get(\"resolution\", \"NA\")\n",
    "            json_data[\"additional_support_needed\"] = json_data.get(\n",
    "                \"additional_support_needed\", \"NA\"\n",
    "            )\n",
    "\n",
    "            return json.dumps(json_data)\n",
    "        else:\n",
    "            return None\n",
    "    except (json.JSONDecodeError, TypeError):\n",
    "        return None  # Return None if it's not a valid JSON\n",
    "\n",
    "\n",
    "# Apply the function to the column\n",
    "customer_conversation[\"feature_extraction\"] = customer_conversation[\n",
    "    \"feature_extraction\"\n",
    "].progress_apply(extract_json_from_text)"
   ]
  },
  {
   "cell_type": "code",
   "execution_count": 105,
   "metadata": {},
   "outputs": [
    {
     "data": {
      "text/html": [
       "<div>\n",
       "<style scoped>\n",
       "    .dataframe tbody tr th:only-of-type {\n",
       "        vertical-align: middle;\n",
       "    }\n",
       "\n",
       "    .dataframe tbody tr th {\n",
       "        vertical-align: top;\n",
       "    }\n",
       "\n",
       "    .dataframe thead th {\n",
       "        text-align: right;\n",
       "    }\n",
       "</style>\n",
       "<table border=\"1\" class=\"dataframe\">\n",
       "  <thead>\n",
       "    <tr style=\"text-align: right;\">\n",
       "      <th></th>\n",
       "      <th>conversation</th>\n",
       "      <th>recording_date</th>\n",
       "      <th>location</th>\n",
       "      <th>customer_sentiment</th>\n",
       "      <th>call_summary</th>\n",
       "      <th>feature_extraction</th>\n",
       "    </tr>\n",
       "  </thead>\n",
       "  <tbody>\n",
       "    <tr>\n",
       "      <th>0</th>\n",
       "      <td>Agent: Thank you for calling BrownBox Customer Support. My name is Tom. How may I assist you today?\\n\\nCustomer: Hi Tom, I'm trying to log in to my account to purchase an Oven Toaster Grill (OTG), but I'm unable to proceed as it's asking for mobile number or email verification. Can you help me with that?\\n\\nAgent: Sure, I can assist you with that. May I know your registered mobile number or email address, please?\\n\\nCustomer: My registered mobile number is +1 123-456-7890.\\n\\nAgent: Thank you. Let me check that for you. I'm sorry to inform you that we don't have this number on our records. Can you please confirm if this is the correct number?\\n\\nCustomer: Oh, I'm sorry. I might have registered with a different number. Can you please check with my email address instead? It's johndoe@email.com.\\n\\nAgent: Sure, let me check that for you. (After a few moments) I see that we have your email address on our records. We'll be sending you a verification code shortly. Please check your email and let me know once you receive it.\\n\\nCustomer: Okay, I received the code. What do I do with it?\\n\\nAgent: Please enter the verification code in the field provided and click on 'Verify'. Once your email address is verified, you'll be able to proceed with your purchase.\\n\\nCustomer: Okay, I entered the code, and it's verified now. Thank you for your help.\\n\\nAgent: You're welcome. Is there anything else I can assist you with?\\n\\nCustomer: No, that's all. Thank you.\\n\\nAgent: You're welcome. Have a great day!</td>\n",
       "      <td>2024-09-15 21:22:04.825085</td>\n",
       "      <td>Los Angeles, CA</td>\n",
       "      <td>positive</td>\n",
       "      <td>\\n\\nThe customer was able to successfully verify their email address and complete the purchase process. The agent was patient and helpful throughout the interaction, ensuring that the customer's issue was resolved.\\n</td>\n",
       "      <td>{\"issue\": \"customer is unable to proceed with purchasing an OTG due to mobile number or email verification issue\", \"action_taken\": \"provided assistance in verifying the email address\", \"product_interest\": \"OTG\", \"customer_details\": {\"name\": \"John Doe\", \"email\": \"johndoe@email.com\"}, \"resolution\": \"email address verified and issue resolved\", \"additional_support_needed\": \"NA\"}</td>\n",
       "    </tr>\n",
       "    <tr>\n",
       "      <th>1</th>\n",
       "      <td>Agent: Thank you for calling BrownBox customer support. My name is Alex. How may I assist you today?\\n\\nCustomer: Hi Alex. I recently received an email from BrownBox requesting me to ship back the computer monitor I purchased last week. Can you please tell me why I am being asked to ship it back?\\n\\nAgent: Sure, I'll be happy to help you with that. May I have your order number, please?\\n\\nCustomer: Yes, it's 789101.\\n\\nAgent: Thank you. Let me check the details of your order. (After a few seconds) I see that the monitor you purchased has been recalled by the manufacturer due to a technical issue. For safety reasons, we are requesting our customers to return the product, and we will be providing a full refund.\\n\\nCustomer: Oh, I see. That makes sense. Can you guide me through the process of returning the monitor?\\n\\nAgent: Of course. We will be sending you a prepaid shipping label via email within the next 24 hours. Please print the label, pack the monitor securely in its original packaging, and drop it off at any UPS store. Once we receive the product, we will initiate the refund process, and you will receive your money within 5-7 business days.\\n\\nCustomer: Okay, that sounds straightforward. Thank you for explaining the process to me.\\n\\nAgent: You're welcome. Is there anything else I can assist you with?\\n\\nCustomer: No, that's all for now. Thank you for your help.\\n\\nAgent: You're welcome. If you have any other questions or concerns, please don't hesitate to reach out to us. Have a great day!\\n\\nCustomer: You too. Goodbye.\\n\\nAgent: Goodbye.</td>\n",
       "      <td>2024-09-14 17:07:55.825122</td>\n",
       "      <td>New York, NY</td>\n",
       "      <td>negative</td>\n",
       "      <td>\\n\\nIn this call recording, the customer expresses concern about a recall notice for a computer monitor they recently purchased from BrownBox. The agent provides clear instructions on how to return the product and ensures the customer that a full refund will be issued. The interaction demonstrates effective customer service and transparency in addressing the customer's issue.</td>\n",
       "      <td>{\"issue\": \"Product recall\", \"action_taken\": \"Returning the product\", \"product_interest\": \"Computer monitor\", \"customer_details\": {\"name\": \"John Doe\", \"email\": \"john.doe@example.com\"}, \"resolution\": \"Refund initiated\", \"additional_support_needed\": \"N/A\"}</td>\n",
       "    </tr>\n",
       "  </tbody>\n",
       "</table>\n",
       "</div>"
      ],
      "text/plain": [
       "                                                                                                                                                                                                                                                                                                                                                                                                                                                                                                                                                                                                                                                                                                                                                                                                                                                                                                                                                                                                                                                                                                                                                                                                                                                                                                                                                                                                                                                                                                                                                                                                                         conversation  \\\n",
       "0                                                             Agent: Thank you for calling BrownBox Customer Support. My name is Tom. How may I assist you today?\\n\\nCustomer: Hi Tom, I'm trying to log in to my account to purchase an Oven Toaster Grill (OTG), but I'm unable to proceed as it's asking for mobile number or email verification. Can you help me with that?\\n\\nAgent: Sure, I can assist you with that. May I know your registered mobile number or email address, please?\\n\\nCustomer: My registered mobile number is +1 123-456-7890.\\n\\nAgent: Thank you. Let me check that for you. I'm sorry to inform you that we don't have this number on our records. Can you please confirm if this is the correct number?\\n\\nCustomer: Oh, I'm sorry. I might have registered with a different number. Can you please check with my email address instead? It's johndoe@email.com.\\n\\nAgent: Sure, let me check that for you. (After a few moments) I see that we have your email address on our records. We'll be sending you a verification code shortly. Please check your email and let me know once you receive it.\\n\\nCustomer: Okay, I received the code. What do I do with it?\\n\\nAgent: Please enter the verification code in the field provided and click on 'Verify'. Once your email address is verified, you'll be able to proceed with your purchase.\\n\\nCustomer: Okay, I entered the code, and it's verified now. Thank you for your help.\\n\\nAgent: You're welcome. Is there anything else I can assist you with?\\n\\nCustomer: No, that's all. Thank you.\\n\\nAgent: You're welcome. Have a great day!   \n",
       "1  Agent: Thank you for calling BrownBox customer support. My name is Alex. How may I assist you today?\\n\\nCustomer: Hi Alex. I recently received an email from BrownBox requesting me to ship back the computer monitor I purchased last week. Can you please tell me why I am being asked to ship it back?\\n\\nAgent: Sure, I'll be happy to help you with that. May I have your order number, please?\\n\\nCustomer: Yes, it's 789101.\\n\\nAgent: Thank you. Let me check the details of your order. (After a few seconds) I see that the monitor you purchased has been recalled by the manufacturer due to a technical issue. For safety reasons, we are requesting our customers to return the product, and we will be providing a full refund.\\n\\nCustomer: Oh, I see. That makes sense. Can you guide me through the process of returning the monitor?\\n\\nAgent: Of course. We will be sending you a prepaid shipping label via email within the next 24 hours. Please print the label, pack the monitor securely in its original packaging, and drop it off at any UPS store. Once we receive the product, we will initiate the refund process, and you will receive your money within 5-7 business days.\\n\\nCustomer: Okay, that sounds straightforward. Thank you for explaining the process to me.\\n\\nAgent: You're welcome. Is there anything else I can assist you with?\\n\\nCustomer: No, that's all for now. Thank you for your help.\\n\\nAgent: You're welcome. If you have any other questions or concerns, please don't hesitate to reach out to us. Have a great day!\\n\\nCustomer: You too. Goodbye.\\n\\nAgent: Goodbye.   \n",
       "\n",
       "              recording_date         location customer_sentiment  \\\n",
       "0 2024-09-15 21:22:04.825085  Los Angeles, CA           positive   \n",
       "1 2024-09-14 17:07:55.825122     New York, NY           negative   \n",
       "\n",
       "                                                                                                                                                                                                                                                                                                                                                                                 call_summary  \\\n",
       "0                                                                                                                                                                    \\n\\nThe customer was able to successfully verify their email address and complete the purchase process. The agent was patient and helpful throughout the interaction, ensuring that the customer's issue was resolved.\\n   \n",
       "1  \\n\\nIn this call recording, the customer expresses concern about a recall notice for a computer monitor they recently purchased from BrownBox. The agent provides clear instructions on how to return the product and ensures the customer that a full refund will be issued. The interaction demonstrates effective customer service and transparency in addressing the customer's issue.   \n",
       "\n",
       "                                                                                                                                                                                                                                                                                                                                                                          feature_extraction  \n",
       "0  {\"issue\": \"customer is unable to proceed with purchasing an OTG due to mobile number or email verification issue\", \"action_taken\": \"provided assistance in verifying the email address\", \"product_interest\": \"OTG\", \"customer_details\": {\"name\": \"John Doe\", \"email\": \"johndoe@email.com\"}, \"resolution\": \"email address verified and issue resolved\", \"additional_support_needed\": \"NA\"}  \n",
       "1                                                                                                                              {\"issue\": \"Product recall\", \"action_taken\": \"Returning the product\", \"product_interest\": \"Computer monitor\", \"customer_details\": {\"name\": \"John Doe\", \"email\": \"john.doe@example.com\"}, \"resolution\": \"Refund initiated\", \"additional_support_needed\": \"N/A\"}  "
      ]
     },
     "execution_count": 105,
     "metadata": {},
     "output_type": "execute_result"
    }
   ],
   "source": [
    "customer_conversation.head(2)"
   ]
  },
  {
   "cell_type": "code",
   "execution_count": 106,
   "metadata": {},
   "outputs": [],
   "source": [
    "customer_conversation.replace('', 'unknown', inplace=True)"
   ]
  },
  {
   "cell_type": "markdown",
   "metadata": {},
   "source": [
    "## Save the data as json file"
   ]
  },
  {
   "cell_type": "code",
   "execution_count": 107,
   "metadata": {},
   "outputs": [],
   "source": [
    "# Assuming customer_conversation is your DataFrame\n",
    "#df = customer_conversation.applymap(\n",
    "   # lambda x: x.replace('\"', \"\") if isinstance(x, str) else x\n",
    "#)\n",
    "#df = df.applymap(lambda x: x.replace(\"'\", \"\") if isinstance(x, str) else x)\n",
    "#df = df.applymap(lambda x: x.replace(\"\\n\", \"\") if isinstance(x, str) else x)\n",
    "\n",
    "customer_conversation.to_json(\n",
    "    os.path.join(os.getcwd(), \"result.json\"),\n",
    "    orient=\"records\",\n",
    "    indent=4,\n",
    "    date_format=\"iso\"\n",
    ")\n"
   ]
  },
  {
   "cell_type": "markdown",
   "metadata": {},
   "source": [
    "## Create Metrice"
   ]
  },
  {
   "cell_type": "code",
   "execution_count": 108,
   "metadata": {},
   "outputs": [],
   "source": [
    "import plotly.express as px\n",
    "import pandas as pd\n",
    "import os\n",
    "import plotly.graph_objects as go\n",
    "import pandas as pd\n",
    "import numpy as np\n",
    "import warnings\n",
    "import json\n",
    "from wordcloud import WordCloud\n",
    "import matplotlib.pyplot as plt\n",
    "from io import BytesIO\n",
    "import base64\n",
    "\n",
    "warnings.filterwarnings(\"ignore\")"
   ]
  },
  {
   "cell_type": "markdown",
   "metadata": {},
   "source": [
    "## Customer Sentiment by Day"
   ]
  },
  {
   "cell_type": "code",
   "execution_count": 109,
   "metadata": {},
   "outputs": [
    {
     "data": {
      "application/vnd.plotly.v1+json": {
       "config": {
        "plotlyServerURL": "https://plot.ly"
       },
       "data": [
        {
         "alignmentgroup": "True",
         "hovertemplate": "Sentiment=positive<br>Date=%{x}<br>Count=%{text}<extra></extra>",
         "legendgroup": "positive",
         "marker": {
          "color": "#636efa",
          "pattern": {
           "shape": ""
          }
         },
         "name": "positive",
         "offsetgroup": "positive",
         "orientation": "v",
         "showlegend": true,
         "text": [
          5,
          5,
          10,
          10,
          4,
          10,
          7,
          4,
          3
         ],
         "textposition": "auto",
         "type": "bar",
         "x": [
          "2024-09-12",
          "2024-09-13",
          "2024-09-14",
          "2024-09-15",
          "2024-09-16",
          "2024-09-17",
          "2024-09-18",
          "2024-09-19",
          "2024-09-20"
         ],
         "xaxis": "x",
         "y": [
          5,
          5,
          10,
          10,
          4,
          10,
          7,
          4,
          3
         ],
         "yaxis": "y"
        },
        {
         "alignmentgroup": "True",
         "hovertemplate": "Sentiment=neutral<br>Date=%{x}<br>Count=%{text}<extra></extra>",
         "legendgroup": "neutral",
         "marker": {
          "color": "#EF553B",
          "pattern": {
           "shape": ""
          }
         },
         "name": "neutral",
         "offsetgroup": "neutral",
         "orientation": "v",
         "showlegend": true,
         "text": [
          0,
          2,
          3,
          2,
          3,
          0,
          4,
          1,
          0
         ],
         "textposition": "auto",
         "type": "bar",
         "x": [
          "2024-09-12",
          "2024-09-13",
          "2024-09-14",
          "2024-09-15",
          "2024-09-16",
          "2024-09-17",
          "2024-09-18",
          "2024-09-19",
          "2024-09-20"
         ],
         "xaxis": "x",
         "y": [
          0,
          2,
          3,
          2,
          3,
          0,
          4,
          1,
          0
         ],
         "yaxis": "y"
        },
        {
         "alignmentgroup": "True",
         "hovertemplate": "Sentiment=negative<br>Date=%{x}<br>Count=%{text}<extra></extra>",
         "legendgroup": "negative",
         "marker": {
          "color": "#00cc96",
          "pattern": {
           "shape": ""
          }
         },
         "name": "negative",
         "offsetgroup": "negative",
         "orientation": "v",
         "showlegend": true,
         "text": [
          6,
          17,
          18,
          12,
          16,
          17,
          16,
          15,
          7
         ],
         "textposition": "auto",
         "type": "bar",
         "x": [
          "2024-09-12",
          "2024-09-13",
          "2024-09-14",
          "2024-09-15",
          "2024-09-16",
          "2024-09-17",
          "2024-09-18",
          "2024-09-19",
          "2024-09-20"
         ],
         "xaxis": "x",
         "y": [
          6,
          17,
          18,
          12,
          16,
          17,
          16,
          15,
          7
         ],
         "yaxis": "y"
        },
        {
         "alignmentgroup": "True",
         "hovertemplate": "Sentiment=unknown<br>Date=%{x}<br>Count=%{text}<extra></extra>",
         "legendgroup": "unknown",
         "marker": {
          "color": "#ab63fa",
          "pattern": {
           "shape": ""
          }
         },
         "name": "unknown",
         "offsetgroup": "unknown",
         "orientation": "v",
         "showlegend": true,
         "text": [
          1,
          13,
          11,
          8,
          3,
          4,
          3,
          6,
          2
         ],
         "textposition": "auto",
         "type": "bar",
         "x": [
          "2024-09-12",
          "2024-09-13",
          "2024-09-14",
          "2024-09-15",
          "2024-09-16",
          "2024-09-17",
          "2024-09-18",
          "2024-09-19",
          "2024-09-20"
         ],
         "xaxis": "x",
         "y": [
          1,
          13,
          11,
          8,
          3,
          4,
          3,
          6,
          2
         ],
         "yaxis": "y"
        }
       ],
       "layout": {
        "annotations": [
         {
          "font": {
           "color": "Black",
           "size": 10
          },
          "showarrow": false,
          "text": "Total:12",
          "x": "2024-09-12",
          "y": 18,
          "yshift": 10
         },
         {
          "font": {
           "color": "Black",
           "size": 10
          },
          "showarrow": false,
          "text": "Total:37",
          "x": "2024-09-13",
          "y": 18,
          "yshift": 10
         },
         {
          "font": {
           "color": "Black",
           "size": 10
          },
          "showarrow": false,
          "text": "Total:42",
          "x": "2024-09-14",
          "y": 18,
          "yshift": 10
         },
         {
          "font": {
           "color": "Black",
           "size": 10
          },
          "showarrow": false,
          "text": "Total:32",
          "x": "2024-09-15",
          "y": 18,
          "yshift": 10
         },
         {
          "font": {
           "color": "Black",
           "size": 10
          },
          "showarrow": false,
          "text": "Total:26",
          "x": "2024-09-16",
          "y": 18,
          "yshift": 10
         },
         {
          "font": {
           "color": "Black",
           "size": 10
          },
          "showarrow": false,
          "text": "Total:31",
          "x": "2024-09-17",
          "y": 18,
          "yshift": 10
         },
         {
          "font": {
           "color": "Black",
           "size": 10
          },
          "showarrow": false,
          "text": "Total:30",
          "x": "2024-09-18",
          "y": 18,
          "yshift": 10
         },
         {
          "font": {
           "color": "Black",
           "size": 10
          },
          "showarrow": false,
          "text": "Total:26",
          "x": "2024-09-19",
          "y": 18,
          "yshift": 10
         },
         {
          "font": {
           "color": "Black",
           "size": 10
          },
          "showarrow": false,
          "text": "Total:12",
          "x": "2024-09-20",
          "y": 18,
          "yshift": 10
         }
        ],
        "barmode": "group",
        "legend": {
         "title": {
          "text": "Sentiment"
         },
         "tracegroupgap": 0
        },
        "template": {
         "data": {
          "bar": [
           {
            "error_x": {
             "color": "#2a3f5f"
            },
            "error_y": {
             "color": "#2a3f5f"
            },
            "marker": {
             "line": {
              "color": "#E5ECF6",
              "width": 0.5
             },
             "pattern": {
              "fillmode": "overlay",
              "size": 10,
              "solidity": 0.2
             }
            },
            "type": "bar"
           }
          ],
          "barpolar": [
           {
            "marker": {
             "line": {
              "color": "#E5ECF6",
              "width": 0.5
             },
             "pattern": {
              "fillmode": "overlay",
              "size": 10,
              "solidity": 0.2
             }
            },
            "type": "barpolar"
           }
          ],
          "carpet": [
           {
            "aaxis": {
             "endlinecolor": "#2a3f5f",
             "gridcolor": "white",
             "linecolor": "white",
             "minorgridcolor": "white",
             "startlinecolor": "#2a3f5f"
            },
            "baxis": {
             "endlinecolor": "#2a3f5f",
             "gridcolor": "white",
             "linecolor": "white",
             "minorgridcolor": "white",
             "startlinecolor": "#2a3f5f"
            },
            "type": "carpet"
           }
          ],
          "choropleth": [
           {
            "colorbar": {
             "outlinewidth": 0,
             "ticks": ""
            },
            "type": "choropleth"
           }
          ],
          "contour": [
           {
            "colorbar": {
             "outlinewidth": 0,
             "ticks": ""
            },
            "colorscale": [
             [
              0,
              "#0d0887"
             ],
             [
              0.1111111111111111,
              "#46039f"
             ],
             [
              0.2222222222222222,
              "#7201a8"
             ],
             [
              0.3333333333333333,
              "#9c179e"
             ],
             [
              0.4444444444444444,
              "#bd3786"
             ],
             [
              0.5555555555555556,
              "#d8576b"
             ],
             [
              0.6666666666666666,
              "#ed7953"
             ],
             [
              0.7777777777777778,
              "#fb9f3a"
             ],
             [
              0.8888888888888888,
              "#fdca26"
             ],
             [
              1,
              "#f0f921"
             ]
            ],
            "type": "contour"
           }
          ],
          "contourcarpet": [
           {
            "colorbar": {
             "outlinewidth": 0,
             "ticks": ""
            },
            "type": "contourcarpet"
           }
          ],
          "heatmap": [
           {
            "colorbar": {
             "outlinewidth": 0,
             "ticks": ""
            },
            "colorscale": [
             [
              0,
              "#0d0887"
             ],
             [
              0.1111111111111111,
              "#46039f"
             ],
             [
              0.2222222222222222,
              "#7201a8"
             ],
             [
              0.3333333333333333,
              "#9c179e"
             ],
             [
              0.4444444444444444,
              "#bd3786"
             ],
             [
              0.5555555555555556,
              "#d8576b"
             ],
             [
              0.6666666666666666,
              "#ed7953"
             ],
             [
              0.7777777777777778,
              "#fb9f3a"
             ],
             [
              0.8888888888888888,
              "#fdca26"
             ],
             [
              1,
              "#f0f921"
             ]
            ],
            "type": "heatmap"
           }
          ],
          "heatmapgl": [
           {
            "colorbar": {
             "outlinewidth": 0,
             "ticks": ""
            },
            "colorscale": [
             [
              0,
              "#0d0887"
             ],
             [
              0.1111111111111111,
              "#46039f"
             ],
             [
              0.2222222222222222,
              "#7201a8"
             ],
             [
              0.3333333333333333,
              "#9c179e"
             ],
             [
              0.4444444444444444,
              "#bd3786"
             ],
             [
              0.5555555555555556,
              "#d8576b"
             ],
             [
              0.6666666666666666,
              "#ed7953"
             ],
             [
              0.7777777777777778,
              "#fb9f3a"
             ],
             [
              0.8888888888888888,
              "#fdca26"
             ],
             [
              1,
              "#f0f921"
             ]
            ],
            "type": "heatmapgl"
           }
          ],
          "histogram": [
           {
            "marker": {
             "pattern": {
              "fillmode": "overlay",
              "size": 10,
              "solidity": 0.2
             }
            },
            "type": "histogram"
           }
          ],
          "histogram2d": [
           {
            "colorbar": {
             "outlinewidth": 0,
             "ticks": ""
            },
            "colorscale": [
             [
              0,
              "#0d0887"
             ],
             [
              0.1111111111111111,
              "#46039f"
             ],
             [
              0.2222222222222222,
              "#7201a8"
             ],
             [
              0.3333333333333333,
              "#9c179e"
             ],
             [
              0.4444444444444444,
              "#bd3786"
             ],
             [
              0.5555555555555556,
              "#d8576b"
             ],
             [
              0.6666666666666666,
              "#ed7953"
             ],
             [
              0.7777777777777778,
              "#fb9f3a"
             ],
             [
              0.8888888888888888,
              "#fdca26"
             ],
             [
              1,
              "#f0f921"
             ]
            ],
            "type": "histogram2d"
           }
          ],
          "histogram2dcontour": [
           {
            "colorbar": {
             "outlinewidth": 0,
             "ticks": ""
            },
            "colorscale": [
             [
              0,
              "#0d0887"
             ],
             [
              0.1111111111111111,
              "#46039f"
             ],
             [
              0.2222222222222222,
              "#7201a8"
             ],
             [
              0.3333333333333333,
              "#9c179e"
             ],
             [
              0.4444444444444444,
              "#bd3786"
             ],
             [
              0.5555555555555556,
              "#d8576b"
             ],
             [
              0.6666666666666666,
              "#ed7953"
             ],
             [
              0.7777777777777778,
              "#fb9f3a"
             ],
             [
              0.8888888888888888,
              "#fdca26"
             ],
             [
              1,
              "#f0f921"
             ]
            ],
            "type": "histogram2dcontour"
           }
          ],
          "mesh3d": [
           {
            "colorbar": {
             "outlinewidth": 0,
             "ticks": ""
            },
            "type": "mesh3d"
           }
          ],
          "parcoords": [
           {
            "line": {
             "colorbar": {
              "outlinewidth": 0,
              "ticks": ""
             }
            },
            "type": "parcoords"
           }
          ],
          "pie": [
           {
            "automargin": true,
            "type": "pie"
           }
          ],
          "scatter": [
           {
            "fillpattern": {
             "fillmode": "overlay",
             "size": 10,
             "solidity": 0.2
            },
            "type": "scatter"
           }
          ],
          "scatter3d": [
           {
            "line": {
             "colorbar": {
              "outlinewidth": 0,
              "ticks": ""
             }
            },
            "marker": {
             "colorbar": {
              "outlinewidth": 0,
              "ticks": ""
             }
            },
            "type": "scatter3d"
           }
          ],
          "scattercarpet": [
           {
            "marker": {
             "colorbar": {
              "outlinewidth": 0,
              "ticks": ""
             }
            },
            "type": "scattercarpet"
           }
          ],
          "scattergeo": [
           {
            "marker": {
             "colorbar": {
              "outlinewidth": 0,
              "ticks": ""
             }
            },
            "type": "scattergeo"
           }
          ],
          "scattergl": [
           {
            "marker": {
             "colorbar": {
              "outlinewidth": 0,
              "ticks": ""
             }
            },
            "type": "scattergl"
           }
          ],
          "scattermapbox": [
           {
            "marker": {
             "colorbar": {
              "outlinewidth": 0,
              "ticks": ""
             }
            },
            "type": "scattermapbox"
           }
          ],
          "scatterpolar": [
           {
            "marker": {
             "colorbar": {
              "outlinewidth": 0,
              "ticks": ""
             }
            },
            "type": "scatterpolar"
           }
          ],
          "scatterpolargl": [
           {
            "marker": {
             "colorbar": {
              "outlinewidth": 0,
              "ticks": ""
             }
            },
            "type": "scatterpolargl"
           }
          ],
          "scatterternary": [
           {
            "marker": {
             "colorbar": {
              "outlinewidth": 0,
              "ticks": ""
             }
            },
            "type": "scatterternary"
           }
          ],
          "surface": [
           {
            "colorbar": {
             "outlinewidth": 0,
             "ticks": ""
            },
            "colorscale": [
             [
              0,
              "#0d0887"
             ],
             [
              0.1111111111111111,
              "#46039f"
             ],
             [
              0.2222222222222222,
              "#7201a8"
             ],
             [
              0.3333333333333333,
              "#9c179e"
             ],
             [
              0.4444444444444444,
              "#bd3786"
             ],
             [
              0.5555555555555556,
              "#d8576b"
             ],
             [
              0.6666666666666666,
              "#ed7953"
             ],
             [
              0.7777777777777778,
              "#fb9f3a"
             ],
             [
              0.8888888888888888,
              "#fdca26"
             ],
             [
              1,
              "#f0f921"
             ]
            ],
            "type": "surface"
           }
          ],
          "table": [
           {
            "cells": {
             "fill": {
              "color": "#EBF0F8"
             },
             "line": {
              "color": "white"
             }
            },
            "header": {
             "fill": {
              "color": "#C8D4E3"
             },
             "line": {
              "color": "white"
             }
            },
            "type": "table"
           }
          ]
         },
         "layout": {
          "annotationdefaults": {
           "arrowcolor": "#2a3f5f",
           "arrowhead": 0,
           "arrowwidth": 1
          },
          "autotypenumbers": "strict",
          "coloraxis": {
           "colorbar": {
            "outlinewidth": 0,
            "ticks": ""
           }
          },
          "colorscale": {
           "diverging": [
            [
             0,
             "#8e0152"
            ],
            [
             0.1,
             "#c51b7d"
            ],
            [
             0.2,
             "#de77ae"
            ],
            [
             0.3,
             "#f1b6da"
            ],
            [
             0.4,
             "#fde0ef"
            ],
            [
             0.5,
             "#f7f7f7"
            ],
            [
             0.6,
             "#e6f5d0"
            ],
            [
             0.7,
             "#b8e186"
            ],
            [
             0.8,
             "#7fbc41"
            ],
            [
             0.9,
             "#4d9221"
            ],
            [
             1,
             "#276419"
            ]
           ],
           "sequential": [
            [
             0,
             "#0d0887"
            ],
            [
             0.1111111111111111,
             "#46039f"
            ],
            [
             0.2222222222222222,
             "#7201a8"
            ],
            [
             0.3333333333333333,
             "#9c179e"
            ],
            [
             0.4444444444444444,
             "#bd3786"
            ],
            [
             0.5555555555555556,
             "#d8576b"
            ],
            [
             0.6666666666666666,
             "#ed7953"
            ],
            [
             0.7777777777777778,
             "#fb9f3a"
            ],
            [
             0.8888888888888888,
             "#fdca26"
            ],
            [
             1,
             "#f0f921"
            ]
           ],
           "sequentialminus": [
            [
             0,
             "#0d0887"
            ],
            [
             0.1111111111111111,
             "#46039f"
            ],
            [
             0.2222222222222222,
             "#7201a8"
            ],
            [
             0.3333333333333333,
             "#9c179e"
            ],
            [
             0.4444444444444444,
             "#bd3786"
            ],
            [
             0.5555555555555556,
             "#d8576b"
            ],
            [
             0.6666666666666666,
             "#ed7953"
            ],
            [
             0.7777777777777778,
             "#fb9f3a"
            ],
            [
             0.8888888888888888,
             "#fdca26"
            ],
            [
             1,
             "#f0f921"
            ]
           ]
          },
          "colorway": [
           "#636efa",
           "#EF553B",
           "#00cc96",
           "#ab63fa",
           "#FFA15A",
           "#19d3f3",
           "#FF6692",
           "#B6E880",
           "#FF97FF",
           "#FECB52"
          ],
          "font": {
           "color": "#2a3f5f"
          },
          "geo": {
           "bgcolor": "white",
           "lakecolor": "white",
           "landcolor": "#E5ECF6",
           "showlakes": true,
           "showland": true,
           "subunitcolor": "white"
          },
          "hoverlabel": {
           "align": "left"
          },
          "hovermode": "closest",
          "mapbox": {
           "style": "light"
          },
          "paper_bgcolor": "white",
          "plot_bgcolor": "#E5ECF6",
          "polar": {
           "angularaxis": {
            "gridcolor": "white",
            "linecolor": "white",
            "ticks": ""
           },
           "bgcolor": "#E5ECF6",
           "radialaxis": {
            "gridcolor": "white",
            "linecolor": "white",
            "ticks": ""
           }
          },
          "scene": {
           "xaxis": {
            "backgroundcolor": "#E5ECF6",
            "gridcolor": "white",
            "gridwidth": 2,
            "linecolor": "white",
            "showbackground": true,
            "ticks": "",
            "zerolinecolor": "white"
           },
           "yaxis": {
            "backgroundcolor": "#E5ECF6",
            "gridcolor": "white",
            "gridwidth": 2,
            "linecolor": "white",
            "showbackground": true,
            "ticks": "",
            "zerolinecolor": "white"
           },
           "zaxis": {
            "backgroundcolor": "#E5ECF6",
            "gridcolor": "white",
            "gridwidth": 2,
            "linecolor": "white",
            "showbackground": true,
            "ticks": "",
            "zerolinecolor": "white"
           }
          },
          "shapedefaults": {
           "line": {
            "color": "#2a3f5f"
           }
          },
          "ternary": {
           "aaxis": {
            "gridcolor": "white",
            "linecolor": "white",
            "ticks": ""
           },
           "baxis": {
            "gridcolor": "white",
            "linecolor": "white",
            "ticks": ""
           },
           "bgcolor": "#E5ECF6",
           "caxis": {
            "gridcolor": "white",
            "linecolor": "white",
            "ticks": ""
           }
          },
          "title": {
           "x": 0.05
          },
          "xaxis": {
           "automargin": true,
           "gridcolor": "white",
           "linecolor": "white",
           "ticks": "",
           "title": {
            "standoff": 15
           },
           "zerolinecolor": "white",
           "zerolinewidth": 2
          },
          "yaxis": {
           "automargin": true,
           "gridcolor": "white",
           "linecolor": "white",
           "ticks": "",
           "title": {
            "standoff": 15
           },
           "zerolinecolor": "white",
           "zerolinewidth": 2
          }
         }
        },
        "title": {
         "text": "Customer Sentiment Analysis by Day"
        },
        "xaxis": {
         "anchor": "y",
         "domain": [
          0,
          1
         ],
         "title": {
          "text": "Date"
         }
        },
        "yaxis": {
         "anchor": "x",
         "domain": [
          0,
          1
         ],
         "title": {
          "text": "Count"
         }
        }
       }
      },
      "text/html": [
       "<div>                            <div id=\"c610420d-efcd-4e16-bc23-e1c0cf2e7759\" class=\"plotly-graph-div\" style=\"height:525px; width:100%;\"></div>            <script type=\"text/javascript\">                require([\"plotly\"], function(Plotly) {                    window.PLOTLYENV=window.PLOTLYENV || {};                                    if (document.getElementById(\"c610420d-efcd-4e16-bc23-e1c0cf2e7759\")) {                    Plotly.newPlot(                        \"c610420d-efcd-4e16-bc23-e1c0cf2e7759\",                        [{\"alignmentgroup\":\"True\",\"hovertemplate\":\"Sentiment=positive<br>Date=%{x}<br>Count=%{text}<extra></extra>\",\"legendgroup\":\"positive\",\"marker\":{\"color\":\"#636efa\",\"pattern\":{\"shape\":\"\"}},\"name\":\"positive\",\"offsetgroup\":\"positive\",\"orientation\":\"v\",\"showlegend\":true,\"text\":[5.0,5.0,10.0,10.0,4.0,10.0,7.0,4.0,3.0],\"textposition\":\"auto\",\"x\":[\"2024-09-12\",\"2024-09-13\",\"2024-09-14\",\"2024-09-15\",\"2024-09-16\",\"2024-09-17\",\"2024-09-18\",\"2024-09-19\",\"2024-09-20\"],\"xaxis\":\"x\",\"y\":[5,5,10,10,4,10,7,4,3],\"yaxis\":\"y\",\"type\":\"bar\"},{\"alignmentgroup\":\"True\",\"hovertemplate\":\"Sentiment=neutral<br>Date=%{x}<br>Count=%{text}<extra></extra>\",\"legendgroup\":\"neutral\",\"marker\":{\"color\":\"#EF553B\",\"pattern\":{\"shape\":\"\"}},\"name\":\"neutral\",\"offsetgroup\":\"neutral\",\"orientation\":\"v\",\"showlegend\":true,\"text\":[0.0,2.0,3.0,2.0,3.0,0.0,4.0,1.0,0.0],\"textposition\":\"auto\",\"x\":[\"2024-09-12\",\"2024-09-13\",\"2024-09-14\",\"2024-09-15\",\"2024-09-16\",\"2024-09-17\",\"2024-09-18\",\"2024-09-19\",\"2024-09-20\"],\"xaxis\":\"x\",\"y\":[0,2,3,2,3,0,4,1,0],\"yaxis\":\"y\",\"type\":\"bar\"},{\"alignmentgroup\":\"True\",\"hovertemplate\":\"Sentiment=negative<br>Date=%{x}<br>Count=%{text}<extra></extra>\",\"legendgroup\":\"negative\",\"marker\":{\"color\":\"#00cc96\",\"pattern\":{\"shape\":\"\"}},\"name\":\"negative\",\"offsetgroup\":\"negative\",\"orientation\":\"v\",\"showlegend\":true,\"text\":[6.0,17.0,18.0,12.0,16.0,17.0,16.0,15.0,7.0],\"textposition\":\"auto\",\"x\":[\"2024-09-12\",\"2024-09-13\",\"2024-09-14\",\"2024-09-15\",\"2024-09-16\",\"2024-09-17\",\"2024-09-18\",\"2024-09-19\",\"2024-09-20\"],\"xaxis\":\"x\",\"y\":[6,17,18,12,16,17,16,15,7],\"yaxis\":\"y\",\"type\":\"bar\"},{\"alignmentgroup\":\"True\",\"hovertemplate\":\"Sentiment=unknown<br>Date=%{x}<br>Count=%{text}<extra></extra>\",\"legendgroup\":\"unknown\",\"marker\":{\"color\":\"#ab63fa\",\"pattern\":{\"shape\":\"\"}},\"name\":\"unknown\",\"offsetgroup\":\"unknown\",\"orientation\":\"v\",\"showlegend\":true,\"text\":[1.0,13.0,11.0,8.0,3.0,4.0,3.0,6.0,2.0],\"textposition\":\"auto\",\"x\":[\"2024-09-12\",\"2024-09-13\",\"2024-09-14\",\"2024-09-15\",\"2024-09-16\",\"2024-09-17\",\"2024-09-18\",\"2024-09-19\",\"2024-09-20\"],\"xaxis\":\"x\",\"y\":[1,13,11,8,3,4,3,6,2],\"yaxis\":\"y\",\"type\":\"bar\"}],                        {\"template\":{\"data\":{\"histogram2dcontour\":[{\"type\":\"histogram2dcontour\",\"colorbar\":{\"outlinewidth\":0,\"ticks\":\"\"},\"colorscale\":[[0.0,\"#0d0887\"],[0.1111111111111111,\"#46039f\"],[0.2222222222222222,\"#7201a8\"],[0.3333333333333333,\"#9c179e\"],[0.4444444444444444,\"#bd3786\"],[0.5555555555555556,\"#d8576b\"],[0.6666666666666666,\"#ed7953\"],[0.7777777777777778,\"#fb9f3a\"],[0.8888888888888888,\"#fdca26\"],[1.0,\"#f0f921\"]]}],\"choropleth\":[{\"type\":\"choropleth\",\"colorbar\":{\"outlinewidth\":0,\"ticks\":\"\"}}],\"histogram2d\":[{\"type\":\"histogram2d\",\"colorbar\":{\"outlinewidth\":0,\"ticks\":\"\"},\"colorscale\":[[0.0,\"#0d0887\"],[0.1111111111111111,\"#46039f\"],[0.2222222222222222,\"#7201a8\"],[0.3333333333333333,\"#9c179e\"],[0.4444444444444444,\"#bd3786\"],[0.5555555555555556,\"#d8576b\"],[0.6666666666666666,\"#ed7953\"],[0.7777777777777778,\"#fb9f3a\"],[0.8888888888888888,\"#fdca26\"],[1.0,\"#f0f921\"]]}],\"heatmap\":[{\"type\":\"heatmap\",\"colorbar\":{\"outlinewidth\":0,\"ticks\":\"\"},\"colorscale\":[[0.0,\"#0d0887\"],[0.1111111111111111,\"#46039f\"],[0.2222222222222222,\"#7201a8\"],[0.3333333333333333,\"#9c179e\"],[0.4444444444444444,\"#bd3786\"],[0.5555555555555556,\"#d8576b\"],[0.6666666666666666,\"#ed7953\"],[0.7777777777777778,\"#fb9f3a\"],[0.8888888888888888,\"#fdca26\"],[1.0,\"#f0f921\"]]}],\"heatmapgl\":[{\"type\":\"heatmapgl\",\"colorbar\":{\"outlinewidth\":0,\"ticks\":\"\"},\"colorscale\":[[0.0,\"#0d0887\"],[0.1111111111111111,\"#46039f\"],[0.2222222222222222,\"#7201a8\"],[0.3333333333333333,\"#9c179e\"],[0.4444444444444444,\"#bd3786\"],[0.5555555555555556,\"#d8576b\"],[0.6666666666666666,\"#ed7953\"],[0.7777777777777778,\"#fb9f3a\"],[0.8888888888888888,\"#fdca26\"],[1.0,\"#f0f921\"]]}],\"contourcarpet\":[{\"type\":\"contourcarpet\",\"colorbar\":{\"outlinewidth\":0,\"ticks\":\"\"}}],\"contour\":[{\"type\":\"contour\",\"colorbar\":{\"outlinewidth\":0,\"ticks\":\"\"},\"colorscale\":[[0.0,\"#0d0887\"],[0.1111111111111111,\"#46039f\"],[0.2222222222222222,\"#7201a8\"],[0.3333333333333333,\"#9c179e\"],[0.4444444444444444,\"#bd3786\"],[0.5555555555555556,\"#d8576b\"],[0.6666666666666666,\"#ed7953\"],[0.7777777777777778,\"#fb9f3a\"],[0.8888888888888888,\"#fdca26\"],[1.0,\"#f0f921\"]]}],\"surface\":[{\"type\":\"surface\",\"colorbar\":{\"outlinewidth\":0,\"ticks\":\"\"},\"colorscale\":[[0.0,\"#0d0887\"],[0.1111111111111111,\"#46039f\"],[0.2222222222222222,\"#7201a8\"],[0.3333333333333333,\"#9c179e\"],[0.4444444444444444,\"#bd3786\"],[0.5555555555555556,\"#d8576b\"],[0.6666666666666666,\"#ed7953\"],[0.7777777777777778,\"#fb9f3a\"],[0.8888888888888888,\"#fdca26\"],[1.0,\"#f0f921\"]]}],\"mesh3d\":[{\"type\":\"mesh3d\",\"colorbar\":{\"outlinewidth\":0,\"ticks\":\"\"}}],\"scatter\":[{\"fillpattern\":{\"fillmode\":\"overlay\",\"size\":10,\"solidity\":0.2},\"type\":\"scatter\"}],\"parcoords\":[{\"type\":\"parcoords\",\"line\":{\"colorbar\":{\"outlinewidth\":0,\"ticks\":\"\"}}}],\"scatterpolargl\":[{\"type\":\"scatterpolargl\",\"marker\":{\"colorbar\":{\"outlinewidth\":0,\"ticks\":\"\"}}}],\"bar\":[{\"error_x\":{\"color\":\"#2a3f5f\"},\"error_y\":{\"color\":\"#2a3f5f\"},\"marker\":{\"line\":{\"color\":\"#E5ECF6\",\"width\":0.5},\"pattern\":{\"fillmode\":\"overlay\",\"size\":10,\"solidity\":0.2}},\"type\":\"bar\"}],\"scattergeo\":[{\"type\":\"scattergeo\",\"marker\":{\"colorbar\":{\"outlinewidth\":0,\"ticks\":\"\"}}}],\"scatterpolar\":[{\"type\":\"scatterpolar\",\"marker\":{\"colorbar\":{\"outlinewidth\":0,\"ticks\":\"\"}}}],\"histogram\":[{\"marker\":{\"pattern\":{\"fillmode\":\"overlay\",\"size\":10,\"solidity\":0.2}},\"type\":\"histogram\"}],\"scattergl\":[{\"type\":\"scattergl\",\"marker\":{\"colorbar\":{\"outlinewidth\":0,\"ticks\":\"\"}}}],\"scatter3d\":[{\"type\":\"scatter3d\",\"line\":{\"colorbar\":{\"outlinewidth\":0,\"ticks\":\"\"}},\"marker\":{\"colorbar\":{\"outlinewidth\":0,\"ticks\":\"\"}}}],\"scattermapbox\":[{\"type\":\"scattermapbox\",\"marker\":{\"colorbar\":{\"outlinewidth\":0,\"ticks\":\"\"}}}],\"scatterternary\":[{\"type\":\"scatterternary\",\"marker\":{\"colorbar\":{\"outlinewidth\":0,\"ticks\":\"\"}}}],\"scattercarpet\":[{\"type\":\"scattercarpet\",\"marker\":{\"colorbar\":{\"outlinewidth\":0,\"ticks\":\"\"}}}],\"carpet\":[{\"aaxis\":{\"endlinecolor\":\"#2a3f5f\",\"gridcolor\":\"white\",\"linecolor\":\"white\",\"minorgridcolor\":\"white\",\"startlinecolor\":\"#2a3f5f\"},\"baxis\":{\"endlinecolor\":\"#2a3f5f\",\"gridcolor\":\"white\",\"linecolor\":\"white\",\"minorgridcolor\":\"white\",\"startlinecolor\":\"#2a3f5f\"},\"type\":\"carpet\"}],\"table\":[{\"cells\":{\"fill\":{\"color\":\"#EBF0F8\"},\"line\":{\"color\":\"white\"}},\"header\":{\"fill\":{\"color\":\"#C8D4E3\"},\"line\":{\"color\":\"white\"}},\"type\":\"table\"}],\"barpolar\":[{\"marker\":{\"line\":{\"color\":\"#E5ECF6\",\"width\":0.5},\"pattern\":{\"fillmode\":\"overlay\",\"size\":10,\"solidity\":0.2}},\"type\":\"barpolar\"}],\"pie\":[{\"automargin\":true,\"type\":\"pie\"}]},\"layout\":{\"autotypenumbers\":\"strict\",\"colorway\":[\"#636efa\",\"#EF553B\",\"#00cc96\",\"#ab63fa\",\"#FFA15A\",\"#19d3f3\",\"#FF6692\",\"#B6E880\",\"#FF97FF\",\"#FECB52\"],\"font\":{\"color\":\"#2a3f5f\"},\"hovermode\":\"closest\",\"hoverlabel\":{\"align\":\"left\"},\"paper_bgcolor\":\"white\",\"plot_bgcolor\":\"#E5ECF6\",\"polar\":{\"bgcolor\":\"#E5ECF6\",\"angularaxis\":{\"gridcolor\":\"white\",\"linecolor\":\"white\",\"ticks\":\"\"},\"radialaxis\":{\"gridcolor\":\"white\",\"linecolor\":\"white\",\"ticks\":\"\"}},\"ternary\":{\"bgcolor\":\"#E5ECF6\",\"aaxis\":{\"gridcolor\":\"white\",\"linecolor\":\"white\",\"ticks\":\"\"},\"baxis\":{\"gridcolor\":\"white\",\"linecolor\":\"white\",\"ticks\":\"\"},\"caxis\":{\"gridcolor\":\"white\",\"linecolor\":\"white\",\"ticks\":\"\"}},\"coloraxis\":{\"colorbar\":{\"outlinewidth\":0,\"ticks\":\"\"}},\"colorscale\":{\"sequential\":[[0.0,\"#0d0887\"],[0.1111111111111111,\"#46039f\"],[0.2222222222222222,\"#7201a8\"],[0.3333333333333333,\"#9c179e\"],[0.4444444444444444,\"#bd3786\"],[0.5555555555555556,\"#d8576b\"],[0.6666666666666666,\"#ed7953\"],[0.7777777777777778,\"#fb9f3a\"],[0.8888888888888888,\"#fdca26\"],[1.0,\"#f0f921\"]],\"sequentialminus\":[[0.0,\"#0d0887\"],[0.1111111111111111,\"#46039f\"],[0.2222222222222222,\"#7201a8\"],[0.3333333333333333,\"#9c179e\"],[0.4444444444444444,\"#bd3786\"],[0.5555555555555556,\"#d8576b\"],[0.6666666666666666,\"#ed7953\"],[0.7777777777777778,\"#fb9f3a\"],[0.8888888888888888,\"#fdca26\"],[1.0,\"#f0f921\"]],\"diverging\":[[0,\"#8e0152\"],[0.1,\"#c51b7d\"],[0.2,\"#de77ae\"],[0.3,\"#f1b6da\"],[0.4,\"#fde0ef\"],[0.5,\"#f7f7f7\"],[0.6,\"#e6f5d0\"],[0.7,\"#b8e186\"],[0.8,\"#7fbc41\"],[0.9,\"#4d9221\"],[1,\"#276419\"]]},\"xaxis\":{\"gridcolor\":\"white\",\"linecolor\":\"white\",\"ticks\":\"\",\"title\":{\"standoff\":15},\"zerolinecolor\":\"white\",\"automargin\":true,\"zerolinewidth\":2},\"yaxis\":{\"gridcolor\":\"white\",\"linecolor\":\"white\",\"ticks\":\"\",\"title\":{\"standoff\":15},\"zerolinecolor\":\"white\",\"automargin\":true,\"zerolinewidth\":2},\"scene\":{\"xaxis\":{\"backgroundcolor\":\"#E5ECF6\",\"gridcolor\":\"white\",\"linecolor\":\"white\",\"showbackground\":true,\"ticks\":\"\",\"zerolinecolor\":\"white\",\"gridwidth\":2},\"yaxis\":{\"backgroundcolor\":\"#E5ECF6\",\"gridcolor\":\"white\",\"linecolor\":\"white\",\"showbackground\":true,\"ticks\":\"\",\"zerolinecolor\":\"white\",\"gridwidth\":2},\"zaxis\":{\"backgroundcolor\":\"#E5ECF6\",\"gridcolor\":\"white\",\"linecolor\":\"white\",\"showbackground\":true,\"ticks\":\"\",\"zerolinecolor\":\"white\",\"gridwidth\":2}},\"shapedefaults\":{\"line\":{\"color\":\"#2a3f5f\"}},\"annotationdefaults\":{\"arrowcolor\":\"#2a3f5f\",\"arrowhead\":0,\"arrowwidth\":1},\"geo\":{\"bgcolor\":\"white\",\"landcolor\":\"#E5ECF6\",\"subunitcolor\":\"white\",\"showland\":true,\"showlakes\":true,\"lakecolor\":\"white\"},\"title\":{\"x\":0.05},\"mapbox\":{\"style\":\"light\"}}},\"xaxis\":{\"anchor\":\"y\",\"domain\":[0.0,1.0],\"title\":{\"text\":\"Date\"}},\"yaxis\":{\"anchor\":\"x\",\"domain\":[0.0,1.0],\"title\":{\"text\":\"Count\"}},\"legend\":{\"title\":{\"text\":\"Sentiment\"},\"tracegroupgap\":0},\"title\":{\"text\":\"Customer Sentiment Analysis by Day\"},\"barmode\":\"group\",\"annotations\":[{\"font\":{\"color\":\"Black\",\"size\":10},\"showarrow\":false,\"text\":\"Total:12\",\"x\":\"2024-09-12\",\"y\":18,\"yshift\":10},{\"font\":{\"color\":\"Black\",\"size\":10},\"showarrow\":false,\"text\":\"Total:37\",\"x\":\"2024-09-13\",\"y\":18,\"yshift\":10},{\"font\":{\"color\":\"Black\",\"size\":10},\"showarrow\":false,\"text\":\"Total:42\",\"x\":\"2024-09-14\",\"y\":18,\"yshift\":10},{\"font\":{\"color\":\"Black\",\"size\":10},\"showarrow\":false,\"text\":\"Total:32\",\"x\":\"2024-09-15\",\"y\":18,\"yshift\":10},{\"font\":{\"color\":\"Black\",\"size\":10},\"showarrow\":false,\"text\":\"Total:26\",\"x\":\"2024-09-16\",\"y\":18,\"yshift\":10},{\"font\":{\"color\":\"Black\",\"size\":10},\"showarrow\":false,\"text\":\"Total:31\",\"x\":\"2024-09-17\",\"y\":18,\"yshift\":10},{\"font\":{\"color\":\"Black\",\"size\":10},\"showarrow\":false,\"text\":\"Total:30\",\"x\":\"2024-09-18\",\"y\":18,\"yshift\":10},{\"font\":{\"color\":\"Black\",\"size\":10},\"showarrow\":false,\"text\":\"Total:26\",\"x\":\"2024-09-19\",\"y\":18,\"yshift\":10},{\"font\":{\"color\":\"Black\",\"size\":10},\"showarrow\":false,\"text\":\"Total:12\",\"x\":\"2024-09-20\",\"y\":18,\"yshift\":10}]},                        {\"responsive\": true}                    ).then(function(){\n",
       "                            \n",
       "var gd = document.getElementById('c610420d-efcd-4e16-bc23-e1c0cf2e7759');\n",
       "var x = new MutationObserver(function (mutations, observer) {{\n",
       "        var display = window.getComputedStyle(gd).display;\n",
       "        if (!display || display === 'none') {{\n",
       "            console.log([gd, 'removed!']);\n",
       "            Plotly.purge(gd);\n",
       "            observer.disconnect();\n",
       "        }}\n",
       "}});\n",
       "\n",
       "// Listen for the removal of the full notebook cells\n",
       "var notebookContainer = gd.closest('#notebook-container');\n",
       "if (notebookContainer) {{\n",
       "    x.observe(notebookContainer, {childList: true});\n",
       "}}\n",
       "\n",
       "// Listen for the clearing of the current output cell\n",
       "var outputEl = gd.closest('.output');\n",
       "if (outputEl) {{\n",
       "    x.observe(outputEl, {childList: true});\n",
       "}}\n",
       "\n",
       "                        })                };                });            </script>        </div>"
      ]
     },
     "metadata": {},
     "output_type": "display_data"
    }
   ],
   "source": [
    "df = pd.read_json(os.path.join(os.getcwd(), \"result.json\"))\n",
    "df[\"recording_date\"] = pd.to_datetime(df[\"recording_date\"]).dt.date\n",
    "\n",
    "df_grouped = (\n",
    "    df.groupby([\"recording_date\", \"customer_sentiment\"])\n",
    "    .size()\n",
    "    .unstack(fill_value=0)\n",
    "    .reset_index()\n",
    ")\n",
    "df_grouped[\"total_calls\"] = df_grouped[\n",
    "    [\"positive\", \"neutral\", \"negative\", \"unknown\"]\n",
    "].sum(axis=1)\n",
    "\n",
    "df_melted = df_grouped.melt(\n",
    "    id_vars=[\"recording_date\", \"total_calls\"],\n",
    "    value_vars=[\"positive\", \"neutral\", \"negative\", \"unknown\"],\n",
    "    var_name=\"Sentiment\",\n",
    "    value_name=\"Count\",\n",
    ")\n",
    "\n",
    "fig = px.bar(\n",
    "    df_melted,\n",
    "    x=\"recording_date\",\n",
    "    y=\"Count\",\n",
    "    color=\"Sentiment\",\n",
    "    barmode=\"group\",\n",
    "    title=\"Customer Sentiment Analysis by Day\",\n",
    "    labels={\n",
    "        \"recording_date\": \"Date\",\n",
    "    },\n",
    "    text=\"Count\",\n",
    "    range_color={\"black\", \"blue\", \"yellow\"},\n",
    ")\n",
    "\n",
    "for date, total in zip(df_grouped[\"recording_date\"], df_grouped[\"total_calls\"]):\n",
    "    fig.add_annotation(\n",
    "        x=date,\n",
    "        y=max(df_melted[\"Count\"]),\n",
    "        text=f\"Total:{total}\",\n",
    "        showarrow=False,\n",
    "        yshift=10,\n",
    "        font=dict(size=10, color=\"Black\"),\n",
    "    )\n",
    "\n",
    "fig.show()"
   ]
  },
  {
   "attachments": {},
   "cell_type": "markdown",
   "metadata": {},
   "source": [
    "## Top 10 User Interest (Categories)"
   ]
  },
  {
   "cell_type": "code",
   "execution_count": 110,
   "metadata": {},
   "outputs": [],
   "source": [
    "df = pd.read_json(os.path.join(os.getcwd(), \"result.json\"))\n",
    "\n",
    "def extract_categories(json_str):\n",
    "    try:\n",
    "        # Attempt to parse the JSON and return the 'categories' key\n",
    "        parsed_json = json.loads(json_str)\n",
    "        return str(parsed_json.get(\"product_interest\", None))\n",
    "    except (TypeError, json.JSONDecodeError):\n",
    "        # Handle missing or invalid JSON\n",
    "        return \"Nothing\"\n",
    "\n",
    "\n",
    "df[\"categories\"] = df[\"feature_extraction\"].apply(extract_categories)"
   ]
  },
  {
   "cell_type": "code",
   "execution_count": 111,
   "metadata": {},
   "outputs": [
    {
     "data": {
      "application/vnd.plotly.v1+json": {
       "config": {
        "plotlyServerURL": "https://plot.ly"
       },
       "data": [
        {
         "type": "bar",
         "x": [
          "Induction Cooktop",
          "baby food",
          "Shoes",
          "Refrigerator",
          "Oven Toaster Grills (OTG)",
          "T-shirt",
          "Pendrive",
          "Sunglasses",
          "Shorts",
          "Dishwasher"
         ],
         "y": [
          6,
          5,
          4,
          4,
          4,
          4,
          4,
          4,
          4,
          4
         ]
        }
       ],
       "layout": {
        "template": {
         "data": {
          "bar": [
           {
            "error_x": {
             "color": "#2a3f5f"
            },
            "error_y": {
             "color": "#2a3f5f"
            },
            "marker": {
             "line": {
              "color": "#E5ECF6",
              "width": 0.5
             },
             "pattern": {
              "fillmode": "overlay",
              "size": 10,
              "solidity": 0.2
             }
            },
            "type": "bar"
           }
          ],
          "barpolar": [
           {
            "marker": {
             "line": {
              "color": "#E5ECF6",
              "width": 0.5
             },
             "pattern": {
              "fillmode": "overlay",
              "size": 10,
              "solidity": 0.2
             }
            },
            "type": "barpolar"
           }
          ],
          "carpet": [
           {
            "aaxis": {
             "endlinecolor": "#2a3f5f",
             "gridcolor": "white",
             "linecolor": "white",
             "minorgridcolor": "white",
             "startlinecolor": "#2a3f5f"
            },
            "baxis": {
             "endlinecolor": "#2a3f5f",
             "gridcolor": "white",
             "linecolor": "white",
             "minorgridcolor": "white",
             "startlinecolor": "#2a3f5f"
            },
            "type": "carpet"
           }
          ],
          "choropleth": [
           {
            "colorbar": {
             "outlinewidth": 0,
             "ticks": ""
            },
            "type": "choropleth"
           }
          ],
          "contour": [
           {
            "colorbar": {
             "outlinewidth": 0,
             "ticks": ""
            },
            "colorscale": [
             [
              0,
              "#0d0887"
             ],
             [
              0.1111111111111111,
              "#46039f"
             ],
             [
              0.2222222222222222,
              "#7201a8"
             ],
             [
              0.3333333333333333,
              "#9c179e"
             ],
             [
              0.4444444444444444,
              "#bd3786"
             ],
             [
              0.5555555555555556,
              "#d8576b"
             ],
             [
              0.6666666666666666,
              "#ed7953"
             ],
             [
              0.7777777777777778,
              "#fb9f3a"
             ],
             [
              0.8888888888888888,
              "#fdca26"
             ],
             [
              1,
              "#f0f921"
             ]
            ],
            "type": "contour"
           }
          ],
          "contourcarpet": [
           {
            "colorbar": {
             "outlinewidth": 0,
             "ticks": ""
            },
            "type": "contourcarpet"
           }
          ],
          "heatmap": [
           {
            "colorbar": {
             "outlinewidth": 0,
             "ticks": ""
            },
            "colorscale": [
             [
              0,
              "#0d0887"
             ],
             [
              0.1111111111111111,
              "#46039f"
             ],
             [
              0.2222222222222222,
              "#7201a8"
             ],
             [
              0.3333333333333333,
              "#9c179e"
             ],
             [
              0.4444444444444444,
              "#bd3786"
             ],
             [
              0.5555555555555556,
              "#d8576b"
             ],
             [
              0.6666666666666666,
              "#ed7953"
             ],
             [
              0.7777777777777778,
              "#fb9f3a"
             ],
             [
              0.8888888888888888,
              "#fdca26"
             ],
             [
              1,
              "#f0f921"
             ]
            ],
            "type": "heatmap"
           }
          ],
          "heatmapgl": [
           {
            "colorbar": {
             "outlinewidth": 0,
             "ticks": ""
            },
            "colorscale": [
             [
              0,
              "#0d0887"
             ],
             [
              0.1111111111111111,
              "#46039f"
             ],
             [
              0.2222222222222222,
              "#7201a8"
             ],
             [
              0.3333333333333333,
              "#9c179e"
             ],
             [
              0.4444444444444444,
              "#bd3786"
             ],
             [
              0.5555555555555556,
              "#d8576b"
             ],
             [
              0.6666666666666666,
              "#ed7953"
             ],
             [
              0.7777777777777778,
              "#fb9f3a"
             ],
             [
              0.8888888888888888,
              "#fdca26"
             ],
             [
              1,
              "#f0f921"
             ]
            ],
            "type": "heatmapgl"
           }
          ],
          "histogram": [
           {
            "marker": {
             "pattern": {
              "fillmode": "overlay",
              "size": 10,
              "solidity": 0.2
             }
            },
            "type": "histogram"
           }
          ],
          "histogram2d": [
           {
            "colorbar": {
             "outlinewidth": 0,
             "ticks": ""
            },
            "colorscale": [
             [
              0,
              "#0d0887"
             ],
             [
              0.1111111111111111,
              "#46039f"
             ],
             [
              0.2222222222222222,
              "#7201a8"
             ],
             [
              0.3333333333333333,
              "#9c179e"
             ],
             [
              0.4444444444444444,
              "#bd3786"
             ],
             [
              0.5555555555555556,
              "#d8576b"
             ],
             [
              0.6666666666666666,
              "#ed7953"
             ],
             [
              0.7777777777777778,
              "#fb9f3a"
             ],
             [
              0.8888888888888888,
              "#fdca26"
             ],
             [
              1,
              "#f0f921"
             ]
            ],
            "type": "histogram2d"
           }
          ],
          "histogram2dcontour": [
           {
            "colorbar": {
             "outlinewidth": 0,
             "ticks": ""
            },
            "colorscale": [
             [
              0,
              "#0d0887"
             ],
             [
              0.1111111111111111,
              "#46039f"
             ],
             [
              0.2222222222222222,
              "#7201a8"
             ],
             [
              0.3333333333333333,
              "#9c179e"
             ],
             [
              0.4444444444444444,
              "#bd3786"
             ],
             [
              0.5555555555555556,
              "#d8576b"
             ],
             [
              0.6666666666666666,
              "#ed7953"
             ],
             [
              0.7777777777777778,
              "#fb9f3a"
             ],
             [
              0.8888888888888888,
              "#fdca26"
             ],
             [
              1,
              "#f0f921"
             ]
            ],
            "type": "histogram2dcontour"
           }
          ],
          "mesh3d": [
           {
            "colorbar": {
             "outlinewidth": 0,
             "ticks": ""
            },
            "type": "mesh3d"
           }
          ],
          "parcoords": [
           {
            "line": {
             "colorbar": {
              "outlinewidth": 0,
              "ticks": ""
             }
            },
            "type": "parcoords"
           }
          ],
          "pie": [
           {
            "automargin": true,
            "type": "pie"
           }
          ],
          "scatter": [
           {
            "fillpattern": {
             "fillmode": "overlay",
             "size": 10,
             "solidity": 0.2
            },
            "type": "scatter"
           }
          ],
          "scatter3d": [
           {
            "line": {
             "colorbar": {
              "outlinewidth": 0,
              "ticks": ""
             }
            },
            "marker": {
             "colorbar": {
              "outlinewidth": 0,
              "ticks": ""
             }
            },
            "type": "scatter3d"
           }
          ],
          "scattercarpet": [
           {
            "marker": {
             "colorbar": {
              "outlinewidth": 0,
              "ticks": ""
             }
            },
            "type": "scattercarpet"
           }
          ],
          "scattergeo": [
           {
            "marker": {
             "colorbar": {
              "outlinewidth": 0,
              "ticks": ""
             }
            },
            "type": "scattergeo"
           }
          ],
          "scattergl": [
           {
            "marker": {
             "colorbar": {
              "outlinewidth": 0,
              "ticks": ""
             }
            },
            "type": "scattergl"
           }
          ],
          "scattermapbox": [
           {
            "marker": {
             "colorbar": {
              "outlinewidth": 0,
              "ticks": ""
             }
            },
            "type": "scattermapbox"
           }
          ],
          "scatterpolar": [
           {
            "marker": {
             "colorbar": {
              "outlinewidth": 0,
              "ticks": ""
             }
            },
            "type": "scatterpolar"
           }
          ],
          "scatterpolargl": [
           {
            "marker": {
             "colorbar": {
              "outlinewidth": 0,
              "ticks": ""
             }
            },
            "type": "scatterpolargl"
           }
          ],
          "scatterternary": [
           {
            "marker": {
             "colorbar": {
              "outlinewidth": 0,
              "ticks": ""
             }
            },
            "type": "scatterternary"
           }
          ],
          "surface": [
           {
            "colorbar": {
             "outlinewidth": 0,
             "ticks": ""
            },
            "colorscale": [
             [
              0,
              "#0d0887"
             ],
             [
              0.1111111111111111,
              "#46039f"
             ],
             [
              0.2222222222222222,
              "#7201a8"
             ],
             [
              0.3333333333333333,
              "#9c179e"
             ],
             [
              0.4444444444444444,
              "#bd3786"
             ],
             [
              0.5555555555555556,
              "#d8576b"
             ],
             [
              0.6666666666666666,
              "#ed7953"
             ],
             [
              0.7777777777777778,
              "#fb9f3a"
             ],
             [
              0.8888888888888888,
              "#fdca26"
             ],
             [
              1,
              "#f0f921"
             ]
            ],
            "type": "surface"
           }
          ],
          "table": [
           {
            "cells": {
             "fill": {
              "color": "#EBF0F8"
             },
             "line": {
              "color": "white"
             }
            },
            "header": {
             "fill": {
              "color": "#C8D4E3"
             },
             "line": {
              "color": "white"
             }
            },
            "type": "table"
           }
          ]
         },
         "layout": {
          "annotationdefaults": {
           "arrowcolor": "#2a3f5f",
           "arrowhead": 0,
           "arrowwidth": 1
          },
          "autotypenumbers": "strict",
          "coloraxis": {
           "colorbar": {
            "outlinewidth": 0,
            "ticks": ""
           }
          },
          "colorscale": {
           "diverging": [
            [
             0,
             "#8e0152"
            ],
            [
             0.1,
             "#c51b7d"
            ],
            [
             0.2,
             "#de77ae"
            ],
            [
             0.3,
             "#f1b6da"
            ],
            [
             0.4,
             "#fde0ef"
            ],
            [
             0.5,
             "#f7f7f7"
            ],
            [
             0.6,
             "#e6f5d0"
            ],
            [
             0.7,
             "#b8e186"
            ],
            [
             0.8,
             "#7fbc41"
            ],
            [
             0.9,
             "#4d9221"
            ],
            [
             1,
             "#276419"
            ]
           ],
           "sequential": [
            [
             0,
             "#0d0887"
            ],
            [
             0.1111111111111111,
             "#46039f"
            ],
            [
             0.2222222222222222,
             "#7201a8"
            ],
            [
             0.3333333333333333,
             "#9c179e"
            ],
            [
             0.4444444444444444,
             "#bd3786"
            ],
            [
             0.5555555555555556,
             "#d8576b"
            ],
            [
             0.6666666666666666,
             "#ed7953"
            ],
            [
             0.7777777777777778,
             "#fb9f3a"
            ],
            [
             0.8888888888888888,
             "#fdca26"
            ],
            [
             1,
             "#f0f921"
            ]
           ],
           "sequentialminus": [
            [
             0,
             "#0d0887"
            ],
            [
             0.1111111111111111,
             "#46039f"
            ],
            [
             0.2222222222222222,
             "#7201a8"
            ],
            [
             0.3333333333333333,
             "#9c179e"
            ],
            [
             0.4444444444444444,
             "#bd3786"
            ],
            [
             0.5555555555555556,
             "#d8576b"
            ],
            [
             0.6666666666666666,
             "#ed7953"
            ],
            [
             0.7777777777777778,
             "#fb9f3a"
            ],
            [
             0.8888888888888888,
             "#fdca26"
            ],
            [
             1,
             "#f0f921"
            ]
           ]
          },
          "colorway": [
           "#636efa",
           "#EF553B",
           "#00cc96",
           "#ab63fa",
           "#FFA15A",
           "#19d3f3",
           "#FF6692",
           "#B6E880",
           "#FF97FF",
           "#FECB52"
          ],
          "font": {
           "color": "#2a3f5f"
          },
          "geo": {
           "bgcolor": "white",
           "lakecolor": "white",
           "landcolor": "#E5ECF6",
           "showlakes": true,
           "showland": true,
           "subunitcolor": "white"
          },
          "hoverlabel": {
           "align": "left"
          },
          "hovermode": "closest",
          "mapbox": {
           "style": "light"
          },
          "paper_bgcolor": "white",
          "plot_bgcolor": "#E5ECF6",
          "polar": {
           "angularaxis": {
            "gridcolor": "white",
            "linecolor": "white",
            "ticks": ""
           },
           "bgcolor": "#E5ECF6",
           "radialaxis": {
            "gridcolor": "white",
            "linecolor": "white",
            "ticks": ""
           }
          },
          "scene": {
           "xaxis": {
            "backgroundcolor": "#E5ECF6",
            "gridcolor": "white",
            "gridwidth": 2,
            "linecolor": "white",
            "showbackground": true,
            "ticks": "",
            "zerolinecolor": "white"
           },
           "yaxis": {
            "backgroundcolor": "#E5ECF6",
            "gridcolor": "white",
            "gridwidth": 2,
            "linecolor": "white",
            "showbackground": true,
            "ticks": "",
            "zerolinecolor": "white"
           },
           "zaxis": {
            "backgroundcolor": "#E5ECF6",
            "gridcolor": "white",
            "gridwidth": 2,
            "linecolor": "white",
            "showbackground": true,
            "ticks": "",
            "zerolinecolor": "white"
           }
          },
          "shapedefaults": {
           "line": {
            "color": "#2a3f5f"
           }
          },
          "ternary": {
           "aaxis": {
            "gridcolor": "white",
            "linecolor": "white",
            "ticks": ""
           },
           "baxis": {
            "gridcolor": "white",
            "linecolor": "white",
            "ticks": ""
           },
           "bgcolor": "#E5ECF6",
           "caxis": {
            "gridcolor": "white",
            "linecolor": "white",
            "ticks": ""
           }
          },
          "title": {
           "x": 0.05
          },
          "xaxis": {
           "automargin": true,
           "gridcolor": "white",
           "linecolor": "white",
           "ticks": "",
           "title": {
            "standoff": 15
           },
           "zerolinecolor": "white",
           "zerolinewidth": 2
          },
          "yaxis": {
           "automargin": true,
           "gridcolor": "white",
           "linecolor": "white",
           "ticks": "",
           "title": {
            "standoff": 15
           },
           "zerolinecolor": "white",
           "zerolinewidth": 2
          }
         }
        },
        "title": {
         "text": "Total Calls Based on Top 10 Categories"
        },
        "xaxis": {
         "tickangle": -45,
         "title": {
          "text": "Categories"
         }
        },
        "yaxis": {
         "title": {
          "text": "Number of Calls"
         }
        }
       }
      },
      "text/html": [
       "<div>                            <div id=\"935c1715-185e-48db-b2ba-f5e5271a33c0\" class=\"plotly-graph-div\" style=\"height:525px; width:100%;\"></div>            <script type=\"text/javascript\">                require([\"plotly\"], function(Plotly) {                    window.PLOTLYENV=window.PLOTLYENV || {};                                    if (document.getElementById(\"935c1715-185e-48db-b2ba-f5e5271a33c0\")) {                    Plotly.newPlot(                        \"935c1715-185e-48db-b2ba-f5e5271a33c0\",                        [{\"x\":[\"Induction Cooktop\",\"baby food\",\"Shoes\",\"Refrigerator\",\"Oven Toaster Grills (OTG)\",\"T-shirt\",\"Pendrive\",\"Sunglasses\",\"Shorts\",\"Dishwasher\"],\"y\":[6,5,4,4,4,4,4,4,4,4],\"type\":\"bar\"}],                        {\"template\":{\"data\":{\"histogram2dcontour\":[{\"type\":\"histogram2dcontour\",\"colorbar\":{\"outlinewidth\":0,\"ticks\":\"\"},\"colorscale\":[[0.0,\"#0d0887\"],[0.1111111111111111,\"#46039f\"],[0.2222222222222222,\"#7201a8\"],[0.3333333333333333,\"#9c179e\"],[0.4444444444444444,\"#bd3786\"],[0.5555555555555556,\"#d8576b\"],[0.6666666666666666,\"#ed7953\"],[0.7777777777777778,\"#fb9f3a\"],[0.8888888888888888,\"#fdca26\"],[1.0,\"#f0f921\"]]}],\"choropleth\":[{\"type\":\"choropleth\",\"colorbar\":{\"outlinewidth\":0,\"ticks\":\"\"}}],\"histogram2d\":[{\"type\":\"histogram2d\",\"colorbar\":{\"outlinewidth\":0,\"ticks\":\"\"},\"colorscale\":[[0.0,\"#0d0887\"],[0.1111111111111111,\"#46039f\"],[0.2222222222222222,\"#7201a8\"],[0.3333333333333333,\"#9c179e\"],[0.4444444444444444,\"#bd3786\"],[0.5555555555555556,\"#d8576b\"],[0.6666666666666666,\"#ed7953\"],[0.7777777777777778,\"#fb9f3a\"],[0.8888888888888888,\"#fdca26\"],[1.0,\"#f0f921\"]]}],\"heatmap\":[{\"type\":\"heatmap\",\"colorbar\":{\"outlinewidth\":0,\"ticks\":\"\"},\"colorscale\":[[0.0,\"#0d0887\"],[0.1111111111111111,\"#46039f\"],[0.2222222222222222,\"#7201a8\"],[0.3333333333333333,\"#9c179e\"],[0.4444444444444444,\"#bd3786\"],[0.5555555555555556,\"#d8576b\"],[0.6666666666666666,\"#ed7953\"],[0.7777777777777778,\"#fb9f3a\"],[0.8888888888888888,\"#fdca26\"],[1.0,\"#f0f921\"]]}],\"heatmapgl\":[{\"type\":\"heatmapgl\",\"colorbar\":{\"outlinewidth\":0,\"ticks\":\"\"},\"colorscale\":[[0.0,\"#0d0887\"],[0.1111111111111111,\"#46039f\"],[0.2222222222222222,\"#7201a8\"],[0.3333333333333333,\"#9c179e\"],[0.4444444444444444,\"#bd3786\"],[0.5555555555555556,\"#d8576b\"],[0.6666666666666666,\"#ed7953\"],[0.7777777777777778,\"#fb9f3a\"],[0.8888888888888888,\"#fdca26\"],[1.0,\"#f0f921\"]]}],\"contourcarpet\":[{\"type\":\"contourcarpet\",\"colorbar\":{\"outlinewidth\":0,\"ticks\":\"\"}}],\"contour\":[{\"type\":\"contour\",\"colorbar\":{\"outlinewidth\":0,\"ticks\":\"\"},\"colorscale\":[[0.0,\"#0d0887\"],[0.1111111111111111,\"#46039f\"],[0.2222222222222222,\"#7201a8\"],[0.3333333333333333,\"#9c179e\"],[0.4444444444444444,\"#bd3786\"],[0.5555555555555556,\"#d8576b\"],[0.6666666666666666,\"#ed7953\"],[0.7777777777777778,\"#fb9f3a\"],[0.8888888888888888,\"#fdca26\"],[1.0,\"#f0f921\"]]}],\"surface\":[{\"type\":\"surface\",\"colorbar\":{\"outlinewidth\":0,\"ticks\":\"\"},\"colorscale\":[[0.0,\"#0d0887\"],[0.1111111111111111,\"#46039f\"],[0.2222222222222222,\"#7201a8\"],[0.3333333333333333,\"#9c179e\"],[0.4444444444444444,\"#bd3786\"],[0.5555555555555556,\"#d8576b\"],[0.6666666666666666,\"#ed7953\"],[0.7777777777777778,\"#fb9f3a\"],[0.8888888888888888,\"#fdca26\"],[1.0,\"#f0f921\"]]}],\"mesh3d\":[{\"type\":\"mesh3d\",\"colorbar\":{\"outlinewidth\":0,\"ticks\":\"\"}}],\"scatter\":[{\"fillpattern\":{\"fillmode\":\"overlay\",\"size\":10,\"solidity\":0.2},\"type\":\"scatter\"}],\"parcoords\":[{\"type\":\"parcoords\",\"line\":{\"colorbar\":{\"outlinewidth\":0,\"ticks\":\"\"}}}],\"scatterpolargl\":[{\"type\":\"scatterpolargl\",\"marker\":{\"colorbar\":{\"outlinewidth\":0,\"ticks\":\"\"}}}],\"bar\":[{\"error_x\":{\"color\":\"#2a3f5f\"},\"error_y\":{\"color\":\"#2a3f5f\"},\"marker\":{\"line\":{\"color\":\"#E5ECF6\",\"width\":0.5},\"pattern\":{\"fillmode\":\"overlay\",\"size\":10,\"solidity\":0.2}},\"type\":\"bar\"}],\"scattergeo\":[{\"type\":\"scattergeo\",\"marker\":{\"colorbar\":{\"outlinewidth\":0,\"ticks\":\"\"}}}],\"scatterpolar\":[{\"type\":\"scatterpolar\",\"marker\":{\"colorbar\":{\"outlinewidth\":0,\"ticks\":\"\"}}}],\"histogram\":[{\"marker\":{\"pattern\":{\"fillmode\":\"overlay\",\"size\":10,\"solidity\":0.2}},\"type\":\"histogram\"}],\"scattergl\":[{\"type\":\"scattergl\",\"marker\":{\"colorbar\":{\"outlinewidth\":0,\"ticks\":\"\"}}}],\"scatter3d\":[{\"type\":\"scatter3d\",\"line\":{\"colorbar\":{\"outlinewidth\":0,\"ticks\":\"\"}},\"marker\":{\"colorbar\":{\"outlinewidth\":0,\"ticks\":\"\"}}}],\"scattermapbox\":[{\"type\":\"scattermapbox\",\"marker\":{\"colorbar\":{\"outlinewidth\":0,\"ticks\":\"\"}}}],\"scatterternary\":[{\"type\":\"scatterternary\",\"marker\":{\"colorbar\":{\"outlinewidth\":0,\"ticks\":\"\"}}}],\"scattercarpet\":[{\"type\":\"scattercarpet\",\"marker\":{\"colorbar\":{\"outlinewidth\":0,\"ticks\":\"\"}}}],\"carpet\":[{\"aaxis\":{\"endlinecolor\":\"#2a3f5f\",\"gridcolor\":\"white\",\"linecolor\":\"white\",\"minorgridcolor\":\"white\",\"startlinecolor\":\"#2a3f5f\"},\"baxis\":{\"endlinecolor\":\"#2a3f5f\",\"gridcolor\":\"white\",\"linecolor\":\"white\",\"minorgridcolor\":\"white\",\"startlinecolor\":\"#2a3f5f\"},\"type\":\"carpet\"}],\"table\":[{\"cells\":{\"fill\":{\"color\":\"#EBF0F8\"},\"line\":{\"color\":\"white\"}},\"header\":{\"fill\":{\"color\":\"#C8D4E3\"},\"line\":{\"color\":\"white\"}},\"type\":\"table\"}],\"barpolar\":[{\"marker\":{\"line\":{\"color\":\"#E5ECF6\",\"width\":0.5},\"pattern\":{\"fillmode\":\"overlay\",\"size\":10,\"solidity\":0.2}},\"type\":\"barpolar\"}],\"pie\":[{\"automargin\":true,\"type\":\"pie\"}]},\"layout\":{\"autotypenumbers\":\"strict\",\"colorway\":[\"#636efa\",\"#EF553B\",\"#00cc96\",\"#ab63fa\",\"#FFA15A\",\"#19d3f3\",\"#FF6692\",\"#B6E880\",\"#FF97FF\",\"#FECB52\"],\"font\":{\"color\":\"#2a3f5f\"},\"hovermode\":\"closest\",\"hoverlabel\":{\"align\":\"left\"},\"paper_bgcolor\":\"white\",\"plot_bgcolor\":\"#E5ECF6\",\"polar\":{\"bgcolor\":\"#E5ECF6\",\"angularaxis\":{\"gridcolor\":\"white\",\"linecolor\":\"white\",\"ticks\":\"\"},\"radialaxis\":{\"gridcolor\":\"white\",\"linecolor\":\"white\",\"ticks\":\"\"}},\"ternary\":{\"bgcolor\":\"#E5ECF6\",\"aaxis\":{\"gridcolor\":\"white\",\"linecolor\":\"white\",\"ticks\":\"\"},\"baxis\":{\"gridcolor\":\"white\",\"linecolor\":\"white\",\"ticks\":\"\"},\"caxis\":{\"gridcolor\":\"white\",\"linecolor\":\"white\",\"ticks\":\"\"}},\"coloraxis\":{\"colorbar\":{\"outlinewidth\":0,\"ticks\":\"\"}},\"colorscale\":{\"sequential\":[[0.0,\"#0d0887\"],[0.1111111111111111,\"#46039f\"],[0.2222222222222222,\"#7201a8\"],[0.3333333333333333,\"#9c179e\"],[0.4444444444444444,\"#bd3786\"],[0.5555555555555556,\"#d8576b\"],[0.6666666666666666,\"#ed7953\"],[0.7777777777777778,\"#fb9f3a\"],[0.8888888888888888,\"#fdca26\"],[1.0,\"#f0f921\"]],\"sequentialminus\":[[0.0,\"#0d0887\"],[0.1111111111111111,\"#46039f\"],[0.2222222222222222,\"#7201a8\"],[0.3333333333333333,\"#9c179e\"],[0.4444444444444444,\"#bd3786\"],[0.5555555555555556,\"#d8576b\"],[0.6666666666666666,\"#ed7953\"],[0.7777777777777778,\"#fb9f3a\"],[0.8888888888888888,\"#fdca26\"],[1.0,\"#f0f921\"]],\"diverging\":[[0,\"#8e0152\"],[0.1,\"#c51b7d\"],[0.2,\"#de77ae\"],[0.3,\"#f1b6da\"],[0.4,\"#fde0ef\"],[0.5,\"#f7f7f7\"],[0.6,\"#e6f5d0\"],[0.7,\"#b8e186\"],[0.8,\"#7fbc41\"],[0.9,\"#4d9221\"],[1,\"#276419\"]]},\"xaxis\":{\"gridcolor\":\"white\",\"linecolor\":\"white\",\"ticks\":\"\",\"title\":{\"standoff\":15},\"zerolinecolor\":\"white\",\"automargin\":true,\"zerolinewidth\":2},\"yaxis\":{\"gridcolor\":\"white\",\"linecolor\":\"white\",\"ticks\":\"\",\"title\":{\"standoff\":15},\"zerolinecolor\":\"white\",\"automargin\":true,\"zerolinewidth\":2},\"scene\":{\"xaxis\":{\"backgroundcolor\":\"#E5ECF6\",\"gridcolor\":\"white\",\"linecolor\":\"white\",\"showbackground\":true,\"ticks\":\"\",\"zerolinecolor\":\"white\",\"gridwidth\":2},\"yaxis\":{\"backgroundcolor\":\"#E5ECF6\",\"gridcolor\":\"white\",\"linecolor\":\"white\",\"showbackground\":true,\"ticks\":\"\",\"zerolinecolor\":\"white\",\"gridwidth\":2},\"zaxis\":{\"backgroundcolor\":\"#E5ECF6\",\"gridcolor\":\"white\",\"linecolor\":\"white\",\"showbackground\":true,\"ticks\":\"\",\"zerolinecolor\":\"white\",\"gridwidth\":2}},\"shapedefaults\":{\"line\":{\"color\":\"#2a3f5f\"}},\"annotationdefaults\":{\"arrowcolor\":\"#2a3f5f\",\"arrowhead\":0,\"arrowwidth\":1},\"geo\":{\"bgcolor\":\"white\",\"landcolor\":\"#E5ECF6\",\"subunitcolor\":\"white\",\"showland\":true,\"showlakes\":true,\"lakecolor\":\"white\"},\"title\":{\"x\":0.05},\"mapbox\":{\"style\":\"light\"}}},\"xaxis\":{\"title\":{\"text\":\"Categories\"},\"tickangle\":-45},\"title\":{\"text\":\"Total Calls Based on Top 10 Categories\"},\"yaxis\":{\"title\":{\"text\":\"Number of Calls\"}}},                        {\"responsive\": true}                    ).then(function(){\n",
       "                            \n",
       "var gd = document.getElementById('935c1715-185e-48db-b2ba-f5e5271a33c0');\n",
       "var x = new MutationObserver(function (mutations, observer) {{\n",
       "        var display = window.getComputedStyle(gd).display;\n",
       "        if (!display || display === 'none') {{\n",
       "            console.log([gd, 'removed!']);\n",
       "            Plotly.purge(gd);\n",
       "            observer.disconnect();\n",
       "        }}\n",
       "}});\n",
       "\n",
       "// Listen for the removal of the full notebook cells\n",
       "var notebookContainer = gd.closest('#notebook-container');\n",
       "if (notebookContainer) {{\n",
       "    x.observe(notebookContainer, {childList: true});\n",
       "}}\n",
       "\n",
       "// Listen for the clearing of the current output cell\n",
       "var outputEl = gd.closest('.output');\n",
       "if (outputEl) {{\n",
       "    x.observe(outputEl, {childList: true});\n",
       "}}\n",
       "\n",
       "                        })                };                });            </script>        </div>"
      ]
     },
     "metadata": {},
     "output_type": "display_data"
    }
   ],
   "source": [
    "df = df.loc[(df[\"categories\"] != \"Nothing\")]\n",
    "category_counts = df[\"categories\"].value_counts()\n",
    "\n",
    "top_categories = category_counts.head(10)\n",
    "\n",
    "# Create a bar chart\n",
    "fig = go.Figure()\n",
    "\n",
    "fig.add_trace(\n",
    "    go.Bar(\n",
    "        x=top_categories.index,\n",
    "        y=top_categories.values,\n",
    "        # marker_color='blue'\n",
    "    )\n",
    ")\n",
    "\n",
    "# Customize layout\n",
    "fig.update_layout(\n",
    "    title=\"Total Calls Based on Top 10 Categories\",\n",
    "    xaxis_title=\"Categories\",\n",
    "    yaxis_title=\"Number of Calls\",\n",
    "    xaxis_tickangle=-45,  # Rotate x-axis labels for better readability\n",
    ")\n",
    "\n",
    "# Show the plot\n",
    "fig.show()"
   ]
  },
  {
   "cell_type": "markdown",
   "metadata": {},
   "source": [
    "## Word Cloud Dashboard"
   ]
  },
  {
   "cell_type": "code",
   "execution_count": 112,
   "metadata": {},
   "outputs": [],
   "source": [
    "df = pd.read_json(os.path.join(os.getcwd(), \"result.json\"))\n",
    "\n",
    "df[\"categories\"] = df[\"feature_extraction\"].apply(extract_categories)"
   ]
  },
  {
   "cell_type": "code",
   "execution_count": 113,
   "metadata": {},
   "outputs": [
    {
     "data": {
      "application/vnd.plotly.v1+json": {
       "config": {
        "plotlyServerURL": "https://plot.ly"
       },
       "data": [],
       "layout": {
        "height": 400,
        "images": [
         {
          "sizex": 1,
          "sizey": 1,
          "source": "data:image/png;base64,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",
          "x": 0.5,
          "xanchor": "center",
          "xref": "paper",
          "y": 0.5,
          "yanchor": "middle",
          "yref": "paper"
         }
        ],
        "margin": {
         "b": 0,
         "l": 0,
         "r": 0,
         "t": 0
        },
        "template": {
         "data": {
          "bar": [
           {
            "error_x": {
             "color": "#2a3f5f"
            },
            "error_y": {
             "color": "#2a3f5f"
            },
            "marker": {
             "line": {
              "color": "#E5ECF6",
              "width": 0.5
             },
             "pattern": {
              "fillmode": "overlay",
              "size": 10,
              "solidity": 0.2
             }
            },
            "type": "bar"
           }
          ],
          "barpolar": [
           {
            "marker": {
             "line": {
              "color": "#E5ECF6",
              "width": 0.5
             },
             "pattern": {
              "fillmode": "overlay",
              "size": 10,
              "solidity": 0.2
             }
            },
            "type": "barpolar"
           }
          ],
          "carpet": [
           {
            "aaxis": {
             "endlinecolor": "#2a3f5f",
             "gridcolor": "white",
             "linecolor": "white",
             "minorgridcolor": "white",
             "startlinecolor": "#2a3f5f"
            },
            "baxis": {
             "endlinecolor": "#2a3f5f",
             "gridcolor": "white",
             "linecolor": "white",
             "minorgridcolor": "white",
             "startlinecolor": "#2a3f5f"
            },
            "type": "carpet"
           }
          ],
          "choropleth": [
           {
            "colorbar": {
             "outlinewidth": 0,
             "ticks": ""
            },
            "type": "choropleth"
           }
          ],
          "contour": [
           {
            "colorbar": {
             "outlinewidth": 0,
             "ticks": ""
            },
            "colorscale": [
             [
              0,
              "#0d0887"
             ],
             [
              0.1111111111111111,
              "#46039f"
             ],
             [
              0.2222222222222222,
              "#7201a8"
             ],
             [
              0.3333333333333333,
              "#9c179e"
             ],
             [
              0.4444444444444444,
              "#bd3786"
             ],
             [
              0.5555555555555556,
              "#d8576b"
             ],
             [
              0.6666666666666666,
              "#ed7953"
             ],
             [
              0.7777777777777778,
              "#fb9f3a"
             ],
             [
              0.8888888888888888,
              "#fdca26"
             ],
             [
              1,
              "#f0f921"
             ]
            ],
            "type": "contour"
           }
          ],
          "contourcarpet": [
           {
            "colorbar": {
             "outlinewidth": 0,
             "ticks": ""
            },
            "type": "contourcarpet"
           }
          ],
          "heatmap": [
           {
            "colorbar": {
             "outlinewidth": 0,
             "ticks": ""
            },
            "colorscale": [
             [
              0,
              "#0d0887"
             ],
             [
              0.1111111111111111,
              "#46039f"
             ],
             [
              0.2222222222222222,
              "#7201a8"
             ],
             [
              0.3333333333333333,
              "#9c179e"
             ],
             [
              0.4444444444444444,
              "#bd3786"
             ],
             [
              0.5555555555555556,
              "#d8576b"
             ],
             [
              0.6666666666666666,
              "#ed7953"
             ],
             [
              0.7777777777777778,
              "#fb9f3a"
             ],
             [
              0.8888888888888888,
              "#fdca26"
             ],
             [
              1,
              "#f0f921"
             ]
            ],
            "type": "heatmap"
           }
          ],
          "heatmapgl": [
           {
            "colorbar": {
             "outlinewidth": 0,
             "ticks": ""
            },
            "colorscale": [
             [
              0,
              "#0d0887"
             ],
             [
              0.1111111111111111,
              "#46039f"
             ],
             [
              0.2222222222222222,
              "#7201a8"
             ],
             [
              0.3333333333333333,
              "#9c179e"
             ],
             [
              0.4444444444444444,
              "#bd3786"
             ],
             [
              0.5555555555555556,
              "#d8576b"
             ],
             [
              0.6666666666666666,
              "#ed7953"
             ],
             [
              0.7777777777777778,
              "#fb9f3a"
             ],
             [
              0.8888888888888888,
              "#fdca26"
             ],
             [
              1,
              "#f0f921"
             ]
            ],
            "type": "heatmapgl"
           }
          ],
          "histogram": [
           {
            "marker": {
             "pattern": {
              "fillmode": "overlay",
              "size": 10,
              "solidity": 0.2
             }
            },
            "type": "histogram"
           }
          ],
          "histogram2d": [
           {
            "colorbar": {
             "outlinewidth": 0,
             "ticks": ""
            },
            "colorscale": [
             [
              0,
              "#0d0887"
             ],
             [
              0.1111111111111111,
              "#46039f"
             ],
             [
              0.2222222222222222,
              "#7201a8"
             ],
             [
              0.3333333333333333,
              "#9c179e"
             ],
             [
              0.4444444444444444,
              "#bd3786"
             ],
             [
              0.5555555555555556,
              "#d8576b"
             ],
             [
              0.6666666666666666,
              "#ed7953"
             ],
             [
              0.7777777777777778,
              "#fb9f3a"
             ],
             [
              0.8888888888888888,
              "#fdca26"
             ],
             [
              1,
              "#f0f921"
             ]
            ],
            "type": "histogram2d"
           }
          ],
          "histogram2dcontour": [
           {
            "colorbar": {
             "outlinewidth": 0,
             "ticks": ""
            },
            "colorscale": [
             [
              0,
              "#0d0887"
             ],
             [
              0.1111111111111111,
              "#46039f"
             ],
             [
              0.2222222222222222,
              "#7201a8"
             ],
             [
              0.3333333333333333,
              "#9c179e"
             ],
             [
              0.4444444444444444,
              "#bd3786"
             ],
             [
              0.5555555555555556,
              "#d8576b"
             ],
             [
              0.6666666666666666,
              "#ed7953"
             ],
             [
              0.7777777777777778,
              "#fb9f3a"
             ],
             [
              0.8888888888888888,
              "#fdca26"
             ],
             [
              1,
              "#f0f921"
             ]
            ],
            "type": "histogram2dcontour"
           }
          ],
          "mesh3d": [
           {
            "colorbar": {
             "outlinewidth": 0,
             "ticks": ""
            },
            "type": "mesh3d"
           }
          ],
          "parcoords": [
           {
            "line": {
             "colorbar": {
              "outlinewidth": 0,
              "ticks": ""
             }
            },
            "type": "parcoords"
           }
          ],
          "pie": [
           {
            "automargin": true,
            "type": "pie"
           }
          ],
          "scatter": [
           {
            "fillpattern": {
             "fillmode": "overlay",
             "size": 10,
             "solidity": 0.2
            },
            "type": "scatter"
           }
          ],
          "scatter3d": [
           {
            "line": {
             "colorbar": {
              "outlinewidth": 0,
              "ticks": ""
             }
            },
            "marker": {
             "colorbar": {
              "outlinewidth": 0,
              "ticks": ""
             }
            },
            "type": "scatter3d"
           }
          ],
          "scattercarpet": [
           {
            "marker": {
             "colorbar": {
              "outlinewidth": 0,
              "ticks": ""
             }
            },
            "type": "scattercarpet"
           }
          ],
          "scattergeo": [
           {
            "marker": {
             "colorbar": {
              "outlinewidth": 0,
              "ticks": ""
             }
            },
            "type": "scattergeo"
           }
          ],
          "scattergl": [
           {
            "marker": {
             "colorbar": {
              "outlinewidth": 0,
              "ticks": ""
             }
            },
            "type": "scattergl"
           }
          ],
          "scattermapbox": [
           {
            "marker": {
             "colorbar": {
              "outlinewidth": 0,
              "ticks": ""
             }
            },
            "type": "scattermapbox"
           }
          ],
          "scatterpolar": [
           {
            "marker": {
             "colorbar": {
              "outlinewidth": 0,
              "ticks": ""
             }
            },
            "type": "scatterpolar"
           }
          ],
          "scatterpolargl": [
           {
            "marker": {
             "colorbar": {
              "outlinewidth": 0,
              "ticks": ""
             }
            },
            "type": "scatterpolargl"
           }
          ],
          "scatterternary": [
           {
            "marker": {
             "colorbar": {
              "outlinewidth": 0,
              "ticks": ""
             }
            },
            "type": "scatterternary"
           }
          ],
          "surface": [
           {
            "colorbar": {
             "outlinewidth": 0,
             "ticks": ""
            },
            "colorscale": [
             [
              0,
              "#0d0887"
             ],
             [
              0.1111111111111111,
              "#46039f"
             ],
             [
              0.2222222222222222,
              "#7201a8"
             ],
             [
              0.3333333333333333,
              "#9c179e"
             ],
             [
              0.4444444444444444,
              "#bd3786"
             ],
             [
              0.5555555555555556,
              "#d8576b"
             ],
             [
              0.6666666666666666,
              "#ed7953"
             ],
             [
              0.7777777777777778,
              "#fb9f3a"
             ],
             [
              0.8888888888888888,
              "#fdca26"
             ],
             [
              1,
              "#f0f921"
             ]
            ],
            "type": "surface"
           }
          ],
          "table": [
           {
            "cells": {
             "fill": {
              "color": "#EBF0F8"
             },
             "line": {
              "color": "white"
             }
            },
            "header": {
             "fill": {
              "color": "#C8D4E3"
             },
             "line": {
              "color": "white"
             }
            },
            "type": "table"
           }
          ]
         },
         "layout": {
          "annotationdefaults": {
           "arrowcolor": "#2a3f5f",
           "arrowhead": 0,
           "arrowwidth": 1
          },
          "autotypenumbers": "strict",
          "coloraxis": {
           "colorbar": {
            "outlinewidth": 0,
            "ticks": ""
           }
          },
          "colorscale": {
           "diverging": [
            [
             0,
             "#8e0152"
            ],
            [
             0.1,
             "#c51b7d"
            ],
            [
             0.2,
             "#de77ae"
            ],
            [
             0.3,
             "#f1b6da"
            ],
            [
             0.4,
             "#fde0ef"
            ],
            [
             0.5,
             "#f7f7f7"
            ],
            [
             0.6,
             "#e6f5d0"
            ],
            [
             0.7,
             "#b8e186"
            ],
            [
             0.8,
             "#7fbc41"
            ],
            [
             0.9,
             "#4d9221"
            ],
            [
             1,
             "#276419"
            ]
           ],
           "sequential": [
            [
             0,
             "#0d0887"
            ],
            [
             0.1111111111111111,
             "#46039f"
            ],
            [
             0.2222222222222222,
             "#7201a8"
            ],
            [
             0.3333333333333333,
             "#9c179e"
            ],
            [
             0.4444444444444444,
             "#bd3786"
            ],
            [
             0.5555555555555556,
             "#d8576b"
            ],
            [
             0.6666666666666666,
             "#ed7953"
            ],
            [
             0.7777777777777778,
             "#fb9f3a"
            ],
            [
             0.8888888888888888,
             "#fdca26"
            ],
            [
             1,
             "#f0f921"
            ]
           ],
           "sequentialminus": [
            [
             0,
             "#0d0887"
            ],
            [
             0.1111111111111111,
             "#46039f"
            ],
            [
             0.2222222222222222,
             "#7201a8"
            ],
            [
             0.3333333333333333,
             "#9c179e"
            ],
            [
             0.4444444444444444,
             "#bd3786"
            ],
            [
             0.5555555555555556,
             "#d8576b"
            ],
            [
             0.6666666666666666,
             "#ed7953"
            ],
            [
             0.7777777777777778,
             "#fb9f3a"
            ],
            [
             0.8888888888888888,
             "#fdca26"
            ],
            [
             1,
             "#f0f921"
            ]
           ]
          },
          "colorway": [
           "#636efa",
           "#EF553B",
           "#00cc96",
           "#ab63fa",
           "#FFA15A",
           "#19d3f3",
           "#FF6692",
           "#B6E880",
           "#FF97FF",
           "#FECB52"
          ],
          "font": {
           "color": "#2a3f5f"
          },
          "geo": {
           "bgcolor": "white",
           "lakecolor": "white",
           "landcolor": "#E5ECF6",
           "showlakes": true,
           "showland": true,
           "subunitcolor": "white"
          },
          "hoverlabel": {
           "align": "left"
          },
          "hovermode": "closest",
          "mapbox": {
           "style": "light"
          },
          "paper_bgcolor": "white",
          "plot_bgcolor": "#E5ECF6",
          "polar": {
           "angularaxis": {
            "gridcolor": "white",
            "linecolor": "white",
            "ticks": ""
           },
           "bgcolor": "#E5ECF6",
           "radialaxis": {
            "gridcolor": "white",
            "linecolor": "white",
            "ticks": ""
           }
          },
          "scene": {
           "xaxis": {
            "backgroundcolor": "#E5ECF6",
            "gridcolor": "white",
            "gridwidth": 2,
            "linecolor": "white",
            "showbackground": true,
            "ticks": "",
            "zerolinecolor": "white"
           },
           "yaxis": {
            "backgroundcolor": "#E5ECF6",
            "gridcolor": "white",
            "gridwidth": 2,
            "linecolor": "white",
            "showbackground": true,
            "ticks": "",
            "zerolinecolor": "white"
           },
           "zaxis": {
            "backgroundcolor": "#E5ECF6",
            "gridcolor": "white",
            "gridwidth": 2,
            "linecolor": "white",
            "showbackground": true,
            "ticks": "",
            "zerolinecolor": "white"
           }
          },
          "shapedefaults": {
           "line": {
            "color": "#2a3f5f"
           }
          },
          "ternary": {
           "aaxis": {
            "gridcolor": "white",
            "linecolor": "white",
            "ticks": ""
           },
           "baxis": {
            "gridcolor": "white",
            "linecolor": "white",
            "ticks": ""
           },
           "bgcolor": "#E5ECF6",
           "caxis": {
            "gridcolor": "white",
            "linecolor": "white",
            "ticks": ""
           }
          },
          "title": {
           "x": 0.05
          },
          "xaxis": {
           "automargin": true,
           "gridcolor": "white",
           "linecolor": "white",
           "ticks": "",
           "title": {
            "standoff": 15
           },
           "zerolinecolor": "white",
           "zerolinewidth": 2
          },
          "yaxis": {
           "automargin": true,
           "gridcolor": "white",
           "linecolor": "white",
           "ticks": "",
           "title": {
            "standoff": 15
           },
           "zerolinecolor": "white",
           "zerolinewidth": 2
          }
         }
        },
        "width": 800,
        "xaxis": {
         "visible": false
        },
        "yaxis": {
         "visible": false
        }
       }
      },
      "text/html": [
       "<div>                            <div id=\"16b9af6f-1491-4d6b-947b-1eee04208472\" class=\"plotly-graph-div\" style=\"height:400px; width:800px;\"></div>            <script type=\"text/javascript\">                require([\"plotly\"], function(Plotly) {                    window.PLOTLYENV=window.PLOTLYENV || {};                                    if (document.getElementById(\"16b9af6f-1491-4d6b-947b-1eee04208472\")) {                    Plotly.newPlot(                        \"16b9af6f-1491-4d6b-947b-1eee04208472\",                        [],                        {\"template\":{\"data\":{\"histogram2dcontour\":[{\"type\":\"histogram2dcontour\",\"colorbar\":{\"outlinewidth\":0,\"ticks\":\"\"},\"colorscale\":[[0.0,\"#0d0887\"],[0.1111111111111111,\"#46039f\"],[0.2222222222222222,\"#7201a8\"],[0.3333333333333333,\"#9c179e\"],[0.4444444444444444,\"#bd3786\"],[0.5555555555555556,\"#d8576b\"],[0.6666666666666666,\"#ed7953\"],[0.7777777777777778,\"#fb9f3a\"],[0.8888888888888888,\"#fdca26\"],[1.0,\"#f0f921\"]]}],\"choropleth\":[{\"type\":\"choropleth\",\"colorbar\":{\"outlinewidth\":0,\"ticks\":\"\"}}],\"histogram2d\":[{\"type\":\"histogram2d\",\"colorbar\":{\"outlinewidth\":0,\"ticks\":\"\"},\"colorscale\":[[0.0,\"#0d0887\"],[0.1111111111111111,\"#46039f\"],[0.2222222222222222,\"#7201a8\"],[0.3333333333333333,\"#9c179e\"],[0.4444444444444444,\"#bd3786\"],[0.5555555555555556,\"#d8576b\"],[0.6666666666666666,\"#ed7953\"],[0.7777777777777778,\"#fb9f3a\"],[0.8888888888888888,\"#fdca26\"],[1.0,\"#f0f921\"]]}],\"heatmap\":[{\"type\":\"heatmap\",\"colorbar\":{\"outlinewidth\":0,\"ticks\":\"\"},\"colorscale\":[[0.0,\"#0d0887\"],[0.1111111111111111,\"#46039f\"],[0.2222222222222222,\"#7201a8\"],[0.3333333333333333,\"#9c179e\"],[0.4444444444444444,\"#bd3786\"],[0.5555555555555556,\"#d8576b\"],[0.6666666666666666,\"#ed7953\"],[0.7777777777777778,\"#fb9f3a\"],[0.8888888888888888,\"#fdca26\"],[1.0,\"#f0f921\"]]}],\"heatmapgl\":[{\"type\":\"heatmapgl\",\"colorbar\":{\"outlinewidth\":0,\"ticks\":\"\"},\"colorscale\":[[0.0,\"#0d0887\"],[0.1111111111111111,\"#46039f\"],[0.2222222222222222,\"#7201a8\"],[0.3333333333333333,\"#9c179e\"],[0.4444444444444444,\"#bd3786\"],[0.5555555555555556,\"#d8576b\"],[0.6666666666666666,\"#ed7953\"],[0.7777777777777778,\"#fb9f3a\"],[0.8888888888888888,\"#fdca26\"],[1.0,\"#f0f921\"]]}],\"contourcarpet\":[{\"type\":\"contourcarpet\",\"colorbar\":{\"outlinewidth\":0,\"ticks\":\"\"}}],\"contour\":[{\"type\":\"contour\",\"colorbar\":{\"outlinewidth\":0,\"ticks\":\"\"},\"colorscale\":[[0.0,\"#0d0887\"],[0.1111111111111111,\"#46039f\"],[0.2222222222222222,\"#7201a8\"],[0.3333333333333333,\"#9c179e\"],[0.4444444444444444,\"#bd3786\"],[0.5555555555555556,\"#d8576b\"],[0.6666666666666666,\"#ed7953\"],[0.7777777777777778,\"#fb9f3a\"],[0.8888888888888888,\"#fdca26\"],[1.0,\"#f0f921\"]]}],\"surface\":[{\"type\":\"surface\",\"colorbar\":{\"outlinewidth\":0,\"ticks\":\"\"},\"colorscale\":[[0.0,\"#0d0887\"],[0.1111111111111111,\"#46039f\"],[0.2222222222222222,\"#7201a8\"],[0.3333333333333333,\"#9c179e\"],[0.4444444444444444,\"#bd3786\"],[0.5555555555555556,\"#d8576b\"],[0.6666666666666666,\"#ed7953\"],[0.7777777777777778,\"#fb9f3a\"],[0.8888888888888888,\"#fdca26\"],[1.0,\"#f0f921\"]]}],\"mesh3d\":[{\"type\":\"mesh3d\",\"colorbar\":{\"outlinewidth\":0,\"ticks\":\"\"}}],\"scatter\":[{\"fillpattern\":{\"fillmode\":\"overlay\",\"size\":10,\"solidity\":0.2},\"type\":\"scatter\"}],\"parcoords\":[{\"type\":\"parcoords\",\"line\":{\"colorbar\":{\"outlinewidth\":0,\"ticks\":\"\"}}}],\"scatterpolargl\":[{\"type\":\"scatterpolargl\",\"marker\":{\"colorbar\":{\"outlinewidth\":0,\"ticks\":\"\"}}}],\"bar\":[{\"error_x\":{\"color\":\"#2a3f5f\"},\"error_y\":{\"color\":\"#2a3f5f\"},\"marker\":{\"line\":{\"color\":\"#E5ECF6\",\"width\":0.5},\"pattern\":{\"fillmode\":\"overlay\",\"size\":10,\"solidity\":0.2}},\"type\":\"bar\"}],\"scattergeo\":[{\"type\":\"scattergeo\",\"marker\":{\"colorbar\":{\"outlinewidth\":0,\"ticks\":\"\"}}}],\"scatterpolar\":[{\"type\":\"scatterpolar\",\"marker\":{\"colorbar\":{\"outlinewidth\":0,\"ticks\":\"\"}}}],\"histogram\":[{\"marker\":{\"pattern\":{\"fillmode\":\"overlay\",\"size\":10,\"solidity\":0.2}},\"type\":\"histogram\"}],\"scattergl\":[{\"type\":\"scattergl\",\"marker\":{\"colorbar\":{\"outlinewidth\":0,\"ticks\":\"\"}}}],\"scatter3d\":[{\"type\":\"scatter3d\",\"line\":{\"colorbar\":{\"outlinewidth\":0,\"ticks\":\"\"}},\"marker\":{\"colorbar\":{\"outlinewidth\":0,\"ticks\":\"\"}}}],\"scattermapbox\":[{\"type\":\"scattermapbox\",\"marker\":{\"colorbar\":{\"outlinewidth\":0,\"ticks\":\"\"}}}],\"scatterternary\":[{\"type\":\"scatterternary\",\"marker\":{\"colorbar\":{\"outlinewidth\":0,\"ticks\":\"\"}}}],\"scattercarpet\":[{\"type\":\"scattercarpet\",\"marker\":{\"colorbar\":{\"outlinewidth\":0,\"ticks\":\"\"}}}],\"carpet\":[{\"aaxis\":{\"endlinecolor\":\"#2a3f5f\",\"gridcolor\":\"white\",\"linecolor\":\"white\",\"minorgridcolor\":\"white\",\"startlinecolor\":\"#2a3f5f\"},\"baxis\":{\"endlinecolor\":\"#2a3f5f\",\"gridcolor\":\"white\",\"linecolor\":\"white\",\"minorgridcolor\":\"white\",\"startlinecolor\":\"#2a3f5f\"},\"type\":\"carpet\"}],\"table\":[{\"cells\":{\"fill\":{\"color\":\"#EBF0F8\"},\"line\":{\"color\":\"white\"}},\"header\":{\"fill\":{\"color\":\"#C8D4E3\"},\"line\":{\"color\":\"white\"}},\"type\":\"table\"}],\"barpolar\":[{\"marker\":{\"line\":{\"color\":\"#E5ECF6\",\"width\":0.5},\"pattern\":{\"fillmode\":\"overlay\",\"size\":10,\"solidity\":0.2}},\"type\":\"barpolar\"}],\"pie\":[{\"automargin\":true,\"type\":\"pie\"}]},\"layout\":{\"autotypenumbers\":\"strict\",\"colorway\":[\"#636efa\",\"#EF553B\",\"#00cc96\",\"#ab63fa\",\"#FFA15A\",\"#19d3f3\",\"#FF6692\",\"#B6E880\",\"#FF97FF\",\"#FECB52\"],\"font\":{\"color\":\"#2a3f5f\"},\"hovermode\":\"closest\",\"hoverlabel\":{\"align\":\"left\"},\"paper_bgcolor\":\"white\",\"plot_bgcolor\":\"#E5ECF6\",\"polar\":{\"bgcolor\":\"#E5ECF6\",\"angularaxis\":{\"gridcolor\":\"white\",\"linecolor\":\"white\",\"ticks\":\"\"},\"radialaxis\":{\"gridcolor\":\"white\",\"linecolor\":\"white\",\"ticks\":\"\"}},\"ternary\":{\"bgcolor\":\"#E5ECF6\",\"aaxis\":{\"gridcolor\":\"white\",\"linecolor\":\"white\",\"ticks\":\"\"},\"baxis\":{\"gridcolor\":\"white\",\"linecolor\":\"white\",\"ticks\":\"\"},\"caxis\":{\"gridcolor\":\"white\",\"linecolor\":\"white\",\"ticks\":\"\"}},\"coloraxis\":{\"colorbar\":{\"outlinewidth\":0,\"ticks\":\"\"}},\"colorscale\":{\"sequential\":[[0.0,\"#0d0887\"],[0.1111111111111111,\"#46039f\"],[0.2222222222222222,\"#7201a8\"],[0.3333333333333333,\"#9c179e\"],[0.4444444444444444,\"#bd3786\"],[0.5555555555555556,\"#d8576b\"],[0.6666666666666666,\"#ed7953\"],[0.7777777777777778,\"#fb9f3a\"],[0.8888888888888888,\"#fdca26\"],[1.0,\"#f0f921\"]],\"sequentialminus\":[[0.0,\"#0d0887\"],[0.1111111111111111,\"#46039f\"],[0.2222222222222222,\"#7201a8\"],[0.3333333333333333,\"#9c179e\"],[0.4444444444444444,\"#bd3786\"],[0.5555555555555556,\"#d8576b\"],[0.6666666666666666,\"#ed7953\"],[0.7777777777777778,\"#fb9f3a\"],[0.8888888888888888,\"#fdca26\"],[1.0,\"#f0f921\"]],\"diverging\":[[0,\"#8e0152\"],[0.1,\"#c51b7d\"],[0.2,\"#de77ae\"],[0.3,\"#f1b6da\"],[0.4,\"#fde0ef\"],[0.5,\"#f7f7f7\"],[0.6,\"#e6f5d0\"],[0.7,\"#b8e186\"],[0.8,\"#7fbc41\"],[0.9,\"#4d9221\"],[1,\"#276419\"]]},\"xaxis\":{\"gridcolor\":\"white\",\"linecolor\":\"white\",\"ticks\":\"\",\"title\":{\"standoff\":15},\"zerolinecolor\":\"white\",\"automargin\":true,\"zerolinewidth\":2},\"yaxis\":{\"gridcolor\":\"white\",\"linecolor\":\"white\",\"ticks\":\"\",\"title\":{\"standoff\":15},\"zerolinecolor\":\"white\",\"automargin\":true,\"zerolinewidth\":2},\"scene\":{\"xaxis\":{\"backgroundcolor\":\"#E5ECF6\",\"gridcolor\":\"white\",\"linecolor\":\"white\",\"showbackground\":true,\"ticks\":\"\",\"zerolinecolor\":\"white\",\"gridwidth\":2},\"yaxis\":{\"backgroundcolor\":\"#E5ECF6\",\"gridcolor\":\"white\",\"linecolor\":\"white\",\"showbackground\":true,\"ticks\":\"\",\"zerolinecolor\":\"white\",\"gridwidth\":2},\"zaxis\":{\"backgroundcolor\":\"#E5ECF6\",\"gridcolor\":\"white\",\"linecolor\":\"white\",\"showbackground\":true,\"ticks\":\"\",\"zerolinecolor\":\"white\",\"gridwidth\":2}},\"shapedefaults\":{\"line\":{\"color\":\"#2a3f5f\"}},\"annotationdefaults\":{\"arrowcolor\":\"#2a3f5f\",\"arrowhead\":0,\"arrowwidth\":1},\"geo\":{\"bgcolor\":\"white\",\"landcolor\":\"#E5ECF6\",\"subunitcolor\":\"white\",\"showland\":true,\"showlakes\":true,\"lakecolor\":\"white\"},\"title\":{\"x\":0.05},\"mapbox\":{\"style\":\"light\"}}},\"images\":[{\"sizex\":1,\"sizey\":1,\"source\":\"data:image/png;base64,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\",\"x\":0.5,\"xanchor\":\"center\",\"xref\":\"paper\",\"y\":0.5,\"yanchor\":\"middle\",\"yref\":\"paper\"}],\"margin\":{\"l\":0,\"r\":0,\"t\":0,\"b\":0},\"xaxis\":{\"visible\":false},\"yaxis\":{\"visible\":false},\"width\":800,\"height\":400},                        {\"responsive\": true}                    ).then(function(){\n",
       "                            \n",
       "var gd = document.getElementById('16b9af6f-1491-4d6b-947b-1eee04208472');\n",
       "var x = new MutationObserver(function (mutations, observer) {{\n",
       "        var display = window.getComputedStyle(gd).display;\n",
       "        if (!display || display === 'none') {{\n",
       "            console.log([gd, 'removed!']);\n",
       "            Plotly.purge(gd);\n",
       "            observer.disconnect();\n",
       "        }}\n",
       "}});\n",
       "\n",
       "// Listen for the removal of the full notebook cells\n",
       "var notebookContainer = gd.closest('#notebook-container');\n",
       "if (notebookContainer) {{\n",
       "    x.observe(notebookContainer, {childList: true});\n",
       "}}\n",
       "\n",
       "// Listen for the clearing of the current output cell\n",
       "var outputEl = gd.closest('.output');\n",
       "if (outputEl) {{\n",
       "    x.observe(outputEl, {childList: true});\n",
       "}}\n",
       "\n",
       "                        })                };                });            </script>        </div>"
      ]
     },
     "metadata": {},
     "output_type": "display_data"
    }
   ],
   "source": [
    "words = df[\"categories\"].to_list()\n",
    "words = \" \".join(words)\n",
    "words = words.replace(\"/\", \" \").replace(\"Nothing\", \"\")\n",
    "\n",
    "# Generate the word cloud\n",
    "wordcloud = WordCloud(width=800, height=400, background_color=\"white\").generate(words)\n",
    "\n",
    "# Save the word cloud to a bytes object\n",
    "img_buffer = BytesIO()\n",
    "wordcloud.to_image().save(img_buffer, format=\"PNG\")\n",
    "img_buffer.seek(0)\n",
    "\n",
    "# Encode the image in base64 to embed in Plotly\n",
    "img_base64 = base64.b64encode(img_buffer.read()).decode(\"utf-8\")\n",
    "\n",
    "# Create a Plotly figure to display the image\n",
    "fig = go.Figure()\n",
    "\n",
    "# Add the image to the figure\n",
    "fig.add_layout_image(\n",
    "    dict(\n",
    "        source=f\"data:image/png;base64,{img_base64}\",\n",
    "        xref=\"paper\",\n",
    "        yref=\"paper\",\n",
    "        x=0.5,\n",
    "        y=0.5,  # Position at the center\n",
    "        sizex=1,\n",
    "        sizey=1,  # Scale to fit\n",
    "        xanchor=\"center\",\n",
    "        yanchor=\"middle\",\n",
    "    )\n",
    ")\n",
    "\n",
    "# Update the layout to remove axes and padding\n",
    "fig.update_layout(\n",
    "    width=800,\n",
    "    height=400,\n",
    "    margin=dict(l=0, r=0, t=0, b=0),\n",
    "    xaxis=dict(visible=False),\n",
    "    yaxis=dict(visible=False),\n",
    ")\n",
    "\n",
    "# Show the figure\n",
    "fig.show()"
   ]
  },
  {
   "cell_type": "markdown",
   "metadata": {},
   "source": [
    "## Location Wise call records"
   ]
  },
  {
   "cell_type": "code",
   "execution_count": 114,
   "metadata": {},
   "outputs": [
    {
     "data": {
      "text/html": [
       "<div>\n",
       "<style scoped>\n",
       "    .dataframe tbody tr th:only-of-type {\n",
       "        vertical-align: middle;\n",
       "    }\n",
       "\n",
       "    .dataframe tbody tr th {\n",
       "        vertical-align: top;\n",
       "    }\n",
       "\n",
       "    .dataframe thead th {\n",
       "        text-align: right;\n",
       "    }\n",
       "</style>\n",
       "<table border=\"1\" class=\"dataframe\">\n",
       "  <thead>\n",
       "    <tr style=\"text-align: right;\">\n",
       "      <th></th>\n",
       "      <th>location</th>\n",
       "      <th>total_calls</th>\n",
       "    </tr>\n",
       "  </thead>\n",
       "  <tbody>\n",
       "    <tr>\n",
       "      <th>0</th>\n",
       "      <td>Boston, MA</td>\n",
       "      <td>28</td>\n",
       "    </tr>\n",
       "    <tr>\n",
       "      <th>1</th>\n",
       "      <td>Jacksonville, FL</td>\n",
       "      <td>22</td>\n",
       "    </tr>\n",
       "    <tr>\n",
       "      <th>2</th>\n",
       "      <td>Los Angeles, CA</td>\n",
       "      <td>38</td>\n",
       "    </tr>\n",
       "    <tr>\n",
       "      <th>3</th>\n",
       "      <td>New York, NY</td>\n",
       "      <td>32</td>\n",
       "    </tr>\n",
       "    <tr>\n",
       "      <th>4</th>\n",
       "      <td>San Diego, CA</td>\n",
       "      <td>34</td>\n",
       "    </tr>\n",
       "    <tr>\n",
       "      <th>5</th>\n",
       "      <td>San Francisco, CA</td>\n",
       "      <td>37</td>\n",
       "    </tr>\n",
       "    <tr>\n",
       "      <th>6</th>\n",
       "      <td>Seattle, WA</td>\n",
       "      <td>27</td>\n",
       "    </tr>\n",
       "    <tr>\n",
       "      <th>7</th>\n",
       "      <td>Washington, D.C.</td>\n",
       "      <td>32</td>\n",
       "    </tr>\n",
       "  </tbody>\n",
       "</table>\n",
       "</div>"
      ],
      "text/plain": [
       "            location  total_calls\n",
       "0         Boston, MA           28\n",
       "1   Jacksonville, FL           22\n",
       "2    Los Angeles, CA           38\n",
       "3       New York, NY           32\n",
       "4      San Diego, CA           34\n",
       "5  San Francisco, CA           37\n",
       "6        Seattle, WA           27\n",
       "7   Washington, D.C.           32"
      ]
     },
     "execution_count": 114,
     "metadata": {},
     "output_type": "execute_result"
    }
   ],
   "source": [
    "df = pd.read_json(os.path.join(os.getcwd(), \"result.json\"))\n",
    "calls_per_location = df.groupby(\"location\").size().reset_index(name=\"total_calls\")\n",
    "\n",
    "calls_per_location"
   ]
  },
  {
   "cell_type": "code",
   "execution_count": 115,
   "metadata": {},
   "outputs": [
    {
     "data": {
      "text/html": [
       "<div>\n",
       "<style scoped>\n",
       "    .dataframe tbody tr th:only-of-type {\n",
       "        vertical-align: middle;\n",
       "    }\n",
       "\n",
       "    .dataframe tbody tr th {\n",
       "        vertical-align: top;\n",
       "    }\n",
       "\n",
       "    .dataframe thead th {\n",
       "        text-align: right;\n",
       "    }\n",
       "</style>\n",
       "<table border=\"1\" class=\"dataframe\">\n",
       "  <thead>\n",
       "    <tr style=\"text-align: right;\">\n",
       "      <th></th>\n",
       "      <th>location</th>\n",
       "      <th>total_calls</th>\n",
       "      <th>latitude</th>\n",
       "      <th>longitude</th>\n",
       "    </tr>\n",
       "  </thead>\n",
       "  <tbody>\n",
       "    <tr>\n",
       "      <th>0</th>\n",
       "      <td>Boston, MA</td>\n",
       "      <td>28</td>\n",
       "      <td>42.3601</td>\n",
       "      <td>-71.0589</td>\n",
       "    </tr>\n",
       "    <tr>\n",
       "      <th>1</th>\n",
       "      <td>Jacksonville, FL</td>\n",
       "      <td>22</td>\n",
       "      <td>30.3322</td>\n",
       "      <td>-81.6557</td>\n",
       "    </tr>\n",
       "    <tr>\n",
       "      <th>2</th>\n",
       "      <td>Los Angeles, CA</td>\n",
       "      <td>38</td>\n",
       "      <td>34.0522</td>\n",
       "      <td>-118.2437</td>\n",
       "    </tr>\n",
       "    <tr>\n",
       "      <th>3</th>\n",
       "      <td>New York, NY</td>\n",
       "      <td>32</td>\n",
       "      <td>40.7128</td>\n",
       "      <td>-74.0060</td>\n",
       "    </tr>\n",
       "    <tr>\n",
       "      <th>4</th>\n",
       "      <td>San Diego, CA</td>\n",
       "      <td>34</td>\n",
       "      <td>32.7157</td>\n",
       "      <td>-117.1611</td>\n",
       "    </tr>\n",
       "  </tbody>\n",
       "</table>\n",
       "</div>"
      ],
      "text/plain": [
       "           location  total_calls  latitude  longitude\n",
       "0        Boston, MA           28   42.3601   -71.0589\n",
       "1  Jacksonville, FL           22   30.3322   -81.6557\n",
       "2   Los Angeles, CA           38   34.0522  -118.2437\n",
       "3      New York, NY           32   40.7128   -74.0060\n",
       "4     San Diego, CA           34   32.7157  -117.1611"
      ]
     },
     "execution_count": 115,
     "metadata": {},
     "output_type": "execute_result"
    }
   ],
   "source": [
    "# Geographical coordinates for the specified locations\n",
    "location_coords = {\n",
    "    \"New York, NY\": (40.7128, -74.0060),\n",
    "    \"Los Angeles, CA\": (34.0522, -118.2437),\n",
    "    \"San Diego, CA\": (32.7157, -117.1611),\n",
    "    \"San Francisco, CA\": (37.7749, -122.4194),\n",
    "    \"Jacksonville, FL\": (30.3322, -81.6557),\n",
    "    \"Seattle, WA\": (47.6062, -122.3321),\n",
    "    \"Washington, D.C.\": (38.9072, -77.0369),\n",
    "    \"Boston, MA\": (42.3601, -71.0589)\n",
    "}\n",
    "\n",
    "# Add latitude and longitude to the DataFrame\n",
    "calls_per_location[\"latitude\"] = calls_per_location[\"location\"].map(\n",
    "    lambda loc: location_coords[loc][0]\n",
    ")\n",
    "calls_per_location[\"longitude\"] = calls_per_location[\"location\"].map(\n",
    "    lambda loc: location_coords[loc][1]\n",
    ")\n",
    "calls_per_location.head()"
   ]
  },
  {
   "cell_type": "code",
   "execution_count": 127,
   "metadata": {},
   "outputs": [
    {
     "data": {
      "application/vnd.plotly.v1+json": {
       "config": {
        "plotlyServerURL": "https://plot.ly"
       },
       "data": [
        {
         "lat": [
          42.3601,
          30.3322,
          34.0522,
          40.7128,
          32.7157,
          37.7749,
          47.6062,
          38.9072
         ],
         "lon": [
          -71.0589,
          -81.6557,
          -118.2437,
          -74.006,
          -117.1611,
          -122.4194,
          -122.3321,
          -77.0369
         ],
         "marker": {
          "color": [
           28,
           22,
           38,
           32,
           34,
           37,
           27,
           32
          ],
          "colorbar": {
           "title": {
            "text": "Number of Calls"
           }
          },
          "colorscale": [
           [
            0,
            "#440154"
           ],
           [
            0.1111111111111111,
            "#482878"
           ],
           [
            0.2222222222222222,
            "#3e4989"
           ],
           [
            0.3333333333333333,
            "#31688e"
           ],
           [
            0.4444444444444444,
            "#26828e"
           ],
           [
            0.5555555555555556,
            "#1f9e89"
           ],
           [
            0.6666666666666666,
            "#35b779"
           ],
           [
            0.7777777777777778,
            "#6ece58"
           ],
           [
            0.8888888888888888,
            "#b5de2b"
           ],
           [
            1,
            "#fde725"
           ]
          ],
          "size": [
           28,
           22,
           38,
           32,
           34,
           37,
           27,
           32
          ]
         },
         "mode": "markers",
         "text": [
          "Boston, MA",
          "Jacksonville, FL",
          "Los Angeles, CA",
          "New York, NY",
          "San Diego, CA",
          "San Francisco, CA",
          "Seattle, WA",
          "Washington, D.C."
         ],
         "type": "scattergeo"
        }
       ],
       "layout": {
        "geo": {
         "coastlinecolor": "rgb(0, 0, 0)",
         "countrycolor": "rgb(255, 255, 255)",
         "landcolor": "rgb(240, 240, 240)",
         "oceancolor": "rgb(0, 204, 255)",
         "projection": {
          "type": "albers usa"
         },
         "scope": "usa",
         "showcoastlines": true,
         "showland": true,
         "showocean": true
        },
        "template": {
         "data": {
          "bar": [
           {
            "error_x": {
             "color": "#2a3f5f"
            },
            "error_y": {
             "color": "#2a3f5f"
            },
            "marker": {
             "line": {
              "color": "#E5ECF6",
              "width": 0.5
             },
             "pattern": {
              "fillmode": "overlay",
              "size": 10,
              "solidity": 0.2
             }
            },
            "type": "bar"
           }
          ],
          "barpolar": [
           {
            "marker": {
             "line": {
              "color": "#E5ECF6",
              "width": 0.5
             },
             "pattern": {
              "fillmode": "overlay",
              "size": 10,
              "solidity": 0.2
             }
            },
            "type": "barpolar"
           }
          ],
          "carpet": [
           {
            "aaxis": {
             "endlinecolor": "#2a3f5f",
             "gridcolor": "white",
             "linecolor": "white",
             "minorgridcolor": "white",
             "startlinecolor": "#2a3f5f"
            },
            "baxis": {
             "endlinecolor": "#2a3f5f",
             "gridcolor": "white",
             "linecolor": "white",
             "minorgridcolor": "white",
             "startlinecolor": "#2a3f5f"
            },
            "type": "carpet"
           }
          ],
          "choropleth": [
           {
            "colorbar": {
             "outlinewidth": 0,
             "ticks": ""
            },
            "type": "choropleth"
           }
          ],
          "contour": [
           {
            "colorbar": {
             "outlinewidth": 0,
             "ticks": ""
            },
            "colorscale": [
             [
              0,
              "#0d0887"
             ],
             [
              0.1111111111111111,
              "#46039f"
             ],
             [
              0.2222222222222222,
              "#7201a8"
             ],
             [
              0.3333333333333333,
              "#9c179e"
             ],
             [
              0.4444444444444444,
              "#bd3786"
             ],
             [
              0.5555555555555556,
              "#d8576b"
             ],
             [
              0.6666666666666666,
              "#ed7953"
             ],
             [
              0.7777777777777778,
              "#fb9f3a"
             ],
             [
              0.8888888888888888,
              "#fdca26"
             ],
             [
              1,
              "#f0f921"
             ]
            ],
            "type": "contour"
           }
          ],
          "contourcarpet": [
           {
            "colorbar": {
             "outlinewidth": 0,
             "ticks": ""
            },
            "type": "contourcarpet"
           }
          ],
          "heatmap": [
           {
            "colorbar": {
             "outlinewidth": 0,
             "ticks": ""
            },
            "colorscale": [
             [
              0,
              "#0d0887"
             ],
             [
              0.1111111111111111,
              "#46039f"
             ],
             [
              0.2222222222222222,
              "#7201a8"
             ],
             [
              0.3333333333333333,
              "#9c179e"
             ],
             [
              0.4444444444444444,
              "#bd3786"
             ],
             [
              0.5555555555555556,
              "#d8576b"
             ],
             [
              0.6666666666666666,
              "#ed7953"
             ],
             [
              0.7777777777777778,
              "#fb9f3a"
             ],
             [
              0.8888888888888888,
              "#fdca26"
             ],
             [
              1,
              "#f0f921"
             ]
            ],
            "type": "heatmap"
           }
          ],
          "heatmapgl": [
           {
            "colorbar": {
             "outlinewidth": 0,
             "ticks": ""
            },
            "colorscale": [
             [
              0,
              "#0d0887"
             ],
             [
              0.1111111111111111,
              "#46039f"
             ],
             [
              0.2222222222222222,
              "#7201a8"
             ],
             [
              0.3333333333333333,
              "#9c179e"
             ],
             [
              0.4444444444444444,
              "#bd3786"
             ],
             [
              0.5555555555555556,
              "#d8576b"
             ],
             [
              0.6666666666666666,
              "#ed7953"
             ],
             [
              0.7777777777777778,
              "#fb9f3a"
             ],
             [
              0.8888888888888888,
              "#fdca26"
             ],
             [
              1,
              "#f0f921"
             ]
            ],
            "type": "heatmapgl"
           }
          ],
          "histogram": [
           {
            "marker": {
             "pattern": {
              "fillmode": "overlay",
              "size": 10,
              "solidity": 0.2
             }
            },
            "type": "histogram"
           }
          ],
          "histogram2d": [
           {
            "colorbar": {
             "outlinewidth": 0,
             "ticks": ""
            },
            "colorscale": [
             [
              0,
              "#0d0887"
             ],
             [
              0.1111111111111111,
              "#46039f"
             ],
             [
              0.2222222222222222,
              "#7201a8"
             ],
             [
              0.3333333333333333,
              "#9c179e"
             ],
             [
              0.4444444444444444,
              "#bd3786"
             ],
             [
              0.5555555555555556,
              "#d8576b"
             ],
             [
              0.6666666666666666,
              "#ed7953"
             ],
             [
              0.7777777777777778,
              "#fb9f3a"
             ],
             [
              0.8888888888888888,
              "#fdca26"
             ],
             [
              1,
              "#f0f921"
             ]
            ],
            "type": "histogram2d"
           }
          ],
          "histogram2dcontour": [
           {
            "colorbar": {
             "outlinewidth": 0,
             "ticks": ""
            },
            "colorscale": [
             [
              0,
              "#0d0887"
             ],
             [
              0.1111111111111111,
              "#46039f"
             ],
             [
              0.2222222222222222,
              "#7201a8"
             ],
             [
              0.3333333333333333,
              "#9c179e"
             ],
             [
              0.4444444444444444,
              "#bd3786"
             ],
             [
              0.5555555555555556,
              "#d8576b"
             ],
             [
              0.6666666666666666,
              "#ed7953"
             ],
             [
              0.7777777777777778,
              "#fb9f3a"
             ],
             [
              0.8888888888888888,
              "#fdca26"
             ],
             [
              1,
              "#f0f921"
             ]
            ],
            "type": "histogram2dcontour"
           }
          ],
          "mesh3d": [
           {
            "colorbar": {
             "outlinewidth": 0,
             "ticks": ""
            },
            "type": "mesh3d"
           }
          ],
          "parcoords": [
           {
            "line": {
             "colorbar": {
              "outlinewidth": 0,
              "ticks": ""
             }
            },
            "type": "parcoords"
           }
          ],
          "pie": [
           {
            "automargin": true,
            "type": "pie"
           }
          ],
          "scatter": [
           {
            "fillpattern": {
             "fillmode": "overlay",
             "size": 10,
             "solidity": 0.2
            },
            "type": "scatter"
           }
          ],
          "scatter3d": [
           {
            "line": {
             "colorbar": {
              "outlinewidth": 0,
              "ticks": ""
             }
            },
            "marker": {
             "colorbar": {
              "outlinewidth": 0,
              "ticks": ""
             }
            },
            "type": "scatter3d"
           }
          ],
          "scattercarpet": [
           {
            "marker": {
             "colorbar": {
              "outlinewidth": 0,
              "ticks": ""
             }
            },
            "type": "scattercarpet"
           }
          ],
          "scattergeo": [
           {
            "marker": {
             "colorbar": {
              "outlinewidth": 0,
              "ticks": ""
             }
            },
            "type": "scattergeo"
           }
          ],
          "scattergl": [
           {
            "marker": {
             "colorbar": {
              "outlinewidth": 0,
              "ticks": ""
             }
            },
            "type": "scattergl"
           }
          ],
          "scattermapbox": [
           {
            "marker": {
             "colorbar": {
              "outlinewidth": 0,
              "ticks": ""
             }
            },
            "type": "scattermapbox"
           }
          ],
          "scatterpolar": [
           {
            "marker": {
             "colorbar": {
              "outlinewidth": 0,
              "ticks": ""
             }
            },
            "type": "scatterpolar"
           }
          ],
          "scatterpolargl": [
           {
            "marker": {
             "colorbar": {
              "outlinewidth": 0,
              "ticks": ""
             }
            },
            "type": "scatterpolargl"
           }
          ],
          "scatterternary": [
           {
            "marker": {
             "colorbar": {
              "outlinewidth": 0,
              "ticks": ""
             }
            },
            "type": "scatterternary"
           }
          ],
          "surface": [
           {
            "colorbar": {
             "outlinewidth": 0,
             "ticks": ""
            },
            "colorscale": [
             [
              0,
              "#0d0887"
             ],
             [
              0.1111111111111111,
              "#46039f"
             ],
             [
              0.2222222222222222,
              "#7201a8"
             ],
             [
              0.3333333333333333,
              "#9c179e"
             ],
             [
              0.4444444444444444,
              "#bd3786"
             ],
             [
              0.5555555555555556,
              "#d8576b"
             ],
             [
              0.6666666666666666,
              "#ed7953"
             ],
             [
              0.7777777777777778,
              "#fb9f3a"
             ],
             [
              0.8888888888888888,
              "#fdca26"
             ],
             [
              1,
              "#f0f921"
             ]
            ],
            "type": "surface"
           }
          ],
          "table": [
           {
            "cells": {
             "fill": {
              "color": "#EBF0F8"
             },
             "line": {
              "color": "white"
             }
            },
            "header": {
             "fill": {
              "color": "#C8D4E3"
             },
             "line": {
              "color": "white"
             }
            },
            "type": "table"
           }
          ]
         },
         "layout": {
          "annotationdefaults": {
           "arrowcolor": "#2a3f5f",
           "arrowhead": 0,
           "arrowwidth": 1
          },
          "autotypenumbers": "strict",
          "coloraxis": {
           "colorbar": {
            "outlinewidth": 0,
            "ticks": ""
           }
          },
          "colorscale": {
           "diverging": [
            [
             0,
             "#8e0152"
            ],
            [
             0.1,
             "#c51b7d"
            ],
            [
             0.2,
             "#de77ae"
            ],
            [
             0.3,
             "#f1b6da"
            ],
            [
             0.4,
             "#fde0ef"
            ],
            [
             0.5,
             "#f7f7f7"
            ],
            [
             0.6,
             "#e6f5d0"
            ],
            [
             0.7,
             "#b8e186"
            ],
            [
             0.8,
             "#7fbc41"
            ],
            [
             0.9,
             "#4d9221"
            ],
            [
             1,
             "#276419"
            ]
           ],
           "sequential": [
            [
             0,
             "#0d0887"
            ],
            [
             0.1111111111111111,
             "#46039f"
            ],
            [
             0.2222222222222222,
             "#7201a8"
            ],
            [
             0.3333333333333333,
             "#9c179e"
            ],
            [
             0.4444444444444444,
             "#bd3786"
            ],
            [
             0.5555555555555556,
             "#d8576b"
            ],
            [
             0.6666666666666666,
             "#ed7953"
            ],
            [
             0.7777777777777778,
             "#fb9f3a"
            ],
            [
             0.8888888888888888,
             "#fdca26"
            ],
            [
             1,
             "#f0f921"
            ]
           ],
           "sequentialminus": [
            [
             0,
             "#0d0887"
            ],
            [
             0.1111111111111111,
             "#46039f"
            ],
            [
             0.2222222222222222,
             "#7201a8"
            ],
            [
             0.3333333333333333,
             "#9c179e"
            ],
            [
             0.4444444444444444,
             "#bd3786"
            ],
            [
             0.5555555555555556,
             "#d8576b"
            ],
            [
             0.6666666666666666,
             "#ed7953"
            ],
            [
             0.7777777777777778,
             "#fb9f3a"
            ],
            [
             0.8888888888888888,
             "#fdca26"
            ],
            [
             1,
             "#f0f921"
            ]
           ]
          },
          "colorway": [
           "#636efa",
           "#EF553B",
           "#00cc96",
           "#ab63fa",
           "#FFA15A",
           "#19d3f3",
           "#FF6692",
           "#B6E880",
           "#FF97FF",
           "#FECB52"
          ],
          "font": {
           "color": "#2a3f5f"
          },
          "geo": {
           "bgcolor": "white",
           "lakecolor": "white",
           "landcolor": "#E5ECF6",
           "showlakes": true,
           "showland": true,
           "subunitcolor": "white"
          },
          "hoverlabel": {
           "align": "left"
          },
          "hovermode": "closest",
          "mapbox": {
           "style": "light"
          },
          "paper_bgcolor": "white",
          "plot_bgcolor": "#E5ECF6",
          "polar": {
           "angularaxis": {
            "gridcolor": "white",
            "linecolor": "white",
            "ticks": ""
           },
           "bgcolor": "#E5ECF6",
           "radialaxis": {
            "gridcolor": "white",
            "linecolor": "white",
            "ticks": ""
           }
          },
          "scene": {
           "xaxis": {
            "backgroundcolor": "#E5ECF6",
            "gridcolor": "white",
            "gridwidth": 2,
            "linecolor": "white",
            "showbackground": true,
            "ticks": "",
            "zerolinecolor": "white"
           },
           "yaxis": {
            "backgroundcolor": "#E5ECF6",
            "gridcolor": "white",
            "gridwidth": 2,
            "linecolor": "white",
            "showbackground": true,
            "ticks": "",
            "zerolinecolor": "white"
           },
           "zaxis": {
            "backgroundcolor": "#E5ECF6",
            "gridcolor": "white",
            "gridwidth": 2,
            "linecolor": "white",
            "showbackground": true,
            "ticks": "",
            "zerolinecolor": "white"
           }
          },
          "shapedefaults": {
           "line": {
            "color": "#2a3f5f"
           }
          },
          "ternary": {
           "aaxis": {
            "gridcolor": "white",
            "linecolor": "white",
            "ticks": ""
           },
           "baxis": {
            "gridcolor": "white",
            "linecolor": "white",
            "ticks": ""
           },
           "bgcolor": "#E5ECF6",
           "caxis": {
            "gridcolor": "white",
            "linecolor": "white",
            "ticks": ""
           }
          },
          "title": {
           "x": 0.05
          },
          "xaxis": {
           "automargin": true,
           "gridcolor": "white",
           "linecolor": "white",
           "ticks": "",
           "title": {
            "standoff": 15
           },
           "zerolinecolor": "white",
           "zerolinewidth": 2
          },
          "yaxis": {
           "automargin": true,
           "gridcolor": "white",
           "linecolor": "white",
           "ticks": "",
           "title": {
            "standoff": 15
           },
           "zerolinecolor": "white",
           "zerolinewidth": 2
          }
         }
        },
        "title": {
         "text": "Heatmap of Calls by Location"
        }
       }
      },
      "text/html": [
       "<div>                            <div id=\"cfc3ea8d-b6a5-48d7-93c7-0e2860ec87cd\" class=\"plotly-graph-div\" style=\"height:525px; width:100%;\"></div>            <script type=\"text/javascript\">                require([\"plotly\"], function(Plotly) {                    window.PLOTLYENV=window.PLOTLYENV || {};                                    if (document.getElementById(\"cfc3ea8d-b6a5-48d7-93c7-0e2860ec87cd\")) {                    Plotly.newPlot(                        \"cfc3ea8d-b6a5-48d7-93c7-0e2860ec87cd\",                        [{\"lat\":[42.3601,30.3322,34.0522,40.7128,32.7157,37.7749,47.6062,38.9072],\"lon\":[-71.0589,-81.6557,-118.2437,-74.006,-117.1611,-122.4194,-122.3321,-77.0369],\"marker\":{\"color\":[28,22,38,32,34,37,27,32],\"colorbar\":{\"title\":{\"text\":\"Number of Calls\"}},\"colorscale\":[[0.0,\"#440154\"],[0.1111111111111111,\"#482878\"],[0.2222222222222222,\"#3e4989\"],[0.3333333333333333,\"#31688e\"],[0.4444444444444444,\"#26828e\"],[0.5555555555555556,\"#1f9e89\"],[0.6666666666666666,\"#35b779\"],[0.7777777777777778,\"#6ece58\"],[0.8888888888888888,\"#b5de2b\"],[1.0,\"#fde725\"]],\"size\":[28,22,38,32,34,37,27,32]},\"mode\":\"markers\",\"text\":[\"Boston, MA\",\"Jacksonville, FL\",\"Los Angeles, CA\",\"New York, NY\",\"San Diego, CA\",\"San Francisco, CA\",\"Seattle, WA\",\"Washington, D.C.\"],\"type\":\"scattergeo\"}],                        {\"template\":{\"data\":{\"histogram2dcontour\":[{\"type\":\"histogram2dcontour\",\"colorbar\":{\"outlinewidth\":0,\"ticks\":\"\"},\"colorscale\":[[0.0,\"#0d0887\"],[0.1111111111111111,\"#46039f\"],[0.2222222222222222,\"#7201a8\"],[0.3333333333333333,\"#9c179e\"],[0.4444444444444444,\"#bd3786\"],[0.5555555555555556,\"#d8576b\"],[0.6666666666666666,\"#ed7953\"],[0.7777777777777778,\"#fb9f3a\"],[0.8888888888888888,\"#fdca26\"],[1.0,\"#f0f921\"]]}],\"choropleth\":[{\"type\":\"choropleth\",\"colorbar\":{\"outlinewidth\":0,\"ticks\":\"\"}}],\"histogram2d\":[{\"type\":\"histogram2d\",\"colorbar\":{\"outlinewidth\":0,\"ticks\":\"\"},\"colorscale\":[[0.0,\"#0d0887\"],[0.1111111111111111,\"#46039f\"],[0.2222222222222222,\"#7201a8\"],[0.3333333333333333,\"#9c179e\"],[0.4444444444444444,\"#bd3786\"],[0.5555555555555556,\"#d8576b\"],[0.6666666666666666,\"#ed7953\"],[0.7777777777777778,\"#fb9f3a\"],[0.8888888888888888,\"#fdca26\"],[1.0,\"#f0f921\"]]}],\"heatmap\":[{\"type\":\"heatmap\",\"colorbar\":{\"outlinewidth\":0,\"ticks\":\"\"},\"colorscale\":[[0.0,\"#0d0887\"],[0.1111111111111111,\"#46039f\"],[0.2222222222222222,\"#7201a8\"],[0.3333333333333333,\"#9c179e\"],[0.4444444444444444,\"#bd3786\"],[0.5555555555555556,\"#d8576b\"],[0.6666666666666666,\"#ed7953\"],[0.7777777777777778,\"#fb9f3a\"],[0.8888888888888888,\"#fdca26\"],[1.0,\"#f0f921\"]]}],\"heatmapgl\":[{\"type\":\"heatmapgl\",\"colorbar\":{\"outlinewidth\":0,\"ticks\":\"\"},\"colorscale\":[[0.0,\"#0d0887\"],[0.1111111111111111,\"#46039f\"],[0.2222222222222222,\"#7201a8\"],[0.3333333333333333,\"#9c179e\"],[0.4444444444444444,\"#bd3786\"],[0.5555555555555556,\"#d8576b\"],[0.6666666666666666,\"#ed7953\"],[0.7777777777777778,\"#fb9f3a\"],[0.8888888888888888,\"#fdca26\"],[1.0,\"#f0f921\"]]}],\"contourcarpet\":[{\"type\":\"contourcarpet\",\"colorbar\":{\"outlinewidth\":0,\"ticks\":\"\"}}],\"contour\":[{\"type\":\"contour\",\"colorbar\":{\"outlinewidth\":0,\"ticks\":\"\"},\"colorscale\":[[0.0,\"#0d0887\"],[0.1111111111111111,\"#46039f\"],[0.2222222222222222,\"#7201a8\"],[0.3333333333333333,\"#9c179e\"],[0.4444444444444444,\"#bd3786\"],[0.5555555555555556,\"#d8576b\"],[0.6666666666666666,\"#ed7953\"],[0.7777777777777778,\"#fb9f3a\"],[0.8888888888888888,\"#fdca26\"],[1.0,\"#f0f921\"]]}],\"surface\":[{\"type\":\"surface\",\"colorbar\":{\"outlinewidth\":0,\"ticks\":\"\"},\"colorscale\":[[0.0,\"#0d0887\"],[0.1111111111111111,\"#46039f\"],[0.2222222222222222,\"#7201a8\"],[0.3333333333333333,\"#9c179e\"],[0.4444444444444444,\"#bd3786\"],[0.5555555555555556,\"#d8576b\"],[0.6666666666666666,\"#ed7953\"],[0.7777777777777778,\"#fb9f3a\"],[0.8888888888888888,\"#fdca26\"],[1.0,\"#f0f921\"]]}],\"mesh3d\":[{\"type\":\"mesh3d\",\"colorbar\":{\"outlinewidth\":0,\"ticks\":\"\"}}],\"scatter\":[{\"fillpattern\":{\"fillmode\":\"overlay\",\"size\":10,\"solidity\":0.2},\"type\":\"scatter\"}],\"parcoords\":[{\"type\":\"parcoords\",\"line\":{\"colorbar\":{\"outlinewidth\":0,\"ticks\":\"\"}}}],\"scatterpolargl\":[{\"type\":\"scatterpolargl\",\"marker\":{\"colorbar\":{\"outlinewidth\":0,\"ticks\":\"\"}}}],\"bar\":[{\"error_x\":{\"color\":\"#2a3f5f\"},\"error_y\":{\"color\":\"#2a3f5f\"},\"marker\":{\"line\":{\"color\":\"#E5ECF6\",\"width\":0.5},\"pattern\":{\"fillmode\":\"overlay\",\"size\":10,\"solidity\":0.2}},\"type\":\"bar\"}],\"scattergeo\":[{\"type\":\"scattergeo\",\"marker\":{\"colorbar\":{\"outlinewidth\":0,\"ticks\":\"\"}}}],\"scatterpolar\":[{\"type\":\"scatterpolar\",\"marker\":{\"colorbar\":{\"outlinewidth\":0,\"ticks\":\"\"}}}],\"histogram\":[{\"marker\":{\"pattern\":{\"fillmode\":\"overlay\",\"size\":10,\"solidity\":0.2}},\"type\":\"histogram\"}],\"scattergl\":[{\"type\":\"scattergl\",\"marker\":{\"colorbar\":{\"outlinewidth\":0,\"ticks\":\"\"}}}],\"scatter3d\":[{\"type\":\"scatter3d\",\"line\":{\"colorbar\":{\"outlinewidth\":0,\"ticks\":\"\"}},\"marker\":{\"colorbar\":{\"outlinewidth\":0,\"ticks\":\"\"}}}],\"scattermapbox\":[{\"type\":\"scattermapbox\",\"marker\":{\"colorbar\":{\"outlinewidth\":0,\"ticks\":\"\"}}}],\"scatterternary\":[{\"type\":\"scatterternary\",\"marker\":{\"colorbar\":{\"outlinewidth\":0,\"ticks\":\"\"}}}],\"scattercarpet\":[{\"type\":\"scattercarpet\",\"marker\":{\"colorbar\":{\"outlinewidth\":0,\"ticks\":\"\"}}}],\"carpet\":[{\"aaxis\":{\"endlinecolor\":\"#2a3f5f\",\"gridcolor\":\"white\",\"linecolor\":\"white\",\"minorgridcolor\":\"white\",\"startlinecolor\":\"#2a3f5f\"},\"baxis\":{\"endlinecolor\":\"#2a3f5f\",\"gridcolor\":\"white\",\"linecolor\":\"white\",\"minorgridcolor\":\"white\",\"startlinecolor\":\"#2a3f5f\"},\"type\":\"carpet\"}],\"table\":[{\"cells\":{\"fill\":{\"color\":\"#EBF0F8\"},\"line\":{\"color\":\"white\"}},\"header\":{\"fill\":{\"color\":\"#C8D4E3\"},\"line\":{\"color\":\"white\"}},\"type\":\"table\"}],\"barpolar\":[{\"marker\":{\"line\":{\"color\":\"#E5ECF6\",\"width\":0.5},\"pattern\":{\"fillmode\":\"overlay\",\"size\":10,\"solidity\":0.2}},\"type\":\"barpolar\"}],\"pie\":[{\"automargin\":true,\"type\":\"pie\"}]},\"layout\":{\"autotypenumbers\":\"strict\",\"colorway\":[\"#636efa\",\"#EF553B\",\"#00cc96\",\"#ab63fa\",\"#FFA15A\",\"#19d3f3\",\"#FF6692\",\"#B6E880\",\"#FF97FF\",\"#FECB52\"],\"font\":{\"color\":\"#2a3f5f\"},\"hovermode\":\"closest\",\"hoverlabel\":{\"align\":\"left\"},\"paper_bgcolor\":\"white\",\"plot_bgcolor\":\"#E5ECF6\",\"polar\":{\"bgcolor\":\"#E5ECF6\",\"angularaxis\":{\"gridcolor\":\"white\",\"linecolor\":\"white\",\"ticks\":\"\"},\"radialaxis\":{\"gridcolor\":\"white\",\"linecolor\":\"white\",\"ticks\":\"\"}},\"ternary\":{\"bgcolor\":\"#E5ECF6\",\"aaxis\":{\"gridcolor\":\"white\",\"linecolor\":\"white\",\"ticks\":\"\"},\"baxis\":{\"gridcolor\":\"white\",\"linecolor\":\"white\",\"ticks\":\"\"},\"caxis\":{\"gridcolor\":\"white\",\"linecolor\":\"white\",\"ticks\":\"\"}},\"coloraxis\":{\"colorbar\":{\"outlinewidth\":0,\"ticks\":\"\"}},\"colorscale\":{\"sequential\":[[0.0,\"#0d0887\"],[0.1111111111111111,\"#46039f\"],[0.2222222222222222,\"#7201a8\"],[0.3333333333333333,\"#9c179e\"],[0.4444444444444444,\"#bd3786\"],[0.5555555555555556,\"#d8576b\"],[0.6666666666666666,\"#ed7953\"],[0.7777777777777778,\"#fb9f3a\"],[0.8888888888888888,\"#fdca26\"],[1.0,\"#f0f921\"]],\"sequentialminus\":[[0.0,\"#0d0887\"],[0.1111111111111111,\"#46039f\"],[0.2222222222222222,\"#7201a8\"],[0.3333333333333333,\"#9c179e\"],[0.4444444444444444,\"#bd3786\"],[0.5555555555555556,\"#d8576b\"],[0.6666666666666666,\"#ed7953\"],[0.7777777777777778,\"#fb9f3a\"],[0.8888888888888888,\"#fdca26\"],[1.0,\"#f0f921\"]],\"diverging\":[[0,\"#8e0152\"],[0.1,\"#c51b7d\"],[0.2,\"#de77ae\"],[0.3,\"#f1b6da\"],[0.4,\"#fde0ef\"],[0.5,\"#f7f7f7\"],[0.6,\"#e6f5d0\"],[0.7,\"#b8e186\"],[0.8,\"#7fbc41\"],[0.9,\"#4d9221\"],[1,\"#276419\"]]},\"xaxis\":{\"gridcolor\":\"white\",\"linecolor\":\"white\",\"ticks\":\"\",\"title\":{\"standoff\":15},\"zerolinecolor\":\"white\",\"automargin\":true,\"zerolinewidth\":2},\"yaxis\":{\"gridcolor\":\"white\",\"linecolor\":\"white\",\"ticks\":\"\",\"title\":{\"standoff\":15},\"zerolinecolor\":\"white\",\"automargin\":true,\"zerolinewidth\":2},\"scene\":{\"xaxis\":{\"backgroundcolor\":\"#E5ECF6\",\"gridcolor\":\"white\",\"linecolor\":\"white\",\"showbackground\":true,\"ticks\":\"\",\"zerolinecolor\":\"white\",\"gridwidth\":2},\"yaxis\":{\"backgroundcolor\":\"#E5ECF6\",\"gridcolor\":\"white\",\"linecolor\":\"white\",\"showbackground\":true,\"ticks\":\"\",\"zerolinecolor\":\"white\",\"gridwidth\":2},\"zaxis\":{\"backgroundcolor\":\"#E5ECF6\",\"gridcolor\":\"white\",\"linecolor\":\"white\",\"showbackground\":true,\"ticks\":\"\",\"zerolinecolor\":\"white\",\"gridwidth\":2}},\"shapedefaults\":{\"line\":{\"color\":\"#2a3f5f\"}},\"annotationdefaults\":{\"arrowcolor\":\"#2a3f5f\",\"arrowhead\":0,\"arrowwidth\":1},\"geo\":{\"bgcolor\":\"white\",\"landcolor\":\"#E5ECF6\",\"subunitcolor\":\"white\",\"showland\":true,\"showlakes\":true,\"lakecolor\":\"white\"},\"title\":{\"x\":0.05},\"mapbox\":{\"style\":\"light\"}}},\"geo\":{\"projection\":{\"type\":\"albers usa\"},\"scope\":\"usa\",\"showland\":true,\"landcolor\":\"rgb(240, 240, 240)\",\"countrycolor\":\"rgb(255, 255, 255)\",\"showocean\":true,\"oceancolor\":\"rgb(0, 204, 255)\",\"showcoastlines\":true,\"coastlinecolor\":\"rgb(0, 0, 0)\"},\"title\":{\"text\":\"Heatmap of Calls by Location\"}},                        {\"responsive\": true}                    ).then(function(){\n",
       "                            \n",
       "var gd = document.getElementById('cfc3ea8d-b6a5-48d7-93c7-0e2860ec87cd');\n",
       "var x = new MutationObserver(function (mutations, observer) {{\n",
       "        var display = window.getComputedStyle(gd).display;\n",
       "        if (!display || display === 'none') {{\n",
       "            console.log([gd, 'removed!']);\n",
       "            Plotly.purge(gd);\n",
       "            observer.disconnect();\n",
       "        }}\n",
       "}});\n",
       "\n",
       "// Listen for the removal of the full notebook cells\n",
       "var notebookContainer = gd.closest('#notebook-container');\n",
       "if (notebookContainer) {{\n",
       "    x.observe(notebookContainer, {childList: true});\n",
       "}}\n",
       "\n",
       "// Listen for the clearing of the current output cell\n",
       "var outputEl = gd.closest('.output');\n",
       "if (outputEl) {{\n",
       "    x.observe(outputEl, {childList: true});\n",
       "}}\n",
       "\n",
       "                        })                };                });            </script>        </div>"
      ]
     },
     "metadata": {},
     "output_type": "display_data"
    }
   ],
   "source": [
    "# Create a heatmap using Plotly\n",
    "fig = go.Figure(\n",
    "    data=go.Scattergeo(\n",
    "        lat=calls_per_location[\"latitude\"],\n",
    "        lon=calls_per_location[\"longitude\"],\n",
    "        mode=\"markers\",\n",
    "        marker=dict(\n",
    "            size=calls_per_location[\n",
    "                \"total_calls\"\n",
    "            ],  \n",
    "            color=calls_per_location[\"total_calls\"],\n",
    "            colorscale=\"Viridis\",\n",
    "            colorbar=dict(title=\"Number of Calls\"),\n",
    "        ),\n",
    "        text=calls_per_location[\"location\"],  \n",
    "    )\n",
    ")\n",
    "\n",
    "# Update layout for better presentation\n",
    "fig.update_layout(\n",
    "    title=\"Heatmap of Calls by Location\",\n",
    "    geo=dict(\n",
    "        scope=\"usa\",\n",
    "        projection=dict(type=\"albers usa\"),\n",
    "        showland=True,\n",
    "        landcolor=\"rgb(240, 240, 240)\",\n",
    "        countrycolor=\"rgb(255, 255, 255)\",\n",
    "        showocean=True,\n",
    "        oceancolor=\"rgb(0, 204, 255)\",\n",
    "        showcoastlines=True,\n",
    "        coastlinecolor=\"rgb(0, 0, 0)\",\n",
    "    ),\n",
    ")\n",
    "\n",
    "# Show the figure\n",
    "fig.show()"
   ]
  },
  {
   "cell_type": "code",
   "execution_count": null,
   "metadata": {},
   "outputs": [],
   "source": []
  }
 ],
 "metadata": {
  "kernelspec": {
   "display_name": "Python 3.10",
   "language": "python",
   "name": "python3"
  },
  "language_info": {
   "codemirror_mode": {
    "name": "ipython",
    "version": 3
   },
   "file_extension": ".py",
   "mimetype": "text/x-python",
   "name": "python",
   "nbconvert_exporter": "python",
   "pygments_lexer": "ipython3",
   "version": "3.10.14"
  }
 },
 "nbformat": 4,
 "nbformat_minor": 1
}
