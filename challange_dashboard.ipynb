{
 "cells": [
  {
   "cell_type": "code",
   "execution_count": 1,
   "metadata": {},
   "outputs": [],
   "source": [
    "\n",
    "import plotly.express as px\n",
    "import pandas as pd\n",
    "from wordcloud import WordCloud\n",
    "import matplotlib.pyplot as plt\n",
    "import io\n",
    "import os\n",
    "import plotly.graph_objects as go\n",
    "import pandas as pd\n",
    "import numpy as np\n",
    "import csv"
   ]
  },
  {
   "cell_type": "code",
   "execution_count": 2,
   "metadata": {},
   "outputs": [],
   "source": [
    "df = pd.read_json(os.path.join(os.getcwd(), \"result.json\"))\n",
    "df[\"recording_date\"] = pd.to_datetime(df[\"recording_date\"]).dt.date\n",
    "\n",
    "df_grouped = (\n",
    "    df.groupby([\"recording_date\", \"customer_sentiment\"])\n",
    "    .size()\n",
    "    .unstack(fill_value=0)\n",
    "    .reset_index()\n",
    ")\n",
    "df_grouped[\"total_calls\"] = df_grouped[\n",
    "    [\"positive\", \"neutral\", \"negative\", \"unknown\"]\n",
    "].sum(axis=1)\n",
    "\n",
    "df_melted = df_grouped.melt(\n",
    "    id_vars=[\"recording_date\", \"total_calls\"],\n",
    "    value_vars=[\"positive\", \"neutral\", \"negative\", \"unknown\"],\n",
    "    var_name=\"Sentiment\",\n",
    "    value_name=\"Count\",\n",
    ")"
   ]
  },
  {
   "cell_type": "code",
   "execution_count": 3,
   "metadata": {},
   "outputs": [
    {
     "data": {
      "application/vnd.plotly.v1+json": {
       "config": {
        "plotlyServerURL": "https://plot.ly"
       },
       "data": [
        {
         "alignmentgroup": "True",
         "hovertemplate": "Sentiment=positive<br>Date=%{x}<br>Count=%{text}<extra></extra>",
         "legendgroup": "positive",
         "marker": {
          "color": "#636efa",
          "pattern": {
           "shape": ""
          }
         },
         "name": "positive",
         "offsetgroup": "positive",
         "orientation": "v",
         "showlegend": true,
         "text": [
          0,
          1,
          0,
          1,
          1,
          1,
          1,
          1,
          0,
          0,
          0,
          0
         ],
         "textposition": "auto",
         "type": "bar",
         "x": [
          "2024-09-08",
          "2024-09-09",
          "2024-09-10",
          "2024-09-11",
          "2024-09-12",
          "2024-09-13",
          "2024-09-14",
          "2024-09-15",
          "2024-09-16",
          "2024-09-17",
          "2024-09-18",
          "2024-09-19"
         ],
         "xaxis": "x",
         "y": [
          0,
          1,
          0,
          1,
          1,
          1,
          1,
          1,
          0,
          0,
          0,
          0
         ],
         "yaxis": "y"
        },
        {
         "alignmentgroup": "True",
         "hovertemplate": "Sentiment=neutral<br>Date=%{x}<br>Count=%{text}<extra></extra>",
         "legendgroup": "neutral",
         "marker": {
          "color": "#EF553B",
          "pattern": {
           "shape": ""
          }
         },
         "name": "neutral",
         "offsetgroup": "neutral",
         "orientation": "v",
         "showlegend": true,
         "text": [
          0,
          0,
          0,
          0,
          0,
          0,
          1,
          0,
          1,
          1,
          1,
          1
         ],
         "textposition": "auto",
         "type": "bar",
         "x": [
          "2024-09-08",
          "2024-09-09",
          "2024-09-10",
          "2024-09-11",
          "2024-09-12",
          "2024-09-13",
          "2024-09-14",
          "2024-09-15",
          "2024-09-16",
          "2024-09-17",
          "2024-09-18",
          "2024-09-19"
         ],
         "xaxis": "x",
         "y": [
          0,
          0,
          0,
          0,
          0,
          0,
          1,
          0,
          1,
          1,
          1,
          1
         ],
         "yaxis": "y"
        },
        {
         "alignmentgroup": "True",
         "hovertemplate": "Sentiment=negative<br>Date=%{x}<br>Count=%{text}<extra></extra>",
         "legendgroup": "negative",
         "marker": {
          "color": "#00cc96",
          "pattern": {
           "shape": ""
          }
         },
         "name": "negative",
         "offsetgroup": "negative",
         "orientation": "v",
         "showlegend": true,
         "text": [
          1,
          2,
          2,
          2,
          4,
          5,
          4,
          3,
          3,
          0,
          0,
          0
         ],
         "textposition": "auto",
         "type": "bar",
         "x": [
          "2024-09-08",
          "2024-09-09",
          "2024-09-10",
          "2024-09-11",
          "2024-09-12",
          "2024-09-13",
          "2024-09-14",
          "2024-09-15",
          "2024-09-16",
          "2024-09-17",
          "2024-09-18",
          "2024-09-19"
         ],
         "xaxis": "x",
         "y": [
          1,
          2,
          2,
          2,
          4,
          5,
          4,
          3,
          3,
          0,
          0,
          0
         ],
         "yaxis": "y"
        },
        {
         "alignmentgroup": "True",
         "hovertemplate": "Sentiment=unknown<br>Date=%{x}<br>Count=%{text}<extra></extra>",
         "legendgroup": "unknown",
         "marker": {
          "color": "#ab63fa",
          "pattern": {
           "shape": ""
          }
         },
         "name": "unknown",
         "offsetgroup": "unknown",
         "orientation": "v",
         "showlegend": true,
         "text": [
          0,
          1,
          1,
          0,
          1,
          2,
          1,
          0,
          1,
          3,
          1,
          0
         ],
         "textposition": "auto",
         "type": "bar",
         "x": [
          "2024-09-08",
          "2024-09-09",
          "2024-09-10",
          "2024-09-11",
          "2024-09-12",
          "2024-09-13",
          "2024-09-14",
          "2024-09-15",
          "2024-09-16",
          "2024-09-17",
          "2024-09-18",
          "2024-09-19"
         ],
         "xaxis": "x",
         "y": [
          0,
          1,
          1,
          0,
          1,
          2,
          1,
          0,
          1,
          3,
          1,
          0
         ],
         "yaxis": "y"
        }
       ],
       "layout": {
        "annotations": [
         {
          "font": {
           "color": "Black",
           "size": 10
          },
          "showarrow": false,
          "text": "Total:1",
          "x": "2024-09-08",
          "y": 5,
          "yshift": 10
         },
         {
          "font": {
           "color": "Black",
           "size": 10
          },
          "showarrow": false,
          "text": "Total:4",
          "x": "2024-09-09",
          "y": 5,
          "yshift": 10
         },
         {
          "font": {
           "color": "Black",
           "size": 10
          },
          "showarrow": false,
          "text": "Total:3",
          "x": "2024-09-10",
          "y": 5,
          "yshift": 10
         },
         {
          "font": {
           "color": "Black",
           "size": 10
          },
          "showarrow": false,
          "text": "Total:3",
          "x": "2024-09-11",
          "y": 5,
          "yshift": 10
         },
         {
          "font": {
           "color": "Black",
           "size": 10
          },
          "showarrow": false,
          "text": "Total:6",
          "x": "2024-09-12",
          "y": 5,
          "yshift": 10
         },
         {
          "font": {
           "color": "Black",
           "size": 10
          },
          "showarrow": false,
          "text": "Total:8",
          "x": "2024-09-13",
          "y": 5,
          "yshift": 10
         },
         {
          "font": {
           "color": "Black",
           "size": 10
          },
          "showarrow": false,
          "text": "Total:7",
          "x": "2024-09-14",
          "y": 5,
          "yshift": 10
         },
         {
          "font": {
           "color": "Black",
           "size": 10
          },
          "showarrow": false,
          "text": "Total:4",
          "x": "2024-09-15",
          "y": 5,
          "yshift": 10
         },
         {
          "font": {
           "color": "Black",
           "size": 10
          },
          "showarrow": false,
          "text": "Total:5",
          "x": "2024-09-16",
          "y": 5,
          "yshift": 10
         },
         {
          "font": {
           "color": "Black",
           "size": 10
          },
          "showarrow": false,
          "text": "Total:4",
          "x": "2024-09-17",
          "y": 5,
          "yshift": 10
         },
         {
          "font": {
           "color": "Black",
           "size": 10
          },
          "showarrow": false,
          "text": "Total:2",
          "x": "2024-09-18",
          "y": 5,
          "yshift": 10
         },
         {
          "font": {
           "color": "Black",
           "size": 10
          },
          "showarrow": false,
          "text": "Total:1",
          "x": "2024-09-19",
          "y": 5,
          "yshift": 10
         }
        ],
        "barmode": "group",
        "legend": {
         "title": {
          "text": "Sentiment"
         },
         "tracegroupgap": 0
        },
        "template": {
         "data": {
          "bar": [
           {
            "error_x": {
             "color": "#2a3f5f"
            },
            "error_y": {
             "color": "#2a3f5f"
            },
            "marker": {
             "line": {
              "color": "#E5ECF6",
              "width": 0.5
             },
             "pattern": {
              "fillmode": "overlay",
              "size": 10,
              "solidity": 0.2
             }
            },
            "type": "bar"
           }
          ],
          "barpolar": [
           {
            "marker": {
             "line": {
              "color": "#E5ECF6",
              "width": 0.5
             },
             "pattern": {
              "fillmode": "overlay",
              "size": 10,
              "solidity": 0.2
             }
            },
            "type": "barpolar"
           }
          ],
          "carpet": [
           {
            "aaxis": {
             "endlinecolor": "#2a3f5f",
             "gridcolor": "white",
             "linecolor": "white",
             "minorgridcolor": "white",
             "startlinecolor": "#2a3f5f"
            },
            "baxis": {
             "endlinecolor": "#2a3f5f",
             "gridcolor": "white",
             "linecolor": "white",
             "minorgridcolor": "white",
             "startlinecolor": "#2a3f5f"
            },
            "type": "carpet"
           }
          ],
          "choropleth": [
           {
            "colorbar": {
             "outlinewidth": 0,
             "ticks": ""
            },
            "type": "choropleth"
           }
          ],
          "contour": [
           {
            "colorbar": {
             "outlinewidth": 0,
             "ticks": ""
            },
            "colorscale": [
             [
              0,
              "#0d0887"
             ],
             [
              0.1111111111111111,
              "#46039f"
             ],
             [
              0.2222222222222222,
              "#7201a8"
             ],
             [
              0.3333333333333333,
              "#9c179e"
             ],
             [
              0.4444444444444444,
              "#bd3786"
             ],
             [
              0.5555555555555556,
              "#d8576b"
             ],
             [
              0.6666666666666666,
              "#ed7953"
             ],
             [
              0.7777777777777778,
              "#fb9f3a"
             ],
             [
              0.8888888888888888,
              "#fdca26"
             ],
             [
              1,
              "#f0f921"
             ]
            ],
            "type": "contour"
           }
          ],
          "contourcarpet": [
           {
            "colorbar": {
             "outlinewidth": 0,
             "ticks": ""
            },
            "type": "contourcarpet"
           }
          ],
          "heatmap": [
           {
            "colorbar": {
             "outlinewidth": 0,
             "ticks": ""
            },
            "colorscale": [
             [
              0,
              "#0d0887"
             ],
             [
              0.1111111111111111,
              "#46039f"
             ],
             [
              0.2222222222222222,
              "#7201a8"
             ],
             [
              0.3333333333333333,
              "#9c179e"
             ],
             [
              0.4444444444444444,
              "#bd3786"
             ],
             [
              0.5555555555555556,
              "#d8576b"
             ],
             [
              0.6666666666666666,
              "#ed7953"
             ],
             [
              0.7777777777777778,
              "#fb9f3a"
             ],
             [
              0.8888888888888888,
              "#fdca26"
             ],
             [
              1,
              "#f0f921"
             ]
            ],
            "type": "heatmap"
           }
          ],
          "heatmapgl": [
           {
            "colorbar": {
             "outlinewidth": 0,
             "ticks": ""
            },
            "colorscale": [
             [
              0,
              "#0d0887"
             ],
             [
              0.1111111111111111,
              "#46039f"
             ],
             [
              0.2222222222222222,
              "#7201a8"
             ],
             [
              0.3333333333333333,
              "#9c179e"
             ],
             [
              0.4444444444444444,
              "#bd3786"
             ],
             [
              0.5555555555555556,
              "#d8576b"
             ],
             [
              0.6666666666666666,
              "#ed7953"
             ],
             [
              0.7777777777777778,
              "#fb9f3a"
             ],
             [
              0.8888888888888888,
              "#fdca26"
             ],
             [
              1,
              "#f0f921"
             ]
            ],
            "type": "heatmapgl"
           }
          ],
          "histogram": [
           {
            "marker": {
             "pattern": {
              "fillmode": "overlay",
              "size": 10,
              "solidity": 0.2
             }
            },
            "type": "histogram"
           }
          ],
          "histogram2d": [
           {
            "colorbar": {
             "outlinewidth": 0,
             "ticks": ""
            },
            "colorscale": [
             [
              0,
              "#0d0887"
             ],
             [
              0.1111111111111111,
              "#46039f"
             ],
             [
              0.2222222222222222,
              "#7201a8"
             ],
             [
              0.3333333333333333,
              "#9c179e"
             ],
             [
              0.4444444444444444,
              "#bd3786"
             ],
             [
              0.5555555555555556,
              "#d8576b"
             ],
             [
              0.6666666666666666,
              "#ed7953"
             ],
             [
              0.7777777777777778,
              "#fb9f3a"
             ],
             [
              0.8888888888888888,
              "#fdca26"
             ],
             [
              1,
              "#f0f921"
             ]
            ],
            "type": "histogram2d"
           }
          ],
          "histogram2dcontour": [
           {
            "colorbar": {
             "outlinewidth": 0,
             "ticks": ""
            },
            "colorscale": [
             [
              0,
              "#0d0887"
             ],
             [
              0.1111111111111111,
              "#46039f"
             ],
             [
              0.2222222222222222,
              "#7201a8"
             ],
             [
              0.3333333333333333,
              "#9c179e"
             ],
             [
              0.4444444444444444,
              "#bd3786"
             ],
             [
              0.5555555555555556,
              "#d8576b"
             ],
             [
              0.6666666666666666,
              "#ed7953"
             ],
             [
              0.7777777777777778,
              "#fb9f3a"
             ],
             [
              0.8888888888888888,
              "#fdca26"
             ],
             [
              1,
              "#f0f921"
             ]
            ],
            "type": "histogram2dcontour"
           }
          ],
          "mesh3d": [
           {
            "colorbar": {
             "outlinewidth": 0,
             "ticks": ""
            },
            "type": "mesh3d"
           }
          ],
          "parcoords": [
           {
            "line": {
             "colorbar": {
              "outlinewidth": 0,
              "ticks": ""
             }
            },
            "type": "parcoords"
           }
          ],
          "pie": [
           {
            "automargin": true,
            "type": "pie"
           }
          ],
          "scatter": [
           {
            "fillpattern": {
             "fillmode": "overlay",
             "size": 10,
             "solidity": 0.2
            },
            "type": "scatter"
           }
          ],
          "scatter3d": [
           {
            "line": {
             "colorbar": {
              "outlinewidth": 0,
              "ticks": ""
             }
            },
            "marker": {
             "colorbar": {
              "outlinewidth": 0,
              "ticks": ""
             }
            },
            "type": "scatter3d"
           }
          ],
          "scattercarpet": [
           {
            "marker": {
             "colorbar": {
              "outlinewidth": 0,
              "ticks": ""
             }
            },
            "type": "scattercarpet"
           }
          ],
          "scattergeo": [
           {
            "marker": {
             "colorbar": {
              "outlinewidth": 0,
              "ticks": ""
             }
            },
            "type": "scattergeo"
           }
          ],
          "scattergl": [
           {
            "marker": {
             "colorbar": {
              "outlinewidth": 0,
              "ticks": ""
             }
            },
            "type": "scattergl"
           }
          ],
          "scattermapbox": [
           {
            "marker": {
             "colorbar": {
              "outlinewidth": 0,
              "ticks": ""
             }
            },
            "type": "scattermapbox"
           }
          ],
          "scatterpolar": [
           {
            "marker": {
             "colorbar": {
              "outlinewidth": 0,
              "ticks": ""
             }
            },
            "type": "scatterpolar"
           }
          ],
          "scatterpolargl": [
           {
            "marker": {
             "colorbar": {
              "outlinewidth": 0,
              "ticks": ""
             }
            },
            "type": "scatterpolargl"
           }
          ],
          "scatterternary": [
           {
            "marker": {
             "colorbar": {
              "outlinewidth": 0,
              "ticks": ""
             }
            },
            "type": "scatterternary"
           }
          ],
          "surface": [
           {
            "colorbar": {
             "outlinewidth": 0,
             "ticks": ""
            },
            "colorscale": [
             [
              0,
              "#0d0887"
             ],
             [
              0.1111111111111111,
              "#46039f"
             ],
             [
              0.2222222222222222,
              "#7201a8"
             ],
             [
              0.3333333333333333,
              "#9c179e"
             ],
             [
              0.4444444444444444,
              "#bd3786"
             ],
             [
              0.5555555555555556,
              "#d8576b"
             ],
             [
              0.6666666666666666,
              "#ed7953"
             ],
             [
              0.7777777777777778,
              "#fb9f3a"
             ],
             [
              0.8888888888888888,
              "#fdca26"
             ],
             [
              1,
              "#f0f921"
             ]
            ],
            "type": "surface"
           }
          ],
          "table": [
           {
            "cells": {
             "fill": {
              "color": "#EBF0F8"
             },
             "line": {
              "color": "white"
             }
            },
            "header": {
             "fill": {
              "color": "#C8D4E3"
             },
             "line": {
              "color": "white"
             }
            },
            "type": "table"
           }
          ]
         },
         "layout": {
          "annotationdefaults": {
           "arrowcolor": "#2a3f5f",
           "arrowhead": 0,
           "arrowwidth": 1
          },
          "autotypenumbers": "strict",
          "coloraxis": {
           "colorbar": {
            "outlinewidth": 0,
            "ticks": ""
           }
          },
          "colorscale": {
           "diverging": [
            [
             0,
             "#8e0152"
            ],
            [
             0.1,
             "#c51b7d"
            ],
            [
             0.2,
             "#de77ae"
            ],
            [
             0.3,
             "#f1b6da"
            ],
            [
             0.4,
             "#fde0ef"
            ],
            [
             0.5,
             "#f7f7f7"
            ],
            [
             0.6,
             "#e6f5d0"
            ],
            [
             0.7,
             "#b8e186"
            ],
            [
             0.8,
             "#7fbc41"
            ],
            [
             0.9,
             "#4d9221"
            ],
            [
             1,
             "#276419"
            ]
           ],
           "sequential": [
            [
             0,
             "#0d0887"
            ],
            [
             0.1111111111111111,
             "#46039f"
            ],
            [
             0.2222222222222222,
             "#7201a8"
            ],
            [
             0.3333333333333333,
             "#9c179e"
            ],
            [
             0.4444444444444444,
             "#bd3786"
            ],
            [
             0.5555555555555556,
             "#d8576b"
            ],
            [
             0.6666666666666666,
             "#ed7953"
            ],
            [
             0.7777777777777778,
             "#fb9f3a"
            ],
            [
             0.8888888888888888,
             "#fdca26"
            ],
            [
             1,
             "#f0f921"
            ]
           ],
           "sequentialminus": [
            [
             0,
             "#0d0887"
            ],
            [
             0.1111111111111111,
             "#46039f"
            ],
            [
             0.2222222222222222,
             "#7201a8"
            ],
            [
             0.3333333333333333,
             "#9c179e"
            ],
            [
             0.4444444444444444,
             "#bd3786"
            ],
            [
             0.5555555555555556,
             "#d8576b"
            ],
            [
             0.6666666666666666,
             "#ed7953"
            ],
            [
             0.7777777777777778,
             "#fb9f3a"
            ],
            [
             0.8888888888888888,
             "#fdca26"
            ],
            [
             1,
             "#f0f921"
            ]
           ]
          },
          "colorway": [
           "#636efa",
           "#EF553B",
           "#00cc96",
           "#ab63fa",
           "#FFA15A",
           "#19d3f3",
           "#FF6692",
           "#B6E880",
           "#FF97FF",
           "#FECB52"
          ],
          "font": {
           "color": "#2a3f5f"
          },
          "geo": {
           "bgcolor": "white",
           "lakecolor": "white",
           "landcolor": "#E5ECF6",
           "showlakes": true,
           "showland": true,
           "subunitcolor": "white"
          },
          "hoverlabel": {
           "align": "left"
          },
          "hovermode": "closest",
          "mapbox": {
           "style": "light"
          },
          "paper_bgcolor": "white",
          "plot_bgcolor": "#E5ECF6",
          "polar": {
           "angularaxis": {
            "gridcolor": "white",
            "linecolor": "white",
            "ticks": ""
           },
           "bgcolor": "#E5ECF6",
           "radialaxis": {
            "gridcolor": "white",
            "linecolor": "white",
            "ticks": ""
           }
          },
          "scene": {
           "xaxis": {
            "backgroundcolor": "#E5ECF6",
            "gridcolor": "white",
            "gridwidth": 2,
            "linecolor": "white",
            "showbackground": true,
            "ticks": "",
            "zerolinecolor": "white"
           },
           "yaxis": {
            "backgroundcolor": "#E5ECF6",
            "gridcolor": "white",
            "gridwidth": 2,
            "linecolor": "white",
            "showbackground": true,
            "ticks": "",
            "zerolinecolor": "white"
           },
           "zaxis": {
            "backgroundcolor": "#E5ECF6",
            "gridcolor": "white",
            "gridwidth": 2,
            "linecolor": "white",
            "showbackground": true,
            "ticks": "",
            "zerolinecolor": "white"
           }
          },
          "shapedefaults": {
           "line": {
            "color": "#2a3f5f"
           }
          },
          "ternary": {
           "aaxis": {
            "gridcolor": "white",
            "linecolor": "white",
            "ticks": ""
           },
           "baxis": {
            "gridcolor": "white",
            "linecolor": "white",
            "ticks": ""
           },
           "bgcolor": "#E5ECF6",
           "caxis": {
            "gridcolor": "white",
            "linecolor": "white",
            "ticks": ""
           }
          },
          "title": {
           "x": 0.05
          },
          "xaxis": {
           "automargin": true,
           "gridcolor": "white",
           "linecolor": "white",
           "ticks": "",
           "title": {
            "standoff": 15
           },
           "zerolinecolor": "white",
           "zerolinewidth": 2
          },
          "yaxis": {
           "automargin": true,
           "gridcolor": "white",
           "linecolor": "white",
           "ticks": "",
           "title": {
            "standoff": 15
           },
           "zerolinecolor": "white",
           "zerolinewidth": 2
          }
         }
        },
        "title": {
         "text": "Customer Sentiment Analysis by Day"
        },
        "xaxis": {
         "anchor": "y",
         "domain": [
          0,
          1
         ],
         "title": {
          "text": "Date"
         }
        },
        "yaxis": {
         "anchor": "x",
         "domain": [
          0,
          1
         ],
         "title": {
          "text": "Count"
         }
        }
       }
      }
     },
     "metadata": {},
     "output_type": "display_data"
    }
   ],
   "source": [
    "import warnings\n",
    "warnings.filterwarnings(\"ignore\")\n",
    "\n",
    "fig = px.bar(\n",
    "    df_melted,\n",
    "    x=\"recording_date\",\n",
    "    y=\"Count\",\n",
    "    color=\"Sentiment\",\n",
    "    barmode=\"group\",\n",
    "    title=\"Customer Sentiment Analysis by Day\",\n",
    "    labels={\n",
    "        \"recording_date\": \"Date\",\n",
    "    },\n",
    "    text=\"Count\",\n",
    "    range_color={\"black\",\"blue\",\"yellow\"}\n",
    ")\n",
    "\n",
    "for date, total in zip(df_grouped[\"recording_date\"], df_grouped[\"total_calls\"]):\n",
    "    fig.add_annotation(\n",
    "        x=date,\n",
    "        y=max(df_melted[\"Count\"]),\n",
    "        text=f\"Total:{total}\",\n",
    "        showarrow=False,\n",
    "        yshift=10,\n",
    "        font=dict(size=10, color=\"Black\"),\n",
    "    )\n",
    "\n",
    "fig.show()"
   ]
  },
  {
   "cell_type": "markdown",
   "metadata": {},
   "source": [
    "#### Top 10 Catagories"
   ]
  },
  {
   "cell_type": "code",
   "execution_count": 4,
   "metadata": {},
   "outputs": [],
   "source": [
    "import numpy as np\n",
    "import json\n",
    "\n",
    "df = pd.read_json(os.path.join(os.getcwd(), \"result.json\"))\n",
    "\n",
    "def extract_categories(json_str):\n",
    "    try:\n",
    "        # Attempt to parse the JSON and return the 'categories' key\n",
    "        parsed_json = json.loads(json_str)\n",
    "        return str(parsed_json.get(\"product_interest\", None))\n",
    "    except (TypeError, json.JSONDecodeError):\n",
    "        # Handle missing or invalid JSON\n",
    "        return \"Nothing\"\n",
    "\n",
    "\n",
    "df[\"categories\"] = df[\"feature_extraction\"].apply(extract_categories)"
   ]
  },
  {
   "cell_type": "code",
   "execution_count": 5,
   "metadata": {},
   "outputs": [
    {
     "data": {
      "application/vnd.plotly.v1+json": {
       "config": {
        "plotlyServerURL": "https://plot.ly"
       },
       "data": [
        {
         "type": "bar",
         "x": [
          "water purifier",
          "BP monitor",
          "Juicer/Mixer/Grinder",
          "Refrigerator",
          "Wet Grinder",
          "Coffee Maker",
          "Sandwich maker",
          "Air conditioner",
          "OTG",
          "Computer monitor"
         ],
         "y": [
          3,
          2,
          2,
          2,
          2,
          2,
          2,
          2,
          1,
          1
         ]
        }
       ],
       "layout": {
        "template": {
         "data": {
          "bar": [
           {
            "error_x": {
             "color": "#2a3f5f"
            },
            "error_y": {
             "color": "#2a3f5f"
            },
            "marker": {
             "line": {
              "color": "#E5ECF6",
              "width": 0.5
             },
             "pattern": {
              "fillmode": "overlay",
              "size": 10,
              "solidity": 0.2
             }
            },
            "type": "bar"
           }
          ],
          "barpolar": [
           {
            "marker": {
             "line": {
              "color": "#E5ECF6",
              "width": 0.5
             },
             "pattern": {
              "fillmode": "overlay",
              "size": 10,
              "solidity": 0.2
             }
            },
            "type": "barpolar"
           }
          ],
          "carpet": [
           {
            "aaxis": {
             "endlinecolor": "#2a3f5f",
             "gridcolor": "white",
             "linecolor": "white",
             "minorgridcolor": "white",
             "startlinecolor": "#2a3f5f"
            },
            "baxis": {
             "endlinecolor": "#2a3f5f",
             "gridcolor": "white",
             "linecolor": "white",
             "minorgridcolor": "white",
             "startlinecolor": "#2a3f5f"
            },
            "type": "carpet"
           }
          ],
          "choropleth": [
           {
            "colorbar": {
             "outlinewidth": 0,
             "ticks": ""
            },
            "type": "choropleth"
           }
          ],
          "contour": [
           {
            "colorbar": {
             "outlinewidth": 0,
             "ticks": ""
            },
            "colorscale": [
             [
              0,
              "#0d0887"
             ],
             [
              0.1111111111111111,
              "#46039f"
             ],
             [
              0.2222222222222222,
              "#7201a8"
             ],
             [
              0.3333333333333333,
              "#9c179e"
             ],
             [
              0.4444444444444444,
              "#bd3786"
             ],
             [
              0.5555555555555556,
              "#d8576b"
             ],
             [
              0.6666666666666666,
              "#ed7953"
             ],
             [
              0.7777777777777778,
              "#fb9f3a"
             ],
             [
              0.8888888888888888,
              "#fdca26"
             ],
             [
              1,
              "#f0f921"
             ]
            ],
            "type": "contour"
           }
          ],
          "contourcarpet": [
           {
            "colorbar": {
             "outlinewidth": 0,
             "ticks": ""
            },
            "type": "contourcarpet"
           }
          ],
          "heatmap": [
           {
            "colorbar": {
             "outlinewidth": 0,
             "ticks": ""
            },
            "colorscale": [
             [
              0,
              "#0d0887"
             ],
             [
              0.1111111111111111,
              "#46039f"
             ],
             [
              0.2222222222222222,
              "#7201a8"
             ],
             [
              0.3333333333333333,
              "#9c179e"
             ],
             [
              0.4444444444444444,
              "#bd3786"
             ],
             [
              0.5555555555555556,
              "#d8576b"
             ],
             [
              0.6666666666666666,
              "#ed7953"
             ],
             [
              0.7777777777777778,
              "#fb9f3a"
             ],
             [
              0.8888888888888888,
              "#fdca26"
             ],
             [
              1,
              "#f0f921"
             ]
            ],
            "type": "heatmap"
           }
          ],
          "heatmapgl": [
           {
            "colorbar": {
             "outlinewidth": 0,
             "ticks": ""
            },
            "colorscale": [
             [
              0,
              "#0d0887"
             ],
             [
              0.1111111111111111,
              "#46039f"
             ],
             [
              0.2222222222222222,
              "#7201a8"
             ],
             [
              0.3333333333333333,
              "#9c179e"
             ],
             [
              0.4444444444444444,
              "#bd3786"
             ],
             [
              0.5555555555555556,
              "#d8576b"
             ],
             [
              0.6666666666666666,
              "#ed7953"
             ],
             [
              0.7777777777777778,
              "#fb9f3a"
             ],
             [
              0.8888888888888888,
              "#fdca26"
             ],
             [
              1,
              "#f0f921"
             ]
            ],
            "type": "heatmapgl"
           }
          ],
          "histogram": [
           {
            "marker": {
             "pattern": {
              "fillmode": "overlay",
              "size": 10,
              "solidity": 0.2
             }
            },
            "type": "histogram"
           }
          ],
          "histogram2d": [
           {
            "colorbar": {
             "outlinewidth": 0,
             "ticks": ""
            },
            "colorscale": [
             [
              0,
              "#0d0887"
             ],
             [
              0.1111111111111111,
              "#46039f"
             ],
             [
              0.2222222222222222,
              "#7201a8"
             ],
             [
              0.3333333333333333,
              "#9c179e"
             ],
             [
              0.4444444444444444,
              "#bd3786"
             ],
             [
              0.5555555555555556,
              "#d8576b"
             ],
             [
              0.6666666666666666,
              "#ed7953"
             ],
             [
              0.7777777777777778,
              "#fb9f3a"
             ],
             [
              0.8888888888888888,
              "#fdca26"
             ],
             [
              1,
              "#f0f921"
             ]
            ],
            "type": "histogram2d"
           }
          ],
          "histogram2dcontour": [
           {
            "colorbar": {
             "outlinewidth": 0,
             "ticks": ""
            },
            "colorscale": [
             [
              0,
              "#0d0887"
             ],
             [
              0.1111111111111111,
              "#46039f"
             ],
             [
              0.2222222222222222,
              "#7201a8"
             ],
             [
              0.3333333333333333,
              "#9c179e"
             ],
             [
              0.4444444444444444,
              "#bd3786"
             ],
             [
              0.5555555555555556,
              "#d8576b"
             ],
             [
              0.6666666666666666,
              "#ed7953"
             ],
             [
              0.7777777777777778,
              "#fb9f3a"
             ],
             [
              0.8888888888888888,
              "#fdca26"
             ],
             [
              1,
              "#f0f921"
             ]
            ],
            "type": "histogram2dcontour"
           }
          ],
          "mesh3d": [
           {
            "colorbar": {
             "outlinewidth": 0,
             "ticks": ""
            },
            "type": "mesh3d"
           }
          ],
          "parcoords": [
           {
            "line": {
             "colorbar": {
              "outlinewidth": 0,
              "ticks": ""
             }
            },
            "type": "parcoords"
           }
          ],
          "pie": [
           {
            "automargin": true,
            "type": "pie"
           }
          ],
          "scatter": [
           {
            "fillpattern": {
             "fillmode": "overlay",
             "size": 10,
             "solidity": 0.2
            },
            "type": "scatter"
           }
          ],
          "scatter3d": [
           {
            "line": {
             "colorbar": {
              "outlinewidth": 0,
              "ticks": ""
             }
            },
            "marker": {
             "colorbar": {
              "outlinewidth": 0,
              "ticks": ""
             }
            },
            "type": "scatter3d"
           }
          ],
          "scattercarpet": [
           {
            "marker": {
             "colorbar": {
              "outlinewidth": 0,
              "ticks": ""
             }
            },
            "type": "scattercarpet"
           }
          ],
          "scattergeo": [
           {
            "marker": {
             "colorbar": {
              "outlinewidth": 0,
              "ticks": ""
             }
            },
            "type": "scattergeo"
           }
          ],
          "scattergl": [
           {
            "marker": {
             "colorbar": {
              "outlinewidth": 0,
              "ticks": ""
             }
            },
            "type": "scattergl"
           }
          ],
          "scattermapbox": [
           {
            "marker": {
             "colorbar": {
              "outlinewidth": 0,
              "ticks": ""
             }
            },
            "type": "scattermapbox"
           }
          ],
          "scatterpolar": [
           {
            "marker": {
             "colorbar": {
              "outlinewidth": 0,
              "ticks": ""
             }
            },
            "type": "scatterpolar"
           }
          ],
          "scatterpolargl": [
           {
            "marker": {
             "colorbar": {
              "outlinewidth": 0,
              "ticks": ""
             }
            },
            "type": "scatterpolargl"
           }
          ],
          "scatterternary": [
           {
            "marker": {
             "colorbar": {
              "outlinewidth": 0,
              "ticks": ""
             }
            },
            "type": "scatterternary"
           }
          ],
          "surface": [
           {
            "colorbar": {
             "outlinewidth": 0,
             "ticks": ""
            },
            "colorscale": [
             [
              0,
              "#0d0887"
             ],
             [
              0.1111111111111111,
              "#46039f"
             ],
             [
              0.2222222222222222,
              "#7201a8"
             ],
             [
              0.3333333333333333,
              "#9c179e"
             ],
             [
              0.4444444444444444,
              "#bd3786"
             ],
             [
              0.5555555555555556,
              "#d8576b"
             ],
             [
              0.6666666666666666,
              "#ed7953"
             ],
             [
              0.7777777777777778,
              "#fb9f3a"
             ],
             [
              0.8888888888888888,
              "#fdca26"
             ],
             [
              1,
              "#f0f921"
             ]
            ],
            "type": "surface"
           }
          ],
          "table": [
           {
            "cells": {
             "fill": {
              "color": "#EBF0F8"
             },
             "line": {
              "color": "white"
             }
            },
            "header": {
             "fill": {
              "color": "#C8D4E3"
             },
             "line": {
              "color": "white"
             }
            },
            "type": "table"
           }
          ]
         },
         "layout": {
          "annotationdefaults": {
           "arrowcolor": "#2a3f5f",
           "arrowhead": 0,
           "arrowwidth": 1
          },
          "autotypenumbers": "strict",
          "coloraxis": {
           "colorbar": {
            "outlinewidth": 0,
            "ticks": ""
           }
          },
          "colorscale": {
           "diverging": [
            [
             0,
             "#8e0152"
            ],
            [
             0.1,
             "#c51b7d"
            ],
            [
             0.2,
             "#de77ae"
            ],
            [
             0.3,
             "#f1b6da"
            ],
            [
             0.4,
             "#fde0ef"
            ],
            [
             0.5,
             "#f7f7f7"
            ],
            [
             0.6,
             "#e6f5d0"
            ],
            [
             0.7,
             "#b8e186"
            ],
            [
             0.8,
             "#7fbc41"
            ],
            [
             0.9,
             "#4d9221"
            ],
            [
             1,
             "#276419"
            ]
           ],
           "sequential": [
            [
             0,
             "#0d0887"
            ],
            [
             0.1111111111111111,
             "#46039f"
            ],
            [
             0.2222222222222222,
             "#7201a8"
            ],
            [
             0.3333333333333333,
             "#9c179e"
            ],
            [
             0.4444444444444444,
             "#bd3786"
            ],
            [
             0.5555555555555556,
             "#d8576b"
            ],
            [
             0.6666666666666666,
             "#ed7953"
            ],
            [
             0.7777777777777778,
             "#fb9f3a"
            ],
            [
             0.8888888888888888,
             "#fdca26"
            ],
            [
             1,
             "#f0f921"
            ]
           ],
           "sequentialminus": [
            [
             0,
             "#0d0887"
            ],
            [
             0.1111111111111111,
             "#46039f"
            ],
            [
             0.2222222222222222,
             "#7201a8"
            ],
            [
             0.3333333333333333,
             "#9c179e"
            ],
            [
             0.4444444444444444,
             "#bd3786"
            ],
            [
             0.5555555555555556,
             "#d8576b"
            ],
            [
             0.6666666666666666,
             "#ed7953"
            ],
            [
             0.7777777777777778,
             "#fb9f3a"
            ],
            [
             0.8888888888888888,
             "#fdca26"
            ],
            [
             1,
             "#f0f921"
            ]
           ]
          },
          "colorway": [
           "#636efa",
           "#EF553B",
           "#00cc96",
           "#ab63fa",
           "#FFA15A",
           "#19d3f3",
           "#FF6692",
           "#B6E880",
           "#FF97FF",
           "#FECB52"
          ],
          "font": {
           "color": "#2a3f5f"
          },
          "geo": {
           "bgcolor": "white",
           "lakecolor": "white",
           "landcolor": "#E5ECF6",
           "showlakes": true,
           "showland": true,
           "subunitcolor": "white"
          },
          "hoverlabel": {
           "align": "left"
          },
          "hovermode": "closest",
          "mapbox": {
           "style": "light"
          },
          "paper_bgcolor": "white",
          "plot_bgcolor": "#E5ECF6",
          "polar": {
           "angularaxis": {
            "gridcolor": "white",
            "linecolor": "white",
            "ticks": ""
           },
           "bgcolor": "#E5ECF6",
           "radialaxis": {
            "gridcolor": "white",
            "linecolor": "white",
            "ticks": ""
           }
          },
          "scene": {
           "xaxis": {
            "backgroundcolor": "#E5ECF6",
            "gridcolor": "white",
            "gridwidth": 2,
            "linecolor": "white",
            "showbackground": true,
            "ticks": "",
            "zerolinecolor": "white"
           },
           "yaxis": {
            "backgroundcolor": "#E5ECF6",
            "gridcolor": "white",
            "gridwidth": 2,
            "linecolor": "white",
            "showbackground": true,
            "ticks": "",
            "zerolinecolor": "white"
           },
           "zaxis": {
            "backgroundcolor": "#E5ECF6",
            "gridcolor": "white",
            "gridwidth": 2,
            "linecolor": "white",
            "showbackground": true,
            "ticks": "",
            "zerolinecolor": "white"
           }
          },
          "shapedefaults": {
           "line": {
            "color": "#2a3f5f"
           }
          },
          "ternary": {
           "aaxis": {
            "gridcolor": "white",
            "linecolor": "white",
            "ticks": ""
           },
           "baxis": {
            "gridcolor": "white",
            "linecolor": "white",
            "ticks": ""
           },
           "bgcolor": "#E5ECF6",
           "caxis": {
            "gridcolor": "white",
            "linecolor": "white",
            "ticks": ""
           }
          },
          "title": {
           "x": 0.05
          },
          "xaxis": {
           "automargin": true,
           "gridcolor": "white",
           "linecolor": "white",
           "ticks": "",
           "title": {
            "standoff": 15
           },
           "zerolinecolor": "white",
           "zerolinewidth": 2
          },
          "yaxis": {
           "automargin": true,
           "gridcolor": "white",
           "linecolor": "white",
           "ticks": "",
           "title": {
            "standoff": 15
           },
           "zerolinecolor": "white",
           "zerolinewidth": 2
          }
         }
        },
        "title": {
         "text": "Total Calls Based on Top 10 Categories"
        },
        "xaxis": {
         "tickangle": -45,
         "title": {
          "text": "Categories"
         }
        },
        "yaxis": {
         "title": {
          "text": "Number of Calls"
         }
        }
       }
      }
     },
     "metadata": {},
     "output_type": "display_data"
    }
   ],
   "source": [
    "df = df.loc[(df['categories'] != 'Nothing')]\n",
    "category_counts = df['categories'].value_counts()\n",
    "\n",
    "top_categories = category_counts.head(10)\n",
    "\n",
    "# Create a bar chart\n",
    "fig = go.Figure()\n",
    "\n",
    "fig.add_trace(go.Bar(\n",
    "    x=top_categories.index,\n",
    "    y=top_categories.values,\n",
    "    #marker_color='blue'\n",
    "))\n",
    "\n",
    "# Customize layout\n",
    "fig.update_layout(\n",
    "    title='Total Calls Based on Top 10 Categories',\n",
    "    xaxis_title='Categories',\n",
    "    yaxis_title='Number of Calls',\n",
    "    xaxis_tickangle=-45  # Rotate x-axis labels for better readability\n",
    ")\n",
    "\n",
    "# Show the plot\n",
    "fig.show()\n"
   ]
  },
  {
   "cell_type": "markdown",
   "metadata": {},
   "source": [
    "### Word Cloud Dashboard"
   ]
  },
  {
   "cell_type": "code",
   "execution_count": 6,
   "metadata": {},
   "outputs": [],
   "source": [
    "df = pd.read_json(os.path.join(os.getcwd(), \"result.json\"))\n",
    "\n",
    "df['categories'] = df['feature_extraction'].apply(extract_categories)"
   ]
  },
  {
   "cell_type": "code",
   "execution_count": 7,
   "metadata": {},
   "outputs": [
    {
     "data": {
      "application/vnd.plotly.v1+json": {
       "config": {
        "plotlyServerURL": "https://plot.ly"
       },
       "data": [],
       "layout": {
        "height": 400,
        "images": [
         {
          "sizex": 1,
          "sizey": 1,
          "source": "data:image/png;base64,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",
          "x": 0.5,
          "xanchor": "center",
          "xref": "paper",
          "y": 0.5,
          "yanchor": "middle",
          "yref": "paper"
         }
        ],
        "margin": {
         "b": 0,
         "l": 0,
         "r": 0,
         "t": 0
        },
        "template": {
         "data": {
          "bar": [
           {
            "error_x": {
             "color": "#2a3f5f"
            },
            "error_y": {
             "color": "#2a3f5f"
            },
            "marker": {
             "line": {
              "color": "#E5ECF6",
              "width": 0.5
             },
             "pattern": {
              "fillmode": "overlay",
              "size": 10,
              "solidity": 0.2
             }
            },
            "type": "bar"
           }
          ],
          "barpolar": [
           {
            "marker": {
             "line": {
              "color": "#E5ECF6",
              "width": 0.5
             },
             "pattern": {
              "fillmode": "overlay",
              "size": 10,
              "solidity": 0.2
             }
            },
            "type": "barpolar"
           }
          ],
          "carpet": [
           {
            "aaxis": {
             "endlinecolor": "#2a3f5f",
             "gridcolor": "white",
             "linecolor": "white",
             "minorgridcolor": "white",
             "startlinecolor": "#2a3f5f"
            },
            "baxis": {
             "endlinecolor": "#2a3f5f",
             "gridcolor": "white",
             "linecolor": "white",
             "minorgridcolor": "white",
             "startlinecolor": "#2a3f5f"
            },
            "type": "carpet"
           }
          ],
          "choropleth": [
           {
            "colorbar": {
             "outlinewidth": 0,
             "ticks": ""
            },
            "type": "choropleth"
           }
          ],
          "contour": [
           {
            "colorbar": {
             "outlinewidth": 0,
             "ticks": ""
            },
            "colorscale": [
             [
              0,
              "#0d0887"
             ],
             [
              0.1111111111111111,
              "#46039f"
             ],
             [
              0.2222222222222222,
              "#7201a8"
             ],
             [
              0.3333333333333333,
              "#9c179e"
             ],
             [
              0.4444444444444444,
              "#bd3786"
             ],
             [
              0.5555555555555556,
              "#d8576b"
             ],
             [
              0.6666666666666666,
              "#ed7953"
             ],
             [
              0.7777777777777778,
              "#fb9f3a"
             ],
             [
              0.8888888888888888,
              "#fdca26"
             ],
             [
              1,
              "#f0f921"
             ]
            ],
            "type": "contour"
           }
          ],
          "contourcarpet": [
           {
            "colorbar": {
             "outlinewidth": 0,
             "ticks": ""
            },
            "type": "contourcarpet"
           }
          ],
          "heatmap": [
           {
            "colorbar": {
             "outlinewidth": 0,
             "ticks": ""
            },
            "colorscale": [
             [
              0,
              "#0d0887"
             ],
             [
              0.1111111111111111,
              "#46039f"
             ],
             [
              0.2222222222222222,
              "#7201a8"
             ],
             [
              0.3333333333333333,
              "#9c179e"
             ],
             [
              0.4444444444444444,
              "#bd3786"
             ],
             [
              0.5555555555555556,
              "#d8576b"
             ],
             [
              0.6666666666666666,
              "#ed7953"
             ],
             [
              0.7777777777777778,
              "#fb9f3a"
             ],
             [
              0.8888888888888888,
              "#fdca26"
             ],
             [
              1,
              "#f0f921"
             ]
            ],
            "type": "heatmap"
           }
          ],
          "heatmapgl": [
           {
            "colorbar": {
             "outlinewidth": 0,
             "ticks": ""
            },
            "colorscale": [
             [
              0,
              "#0d0887"
             ],
             [
              0.1111111111111111,
              "#46039f"
             ],
             [
              0.2222222222222222,
              "#7201a8"
             ],
             [
              0.3333333333333333,
              "#9c179e"
             ],
             [
              0.4444444444444444,
              "#bd3786"
             ],
             [
              0.5555555555555556,
              "#d8576b"
             ],
             [
              0.6666666666666666,
              "#ed7953"
             ],
             [
              0.7777777777777778,
              "#fb9f3a"
             ],
             [
              0.8888888888888888,
              "#fdca26"
             ],
             [
              1,
              "#f0f921"
             ]
            ],
            "type": "heatmapgl"
           }
          ],
          "histogram": [
           {
            "marker": {
             "pattern": {
              "fillmode": "overlay",
              "size": 10,
              "solidity": 0.2
             }
            },
            "type": "histogram"
           }
          ],
          "histogram2d": [
           {
            "colorbar": {
             "outlinewidth": 0,
             "ticks": ""
            },
            "colorscale": [
             [
              0,
              "#0d0887"
             ],
             [
              0.1111111111111111,
              "#46039f"
             ],
             [
              0.2222222222222222,
              "#7201a8"
             ],
             [
              0.3333333333333333,
              "#9c179e"
             ],
             [
              0.4444444444444444,
              "#bd3786"
             ],
             [
              0.5555555555555556,
              "#d8576b"
             ],
             [
              0.6666666666666666,
              "#ed7953"
             ],
             [
              0.7777777777777778,
              "#fb9f3a"
             ],
             [
              0.8888888888888888,
              "#fdca26"
             ],
             [
              1,
              "#f0f921"
             ]
            ],
            "type": "histogram2d"
           }
          ],
          "histogram2dcontour": [
           {
            "colorbar": {
             "outlinewidth": 0,
             "ticks": ""
            },
            "colorscale": [
             [
              0,
              "#0d0887"
             ],
             [
              0.1111111111111111,
              "#46039f"
             ],
             [
              0.2222222222222222,
              "#7201a8"
             ],
             [
              0.3333333333333333,
              "#9c179e"
             ],
             [
              0.4444444444444444,
              "#bd3786"
             ],
             [
              0.5555555555555556,
              "#d8576b"
             ],
             [
              0.6666666666666666,
              "#ed7953"
             ],
             [
              0.7777777777777778,
              "#fb9f3a"
             ],
             [
              0.8888888888888888,
              "#fdca26"
             ],
             [
              1,
              "#f0f921"
             ]
            ],
            "type": "histogram2dcontour"
           }
          ],
          "mesh3d": [
           {
            "colorbar": {
             "outlinewidth": 0,
             "ticks": ""
            },
            "type": "mesh3d"
           }
          ],
          "parcoords": [
           {
            "line": {
             "colorbar": {
              "outlinewidth": 0,
              "ticks": ""
             }
            },
            "type": "parcoords"
           }
          ],
          "pie": [
           {
            "automargin": true,
            "type": "pie"
           }
          ],
          "scatter": [
           {
            "fillpattern": {
             "fillmode": "overlay",
             "size": 10,
             "solidity": 0.2
            },
            "type": "scatter"
           }
          ],
          "scatter3d": [
           {
            "line": {
             "colorbar": {
              "outlinewidth": 0,
              "ticks": ""
             }
            },
            "marker": {
             "colorbar": {
              "outlinewidth": 0,
              "ticks": ""
             }
            },
            "type": "scatter3d"
           }
          ],
          "scattercarpet": [
           {
            "marker": {
             "colorbar": {
              "outlinewidth": 0,
              "ticks": ""
             }
            },
            "type": "scattercarpet"
           }
          ],
          "scattergeo": [
           {
            "marker": {
             "colorbar": {
              "outlinewidth": 0,
              "ticks": ""
             }
            },
            "type": "scattergeo"
           }
          ],
          "scattergl": [
           {
            "marker": {
             "colorbar": {
              "outlinewidth": 0,
              "ticks": ""
             }
            },
            "type": "scattergl"
           }
          ],
          "scattermapbox": [
           {
            "marker": {
             "colorbar": {
              "outlinewidth": 0,
              "ticks": ""
             }
            },
            "type": "scattermapbox"
           }
          ],
          "scatterpolar": [
           {
            "marker": {
             "colorbar": {
              "outlinewidth": 0,
              "ticks": ""
             }
            },
            "type": "scatterpolar"
           }
          ],
          "scatterpolargl": [
           {
            "marker": {
             "colorbar": {
              "outlinewidth": 0,
              "ticks": ""
             }
            },
            "type": "scatterpolargl"
           }
          ],
          "scatterternary": [
           {
            "marker": {
             "colorbar": {
              "outlinewidth": 0,
              "ticks": ""
             }
            },
            "type": "scatterternary"
           }
          ],
          "surface": [
           {
            "colorbar": {
             "outlinewidth": 0,
             "ticks": ""
            },
            "colorscale": [
             [
              0,
              "#0d0887"
             ],
             [
              0.1111111111111111,
              "#46039f"
             ],
             [
              0.2222222222222222,
              "#7201a8"
             ],
             [
              0.3333333333333333,
              "#9c179e"
             ],
             [
              0.4444444444444444,
              "#bd3786"
             ],
             [
              0.5555555555555556,
              "#d8576b"
             ],
             [
              0.6666666666666666,
              "#ed7953"
             ],
             [
              0.7777777777777778,
              "#fb9f3a"
             ],
             [
              0.8888888888888888,
              "#fdca26"
             ],
             [
              1,
              "#f0f921"
             ]
            ],
            "type": "surface"
           }
          ],
          "table": [
           {
            "cells": {
             "fill": {
              "color": "#EBF0F8"
             },
             "line": {
              "color": "white"
             }
            },
            "header": {
             "fill": {
              "color": "#C8D4E3"
             },
             "line": {
              "color": "white"
             }
            },
            "type": "table"
           }
          ]
         },
         "layout": {
          "annotationdefaults": {
           "arrowcolor": "#2a3f5f",
           "arrowhead": 0,
           "arrowwidth": 1
          },
          "autotypenumbers": "strict",
          "coloraxis": {
           "colorbar": {
            "outlinewidth": 0,
            "ticks": ""
           }
          },
          "colorscale": {
           "diverging": [
            [
             0,
             "#8e0152"
            ],
            [
             0.1,
             "#c51b7d"
            ],
            [
             0.2,
             "#de77ae"
            ],
            [
             0.3,
             "#f1b6da"
            ],
            [
             0.4,
             "#fde0ef"
            ],
            [
             0.5,
             "#f7f7f7"
            ],
            [
             0.6,
             "#e6f5d0"
            ],
            [
             0.7,
             "#b8e186"
            ],
            [
             0.8,
             "#7fbc41"
            ],
            [
             0.9,
             "#4d9221"
            ],
            [
             1,
             "#276419"
            ]
           ],
           "sequential": [
            [
             0,
             "#0d0887"
            ],
            [
             0.1111111111111111,
             "#46039f"
            ],
            [
             0.2222222222222222,
             "#7201a8"
            ],
            [
             0.3333333333333333,
             "#9c179e"
            ],
            [
             0.4444444444444444,
             "#bd3786"
            ],
            [
             0.5555555555555556,
             "#d8576b"
            ],
            [
             0.6666666666666666,
             "#ed7953"
            ],
            [
             0.7777777777777778,
             "#fb9f3a"
            ],
            [
             0.8888888888888888,
             "#fdca26"
            ],
            [
             1,
             "#f0f921"
            ]
           ],
           "sequentialminus": [
            [
             0,
             "#0d0887"
            ],
            [
             0.1111111111111111,
             "#46039f"
            ],
            [
             0.2222222222222222,
             "#7201a8"
            ],
            [
             0.3333333333333333,
             "#9c179e"
            ],
            [
             0.4444444444444444,
             "#bd3786"
            ],
            [
             0.5555555555555556,
             "#d8576b"
            ],
            [
             0.6666666666666666,
             "#ed7953"
            ],
            [
             0.7777777777777778,
             "#fb9f3a"
            ],
            [
             0.8888888888888888,
             "#fdca26"
            ],
            [
             1,
             "#f0f921"
            ]
           ]
          },
          "colorway": [
           "#636efa",
           "#EF553B",
           "#00cc96",
           "#ab63fa",
           "#FFA15A",
           "#19d3f3",
           "#FF6692",
           "#B6E880",
           "#FF97FF",
           "#FECB52"
          ],
          "font": {
           "color": "#2a3f5f"
          },
          "geo": {
           "bgcolor": "white",
           "lakecolor": "white",
           "landcolor": "#E5ECF6",
           "showlakes": true,
           "showland": true,
           "subunitcolor": "white"
          },
          "hoverlabel": {
           "align": "left"
          },
          "hovermode": "closest",
          "mapbox": {
           "style": "light"
          },
          "paper_bgcolor": "white",
          "plot_bgcolor": "#E5ECF6",
          "polar": {
           "angularaxis": {
            "gridcolor": "white",
            "linecolor": "white",
            "ticks": ""
           },
           "bgcolor": "#E5ECF6",
           "radialaxis": {
            "gridcolor": "white",
            "linecolor": "white",
            "ticks": ""
           }
          },
          "scene": {
           "xaxis": {
            "backgroundcolor": "#E5ECF6",
            "gridcolor": "white",
            "gridwidth": 2,
            "linecolor": "white",
            "showbackground": true,
            "ticks": "",
            "zerolinecolor": "white"
           },
           "yaxis": {
            "backgroundcolor": "#E5ECF6",
            "gridcolor": "white",
            "gridwidth": 2,
            "linecolor": "white",
            "showbackground": true,
            "ticks": "",
            "zerolinecolor": "white"
           },
           "zaxis": {
            "backgroundcolor": "#E5ECF6",
            "gridcolor": "white",
            "gridwidth": 2,
            "linecolor": "white",
            "showbackground": true,
            "ticks": "",
            "zerolinecolor": "white"
           }
          },
          "shapedefaults": {
           "line": {
            "color": "#2a3f5f"
           }
          },
          "ternary": {
           "aaxis": {
            "gridcolor": "white",
            "linecolor": "white",
            "ticks": ""
           },
           "baxis": {
            "gridcolor": "white",
            "linecolor": "white",
            "ticks": ""
           },
           "bgcolor": "#E5ECF6",
           "caxis": {
            "gridcolor": "white",
            "linecolor": "white",
            "ticks": ""
           }
          },
          "title": {
           "x": 0.05
          },
          "xaxis": {
           "automargin": true,
           "gridcolor": "white",
           "linecolor": "white",
           "ticks": "",
           "title": {
            "standoff": 15
           },
           "zerolinecolor": "white",
           "zerolinewidth": 2
          },
          "yaxis": {
           "automargin": true,
           "gridcolor": "white",
           "linecolor": "white",
           "ticks": "",
           "title": {
            "standoff": 15
           },
           "zerolinecolor": "white",
           "zerolinewidth": 2
          }
         }
        },
        "width": 800,
        "xaxis": {
         "visible": false
        },
        "yaxis": {
         "visible": false
        }
       }
      }
     },
     "metadata": {},
     "output_type": "display_data"
    }
   ],
   "source": [
    "import pandas as pd\n",
    "import plotly.graph_objects as go\n",
    "from wordcloud import WordCloud\n",
    "import matplotlib.pyplot as plt\n",
    "from io import BytesIO\n",
    "import base64\n",
    "\n",
    "words = df['categories'].to_list()\n",
    "words = ' '.join(words)\n",
    "words = words.replace('/',' ').replace('Nothing','')\n",
    "\n",
    "# Generate the word cloud\n",
    "wordcloud = WordCloud(width=800, height=400, background_color='white').generate(words)\n",
    "\n",
    "# Save the word cloud to a bytes object\n",
    "img_buffer = BytesIO()\n",
    "wordcloud.to_image().save(img_buffer, format='PNG')\n",
    "img_buffer.seek(0)\n",
    "\n",
    "# Encode the image in base64 to embed in Plotly\n",
    "img_base64 = base64.b64encode(img_buffer.read()).decode('utf-8')\n",
    "\n",
    "# Create a Plotly figure to display the image\n",
    "fig = go.Figure()\n",
    "\n",
    "# Add the image to the figure\n",
    "fig.add_layout_image(\n",
    "    dict(\n",
    "        source=f\"data:image/png;base64,{img_base64}\",\n",
    "        xref=\"paper\", yref=\"paper\",\n",
    "        x=0.5, y=0.5,  # Position at the center\n",
    "        sizex=1, sizey=1,  # Scale to fit\n",
    "        xanchor=\"center\", yanchor=\"middle\"\n",
    "    )\n",
    ")\n",
    "\n",
    "# Update the layout to remove axes and padding\n",
    "fig.update_layout(\n",
    "    width=800,\n",
    "    height=400,\n",
    "    margin=dict(l=0, r=0, t=0, b=0),\n",
    "    xaxis=dict(visible=False),\n",
    "    yaxis=dict(visible=False)\n",
    ")\n",
    "\n",
    "# Show the figure\n",
    "fig.show()\n"
   ]
  },
  {
   "cell_type": "code",
   "execution_count": 86,
   "metadata": {},
   "outputs": [],
   "source": []
  }
 ],
 "metadata": {
  "kernelspec": {
   "display_name": ".venv",
   "language": "python",
   "name": "python3"
  },
  "language_info": {
   "codemirror_mode": {
    "name": "ipython",
    "version": 3
   },
   "file_extension": ".py",
   "mimetype": "text/x-python",
   "name": "python",
   "nbconvert_exporter": "python",
   "pygments_lexer": "ipython3",
   "version": "3.12.0"
  }
 },
 "nbformat": 4,
 "nbformat_minor": 2
}
